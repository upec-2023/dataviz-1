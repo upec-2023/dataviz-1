{
 "cells": [
  {
   "cell_type": "markdown",
   "metadata": {
    "deletable": false,
    "editable": false,
    "function": "preliminary",
    "question_id": 1,
    "run_control": {
     "frozen": true
    }
   },
   "source": [
    "\n",
    "<hr style=\"border-width:2px;border-color:#75DFC1\">\n",
    "<center><h1>Introduction à la visualisation de données avec Bokeh</h1></center>\n",
    "<center><h2> Tracer des nuages de points et des courbes </h2></center>\n",
    "<hr style=\"border-width:2px;border-color:#75DFC1\">\n",
    "\n",
    "\n",
    "### Premiers pas avec bokeh\n",
    "\n",
    "\n",
    "> Pour utiliser le module ```bokeh``` afin de créer des graphiques interactifs, il faut importer la classe `figure` du sous-module **`bokeh.plotting`**. Cette classe permet d'instancier un graphique pour y afficher différents types de dessins.\n",
    ">\n",
    ">\n",
    "> Pour indiquer le mode d'affichage ou de sauvegarde, les fonctions `output_file`, `output_notebook` et `output_server` du sous-module sont utilisées (parfois conjointement).\n",
    ">\n",
    ">\n",
    "> La fonction `show` permet d'afficher les graphiques et les mises en page.\n",
    ">\n",
    "> Ainsi, pour créer et afficher des graphiques `bokeh` sur un *notebook* Jupyter, il faudra systématiquement éxécuter la cellule suivante au préalable:"
   ]
  },
  {
   "cell_type": "code",
   "execution_count": 27,
   "metadata": {
    "function": "preliminary",
    "question_id": 1,
    "ExecuteTime": {
     "end_time": "2023-11-29T14:31:53.301873Z",
     "start_time": "2023-11-29T14:31:53.296917Z"
    }
   },
   "outputs": [
    {
     "data": {
      "text/html": "<div class=\"bk-root\">\n        <a href=\"https://bokeh.org\" target=\"_blank\" class=\"bk-logo bk-logo-small bk-logo-notebook\"></a>\n        <span id=\"5621\">Loading BokehJS ...</span>\n    </div>\n"
     },
     "metadata": {},
     "output_type": "display_data"
    },
    {
     "data": {
      "application/javascript": "(function(root) {\n  function now() {\n    return new Date();\n  }\n\n  const force = true;\n\n  if (typeof root._bokeh_onload_callbacks === \"undefined\" || force === true) {\n    root._bokeh_onload_callbacks = [];\n    root._bokeh_is_loading = undefined;\n  }\n\nconst JS_MIME_TYPE = 'application/javascript';\n  const HTML_MIME_TYPE = 'text/html';\n  const EXEC_MIME_TYPE = 'application/vnd.bokehjs_exec.v0+json';\n  const CLASS_NAME = 'output_bokeh rendered_html';\n\n  /**\n   * Render data to the DOM node\n   */\n  function render(props, node) {\n    const script = document.createElement(\"script\");\n    node.appendChild(script);\n  }\n\n  /**\n   * Handle when an output is cleared or removed\n   */\n  function handleClearOutput(event, handle) {\n    const cell = handle.cell;\n\n    const id = cell.output_area._bokeh_element_id;\n    const server_id = cell.output_area._bokeh_server_id;\n    // Clean up Bokeh references\n    if (id != null && id in Bokeh.index) {\n      Bokeh.index[id].model.document.clear();\n      delete Bokeh.index[id];\n    }\n\n    if (server_id !== undefined) {\n      // Clean up Bokeh references\n      const cmd_clean = \"from bokeh.io.state import curstate; print(curstate().uuid_to_server['\" + server_id + \"'].get_sessions()[0].document.roots[0]._id)\";\n      cell.notebook.kernel.execute(cmd_clean, {\n        iopub: {\n          output: function(msg) {\n            const id = msg.content.text.trim();\n            if (id in Bokeh.index) {\n              Bokeh.index[id].model.document.clear();\n              delete Bokeh.index[id];\n            }\n          }\n        }\n      });\n      // Destroy server and session\n      const cmd_destroy = \"import bokeh.io.notebook as ion; ion.destroy_server('\" + server_id + \"')\";\n      cell.notebook.kernel.execute(cmd_destroy);\n    }\n  }\n\n  /**\n   * Handle when a new output is added\n   */\n  function handleAddOutput(event, handle) {\n    const output_area = handle.output_area;\n    const output = handle.output;\n\n    // limit handleAddOutput to display_data with EXEC_MIME_TYPE content only\n    if ((output.output_type != \"display_data\") || (!Object.prototype.hasOwnProperty.call(output.data, EXEC_MIME_TYPE))) {\n      return\n    }\n\n    const toinsert = output_area.element.find(\".\" + CLASS_NAME.split(' ')[0]);\n\n    if (output.metadata[EXEC_MIME_TYPE][\"id\"] !== undefined) {\n      toinsert[toinsert.length - 1].firstChild.textContent = output.data[JS_MIME_TYPE];\n      // store reference to embed id on output_area\n      output_area._bokeh_element_id = output.metadata[EXEC_MIME_TYPE][\"id\"];\n    }\n    if (output.metadata[EXEC_MIME_TYPE][\"server_id\"] !== undefined) {\n      const bk_div = document.createElement(\"div\");\n      bk_div.innerHTML = output.data[HTML_MIME_TYPE];\n      const script_attrs = bk_div.children[0].attributes;\n      for (let i = 0; i < script_attrs.length; i++) {\n        toinsert[toinsert.length - 1].firstChild.setAttribute(script_attrs[i].name, script_attrs[i].value);\n        toinsert[toinsert.length - 1].firstChild.textContent = bk_div.children[0].textContent\n      }\n      // store reference to server id on output_area\n      output_area._bokeh_server_id = output.metadata[EXEC_MIME_TYPE][\"server_id\"];\n    }\n  }\n\n  function register_renderer(events, OutputArea) {\n\n    function append_mime(data, metadata, element) {\n      // create a DOM node to render to\n      const toinsert = this.create_output_subarea(\n        metadata,\n        CLASS_NAME,\n        EXEC_MIME_TYPE\n      );\n      this.keyboard_manager.register_events(toinsert);\n      // Render to node\n      const props = {data: data, metadata: metadata[EXEC_MIME_TYPE]};\n      render(props, toinsert[toinsert.length - 1]);\n      element.append(toinsert);\n      return toinsert\n    }\n\n    /* Handle when an output is cleared or removed */\n    events.on('clear_output.CodeCell', handleClearOutput);\n    events.on('delete.Cell', handleClearOutput);\n\n    /* Handle when a new output is added */\n    events.on('output_added.OutputArea', handleAddOutput);\n\n    /**\n     * Register the mime type and append_mime function with output_area\n     */\n    OutputArea.prototype.register_mime_type(EXEC_MIME_TYPE, append_mime, {\n      /* Is output safe? */\n      safe: true,\n      /* Index of renderer in `output_area.display_order` */\n      index: 0\n    });\n  }\n\n  // register the mime type if in Jupyter Notebook environment and previously unregistered\n  if (root.Jupyter !== undefined) {\n    const events = require('base/js/events');\n    const OutputArea = require('notebook/js/outputarea').OutputArea;\n\n    if (OutputArea.prototype.mime_types().indexOf(EXEC_MIME_TYPE) == -1) {\n      register_renderer(events, OutputArea);\n    }\n  }\n  if (typeof (root._bokeh_timeout) === \"undefined\" || force === true) {\n    root._bokeh_timeout = Date.now() + 5000;\n    root._bokeh_failed_load = false;\n  }\n\n  const NB_LOAD_WARNING = {'data': {'text/html':\n     \"<div style='background-color: #fdd'>\\n\"+\n     \"<p>\\n\"+\n     \"BokehJS does not appear to have successfully loaded. If loading BokehJS from CDN, this \\n\"+\n     \"may be due to a slow or bad network connection. Possible fixes:\\n\"+\n     \"</p>\\n\"+\n     \"<ul>\\n\"+\n     \"<li>re-rerun `output_notebook()` to attempt to load from CDN again, or</li>\\n\"+\n     \"<li>use INLINE resources instead, as so:</li>\\n\"+\n     \"</ul>\\n\"+\n     \"<code>\\n\"+\n     \"from bokeh.resources import INLINE\\n\"+\n     \"output_notebook(resources=INLINE)\\n\"+\n     \"</code>\\n\"+\n     \"</div>\"}};\n\n  function display_loaded() {\n    const el = document.getElementById(\"5621\");\n    if (el != null) {\n      el.textContent = \"BokehJS is loading...\";\n    }\n    if (root.Bokeh !== undefined) {\n      if (el != null) {\n        el.textContent = \"BokehJS \" + root.Bokeh.version + \" successfully loaded.\";\n      }\n    } else if (Date.now() < root._bokeh_timeout) {\n      setTimeout(display_loaded, 100)\n    }\n  }\n\n  function run_callbacks() {\n    try {\n      root._bokeh_onload_callbacks.forEach(function(callback) {\n        if (callback != null)\n          callback();\n      });\n    } finally {\n      delete root._bokeh_onload_callbacks\n    }\n    console.debug(\"Bokeh: all callbacks have finished\");\n  }\n\n  function load_libs(css_urls, js_urls, callback) {\n    if (css_urls == null) css_urls = [];\n    if (js_urls == null) js_urls = [];\n\n    root._bokeh_onload_callbacks.push(callback);\n    if (root._bokeh_is_loading > 0) {\n      console.debug(\"Bokeh: BokehJS is being loaded, scheduling callback at\", now());\n      return null;\n    }\n    if (js_urls == null || js_urls.length === 0) {\n      run_callbacks();\n      return null;\n    }\n    console.debug(\"Bokeh: BokehJS not loaded, scheduling load and callback at\", now());\n    root._bokeh_is_loading = css_urls.length + js_urls.length;\n\n    function on_load() {\n      root._bokeh_is_loading--;\n      if (root._bokeh_is_loading === 0) {\n        console.debug(\"Bokeh: all BokehJS libraries/stylesheets loaded\");\n        run_callbacks()\n      }\n    }\n\n    function on_error(url) {\n      console.error(\"failed to load \" + url);\n    }\n\n    for (let i = 0; i < css_urls.length; i++) {\n      const url = css_urls[i];\n      const element = document.createElement(\"link\");\n      element.onload = on_load;\n      element.onerror = on_error.bind(null, url);\n      element.rel = \"stylesheet\";\n      element.type = \"text/css\";\n      element.href = url;\n      console.debug(\"Bokeh: injecting link tag for BokehJS stylesheet: \", url);\n      document.body.appendChild(element);\n    }\n\n    for (let i = 0; i < js_urls.length; i++) {\n      const url = js_urls[i];\n      const element = document.createElement('script');\n      element.onload = on_load;\n      element.onerror = on_error.bind(null, url);\n      element.async = false;\n      element.src = url;\n      console.debug(\"Bokeh: injecting script tag for BokehJS library: \", url);\n      document.head.appendChild(element);\n    }\n  };\n\n  function inject_raw_css(css) {\n    const element = document.createElement(\"style\");\n    element.appendChild(document.createTextNode(css));\n    document.body.appendChild(element);\n  }\n\n  const js_urls = [\"https://cdn.bokeh.org/bokeh/release/bokeh-2.4.3.min.js\", \"https://cdn.bokeh.org/bokeh/release/bokeh-gl-2.4.3.min.js\", \"https://cdn.bokeh.org/bokeh/release/bokeh-widgets-2.4.3.min.js\", \"https://cdn.bokeh.org/bokeh/release/bokeh-tables-2.4.3.min.js\", \"https://cdn.bokeh.org/bokeh/release/bokeh-mathjax-2.4.3.min.js\"];\n  const css_urls = [];\n\n  const inline_js = [    function(Bokeh) {\n      Bokeh.set_log_level(\"info\");\n    },\nfunction(Bokeh) {\n    }\n  ];\n\n  function run_inline_js() {\n    if (root.Bokeh !== undefined || force === true) {\n          for (let i = 0; i < inline_js.length; i++) {\n      inline_js[i].call(root, root.Bokeh);\n    }\nif (force === true) {\n        display_loaded();\n      }} else if (Date.now() < root._bokeh_timeout) {\n      setTimeout(run_inline_js, 100);\n    } else if (!root._bokeh_failed_load) {\n      console.log(\"Bokeh: BokehJS failed to load within specified timeout.\");\n      root._bokeh_failed_load = true;\n    } else if (force !== true) {\n      const cell = $(document.getElementById(\"5621\")).parents('.cell').data().cell;\n      cell.output_area.append_execute_result(NB_LOAD_WARNING)\n    }\n  }\n\n  if (root._bokeh_is_loading === 0) {\n    console.debug(\"Bokeh: BokehJS loaded, going straight to plotting\");\n    run_inline_js();\n  } else {\n    load_libs(css_urls, js_urls, function() {\n      console.debug(\"Bokeh: BokehJS plotting callback run at\", now());\n      run_inline_js();\n    });\n  }\n}(window));",
      "application/vnd.bokehjs_load.v0+json": "(function(root) {\n  function now() {\n    return new Date();\n  }\n\n  const force = true;\n\n  if (typeof root._bokeh_onload_callbacks === \"undefined\" || force === true) {\n    root._bokeh_onload_callbacks = [];\n    root._bokeh_is_loading = undefined;\n  }\n\n\n  if (typeof (root._bokeh_timeout) === \"undefined\" || force === true) {\n    root._bokeh_timeout = Date.now() + 5000;\n    root._bokeh_failed_load = false;\n  }\n\n  const NB_LOAD_WARNING = {'data': {'text/html':\n     \"<div style='background-color: #fdd'>\\n\"+\n     \"<p>\\n\"+\n     \"BokehJS does not appear to have successfully loaded. If loading BokehJS from CDN, this \\n\"+\n     \"may be due to a slow or bad network connection. Possible fixes:\\n\"+\n     \"</p>\\n\"+\n     \"<ul>\\n\"+\n     \"<li>re-rerun `output_notebook()` to attempt to load from CDN again, or</li>\\n\"+\n     \"<li>use INLINE resources instead, as so:</li>\\n\"+\n     \"</ul>\\n\"+\n     \"<code>\\n\"+\n     \"from bokeh.resources import INLINE\\n\"+\n     \"output_notebook(resources=INLINE)\\n\"+\n     \"</code>\\n\"+\n     \"</div>\"}};\n\n  function display_loaded() {\n    const el = document.getElementById(\"5621\");\n    if (el != null) {\n      el.textContent = \"BokehJS is loading...\";\n    }\n    if (root.Bokeh !== undefined) {\n      if (el != null) {\n        el.textContent = \"BokehJS \" + root.Bokeh.version + \" successfully loaded.\";\n      }\n    } else if (Date.now() < root._bokeh_timeout) {\n      setTimeout(display_loaded, 100)\n    }\n  }\n\n  function run_callbacks() {\n    try {\n      root._bokeh_onload_callbacks.forEach(function(callback) {\n        if (callback != null)\n          callback();\n      });\n    } finally {\n      delete root._bokeh_onload_callbacks\n    }\n    console.debug(\"Bokeh: all callbacks have finished\");\n  }\n\n  function load_libs(css_urls, js_urls, callback) {\n    if (css_urls == null) css_urls = [];\n    if (js_urls == null) js_urls = [];\n\n    root._bokeh_onload_callbacks.push(callback);\n    if (root._bokeh_is_loading > 0) {\n      console.debug(\"Bokeh: BokehJS is being loaded, scheduling callback at\", now());\n      return null;\n    }\n    if (js_urls == null || js_urls.length === 0) {\n      run_callbacks();\n      return null;\n    }\n    console.debug(\"Bokeh: BokehJS not loaded, scheduling load and callback at\", now());\n    root._bokeh_is_loading = css_urls.length + js_urls.length;\n\n    function on_load() {\n      root._bokeh_is_loading--;\n      if (root._bokeh_is_loading === 0) {\n        console.debug(\"Bokeh: all BokehJS libraries/stylesheets loaded\");\n        run_callbacks()\n      }\n    }\n\n    function on_error(url) {\n      console.error(\"failed to load \" + url);\n    }\n\n    for (let i = 0; i < css_urls.length; i++) {\n      const url = css_urls[i];\n      const element = document.createElement(\"link\");\n      element.onload = on_load;\n      element.onerror = on_error.bind(null, url);\n      element.rel = \"stylesheet\";\n      element.type = \"text/css\";\n      element.href = url;\n      console.debug(\"Bokeh: injecting link tag for BokehJS stylesheet: \", url);\n      document.body.appendChild(element);\n    }\n\n    for (let i = 0; i < js_urls.length; i++) {\n      const url = js_urls[i];\n      const element = document.createElement('script');\n      element.onload = on_load;\n      element.onerror = on_error.bind(null, url);\n      element.async = false;\n      element.src = url;\n      console.debug(\"Bokeh: injecting script tag for BokehJS library: \", url);\n      document.head.appendChild(element);\n    }\n  };\n\n  function inject_raw_css(css) {\n    const element = document.createElement(\"style\");\n    element.appendChild(document.createTextNode(css));\n    document.body.appendChild(element);\n  }\n\n  const js_urls = [\"https://cdn.bokeh.org/bokeh/release/bokeh-2.4.3.min.js\", \"https://cdn.bokeh.org/bokeh/release/bokeh-gl-2.4.3.min.js\", \"https://cdn.bokeh.org/bokeh/release/bokeh-widgets-2.4.3.min.js\", \"https://cdn.bokeh.org/bokeh/release/bokeh-tables-2.4.3.min.js\", \"https://cdn.bokeh.org/bokeh/release/bokeh-mathjax-2.4.3.min.js\"];\n  const css_urls = [];\n\n  const inline_js = [    function(Bokeh) {\n      Bokeh.set_log_level(\"info\");\n    },\nfunction(Bokeh) {\n    }\n  ];\n\n  function run_inline_js() {\n    if (root.Bokeh !== undefined || force === true) {\n          for (let i = 0; i < inline_js.length; i++) {\n      inline_js[i].call(root, root.Bokeh);\n    }\nif (force === true) {\n        display_loaded();\n      }} else if (Date.now() < root._bokeh_timeout) {\n      setTimeout(run_inline_js, 100);\n    } else if (!root._bokeh_failed_load) {\n      console.log(\"Bokeh: BokehJS failed to load within specified timeout.\");\n      root._bokeh_failed_load = true;\n    } else if (force !== true) {\n      const cell = $(document.getElementById(\"5621\")).parents('.cell').data().cell;\n      cell.output_area.append_execute_result(NB_LOAD_WARNING)\n    }\n  }\n\n  if (root._bokeh_is_loading === 0) {\n    console.debug(\"Bokeh: BokehJS loaded, going straight to plotting\");\n    run_inline_js();\n  } else {\n    load_libs(css_urls, js_urls, function() {\n      console.debug(\"Bokeh: BokehJS plotting callback run at\", now());\n      run_inline_js();\n    });\n  }\n}(window));"
     },
     "metadata": {},
     "output_type": "display_data"
    }
   ],
   "source": [
    "import warnings\n",
    "warnings.filterwarnings(\"ignore\")\n",
    "from bokeh.plotting import figure, show, output_notebook\n",
    "output_notebook()"
   ]
  },
  {
   "cell_type": "markdown",
   "metadata": {
    "deletable": false,
    "editable": false,
    "function": "preliminary",
    "question_id": 1,
    "run_control": {
     "frozen": true
    }
   },
   "source": [
    "><div class=\"alert alert-info\">\n",
    "><i class=\"fa fa-info-circle\"></i> &emsp; \n",
    ">L'instruction <code style = \"background-color: transparent ; color : inherit\">output_notebook</code> permet d'afficher tous les futurs graphiques dans l'output d'une cellule jupyter. Si cette instruction n'est pas lancée, la figure s'affichera dans un nouvel onglet.\n",
    "></div>\n",
    ">\n",
    ">\n",
    "> Pour créer une courbe à partir de deux listes de coordonnées **`x`** et **`y`**, nous allons instancier une `figure` **`p`** et appeler sa méthode ``line`` avec les arguments **`x`** et **`y`**. Ensuite, pour afficher la courbe dans l'output de la cellule, il faut utiliser la fonction `show` dont l'argument doit être un objet de type `figure`.\n",
    "\n",
    "\n",
    "* Lancer le code suivant pour créer et afficher un premier graphique."
   ]
  },
  {
   "cell_type": "code",
   "execution_count": 28,
   "metadata": {
    "function": "preliminary",
    "question_id": 1,
    "ExecuteTime": {
     "end_time": "2023-11-29T14:31:54.020092Z",
     "start_time": "2023-11-29T14:31:54.017131Z"
    }
   },
   "outputs": [
    {
     "data": {
      "text/html": "\n  <div class=\"bk-root\" id=\"e7bdb303-fac9-4478-a9d5-105cb1fe1ca5\" data-root-id=\"5622\"></div>\n"
     },
     "metadata": {},
     "output_type": "display_data"
    },
    {
     "data": {
      "application/javascript": "(function(root) {\n  function embed_document(root) {\n  const docs_json = {\"39b806d0-516e-4f92-a63c-98bdc61bc6b2\":{\"defs\":[],\"roots\":{\"references\":[{\"attributes\":{\"below\":[{\"id\":\"5631\"}],\"center\":[{\"id\":\"5634\"},{\"id\":\"5638\"}],\"left\":[{\"id\":\"5635\"}],\"renderers\":[{\"id\":\"5657\"}],\"title\":{\"id\":\"5859\"},\"toolbar\":{\"id\":\"5646\"},\"x_range\":{\"id\":\"5623\"},\"x_scale\":{\"id\":\"5627\"},\"y_range\":{\"id\":\"5625\"},\"y_scale\":{\"id\":\"5629\"}},\"id\":\"5622\",\"subtype\":\"Figure\",\"type\":\"Plot\"},{\"attributes\":{\"coordinates\":null,\"group\":null,\"text_color\":\"#5B5B5B\",\"text_font\":\"Calibri Light\",\"text_font_size\":\"1.25em\",\"text_font_style\":\"bold\"},\"id\":\"5859\",\"type\":\"Title\"},{\"attributes\":{\"coordinates\":null,\"data_source\":{\"id\":\"5653\"},\"glyph\":{\"id\":\"5654\"},\"group\":null,\"hover_glyph\":null,\"muted_glyph\":{\"id\":\"5656\"},\"nonselection_glyph\":{\"id\":\"5655\"},\"view\":{\"id\":\"5658\"}},\"id\":\"5657\",\"type\":\"GlyphRenderer\"},{\"attributes\":{\"axis_label_standoff\":10,\"axis_label_text_color\":\"#5B5B5B\",\"axis_label_text_font\":\"Calibri Light\",\"axis_label_text_font_size\":\"1.15em\",\"axis_label_text_font_style\":\"bold\",\"axis_line_alpha\":1,\"axis_line_color\":\"#5B5B5B\",\"coordinates\":null,\"formatter\":{\"id\":\"5862\"},\"group\":null,\"major_label_policy\":{\"id\":\"5863\"},\"major_label_text_color\":\"#5B5B5B\",\"major_label_text_font\":\"Calibri Light\",\"major_label_text_font_size\":\"0.95em\",\"major_label_text_font_style\":\"bold\",\"major_tick_in\":0,\"major_tick_line_alpha\":0.25,\"major_tick_line_color\":\"#5B5B5B\",\"major_tick_out\":3,\"minor_tick_line_alpha\":0.25,\"minor_tick_line_color\":\"#5B5B5B\",\"ticker\":{\"id\":\"5636\"}},\"id\":\"5635\",\"type\":\"LinearAxis\"},{\"attributes\":{},\"id\":\"5629\",\"type\":\"LinearScale\"},{\"attributes\":{},\"id\":\"5865\",\"type\":\"BasicTickFormatter\"},{\"attributes\":{\"axis\":{\"id\":\"5635\"},\"coordinates\":null,\"dimension\":1,\"group\":null,\"ticker\":null},\"id\":\"5638\",\"type\":\"Grid\"},{\"attributes\":{\"axis\":{\"id\":\"5631\"},\"coordinates\":null,\"group\":null,\"ticker\":null},\"id\":\"5634\",\"type\":\"Grid\"},{\"attributes\":{\"source\":{\"id\":\"5653\"}},\"id\":\"5658\",\"type\":\"CDSView\"},{\"attributes\":{},\"id\":\"5627\",\"type\":\"LinearScale\"},{\"attributes\":{\"data\":{\"x\":[1,2,3,4,5],\"y\":[1,2,3,4,5]},\"selected\":{\"id\":\"5868\"},\"selection_policy\":{\"id\":\"5867\"}},\"id\":\"5653\",\"type\":\"ColumnDataSource\"},{\"attributes\":{},\"id\":\"5866\",\"type\":\"AllLabels\"},{\"attributes\":{\"line_alpha\":0.1,\"line_color\":\"#1f77b4\",\"x\":{\"field\":\"x\"},\"y\":{\"field\":\"y\"}},\"id\":\"5655\",\"type\":\"Line\"},{\"attributes\":{\"axis_label_standoff\":10,\"axis_label_text_color\":\"#5B5B5B\",\"axis_label_text_font\":\"Calibri Light\",\"axis_label_text_font_size\":\"1.15em\",\"axis_label_text_font_style\":\"bold\",\"axis_line_alpha\":1,\"axis_line_color\":\"#5B5B5B\",\"coordinates\":null,\"formatter\":{\"id\":\"5865\"},\"group\":null,\"major_label_policy\":{\"id\":\"5866\"},\"major_label_text_color\":\"#5B5B5B\",\"major_label_text_font\":\"Calibri Light\",\"major_label_text_font_size\":\"0.95em\",\"major_label_text_font_style\":\"bold\",\"major_tick_in\":0,\"major_tick_line_alpha\":0.25,\"major_tick_line_color\":\"#5B5B5B\",\"major_tick_out\":3,\"minor_tick_line_alpha\":0.25,\"minor_tick_line_color\":\"#5B5B5B\",\"ticker\":{\"id\":\"5632\"}},\"id\":\"5631\",\"type\":\"LinearAxis\"},{\"attributes\":{\"line_color\":\"#1f77b4\",\"x\":{\"field\":\"x\"},\"y\":{\"field\":\"y\"}},\"id\":\"5654\",\"type\":\"Line\"},{\"attributes\":{},\"id\":\"5868\",\"type\":\"Selection\"},{\"attributes\":{\"overlay\":{\"id\":\"5645\"}},\"id\":\"5641\",\"type\":\"BoxZoomTool\"},{\"attributes\":{},\"id\":\"5862\",\"type\":\"BasicTickFormatter\"},{\"attributes\":{\"bottom_units\":\"screen\",\"coordinates\":null,\"fill_alpha\":0.5,\"fill_color\":\"lightgrey\",\"group\":null,\"left_units\":\"screen\",\"level\":\"overlay\",\"line_alpha\":1.0,\"line_color\":\"black\",\"line_dash\":[4,4],\"line_width\":2,\"right_units\":\"screen\",\"syncable\":false,\"top_units\":\"screen\"},\"id\":\"5645\",\"type\":\"BoxAnnotation\"},{\"attributes\":{},\"id\":\"5863\",\"type\":\"AllLabels\"},{\"attributes\":{\"line_alpha\":0.2,\"line_color\":\"#1f77b4\",\"x\":{\"field\":\"x\"},\"y\":{\"field\":\"y\"}},\"id\":\"5656\",\"type\":\"Line\"},{\"attributes\":{},\"id\":\"5644\",\"type\":\"HelpTool\"},{\"attributes\":{\"tools\":[{\"id\":\"5639\"},{\"id\":\"5640\"},{\"id\":\"5641\"},{\"id\":\"5642\"},{\"id\":\"5643\"},{\"id\":\"5644\"}]},\"id\":\"5646\",\"type\":\"Toolbar\"},{\"attributes\":{},\"id\":\"5643\",\"type\":\"ResetTool\"},{\"attributes\":{},\"id\":\"5642\",\"type\":\"SaveTool\"},{\"attributes\":{},\"id\":\"5623\",\"type\":\"DataRange1d\"},{\"attributes\":{},\"id\":\"5639\",\"type\":\"PanTool\"},{\"attributes\":{},\"id\":\"5867\",\"type\":\"UnionRenderers\"},{\"attributes\":{},\"id\":\"5640\",\"type\":\"WheelZoomTool\"},{\"attributes\":{},\"id\":\"5636\",\"type\":\"BasicTicker\"},{\"attributes\":{},\"id\":\"5632\",\"type\":\"BasicTicker\"},{\"attributes\":{},\"id\":\"5625\",\"type\":\"DataRange1d\"}],\"root_ids\":[\"5622\"]},\"title\":\"Bokeh Application\",\"version\":\"2.4.3\"}};\n  const render_items = [{\"docid\":\"39b806d0-516e-4f92-a63c-98bdc61bc6b2\",\"root_ids\":[\"5622\"],\"roots\":{\"5622\":\"e7bdb303-fac9-4478-a9d5-105cb1fe1ca5\"}}];\n  root.Bokeh.embed.embed_items_notebook(docs_json, render_items);\n  }\n  if (root.Bokeh !== undefined) {\n    embed_document(root);\n  } else {\n    let attempts = 0;\n    const timer = setInterval(function(root) {\n      if (root.Bokeh !== undefined) {\n        clearInterval(timer);\n        embed_document(root);\n      } else {\n        attempts++;\n        if (attempts > 100) {\n          clearInterval(timer);\n          console.log(\"Bokeh: ERROR: Unable to run BokehJS code because BokehJS library is missing\");\n        }\n      }\n    }, 10, root)\n  }\n})(window);",
      "application/vnd.bokehjs_exec.v0+json": ""
     },
     "metadata": {
      "application/vnd.bokehjs_exec.v0+json": {
       "id": "5622"
      }
     },
     "output_type": "display_data"
    }
   ],
   "source": [
    "from bokeh.plotting import figure # Importation de la classe figure qui permet de créer un graphique bokeh.\n",
    "from bokeh.plotting import show   # Importation de la fonction show qui permet d'afficher une figure.\n",
    "\n",
    "\n",
    "# Instanciation d'une figure\n",
    "\n",
    "p = figure()\n",
    "\n",
    "# Listes de coordonnées\n",
    "\n",
    "x = [1, 2, 3, 4, 5]  # abscisses de chaque point\n",
    "y = [1, 2, 3, 4, 5]  # ordonnées de chaque point\n",
    "\n",
    "# Création d'une courbe de type 'line' dans la figure p\n",
    "\n",
    "p.line(x,    # abscisses\n",
    "       y)    # ordonnées\n",
    "      \n",
    "# Affichage de la figure p dans l'output de la cellule\n",
    "show(p) "
   ]
  },
  {
   "cell_type": "markdown",
   "metadata": {
    "deletable": false,
    "editable": false,
    "function": "preliminary",
    "question_id": 1,
    "run_control": {
     "frozen": true
    }
   },
   "source": [
    "> Le constructeur de la classe `figure`  dispose de plusieurs paramètres qui permettent d'ajuster les outils et les aspects du graphique. Par exemple:\n",
    ">\n",
    ">\n",
    ">- `plot_width` ou `plot_height` permettent respectivement d'ajuster la **largeur** et la **hauteur** du graphique.\n",
    ">\n",
    ">\n",
    ">- `title`, `x_axis_label` et `y_axis_label` permettent d'ajouter un **titre** au graphique ou des **labels** aux axes.\n",
    ">\n",
    ">\n",
    ">- `x_range` et `y_range` permettent de délimiter les axes des abscisses et ordonnées.\n",
    ">\n",
    ">\n",
    "><div class=\"alert alert-info\">\n",
    "><i class=\"fa fa-info-circle\"></i> &emsp; \n",
    "> La liste complète des paramètres du constructeur de la classe <code style = 'background-color: transparent ; color : inherit'>figure</code> est accessible dans la documentation <code style = 'background-color: transparent ; color : inherit'>bokeh</code> que vous pouvez trouver <a href=\"https://bokeh.pydata.org/en/latest/docs/reference/plotting.html\" target=\"_blank\">ici</a>.\n",
    "></div>\n",
    ">\n",
    ">\n",
    "> Si aucun argument n'est donné, une figure de dimensions 600 x 600 est créée, et les outils par défaut sont ajoutés dans la barre d'outils située en haut à droite.\n",
    "\n",
    "* Importer la classe `figure` depuis le sous-module `bokeh.plotting`.\n",
    "\n",
    "\n",
    "* Importer la fonction `show` depuis le sous-module `bokeh.plotting`.\n",
    "\n",
    "\n",
    "* Instancier une figure `p` de largeur 500 et de hauteur 400, avec pour titre: \"Ma première courbe Bokeh\".\n",
    "\n",
    "\n",
    "* Tracer une ligne prenant en abscisse les valeurs [0,2,4,6,8] et en ordonnée les valeurs [1,4,4,8,12]."
   ]
  },
  {
   "cell_type": "code",
   "execution_count": 29,
   "metadata": {
    "function": "preliminary",
    "question_id": 1,
    "ExecuteTime": {
     "end_time": "2023-11-29T14:31:55.117298Z",
     "start_time": "2023-11-29T14:31:55.089534Z"
    }
   },
   "outputs": [
    {
     "data": {
      "text/html": "\n  <div class=\"bk-root\" id=\"cc5beeb8-621f-4a5e-8495-c7e9223a9e6c\" data-root-id=\"5925\"></div>\n"
     },
     "metadata": {},
     "output_type": "display_data"
    },
    {
     "data": {
      "application/javascript": "(function(root) {\n  function embed_document(root) {\n  const docs_json = {\"3fa1993b-20d6-41d6-9458-42d53ecb9fd4\":{\"defs\":[],\"roots\":{\"references\":[{\"attributes\":{\"below\":[{\"id\":\"5936\"}],\"center\":[{\"id\":\"5939\"},{\"id\":\"5943\"}],\"height\":400,\"left\":[{\"id\":\"5940\"}],\"renderers\":[{\"id\":\"5962\"}],\"title\":{\"id\":\"5926\"},\"toolbar\":{\"id\":\"5951\"},\"width\":500,\"x_range\":{\"id\":\"5928\"},\"x_scale\":{\"id\":\"5932\"},\"y_range\":{\"id\":\"5930\"},\"y_scale\":{\"id\":\"5934\"}},\"id\":\"5925\",\"subtype\":\"Figure\",\"type\":\"Plot\"},{\"attributes\":{},\"id\":\"5930\",\"type\":\"DataRange1d\"},{\"attributes\":{},\"id\":\"6178\",\"type\":\"AllLabels\"},{\"attributes\":{\"coordinates\":null,\"data_source\":{\"id\":\"5958\"},\"glyph\":{\"id\":\"5959\"},\"group\":null,\"hover_glyph\":null,\"muted_glyph\":{\"id\":\"5961\"},\"nonselection_glyph\":{\"id\":\"5960\"},\"view\":{\"id\":\"5963\"}},\"id\":\"5962\",\"type\":\"GlyphRenderer\"},{\"attributes\":{\"axis_label_standoff\":10,\"axis_label_text_color\":\"#5B5B5B\",\"axis_label_text_font\":\"Calibri Light\",\"axis_label_text_font_size\":\"1.15em\",\"axis_label_text_font_style\":\"bold\",\"axis_line_alpha\":1,\"axis_line_color\":\"#5B5B5B\",\"coordinates\":null,\"formatter\":{\"id\":\"6177\"},\"group\":null,\"major_label_policy\":{\"id\":\"6178\"},\"major_label_text_color\":\"#5B5B5B\",\"major_label_text_font\":\"Calibri Light\",\"major_label_text_font_size\":\"0.95em\",\"major_label_text_font_style\":\"bold\",\"major_tick_in\":0,\"major_tick_line_alpha\":0.25,\"major_tick_line_color\":\"#5B5B5B\",\"major_tick_out\":3,\"minor_tick_line_alpha\":0.25,\"minor_tick_line_color\":\"#5B5B5B\",\"ticker\":{\"id\":\"5941\"}},\"id\":\"5940\",\"type\":\"LinearAxis\"},{\"attributes\":{\"tools\":[{\"id\":\"5944\"},{\"id\":\"5945\"},{\"id\":\"5946\"},{\"id\":\"5947\"},{\"id\":\"5948\"},{\"id\":\"5949\"}]},\"id\":\"5951\",\"type\":\"Toolbar\"},{\"attributes\":{},\"id\":\"5944\",\"type\":\"PanTool\"},{\"attributes\":{\"line_alpha\":0.2,\"line_color\":\"#1f77b4\",\"x\":{\"field\":\"x\"},\"y\":{\"field\":\"y\"}},\"id\":\"5961\",\"type\":\"Line\"},{\"attributes\":{},\"id\":\"6181\",\"type\":\"AllLabels\"},{\"attributes\":{},\"id\":\"5949\",\"type\":\"HelpTool\"},{\"attributes\":{},\"id\":\"5941\",\"type\":\"BasicTicker\"},{\"attributes\":{\"axis_label_standoff\":10,\"axis_label_text_color\":\"#5B5B5B\",\"axis_label_text_font\":\"Calibri Light\",\"axis_label_text_font_size\":\"1.15em\",\"axis_label_text_font_style\":\"bold\",\"axis_line_alpha\":1,\"axis_line_color\":\"#5B5B5B\",\"coordinates\":null,\"formatter\":{\"id\":\"6180\"},\"group\":null,\"major_label_policy\":{\"id\":\"6181\"},\"major_label_text_color\":\"#5B5B5B\",\"major_label_text_font\":\"Calibri Light\",\"major_label_text_font_size\":\"0.95em\",\"major_label_text_font_style\":\"bold\",\"major_tick_in\":0,\"major_tick_line_alpha\":0.25,\"major_tick_line_color\":\"#5B5B5B\",\"major_tick_out\":3,\"minor_tick_line_alpha\":0.25,\"minor_tick_line_color\":\"#5B5B5B\",\"ticker\":{\"id\":\"5937\"}},\"id\":\"5936\",\"type\":\"LinearAxis\"},{\"attributes\":{},\"id\":\"5934\",\"type\":\"LinearScale\"},{\"attributes\":{},\"id\":\"6180\",\"type\":\"BasicTickFormatter\"},{\"attributes\":{},\"id\":\"5948\",\"type\":\"ResetTool\"},{\"attributes\":{\"coordinates\":null,\"group\":null,\"text\":\"Ma premi\\u00e8re courbe Bokeh\",\"text_color\":\"#5B5B5B\",\"text_font\":\"Calibri Light\",\"text_font_size\":\"1.25em\",\"text_font_style\":\"bold\"},\"id\":\"5926\",\"type\":\"Title\"},{\"attributes\":{},\"id\":\"6183\",\"type\":\"Selection\"},{\"attributes\":{},\"id\":\"5945\",\"type\":\"WheelZoomTool\"},{\"attributes\":{},\"id\":\"5947\",\"type\":\"SaveTool\"},{\"attributes\":{\"overlay\":{\"id\":\"5950\"}},\"id\":\"5946\",\"type\":\"BoxZoomTool\"},{\"attributes\":{\"axis\":{\"id\":\"5936\"},\"coordinates\":null,\"group\":null,\"ticker\":null},\"id\":\"5939\",\"type\":\"Grid\"},{\"attributes\":{\"axis\":{\"id\":\"5940\"},\"coordinates\":null,\"dimension\":1,\"group\":null,\"ticker\":null},\"id\":\"5943\",\"type\":\"Grid\"},{\"attributes\":{\"data\":{\"x\":[0,2,4,6,8],\"y\":[1,4,4,8,12]},\"selected\":{\"id\":\"6183\"},\"selection_policy\":{\"id\":\"6182\"}},\"id\":\"5958\",\"type\":\"ColumnDataSource\"},{\"attributes\":{},\"id\":\"5928\",\"type\":\"DataRange1d\"},{\"attributes\":{\"line_alpha\":0.1,\"line_color\":\"#1f77b4\",\"x\":{\"field\":\"x\"},\"y\":{\"field\":\"y\"}},\"id\":\"5960\",\"type\":\"Line\"},{\"attributes\":{},\"id\":\"5932\",\"type\":\"LinearScale\"},{\"attributes\":{},\"id\":\"6177\",\"type\":\"BasicTickFormatter\"},{\"attributes\":{},\"id\":\"6182\",\"type\":\"UnionRenderers\"},{\"attributes\":{\"source\":{\"id\":\"5958\"}},\"id\":\"5963\",\"type\":\"CDSView\"},{\"attributes\":{},\"id\":\"5937\",\"type\":\"BasicTicker\"},{\"attributes\":{\"line_color\":\"#1f77b4\",\"x\":{\"field\":\"x\"},\"y\":{\"field\":\"y\"}},\"id\":\"5959\",\"type\":\"Line\"},{\"attributes\":{\"bottom_units\":\"screen\",\"coordinates\":null,\"fill_alpha\":0.5,\"fill_color\":\"lightgrey\",\"group\":null,\"left_units\":\"screen\",\"level\":\"overlay\",\"line_alpha\":1.0,\"line_color\":\"black\",\"line_dash\":[4,4],\"line_width\":2,\"right_units\":\"screen\",\"syncable\":false,\"top_units\":\"screen\"},\"id\":\"5950\",\"type\":\"BoxAnnotation\"}],\"root_ids\":[\"5925\"]},\"title\":\"Bokeh Application\",\"version\":\"2.4.3\"}};\n  const render_items = [{\"docid\":\"3fa1993b-20d6-41d6-9458-42d53ecb9fd4\",\"root_ids\":[\"5925\"],\"roots\":{\"5925\":\"cc5beeb8-621f-4a5e-8495-c7e9223a9e6c\"}}];\n  root.Bokeh.embed.embed_items_notebook(docs_json, render_items);\n  }\n  if (root.Bokeh !== undefined) {\n    embed_document(root);\n  } else {\n    let attempts = 0;\n    const timer = setInterval(function(root) {\n      if (root.Bokeh !== undefined) {\n        clearInterval(timer);\n        embed_document(root);\n      } else {\n        attempts++;\n        if (attempts > 100) {\n          clearInterval(timer);\n          console.log(\"Bokeh: ERROR: Unable to run BokehJS code because BokehJS library is missing\");\n        }\n      }\n    }, 10, root)\n  }\n})(window);",
      "application/vnd.bokehjs_exec.v0+json": ""
     },
     "metadata": {
      "application/vnd.bokehjs_exec.v0+json": {
       "id": "5925"
      }
     },
     "output_type": "display_data"
    }
   ],
   "source": [
    "### Insérez votre code ici\n",
    "from bokeh.plotting import figure\n",
    "from bokeh.plotting import show\n",
    "\n",
    "p = figure(width = 500, height = 400, title = \"Ma première courbe Bokeh\")\n",
    "\n",
    "p.line([0,2,4,6,8],\n",
    "       [1,4,4,8,12])\n",
    "\n",
    "show(p)\n"
   ]
  },
  {
   "cell_type": "markdown",
   "metadata": {
    "deletable": false,
    "editable": false,
    "function": "preliminary",
    "question_id": 1,
    "run_control": {
     "frozen": true
    }
   },
   "source": [
    "> Les méthodes comme `line` de la classe `figure` qui permettent de générer un type de graphique particulier sont appelées des méthodes \"**glyph**\" car elles instancient des objets de la classe `Glyph` de `bokeh`. Ces objets de type `Glyph` contiennent les attributs tels que la couleur, la forme ou les coordonnées des points, le type de graphique, etc., qui permettent à l'utilisateur de personnaliser un graphique.\n",
    ">\n",
    ">\n",
    "> C'est pourquoi les caractéristiques d'une courbe ou d'un nuage de points sont toujours définies **en argument d'une méthode *glyph*** et **non dans le constructeur de la figure**.\n",
    ">\n",
    ">\n",
    "> Dans l'exemple suivant, nous allons générer un nuage de points tel que les points sont représentés par des cercles de taille 10 et de couleur rouge.\n",
    "> ```py\n",
    "    p = figure()  # Instanciation d'une figure\n",
    "        ```\n",
    "> ```py\n",
    "    p.circle(x, y, size=10, color='red')   # Création du nuage de points\n",
    "    ```\n",
    "> <br>\n",
    ">\n",
    "> * La méthode *glyph* `circle` génère un nuage de points où les points seront tous représentés par des cercles.\n",
    ">\n",
    ">\n",
    "> * Le paramètre `size` définit la taille des cercles.\n",
    ">\n",
    ">\n",
    "> * Le paramètre `color` définit la couleur des points.\n",
    ">\n",
    ">\n",
    ">\n",
    "> <div class='alert alert-warning'>\n",
    "<i class='fa fa-exclamation-circle'></i> &emsp; \n",
    "Les arguments  <code style = \"background-color: transparent ; color : inherit\"><b>size</b></code> \n",
    "et <code style = \"background-color: transparent ; color : inherit\"><b>color</b></code> peuvent recevoir des listes, à la condition qu'elles soient de même taille que la liste des points à tracer. Ainsi, chaque point peut avoir sa propre taille et couleur.\n",
    "</div>\n",
    "\n",
    "* Instancier une figure de dimensions 500 x 500 ( paramètres `plot_width` et `plot_height` ).\n",
    "\n",
    "\n",
    "* Créer les listes :\n",
    "    * `x` = `[1, 2, 3, 4, 5]` qui sera la liste des coordonnées en abscisse des deux nuages que nous allons dessiner.        \n",
    "    \n",
    "    * `y1` = `[0, 2, 3, 8, 15]` qui sera la liste des coordonnées en ordonnée du premier nuage.\n",
    "    \n",
    "    * `y2` = `[5, 8, 11, 16, 22]` qui sera la liste des coordonnées en ordonnée du deuxième nuage.\n",
    "    \n",
    "\n",
    "\n",
    "* Représenter les points de coordonnées `x` et `y1` en noir en utilisant la méthode *glyph* `circle`.\n",
    "\n",
    "\n",
    "* Représenter sur la même figure les points de coordonnées `x` et `y2` grâce à la méthode *glyph* `square` avec les paramètres suivants:\n",
    "    * La taille des carrés doit être de 15.\n",
    "    \n",
    "    * Le premier point doit être jaune (`'yellow'`).\n",
    "    \n",
    "    * Le deuxième point doit être orange (`'orange'`).\n",
    "    \n",
    "    * Le troisième point doit être rouge (`'red'`).\n",
    "    \n",
    "    * Le quatrième point doit être rose (`'pink'`).\n",
    "    \n",
    "    * Le cinquième point doit être violet (`'purple'`).\n",
    "\n",
    "<div class=\"alert alert-info\">\n",
    "<i class=\"fa fa-info-circle\"></i> &emsp; \n",
    "Pour afficher plusieurs graphes sur une seule figure, il suffit d'appeler plusieurs méthodes sur un même objet de classe <code style = \"background-color: transparent ; color : inherit\"><b>figure</b>.</code></div>"
   ]
  },
  {
   "cell_type": "code",
   "execution_count": 30,
   "metadata": {
    "function": "submission",
    "question_id": 1,
    "ExecuteTime": {
     "end_time": "2023-11-29T14:31:56.340566Z",
     "start_time": "2023-11-29T14:31:56.329584Z"
    }
   },
   "outputs": [
    {
     "data": {
      "text/html": "\n  <div class=\"bk-root\" id=\"6bc0bef2-0676-4338-9998-8c6abe940404\" data-root-id=\"6235\"></div>\n"
     },
     "metadata": {},
     "output_type": "display_data"
    },
    {
     "data": {
      "application/javascript": "(function(root) {\n  function embed_document(root) {\n  const docs_json = {\"3c7ff3c8-13cb-40ba-bd45-11b6a534bc45\":{\"defs\":[],\"roots\":{\"references\":[{\"attributes\":{\"below\":[{\"id\":\"6244\"}],\"center\":[{\"id\":\"6247\"},{\"id\":\"6251\"}],\"height\":500,\"left\":[{\"id\":\"6248\"}],\"renderers\":[{\"id\":\"6270\"},{\"id\":\"6276\"}],\"title\":{\"id\":\"6499\"},\"toolbar\":{\"id\":\"6259\"},\"width\":500,\"x_range\":{\"id\":\"6236\"},\"x_scale\":{\"id\":\"6240\"},\"y_range\":{\"id\":\"6238\"},\"y_scale\":{\"id\":\"6242\"}},\"id\":\"6235\",\"subtype\":\"Figure\",\"type\":\"Plot\"},{\"attributes\":{},\"id\":\"6507\",\"type\":\"UnionRenderers\"},{\"attributes\":{},\"id\":\"6509\",\"type\":\"UnionRenderers\"},{\"attributes\":{\"fill_alpha\":{\"value\":0.1},\"fill_color\":{\"value\":\"black\"},\"hatch_alpha\":{\"value\":0.1},\"line_alpha\":{\"value\":0.1},\"x\":{\"field\":\"x\"},\"y\":{\"field\":\"y\"}},\"id\":\"6268\",\"type\":\"Circle\"},{\"attributes\":{\"axis_label_standoff\":10,\"axis_label_text_color\":\"#5B5B5B\",\"axis_label_text_font\":\"Calibri Light\",\"axis_label_text_font_size\":\"1.15em\",\"axis_label_text_font_style\":\"bold\",\"axis_line_alpha\":1,\"axis_line_color\":\"#5B5B5B\",\"coordinates\":null,\"formatter\":{\"id\":\"6505\"},\"group\":null,\"major_label_policy\":{\"id\":\"6506\"},\"major_label_text_color\":\"#5B5B5B\",\"major_label_text_font\":\"Calibri Light\",\"major_label_text_font_size\":\"0.95em\",\"major_label_text_font_style\":\"bold\",\"major_tick_in\":0,\"major_tick_line_alpha\":0.25,\"major_tick_line_color\":\"#5B5B5B\",\"major_tick_out\":3,\"minor_tick_line_alpha\":0.25,\"minor_tick_line_color\":\"#5B5B5B\",\"ticker\":{\"id\":\"6245\"}},\"id\":\"6244\",\"type\":\"LinearAxis\"},{\"attributes\":{},\"id\":\"6506\",\"type\":\"AllLabels\"},{\"attributes\":{},\"id\":\"6236\",\"type\":\"DataRange1d\"},{\"attributes\":{},\"id\":\"6253\",\"type\":\"WheelZoomTool\"},{\"attributes\":{},\"id\":\"6508\",\"type\":\"Selection\"},{\"attributes\":{\"coordinates\":null,\"group\":null,\"text_color\":\"#5B5B5B\",\"text_font\":\"Calibri Light\",\"text_font_size\":\"1.25em\",\"text_font_style\":\"bold\"},\"id\":\"6499\",\"type\":\"Title\"},{\"attributes\":{},\"id\":\"6505\",\"type\":\"BasicTickFormatter\"},{\"attributes\":{},\"id\":\"6510\",\"type\":\"Selection\"},{\"attributes\":{\"overlay\":{\"id\":\"6258\"}},\"id\":\"6254\",\"type\":\"BoxZoomTool\"},{\"attributes\":{\"fill_alpha\":{\"value\":0.2},\"fill_color\":{\"field\":\"fill_color\"},\"hatch_alpha\":{\"value\":0.2},\"hatch_color\":{\"field\":\"hatch_color\"},\"line_alpha\":{\"value\":0.2},\"line_color\":{\"field\":\"line_color\"},\"marker\":{\"value\":\"square\"},\"size\":{\"value\":15},\"x\":{\"field\":\"x\"},\"y\":{\"field\":\"y\"}},\"id\":\"6275\",\"type\":\"Scatter\"},{\"attributes\":{},\"id\":\"6255\",\"type\":\"SaveTool\"},{\"attributes\":{},\"id\":\"6252\",\"type\":\"PanTool\"},{\"attributes\":{},\"id\":\"6256\",\"type\":\"ResetTool\"},{\"attributes\":{\"axis_label_standoff\":10,\"axis_label_text_color\":\"#5B5B5B\",\"axis_label_text_font\":\"Calibri Light\",\"axis_label_text_font_size\":\"1.15em\",\"axis_label_text_font_style\":\"bold\",\"axis_line_alpha\":1,\"axis_line_color\":\"#5B5B5B\",\"coordinates\":null,\"formatter\":{\"id\":\"6502\"},\"group\":null,\"major_label_policy\":{\"id\":\"6503\"},\"major_label_text_color\":\"#5B5B5B\",\"major_label_text_font\":\"Calibri Light\",\"major_label_text_font_size\":\"0.95em\",\"major_label_text_font_style\":\"bold\",\"major_tick_in\":0,\"major_tick_line_alpha\":0.25,\"major_tick_line_color\":\"#5B5B5B\",\"major_tick_out\":3,\"minor_tick_line_alpha\":0.25,\"minor_tick_line_color\":\"#5B5B5B\",\"ticker\":{\"id\":\"6249\"}},\"id\":\"6248\",\"type\":\"LinearAxis\"},{\"attributes\":{},\"id\":\"6503\",\"type\":\"AllLabels\"},{\"attributes\":{\"fill_color\":{\"value\":\"black\"},\"x\":{\"field\":\"x\"},\"y\":{\"field\":\"y\"}},\"id\":\"6267\",\"type\":\"Circle\"},{\"attributes\":{\"bottom_units\":\"screen\",\"coordinates\":null,\"fill_alpha\":0.5,\"fill_color\":\"lightgrey\",\"group\":null,\"left_units\":\"screen\",\"level\":\"overlay\",\"line_alpha\":1.0,\"line_color\":\"black\",\"line_dash\":[4,4],\"line_width\":2,\"right_units\":\"screen\",\"syncable\":false,\"top_units\":\"screen\"},\"id\":\"6258\",\"type\":\"BoxAnnotation\"},{\"attributes\":{\"data\":{\"fill_color\":[\"yellow\",\"orange\",\"red\",\"pink\",\"purple\"],\"hatch_color\":[\"yellow\",\"orange\",\"red\",\"pink\",\"purple\"],\"line_color\":[\"yellow\",\"orange\",\"red\",\"pink\",\"purple\"],\"x\":[1,2,3,4,5],\"y\":[5,8,11,16,22]},\"selected\":{\"id\":\"6510\"},\"selection_policy\":{\"id\":\"6509\"}},\"id\":\"6272\",\"type\":\"ColumnDataSource\"},{\"attributes\":{\"fill_color\":{\"field\":\"fill_color\"},\"hatch_color\":{\"field\":\"hatch_color\"},\"line_color\":{\"field\":\"line_color\"},\"marker\":{\"value\":\"square\"},\"size\":{\"value\":15},\"x\":{\"field\":\"x\"},\"y\":{\"field\":\"y\"}},\"id\":\"6273\",\"type\":\"Scatter\"},{\"attributes\":{\"axis\":{\"id\":\"6244\"},\"coordinates\":null,\"group\":null,\"ticker\":null},\"id\":\"6247\",\"type\":\"Grid\"},{\"attributes\":{\"source\":{\"id\":\"6272\"}},\"id\":\"6277\",\"type\":\"CDSView\"},{\"attributes\":{},\"id\":\"6502\",\"type\":\"BasicTickFormatter\"},{\"attributes\":{},\"id\":\"6242\",\"type\":\"LinearScale\"},{\"attributes\":{\"coordinates\":null,\"data_source\":{\"id\":\"6266\"},\"glyph\":{\"id\":\"6267\"},\"group\":null,\"hover_glyph\":null,\"muted_glyph\":{\"id\":\"6269\"},\"nonselection_glyph\":{\"id\":\"6268\"},\"view\":{\"id\":\"6271\"}},\"id\":\"6270\",\"type\":\"GlyphRenderer\"},{\"attributes\":{\"coordinates\":null,\"data_source\":{\"id\":\"6272\"},\"glyph\":{\"id\":\"6273\"},\"group\":null,\"hover_glyph\":null,\"muted_glyph\":{\"id\":\"6275\"},\"nonselection_glyph\":{\"id\":\"6274\"},\"view\":{\"id\":\"6277\"}},\"id\":\"6276\",\"type\":\"GlyphRenderer\"},{\"attributes\":{},\"id\":\"6238\",\"type\":\"DataRange1d\"},{\"attributes\":{},\"id\":\"6245\",\"type\":\"BasicTicker\"},{\"attributes\":{\"tools\":[{\"id\":\"6252\"},{\"id\":\"6253\"},{\"id\":\"6254\"},{\"id\":\"6255\"},{\"id\":\"6256\"},{\"id\":\"6257\"}]},\"id\":\"6259\",\"type\":\"Toolbar\"},{\"attributes\":{},\"id\":\"6257\",\"type\":\"HelpTool\"},{\"attributes\":{},\"id\":\"6249\",\"type\":\"BasicTicker\"},{\"attributes\":{\"axis\":{\"id\":\"6248\"},\"coordinates\":null,\"dimension\":1,\"group\":null,\"ticker\":null},\"id\":\"6251\",\"type\":\"Grid\"},{\"attributes\":{\"fill_alpha\":{\"value\":0.2},\"fill_color\":{\"value\":\"black\"},\"hatch_alpha\":{\"value\":0.2},\"line_alpha\":{\"value\":0.2},\"x\":{\"field\":\"x\"},\"y\":{\"field\":\"y\"}},\"id\":\"6269\",\"type\":\"Circle\"},{\"attributes\":{\"fill_alpha\":{\"value\":0.1},\"fill_color\":{\"field\":\"fill_color\"},\"hatch_alpha\":{\"value\":0.1},\"hatch_color\":{\"field\":\"hatch_color\"},\"line_alpha\":{\"value\":0.1},\"line_color\":{\"field\":\"line_color\"},\"marker\":{\"value\":\"square\"},\"size\":{\"value\":15},\"x\":{\"field\":\"x\"},\"y\":{\"field\":\"y\"}},\"id\":\"6274\",\"type\":\"Scatter\"},{\"attributes\":{\"data\":{\"x\":[1,2,3,4,5],\"y\":[0,2,3,8,15]},\"selected\":{\"id\":\"6508\"},\"selection_policy\":{\"id\":\"6507\"}},\"id\":\"6266\",\"type\":\"ColumnDataSource\"},{\"attributes\":{\"source\":{\"id\":\"6266\"}},\"id\":\"6271\",\"type\":\"CDSView\"},{\"attributes\":{},\"id\":\"6240\",\"type\":\"LinearScale\"}],\"root_ids\":[\"6235\"]},\"title\":\"Bokeh Application\",\"version\":\"2.4.3\"}};\n  const render_items = [{\"docid\":\"3c7ff3c8-13cb-40ba-bd45-11b6a534bc45\",\"root_ids\":[\"6235\"],\"roots\":{\"6235\":\"6bc0bef2-0676-4338-9998-8c6abe940404\"}}];\n  root.Bokeh.embed.embed_items_notebook(docs_json, render_items);\n  }\n  if (root.Bokeh !== undefined) {\n    embed_document(root);\n  } else {\n    let attempts = 0;\n    const timer = setInterval(function(root) {\n      if (root.Bokeh !== undefined) {\n        clearInterval(timer);\n        embed_document(root);\n      } else {\n        attempts++;\n        if (attempts > 100) {\n          clearInterval(timer);\n          console.log(\"Bokeh: ERROR: Unable to run BokehJS code because BokehJS library is missing\");\n        }\n      }\n    }, 10, root)\n  }\n})(window);",
      "application/vnd.bokehjs_exec.v0+json": ""
     },
     "metadata": {
      "application/vnd.bokehjs_exec.v0+json": {
       "id": "6235"
      }
     },
     "output_type": "display_data"
    }
   ],
   "source": [
    "## Insérez votre code ici\n",
    "\n",
    "x = [1,2,3,4,5]\n",
    "y1 = [0,2,3,8,15]\n",
    "y2 = [5,8,11,16,22]\n",
    "\n",
    "p = figure(width=500, height=500)\n",
    "\n",
    "p.circle(x, y1, color='black')\n",
    "p.square(x,y2,size=15,color=['yellow','orange','red','pink','purple'])\n",
    "\n",
    "show(p)\n",
    "\n",
    "\n"
   ]
  },
  {
   "cell_type": "markdown",
   "metadata": {
    "deletable": false,
    "editable": false,
    "function": "preliminary",
    "question_id": 1,
    "run_control": {
     "frozen": true
    }
   },
   "source": [
    "> Pour donner plus de style à vos graphiques, il est possible de personnaliser l'apparence des lignes, le remplissage des formes et l'aspect du texte au sein des méthodes *glyph*.\n",
    ">\n",
    ">\n",
    "> Les paramètres les plus communs pour personnaliser **l'apparence des lignes** sont  : \n",
    "- ``line_color`` : couleur des lignes.\n",
    "- ``line_alpha`` : opacité des lignes. Doit être entre 0 et 1.\n",
    "- ``line_width`` : épaisseur des lignes.\n",
    "- ``line_dash`` : style de tracé des lignes (pointillés, point-tiret, etc). Peut prendre les valeurs `'dashed'`,`'dotted'`,`'dotdash'`,`'dashdot'` (et d'autres encore) pour différents styles de tracés.\n",
    ">\n",
    ">\n",
    "> Pour l'apparence visuelle des **zones remplies** :\n",
    ">- ``fill_color`` : couleur de remplissage.\n",
    ">- ``fill_alpha`` : opacité du remplissage. Doit être entre 0 et 1.\n",
    ">\n",
    ">\n",
    "> Pour l'apparence des **textes** du graphique\n",
    ">- ``text_font`` : police du texte.\n",
    ">- ``text_font_size`` : taille de police du texte.\n",
    ">- ``text_color`` : couleur du texte.\n",
    ">- ``text_alpha``: opacité du texte. \n",
    ">\n",
    "> Le paramètre `legend`, présent dans toutes les méthodes, permet d'ajouter une légende à chaque graphique.\n",
    ">\n",
    ">\n",
    ">Nous allons essayer de reproduire du mieux possible le graphique suivant :\n",
    "> <img src=\"https://datascientest.fr/train/assets/bokeh_plot2.png\">\n",
    ">\n",
    ">Pour cela:\n",
    "\n",
    "* Instancier une figure **nommée `q`** telle que:\n",
    "    * Le titre soit \"Courbes multiples\".\n",
    "    * Le label d'axis soit \"x\" et celui d'ordonnée \"y\".\n",
    "    * Ses dimensions soient de 600 en largeur et 400 en hauteur.\n",
    "    * L'axe des ordonnées se restreindra à l'intervalle [0, 100]. Pour cela, vous pourrez utiliser le paramètre `y_range` du constructeur de la classe `figure`."
   ]
  },
  {
   "cell_type": "code",
   "execution_count": 31,
   "metadata": {
    "function": "submission",
    "question_id": 1,
    "ExecuteTime": {
     "end_time": "2023-11-29T14:31:57.094145Z",
     "start_time": "2023-11-29T14:31:57.090652Z"
    }
   },
   "outputs": [],
   "source": [
    "### Insérez votre code ici\n",
    "\n",
    "q = figure(title = \"Courbes multiples\",  # Titre de la figure\n",
    "           x_axis_label = 'x',           # Label de l'axe des abscisses\n",
    "           y_axis_label = 'y',           # Label de l'axe des ordonnées\n",
    "           plot_height = 400,            # Hauteur de la figure\n",
    "           plot_width = 600,             # Largeur de la figure\n",
    "           y_range = [0, 100])           # Etendue de l'axe des ordonnées"
   ]
  },
  {
   "cell_type": "markdown",
   "metadata": {
    "deletable": false,
    "editable": false,
    "run_control": {
     "frozen": true
    }
   },
   "source": [
    "> La première courbe que nous allons tracer est celle correspondant à la fonction $f(x) = x$. Cette courbe est spéciale parce qu'**elle combine deux méthodes *glyph***, `circle` et `line`, pour créer un style de tracé particulier.\n",
    "\n",
    "\n",
    "* Creér une liste de coordonnées `x` allant 0 à 5 avec un pas de 0,2. Pour cela, vous pourrez utiliser la fonction `arange` du module `numpy`.\n",
    "\n",
    "\n",
    "* Créer dans la figure précédente une courbe correspondant à la fonction $f(x) = x$ en utilisant la méthode *glyph* `line`. La légende de cette courbe devra être `\"y = x\"`.\n",
    "\n",
    "\n",
    "* Créer dans cette même figure un nuage de points en forme de cercle correspondant à la foncion $f(x) = x$ en utilisant la méthode *glyph* `circle` de la manière suivante:\n",
    "    * La légende du nuage devra aussi être `\"y = x\"`.\n",
    "    * La couleur de remplissage des cercles doit être blanche. Le paramètre correspondant est `fill_color`.\n",
    "    * La taille des cercles doit être de 8. Le paramètre correspondant est `size`.\n",
    "\n",
    "\n",
    "* Afficher la figure.\n",
    "\n",
    "\n",
    "<div class='alert alert-warning'>\n",
    "<i class='fa fa-exclamation-circle'></i> &emsp; \n",
    "Si vous n'obtenez pas l'effet désiré, vous pouvez toujours réinstancier la figure grâce aux cellules précédentes.\n",
    "</div>"
   ]
  },
  {
   "cell_type": "code",
   "execution_count": 32,
   "metadata": {
    "ExecuteTime": {
     "end_time": "2023-11-29T14:31:58.529819Z",
     "start_time": "2023-11-29T14:31:58.526516Z"
    }
   },
   "outputs": [
    {
     "data": {
      "text/html": "\n  <div class=\"bk-root\" id=\"cd601214-ec73-46fa-8fb2-cb23bbcc38fd\" data-root-id=\"6577\"></div>\n"
     },
     "metadata": {},
     "output_type": "display_data"
    },
    {
     "data": {
      "application/javascript": "(function(root) {\n  function embed_document(root) {\n  const docs_json = {\"ff194d40-f88a-4b8d-99f1-00252e3ed843\":{\"defs\":[],\"roots\":{\"references\":[{\"attributes\":{\"below\":[{\"id\":\"6588\"}],\"center\":[{\"id\":\"6591\"},{\"id\":\"6595\"},{\"id\":\"6626\"}],\"height\":400,\"left\":[{\"id\":\"6592\"}],\"renderers\":[{\"id\":\"6614\"},{\"id\":\"6632\"}],\"title\":{\"id\":\"6578\"},\"toolbar\":{\"id\":\"6603\"},\"x_range\":{\"id\":\"6580\"},\"x_scale\":{\"id\":\"6584\"},\"y_range\":{\"id\":\"6582\"},\"y_scale\":{\"id\":\"6586\"}},\"id\":\"6577\",\"subtype\":\"Figure\",\"type\":\"Plot\"},{\"attributes\":{},\"id\":\"6643\",\"type\":\"UnionRenderers\"},{\"attributes\":{},\"id\":\"6644\",\"type\":\"Selection\"},{\"attributes\":{},\"id\":\"6621\",\"type\":\"BasicTickFormatter\"},{\"attributes\":{},\"id\":\"6597\",\"type\":\"WheelZoomTool\"},{\"attributes\":{\"axis\":{\"id\":\"6592\"},\"coordinates\":null,\"dimension\":1,\"group\":null,\"ticker\":null},\"id\":\"6595\",\"type\":\"Grid\"},{\"attributes\":{\"axis\":{\"id\":\"6588\"},\"coordinates\":null,\"group\":null,\"ticker\":null},\"id\":\"6591\",\"type\":\"Grid\"},{\"attributes\":{\"axis_label\":\"x\",\"axis_label_standoff\":10,\"axis_label_text_color\":\"#5B5B5B\",\"axis_label_text_font\":\"Calibri Light\",\"axis_label_text_font_size\":\"1.15em\",\"axis_label_text_font_style\":\"bold\",\"axis_line_alpha\":1,\"axis_line_color\":\"#5B5B5B\",\"coordinates\":null,\"formatter\":{\"id\":\"6621\"},\"group\":null,\"major_label_policy\":{\"id\":\"6622\"},\"major_label_text_color\":\"#5B5B5B\",\"major_label_text_font\":\"Calibri Light\",\"major_label_text_font_size\":\"0.95em\",\"major_label_text_font_style\":\"bold\",\"major_tick_in\":0,\"major_tick_line_alpha\":0.25,\"major_tick_line_color\":\"#5B5B5B\",\"major_tick_out\":3,\"minor_tick_line_alpha\":0.25,\"minor_tick_line_color\":\"#5B5B5B\",\"ticker\":{\"id\":\"6589\"}},\"id\":\"6588\",\"type\":\"LinearAxis\"},{\"attributes\":{},\"id\":\"6624\",\"type\":\"Selection\"},{\"attributes\":{\"overlay\":{\"id\":\"6602\"}},\"id\":\"6598\",\"type\":\"BoxZoomTool\"},{\"attributes\":{},\"id\":\"6618\",\"type\":\"BasicTickFormatter\"},{\"attributes\":{},\"id\":\"6619\",\"type\":\"AllLabels\"},{\"attributes\":{\"end\":100},\"id\":\"6582\",\"type\":\"Range1d\"},{\"attributes\":{},\"id\":\"6623\",\"type\":\"UnionRenderers\"},{\"attributes\":{},\"id\":\"6580\",\"type\":\"DataRange1d\"},{\"attributes\":{},\"id\":\"6600\",\"type\":\"ResetTool\"},{\"attributes\":{\"background_fill_alpha\":0.25,\"border_line_alpha\":0,\"coordinates\":null,\"glyph_width\":15,\"group\":null,\"items\":[{\"id\":\"6627\"}],\"label_standoff\":8,\"label_text_color\":\"#5B5B5B\",\"label_text_font\":\"Calibri Light\",\"label_text_font_size\":\"0.95em\",\"label_text_font_style\":\"bold\",\"spacing\":8},\"id\":\"6626\",\"type\":\"Legend\"},{\"attributes\":{\"coordinates\":null,\"data_source\":{\"id\":\"6610\"},\"glyph\":{\"id\":\"6611\"},\"group\":null,\"hover_glyph\":null,\"muted_glyph\":{\"id\":\"6613\"},\"nonselection_glyph\":{\"id\":\"6612\"},\"view\":{\"id\":\"6615\"}},\"id\":\"6614\",\"type\":\"GlyphRenderer\"},{\"attributes\":{\"line_color\":\"#1f77b4\",\"x\":{\"field\":\"x\"},\"y\":{\"field\":\"y\"}},\"id\":\"6611\",\"type\":\"Line\"},{\"attributes\":{\"data\":{\"x\":{\"__ndarray__\":\"AAAAAAAAAACamZmZmZnJP5qZmZmZmdk/NDMzMzMz4z+amZmZmZnpPwAAAAAAAPA/NDMzMzMz8z9nZmZmZmb2P5qZmZmZmfk/zczMzMzM/D8AAAAAAAAAQJqZmZmZmQFANDMzMzMzA0DNzMzMzMwEQGdmZmZmZgZAAAAAAAAACECamZmZmZkJQDQzMzMzMwtAzczMzMzMDEBnZmZmZmYOQAAAAAAAABBAzczMzMzMEECamZmZmZkRQGdmZmZmZhJANDMzMzMzE0A=\",\"dtype\":\"float64\",\"order\":\"little\",\"shape\":[25]},\"y\":{\"__ndarray__\":\"AAAAAAAAAACamZmZmZnJP5qZmZmZmdk/NDMzMzMz4z+amZmZmZnpPwAAAAAAAPA/NDMzMzMz8z9nZmZmZmb2P5qZmZmZmfk/zczMzMzM/D8AAAAAAAAAQJqZmZmZmQFANDMzMzMzA0DNzMzMzMwEQGdmZmZmZgZAAAAAAAAACECamZmZmZkJQDQzMzMzMwtAzczMzMzMDEBnZmZmZmYOQAAAAAAAABBAzczMzMzMEECamZmZmZkRQGdmZmZmZhJANDMzMzMzE0A=\",\"dtype\":\"float64\",\"order\":\"little\",\"shape\":[25]}},\"selected\":{\"id\":\"6644\"},\"selection_policy\":{\"id\":\"6643\"}},\"id\":\"6628\",\"type\":\"ColumnDataSource\"},{\"attributes\":{\"coordinates\":null,\"data_source\":{\"id\":\"6628\"},\"glyph\":{\"id\":\"6629\"},\"group\":null,\"hover_glyph\":null,\"muted_glyph\":{\"id\":\"6631\"},\"nonselection_glyph\":{\"id\":\"6630\"},\"view\":{\"id\":\"6633\"}},\"id\":\"6632\",\"type\":\"GlyphRenderer\"},{\"attributes\":{\"axis_label\":\"y\",\"axis_label_standoff\":10,\"axis_label_text_color\":\"#5B5B5B\",\"axis_label_text_font\":\"Calibri Light\",\"axis_label_text_font_size\":\"1.15em\",\"axis_label_text_font_style\":\"bold\",\"axis_line_alpha\":1,\"axis_line_color\":\"#5B5B5B\",\"coordinates\":null,\"formatter\":{\"id\":\"6618\"},\"group\":null,\"major_label_policy\":{\"id\":\"6619\"},\"major_label_text_color\":\"#5B5B5B\",\"major_label_text_font\":\"Calibri Light\",\"major_label_text_font_size\":\"0.95em\",\"major_label_text_font_style\":\"bold\",\"major_tick_in\":0,\"major_tick_line_alpha\":0.25,\"major_tick_line_color\":\"#5B5B5B\",\"major_tick_out\":3,\"minor_tick_line_alpha\":0.25,\"minor_tick_line_color\":\"#5B5B5B\",\"ticker\":{\"id\":\"6593\"}},\"id\":\"6592\",\"type\":\"LinearAxis\"},{\"attributes\":{\"line_alpha\":0.1,\"line_color\":\"#1f77b4\",\"x\":{\"field\":\"x\"},\"y\":{\"field\":\"y\"}},\"id\":\"6612\",\"type\":\"Line\"},{\"attributes\":{\"coordinates\":null,\"group\":null,\"text\":\"Courbes multiples\",\"text_color\":\"#5B5B5B\",\"text_font\":\"Calibri Light\",\"text_font_size\":\"1.25em\",\"text_font_style\":\"bold\"},\"id\":\"6578\",\"type\":\"Title\"},{\"attributes\":{},\"id\":\"6584\",\"type\":\"LinearScale\"},{\"attributes\":{\"fill_alpha\":{\"value\":0.2},\"fill_color\":{\"value\":\"white\"},\"hatch_alpha\":{\"value\":0.2},\"line_alpha\":{\"value\":0.2},\"line_color\":{\"value\":\"#1f77b4\"},\"size\":{\"value\":8},\"x\":{\"field\":\"x\"},\"y\":{\"field\":\"y\"}},\"id\":\"6631\",\"type\":\"Circle\"},{\"attributes\":{\"source\":{\"id\":\"6610\"}},\"id\":\"6615\",\"type\":\"CDSView\"},{\"attributes\":{\"line_alpha\":0.2,\"line_color\":\"#1f77b4\",\"x\":{\"field\":\"x\"},\"y\":{\"field\":\"y\"}},\"id\":\"6613\",\"type\":\"Line\"},{\"attributes\":{},\"id\":\"6622\",\"type\":\"AllLabels\"},{\"attributes\":{\"label\":{\"value\":\"y=x\"},\"renderers\":[{\"id\":\"6614\"},{\"id\":\"6632\"}]},\"id\":\"6627\",\"type\":\"LegendItem\"},{\"attributes\":{},\"id\":\"6586\",\"type\":\"LinearScale\"},{\"attributes\":{},\"id\":\"6599\",\"type\":\"SaveTool\"},{\"attributes\":{},\"id\":\"6589\",\"type\":\"BasicTicker\"},{\"attributes\":{\"source\":{\"id\":\"6628\"}},\"id\":\"6633\",\"type\":\"CDSView\"},{\"attributes\":{\"fill_alpha\":{\"value\":0.1},\"fill_color\":{\"value\":\"white\"},\"hatch_alpha\":{\"value\":0.1},\"line_alpha\":{\"value\":0.1},\"line_color\":{\"value\":\"#1f77b4\"},\"size\":{\"value\":8},\"x\":{\"field\":\"x\"},\"y\":{\"field\":\"y\"}},\"id\":\"6630\",\"type\":\"Circle\"},{\"attributes\":{},\"id\":\"6593\",\"type\":\"BasicTicker\"},{\"attributes\":{\"bottom_units\":\"screen\",\"coordinates\":null,\"fill_alpha\":0.5,\"fill_color\":\"lightgrey\",\"group\":null,\"left_units\":\"screen\",\"level\":\"overlay\",\"line_alpha\":1.0,\"line_color\":\"black\",\"line_dash\":[4,4],\"line_width\":2,\"right_units\":\"screen\",\"syncable\":false,\"top_units\":\"screen\"},\"id\":\"6602\",\"type\":\"BoxAnnotation\"},{\"attributes\":{\"fill_color\":{\"value\":\"white\"},\"line_color\":{\"value\":\"#1f77b4\"},\"size\":{\"value\":8},\"x\":{\"field\":\"x\"},\"y\":{\"field\":\"y\"}},\"id\":\"6629\",\"type\":\"Circle\"},{\"attributes\":{},\"id\":\"6601\",\"type\":\"HelpTool\"},{\"attributes\":{},\"id\":\"6596\",\"type\":\"PanTool\"},{\"attributes\":{\"data\":{\"x\":{\"__ndarray__\":\"AAAAAAAAAACamZmZmZnJP5qZmZmZmdk/NDMzMzMz4z+amZmZmZnpPwAAAAAAAPA/NDMzMzMz8z9nZmZmZmb2P5qZmZmZmfk/zczMzMzM/D8AAAAAAAAAQJqZmZmZmQFANDMzMzMzA0DNzMzMzMwEQGdmZmZmZgZAAAAAAAAACECamZmZmZkJQDQzMzMzMwtAzczMzMzMDEBnZmZmZmYOQAAAAAAAABBAzczMzMzMEECamZmZmZkRQGdmZmZmZhJANDMzMzMzE0A=\",\"dtype\":\"float64\",\"order\":\"little\",\"shape\":[25]},\"y\":{\"__ndarray__\":\"AAAAAAAAAACamZmZmZnJP5qZmZmZmdk/NDMzMzMz4z+amZmZmZnpPwAAAAAAAPA/NDMzMzMz8z9nZmZmZmb2P5qZmZmZmfk/zczMzMzM/D8AAAAAAAAAQJqZmZmZmQFANDMzMzMzA0DNzMzMzMwEQGdmZmZmZgZAAAAAAAAACECamZmZmZkJQDQzMzMzMwtAzczMzMzMDEBnZmZmZmYOQAAAAAAAABBAzczMzMzMEECamZmZmZkRQGdmZmZmZhJANDMzMzMzE0A=\",\"dtype\":\"float64\",\"order\":\"little\",\"shape\":[25]}},\"selected\":{\"id\":\"6624\"},\"selection_policy\":{\"id\":\"6623\"}},\"id\":\"6610\",\"type\":\"ColumnDataSource\"},{\"attributes\":{\"tools\":[{\"id\":\"6596\"},{\"id\":\"6597\"},{\"id\":\"6598\"},{\"id\":\"6599\"},{\"id\":\"6600\"},{\"id\":\"6601\"}]},\"id\":\"6603\",\"type\":\"Toolbar\"}],\"root_ids\":[\"6577\"]},\"title\":\"Bokeh Application\",\"version\":\"2.4.3\"}};\n  const render_items = [{\"docid\":\"ff194d40-f88a-4b8d-99f1-00252e3ed843\",\"root_ids\":[\"6577\"],\"roots\":{\"6577\":\"cd601214-ec73-46fa-8fb2-cb23bbcc38fd\"}}];\n  root.Bokeh.embed.embed_items_notebook(docs_json, render_items);\n  }\n  if (root.Bokeh !== undefined) {\n    embed_document(root);\n  } else {\n    let attempts = 0;\n    const timer = setInterval(function(root) {\n      if (root.Bokeh !== undefined) {\n        clearInterval(timer);\n        embed_document(root);\n      } else {\n        attempts++;\n        if (attempts > 100) {\n          clearInterval(timer);\n          console.log(\"Bokeh: ERROR: Unable to run BokehJS code because BokehJS library is missing\");\n        }\n      }\n    }, 10, root)\n  }\n})(window);",
      "application/vnd.bokehjs_exec.v0+json": ""
     },
     "metadata": {
      "application/vnd.bokehjs_exec.v0+json": {
       "id": "6577"
      }
     },
     "output_type": "display_data"
    }
   ],
   "source": [
    "### Insérez votre code ici\n",
    "import numpy as np\n",
    "x = np.arange(0,5,0.2)\n",
    "\n",
    "q.line(x,x,legend_label='y=x')\n",
    "q.circle(x,x,legend_label='y=x',size=8,fill_color='white')\n",
    "\n",
    "show(q)\n",
    "\n"
   ]
  },
  {
   "cell_type": "markdown",
   "metadata": {
    "deletable": false,
    "editable": false,
    "run_control": {
     "frozen": true
    }
   },
   "source": [
    "Nous allons maintenant essayer de reproduire la courbe correspondant à la fonction $f(x) = x^3$ telle qu'elle est représentée sur ce <a href=\"https://datascientest.fr/train/assets/bokeh_plot2.png\" target=\"_blank\">graphique</a>.\n",
    "\n",
    "Cette courbe fusionne aussi l'effet des méthodes *glyph* `line` et `circle`.\n",
    "\n",
    "* Creér une liste de coordonnées `y3` correspondant à l'image de la liste de coordonnées `x` par la fonction $f(x) = x^3$.\n",
    "\n",
    "\n",
    "* En vous inspirant de l'exercice précedent, obtenir le même style de tracé pour la courbe de la fonction $f(x) = x^3$:\n",
    "    * La légende de cette courbe devra être `\"y = x^3\"`.\n",
    "    * Sa couleur devra être orange. Les paramètres correspondants sont `line_color` pour la méthode `line` et `color` pour la méthode `circle`.\n",
    "    * La taille des cercles devra être de 6.\n",
    "    \n",
    "    \n",
    "* Afficher la figure."
   ]
  },
  {
   "cell_type": "code",
   "execution_count": 33,
   "metadata": {
    "ExecuteTime": {
     "end_time": "2023-11-29T14:32:00.352469Z",
     "start_time": "2023-11-29T14:32:00.183721Z"
    }
   },
   "outputs": [
    {
     "data": {
      "text/html": "\n  <div class=\"bk-root\" id=\"ea53c980-d8db-42dd-a322-b30b24cd15de\" data-root-id=\"6577\"></div>\n"
     },
     "metadata": {},
     "output_type": "display_data"
    },
    {
     "data": {
      "application/javascript": "(function(root) {\n  function embed_document(root) {\n  const docs_json = {\"68f6b88a-01cd-4ddf-91ca-498c465c3fd4\":{\"defs\":[],\"roots\":{\"references\":[{\"attributes\":{\"below\":[{\"id\":\"6588\"}],\"center\":[{\"id\":\"6591\"},{\"id\":\"6595\"},{\"id\":\"6626\"}],\"height\":400,\"left\":[{\"id\":\"6592\"}],\"renderers\":[{\"id\":\"6614\"},{\"id\":\"6632\"},{\"id\":\"6956\"},{\"id\":\"7473\"}],\"title\":{\"id\":\"6578\"},\"toolbar\":{\"id\":\"6603\"},\"x_range\":{\"id\":\"6580\"},\"x_scale\":{\"id\":\"6584\"},\"y_range\":{\"id\":\"6582\"},\"y_scale\":{\"id\":\"6586\"}},\"id\":\"6577\",\"subtype\":\"Figure\",\"type\":\"Plot\"},{\"attributes\":{},\"id\":\"6643\",\"type\":\"UnionRenderers\"},{\"attributes\":{\"data\":{\"x\":{\"__ndarray__\":\"AAAAAAAAAACamZmZmZnJP5qZmZmZmdk/NDMzMzMz4z+amZmZmZnpPwAAAAAAAPA/NDMzMzMz8z9nZmZmZmb2P5qZmZmZmfk/zczMzMzM/D8AAAAAAAAAQJqZmZmZmQFANDMzMzMzA0DNzMzMzMwEQGdmZmZmZgZAAAAAAAAACECamZmZmZkJQDQzMzMzMwtAzczMzMzMDEBnZmZmZmYOQAAAAAAAABBAzczMzMzMEECamZmZmZkRQGdmZmZmZhJANDMzMzMzE0A=\",\"dtype\":\"float64\",\"order\":\"little\",\"shape\":[25]},\"y\":[0.0,0.008000000000000002,0.06400000000000002,0.2160000000000001,0.5120000000000001,1.0,1.7280000000000009,2.7440000000000007,4.096000000000001,5.832000000000001,8.0,10.648000000000003,13.824000000000007,17.576,21.952000000000005,27.0,32.76800000000001,39.30400000000001,46.656000000000006,54.872000000000014,64.0,74.08800000000001,85.18400000000003,97.33600000000003,110.59200000000006]},\"selected\":{\"id\":\"7723\"},\"selection_policy\":{\"id\":\"7722\"}},\"id\":\"7469\",\"type\":\"ColumnDataSource\"},{\"attributes\":{\"label\":{\"value\":\"y=x^3\"},\"renderers\":[{\"id\":\"6956\"},{\"id\":\"7473\"}]},\"id\":\"7220\",\"type\":\"LegendItem\"},{\"attributes\":{},\"id\":\"6644\",\"type\":\"Selection\"},{\"attributes\":{},\"id\":\"6621\",\"type\":\"BasicTickFormatter\"},{\"attributes\":{},\"id\":\"6597\",\"type\":\"WheelZoomTool\"},{\"attributes\":{},\"id\":\"7204\",\"type\":\"Selection\"},{\"attributes\":{\"axis\":{\"id\":\"6592\"},\"coordinates\":null,\"dimension\":1,\"group\":null,\"ticker\":null},\"id\":\"6595\",\"type\":\"Grid\"},{\"attributes\":{\"fill_color\":{\"value\":\"orange\"},\"hatch_color\":{\"value\":\"orange\"},\"line_color\":{\"value\":\"orange\"},\"size\":{\"value\":6},\"x\":{\"field\":\"x\"},\"y\":{\"field\":\"y\"}},\"id\":\"7470\",\"type\":\"Circle\"},{\"attributes\":{\"axis\":{\"id\":\"6588\"},\"coordinates\":null,\"group\":null,\"ticker\":null},\"id\":\"6591\",\"type\":\"Grid\"},{\"attributes\":{\"axis_label\":\"x\",\"axis_label_standoff\":10,\"axis_label_text_color\":\"#5B5B5B\",\"axis_label_text_font\":\"Calibri Light\",\"axis_label_text_font_size\":\"1.15em\",\"axis_label_text_font_style\":\"bold\",\"axis_line_alpha\":1,\"axis_line_color\":\"#5B5B5B\",\"coordinates\":null,\"formatter\":{\"id\":\"6621\"},\"group\":null,\"major_label_policy\":{\"id\":\"6622\"},\"major_label_text_color\":\"#5B5B5B\",\"major_label_text_font\":\"Calibri Light\",\"major_label_text_font_size\":\"0.95em\",\"major_label_text_font_style\":\"bold\",\"major_tick_in\":0,\"major_tick_line_alpha\":0.25,\"major_tick_line_color\":\"#5B5B5B\",\"major_tick_out\":3,\"minor_tick_line_alpha\":0.25,\"minor_tick_line_color\":\"#5B5B5B\",\"ticker\":{\"id\":\"6589\"}},\"id\":\"6588\",\"type\":\"LinearAxis\"},{\"attributes\":{},\"id\":\"6624\",\"type\":\"Selection\"},{\"attributes\":{\"overlay\":{\"id\":\"6602\"}},\"id\":\"6598\",\"type\":\"BoxZoomTool\"},{\"attributes\":{},\"id\":\"6618\",\"type\":\"BasicTickFormatter\"},{\"attributes\":{},\"id\":\"6619\",\"type\":\"AllLabels\"},{\"attributes\":{\"end\":100},\"id\":\"6582\",\"type\":\"Range1d\"},{\"attributes\":{},\"id\":\"6623\",\"type\":\"UnionRenderers\"},{\"attributes\":{},\"id\":\"6580\",\"type\":\"DataRange1d\"},{\"attributes\":{},\"id\":\"6600\",\"type\":\"ResetTool\"},{\"attributes\":{\"background_fill_alpha\":0.25,\"border_line_alpha\":0,\"coordinates\":null,\"glyph_width\":15,\"group\":null,\"items\":[{\"id\":\"6627\"},{\"id\":\"7220\"}],\"label_standoff\":8,\"label_text_color\":\"#5B5B5B\",\"label_text_font\":\"Calibri Light\",\"label_text_font_size\":\"0.95em\",\"label_text_font_style\":\"bold\",\"spacing\":8},\"id\":\"6626\",\"type\":\"Legend\"},{\"attributes\":{\"coordinates\":null,\"data_source\":{\"id\":\"6610\"},\"glyph\":{\"id\":\"6611\"},\"group\":null,\"hover_glyph\":null,\"muted_glyph\":{\"id\":\"6613\"},\"nonselection_glyph\":{\"id\":\"6612\"},\"view\":{\"id\":\"6615\"}},\"id\":\"6614\",\"type\":\"GlyphRenderer\"},{\"attributes\":{\"line_color\":\"#1f77b4\",\"x\":{\"field\":\"x\"},\"y\":{\"field\":\"y\"}},\"id\":\"6611\",\"type\":\"Line\"},{\"attributes\":{\"data\":{\"x\":{\"__ndarray__\":\"AAAAAAAAAACamZmZmZnJP5qZmZmZmdk/NDMzMzMz4z+amZmZmZnpPwAAAAAAAPA/NDMzMzMz8z9nZmZmZmb2P5qZmZmZmfk/zczMzMzM/D8AAAAAAAAAQJqZmZmZmQFANDMzMzMzA0DNzMzMzMwEQGdmZmZmZgZAAAAAAAAACECamZmZmZkJQDQzMzMzMwtAzczMzMzMDEBnZmZmZmYOQAAAAAAAABBAzczMzMzMEECamZmZmZkRQGdmZmZmZhJANDMzMzMzE0A=\",\"dtype\":\"float64\",\"order\":\"little\",\"shape\":[25]},\"y\":{\"__ndarray__\":\"AAAAAAAAAACamZmZmZnJP5qZmZmZmdk/NDMzMzMz4z+amZmZmZnpPwAAAAAAAPA/NDMzMzMz8z9nZmZmZmb2P5qZmZmZmfk/zczMzMzM/D8AAAAAAAAAQJqZmZmZmQFANDMzMzMzA0DNzMzMzMwEQGdmZmZmZgZAAAAAAAAACECamZmZmZkJQDQzMzMzMwtAzczMzMzMDEBnZmZmZmYOQAAAAAAAABBAzczMzMzMEECamZmZmZkRQGdmZmZmZhJANDMzMzMzE0A=\",\"dtype\":\"float64\",\"order\":\"little\",\"shape\":[25]}},\"selected\":{\"id\":\"6644\"},\"selection_policy\":{\"id\":\"6643\"}},\"id\":\"6628\",\"type\":\"ColumnDataSource\"},{\"attributes\":{\"coordinates\":null,\"data_source\":{\"id\":\"6952\"},\"glyph\":{\"id\":\"6953\"},\"group\":null,\"hover_glyph\":null,\"muted_glyph\":{\"id\":\"6955\"},\"nonselection_glyph\":{\"id\":\"6954\"},\"view\":{\"id\":\"6957\"}},\"id\":\"6956\",\"type\":\"GlyphRenderer\"},{\"attributes\":{\"coordinates\":null,\"data_source\":{\"id\":\"6628\"},\"glyph\":{\"id\":\"6629\"},\"group\":null,\"hover_glyph\":null,\"muted_glyph\":{\"id\":\"6631\"},\"nonselection_glyph\":{\"id\":\"6630\"},\"view\":{\"id\":\"6633\"}},\"id\":\"6632\",\"type\":\"GlyphRenderer\"},{\"attributes\":{\"axis_label\":\"y\",\"axis_label_standoff\":10,\"axis_label_text_color\":\"#5B5B5B\",\"axis_label_text_font\":\"Calibri Light\",\"axis_label_text_font_size\":\"1.15em\",\"axis_label_text_font_style\":\"bold\",\"axis_line_alpha\":1,\"axis_line_color\":\"#5B5B5B\",\"coordinates\":null,\"formatter\":{\"id\":\"6618\"},\"group\":null,\"major_label_policy\":{\"id\":\"6619\"},\"major_label_text_color\":\"#5B5B5B\",\"major_label_text_font\":\"Calibri Light\",\"major_label_text_font_size\":\"0.95em\",\"major_label_text_font_style\":\"bold\",\"major_tick_in\":0,\"major_tick_line_alpha\":0.25,\"major_tick_line_color\":\"#5B5B5B\",\"major_tick_out\":3,\"minor_tick_line_alpha\":0.25,\"minor_tick_line_color\":\"#5B5B5B\",\"ticker\":{\"id\":\"6593\"}},\"id\":\"6592\",\"type\":\"LinearAxis\"},{\"attributes\":{\"line_alpha\":0.1,\"line_color\":\"#1f77b4\",\"x\":{\"field\":\"x\"},\"y\":{\"field\":\"y\"}},\"id\":\"6612\",\"type\":\"Line\"},{\"attributes\":{\"source\":{\"id\":\"7469\"}},\"id\":\"7474\",\"type\":\"CDSView\"},{\"attributes\":{\"coordinates\":null,\"group\":null,\"text\":\"Courbes multiples\",\"text_color\":\"#5B5B5B\",\"text_font\":\"Calibri Light\",\"text_font_size\":\"1.25em\",\"text_font_style\":\"bold\"},\"id\":\"6578\",\"type\":\"Title\"},{\"attributes\":{\"coordinates\":null,\"data_source\":{\"id\":\"7469\"},\"glyph\":{\"id\":\"7470\"},\"group\":null,\"hover_glyph\":null,\"muted_glyph\":{\"id\":\"7472\"},\"nonselection_glyph\":{\"id\":\"7471\"},\"view\":{\"id\":\"7474\"}},\"id\":\"7473\",\"type\":\"GlyphRenderer\"},{\"attributes\":{},\"id\":\"6584\",\"type\":\"LinearScale\"},{\"attributes\":{\"fill_alpha\":{\"value\":0.2},\"fill_color\":{\"value\":\"white\"},\"hatch_alpha\":{\"value\":0.2},\"line_alpha\":{\"value\":0.2},\"line_color\":{\"value\":\"#1f77b4\"},\"size\":{\"value\":8},\"x\":{\"field\":\"x\"},\"y\":{\"field\":\"y\"}},\"id\":\"6631\",\"type\":\"Circle\"},{\"attributes\":{\"data\":{\"x\":{\"__ndarray__\":\"AAAAAAAAAACamZmZmZnJP5qZmZmZmdk/NDMzMzMz4z+amZmZmZnpPwAAAAAAAPA/NDMzMzMz8z9nZmZmZmb2P5qZmZmZmfk/zczMzMzM/D8AAAAAAAAAQJqZmZmZmQFANDMzMzMzA0DNzMzMzMwEQGdmZmZmZgZAAAAAAAAACECamZmZmZkJQDQzMzMzMwtAzczMzMzMDEBnZmZmZmYOQAAAAAAAABBAzczMzMzMEECamZmZmZkRQGdmZmZmZhJANDMzMzMzE0A=\",\"dtype\":\"float64\",\"order\":\"little\",\"shape\":[25]},\"y\":[0.0,0.008000000000000002,0.06400000000000002,0.2160000000000001,0.5120000000000001,1.0,1.7280000000000009,2.7440000000000007,4.096000000000001,5.832000000000001,8.0,10.648000000000003,13.824000000000007,17.576,21.952000000000005,27.0,32.76800000000001,39.30400000000001,46.656000000000006,54.872000000000014,64.0,74.08800000000001,85.18400000000003,97.33600000000003,110.59200000000006]},\"selected\":{\"id\":\"7204\"},\"selection_policy\":{\"id\":\"7203\"}},\"id\":\"6952\",\"type\":\"ColumnDataSource\"},{\"attributes\":{\"source\":{\"id\":\"6610\"}},\"id\":\"6615\",\"type\":\"CDSView\"},{\"attributes\":{\"line_alpha\":0.2,\"line_color\":\"#1f77b4\",\"x\":{\"field\":\"x\"},\"y\":{\"field\":\"y\"}},\"id\":\"6613\",\"type\":\"Line\"},{\"attributes\":{},\"id\":\"6622\",\"type\":\"AllLabels\"},{\"attributes\":{\"label\":{\"value\":\"y=x\"},\"renderers\":[{\"id\":\"6614\"},{\"id\":\"6632\"}]},\"id\":\"6627\",\"type\":\"LegendItem\"},{\"attributes\":{\"source\":{\"id\":\"6952\"}},\"id\":\"6957\",\"type\":\"CDSView\"},{\"attributes\":{},\"id\":\"7723\",\"type\":\"Selection\"},{\"attributes\":{},\"id\":\"6586\",\"type\":\"LinearScale\"},{\"attributes\":{},\"id\":\"6599\",\"type\":\"SaveTool\"},{\"attributes\":{},\"id\":\"6589\",\"type\":\"BasicTicker\"},{\"attributes\":{\"source\":{\"id\":\"6628\"}},\"id\":\"6633\",\"type\":\"CDSView\"},{\"attributes\":{\"fill_alpha\":{\"value\":0.1},\"fill_color\":{\"value\":\"white\"},\"hatch_alpha\":{\"value\":0.1},\"line_alpha\":{\"value\":0.1},\"line_color\":{\"value\":\"#1f77b4\"},\"size\":{\"value\":8},\"x\":{\"field\":\"x\"},\"y\":{\"field\":\"y\"}},\"id\":\"6630\",\"type\":\"Circle\"},{\"attributes\":{},\"id\":\"6593\",\"type\":\"BasicTicker\"},{\"attributes\":{\"fill_alpha\":{\"value\":0.1},\"fill_color\":{\"value\":\"orange\"},\"hatch_alpha\":{\"value\":0.1},\"hatch_color\":{\"value\":\"orange\"},\"line_alpha\":{\"value\":0.1},\"line_color\":{\"value\":\"orange\"},\"size\":{\"value\":6},\"x\":{\"field\":\"x\"},\"y\":{\"field\":\"y\"}},\"id\":\"7471\",\"type\":\"Circle\"},{\"attributes\":{\"line_alpha\":0.2,\"line_color\":\"orange\",\"x\":{\"field\":\"x\"},\"y\":{\"field\":\"y\"}},\"id\":\"6955\",\"type\":\"Line\"},{\"attributes\":{\"bottom_units\":\"screen\",\"coordinates\":null,\"fill_alpha\":0.5,\"fill_color\":\"lightgrey\",\"group\":null,\"left_units\":\"screen\",\"level\":\"overlay\",\"line_alpha\":1.0,\"line_color\":\"black\",\"line_dash\":[4,4],\"line_width\":2,\"right_units\":\"screen\",\"syncable\":false,\"top_units\":\"screen\"},\"id\":\"6602\",\"type\":\"BoxAnnotation\"},{\"attributes\":{\"line_color\":\"orange\",\"x\":{\"field\":\"x\"},\"y\":{\"field\":\"y\"}},\"id\":\"6953\",\"type\":\"Line\"},{\"attributes\":{\"fill_color\":{\"value\":\"white\"},\"line_color\":{\"value\":\"#1f77b4\"},\"size\":{\"value\":8},\"x\":{\"field\":\"x\"},\"y\":{\"field\":\"y\"}},\"id\":\"6629\",\"type\":\"Circle\"},{\"attributes\":{\"line_alpha\":0.1,\"line_color\":\"orange\",\"x\":{\"field\":\"x\"},\"y\":{\"field\":\"y\"}},\"id\":\"6954\",\"type\":\"Line\"},{\"attributes\":{},\"id\":\"7203\",\"type\":\"UnionRenderers\"},{\"attributes\":{},\"id\":\"7722\",\"type\":\"UnionRenderers\"},{\"attributes\":{\"fill_alpha\":{\"value\":0.2},\"fill_color\":{\"value\":\"orange\"},\"hatch_alpha\":{\"value\":0.2},\"hatch_color\":{\"value\":\"orange\"},\"line_alpha\":{\"value\":0.2},\"line_color\":{\"value\":\"orange\"},\"size\":{\"value\":6},\"x\":{\"field\":\"x\"},\"y\":{\"field\":\"y\"}},\"id\":\"7472\",\"type\":\"Circle\"},{\"attributes\":{},\"id\":\"6601\",\"type\":\"HelpTool\"},{\"attributes\":{},\"id\":\"6596\",\"type\":\"PanTool\"},{\"attributes\":{\"data\":{\"x\":{\"__ndarray__\":\"AAAAAAAAAACamZmZmZnJP5qZmZmZmdk/NDMzMzMz4z+amZmZmZnpPwAAAAAAAPA/NDMzMzMz8z9nZmZmZmb2P5qZmZmZmfk/zczMzMzM/D8AAAAAAAAAQJqZmZmZmQFANDMzMzMzA0DNzMzMzMwEQGdmZmZmZgZAAAAAAAAACECamZmZmZkJQDQzMzMzMwtAzczMzMzMDEBnZmZmZmYOQAAAAAAAABBAzczMzMzMEECamZmZmZkRQGdmZmZmZhJANDMzMzMzE0A=\",\"dtype\":\"float64\",\"order\":\"little\",\"shape\":[25]},\"y\":{\"__ndarray__\":\"AAAAAAAAAACamZmZmZnJP5qZmZmZmdk/NDMzMzMz4z+amZmZmZnpPwAAAAAAAPA/NDMzMzMz8z9nZmZmZmb2P5qZmZmZmfk/zczMzMzM/D8AAAAAAAAAQJqZmZmZmQFANDMzMzMzA0DNzMzMzMwEQGdmZmZmZgZAAAAAAAAACECamZmZmZkJQDQzMzMzMwtAzczMzMzMDEBnZmZmZmYOQAAAAAAAABBAzczMzMzMEECamZmZmZkRQGdmZmZmZhJANDMzMzMzE0A=\",\"dtype\":\"float64\",\"order\":\"little\",\"shape\":[25]}},\"selected\":{\"id\":\"6624\"},\"selection_policy\":{\"id\":\"6623\"}},\"id\":\"6610\",\"type\":\"ColumnDataSource\"},{\"attributes\":{\"tools\":[{\"id\":\"6596\"},{\"id\":\"6597\"},{\"id\":\"6598\"},{\"id\":\"6599\"},{\"id\":\"6600\"},{\"id\":\"6601\"}]},\"id\":\"6603\",\"type\":\"Toolbar\"}],\"root_ids\":[\"6577\"]},\"title\":\"Bokeh Application\",\"version\":\"2.4.3\"}};\n  const render_items = [{\"docid\":\"68f6b88a-01cd-4ddf-91ca-498c465c3fd4\",\"root_ids\":[\"6577\"],\"roots\":{\"6577\":\"ea53c980-d8db-42dd-a322-b30b24cd15de\"}}];\n  root.Bokeh.embed.embed_items_notebook(docs_json, render_items);\n  }\n  if (root.Bokeh !== undefined) {\n    embed_document(root);\n  } else {\n    let attempts = 0;\n    const timer = setInterval(function(root) {\n      if (root.Bokeh !== undefined) {\n        clearInterval(timer);\n        embed_document(root);\n      } else {\n        attempts++;\n        if (attempts > 100) {\n          clearInterval(timer);\n          console.log(\"Bokeh: ERROR: Unable to run BokehJS code because BokehJS library is missing\");\n        }\n      }\n    }, 10, root)\n  }\n})(window);",
      "application/vnd.bokehjs_exec.v0+json": ""
     },
     "metadata": {
      "application/vnd.bokehjs_exec.v0+json": {
       "id": "6577"
      }
     },
     "output_type": "display_data"
    }
   ],
   "source": [
    "### Insérez votre code ici\n",
    "y3 = [i**3 for i in x]\n",
    "\n",
    "q.line(x,y3,legend_label='y=x^3', line_color='orange')\n",
    "q.circle(x,y3,legend_label='y=x^3',color='orange',size=6)\n",
    "\n",
    "show(q)\n",
    "\n",
    "\n"
   ]
  },
  {
   "cell_type": "markdown",
   "metadata": {
    "deletable": false,
    "editable": false,
    "run_control": {
     "frozen": true
    }
   },
   "source": [
    ">Les dernières courbes du <a href=\"https://datascientest.fr/train/assets/bokeh_plot2.png\" target=\"_blank\">graphique</a> correspondant aux fonctions $f(x) = x^2$ et $f(x) = x^4$ sont simplement des lignes, mais la courbe de la fonction $f(x) = x^4$ est tracée avec des tirets.\n",
    ">\n",
    ">Pour obtenir cet effet, la méthode *glyph* `line` dispose d'un paramètre `line_dash` qui peut prendre les valeurs :\n",
    ">\n",
    ">- `\"dashed\"` : tracé en tirets.\n",
    ">- `\"dotted\"` : tracé en pointillé.\n",
    ">- `\"dotdash\"` ou `\"dashdot\"` : tracé alterné entre tirets et pointillé (Les deux arguments sont équivalents).\n",
    "\n",
    "* Créer les listes de coordonnées `y2` et `y4` correspondant aux images de la liste de coordonnées `x` par les fonctions $f(x) = x^2$ et $f(x) = x^4$.\n",
    "\n",
    "\n",
    "* Dessiner la courbe correspondant à la fonction $f(x) = x^2$:\n",
    "    * La légende de cette courbe doit être \"y = x^2\".\n",
    "    * La couleur des lignes doit être bleue.\n",
    "    * L'épaisseur des lignes doit être de 3. Le paramètre correspondant est `line_width`.\n",
    "    \n",
    "\n",
    "* Dessiner la courbe correspondant à la fonction $f(x) = x^4$:\n",
    "    * La légende de cette courbe doit être \"y = x^4\".\n",
    "    * La couleur des lignes doit être rouge.\n",
    "    * Le tracé des lignes doit être fait avec des tirets.\n",
    "    \n",
    "    \n",
    "* Afficher la figure.\n"
   ]
  },
  {
   "cell_type": "code",
   "execution_count": 34,
   "metadata": {
    "function": "submission",
    "question_id": 1,
    "ExecuteTime": {
     "end_time": "2023-11-29T14:32:01.833622Z",
     "start_time": "2023-11-29T14:32:01.688422Z"
    }
   },
   "outputs": [
    {
     "data": {
      "text/html": "\n  <div class=\"bk-root\" id=\"f8b17737-481e-4b00-9a36-694a4017feeb\" data-root-id=\"6577\"></div>\n"
     },
     "metadata": {},
     "output_type": "display_data"
    },
    {
     "data": {
      "application/javascript": "(function(root) {\n  function embed_document(root) {\n  const docs_json = {\"4f2502ab-3cd8-4b01-bbdd-fdba217e94a3\":{\"defs\":[],\"roots\":{\"references\":[{\"attributes\":{\"below\":[{\"id\":\"6588\"}],\"center\":[{\"id\":\"6591\"},{\"id\":\"6595\"},{\"id\":\"6626\"}],\"height\":400,\"left\":[{\"id\":\"6592\"}],\"renderers\":[{\"id\":\"6614\"},{\"id\":\"6632\"},{\"id\":\"6956\"},{\"id\":\"7473\"},{\"id\":\"8075\"},{\"id\":\"8604\"}],\"title\":{\"id\":\"6578\"},\"toolbar\":{\"id\":\"6603\"},\"x_range\":{\"id\":\"6580\"},\"x_scale\":{\"id\":\"6584\"},\"y_range\":{\"id\":\"6582\"},\"y_scale\":{\"id\":\"6586\"}},\"id\":\"6577\",\"subtype\":\"Figure\",\"type\":\"Plot\"},{\"attributes\":{\"data\":{\"x\":{\"__ndarray__\":\"AAAAAAAAAACamZmZmZnJP5qZmZmZmdk/NDMzMzMz4z+amZmZmZnpPwAAAAAAAPA/NDMzMzMz8z9nZmZmZmb2P5qZmZmZmfk/zczMzMzM/D8AAAAAAAAAQJqZmZmZmQFANDMzMzMzA0DNzMzMzMwEQGdmZmZmZgZAAAAAAAAACECamZmZmZkJQDQzMzMzMwtAzczMzMzMDEBnZmZmZmYOQAAAAAAAABBAzczMzMzMEECamZmZmZkRQGdmZmZmZhJANDMzMzMzE0A=\",\"dtype\":\"float64\",\"order\":\"little\",\"shape\":[25]},\"y\":[0.0,0.008000000000000002,0.06400000000000002,0.2160000000000001,0.5120000000000001,1.0,1.7280000000000009,2.7440000000000007,4.096000000000001,5.832000000000001,8.0,10.648000000000003,13.824000000000007,17.576,21.952000000000005,27.0,32.76800000000001,39.30400000000001,46.656000000000006,54.872000000000014,64.0,74.08800000000001,85.18400000000003,97.33600000000003,110.59200000000006]},\"selected\":{\"id\":\"7723\"},\"selection_policy\":{\"id\":\"7722\"}},\"id\":\"7469\",\"type\":\"ColumnDataSource\"},{\"attributes\":{},\"id\":\"6597\",\"type\":\"WheelZoomTool\"},{\"attributes\":{\"source\":{\"id\":\"8600\"}},\"id\":\"8605\",\"type\":\"CDSView\"},{\"attributes\":{},\"id\":\"7204\",\"type\":\"Selection\"},{\"attributes\":{\"coordinates\":null,\"data_source\":{\"id\":\"8600\"},\"glyph\":{\"id\":\"8601\"},\"group\":null,\"hover_glyph\":null,\"muted_glyph\":{\"id\":\"8603\"},\"nonselection_glyph\":{\"id\":\"8602\"},\"view\":{\"id\":\"8605\"}},\"id\":\"8604\",\"type\":\"GlyphRenderer\"},{\"attributes\":{\"line_alpha\":0.1,\"line_color\":\"red\",\"line_dash\":[6],\"x\":{\"field\":\"x\"},\"y\":{\"field\":\"y\"}},\"id\":\"8602\",\"type\":\"Line\"},{\"attributes\":{\"axis\":{\"id\":\"6588\"},\"coordinates\":null,\"group\":null,\"ticker\":null},\"id\":\"6591\",\"type\":\"Grid\"},{\"attributes\":{},\"id\":\"6618\",\"type\":\"BasicTickFormatter\"},{\"attributes\":{\"line_color\":\"#1f77b4\",\"x\":{\"field\":\"x\"},\"y\":{\"field\":\"y\"}},\"id\":\"6611\",\"type\":\"Line\"},{\"attributes\":{\"axis_label\":\"y\",\"axis_label_standoff\":10,\"axis_label_text_color\":\"#5B5B5B\",\"axis_label_text_font\":\"Calibri Light\",\"axis_label_text_font_size\":\"1.15em\",\"axis_label_text_font_style\":\"bold\",\"axis_line_alpha\":1,\"axis_line_color\":\"#5B5B5B\",\"coordinates\":null,\"formatter\":{\"id\":\"6618\"},\"group\":null,\"major_label_policy\":{\"id\":\"6619\"},\"major_label_text_color\":\"#5B5B5B\",\"major_label_text_font\":\"Calibri Light\",\"major_label_text_font_size\":\"0.95em\",\"major_label_text_font_style\":\"bold\",\"major_tick_in\":0,\"major_tick_line_alpha\":0.25,\"major_tick_line_color\":\"#5B5B5B\",\"major_tick_out\":3,\"minor_tick_line_alpha\":0.25,\"minor_tick_line_color\":\"#5B5B5B\",\"ticker\":{\"id\":\"6593\"}},\"id\":\"6592\",\"type\":\"LinearAxis\"},{\"attributes\":{\"line_alpha\":0.1,\"line_color\":\"#1f77b4\",\"x\":{\"field\":\"x\"},\"y\":{\"field\":\"y\"}},\"id\":\"6612\",\"type\":\"Line\"},{\"attributes\":{\"coordinates\":null,\"group\":null,\"text\":\"Courbes multiples\",\"text_color\":\"#5B5B5B\",\"text_font\":\"Calibri Light\",\"text_font_size\":\"1.25em\",\"text_font_style\":\"bold\"},\"id\":\"6578\",\"type\":\"Title\"},{\"attributes\":{\"fill_alpha\":{\"value\":0.2},\"fill_color\":{\"value\":\"white\"},\"hatch_alpha\":{\"value\":0.2},\"line_alpha\":{\"value\":0.2},\"line_color\":{\"value\":\"#1f77b4\"},\"size\":{\"value\":8},\"x\":{\"field\":\"x\"},\"y\":{\"field\":\"y\"}},\"id\":\"6631\",\"type\":\"Circle\"},{\"attributes\":{\"label\":{\"value\":\"y=x\"},\"renderers\":[{\"id\":\"6614\"},{\"id\":\"6632\"}]},\"id\":\"6627\",\"type\":\"LegendItem\"},{\"attributes\":{\"source\":{\"id\":\"6628\"}},\"id\":\"6633\",\"type\":\"CDSView\"},{\"attributes\":{\"fill_alpha\":{\"value\":0.1},\"fill_color\":{\"value\":\"white\"},\"hatch_alpha\":{\"value\":0.1},\"line_alpha\":{\"value\":0.1},\"line_color\":{\"value\":\"#1f77b4\"},\"size\":{\"value\":8},\"x\":{\"field\":\"x\"},\"y\":{\"field\":\"y\"}},\"id\":\"6630\",\"type\":\"Circle\"},{\"attributes\":{},\"id\":\"6593\",\"type\":\"BasicTicker\"},{\"attributes\":{\"fill_alpha\":{\"value\":0.1},\"fill_color\":{\"value\":\"orange\"},\"hatch_alpha\":{\"value\":0.1},\"hatch_color\":{\"value\":\"orange\"},\"line_alpha\":{\"value\":0.1},\"line_color\":{\"value\":\"orange\"},\"size\":{\"value\":6},\"x\":{\"field\":\"x\"},\"y\":{\"field\":\"y\"}},\"id\":\"7471\",\"type\":\"Circle\"},{\"attributes\":{\"line_alpha\":0.2,\"line_color\":\"orange\",\"x\":{\"field\":\"x\"},\"y\":{\"field\":\"y\"}},\"id\":\"6955\",\"type\":\"Line\"},{\"attributes\":{\"fill_color\":{\"value\":\"white\"},\"line_color\":{\"value\":\"#1f77b4\"},\"size\":{\"value\":8},\"x\":{\"field\":\"x\"},\"y\":{\"field\":\"y\"}},\"id\":\"6629\",\"type\":\"Circle\"},{\"attributes\":{\"fill_alpha\":{\"value\":0.2},\"fill_color\":{\"value\":\"orange\"},\"hatch_alpha\":{\"value\":0.2},\"hatch_color\":{\"value\":\"orange\"},\"line_alpha\":{\"value\":0.2},\"line_color\":{\"value\":\"orange\"},\"size\":{\"value\":6},\"x\":{\"field\":\"x\"},\"y\":{\"field\":\"y\"}},\"id\":\"7472\",\"type\":\"Circle\"},{\"attributes\":{},\"id\":\"6601\",\"type\":\"HelpTool\"},{\"attributes\":{},\"id\":\"6596\",\"type\":\"PanTool\"},{\"attributes\":{\"tools\":[{\"id\":\"6596\"},{\"id\":\"6597\"},{\"id\":\"6598\"},{\"id\":\"6599\"},{\"id\":\"6600\"},{\"id\":\"6601\"}]},\"id\":\"6603\",\"type\":\"Toolbar\"},{\"attributes\":{},\"id\":\"6643\",\"type\":\"UnionRenderers\"},{\"attributes\":{\"label\":{\"value\":\"y=x^3\"},\"renderers\":[{\"id\":\"6956\"},{\"id\":\"7473\"}]},\"id\":\"7220\",\"type\":\"LegendItem\"},{\"attributes\":{},\"id\":\"6644\",\"type\":\"Selection\"},{\"attributes\":{},\"id\":\"6621\",\"type\":\"BasicTickFormatter\"},{\"attributes\":{},\"id\":\"6624\",\"type\":\"Selection\"},{\"attributes\":{},\"id\":\"6623\",\"type\":\"UnionRenderers\"},{\"attributes\":{},\"id\":\"6580\",\"type\":\"DataRange1d\"},{\"attributes\":{\"background_fill_alpha\":0.25,\"border_line_alpha\":0,\"coordinates\":null,\"glyph_width\":15,\"group\":null,\"items\":[{\"id\":\"6627\"},{\"id\":\"7220\"},{\"id\":\"8347\"},{\"id\":\"8880\"}],\"label_standoff\":8,\"label_text_color\":\"#5B5B5B\",\"label_text_font\":\"Calibri Light\",\"label_text_font_size\":\"0.95em\",\"label_text_font_style\":\"bold\",\"spacing\":8},\"id\":\"6626\",\"type\":\"Legend\"},{\"attributes\":{\"coordinates\":null,\"data_source\":{\"id\":\"6610\"},\"glyph\":{\"id\":\"6611\"},\"group\":null,\"hover_glyph\":null,\"muted_glyph\":{\"id\":\"6613\"},\"nonselection_glyph\":{\"id\":\"6612\"},\"view\":{\"id\":\"6615\"}},\"id\":\"6614\",\"type\":\"GlyphRenderer\"},{\"attributes\":{\"coordinates\":null,\"data_source\":{\"id\":\"6628\"},\"glyph\":{\"id\":\"6629\"},\"group\":null,\"hover_glyph\":null,\"muted_glyph\":{\"id\":\"6631\"},\"nonselection_glyph\":{\"id\":\"6630\"},\"view\":{\"id\":\"6633\"}},\"id\":\"6632\",\"type\":\"GlyphRenderer\"},{\"attributes\":{\"line_color\":\"red\",\"line_dash\":[6],\"x\":{\"field\":\"x\"},\"y\":{\"field\":\"y\"}},\"id\":\"8601\",\"type\":\"Line\"},{\"attributes\":{\"label\":{\"value\":\"y=x^4\"},\"renderers\":[{\"id\":\"8604\"}]},\"id\":\"8880\",\"type\":\"LegendItem\"},{\"attributes\":{\"source\":{\"id\":\"6610\"}},\"id\":\"6615\",\"type\":\"CDSView\"},{\"attributes\":{\"line_alpha\":0.2,\"line_color\":\"#1f77b4\",\"x\":{\"field\":\"x\"},\"y\":{\"field\":\"y\"}},\"id\":\"6613\",\"type\":\"Line\"},{\"attributes\":{},\"id\":\"6622\",\"type\":\"AllLabels\"},{\"attributes\":{\"source\":{\"id\":\"8071\"}},\"id\":\"8076\",\"type\":\"CDSView\"},{\"attributes\":{},\"id\":\"6599\",\"type\":\"SaveTool\"},{\"attributes\":{\"bottom_units\":\"screen\",\"coordinates\":null,\"fill_alpha\":0.5,\"fill_color\":\"lightgrey\",\"group\":null,\"left_units\":\"screen\",\"level\":\"overlay\",\"line_alpha\":1.0,\"line_color\":\"black\",\"line_dash\":[4,4],\"line_width\":2,\"right_units\":\"screen\",\"syncable\":false,\"top_units\":\"screen\"},\"id\":\"6602\",\"type\":\"BoxAnnotation\"},{\"attributes\":{},\"id\":\"8327\",\"type\":\"Selection\"},{\"attributes\":{},\"id\":\"7203\",\"type\":\"UnionRenderers\"},{\"attributes\":{},\"id\":\"7722\",\"type\":\"UnionRenderers\"},{\"attributes\":{\"coordinates\":null,\"data_source\":{\"id\":\"8071\"},\"glyph\":{\"id\":\"8072\"},\"group\":null,\"hover_glyph\":null,\"muted_glyph\":{\"id\":\"8074\"},\"nonselection_glyph\":{\"id\":\"8073\"},\"view\":{\"id\":\"8076\"}},\"id\":\"8075\",\"type\":\"GlyphRenderer\"},{\"attributes\":{\"line_alpha\":0.1,\"line_color\":\"blue\",\"line_width\":3,\"x\":{\"field\":\"x\"},\"y\":{\"field\":\"y\"}},\"id\":\"8073\",\"type\":\"Line\"},{\"attributes\":{\"data\":{\"x\":{\"__ndarray__\":\"AAAAAAAAAACamZmZmZnJP5qZmZmZmdk/NDMzMzMz4z+amZmZmZnpPwAAAAAAAPA/NDMzMzMz8z9nZmZmZmb2P5qZmZmZmfk/zczMzMzM/D8AAAAAAAAAQJqZmZmZmQFANDMzMzMzA0DNzMzMzMwEQGdmZmZmZgZAAAAAAAAACECamZmZmZkJQDQzMzMzMwtAzczMzMzMDEBnZmZmZmYOQAAAAAAAABBAzczMzMzMEECamZmZmZkRQGdmZmZmZhJANDMzMzMzE0A=\",\"dtype\":\"float64\",\"order\":\"little\",\"shape\":[25]},\"y\":{\"__ndarray__\":\"AAAAAAAAAACamZmZmZnJP5qZmZmZmdk/NDMzMzMz4z+amZmZmZnpPwAAAAAAAPA/NDMzMzMz8z9nZmZmZmb2P5qZmZmZmfk/zczMzMzM/D8AAAAAAAAAQJqZmZmZmQFANDMzMzMzA0DNzMzMzMwEQGdmZmZmZgZAAAAAAAAACECamZmZmZkJQDQzMzMzMwtAzczMzMzMDEBnZmZmZmYOQAAAAAAAABBAzczMzMzMEECamZmZmZkRQGdmZmZmZhJANDMzMzMzE0A=\",\"dtype\":\"float64\",\"order\":\"little\",\"shape\":[25]}},\"selected\":{\"id\":\"6624\"},\"selection_policy\":{\"id\":\"6623\"}},\"id\":\"6610\",\"type\":\"ColumnDataSource\"},{\"attributes\":{\"line_alpha\":0.2,\"line_color\":\"red\",\"line_dash\":[6],\"x\":{\"field\":\"x\"},\"y\":{\"field\":\"y\"}},\"id\":\"8603\",\"type\":\"Line\"},{\"attributes\":{\"label\":{\"value\":\"y=x^2\"},\"renderers\":[{\"id\":\"8075\"}]},\"id\":\"8347\",\"type\":\"LegendItem\"},{\"attributes\":{\"data\":{\"x\":{\"__ndarray__\":\"AAAAAAAAAACamZmZmZnJP5qZmZmZmdk/NDMzMzMz4z+amZmZmZnpPwAAAAAAAPA/NDMzMzMz8z9nZmZmZmb2P5qZmZmZmfk/zczMzMzM/D8AAAAAAAAAQJqZmZmZmQFANDMzMzMzA0DNzMzMzMwEQGdmZmZmZgZAAAAAAAAACECamZmZmZkJQDQzMzMzMwtAzczMzMzMDEBnZmZmZmYOQAAAAAAAABBAzczMzMzMEECamZmZmZkRQGdmZmZmZhJANDMzMzMzE0A=\",\"dtype\":\"float64\",\"order\":\"little\",\"shape\":[25]},\"y\":{\"__ndarray__\":\"AAAAAAAAAAAuQxzr4jZaPy5DHOviNpo/heLHmLuWwD8uQxzr4jbaPwAAAAAAAPA/heLHmLuWAEBEguLHmLsOQC5DHOviNhpArfpcbcX+JEAAAAAAAAAwQHktIR/0bDdAheLHmLuWQEBG2PD0StlGQESC4seYu05AAAAAAABAVEAuQxzr4jZaQN7XgXNGtGBArfpcbcX+ZEA6Z0RpbxBqQAAAAAAAAHBAblZ9rrZyc0B5LSEf9Gx3QGD+Q/rt+3tAheLHmLuWgEA=\",\"dtype\":\"float64\",\"order\":\"little\",\"shape\":[25]}},\"selected\":{\"id\":\"8858\"},\"selection_policy\":{\"id\":\"8857\"}},\"id\":\"8600\",\"type\":\"ColumnDataSource\"},{\"attributes\":{\"axis_label\":\"x\",\"axis_label_standoff\":10,\"axis_label_text_color\":\"#5B5B5B\",\"axis_label_text_font\":\"Calibri Light\",\"axis_label_text_font_size\":\"1.15em\",\"axis_label_text_font_style\":\"bold\",\"axis_line_alpha\":1,\"axis_line_color\":\"#5B5B5B\",\"coordinates\":null,\"formatter\":{\"id\":\"6621\"},\"group\":null,\"major_label_policy\":{\"id\":\"6622\"},\"major_label_text_color\":\"#5B5B5B\",\"major_label_text_font\":\"Calibri Light\",\"major_label_text_font_size\":\"0.95em\",\"major_label_text_font_style\":\"bold\",\"major_tick_in\":0,\"major_tick_line_alpha\":0.25,\"major_tick_line_color\":\"#5B5B5B\",\"major_tick_out\":3,\"minor_tick_line_alpha\":0.25,\"minor_tick_line_color\":\"#5B5B5B\",\"ticker\":{\"id\":\"6589\"}},\"id\":\"6588\",\"type\":\"LinearAxis\"},{\"attributes\":{\"overlay\":{\"id\":\"6602\"}},\"id\":\"6598\",\"type\":\"BoxZoomTool\"},{\"attributes\":{},\"id\":\"6619\",\"type\":\"AllLabels\"},{\"attributes\":{},\"id\":\"6600\",\"type\":\"ResetTool\"},{\"attributes\":{\"coordinates\":null,\"data_source\":{\"id\":\"6952\"},\"glyph\":{\"id\":\"6953\"},\"group\":null,\"hover_glyph\":null,\"muted_glyph\":{\"id\":\"6955\"},\"nonselection_glyph\":{\"id\":\"6954\"},\"view\":{\"id\":\"6957\"}},\"id\":\"6956\",\"type\":\"GlyphRenderer\"},{\"attributes\":{\"data\":{\"x\":{\"__ndarray__\":\"AAAAAAAAAACamZmZmZnJP5qZmZmZmdk/NDMzMzMz4z+amZmZmZnpPwAAAAAAAPA/NDMzMzMz8z9nZmZmZmb2P5qZmZmZmfk/zczMzMzM/D8AAAAAAAAAQJqZmZmZmQFANDMzMzMzA0DNzMzMzMwEQGdmZmZmZgZAAAAAAAAACECamZmZmZkJQDQzMzMzMwtAzczMzMzMDEBnZmZmZmYOQAAAAAAAABBAzczMzMzMEECamZmZmZkRQGdmZmZmZhJANDMzMzMzE0A=\",\"dtype\":\"float64\",\"order\":\"little\",\"shape\":[25]},\"y\":[0.0,0.008000000000000002,0.06400000000000002,0.2160000000000001,0.5120000000000001,1.0,1.7280000000000009,2.7440000000000007,4.096000000000001,5.832000000000001,8.0,10.648000000000003,13.824000000000007,17.576,21.952000000000005,27.0,32.76800000000001,39.30400000000001,46.656000000000006,54.872000000000014,64.0,74.08800000000001,85.18400000000003,97.33600000000003,110.59200000000006]},\"selected\":{\"id\":\"7204\"},\"selection_policy\":{\"id\":\"7203\"}},\"id\":\"6952\",\"type\":\"ColumnDataSource\"},{\"attributes\":{\"line_color\":\"blue\",\"line_width\":3,\"x\":{\"field\":\"x\"},\"y\":{\"field\":\"y\"}},\"id\":\"8072\",\"type\":\"Line\"},{\"attributes\":{},\"id\":\"7723\",\"type\":\"Selection\"},{\"attributes\":{},\"id\":\"6586\",\"type\":\"LinearScale\"},{\"attributes\":{\"axis\":{\"id\":\"6592\"},\"coordinates\":null,\"dimension\":1,\"group\":null,\"ticker\":null},\"id\":\"6595\",\"type\":\"Grid\"},{\"attributes\":{},\"id\":\"8326\",\"type\":\"UnionRenderers\"},{\"attributes\":{\"fill_color\":{\"value\":\"orange\"},\"hatch_color\":{\"value\":\"orange\"},\"line_color\":{\"value\":\"orange\"},\"size\":{\"value\":6},\"x\":{\"field\":\"x\"},\"y\":{\"field\":\"y\"}},\"id\":\"7470\",\"type\":\"Circle\"},{\"attributes\":{\"end\":100},\"id\":\"6582\",\"type\":\"Range1d\"},{\"attributes\":{\"data\":{\"x\":{\"__ndarray__\":\"AAAAAAAAAACamZmZmZnJP5qZmZmZmdk/NDMzMzMz4z+amZmZmZnpPwAAAAAAAPA/NDMzMzMz8z9nZmZmZmb2P5qZmZmZmfk/zczMzMzM/D8AAAAAAAAAQJqZmZmZmQFANDMzMzMzA0DNzMzMzMwEQGdmZmZmZgZAAAAAAAAACECamZmZmZkJQDQzMzMzMwtAzczMzMzMDEBnZmZmZmYOQAAAAAAAABBAzczMzMzMEECamZmZmZkRQGdmZmZmZhJANDMzMzMzE0A=\",\"dtype\":\"float64\",\"order\":\"little\",\"shape\":[25]},\"y\":{\"__ndarray__\":\"AAAAAAAAAACamZmZmZnJP5qZmZmZmdk/NDMzMzMz4z+amZmZmZnpPwAAAAAAAPA/NDMzMzMz8z9nZmZmZmb2P5qZmZmZmfk/zczMzMzM/D8AAAAAAAAAQJqZmZmZmQFANDMzMzMzA0DNzMzMzMwEQGdmZmZmZgZAAAAAAAAACECamZmZmZkJQDQzMzMzMwtAzczMzMzMDEBnZmZmZmYOQAAAAAAAABBAzczMzMzMEECamZmZmZkRQGdmZmZmZhJANDMzMzMzE0A=\",\"dtype\":\"float64\",\"order\":\"little\",\"shape\":[25]}},\"selected\":{\"id\":\"6644\"},\"selection_policy\":{\"id\":\"6643\"}},\"id\":\"6628\",\"type\":\"ColumnDataSource\"},{\"attributes\":{},\"id\":\"8858\",\"type\":\"Selection\"},{\"attributes\":{\"source\":{\"id\":\"7469\"}},\"id\":\"7474\",\"type\":\"CDSView\"},{\"attributes\":{\"coordinates\":null,\"data_source\":{\"id\":\"7469\"},\"glyph\":{\"id\":\"7470\"},\"group\":null,\"hover_glyph\":null,\"muted_glyph\":{\"id\":\"7472\"},\"nonselection_glyph\":{\"id\":\"7471\"},\"view\":{\"id\":\"7474\"}},\"id\":\"7473\",\"type\":\"GlyphRenderer\"},{\"attributes\":{},\"id\":\"6584\",\"type\":\"LinearScale\"},{\"attributes\":{\"source\":{\"id\":\"6952\"}},\"id\":\"6957\",\"type\":\"CDSView\"},{\"attributes\":{},\"id\":\"6589\",\"type\":\"BasicTicker\"},{\"attributes\":{},\"id\":\"8857\",\"type\":\"UnionRenderers\"},{\"attributes\":{\"line_color\":\"orange\",\"x\":{\"field\":\"x\"},\"y\":{\"field\":\"y\"}},\"id\":\"6953\",\"type\":\"Line\"},{\"attributes\":{\"data\":{\"x\":{\"__ndarray__\":\"AAAAAAAAAACamZmZmZnJP5qZmZmZmdk/NDMzMzMz4z+amZmZmZnpPwAAAAAAAPA/NDMzMzMz8z9nZmZmZmb2P5qZmZmZmfk/zczMzMzM/D8AAAAAAAAAQJqZmZmZmQFANDMzMzMzA0DNzMzMzMwEQGdmZmZmZgZAAAAAAAAACECamZmZmZkJQDQzMzMzMwtAzczMzMzMDEBnZmZmZmYOQAAAAAAAABBAzczMzMzMEECamZmZmZkRQGdmZmZmZhJANDMzMzMzE0A=\",\"dtype\":\"float64\",\"order\":\"little\",\"shape\":[25]},\"y\":{\"__ndarray__\":\"AAAAAAAAAAB8FK5H4XqkP3wUrkfhesQ/DNejcD0K1z98FK5H4XrkPwAAAAAAAPA/DNejcD0K9z9ej8L1KFz/P3wUrkfhegRA7FG4HoXrCUAAAAAAAAAQQF2PwvUoXBNADNejcD0KF0AL16NwPQobQF6PwvUoXB9AAAAAAAAAIkB8FK5H4XokQCCF61G4HidA7FG4HoXrKUDiehSuR+EsQAAAAAAAADBApHA9CtejMUBdj8L1KFwzQCpcj8L1KDVADNejcD0KN0A=\",\"dtype\":\"float64\",\"order\":\"little\",\"shape\":[25]}},\"selected\":{\"id\":\"8327\"},\"selection_policy\":{\"id\":\"8326\"}},\"id\":\"8071\",\"type\":\"ColumnDataSource\"},{\"attributes\":{\"line_alpha\":0.1,\"line_color\":\"orange\",\"x\":{\"field\":\"x\"},\"y\":{\"field\":\"y\"}},\"id\":\"6954\",\"type\":\"Line\"},{\"attributes\":{\"line_alpha\":0.2,\"line_color\":\"blue\",\"line_width\":3,\"x\":{\"field\":\"x\"},\"y\":{\"field\":\"y\"}},\"id\":\"8074\",\"type\":\"Line\"}],\"root_ids\":[\"6577\"]},\"title\":\"Bokeh Application\",\"version\":\"2.4.3\"}};\n  const render_items = [{\"docid\":\"4f2502ab-3cd8-4b01-bbdd-fdba217e94a3\",\"root_ids\":[\"6577\"],\"roots\":{\"6577\":\"f8b17737-481e-4b00-9a36-694a4017feeb\"}}];\n  root.Bokeh.embed.embed_items_notebook(docs_json, render_items);\n  }\n  if (root.Bokeh !== undefined) {\n    embed_document(root);\n  } else {\n    let attempts = 0;\n    const timer = setInterval(function(root) {\n      if (root.Bokeh !== undefined) {\n        clearInterval(timer);\n        embed_document(root);\n      } else {\n        attempts++;\n        if (attempts > 100) {\n          clearInterval(timer);\n          console.log(\"Bokeh: ERROR: Unable to run BokehJS code because BokehJS library is missing\");\n        }\n      }\n    }, 10, root)\n  }\n})(window);",
      "application/vnd.bokehjs_exec.v0+json": ""
     },
     "metadata": {
      "application/vnd.bokehjs_exec.v0+json": {
       "id": "6577"
      }
     },
     "output_type": "display_data"
    }
   ],
   "source": [
    "### Insérez votre code ici\n",
    "\n",
    "q.line(x, x**2, line_width=3, line_color='blue',legend_label='y=x^2')\n",
    "q.line(x, x**4, line_dash='dashed', line_color='red',legend_label='y=x^4')\n",
    "\n",
    "show(q)\n",
    "\n"
   ]
  },
  {
   "cell_type": "markdown",
   "metadata": {
    "deletable": false,
    "editable": false,
    "function": "preliminary",
    "question_id": 1,
    "run_control": {
     "frozen": true
    }
   },
   "source": [
    "> Les méthodes *glyph* retournent des objets de type **GlyphRenderer**. Ces objets contiennent les attributs qui définissent la source des données du graphe et la glyphe à dessiner. \n",
    ">\n",
    "> Une fois ces objets **GlyphRenderer** instanciés, il est possible de les personnaliser ou de les modifier, comme dans l'exemple ci-dessous: \n",
    "> ```python\n",
    "    p = figure(plot_width=500, plot_height=500) # instanciation de la figure\n",
    "    r1 = p.circle(x, y1,legend='y1')            # instanciation d'un nuage de points en forme de cercles\n",
    "    r1.glyph.size = 5                           # modification de la taille des cercles\n",
    "    r1.glyph.color = 'green'                    # modification de la couleur des cercles\n",
    "    ```\n",
    ">\n",
    "> L'attribut `glyph` de r1 nous permet d'accéder au nuage de points qui doit être dessiné.\n",
    "   \n",
    "\n",
    "\n",
    "\n",
    "* Créer les listes de coordonnées **`x = [1, 2, 3, 4, 5]`**, **`y1 = [1, 15, 5, 18, 13]`** et **`y2 = [5, 9, 10, 15, 25]`**.\n",
    "\n",
    "\n",
    "* Dans une figure de taille 600x600: afficher les points de coordonnées $(x,y1)$ avec la légende `'y1'` dans un nuage de points en forme de cercles et stocker la sortie de la méthode glyphe dans un objet nommé **`r1`**.\n",
    "\n",
    "\n",
    "* A l'aide des attributs de **`r1`**, faites en sorte que:\n",
    "    * Les points aient une taille de 50. L'attribut correspondant est `size`.\n",
    "    * L'intérieur des points ait une opacité 0,2. L'attribut correspondant est `fill_alpha`.\n",
    "    * Le contour des points soit tracé en style pointillé. L'attribut correspondant est `line_dash`.\n",
    "    * La couleur du contour des points soit `firebrick`. L'attribut correspondant est `line_color`.\n",
    "    * L'épaisseur du contour des points soit de 2. L'attribut correspondant est `line_width`.\n",
    "\n",
    "\n",
    "* Tracer une courbe à partir de **`x`** et **`y2`**, avec une ligne bleue d'épaisseur 1 tracée en style alterné pointillé-tirets dont la légende est `'y2'`.\n",
    "\n",
    "\n",
    "* Afficher la figure."
   ]
  },
  {
   "cell_type": "code",
   "execution_count": 35,
   "metadata": {
    "function": "submission",
    "ExecuteTime": {
     "end_time": "2023-11-29T14:32:04.118383Z",
     "start_time": "2023-11-29T14:32:04.046900Z"
    }
   },
   "outputs": [
    {
     "data": {
      "text/html": "\n  <div class=\"bk-root\" id=\"f7ee6a9b-9457-4b52-aee5-c68da9a9e5de\" data-root-id=\"9235\"></div>\n"
     },
     "metadata": {},
     "output_type": "display_data"
    },
    {
     "data": {
      "application/javascript": "(function(root) {\n  function embed_document(root) {\n  const docs_json = {\"36596652-863b-40ba-a496-b84e780c3f98\":{\"defs\":[],\"roots\":{\"references\":[{\"attributes\":{\"below\":[{\"id\":\"9244\"}],\"center\":[{\"id\":\"9247\"},{\"id\":\"9251\"},{\"id\":\"9283\"}],\"left\":[{\"id\":\"9248\"}],\"renderers\":[{\"id\":\"9270\"},{\"id\":\"9289\"}],\"title\":{\"id\":\"9272\"},\"toolbar\":{\"id\":\"9259\"},\"x_range\":{\"id\":\"9236\"},\"x_scale\":{\"id\":\"9240\"},\"y_range\":{\"id\":\"9238\"},\"y_scale\":{\"id\":\"9242\"}},\"id\":\"9235\",\"subtype\":\"Figure\",\"type\":\"Plot\"},{\"attributes\":{},\"id\":\"9280\",\"type\":\"UnionRenderers\"},{\"attributes\":{},\"id\":\"9242\",\"type\":\"LinearScale\"},{\"attributes\":{\"label\":{\"value\":\"y1\"},\"renderers\":[{\"id\":\"9270\"}]},\"id\":\"9284\",\"type\":\"LegendItem\"},{\"attributes\":{},\"id\":\"9245\",\"type\":\"BasicTicker\"},{\"attributes\":{},\"id\":\"9301\",\"type\":\"UnionRenderers\"},{\"attributes\":{},\"id\":\"9257\",\"type\":\"HelpTool\"},{\"attributes\":{\"axis\":{\"id\":\"9244\"},\"coordinates\":null,\"group\":null,\"ticker\":null},\"id\":\"9247\",\"type\":\"Grid\"},{\"attributes\":{\"line_alpha\":0.2,\"line_color\":\"blue\",\"line_dash\":[6,4,2,4],\"x\":{\"field\":\"x\"},\"y\":{\"field\":\"y\"}},\"id\":\"9288\",\"type\":\"Line\"},{\"attributes\":{},\"id\":\"9279\",\"type\":\"AllLabels\"},{\"attributes\":{},\"id\":\"9276\",\"type\":\"AllLabels\"},{\"attributes\":{\"line_alpha\":0.1,\"line_color\":\"blue\",\"line_dash\":[6,4,2,4],\"x\":{\"field\":\"x\"},\"y\":{\"field\":\"y\"}},\"id\":\"9287\",\"type\":\"Line\"},{\"attributes\":{\"fill_alpha\":{\"value\":0.2},\"fill_color\":{\"value\":\"#1f77b4\"},\"hatch_alpha\":{\"value\":0.2},\"line_alpha\":{\"value\":0.2},\"line_color\":{\"value\":\"#1f77b4\"},\"x\":{\"field\":\"x\"},\"y\":{\"field\":\"y\"}},\"id\":\"9269\",\"type\":\"Circle\"},{\"attributes\":{},\"id\":\"9249\",\"type\":\"BasicTicker\"},{\"attributes\":{\"axis\":{\"id\":\"9248\"},\"coordinates\":null,\"dimension\":1,\"group\":null,\"ticker\":null},\"id\":\"9251\",\"type\":\"Grid\"},{\"attributes\":{\"data\":{\"x\":[1,2,3,4,5],\"y\":[1,15,5,18,13]},\"selected\":{\"id\":\"9281\"},\"selection_policy\":{\"id\":\"9280\"}},\"id\":\"9266\",\"type\":\"ColumnDataSource\"},{\"attributes\":{},\"id\":\"9253\",\"type\":\"WheelZoomTool\"},{\"attributes\":{\"background_fill_alpha\":0.25,\"border_line_alpha\":0,\"coordinates\":null,\"glyph_width\":15,\"group\":null,\"items\":[{\"id\":\"9284\"},{\"id\":\"9304\"}],\"label_standoff\":8,\"label_text_color\":\"#5B5B5B\",\"label_text_font\":\"Calibri Light\",\"label_text_font_size\":\"0.95em\",\"label_text_font_style\":\"bold\",\"spacing\":8},\"id\":\"9283\",\"type\":\"Legend\"},{\"attributes\":{},\"id\":\"9275\",\"type\":\"BasicTickFormatter\"},{\"attributes\":{\"line_color\":\"blue\",\"line_dash\":[6,4,2,4],\"x\":{\"field\":\"x\"},\"y\":{\"field\":\"y\"}},\"id\":\"9286\",\"type\":\"Line\"},{\"attributes\":{},\"id\":\"9252\",\"type\":\"PanTool\"},{\"attributes\":{\"label\":{\"value\":\"y2\"},\"renderers\":[{\"id\":\"9289\"}]},\"id\":\"9304\",\"type\":\"LegendItem\"},{\"attributes\":{\"overlay\":{\"id\":\"9258\"}},\"id\":\"9254\",\"type\":\"BoxZoomTool\"},{\"attributes\":{\"bottom_units\":\"screen\",\"coordinates\":null,\"fill_alpha\":0.5,\"fill_color\":\"lightgrey\",\"group\":null,\"left_units\":\"screen\",\"level\":\"overlay\",\"line_alpha\":1.0,\"line_color\":\"black\",\"line_dash\":[4,4],\"line_width\":2,\"right_units\":\"screen\",\"syncable\":false,\"top_units\":\"screen\"},\"id\":\"9258\",\"type\":\"BoxAnnotation\"},{\"attributes\":{\"tools\":[{\"id\":\"9252\"},{\"id\":\"9253\"},{\"id\":\"9254\"},{\"id\":\"9255\"},{\"id\":\"9256\"},{\"id\":\"9257\"}]},\"id\":\"9259\",\"type\":\"Toolbar\"},{\"attributes\":{},\"id\":\"9256\",\"type\":\"ResetTool\"},{\"attributes\":{},\"id\":\"9255\",\"type\":\"SaveTool\"},{\"attributes\":{\"source\":{\"id\":\"9285\"}},\"id\":\"9290\",\"type\":\"CDSView\"},{\"attributes\":{\"data\":{\"x\":[1,2,3,4,5],\"y\":[5,9,10,15,25]},\"selected\":{\"id\":\"9302\"},\"selection_policy\":{\"id\":\"9301\"}},\"id\":\"9285\",\"type\":\"ColumnDataSource\"},{\"attributes\":{\"source\":{\"id\":\"9266\"}},\"id\":\"9271\",\"type\":\"CDSView\"},{\"attributes\":{\"fill_alpha\":{\"value\":0.2},\"fill_color\":{\"value\":\"#1f77b4\"},\"line_color\":{\"value\":\"firebrick\"},\"line_dash\":{\"value\":\"dashed\"},\"line_width\":{\"value\":2},\"size\":{\"value\":50},\"x\":{\"field\":\"x\"},\"y\":{\"field\":\"y\"}},\"id\":\"9267\",\"type\":\"Circle\"},{\"attributes\":{},\"id\":\"9281\",\"type\":\"Selection\"},{\"attributes\":{},\"id\":\"9236\",\"type\":\"DataRange1d\"},{\"attributes\":{\"axis_label_standoff\":10,\"axis_label_text_color\":\"#5B5B5B\",\"axis_label_text_font\":\"Calibri Light\",\"axis_label_text_font_size\":\"1.15em\",\"axis_label_text_font_style\":\"bold\",\"axis_line_alpha\":1,\"axis_line_color\":\"#5B5B5B\",\"coordinates\":null,\"formatter\":{\"id\":\"9275\"},\"group\":null,\"major_label_policy\":{\"id\":\"9276\"},\"major_label_text_color\":\"#5B5B5B\",\"major_label_text_font\":\"Calibri Light\",\"major_label_text_font_size\":\"0.95em\",\"major_label_text_font_style\":\"bold\",\"major_tick_in\":0,\"major_tick_line_alpha\":0.25,\"major_tick_line_color\":\"#5B5B5B\",\"major_tick_out\":3,\"minor_tick_line_alpha\":0.25,\"minor_tick_line_color\":\"#5B5B5B\",\"ticker\":{\"id\":\"9249\"}},\"id\":\"9248\",\"type\":\"LinearAxis\"},{\"attributes\":{},\"id\":\"9240\",\"type\":\"LinearScale\"},{\"attributes\":{\"coordinates\":null,\"group\":null,\"text_color\":\"#5B5B5B\",\"text_font\":\"Calibri Light\",\"text_font_size\":\"1.25em\",\"text_font_style\":\"bold\"},\"id\":\"9272\",\"type\":\"Title\"},{\"attributes\":{},\"id\":\"9278\",\"type\":\"BasicTickFormatter\"},{\"attributes\":{},\"id\":\"9302\",\"type\":\"Selection\"},{\"attributes\":{\"axis_label_standoff\":10,\"axis_label_text_color\":\"#5B5B5B\",\"axis_label_text_font\":\"Calibri Light\",\"axis_label_text_font_size\":\"1.15em\",\"axis_label_text_font_style\":\"bold\",\"axis_line_alpha\":1,\"axis_line_color\":\"#5B5B5B\",\"coordinates\":null,\"formatter\":{\"id\":\"9278\"},\"group\":null,\"major_label_policy\":{\"id\":\"9279\"},\"major_label_text_color\":\"#5B5B5B\",\"major_label_text_font\":\"Calibri Light\",\"major_label_text_font_size\":\"0.95em\",\"major_label_text_font_style\":\"bold\",\"major_tick_in\":0,\"major_tick_line_alpha\":0.25,\"major_tick_line_color\":\"#5B5B5B\",\"major_tick_out\":3,\"minor_tick_line_alpha\":0.25,\"minor_tick_line_color\":\"#5B5B5B\",\"ticker\":{\"id\":\"9245\"}},\"id\":\"9244\",\"type\":\"LinearAxis\"},{\"attributes\":{\"fill_alpha\":{\"value\":0.1},\"fill_color\":{\"value\":\"#1f77b4\"},\"hatch_alpha\":{\"value\":0.1},\"line_alpha\":{\"value\":0.1},\"line_color\":{\"value\":\"#1f77b4\"},\"x\":{\"field\":\"x\"},\"y\":{\"field\":\"y\"}},\"id\":\"9268\",\"type\":\"Circle\"},{\"attributes\":{\"coordinates\":null,\"data_source\":{\"id\":\"9266\"},\"glyph\":{\"id\":\"9267\"},\"group\":null,\"hover_glyph\":null,\"muted_glyph\":{\"id\":\"9269\"},\"nonselection_glyph\":{\"id\":\"9268\"},\"view\":{\"id\":\"9271\"}},\"id\":\"9270\",\"type\":\"GlyphRenderer\"},{\"attributes\":{},\"id\":\"9238\",\"type\":\"DataRange1d\"},{\"attributes\":{\"coordinates\":null,\"data_source\":{\"id\":\"9285\"},\"glyph\":{\"id\":\"9286\"},\"group\":null,\"hover_glyph\":null,\"muted_glyph\":{\"id\":\"9288\"},\"nonselection_glyph\":{\"id\":\"9287\"},\"view\":{\"id\":\"9290\"}},\"id\":\"9289\",\"type\":\"GlyphRenderer\"}],\"root_ids\":[\"9235\"]},\"title\":\"Bokeh Application\",\"version\":\"2.4.3\"}};\n  const render_items = [{\"docid\":\"36596652-863b-40ba-a496-b84e780c3f98\",\"root_ids\":[\"9235\"],\"roots\":{\"9235\":\"f7ee6a9b-9457-4b52-aee5-c68da9a9e5de\"}}];\n  root.Bokeh.embed.embed_items_notebook(docs_json, render_items);\n  }\n  if (root.Bokeh !== undefined) {\n    embed_document(root);\n  } else {\n    let attempts = 0;\n    const timer = setInterval(function(root) {\n      if (root.Bokeh !== undefined) {\n        clearInterval(timer);\n        embed_document(root);\n      } else {\n        attempts++;\n        if (attempts > 100) {\n          clearInterval(timer);\n          console.log(\"Bokeh: ERROR: Unable to run BokehJS code because BokehJS library is missing\");\n        }\n      }\n    }, 10, root)\n  }\n})(window);",
      "application/vnd.bokehjs_exec.v0+json": ""
     },
     "metadata": {
      "application/vnd.bokehjs_exec.v0+json": {
       "id": "9235"
      }
     },
     "output_type": "display_data"
    }
   ],
   "source": [
    "## Insérez votre code ici\n",
    "x=[1,2,3,4,5]\n",
    "y1 = [1,15,5,18,13]\n",
    "y2 = [5,9,10,15,25]\n",
    "\n",
    "p=figure(width=600,height=600)\n",
    "r1 = p.circle(x,y1,legend_label='y1')\n",
    "r1.glyph.size = 50\n",
    "r1.glyph.fill_alpha = 0.2\n",
    "r1.glyph.line_dash = 'dashed'\n",
    "r1.glyph.line_color = 'firebrick'\n",
    "r1.glyph.line_width = 2\n",
    "\n",
    "p.line(x,y2,line_color='blue',line_width=1,line_dash='dashdot',legend_label='y2')\n",
    "\n",
    "show(p)\n",
    "\n",
    "\n"
   ]
  },
  {
   "cell_type": "markdown",
   "metadata": {
    "deletable": false,
    "editable": false,
    "function": "preliminary",
    "question_id": 1,
    "run_control": {
     "frozen": true
    }
   },
   "source": [
    "### L'outil HoverTool (introduction)\n",
    "\n",
    "> Un des outils les plus utilisés parmi ceux disponibles sur Bokeh est `HoverTool` qui permet de modifier l'affichage d'un graphique lorsque le curseur de la souris le \"survole\" (*hover* en anglais).\n",
    ">\n",
    ">\n",
    "> A l'intérieur d'une méthode *glyph* , il est possible de définir explicitement l'apparence qu'un graphique devrait avoir lorsque le curseur de la souris se trouve dessus. Les paramètres qui définissent cette apparence sont les mêmes que ceux que nous avons vu précédemment, et sont simplement précédés du préfixe `hover_`:\n",
    ">\n",
    ">\n",
    "```python\n",
    "r = p.circle(x,                          \n",
    "             y,\n",
    "             color = 'red',          # couleur des points \n",
    "             hover_color = 'blue',   # couleur du point survolé par la souris.\n",
    "             hover_alpha = 0.5)      # opacité du point survolé par la souris.\n",
    "```\n",
    ">\n",
    ">\n",
    "> Pour obtenir l'effet désiré, il est nécessaire d'instancier un outil `HoverTool` et de l'associer à la figure sur laquelle nous voulons rajouter les interactions entre la souris et le graphique.\n",
    ">\n",
    ">\n",
    "> Les paramètres à préciser lors de l'instanciation d'un `HoverTool` sont:\n",
    ">* `renderers` : liste d'objets de type `GlyphRenderer` (sortie des méthodes *glyph*) avec lesquels nous voulons interagir.\n",
    ">* `tooltips` : liste de couples `('label', 'value')` qui permet d'afficher un tableau contenant une série d'informations à propos du point qui est survolé par la souris.\n",
    ">\n",
    "> Lancer la cellule suivante et survoler les points du nuage avec le curseur de votre souris:"
   ]
  },
  {
   "cell_type": "code",
   "execution_count": 36,
   "metadata": {
    "ExecuteTime": {
     "end_time": "2023-11-29T14:32:12.693746Z",
     "start_time": "2023-11-29T14:32:12.681928Z"
    }
   },
   "outputs": [
    {
     "data": {
      "text/html": "\n  <div class=\"bk-root\" id=\"9fb2f387-67bb-44b6-808d-53e00531596e\" data-root-id=\"9637\"></div>\n"
     },
     "metadata": {},
     "output_type": "display_data"
    },
    {
     "data": {
      "application/javascript": "(function(root) {\n  function embed_document(root) {\n  const docs_json = {\"d9b3d047-3f7b-4c5e-a1e9-0480f4aee494\":{\"defs\":[],\"roots\":{\"references\":[{\"attributes\":{\"below\":[{\"id\":\"9646\"}],\"center\":[{\"id\":\"9649\"},{\"id\":\"9653\"}],\"height\":400,\"left\":[{\"id\":\"9650\"}],\"renderers\":[{\"id\":\"9673\"}],\"title\":{\"id\":\"9944\"},\"toolbar\":{\"id\":\"9661\"},\"x_range\":{\"id\":\"9638\"},\"x_scale\":{\"id\":\"9642\"},\"y_range\":{\"id\":\"9640\"},\"y_scale\":{\"id\":\"9644\"}},\"id\":\"9637\",\"subtype\":\"Figure\",\"type\":\"Plot\"},{\"attributes\":{},\"id\":\"9953\",\"type\":\"Selection\"},{\"attributes\":{},\"id\":\"9659\",\"type\":\"HelpTool\"},{\"attributes\":{\"axis\":{\"id\":\"9646\"},\"coordinates\":null,\"group\":null,\"ticker\":null},\"id\":\"9649\",\"type\":\"Grid\"},{\"attributes\":{},\"id\":\"9950\",\"type\":\"BasicTickFormatter\"},{\"attributes\":{\"fill_alpha\":{\"value\":0.5},\"fill_color\":{\"value\":\"blue\"},\"hatch_alpha\":{\"value\":0.5},\"hatch_color\":{\"value\":\"blue\"},\"line_alpha\":{\"value\":0.5},\"line_color\":{\"value\":\"blue\"},\"size\":{\"value\":50},\"x\":{\"field\":\"x\"},\"y\":{\"field\":\"y\"}},\"id\":\"9671\",\"type\":\"Circle\"},{\"attributes\":{},\"id\":\"9952\",\"type\":\"UnionRenderers\"},{\"attributes\":{\"axis\":{\"id\":\"9650\"},\"coordinates\":null,\"dimension\":1,\"group\":null,\"ticker\":null},\"id\":\"9653\",\"type\":\"Grid\"},{\"attributes\":{\"fill_alpha\":{\"value\":0.2},\"fill_color\":{\"value\":\"red\"},\"hatch_alpha\":{\"value\":0.2},\"hatch_color\":{\"value\":\"red\"},\"line_alpha\":{\"value\":0.2},\"line_color\":{\"value\":\"red\"},\"size\":{\"value\":50},\"x\":{\"field\":\"x\"},\"y\":{\"field\":\"y\"}},\"id\":\"9672\",\"type\":\"Circle\"},{\"attributes\":{},\"id\":\"9655\",\"type\":\"WheelZoomTool\"},{\"attributes\":{},\"id\":\"9651\",\"type\":\"BasicTicker\"},{\"attributes\":{\"coordinates\":null,\"data_source\":{\"id\":\"9668\"},\"glyph\":{\"id\":\"9669\"},\"group\":null,\"hover_glyph\":{\"id\":\"9671\"},\"muted_glyph\":{\"id\":\"9672\"},\"nonselection_glyph\":{\"id\":\"9670\"},\"view\":{\"id\":\"9674\"}},\"id\":\"9673\",\"type\":\"GlyphRenderer\"},{\"attributes\":{\"fill_alpha\":{\"value\":0.1},\"fill_color\":{\"value\":\"red\"},\"hatch_alpha\":{\"value\":0.1},\"hatch_color\":{\"value\":\"red\"},\"line_alpha\":{\"value\":0.1},\"line_color\":{\"value\":\"red\"},\"size\":{\"value\":50},\"x\":{\"field\":\"x\"},\"y\":{\"field\":\"y\"}},\"id\":\"9670\",\"type\":\"Circle\"},{\"attributes\":{\"axis_label_standoff\":10,\"axis_label_text_color\":\"#5B5B5B\",\"axis_label_text_font\":\"Calibri Light\",\"axis_label_text_font_size\":\"1.15em\",\"axis_label_text_font_style\":\"bold\",\"axis_line_alpha\":1,\"axis_line_color\":\"#5B5B5B\",\"coordinates\":null,\"formatter\":{\"id\":\"9950\"},\"group\":null,\"major_label_policy\":{\"id\":\"9951\"},\"major_label_text_color\":\"#5B5B5B\",\"major_label_text_font\":\"Calibri Light\",\"major_label_text_font_size\":\"0.95em\",\"major_label_text_font_style\":\"bold\",\"major_tick_in\":0,\"major_tick_line_alpha\":0.25,\"major_tick_line_color\":\"#5B5B5B\",\"major_tick_out\":3,\"minor_tick_line_alpha\":0.25,\"minor_tick_line_color\":\"#5B5B5B\",\"ticker\":{\"id\":\"9647\"}},\"id\":\"9646\",\"type\":\"LinearAxis\"},{\"attributes\":{},\"id\":\"9951\",\"type\":\"AllLabels\"},{\"attributes\":{},\"id\":\"9947\",\"type\":\"BasicTickFormatter\"},{\"attributes\":{\"tools\":[{\"id\":\"9654\"},{\"id\":\"9655\"},{\"id\":\"9656\"},{\"id\":\"9657\"},{\"id\":\"9658\"},{\"id\":\"9659\"},{\"id\":\"9675\"}]},\"id\":\"9661\",\"type\":\"Toolbar\"},{\"attributes\":{\"source\":{\"id\":\"9668\"}},\"id\":\"9674\",\"type\":\"CDSView\"},{\"attributes\":{},\"id\":\"9654\",\"type\":\"PanTool\"},{\"attributes\":{\"fill_color\":{\"value\":\"red\"},\"hatch_color\":{\"value\":\"red\"},\"line_color\":{\"value\":\"red\"},\"size\":{\"value\":50},\"x\":{\"field\":\"x\"},\"y\":{\"field\":\"y\"}},\"id\":\"9669\",\"type\":\"Circle\"},{\"attributes\":{\"overlay\":{\"id\":\"9660\"}},\"id\":\"9656\",\"type\":\"BoxZoomTool\"},{\"attributes\":{},\"id\":\"9657\",\"type\":\"SaveTool\"},{\"attributes\":{\"bottom_units\":\"screen\",\"coordinates\":null,\"fill_alpha\":0.5,\"fill_color\":\"lightgrey\",\"group\":null,\"left_units\":\"screen\",\"level\":\"overlay\",\"line_alpha\":1.0,\"line_color\":\"black\",\"line_dash\":[4,4],\"line_width\":2,\"right_units\":\"screen\",\"syncable\":false,\"top_units\":\"screen\"},\"id\":\"9660\",\"type\":\"BoxAnnotation\"},{\"attributes\":{},\"id\":\"9658\",\"type\":\"ResetTool\"},{\"attributes\":{},\"id\":\"9948\",\"type\":\"AllLabels\"},{\"attributes\":{\"coordinates\":null,\"group\":null,\"text_color\":\"#5B5B5B\",\"text_font\":\"Calibri Light\",\"text_font_size\":\"1.25em\",\"text_font_style\":\"bold\"},\"id\":\"9944\",\"type\":\"Title\"},{\"attributes\":{\"data\":{\"x\":[1,2,3,4,5],\"y\":[1,15,5,18,13]},\"selected\":{\"id\":\"9953\"},\"selection_policy\":{\"id\":\"9952\"}},\"id\":\"9668\",\"type\":\"ColumnDataSource\"},{\"attributes\":{},\"id\":\"9644\",\"type\":\"LinearScale\"},{\"attributes\":{},\"id\":\"9642\",\"type\":\"LinearScale\"},{\"attributes\":{},\"id\":\"9638\",\"type\":\"DataRange1d\"},{\"attributes\":{},\"id\":\"9640\",\"type\":\"DataRange1d\"},{\"attributes\":{\"callback\":null,\"renderers\":[{\"id\":\"9673\"}],\"tooltips\":[[\"(x, y)\",\"($x, $y)\"]]},\"id\":\"9675\",\"type\":\"HoverTool\"},{\"attributes\":{\"axis_label_standoff\":10,\"axis_label_text_color\":\"#5B5B5B\",\"axis_label_text_font\":\"Calibri Light\",\"axis_label_text_font_size\":\"1.15em\",\"axis_label_text_font_style\":\"bold\",\"axis_line_alpha\":1,\"axis_line_color\":\"#5B5B5B\",\"coordinates\":null,\"formatter\":{\"id\":\"9947\"},\"group\":null,\"major_label_policy\":{\"id\":\"9948\"},\"major_label_text_color\":\"#5B5B5B\",\"major_label_text_font\":\"Calibri Light\",\"major_label_text_font_size\":\"0.95em\",\"major_label_text_font_style\":\"bold\",\"major_tick_in\":0,\"major_tick_line_alpha\":0.25,\"major_tick_line_color\":\"#5B5B5B\",\"major_tick_out\":3,\"minor_tick_line_alpha\":0.25,\"minor_tick_line_color\":\"#5B5B5B\",\"ticker\":{\"id\":\"9651\"}},\"id\":\"9650\",\"type\":\"LinearAxis\"},{\"attributes\":{},\"id\":\"9647\",\"type\":\"BasicTicker\"}],\"root_ids\":[\"9637\"]},\"title\":\"Bokeh Application\",\"version\":\"2.4.3\"}};\n  const render_items = [{\"docid\":\"d9b3d047-3f7b-4c5e-a1e9-0480f4aee494\",\"root_ids\":[\"9637\"],\"roots\":{\"9637\":\"9fb2f387-67bb-44b6-808d-53e00531596e\"}}];\n  root.Bokeh.embed.embed_items_notebook(docs_json, render_items);\n  }\n  if (root.Bokeh !== undefined) {\n    embed_document(root);\n  } else {\n    let attempts = 0;\n    const timer = setInterval(function(root) {\n      if (root.Bokeh !== undefined) {\n        clearInterval(timer);\n        embed_document(root);\n      } else {\n        attempts++;\n        if (attempts > 100) {\n          clearInterval(timer);\n          console.log(\"Bokeh: ERROR: Unable to run BokehJS code because BokehJS library is missing\");\n        }\n      }\n    }, 10, root)\n  }\n})(window);",
      "application/vnd.bokehjs_exec.v0+json": ""
     },
     "metadata": {
      "application/vnd.bokehjs_exec.v0+json": {
       "id": "9637"
      }
     },
     "output_type": "display_data"
    }
   ],
   "source": [
    "# Liste d'abscisses\n",
    "\n",
    "x = [1, 2, 3, 4, 5]\n",
    "\n",
    "# Liste d'ordonnées\n",
    "\n",
    "y = [1, 15, 5, 18, 13]\n",
    "\n",
    "# Instanciation de la figure\n",
    "\n",
    "p = figure(plot_width = 600,           # largeur de la figure\n",
    "           plot_height = 400)          # hauteur de la figure\n",
    "\n",
    "# Instanciation d'un nuage de points\n",
    "\n",
    "r = p.circle(x,                        # abscisses    \n",
    "             y,                        # ordonnées \n",
    "             size = 50,                # taille des cercles\n",
    "             color = 'red',            # couleur des points \n",
    "             \n",
    "     # paramètres HoverTool \n",
    "             \n",
    "             hover_color = 'blue',     # couleur du point survolé par le curseur de la souris.\n",
    "             hover_alpha = 0.5)        # opacité du point survolé par le curseur de la souris.\n",
    "\n",
    "\n",
    "# Importation de la classe HoverTool\n",
    "\n",
    "from bokeh.models.tools import HoverTool\n",
    "\n",
    "# Instanciation d'un outil HoverTool\n",
    "\n",
    "h = HoverTool(renderers = [r],                      # liste de GlyphRenderer avec lesquels on veut intéragir\n",
    "    \n",
    "              tooltips = [( \"(x, y)\", \"($x, $y)\")]) # liste de couples d'informations à afficher à coté du point survolé\n",
    "                                                    # les informations que nous affichons sont les coordonnées du point survolé.\n",
    "    \n",
    "# Ajout du HoverTool aux outils de la figure\n",
    "\n",
    "p.add_tools(h)\n",
    "\n",
    "# Affichage de la figure\n",
    "\n",
    "show(p)"
   ]
  },
  {
   "cell_type": "markdown",
   "metadata": {
    "deletable": false,
    "editable": false,
    "function": "submission",
    "run_control": {
     "frozen": true
    }
   },
   "source": [
    "* Créer les listes de coordonnées `x = [1, 1.5, 3, 4.5, 7, 8]` et `y = [-1, 3, -4, 5, 8, -6]`.\n",
    "\n",
    "\n",
    "* Instancier une figure de largeur 600 et hauteur 400.\n",
    "\n",
    "\n",
    "* Instancier dans la figure un nuage de points tel que:\n",
    "    * Les points soient déssinés avec des carrés de couleur bleue. Les paramètres correspondant est `color`.\n",
    "    * Lorsque le curseur de la souris survole un des points, sa couleur doit être rouge, son opacité doit être de 0.5. Les paramètres correspondants sont `hover_color` et `hover_alpha`.\n",
    "\n",
    "\n",
    "* Importer la classe `HoverTool` depuis le sous-module `bokeh.models.tools`.\n",
    "\n",
    "    \n",
    "* Instancier un objet de type `HoverTool` tel que:\n",
    "    * Lorsque le curseur de la souris survole un des points, une *tooltip* doit afficher ses **coordonnées** et son **index**. Le couple qui devra être passé en argument de `tooltip` pour l'affichage de l'index dans la *tooltip* est `(\"index\", \"$index\")`.\n",
    "    * Cette instance `HoverTool` devra être associée au `GlyphRenderer` du nuage de points instancié précedemment grâce au paramètre `renderers` du constructeur de `HoverTool`.\n",
    "\n",
    "\n",
    "* Ajouter cette instance `HoverTool` aux outils de la figure grâce à sa méthode `add_tools`.\n",
    "\n",
    "\n",
    "* Afficher la figure et vérifier qu'elle interagit avec le curseur de la souris."
   ]
  },
  {
   "cell_type": "code",
   "execution_count": 16,
   "metadata": {
    "ExecuteTime": {
     "end_time": "2023-11-28T09:45:43.536462Z",
     "start_time": "2023-11-28T09:45:43.500254Z"
    }
   },
   "outputs": [
    {
     "data": {
      "text/html": [
       "\n",
       "  <div class=\"bk-root\" id=\"c298ba8d-8f59-4b04-a8f2-4f1ad1b28add\" data-root-id=\"3443\"></div>\n"
      ]
     },
     "metadata": {},
     "output_type": "display_data"
    },
    {
     "data": {
      "application/javascript": [
       "(function(root) {\n",
       "  function embed_document(root) {\n",
       "  const docs_json = {\"9a40339f-fe42-4ac6-a66e-339fb9d1c9e1\":{\"defs\":[],\"roots\":{\"references\":[{\"attributes\":{\"below\":[{\"id\":\"3452\"}],\"center\":[{\"id\":\"3455\"},{\"id\":\"3459\"}],\"height\":400,\"left\":[{\"id\":\"3456\"}],\"renderers\":[{\"id\":\"3479\"}],\"title\":{\"id\":\"3598\"},\"toolbar\":{\"id\":\"3467\"},\"x_range\":{\"id\":\"3444\"},\"x_scale\":{\"id\":\"3448\"},\"y_range\":{\"id\":\"3446\"},\"y_scale\":{\"id\":\"3450\"}},\"id\":\"3443\",\"subtype\":\"Figure\",\"type\":\"Plot\"},{\"attributes\":{},\"id\":\"3601\",\"type\":\"BasicTickFormatter\"},{\"attributes\":{},\"id\":\"3602\",\"type\":\"AllLabels\"},{\"attributes\":{\"data\":{\"x\":[1,1.5,3,4.5,7,8],\"y\":[-1,3,-4,5,8,-6]},\"selected\":{\"id\":\"3607\"},\"selection_policy\":{\"id\":\"3606\"}},\"id\":\"3474\",\"type\":\"ColumnDataSource\"},{\"attributes\":{},\"id\":\"3446\",\"type\":\"DataRange1d\"},{\"attributes\":{},\"id\":\"3460\",\"type\":\"PanTool\"},{\"attributes\":{},\"id\":\"3450\",\"type\":\"LinearScale\"},{\"attributes\":{},\"id\":\"3607\",\"type\":\"Selection\"},{\"attributes\":{\"overlay\":{\"id\":\"3466\"}},\"id\":\"3462\",\"type\":\"BoxZoomTool\"},{\"attributes\":{\"axis_label_standoff\":10,\"axis_label_text_color\":\"#5B5B5B\",\"axis_label_text_font\":\"Calibri Light\",\"axis_label_text_font_size\":\"1.15em\",\"axis_label_text_font_style\":\"bold\",\"axis_line_alpha\":1,\"axis_line_color\":\"#5B5B5B\",\"coordinates\":null,\"formatter\":{\"id\":\"3604\"},\"group\":null,\"major_label_policy\":{\"id\":\"3605\"},\"major_label_text_color\":\"#5B5B5B\",\"major_label_text_font\":\"Calibri Light\",\"major_label_text_font_size\":\"0.95em\",\"major_label_text_font_style\":\"bold\",\"major_tick_in\":0,\"major_tick_line_alpha\":0.25,\"major_tick_line_color\":\"#5B5B5B\",\"major_tick_out\":3,\"minor_tick_line_alpha\":0.25,\"minor_tick_line_color\":\"#5B5B5B\",\"ticker\":{\"id\":\"3453\"}},\"id\":\"3452\",\"type\":\"LinearAxis\"},{\"attributes\":{},\"id\":\"3606\",\"type\":\"UnionRenderers\"},{\"attributes\":{\"coordinates\":null,\"group\":null,\"text_color\":\"#5B5B5B\",\"text_font\":\"Calibri Light\",\"text_font_size\":\"1.25em\",\"text_font_style\":\"bold\"},\"id\":\"3598\",\"type\":\"Title\"},{\"attributes\":{},\"id\":\"3463\",\"type\":\"SaveTool\"},{\"attributes\":{\"bottom_units\":\"screen\",\"coordinates\":null,\"fill_alpha\":0.5,\"fill_color\":\"lightgrey\",\"group\":null,\"left_units\":\"screen\",\"level\":\"overlay\",\"line_alpha\":1.0,\"line_color\":\"black\",\"line_dash\":[4,4],\"line_width\":2,\"right_units\":\"screen\",\"syncable\":false,\"top_units\":\"screen\"},\"id\":\"3466\",\"type\":\"BoxAnnotation\"},{\"attributes\":{\"tools\":[{\"id\":\"3460\"},{\"id\":\"3461\"},{\"id\":\"3462\"},{\"id\":\"3463\"},{\"id\":\"3464\"},{\"id\":\"3465\"},{\"id\":\"3481\"}]},\"id\":\"3467\",\"type\":\"Toolbar\"},{\"attributes\":{\"fill_alpha\":{\"value\":0.5},\"fill_color\":{\"value\":\"red\"},\"hatch_alpha\":{\"value\":0.5},\"hatch_color\":{\"value\":\"red\"},\"line_alpha\":{\"value\":0.5},\"line_color\":{\"value\":\"red\"},\"marker\":{\"value\":\"square\"},\"x\":{\"field\":\"x\"},\"y\":{\"field\":\"y\"}},\"id\":\"3477\",\"type\":\"Scatter\"},{\"attributes\":{},\"id\":\"3605\",\"type\":\"AllLabels\"},{\"attributes\":{\"fill_alpha\":{\"value\":0.2},\"fill_color\":{\"value\":\"blue\"},\"hatch_alpha\":{\"value\":0.2},\"hatch_color\":{\"value\":\"blue\"},\"line_alpha\":{\"value\":0.2},\"line_color\":{\"value\":\"blue\"},\"marker\":{\"value\":\"square\"},\"x\":{\"field\":\"x\"},\"y\":{\"field\":\"y\"}},\"id\":\"3478\",\"type\":\"Scatter\"},{\"attributes\":{\"source\":{\"id\":\"3474\"}},\"id\":\"3480\",\"type\":\"CDSView\"},{\"attributes\":{},\"id\":\"3448\",\"type\":\"LinearScale\"},{\"attributes\":{},\"id\":\"3465\",\"type\":\"HelpTool\"},{\"attributes\":{\"fill_alpha\":{\"value\":0.1},\"fill_color\":{\"value\":\"blue\"},\"hatch_alpha\":{\"value\":0.1},\"hatch_color\":{\"value\":\"blue\"},\"line_alpha\":{\"value\":0.1},\"line_color\":{\"value\":\"blue\"},\"marker\":{\"value\":\"square\"},\"x\":{\"field\":\"x\"},\"y\":{\"field\":\"y\"}},\"id\":\"3476\",\"type\":\"Scatter\"},{\"attributes\":{\"coordinates\":null,\"data_source\":{\"id\":\"3474\"},\"glyph\":{\"id\":\"3475\"},\"group\":null,\"hover_glyph\":{\"id\":\"3477\"},\"muted_glyph\":{\"id\":\"3478\"},\"nonselection_glyph\":{\"id\":\"3476\"},\"view\":{\"id\":\"3480\"}},\"id\":\"3479\",\"type\":\"GlyphRenderer\"},{\"attributes\":{\"callback\":null,\"renderers\":[{\"id\":\"3479\"}],\"tooltips\":[[\"(x, y)\",\"($x, $y)\"],[\"index\",\"$index\"]]},\"id\":\"3481\",\"type\":\"HoverTool\"},{\"attributes\":{},\"id\":\"3457\",\"type\":\"BasicTicker\"},{\"attributes\":{\"axis\":{\"id\":\"3452\"},\"coordinates\":null,\"group\":null,\"ticker\":null},\"id\":\"3455\",\"type\":\"Grid\"},{\"attributes\":{\"axis_label_standoff\":10,\"axis_label_text_color\":\"#5B5B5B\",\"axis_label_text_font\":\"Calibri Light\",\"axis_label_text_font_size\":\"1.15em\",\"axis_label_text_font_style\":\"bold\",\"axis_line_alpha\":1,\"axis_line_color\":\"#5B5B5B\",\"coordinates\":null,\"formatter\":{\"id\":\"3601\"},\"group\":null,\"major_label_policy\":{\"id\":\"3602\"},\"major_label_text_color\":\"#5B5B5B\",\"major_label_text_font\":\"Calibri Light\",\"major_label_text_font_size\":\"0.95em\",\"major_label_text_font_style\":\"bold\",\"major_tick_in\":0,\"major_tick_line_alpha\":0.25,\"major_tick_line_color\":\"#5B5B5B\",\"major_tick_out\":3,\"minor_tick_line_alpha\":0.25,\"minor_tick_line_color\":\"#5B5B5B\",\"ticker\":{\"id\":\"3457\"}},\"id\":\"3456\",\"type\":\"LinearAxis\"},{\"attributes\":{\"axis\":{\"id\":\"3456\"},\"coordinates\":null,\"dimension\":1,\"group\":null,\"ticker\":null},\"id\":\"3459\",\"type\":\"Grid\"},{\"attributes\":{},\"id\":\"3453\",\"type\":\"BasicTicker\"},{\"attributes\":{},\"id\":\"3604\",\"type\":\"BasicTickFormatter\"},{\"attributes\":{},\"id\":\"3444\",\"type\":\"DataRange1d\"},{\"attributes\":{\"fill_color\":{\"value\":\"blue\"},\"hatch_color\":{\"value\":\"blue\"},\"line_color\":{\"value\":\"blue\"},\"marker\":{\"value\":\"square\"},\"x\":{\"field\":\"x\"},\"y\":{\"field\":\"y\"}},\"id\":\"3475\",\"type\":\"Scatter\"},{\"attributes\":{},\"id\":\"3461\",\"type\":\"WheelZoomTool\"},{\"attributes\":{},\"id\":\"3464\",\"type\":\"ResetTool\"}],\"root_ids\":[\"3443\"]},\"title\":\"Bokeh Application\",\"version\":\"2.4.3\"}};\n",
       "  const render_items = [{\"docid\":\"9a40339f-fe42-4ac6-a66e-339fb9d1c9e1\",\"root_ids\":[\"3443\"],\"roots\":{\"3443\":\"c298ba8d-8f59-4b04-a8f2-4f1ad1b28add\"}}];\n",
       "  root.Bokeh.embed.embed_items_notebook(docs_json, render_items);\n",
       "  }\n",
       "  if (root.Bokeh !== undefined) {\n",
       "    embed_document(root);\n",
       "  } else {\n",
       "    let attempts = 0;\n",
       "    const timer = setInterval(function(root) {\n",
       "      if (root.Bokeh !== undefined) {\n",
       "        clearInterval(timer);\n",
       "        embed_document(root);\n",
       "      } else {\n",
       "        attempts++;\n",
       "        if (attempts > 100) {\n",
       "          clearInterval(timer);\n",
       "          console.log(\"Bokeh: ERROR: Unable to run BokehJS code because BokehJS library is missing\");\n",
       "        }\n",
       "      }\n",
       "    }, 10, root)\n",
       "  }\n",
       "})(window);"
      ],
      "application/vnd.bokehjs_exec.v0+json": ""
     },
     "metadata": {
      "application/vnd.bokehjs_exec.v0+json": {
       "id": "3443"
      }
     },
     "output_type": "display_data"
    }
   ],
   "source": [
    "### Insérez votre code ici\n",
    "from bokeh.models.tools import HoverTool\n",
    "\n",
    "x = [1, 1.5, 3, 4.5, 7, 8] \n",
    "y = [-1, 3, -4, 5, 8, -6]\n",
    "\n",
    "fig = figure(width=600, height=400)\n",
    "\n",
    "c = fig.square(x,y,color='blue',hover_color='red',hover_alpha=0.5)\n",
    "\n",
    "h = HoverTool(renderers = [c],\n",
    "              tooltips = [( \"(x, y)\", \"($x, $y)\"),\n",
    "                          ( \"index\",\"$index\")])\n",
    "\n",
    "fig.add_tools(h)\n",
    "show(fig)\n"
   ]
  },
  {
   "cell_type": "markdown",
   "metadata": {
    "deletable": false,
    "editable": false,
    "function": "preliminary",
    "question_id": 1,
    "run_control": {
     "frozen": true
    }
   },
   "source": [
    "### Personnalisation des axes et de la grille d'une figure\n",
    "\n",
    "\n",
    "> Les axes de la figure peuvent également être personnalisés grâce aux attributs `axis`, `xaxis` et `yaxis` de la classe `figure`. Les attributs `xaxis` et `yaxis` correspondent respectivement à l'axe des abscisses et des ordonnées tandis que l'attribut `axis` fait simultanément référence aux deux axes. \n",
    ">\n",
    ">\n",
    "> De même, la grille de la figure peut être modifiée grâce aux attributs `grid`, `xgrid` ou `ygrid` de la classe `figure`.\n",
    ">\n",
    ">\n",
    "> La personnalisation des axes se fait grâce aux sous-attributs de `axis`, `xaxis` et `y_axis`:\n",
    "* ``axis_label`` : Ajouter/Modifier le label d'un axe.\n",
    "* ``axis_line_width`` : Modifier l'épaisseur d'un axe.\n",
    "* ``axis_line_color`` : Modifier la couleur d'un axe.\n",
    "* ``major_label_orientation`` : Modifier l'orientation des étiquettes de graduation.\n",
    "* ``major_label_text_color`` : Modifier la couleur des labels de graduation.\n",
    "* ``minor_tick_in / minor_tick_out`` : Modifier la taille des graduations.\n",
    ">\n",
    "> La personnalisation de la grille se fait grâce aux sous-attributs de `grid`, `xgrid`et `y_grid`:\n",
    "* ``grid_line_color`` : Modifier la couleur des lignes de la grille.\n",
    "* ``band_fill_color`` : Modifier la couleur de remplissage des bandes de grillage.\n",
    "* ``grid_line_alpha`` : Modifier l'opacité de la grille.\n",
    "\n",
    "* Créer une liste <b>`x`</b> de 50 abscisses allant de 0 à 10. Vous pourrez utiliser la fonction `linspace` du module `numpy`.\n",
    "\n",
    "\n",
    "* Créer une liste <b>`y`</b> 50 ordonnées aléatoires entre 0 et 100. Vous pourrez utiliser la fonction `randint` du sous module `numpy.random`.\n",
    "\n",
    "\n",
    "* Instancier une figure de largeur 600 et hauteur 400.\n",
    "\n",
    "\n",
    "* Instancier un nuage de points en forme de cercles de couleur `'mediumblue'` à partir de <b>`x`</b> et <b>`y`</b>.\n",
    "\n",
    "\n",
    "* A l'aide des sous-attributs des attributs `axis`, `xaxis`et `yaxis` personnaliser la figure pour que:\n",
    "    * l'épaisseur des deux axes soit de 3.\n",
    "    * la couleur des deux axes soit `'navy'`.\n",
    "    * les labels de graduation des axes soient de couleur `'gold'`.\n",
    "    * l'étiquette de l'axe des abscisses soit `'abscisses'` et celle des ordonnées soit `'ordonnées'`.\n",
    "    * l'orientation des labels de graduation de l'axe des ordonnées soit `'vertical'`.\n",
    "\n",
    "\n",
    "* A l'aide des sous-attributs de l'attribut `grid`, personnaliser la figure pour que:\n",
    "    * l'opacité de la grille soit 0.\n",
    "    \n",
    "    \n",
    "* Afficher la figure."
   ]
  },
  {
   "cell_type": "code",
   "execution_count": 26,
   "metadata": {
    "function": "submission",
    "question_id": 1,
    "ExecuteTime": {
     "end_time": "2023-11-29T14:30:05.658708Z",
     "start_time": "2023-11-29T14:30:05.618313Z"
    }
   },
   "outputs": [
    {
     "data": {
      "text/html": "\n  <div class=\"bk-root\" id=\"794a5b77-e2d3-4899-b47b-72d99173b149\" data-root-id=\"5329\"></div>\n"
     },
     "metadata": {},
     "output_type": "display_data"
    },
    {
     "data": {
      "application/javascript": "(function(root) {\n  function embed_document(root) {\n  const docs_json = {\"37fca736-5cd3-40ed-b6a2-3f7193262c98\":{\"defs\":[],\"roots\":{\"references\":[{\"attributes\":{\"below\":[{\"id\":\"5338\"}],\"center\":[{\"id\":\"5341\"},{\"id\":\"5345\"}],\"height\":400,\"left\":[{\"id\":\"5342\"}],\"renderers\":[{\"id\":\"5364\"}],\"title\":{\"id\":\"5555\"},\"toolbar\":{\"id\":\"5353\"},\"x_range\":{\"id\":\"5330\"},\"x_scale\":{\"id\":\"5334\"},\"y_range\":{\"id\":\"5332\"},\"y_scale\":{\"id\":\"5336\"}},\"id\":\"5329\",\"subtype\":\"Figure\",\"type\":\"Plot\"},{\"attributes\":{\"data\":{\"x\":{\"__ndarray__\":\"AAAAAAAAAACIxvrQWB/KP4jG+tBYH9o/5hS8nIKX4z+IxvrQWB/qPxW8nIKXU/A/5hS8nIKX8z+3bdu2bdv2P4jG+tBYH/o/WR8a60Nj/T8VvJyCl1MAQH5orA+N9QFA5hS8nIKXA0BOwcspeDkFQLdt27Zt2wZAIBrrQ2N9CECIxvrQWB8KQPByCl5OwQtAWR8a60NjDUDCyyl4OQUPQBW8nIKXUxBASZIkSZIkEUB+aKwPjfURQLI+NNaHxhJA5hS8nIKXE0Aa60NjfWgUQE7Byyl4ORVAg5dT8HIKFkC3bdu2bdsWQOtDY31orBdAIBrrQ2N9GEBU8HIKXk4ZQIjG+tBYHxpAvJyCl1PwGkDwcgpeTsEbQCVJkiRJkhxAWR8a60NjHUCN9aGxPjQeQMLLKXg5BR9A9qGxPjTWH0AVvJyCl1MgQC+n4OUUvCBASZIkSZIkIUBjfWisD40hQH5orA+N9SFAmFPwcgpeIkCyPjTWh8YiQMwpeDkFLyNA5hS8nIKXI0AAAAAAAAAkQA==\",\"dtype\":\"float64\",\"order\":\"little\",\"shape\":[50]},\"y\":[71,20,32,64,99,53,62,11,80,30,98,9,27,83,18,76,23,21,38,31,36,71,57,0,71,70,74,61,65,13,50,93,40,91,55,5,98,79,89,15,20,69,13,0,7,75,43,36,34,2]},\"selected\":{\"id\":\"5564\"},\"selection_policy\":{\"id\":\"5563\"}},\"id\":\"5360\",\"type\":\"ColumnDataSource\"},{\"attributes\":{},\"id\":\"5351\",\"type\":\"HelpTool\"},{\"attributes\":{},\"id\":\"5336\",\"type\":\"LinearScale\"},{\"attributes\":{\"coordinates\":null,\"group\":null,\"text_color\":\"#5B5B5B\",\"text_font\":\"Calibri Light\",\"text_font_size\":\"1.25em\",\"text_font_style\":\"bold\"},\"id\":\"5555\",\"type\":\"Title\"},{\"attributes\":{\"source\":{\"id\":\"5360\"}},\"id\":\"5365\",\"type\":\"CDSView\"},{\"attributes\":{\"axis_label\":\"abscisses\",\"axis_label_standoff\":10,\"axis_label_text_color\":\"#5B5B5B\",\"axis_label_text_font\":\"Calibri Light\",\"axis_label_text_font_size\":\"1.15em\",\"axis_label_text_font_style\":\"bold\",\"axis_line_alpha\":1,\"axis_line_color\":\"navy\",\"axis_line_width\":3,\"coordinates\":null,\"formatter\":{\"id\":\"5561\"},\"group\":null,\"major_label_policy\":{\"id\":\"5562\"},\"major_label_text_color\":\"gold\",\"major_label_text_font\":\"Calibri Light\",\"major_label_text_font_size\":\"0.95em\",\"major_label_text_font_style\":\"bold\",\"major_tick_in\":0,\"major_tick_line_alpha\":0.25,\"major_tick_line_color\":\"#5B5B5B\",\"major_tick_out\":3,\"minor_tick_line_alpha\":0.25,\"minor_tick_line_color\":\"#5B5B5B\",\"ticker\":{\"id\":\"5339\"}},\"id\":\"5338\",\"type\":\"LinearAxis\"},{\"attributes\":{},\"id\":\"5343\",\"type\":\"BasicTicker\"},{\"attributes\":{\"bottom_units\":\"screen\",\"coordinates\":null,\"fill_alpha\":0.5,\"fill_color\":\"lightgrey\",\"group\":null,\"left_units\":\"screen\",\"level\":\"overlay\",\"line_alpha\":1.0,\"line_color\":\"black\",\"line_dash\":[4,4],\"line_width\":2,\"right_units\":\"screen\",\"syncable\":false,\"top_units\":\"screen\"},\"id\":\"5352\",\"type\":\"BoxAnnotation\"},{\"attributes\":{\"overlay\":{\"id\":\"5352\"}},\"id\":\"5348\",\"type\":\"BoxZoomTool\"},{\"attributes\":{},\"id\":\"5346\",\"type\":\"PanTool\"},{\"attributes\":{\"fill_alpha\":{\"value\":0.2},\"fill_color\":{\"value\":\"mediumblue\"},\"hatch_alpha\":{\"value\":0.2},\"hatch_color\":{\"value\":\"mediumblue\"},\"line_alpha\":{\"value\":0.2},\"line_color\":{\"value\":\"mediumblue\"},\"x\":{\"field\":\"x\"},\"y\":{\"field\":\"y\"}},\"id\":\"5363\",\"type\":\"Circle\"},{\"attributes\":{},\"id\":\"5558\",\"type\":\"BasicTickFormatter\"},{\"attributes\":{\"fill_color\":{\"value\":\"mediumblue\"},\"hatch_color\":{\"value\":\"mediumblue\"},\"line_color\":{\"value\":\"mediumblue\"},\"x\":{\"field\":\"x\"},\"y\":{\"field\":\"y\"}},\"id\":\"5361\",\"type\":\"Circle\"},{\"attributes\":{},\"id\":\"5349\",\"type\":\"SaveTool\"},{\"attributes\":{},\"id\":\"5559\",\"type\":\"AllLabels\"},{\"attributes\":{},\"id\":\"5350\",\"type\":\"ResetTool\"},{\"attributes\":{},\"id\":\"5347\",\"type\":\"WheelZoomTool\"},{\"attributes\":{},\"id\":\"5561\",\"type\":\"BasicTickFormatter\"},{\"attributes\":{},\"id\":\"5562\",\"type\":\"AllLabels\"},{\"attributes\":{},\"id\":\"5563\",\"type\":\"UnionRenderers\"},{\"attributes\":{\"tools\":[{\"id\":\"5346\"},{\"id\":\"5347\"},{\"id\":\"5348\"},{\"id\":\"5349\"},{\"id\":\"5350\"},{\"id\":\"5351\"}]},\"id\":\"5353\",\"type\":\"Toolbar\"},{\"attributes\":{\"axis\":{\"id\":\"5342\"},\"coordinates\":null,\"dimension\":1,\"grid_line_alpha\":0,\"group\":null,\"ticker\":null},\"id\":\"5345\",\"type\":\"Grid\"},{\"attributes\":{},\"id\":\"5564\",\"type\":\"Selection\"},{\"attributes\":{\"axis\":{\"id\":\"5338\"},\"coordinates\":null,\"grid_line_alpha\":0,\"group\":null,\"ticker\":null},\"id\":\"5341\",\"type\":\"Grid\"},{\"attributes\":{\"fill_alpha\":{\"value\":0.1},\"fill_color\":{\"value\":\"mediumblue\"},\"hatch_alpha\":{\"value\":0.1},\"hatch_color\":{\"value\":\"mediumblue\"},\"line_alpha\":{\"value\":0.1},\"line_color\":{\"value\":\"mediumblue\"},\"x\":{\"field\":\"x\"},\"y\":{\"field\":\"y\"}},\"id\":\"5362\",\"type\":\"Circle\"},{\"attributes\":{},\"id\":\"5339\",\"type\":\"BasicTicker\"},{\"attributes\":{\"coordinates\":null,\"data_source\":{\"id\":\"5360\"},\"glyph\":{\"id\":\"5361\"},\"group\":null,\"hover_glyph\":null,\"muted_glyph\":{\"id\":\"5363\"},\"nonselection_glyph\":{\"id\":\"5362\"},\"view\":{\"id\":\"5365\"}},\"id\":\"5364\",\"type\":\"GlyphRenderer\"},{\"attributes\":{},\"id\":\"5330\",\"type\":\"DataRange1d\"},{\"attributes\":{},\"id\":\"5332\",\"type\":\"DataRange1d\"},{\"attributes\":{},\"id\":\"5334\",\"type\":\"LinearScale\"},{\"attributes\":{\"axis_label\":\"ordonn\\u00e9es\",\"axis_label_standoff\":10,\"axis_label_text_color\":\"#5B5B5B\",\"axis_label_text_font\":\"Calibri Light\",\"axis_label_text_font_size\":\"1.15em\",\"axis_label_text_font_style\":\"bold\",\"axis_line_alpha\":1,\"axis_line_color\":\"navy\",\"axis_line_width\":3,\"coordinates\":null,\"formatter\":{\"id\":\"5558\"},\"group\":null,\"major_label_orientation\":\"vertical\",\"major_label_policy\":{\"id\":\"5559\"},\"major_label_text_color\":\"gold\",\"major_label_text_font\":\"Calibri Light\",\"major_label_text_font_size\":\"0.95em\",\"major_label_text_font_style\":\"bold\",\"major_tick_in\":0,\"major_tick_line_alpha\":0.25,\"major_tick_line_color\":\"#5B5B5B\",\"major_tick_out\":3,\"minor_tick_line_alpha\":0.25,\"minor_tick_line_color\":\"#5B5B5B\",\"ticker\":{\"id\":\"5343\"}},\"id\":\"5342\",\"type\":\"LinearAxis\"}],\"root_ids\":[\"5329\"]},\"title\":\"Bokeh Application\",\"version\":\"2.4.3\"}};\n  const render_items = [{\"docid\":\"37fca736-5cd3-40ed-b6a2-3f7193262c98\",\"root_ids\":[\"5329\"],\"roots\":{\"5329\":\"794a5b77-e2d3-4899-b47b-72d99173b149\"}}];\n  root.Bokeh.embed.embed_items_notebook(docs_json, render_items);\n  }\n  if (root.Bokeh !== undefined) {\n    embed_document(root);\n  } else {\n    let attempts = 0;\n    const timer = setInterval(function(root) {\n      if (root.Bokeh !== undefined) {\n        clearInterval(timer);\n        embed_document(root);\n      } else {\n        attempts++;\n        if (attempts > 100) {\n          clearInterval(timer);\n          console.log(\"Bokeh: ERROR: Unable to run BokehJS code because BokehJS library is missing\");\n        }\n      }\n    }, 10, root)\n  }\n})(window);",
      "application/vnd.bokehjs_exec.v0+json": ""
     },
     "metadata": {
      "application/vnd.bokehjs_exec.v0+json": {
       "id": "5329"
      }
     },
     "output_type": "display_data"
    }
   ],
   "source": [
    "from numpy import linspace\n",
    "from numpy.random import randint\n",
    "\n",
    "## Insérez votre code ici\n",
    "x=linspace(0,10,50)\n",
    "y=randint(0,100,50)\n",
    "\n",
    "fig = figure(width=600,height=400)\n",
    "\n",
    "r = fig.circle(x,y,color='mediumblue')\n",
    "fig.axis.axis_line_width =3\n",
    "fig.axis.axis_line_color ='navy'\n",
    "fig.axis.major_label_text_color = 'gold'\n",
    "fig.xaxis.axis_label ='abscisses'\n",
    "fig.yaxis.axis_label ='ordonnées'\n",
    "fig.yaxis.major_label_orientation ='vertical'\n",
    "fig.grid.grid_line_alpha=0\n",
    "\n",
    "show(fig)\n",
    "\n",
    "\n",
    "\n",
    "\n",
    "\n"
   ]
  },
  {
   "cell_type": "code",
   "execution_count": null,
   "metadata": {
    "collapsed": false,
    "jupyter": {
     "outputs_hidden": false
    }
   },
   "outputs": [],
   "source": []
  }
 ],
 "metadata": {
  "hide_input": false,
  "kernelspec": {
   "display_name": "Python 3 (ipykernel)",
   "language": "python",
   "name": "python3"
  },
  "language_info": {
   "codemirror_mode": {
    "name": "ipython",
    "version": 3
   },
   "file_extension": ".py",
   "mimetype": "text/x-python",
   "name": "python",
   "nbconvert_exporter": "python",
   "pygments_lexer": "ipython3",
   "version": "3.10.11"
  },
  "latex_envs": {
   "LaTeX_envs_menu_present": true,
   "autoclose": false,
   "autocomplete": true,
   "bibliofile": "biblio.bib",
   "cite_by": "apalike",
   "current_citInitial": 1,
   "eqLabelWithNumbers": true,
   "eqNumInitial": 1,
   "hotkeys": {
    "equation": "Ctrl-E",
    "itemize": "Ctrl-I"
   },
   "labels_anchors": false,
   "latex_user_defs": false,
   "report_style_numbering": false,
   "user_envs_cfg": false
  },
  "n_questions": 1,
  "varInspector": {
   "cols": {
    "lenName": 16,
    "lenType": 16,
    "lenVar": 40
   },
   "kernels_config": {
    "python": {
     "delete_cmd_postfix": "",
     "delete_cmd_prefix": "del ",
     "library": "var_list.py",
     "varRefreshCmd": "print(var_dic_list())"
    },
    "r": {
     "delete_cmd_postfix": ") ",
     "delete_cmd_prefix": "rm(",
     "library": "var_list.r",
     "varRefreshCmd": "cat(var_dic_list()) "
    }
   },
   "types_to_exclude": [
    "module",
    "function",
    "builtin_function_or_method",
    "instance",
    "_Feature"
   ],
   "window_display": false
  }
 },
 "nbformat": 4,
 "nbformat_minor": 4
}
