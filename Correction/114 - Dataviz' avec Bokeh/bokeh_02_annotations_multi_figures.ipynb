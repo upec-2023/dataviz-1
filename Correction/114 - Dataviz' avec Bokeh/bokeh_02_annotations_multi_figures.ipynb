{
 "cells": [
  {
   "cell_type": "markdown",
   "metadata": {
    "deletable": false,
    "editable": false,
    "function": "preliminary",
    "question_id": 1,
    "run_control": {
     "frozen": true
    }
   },
   "source": [
    "<hr style=\"border-width:2px;border-color:#75DFC1\">\n",
    "<center><h1>Introduction à la visualisation de données avec bokeh</h1></center>\n",
    "<center><h2> Ajout de texte et annotations</h2></center>\n",
    "<hr style=\"border-width:2px;border-color:#75DFC1\">\n",
    "\n",
    "* Exécuter la cellule suivante pour importer les classes nécessaires et pouvoir afficher les graphiques <b>Bokeh</b> dans des cellules jupyter."
   ]
  },
  {
   "cell_type": "code",
   "execution_count": 1,
   "metadata": {
    "function": "preliminary",
    "question_id": 1,
    "ExecuteTime": {
     "end_time": "2023-11-29T14:55:32.796103Z",
     "start_time": "2023-11-29T14:55:32.776018Z"
    }
   },
   "outputs": [
    {
     "data": {
      "text/html": "<div class=\"bk-root\">\n        <a href=\"https://bokeh.org\" target=\"_blank\" class=\"bk-logo bk-logo-small bk-logo-notebook\"></a>\n        <span id=\"1002\">Loading BokehJS ...</span>\n    </div>\n"
     },
     "metadata": {},
     "output_type": "display_data"
    },
    {
     "data": {
      "application/javascript": "(function(root) {\n  function now() {\n    return new Date();\n  }\n\n  const force = true;\n\n  if (typeof root._bokeh_onload_callbacks === \"undefined\" || force === true) {\n    root._bokeh_onload_callbacks = [];\n    root._bokeh_is_loading = undefined;\n  }\n\nconst JS_MIME_TYPE = 'application/javascript';\n  const HTML_MIME_TYPE = 'text/html';\n  const EXEC_MIME_TYPE = 'application/vnd.bokehjs_exec.v0+json';\n  const CLASS_NAME = 'output_bokeh rendered_html';\n\n  /**\n   * Render data to the DOM node\n   */\n  function render(props, node) {\n    const script = document.createElement(\"script\");\n    node.appendChild(script);\n  }\n\n  /**\n   * Handle when an output is cleared or removed\n   */\n  function handleClearOutput(event, handle) {\n    const cell = handle.cell;\n\n    const id = cell.output_area._bokeh_element_id;\n    const server_id = cell.output_area._bokeh_server_id;\n    // Clean up Bokeh references\n    if (id != null && id in Bokeh.index) {\n      Bokeh.index[id].model.document.clear();\n      delete Bokeh.index[id];\n    }\n\n    if (server_id !== undefined) {\n      // Clean up Bokeh references\n      const cmd_clean = \"from bokeh.io.state import curstate; print(curstate().uuid_to_server['\" + server_id + \"'].get_sessions()[0].document.roots[0]._id)\";\n      cell.notebook.kernel.execute(cmd_clean, {\n        iopub: {\n          output: function(msg) {\n            const id = msg.content.text.trim();\n            if (id in Bokeh.index) {\n              Bokeh.index[id].model.document.clear();\n              delete Bokeh.index[id];\n            }\n          }\n        }\n      });\n      // Destroy server and session\n      const cmd_destroy = \"import bokeh.io.notebook as ion; ion.destroy_server('\" + server_id + \"')\";\n      cell.notebook.kernel.execute(cmd_destroy);\n    }\n  }\n\n  /**\n   * Handle when a new output is added\n   */\n  function handleAddOutput(event, handle) {\n    const output_area = handle.output_area;\n    const output = handle.output;\n\n    // limit handleAddOutput to display_data with EXEC_MIME_TYPE content only\n    if ((output.output_type != \"display_data\") || (!Object.prototype.hasOwnProperty.call(output.data, EXEC_MIME_TYPE))) {\n      return\n    }\n\n    const toinsert = output_area.element.find(\".\" + CLASS_NAME.split(' ')[0]);\n\n    if (output.metadata[EXEC_MIME_TYPE][\"id\"] !== undefined) {\n      toinsert[toinsert.length - 1].firstChild.textContent = output.data[JS_MIME_TYPE];\n      // store reference to embed id on output_area\n      output_area._bokeh_element_id = output.metadata[EXEC_MIME_TYPE][\"id\"];\n    }\n    if (output.metadata[EXEC_MIME_TYPE][\"server_id\"] !== undefined) {\n      const bk_div = document.createElement(\"div\");\n      bk_div.innerHTML = output.data[HTML_MIME_TYPE];\n      const script_attrs = bk_div.children[0].attributes;\n      for (let i = 0; i < script_attrs.length; i++) {\n        toinsert[toinsert.length - 1].firstChild.setAttribute(script_attrs[i].name, script_attrs[i].value);\n        toinsert[toinsert.length - 1].firstChild.textContent = bk_div.children[0].textContent\n      }\n      // store reference to server id on output_area\n      output_area._bokeh_server_id = output.metadata[EXEC_MIME_TYPE][\"server_id\"];\n    }\n  }\n\n  function register_renderer(events, OutputArea) {\n\n    function append_mime(data, metadata, element) {\n      // create a DOM node to render to\n      const toinsert = this.create_output_subarea(\n        metadata,\n        CLASS_NAME,\n        EXEC_MIME_TYPE\n      );\n      this.keyboard_manager.register_events(toinsert);\n      // Render to node\n      const props = {data: data, metadata: metadata[EXEC_MIME_TYPE]};\n      render(props, toinsert[toinsert.length - 1]);\n      element.append(toinsert);\n      return toinsert\n    }\n\n    /* Handle when an output is cleared or removed */\n    events.on('clear_output.CodeCell', handleClearOutput);\n    events.on('delete.Cell', handleClearOutput);\n\n    /* Handle when a new output is added */\n    events.on('output_added.OutputArea', handleAddOutput);\n\n    /**\n     * Register the mime type and append_mime function with output_area\n     */\n    OutputArea.prototype.register_mime_type(EXEC_MIME_TYPE, append_mime, {\n      /* Is output safe? */\n      safe: true,\n      /* Index of renderer in `output_area.display_order` */\n      index: 0\n    });\n  }\n\n  // register the mime type if in Jupyter Notebook environment and previously unregistered\n  if (root.Jupyter !== undefined) {\n    const events = require('base/js/events');\n    const OutputArea = require('notebook/js/outputarea').OutputArea;\n\n    if (OutputArea.prototype.mime_types().indexOf(EXEC_MIME_TYPE) == -1) {\n      register_renderer(events, OutputArea);\n    }\n  }\n  if (typeof (root._bokeh_timeout) === \"undefined\" || force === true) {\n    root._bokeh_timeout = Date.now() + 5000;\n    root._bokeh_failed_load = false;\n  }\n\n  const NB_LOAD_WARNING = {'data': {'text/html':\n     \"<div style='background-color: #fdd'>\\n\"+\n     \"<p>\\n\"+\n     \"BokehJS does not appear to have successfully loaded. If loading BokehJS from CDN, this \\n\"+\n     \"may be due to a slow or bad network connection. Possible fixes:\\n\"+\n     \"</p>\\n\"+\n     \"<ul>\\n\"+\n     \"<li>re-rerun `output_notebook()` to attempt to load from CDN again, or</li>\\n\"+\n     \"<li>use INLINE resources instead, as so:</li>\\n\"+\n     \"</ul>\\n\"+\n     \"<code>\\n\"+\n     \"from bokeh.resources import INLINE\\n\"+\n     \"output_notebook(resources=INLINE)\\n\"+\n     \"</code>\\n\"+\n     \"</div>\"}};\n\n  function display_loaded() {\n    const el = document.getElementById(\"1002\");\n    if (el != null) {\n      el.textContent = \"BokehJS is loading...\";\n    }\n    if (root.Bokeh !== undefined) {\n      if (el != null) {\n        el.textContent = \"BokehJS \" + root.Bokeh.version + \" successfully loaded.\";\n      }\n    } else if (Date.now() < root._bokeh_timeout) {\n      setTimeout(display_loaded, 100)\n    }\n  }\n\n  function run_callbacks() {\n    try {\n      root._bokeh_onload_callbacks.forEach(function(callback) {\n        if (callback != null)\n          callback();\n      });\n    } finally {\n      delete root._bokeh_onload_callbacks\n    }\n    console.debug(\"Bokeh: all callbacks have finished\");\n  }\n\n  function load_libs(css_urls, js_urls, callback) {\n    if (css_urls == null) css_urls = [];\n    if (js_urls == null) js_urls = [];\n\n    root._bokeh_onload_callbacks.push(callback);\n    if (root._bokeh_is_loading > 0) {\n      console.debug(\"Bokeh: BokehJS is being loaded, scheduling callback at\", now());\n      return null;\n    }\n    if (js_urls == null || js_urls.length === 0) {\n      run_callbacks();\n      return null;\n    }\n    console.debug(\"Bokeh: BokehJS not loaded, scheduling load and callback at\", now());\n    root._bokeh_is_loading = css_urls.length + js_urls.length;\n\n    function on_load() {\n      root._bokeh_is_loading--;\n      if (root._bokeh_is_loading === 0) {\n        console.debug(\"Bokeh: all BokehJS libraries/stylesheets loaded\");\n        run_callbacks()\n      }\n    }\n\n    function on_error(url) {\n      console.error(\"failed to load \" + url);\n    }\n\n    for (let i = 0; i < css_urls.length; i++) {\n      const url = css_urls[i];\n      const element = document.createElement(\"link\");\n      element.onload = on_load;\n      element.onerror = on_error.bind(null, url);\n      element.rel = \"stylesheet\";\n      element.type = \"text/css\";\n      element.href = url;\n      console.debug(\"Bokeh: injecting link tag for BokehJS stylesheet: \", url);\n      document.body.appendChild(element);\n    }\n\n    for (let i = 0; i < js_urls.length; i++) {\n      const url = js_urls[i];\n      const element = document.createElement('script');\n      element.onload = on_load;\n      element.onerror = on_error.bind(null, url);\n      element.async = false;\n      element.src = url;\n      console.debug(\"Bokeh: injecting script tag for BokehJS library: \", url);\n      document.head.appendChild(element);\n    }\n  };\n\n  function inject_raw_css(css) {\n    const element = document.createElement(\"style\");\n    element.appendChild(document.createTextNode(css));\n    document.body.appendChild(element);\n  }\n\n  const js_urls = [\"https://cdn.bokeh.org/bokeh/release/bokeh-2.4.3.min.js\", \"https://cdn.bokeh.org/bokeh/release/bokeh-gl-2.4.3.min.js\", \"https://cdn.bokeh.org/bokeh/release/bokeh-widgets-2.4.3.min.js\", \"https://cdn.bokeh.org/bokeh/release/bokeh-tables-2.4.3.min.js\", \"https://cdn.bokeh.org/bokeh/release/bokeh-mathjax-2.4.3.min.js\"];\n  const css_urls = [];\n\n  const inline_js = [    function(Bokeh) {\n      Bokeh.set_log_level(\"info\");\n    },\nfunction(Bokeh) {\n    }\n  ];\n\n  function run_inline_js() {\n    if (root.Bokeh !== undefined || force === true) {\n          for (let i = 0; i < inline_js.length; i++) {\n      inline_js[i].call(root, root.Bokeh);\n    }\nif (force === true) {\n        display_loaded();\n      }} else if (Date.now() < root._bokeh_timeout) {\n      setTimeout(run_inline_js, 100);\n    } else if (!root._bokeh_failed_load) {\n      console.log(\"Bokeh: BokehJS failed to load within specified timeout.\");\n      root._bokeh_failed_load = true;\n    } else if (force !== true) {\n      const cell = $(document.getElementById(\"1002\")).parents('.cell').data().cell;\n      cell.output_area.append_execute_result(NB_LOAD_WARNING)\n    }\n  }\n\n  if (root._bokeh_is_loading === 0) {\n    console.debug(\"Bokeh: BokehJS loaded, going straight to plotting\");\n    run_inline_js();\n  } else {\n    load_libs(css_urls, js_urls, function() {\n      console.debug(\"Bokeh: BokehJS plotting callback run at\", now());\n      run_inline_js();\n    });\n  }\n}(window));",
      "application/vnd.bokehjs_load.v0+json": "(function(root) {\n  function now() {\n    return new Date();\n  }\n\n  const force = true;\n\n  if (typeof root._bokeh_onload_callbacks === \"undefined\" || force === true) {\n    root._bokeh_onload_callbacks = [];\n    root._bokeh_is_loading = undefined;\n  }\n\n\n  if (typeof (root._bokeh_timeout) === \"undefined\" || force === true) {\n    root._bokeh_timeout = Date.now() + 5000;\n    root._bokeh_failed_load = false;\n  }\n\n  const NB_LOAD_WARNING = {'data': {'text/html':\n     \"<div style='background-color: #fdd'>\\n\"+\n     \"<p>\\n\"+\n     \"BokehJS does not appear to have successfully loaded. If loading BokehJS from CDN, this \\n\"+\n     \"may be due to a slow or bad network connection. Possible fixes:\\n\"+\n     \"</p>\\n\"+\n     \"<ul>\\n\"+\n     \"<li>re-rerun `output_notebook()` to attempt to load from CDN again, or</li>\\n\"+\n     \"<li>use INLINE resources instead, as so:</li>\\n\"+\n     \"</ul>\\n\"+\n     \"<code>\\n\"+\n     \"from bokeh.resources import INLINE\\n\"+\n     \"output_notebook(resources=INLINE)\\n\"+\n     \"</code>\\n\"+\n     \"</div>\"}};\n\n  function display_loaded() {\n    const el = document.getElementById(\"1002\");\n    if (el != null) {\n      el.textContent = \"BokehJS is loading...\";\n    }\n    if (root.Bokeh !== undefined) {\n      if (el != null) {\n        el.textContent = \"BokehJS \" + root.Bokeh.version + \" successfully loaded.\";\n      }\n    } else if (Date.now() < root._bokeh_timeout) {\n      setTimeout(display_loaded, 100)\n    }\n  }\n\n  function run_callbacks() {\n    try {\n      root._bokeh_onload_callbacks.forEach(function(callback) {\n        if (callback != null)\n          callback();\n      });\n    } finally {\n      delete root._bokeh_onload_callbacks\n    }\n    console.debug(\"Bokeh: all callbacks have finished\");\n  }\n\n  function load_libs(css_urls, js_urls, callback) {\n    if (css_urls == null) css_urls = [];\n    if (js_urls == null) js_urls = [];\n\n    root._bokeh_onload_callbacks.push(callback);\n    if (root._bokeh_is_loading > 0) {\n      console.debug(\"Bokeh: BokehJS is being loaded, scheduling callback at\", now());\n      return null;\n    }\n    if (js_urls == null || js_urls.length === 0) {\n      run_callbacks();\n      return null;\n    }\n    console.debug(\"Bokeh: BokehJS not loaded, scheduling load and callback at\", now());\n    root._bokeh_is_loading = css_urls.length + js_urls.length;\n\n    function on_load() {\n      root._bokeh_is_loading--;\n      if (root._bokeh_is_loading === 0) {\n        console.debug(\"Bokeh: all BokehJS libraries/stylesheets loaded\");\n        run_callbacks()\n      }\n    }\n\n    function on_error(url) {\n      console.error(\"failed to load \" + url);\n    }\n\n    for (let i = 0; i < css_urls.length; i++) {\n      const url = css_urls[i];\n      const element = document.createElement(\"link\");\n      element.onload = on_load;\n      element.onerror = on_error.bind(null, url);\n      element.rel = \"stylesheet\";\n      element.type = \"text/css\";\n      element.href = url;\n      console.debug(\"Bokeh: injecting link tag for BokehJS stylesheet: \", url);\n      document.body.appendChild(element);\n    }\n\n    for (let i = 0; i < js_urls.length; i++) {\n      const url = js_urls[i];\n      const element = document.createElement('script');\n      element.onload = on_load;\n      element.onerror = on_error.bind(null, url);\n      element.async = false;\n      element.src = url;\n      console.debug(\"Bokeh: injecting script tag for BokehJS library: \", url);\n      document.head.appendChild(element);\n    }\n  };\n\n  function inject_raw_css(css) {\n    const element = document.createElement(\"style\");\n    element.appendChild(document.createTextNode(css));\n    document.body.appendChild(element);\n  }\n\n  const js_urls = [\"https://cdn.bokeh.org/bokeh/release/bokeh-2.4.3.min.js\", \"https://cdn.bokeh.org/bokeh/release/bokeh-gl-2.4.3.min.js\", \"https://cdn.bokeh.org/bokeh/release/bokeh-widgets-2.4.3.min.js\", \"https://cdn.bokeh.org/bokeh/release/bokeh-tables-2.4.3.min.js\", \"https://cdn.bokeh.org/bokeh/release/bokeh-mathjax-2.4.3.min.js\"];\n  const css_urls = [];\n\n  const inline_js = [    function(Bokeh) {\n      Bokeh.set_log_level(\"info\");\n    },\nfunction(Bokeh) {\n    }\n  ];\n\n  function run_inline_js() {\n    if (root.Bokeh !== undefined || force === true) {\n          for (let i = 0; i < inline_js.length; i++) {\n      inline_js[i].call(root, root.Bokeh);\n    }\nif (force === true) {\n        display_loaded();\n      }} else if (Date.now() < root._bokeh_timeout) {\n      setTimeout(run_inline_js, 100);\n    } else if (!root._bokeh_failed_load) {\n      console.log(\"Bokeh: BokehJS failed to load within specified timeout.\");\n      root._bokeh_failed_load = true;\n    } else if (force !== true) {\n      const cell = $(document.getElementById(\"1002\")).parents('.cell').data().cell;\n      cell.output_area.append_execute_result(NB_LOAD_WARNING)\n    }\n  }\n\n  if (root._bokeh_is_loading === 0) {\n    console.debug(\"Bokeh: BokehJS loaded, going straight to plotting\");\n    run_inline_js();\n  } else {\n    load_libs(css_urls, js_urls, function() {\n      console.debug(\"Bokeh: BokehJS plotting callback run at\", now());\n      run_inline_js();\n    });\n  }\n}(window));"
     },
     "metadata": {},
     "output_type": "display_data"
    }
   ],
   "source": [
    "import warnings\n",
    "warnings.filterwarnings(\"ignore\")\n",
    "# Importation des fonctions dont on se servira pour toutes les figures\n",
    "\n",
    "from bokeh.plotting import figure, output_notebook, show\n",
    "\n",
    "# Précision de l'affichage des graphiques dans des cellules jupyter\n",
    "\n",
    "output_notebook()"
   ]
  },
  {
   "cell_type": "markdown",
   "metadata": {
    "deletable": false,
    "editable": false,
    "function": "preliminary",
    "question_id": 1,
    "run_control": {
     "frozen": true
    }
   },
   "source": [
    "> Il est parfois utile d'ajouter des repères visuels et des annotations aux graphiques. **Bokeh** fournit plusieurs types d'annotation dans son <br> sous-module **bokeh.models.annotations**. \n",
    ">\n",
    ">\n",
    "> \n",
    "### La classe `Span`\n",
    ">\n",
    "> La classe **Span** permet de créer des lignes verticales ou horizontales \"infinies\". Lors de l'instanciation d'un **Span**, il faut indiquer la position voulue, c'est-à-dire sa coordonnée sur l'axe spécifié, en argument du paramètre `location`. \n",
    "Il faut aussi spécifier si la ligne s'étend sur la longueur (`'width'`) ou la largeur  (`'height'`) dans l'argument `dimension`.\n",
    ">\n",
    "> Il est aussi possible de spécifier quelques propriétés visuelles pour l'apparence des lignes grâce aux paramètres:\n",
    "> - `line_color` pour la couleur de la ligne: `'red'`, `'blue'` etc...\n",
    "> - `line_width` pour l'épaisseur de la ligne.\n",
    "> - `line_alpha` pour l'opacité de la ligne.\n",
    "> Vous pouvez trouver tous les arguments disponibles pour les **Span** [ici](https://bokeh.pydata.org/en/latest/docs/reference/models/annotations.html#bokeh.models.annotations.Span).\n",
    ">\n",
    "> Pour ajouter un **Span** à une `figure` **`p`** il suffit d'appliquer la méthode `add_layout` de **`p`** avec le **Span** en argument. De manière générale, pour ajouter une annotation, il faut suivre la même procédure:\n",
    ">\n",
    ">\n",
    "> ```py\n",
    "    s = Span(dimension = 'width',     # 'width' : orientation horizontale/ 'height' : orientation verticale\n",
    "             location = 5,            # Pour une ligne horizontale, location est la position en ordonnée\n",
    "             line_color = 'blue')   \n",
    "        ```\n",
    "> ```py\n",
    "    p.add_layout(s)                   # Ajout du Span dans les annotations de la figure\n",
    "    ```\n",
    "\n",
    "* Charger le package **NumPy** sous l'abréviation **`np`**.\n",
    "\n",
    "\n",
    "* Importer la classe `Span` depuis le sous-module `bokeh.models.annotations`.\n",
    "\n",
    "\n",
    "* Instancier une figure de largeur 600, hauteur 400 et délimiter l'axe des ordonnées à l'intervalle $[-2, 2]$. Le paramètre correspondant à la délimitation sur l'axe des ordonnées est `y_range` qui prend en argument un *couple* de valeurs.\n",
    "\n",
    "\n",
    "* Créer une suite `x` de 500 valeurs entre -20 et 20 en utilisant la fonction `linspace` du module **NumPy**.\n",
    "\n",
    "\n",
    "* Tracer la courbe correspondant à l'image de la suite `x` par la fonction $\\arctan$. Cette fonction peut se trouver dans le module **NumPy**, de même que la constante $\\pi$.\n",
    "\n",
    "\n",
    "* Ajouter deux asymptotes horizontales, une définie par l'équation $y=\\dfrac{\\pi}{2}$ et l'autre par l'équation $y=-\\dfrac{\\pi}{2}$ en choisissant deux couleurs différentes.\n",
    "\n",
    "\n",
    "* Afficher la figure."
   ]
  },
  {
   "cell_type": "code",
   "execution_count": 2,
   "metadata": {
    "function": "submission",
    "question_id": 1,
    "ExecuteTime": {
     "end_time": "2023-11-29T14:55:33.670325Z",
     "start_time": "2023-11-29T14:55:33.654761Z"
    }
   },
   "outputs": [
    {
     "data": {
      "text/html": "\n  <div class=\"bk-root\" id=\"3fef95ea-760b-42e2-afc2-d0486a826b1c\" data-root-id=\"1003\"></div>\n"
     },
     "metadata": {},
     "output_type": "display_data"
    },
    {
     "data": {
      "application/javascript": "(function(root) {\n  function embed_document(root) {\n  const docs_json = {\"df7392a2-8247-416e-af68-3bae8a947ea9\":{\"defs\":[],\"roots\":{\"references\":[{\"attributes\":{\"below\":[{\"id\":\"1012\"}],\"center\":[{\"id\":\"1015\"},{\"id\":\"1019\"},{\"id\":\"1040\"},{\"id\":\"1041\"}],\"height\":400,\"left\":[{\"id\":\"1016\"}],\"renderers\":[{\"id\":\"1038\"}],\"title\":{\"id\":\"1042\"},\"toolbar\":{\"id\":\"1027\"},\"x_range\":{\"id\":\"1004\"},\"x_scale\":{\"id\":\"1008\"},\"y_range\":{\"id\":\"1006\"},\"y_scale\":{\"id\":\"1010\"}},\"id\":\"1003\",\"subtype\":\"Figure\",\"type\":\"Plot\"},{\"attributes\":{\"coordinates\":null,\"group\":null,\"line_color\":\"blue\",\"location\":1.5707963267948966},\"id\":\"1040\",\"type\":\"Span\"},{\"attributes\":{\"coordinates\":null,\"group\":null,\"text_color\":\"#5B5B5B\",\"text_font\":\"Calibri Light\",\"text_font_size\":\"1.25em\",\"text_font_style\":\"bold\"},\"id\":\"1042\",\"type\":\"Title\"},{\"attributes\":{\"axis\":{\"id\":\"1016\"},\"coordinates\":null,\"dimension\":1,\"group\":null,\"ticker\":null},\"id\":\"1019\",\"type\":\"Grid\"},{\"attributes\":{\"data\":{\"x\":{\"__ndarray__\":\"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\",\"dtype\":\"float64\",\"order\":\"little\",\"shape\":[500]},\"y\":{\"__ndarray__\":\"H5iHJ1pV+L8cpJqzh1T4v3ySao2zU/i/KPmyr91S+L+kjRkVBlL4vyKzLbgsUfi/xAVok1FQ+L8I4ymhdE/4vzXvvNuVTvi/x5dSPbVN+L+4kgPA0kz4v4xaz13uS/i/GKebEAhL+L/W4jPSH0r4v7ucSJw1Sfi/cfZuaElI+L/UDiAwW0f4v6BouOxqRvi/Jk13l3hF+L/0Kn4phET4v0vwz5uNQ/i/R2FQ55RC+L+NacMEmkH4v2xpzOycQPi/PH7tl50/+L/kxYb+mz74v1id1RiYPfi/5tnz3pE8+L8r/dZIiTv4v5FjT05+Ovi/B20H53A5+L/1n4IKYTj4vwzGHLBON/i/6AIJzzk2+L8x5FBeIjX4vyFr01QINPi/IQ9Eqesy+L9RuSlSzDH4v7m43UWqMPi/7q6KeoUv+L/bdCvmXS74v3z3iX4zLfi/PQw+OQYs+L+3PKwL1ir4v3yJBOuiKfi/syNBzGwo+L8gHSWkMyf4v1AOO2f3Jfi/lLLTCbgk+L9reQSAdSP4v/sMpr0vIvi/QM1StuYg+L+GP2Vdmh/4v8Nx9qVKHvi/aFHcgvcc+L8w9afmoBv4v3/Zo8NGGvi/yw7SC+kY+L+ZWeqwhxf4v3tDWKQiFvi/jBw517kU+L/Z7Fk6TRP4vxtVNb7cEfi/H17xUmgQ+L9BNl3o7w74v03c7m1zDfi/BrfA0vIL+L+mGI8Fbgr4v4yttfTkCPi/TdUsjlcH+L9Z5Ya/xQX4v0ZU7XUvBPi/68wdnpQC+L9PKGck9QD4v3BNpvRQ//e/0vVC+qf997/UVSwg+vv3v4+n1VBH+ve/Kpcydo/4979Sj7N50vb3v5bkQUQQ9fe/Rd47vkjz979qm3DPe/H3v17SG1+p7/e/bWnhU9Ht97/o5siT8+v3v+W2OAQQ6ve/9kTxiSbo97/c5wcJN+b3v1ad4WRB5Pe/55MtgEXi979vgN88Q+D3v1G9KXw63ve/vTB3Hivc97+W92QDFdr3v1zSuwn41/e/QlFpD9TV97+UvHjxqNP3v0m2C4x20fe/mZFSujzP978eXYRW+8z3v/Kb1jmyyve/C6p0PGHI97/Qx3Y1CMb3v7rI2Pqmw/e/nWBwYT3B97/qCuM8y773vweHm19QvPe/guS+msy597+8GSG+P7f3vywfOZiptPe/NokU9gmy978NmkqjYK/3v+3E7mmtrPe/TZuCEvCp97+WHOdjKKf3vyZgTSNWpPe/KpEmFHmh9787MxP4kJ73vxam0Y6dm/e/ad4rlp6Y97+2SOTJk5X3vxPLoeN8kve/b9namlmP97+Zj7+kKYz3vz/DIrTsiPe/Y/9heaKF97+7WUyiSoL3v4oRCNrkfve/bOb2yHB7979fFJkU7nf3vyzhbl9cdPe/9qXYSLtw979bPvVsCm33vwTFfmRJafe/3IOlxHdl97+D/OgelWH3v37r7gChXfe/2iZY9JpZ97+KNpN+glX3v5uCrCBXUfe/s/AbVxhN97+bx4+ZxUj3v42stFpeRPe/2Ir6B+I/97/mMlYJUDv3v+t5/8CnNve/dZ8ri+gx97+eucO9ES33v9rjFqgiKPe/IueHkhoj97+GDDa++B33vyTFoGS8GPe/octFt2QT978VXDnf8A33v14XuPxfCPe/DR6yJrEC97/F5U5q4/z2v2JBacr19va/HQkDP+fw9r9Ew6+0tur2v9Cg9Qtj5Pa/DBKkGOvd9r9SJx+hTdf2v/ffnl2J0Pa/z3Vh95zJ9r8Pns8Hh8L2v4mgkRdGu/a/+QuUndiz9r8msfr9PKz2v7BuAIlxpPa/ADTCeXSc9r/XevP0Q5T2v5VLegfei/a/gbDwpECD9r8QRwmmaXr2vwlj1MZWcfa/v/XipAVo9r9kIkS9c172v+4WWmqeVPa/FmaC4YJK9r9kuY0wHkD2v4pAAjttNfa/SMQjt2wq9r9ctLsqGR/2vyvomuduE/a/FhbOB2oH9r89O31pBvv1v+NJbao/7vW/+nMaIxHh9b+NRWDhddP1v1R7o6JoxfW/Fg9wzeO29b+lT3xq4af1v9b9/xxbmPW/FUtMGkqI9b/0Lo8gp3f1vzLNqWxqZvW/5If+rotU9b+Kyxf/AUL1v/iTBM7DLvW/xgVD18Ya9b9XKgwQAAb1v8/KzZRj8PS/WHOYlOTZ9L/ysj86dcL0vzCO4ZIGqvS/Sqt/cYiQ9L9Jy0hP6XX0v4N7IygWWvS/kFL7Uvo89L+hSUBVfx70v0CZ87CM/vO/IraGrAfd87+jbrcT07nzv0+fd/DOlPO/ZYDPOtht879zbYd+yETzv4fTQXV1GfO/dM+Ik7Dr8r+08S6HRrvyv6bXQqX+h/K/JfK+RZpR8r/SxBkL1Bfyv04E8xNf2vG/ydlgFeaY8b8AC/BcClPxv8Q+Z7piCPG/jY3+Unq48L8gdkxiz2Lwv5C+EPHRBvC/WEGlH8VH77+/MGlXonLuvykZsT+4jO2/q/SObF+U7L9ubU7DzIfrv4NJ9isUZeq/QzpolC4q6b9bqNKoBNXnv+MBvPJ/Y+a/q0luQqTT5L+z3N0ysyPjv3GoIv1aUuG/UbLUuOC93r9Oc9VYYZPav7g3ilELKNa/GbnYl3+B0b+vEJyT4lDJv3XMThpuor6/RoY3kZOCpL9GhjeRk4KkP3nLThpuor4/NBCck+JQyT8ZudiXf4HRP7g3ilELKNY/GHPVWGGT2j9RstS44L3eP3GoIv1aUuE/ntzdMrMj4z+WSW5CpNPkP+MBvPJ/Y+Y/W6jSqATV5z8zOmiULirpP3RJ9isUZeo/bm1Ow8yH6z+r9I5sX5TsPx4ZsT+4jO0/vzBpV6Jy7j9YQaUfxUfvP4y+EPHRBvA/G3ZMYs9i8D+Njf5SerjwP8Q+Z7piCPE//QrwXApT8T/G2WAV5pjxP04E8xNf2vE/0sQZC9QX8j8i8r5FmlHyP6bXQqX+h/I/tPEuh0a78j9xz4iTsOvyP4TTQXV1GfM/c22HfshE8z9lgM862G3zP02fd/DOlPM/om63E9O58z8itoasB93zP0CZ87CM/vM/oElAVX8e9D+QUvtS+jz0P4N7IygWWvQ/R8tIT+l19D9Jq39xiJD0PzCO4ZIGqvQ/8rI/OnXC9D9Xc5iU5Nn0P87KzZRj8PQ/VyoMEAAG9T/GBUPXxhr1P/eTBM7DLvU/issX/wFC9T/kh/6ui1T1PzLNqWxqZvU/9C6PIKd39T8VS0waSoj1P9b9/xxbmPU/pE98auGn9T8WD3DN47b1P1R7o6JoxfU/jUVg4XXT9T/5cxojEeH1P+JJbao/7vU/PTt9aQb79T8WFs4Hagf2PyvomuduE/Y/W7S7Khkf9j9IxCO3bCr2P4pAAjttNfY/ZLmNMB5A9j8WZoLhgkr2P+4WWmqeVPY/ZCJEvXNe9j+/9eKkBWj2Pwlj1MZWcfY/EEcJpml69j+BsPCkQIP2P5VLegfei/Y/13rz9EOU9j8ANMJ5dJz2P69uAIlxpPY/JrH6/Tys9j/4C5Sd2LP2P4mgkRdGu/Y/D57PB4fC9j/PdWH3nMn2P/ffnl2J0PY/UicfoU3X9j8MEqQY6932P9Cg9Qtj5PY/RMOvtLbq9j8dCQM/5/D2P2JBacr19vY/xOVOauP89j8NHrImsQL3P14XuPxfCPc/FVw53/AN9z+hy0W3ZBP3PyTFoGS8GPc/hgw2vvgd9z8i54eSGiP3P9rjFqgiKPc/nrnDvREt9z91nyuL6DH3P+t5/8CnNvc/5jJWCVA79z/YivoH4j/3P42stFpeRPc/m8ePmcVI9z+z8BtXGE33P5uCrCBXUfc/ijaTfoJV9z/aJlj0mln3P37r7gChXfc/g/zoHpVh9z/cg6XEd2X3PwTFfmRJafc/Wz71bApt9z/2pdhIu3D3Pyzhbl9cdPc/XxSZFO539z9s5vbIcHv3P4oRCNrkfvc/ullMokqC9z9j/2F5ooX3Pz/DIrTsiPc/mI+/pCmM9z9v2dqaWY/3PxPLoeN8kvc/tkjkyZOV9z9o3iuWnpj3Pxam0Y6dm/c/OjMT+JCe9z8qkSYUeaH3PyZgTSNWpPc/lhznYyin9z9Nm4IS8Kn3P+3E7mmtrPc/DZpKo2Cv9z82iRT2CbL3PywfOZiptPc/vBkhvj+39z+C5L6azLn3PweHm19QvPc/6grjPMu+9z+dYHBhPcH3P7rI2Pqmw/c/0Md2NQjG9z8LqnQ8Ycj3P/Kb1jmyyvc/Hl2EVvvM9z+ZkVK6PM/3P0m2C4x20fc/lLx48ajT9z9CUWkP1NX3P1zSuwn41/c/lvdkAxXa9z+9MHceK9z3P1G9KXw63vc/b4DfPEPg9z/nky2AReL3P1ad4WRB5Pc/3OcHCTfm9z/2RPGJJuj3P+W2OAQQ6vc/5+bIk/Pr9z9taeFT0e33P17SG1+p7/c/aptwz3vx9z9F3ju+SPP3P5bkQUQQ9fc/Uo+zedL29z8qlzJ2j/j3P4+n1VBH+vc/1FUsIPr79z/S9UL6p/33P3BNpvRQ//c/TyhnJPUA+D/rzB2elAL4P0ZU7XUvBPg/WeWGv8UF+D9N1SyOVwf4P4yttfTkCPg/phiPBW4K+D8Gt8DS8gv4P03c7m1zDfg/QTZd6O8O+D8fXvFSaBD4PxtVNb7cEfg/2exZOk0T+D+MHDnXuRT4P3tDWKQiFvg/mVnqsIcX+D/LDtIL6Rj4P3/Zo8NGGvg/MPWn5qAb+D9oUdyC9xz4P8Nx9qVKHvg/hj9lXZof+D9AzVK25iD4P/sMpr0vIvg/a3kEgHUj+D+UstMJuCT4P1AOO2f3Jfg/IB0lpDMn+D+zI0HMbCj4P3yJBOuiKfg/tzysC9Yq+D89DD45Biz4P3z3iX4zLfg/23Qr5l0u+D/urop6hS/4P7m43UWqMPg/UbkpUswx+D8hD0Sp6zL4PyFr01QINPg/MeRQXiI1+D/oAgnPOTb4PwzGHLBON/g/9Z+CCmE4+D8HbQfncDn4P5FjT05+Ovg/K/3WSIk7+D/m2fPekTz4P1id1RiYPfg/5MWG/ps++D88fu2XnT/4P2xpzOycQPg/jWnDBJpB+D9HYVDnlEL4P0vwz5uNQ/g/9Cp+KYRE+D8mTXeXeEX4P6BouOxqRvg/1A4gMFtH+D9x9m5oSUj4P7ucSJw1Sfg/1uIz0h9K+D8Yp5sQCEv4P4xaz13uS/g/uJIDwNJM+D/Hl1I9tU34PzXvvNuVTvg/COMpoXRP+D/EBWiTUVD4PyKzLbgsUfg/pI0ZFQZS+D8o+bKv3VL4P3ySao2zU/g/HKSas4dU+D8fmIcnWlX4Pw==\",\"dtype\":\"float64\",\"order\":\"little\",\"shape\":[500]}},\"selected\":{\"id\":\"1051\"},\"selection_policy\":{\"id\":\"1050\"}},\"id\":\"1034\",\"type\":\"ColumnDataSource\"},{\"attributes\":{},\"id\":\"1051\",\"type\":\"Selection\"},{\"attributes\":{\"coordinates\":null,\"group\":null,\"line_color\":\"red\",\"location\":-1.5707963267948966},\"id\":\"1041\",\"type\":\"Span\"},{\"attributes\":{},\"id\":\"1017\",\"type\":\"BasicTicker\"},{\"attributes\":{\"bottom_units\":\"screen\",\"coordinates\":null,\"fill_alpha\":0.5,\"fill_color\":\"lightgrey\",\"group\":null,\"left_units\":\"screen\",\"level\":\"overlay\",\"line_alpha\":1.0,\"line_color\":\"black\",\"line_dash\":[4,4],\"line_width\":2,\"right_units\":\"screen\",\"syncable\":false,\"top_units\":\"screen\"},\"id\":\"1026\",\"type\":\"BoxAnnotation\"},{\"attributes\":{\"tools\":[{\"id\":\"1020\"},{\"id\":\"1021\"},{\"id\":\"1022\"},{\"id\":\"1023\"},{\"id\":\"1024\"},{\"id\":\"1025\"}]},\"id\":\"1027\",\"type\":\"Toolbar\"},{\"attributes\":{},\"id\":\"1023\",\"type\":\"SaveTool\"},{\"attributes\":{},\"id\":\"1020\",\"type\":\"PanTool\"},{\"attributes\":{},\"id\":\"1021\",\"type\":\"WheelZoomTool\"},{\"attributes\":{},\"id\":\"1050\",\"type\":\"UnionRenderers\"},{\"attributes\":{\"axis\":{\"id\":\"1012\"},\"coordinates\":null,\"group\":null,\"ticker\":null},\"id\":\"1015\",\"type\":\"Grid\"},{\"attributes\":{\"source\":{\"id\":\"1034\"}},\"id\":\"1039\",\"type\":\"CDSView\"},{\"attributes\":{},\"id\":\"1046\",\"type\":\"AllLabels\"},{\"attributes\":{\"line_alpha\":0.1,\"line_color\":\"#1f77b4\",\"x\":{\"field\":\"x\"},\"y\":{\"field\":\"y\"}},\"id\":\"1036\",\"type\":\"Line\"},{\"attributes\":{},\"id\":\"1013\",\"type\":\"BasicTicker\"},{\"attributes\":{\"line_alpha\":0.2,\"line_color\":\"#1f77b4\",\"x\":{\"field\":\"x\"},\"y\":{\"field\":\"y\"}},\"id\":\"1037\",\"type\":\"Line\"},{\"attributes\":{\"axis_label_standoff\":10,\"axis_label_text_color\":\"#5B5B5B\",\"axis_label_text_font\":\"Calibri Light\",\"axis_label_text_font_size\":\"1.15em\",\"axis_label_text_font_style\":\"bold\",\"axis_line_alpha\":1,\"axis_line_color\":\"#5B5B5B\",\"coordinates\":null,\"formatter\":{\"id\":\"1048\"},\"group\":null,\"major_label_policy\":{\"id\":\"1049\"},\"major_label_text_color\":\"#5B5B5B\",\"major_label_text_font\":\"Calibri Light\",\"major_label_text_font_size\":\"0.95em\",\"major_label_text_font_style\":\"bold\",\"major_tick_in\":0,\"major_tick_line_alpha\":0.25,\"major_tick_line_color\":\"#5B5B5B\",\"major_tick_out\":3,\"minor_tick_line_alpha\":0.25,\"minor_tick_line_color\":\"#5B5B5B\",\"ticker\":{\"id\":\"1013\"}},\"id\":\"1012\",\"type\":\"LinearAxis\"},{\"attributes\":{},\"id\":\"1045\",\"type\":\"BasicTickFormatter\"},{\"attributes\":{},\"id\":\"1004\",\"type\":\"DataRange1d\"},{\"attributes\":{},\"id\":\"1049\",\"type\":\"AllLabels\"},{\"attributes\":{},\"id\":\"1025\",\"type\":\"HelpTool\"},{\"attributes\":{\"line_color\":\"#1f77b4\",\"x\":{\"field\":\"x\"},\"y\":{\"field\":\"y\"}},\"id\":\"1035\",\"type\":\"Line\"},{\"attributes\":{},\"id\":\"1008\",\"type\":\"LinearScale\"},{\"attributes\":{},\"id\":\"1048\",\"type\":\"BasicTickFormatter\"},{\"attributes\":{},\"id\":\"1010\",\"type\":\"LinearScale\"},{\"attributes\":{\"end\":2,\"start\":-2},\"id\":\"1006\",\"type\":\"Range1d\"},{\"attributes\":{\"overlay\":{\"id\":\"1026\"}},\"id\":\"1022\",\"type\":\"BoxZoomTool\"},{\"attributes\":{\"coordinates\":null,\"data_source\":{\"id\":\"1034\"},\"glyph\":{\"id\":\"1035\"},\"group\":null,\"hover_glyph\":null,\"muted_glyph\":{\"id\":\"1037\"},\"nonselection_glyph\":{\"id\":\"1036\"},\"view\":{\"id\":\"1039\"}},\"id\":\"1038\",\"type\":\"GlyphRenderer\"},{\"attributes\":{\"axis_label_standoff\":10,\"axis_label_text_color\":\"#5B5B5B\",\"axis_label_text_font\":\"Calibri Light\",\"axis_label_text_font_size\":\"1.15em\",\"axis_label_text_font_style\":\"bold\",\"axis_line_alpha\":1,\"axis_line_color\":\"#5B5B5B\",\"coordinates\":null,\"formatter\":{\"id\":\"1045\"},\"group\":null,\"major_label_policy\":{\"id\":\"1046\"},\"major_label_text_color\":\"#5B5B5B\",\"major_label_text_font\":\"Calibri Light\",\"major_label_text_font_size\":\"0.95em\",\"major_label_text_font_style\":\"bold\",\"major_tick_in\":0,\"major_tick_line_alpha\":0.25,\"major_tick_line_color\":\"#5B5B5B\",\"major_tick_out\":3,\"minor_tick_line_alpha\":0.25,\"minor_tick_line_color\":\"#5B5B5B\",\"ticker\":{\"id\":\"1017\"}},\"id\":\"1016\",\"type\":\"LinearAxis\"},{\"attributes\":{},\"id\":\"1024\",\"type\":\"ResetTool\"}],\"root_ids\":[\"1003\"]},\"title\":\"Bokeh Application\",\"version\":\"2.4.3\"}};\n  const render_items = [{\"docid\":\"df7392a2-8247-416e-af68-3bae8a947ea9\",\"root_ids\":[\"1003\"],\"roots\":{\"1003\":\"3fef95ea-760b-42e2-afc2-d0486a826b1c\"}}];\n  root.Bokeh.embed.embed_items_notebook(docs_json, render_items);\n  }\n  if (root.Bokeh !== undefined) {\n    embed_document(root);\n  } else {\n    let attempts = 0;\n    const timer = setInterval(function(root) {\n      if (root.Bokeh !== undefined) {\n        clearInterval(timer);\n        embed_document(root);\n      } else {\n        attempts++;\n        if (attempts > 100) {\n          clearInterval(timer);\n          console.log(\"Bokeh: ERROR: Unable to run BokehJS code because BokehJS library is missing\");\n        }\n      }\n    }, 10, root)\n  }\n})(window);",
      "application/vnd.bokehjs_exec.v0+json": ""
     },
     "metadata": {
      "application/vnd.bokehjs_exec.v0+json": {
       "id": "1003"
      }
     },
     "output_type": "display_data"
    }
   ],
   "source": [
    "### Insérez votre code ici\n",
    "import numpy as np\n",
    "from bokeh.models.annotations import Span\n",
    "\n",
    "fig = figure(width=600,height=400, y_range=[-2,2])\n",
    "\n",
    "x= np.linspace(-20,20,500)\n",
    "y=np.arctan(x)\n",
    "\n",
    "fig.line(x,y)\n",
    "\n",
    "\n",
    "a1 = Span(dimension='width',\n",
    "          location=np.pi/2,\n",
    "          line_color='blue'\n",
    "         )\n",
    "\n",
    "a2 = Span(dimension='width',\n",
    "     location=-np.pi/2,\n",
    "          line_color='red'\n",
    "    )\n",
    "\n",
    "fig.add_layout(a1)\n",
    "fig.add_layout(a2)\n",
    "\n",
    "show(fig)"
   ]
  },
  {
   "cell_type": "markdown",
   "metadata": {
    "deletable": false,
    "editable": false,
    "function": "preliminary",
    "question_id": 1,
    "run_control": {
     "frozen": true
    }
   },
   "source": [
    "### La classe `BoxAnnotation`\n",
    "\n",
    "> Pour mettre en évidence une partie d'un graphique ou d'une figure, on utilise en général une annotation appelée *boîte ombrée.*\n",
    ">\n",
    "> Une boîte ombrée est une instance de la classe `BoxAnnotation`. Cette classe permet d'afficher une forme rectangulaire sur une figure. Lors de l'instanciation d'une boîte ombrée, il est possible de préciser les paramètres `bottom`, `left`, `right` et `top` qui définissent les limites de la boîte sur les axes des abscisses et ordonnées. Par défaut quand une de ces limites n'est pas indiquée, le reste de la figure est inclus dans la boîte. \n",
    "\n",
    "<div class=\"alert alert-success\">\n",
    "<i class=\"fa fa-question-circle\"></i> &emsp; \n",
    "    Par exemple, si le paramètre <code style = \"background-color: transparent ; color : inherit\">top</code> n'est pas précisé, le paramètre <code style = \"background-color: transparent ; color : inherit\">bottom</code> vaut 0 et que les autres paramètres sont spécifiés, la boîte ombrée s'étendra sur toute la partie positive de l'axe des ordonnées.\n",
    "</div>\n",
    "\n",
    "* Exécuter le code suivant pour visualiser une première boîte ombrée."
   ]
  },
  {
   "cell_type": "code",
   "execution_count": 3,
   "metadata": {
    "ExecuteTime": {
     "end_time": "2023-11-29T14:55:34.240032Z",
     "start_time": "2023-11-29T14:55:34.229130Z"
    }
   },
   "outputs": [
    {
     "data": {
      "text/html": "\n  <div class=\"bk-root\" id=\"7892b504-1f93-4383-92d0-b1ac9be0cb84\" data-root-id=\"1108\"></div>\n"
     },
     "metadata": {},
     "output_type": "display_data"
    },
    {
     "data": {
      "application/javascript": "(function(root) {\n  function embed_document(root) {\n  const docs_json = {\"b6ca9d12-fe67-49fc-8192-116d0398d040\":{\"defs\":[],\"roots\":{\"references\":[{\"attributes\":{\"below\":[{\"id\":\"1117\"}],\"center\":[{\"id\":\"1120\"},{\"id\":\"1124\"},{\"id\":\"1139\"}],\"height\":400,\"left\":[{\"id\":\"1121\"}],\"title\":{\"id\":\"1151\"},\"toolbar\":{\"id\":\"1132\"},\"x_range\":{\"id\":\"1109\"},\"x_scale\":{\"id\":\"1113\"},\"y_range\":{\"id\":\"1111\"},\"y_scale\":{\"id\":\"1115\"}},\"id\":\"1108\",\"subtype\":\"Figure\",\"type\":\"Plot\"},{\"attributes\":{},\"id\":\"1155\",\"type\":\"AllLabels\"},{\"attributes\":{\"axis_label_standoff\":10,\"axis_label_text_color\":\"#5B5B5B\",\"axis_label_text_font\":\"Calibri Light\",\"axis_label_text_font_size\":\"1.15em\",\"axis_label_text_font_style\":\"bold\",\"axis_line_alpha\":1,\"axis_line_color\":\"#5B5B5B\",\"coordinates\":null,\"formatter\":{\"id\":\"1157\"},\"group\":null,\"major_label_policy\":{\"id\":\"1158\"},\"major_label_text_color\":\"#5B5B5B\",\"major_label_text_font\":\"Calibri Light\",\"major_label_text_font_size\":\"0.95em\",\"major_label_text_font_style\":\"bold\",\"major_tick_in\":0,\"major_tick_line_alpha\":0.25,\"major_tick_line_color\":\"#5B5B5B\",\"major_tick_out\":3,\"minor_tick_line_alpha\":0.25,\"minor_tick_line_color\":\"#5B5B5B\",\"ticker\":{\"id\":\"1118\"}},\"id\":\"1117\",\"type\":\"LinearAxis\"},{\"attributes\":{\"bottom_units\":\"screen\",\"coordinates\":null,\"fill_alpha\":0.5,\"fill_color\":\"lightgrey\",\"group\":null,\"left_units\":\"screen\",\"level\":\"overlay\",\"line_alpha\":1.0,\"line_color\":\"black\",\"line_dash\":[4,4],\"line_width\":2,\"right_units\":\"screen\",\"syncable\":false,\"top_units\":\"screen\"},\"id\":\"1131\",\"type\":\"BoxAnnotation\"},{\"attributes\":{},\"id\":\"1129\",\"type\":\"ResetTool\"},{\"attributes\":{\"coordinates\":null,\"group\":null,\"text_color\":\"#5B5B5B\",\"text_font\":\"Calibri Light\",\"text_font_size\":\"1.25em\",\"text_font_style\":\"bold\"},\"id\":\"1151\",\"type\":\"Title\"},{\"attributes\":{\"axis\":{\"id\":\"1121\"},\"coordinates\":null,\"dimension\":1,\"group\":null,\"ticker\":null},\"id\":\"1124\",\"type\":\"Grid\"},{\"attributes\":{\"end\":20,\"start\":-5},\"id\":\"1111\",\"type\":\"Range1d\"},{\"attributes\":{},\"id\":\"1126\",\"type\":\"WheelZoomTool\"},{\"attributes\":{\"axis_label_standoff\":10,\"axis_label_text_color\":\"#5B5B5B\",\"axis_label_text_font\":\"Calibri Light\",\"axis_label_text_font_size\":\"1.15em\",\"axis_label_text_font_style\":\"bold\",\"axis_line_alpha\":1,\"axis_line_color\":\"#5B5B5B\",\"coordinates\":null,\"formatter\":{\"id\":\"1154\"},\"group\":null,\"major_label_policy\":{\"id\":\"1155\"},\"major_label_text_color\":\"#5B5B5B\",\"major_label_text_font\":\"Calibri Light\",\"major_label_text_font_size\":\"0.95em\",\"major_label_text_font_style\":\"bold\",\"major_tick_in\":0,\"major_tick_line_alpha\":0.25,\"major_tick_line_color\":\"#5B5B5B\",\"major_tick_out\":3,\"minor_tick_line_alpha\":0.25,\"minor_tick_line_color\":\"#5B5B5B\",\"ticker\":{\"id\":\"1122\"}},\"id\":\"1121\",\"type\":\"LinearAxis\"},{\"attributes\":{},\"id\":\"1157\",\"type\":\"BasicTickFormatter\"},{\"attributes\":{},\"id\":\"1128\",\"type\":\"SaveTool\"},{\"attributes\":{},\"id\":\"1125\",\"type\":\"PanTool\"},{\"attributes\":{\"overlay\":{\"id\":\"1131\"}},\"id\":\"1127\",\"type\":\"BoxZoomTool\"},{\"attributes\":{\"axis\":{\"id\":\"1117\"},\"coordinates\":null,\"group\":null,\"ticker\":null},\"id\":\"1120\",\"type\":\"Grid\"},{\"attributes\":{},\"id\":\"1158\",\"type\":\"AllLabels\"},{\"attributes\":{},\"id\":\"1118\",\"type\":\"BasicTicker\"},{\"attributes\":{\"bottom\":0,\"coordinates\":null,\"fill_color\":\"red\",\"group\":null,\"left\":-5,\"right\":5},\"id\":\"1139\",\"type\":\"BoxAnnotation\"},{\"attributes\":{\"tools\":[{\"id\":\"1125\"},{\"id\":\"1126\"},{\"id\":\"1127\"},{\"id\":\"1128\"},{\"id\":\"1129\"},{\"id\":\"1130\"}]},\"id\":\"1132\",\"type\":\"Toolbar\"},{\"attributes\":{},\"id\":\"1130\",\"type\":\"HelpTool\"},{\"attributes\":{\"end\":10,\"start\":-10},\"id\":\"1109\",\"type\":\"Range1d\"},{\"attributes\":{},\"id\":\"1115\",\"type\":\"LinearScale\"},{\"attributes\":{},\"id\":\"1113\",\"type\":\"LinearScale\"},{\"attributes\":{},\"id\":\"1154\",\"type\":\"BasicTickFormatter\"},{\"attributes\":{},\"id\":\"1122\",\"type\":\"BasicTicker\"}],\"root_ids\":[\"1108\"]},\"title\":\"Bokeh Application\",\"version\":\"2.4.3\"}};\n  const render_items = [{\"docid\":\"b6ca9d12-fe67-49fc-8192-116d0398d040\",\"root_ids\":[\"1108\"],\"roots\":{\"1108\":\"7892b504-1f93-4383-92d0-b1ac9be0cb84\"}}];\n  root.Bokeh.embed.embed_items_notebook(docs_json, render_items);\n  }\n  if (root.Bokeh !== undefined) {\n    embed_document(root);\n  } else {\n    let attempts = 0;\n    const timer = setInterval(function(root) {\n      if (root.Bokeh !== undefined) {\n        clearInterval(timer);\n        embed_document(root);\n      } else {\n        attempts++;\n        if (attempts > 100) {\n          clearInterval(timer);\n          console.log(\"Bokeh: ERROR: Unable to run BokehJS code because BokehJS library is missing\");\n        }\n      }\n    }, 10, root)\n  }\n})(window);",
      "application/vnd.bokehjs_exec.v0+json": ""
     },
     "metadata": {
      "application/vnd.bokehjs_exec.v0+json": {
       "id": "1108"
      }
     },
     "output_type": "display_data"
    }
   ],
   "source": [
    "# Importation de la classe BoxAnnotation\n",
    "\n",
    "from bokeh.models.annotations import BoxAnnotation\n",
    "\n",
    "# Instanciation d'une figure\n",
    "\n",
    "p = figure(plot_width = 600, plot_height = 400,       # dimensions de la figure\n",
    "           x_range = (-10, 10), y_range = (-5, 20))   # limites des axes\n",
    "\n",
    "# Instanciation d'une boîte ombrée\n",
    "\n",
    "box = BoxAnnotation(bottom = 0,             # position du coté bas\n",
    "                    left = -5,              # position du coté gauche\n",
    "                    right = 5,              # position du coté droit\n",
    "                    fill_color = 'red')     # couleur de remplissage\n",
    "\n",
    "# Ajout de la boîte ombrée aux annotations de la figure\n",
    "\n",
    "p.add_layout(box)\n",
    "\n",
    "# Affichage de la figure\n",
    "\n",
    "show(p)"
   ]
  },
  {
   "cell_type": "markdown",
   "metadata": {
    "deletable": false,
    "editable": false,
    "function": "preliminary",
    "question_id": 1,
    "run_control": {
     "frozen": true
    }
   },
   "source": [
    "> Comme pour une annotation `Span`, il faut utiliser la méthode `add_layout` pour ajouter une boîte ombrée à une figure.\n",
    "\n",
    "* Instancier une figure de largeur 600 et hauteur 400 délimitée par -2 et 2 sur l'axe des ordonnées.\n",
    "\n",
    "\n",
    "* Créer une suite `x` de 500 valeurs entre -20 et 20 en utilisant la fonction `linspace` du module NumPy.\n",
    "\n",
    "\n",
    "* Créer une `y` correspondant à l'image de la suite `x` par la fonction $arctan$.\n",
    "\n",
    "\n",
    "* Tracer une courbe sur la figure avec les listes de coordonnées `x` et `y`.\n",
    "\n",
    "\n",
    "* Ajouter trois boites ombrées au graphique, de trois couleurs différentes :<br>\n",
    "  - La première avec les paramètres `bottom` et `fill_alpha` qui valent respectivement $\\dfrac{\\pi}{2}$ et $0.1$.\n",
    "  - La deuxième avec les paramètres `top` et `fill_alpha` qui valent respectivement $-\\dfrac{\\pi}{2}$ et $0.3$. \n",
    "  - La troisième au centre avec les paramètres `top`, `bottom`, `left`, `right` et `fill_alpha` qui valent respectivement: $1$, $-1$, $-5$, $5$ et $0.5$."
   ]
  },
  {
   "cell_type": "code",
   "execution_count": 4,
   "metadata": {
    "function": "submission",
    "question_id": 1,
    "ExecuteTime": {
     "end_time": "2023-11-29T14:55:34.605238Z",
     "start_time": "2023-11-29T14:55:34.602228Z"
    }
   },
   "outputs": [
    {
     "data": {
      "text/html": "\n  <div class=\"bk-root\" id=\"e1d58d54-9db1-4835-9e04-0dd916ae8ae0\" data-root-id=\"1205\"></div>\n"
     },
     "metadata": {},
     "output_type": "display_data"
    },
    {
     "data": {
      "application/javascript": "(function(root) {\n  function embed_document(root) {\n  const docs_json = {\"b26a58b2-8967-42fd-b917-8ebf2ffddbe3\":{\"defs\":[],\"roots\":{\"references\":[{\"attributes\":{\"below\":[{\"id\":\"1214\"}],\"center\":[{\"id\":\"1217\"},{\"id\":\"1221\"},{\"id\":\"1242\"},{\"id\":\"1243\"},{\"id\":\"1244\"}],\"height\":400,\"left\":[{\"id\":\"1218\"}],\"renderers\":[{\"id\":\"1240\"}],\"title\":{\"id\":\"1265\"},\"toolbar\":{\"id\":\"1229\"},\"x_range\":{\"id\":\"1206\"},\"x_scale\":{\"id\":\"1210\"},\"y_range\":{\"id\":\"1208\"},\"y_scale\":{\"id\":\"1212\"}},\"id\":\"1205\",\"subtype\":\"Figure\",\"type\":\"Plot\"},{\"attributes\":{},\"id\":\"1268\",\"type\":\"BasicTickFormatter\"},{\"attributes\":{\"axis\":{\"id\":\"1214\"},\"coordinates\":null,\"group\":null,\"ticker\":null},\"id\":\"1217\",\"type\":\"Grid\"},{\"attributes\":{\"axis\":{\"id\":\"1218\"},\"coordinates\":null,\"dimension\":1,\"group\":null,\"ticker\":null},\"id\":\"1221\",\"type\":\"Grid\"},{\"attributes\":{},\"id\":\"1219\",\"type\":\"BasicTicker\"},{\"attributes\":{},\"id\":\"1215\",\"type\":\"BasicTicker\"},{\"attributes\":{},\"id\":\"1269\",\"type\":\"AllLabels\"},{\"attributes\":{\"axis_label_standoff\":10,\"axis_label_text_color\":\"#5B5B5B\",\"axis_label_text_font\":\"Calibri Light\",\"axis_label_text_font_size\":\"1.15em\",\"axis_label_text_font_style\":\"bold\",\"axis_line_alpha\":1,\"axis_line_color\":\"#5B5B5B\",\"coordinates\":null,\"formatter\":{\"id\":\"1271\"},\"group\":null,\"major_label_policy\":{\"id\":\"1272\"},\"major_label_text_color\":\"#5B5B5B\",\"major_label_text_font\":\"Calibri Light\",\"major_label_text_font_size\":\"0.95em\",\"major_label_text_font_style\":\"bold\",\"major_tick_in\":0,\"major_tick_line_alpha\":0.25,\"major_tick_line_color\":\"#5B5B5B\",\"major_tick_out\":3,\"minor_tick_line_alpha\":0.25,\"minor_tick_line_color\":\"#5B5B5B\",\"ticker\":{\"id\":\"1215\"}},\"id\":\"1214\",\"type\":\"LinearAxis\"},{\"attributes\":{\"coordinates\":null,\"fill_alpha\":0.3,\"fill_color\":\"blue\",\"group\":null,\"top\":-1.5707963267948966},\"id\":\"1243\",\"type\":\"BoxAnnotation\"},{\"attributes\":{},\"id\":\"1273\",\"type\":\"UnionRenderers\"},{\"attributes\":{},\"id\":\"1274\",\"type\":\"Selection\"},{\"attributes\":{\"line_alpha\":0.1,\"line_color\":\"#1f77b4\",\"x\":{\"field\":\"x\"},\"y\":{\"field\":\"y\"}},\"id\":\"1238\",\"type\":\"Line\"},{\"attributes\":{\"data\":{\"x\":{\"__ndarray__\":\"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\",\"dtype\":\"float64\",\"order\":\"little\",\"shape\":[500]},\"y\":{\"__ndarray__\":\"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\",\"dtype\":\"float64\",\"order\":\"little\",\"shape\":[500]}},\"selected\":{\"id\":\"1274\"},\"selection_policy\":{\"id\":\"1273\"}},\"id\":\"1236\",\"type\":\"ColumnDataSource\"},{\"attributes\":{},\"id\":\"1206\",\"type\":\"DataRange1d\"},{\"attributes\":{\"axis_label_standoff\":10,\"axis_label_text_color\":\"#5B5B5B\",\"axis_label_text_font\":\"Calibri Light\",\"axis_label_text_font_size\":\"1.15em\",\"axis_label_text_font_style\":\"bold\",\"axis_line_alpha\":1,\"axis_line_color\":\"#5B5B5B\",\"coordinates\":null,\"formatter\":{\"id\":\"1268\"},\"group\":null,\"major_label_policy\":{\"id\":\"1269\"},\"major_label_text_color\":\"#5B5B5B\",\"major_label_text_font\":\"Calibri Light\",\"major_label_text_font_size\":\"0.95em\",\"major_label_text_font_style\":\"bold\",\"major_tick_in\":0,\"major_tick_line_alpha\":0.25,\"major_tick_line_color\":\"#5B5B5B\",\"major_tick_out\":3,\"minor_tick_line_alpha\":0.25,\"minor_tick_line_color\":\"#5B5B5B\",\"ticker\":{\"id\":\"1219\"}},\"id\":\"1218\",\"type\":\"LinearAxis\"},{\"attributes\":{\"tools\":[{\"id\":\"1222\"},{\"id\":\"1223\"},{\"id\":\"1224\"},{\"id\":\"1225\"},{\"id\":\"1226\"},{\"id\":\"1227\"}]},\"id\":\"1229\",\"type\":\"Toolbar\"},{\"attributes\":{},\"id\":\"1271\",\"type\":\"BasicTickFormatter\"},{\"attributes\":{},\"id\":\"1272\",\"type\":\"AllLabels\"},{\"attributes\":{\"coordinates\":null,\"data_source\":{\"id\":\"1236\"},\"glyph\":{\"id\":\"1237\"},\"group\":null,\"hover_glyph\":null,\"muted_glyph\":{\"id\":\"1239\"},\"nonselection_glyph\":{\"id\":\"1238\"},\"view\":{\"id\":\"1241\"}},\"id\":\"1240\",\"type\":\"GlyphRenderer\"},{\"attributes\":{\"line_alpha\":0.2,\"line_color\":\"#1f77b4\",\"x\":{\"field\":\"x\"},\"y\":{\"field\":\"y\"}},\"id\":\"1239\",\"type\":\"Line\"},{\"attributes\":{\"source\":{\"id\":\"1236\"}},\"id\":\"1241\",\"type\":\"CDSView\"},{\"attributes\":{},\"id\":\"1223\",\"type\":\"WheelZoomTool\"},{\"attributes\":{\"coordinates\":null,\"group\":null,\"text_color\":\"#5B5B5B\",\"text_font\":\"Calibri Light\",\"text_font_size\":\"1.25em\",\"text_font_style\":\"bold\"},\"id\":\"1265\",\"type\":\"Title\"},{\"attributes\":{\"bottom\":1.5707963267948966,\"coordinates\":null,\"fill_alpha\":0.1,\"fill_color\":\"red\",\"group\":null},\"id\":\"1242\",\"type\":\"BoxAnnotation\"},{\"attributes\":{\"line_color\":\"#1f77b4\",\"x\":{\"field\":\"x\"},\"y\":{\"field\":\"y\"}},\"id\":\"1237\",\"type\":\"Line\"},{\"attributes\":{},\"id\":\"1227\",\"type\":\"HelpTool\"},{\"attributes\":{},\"id\":\"1226\",\"type\":\"ResetTool\"},{\"attributes\":{},\"id\":\"1210\",\"type\":\"LinearScale\"},{\"attributes\":{\"overlay\":{\"id\":\"1228\"}},\"id\":\"1224\",\"type\":\"BoxZoomTool\"},{\"attributes\":{},\"id\":\"1212\",\"type\":\"LinearScale\"},{\"attributes\":{\"end\":2,\"start\":-2},\"id\":\"1208\",\"type\":\"Range1d\"},{\"attributes\":{},\"id\":\"1225\",\"type\":\"SaveTool\"},{\"attributes\":{},\"id\":\"1222\",\"type\":\"PanTool\"},{\"attributes\":{\"bottom\":-1,\"coordinates\":null,\"fill_alpha\":0.5,\"fill_color\":\"orange\",\"group\":null,\"left\":-5,\"right\":5,\"top\":1},\"id\":\"1244\",\"type\":\"BoxAnnotation\"},{\"attributes\":{\"bottom_units\":\"screen\",\"coordinates\":null,\"fill_alpha\":0.5,\"fill_color\":\"lightgrey\",\"group\":null,\"left_units\":\"screen\",\"level\":\"overlay\",\"line_alpha\":1.0,\"line_color\":\"black\",\"line_dash\":[4,4],\"line_width\":2,\"right_units\":\"screen\",\"syncable\":false,\"top_units\":\"screen\"},\"id\":\"1228\",\"type\":\"BoxAnnotation\"}],\"root_ids\":[\"1205\"]},\"title\":\"Bokeh Application\",\"version\":\"2.4.3\"}};\n  const render_items = [{\"docid\":\"b26a58b2-8967-42fd-b917-8ebf2ffddbe3\",\"root_ids\":[\"1205\"],\"roots\":{\"1205\":\"e1d58d54-9db1-4835-9e04-0dd916ae8ae0\"}}];\n  root.Bokeh.embed.embed_items_notebook(docs_json, render_items);\n  }\n  if (root.Bokeh !== undefined) {\n    embed_document(root);\n  } else {\n    let attempts = 0;\n    const timer = setInterval(function(root) {\n      if (root.Bokeh !== undefined) {\n        clearInterval(timer);\n        embed_document(root);\n      } else {\n        attempts++;\n        if (attempts > 100) {\n          clearInterval(timer);\n          console.log(\"Bokeh: ERROR: Unable to run BokehJS code because BokehJS library is missing\");\n        }\n      }\n    }, 10, root)\n  }\n})(window);",
      "application/vnd.bokehjs_exec.v0+json": ""
     },
     "metadata": {
      "application/vnd.bokehjs_exec.v0+json": {
       "id": "1205"
      }
     },
     "output_type": "display_data"
    }
   ],
   "source": [
    "### Insérez votre code ici\n",
    "\n",
    "fig = figure(width=600, height=400, y_range=(-2,2))\n",
    "\n",
    "x = np.linspace(-20,20,500)\n",
    "y=np.arctan(x)\n",
    "\n",
    "fig.line(x,y)\n",
    "\n",
    "b1 = BoxAnnotation(bottom=np.pi/2,fill_alpha=0.1,fill_color='red')\n",
    "b2 = BoxAnnotation(top=-np.pi/2,fill_alpha=0.3,fill_color='blue')\n",
    "b3 = BoxAnnotation(bottom=-1,\n",
    "                   top=1,\n",
    "                   left=-5,\n",
    "                   right=5,\n",
    "                   fill_alpha=0.5,\n",
    "                   fill_color='orange')\n",
    "\n",
    "fig.add_layout(b1)\n",
    "fig.add_layout(b2)\n",
    "fig.add_layout(b3)\n",
    "\n",
    "show(fig)\n",
    "\n",
    "\n"
   ]
  },
  {
   "cell_type": "markdown",
   "metadata": {
    "deletable": false,
    "editable": false,
    "function": "preliminary",
    "question_id": 1,
    "run_control": {
     "frozen": true
    }
   },
   "source": [
    "### La classe `Label`\n",
    "\n",
    "> **Bokeh** permet également d'insérer du texte sur le graphique. Pour ce faire, il faut instancier un objet de la classe `Label`en fournissant comme argument:\n",
    "> - `x` : l'abscisse où sera affiché le premier caractère du texte.\n",
    "> - `y` : l'ordonnée où sera affiché le premier caractère du texte.\n",
    "> - `text` : le texte à afficher.\n",
    ">\n",
    "> D'autres arguments peuvent être fournis à l'instanciation d'un objet de la classe `Label`:\n",
    "> - `text_font_size` : la police du texte.\n",
    "> - `x_offset` : le décalage du texte sur l'axe des abscisses.\n",
    "> - `y_offset` : le décalage du texte sur l'axe des ordonnées.\n",
    "> - `border_line_color` : la couleur du contour de la zone de texte.\n",
    "> - `background_fill_color` : la couleur de remplissage de la zone de texte.\n",
    "\n",
    "* Importer la classe `Label` depuis le sous-module `bokeh.models.annotations`.\n",
    "\n",
    "\n",
    "* Instancier une figure de largeur 600 et hauteur 400.\n",
    "\n",
    "\n",
    "* À partir des listes crées dans la cellule ci-dessous, créer un nuage de points rouge d'abscisses <b>`x`</b> et d'ordonnées <b>`y1`</b> ainsi qu'un nuage de points bleu d'abscisses <b>`x`</b> et d'ordonnées <b>`y2`</b>. Les deux nuages auront des points en forme de cercles de taille 10. Pour cela il faudra utiliser la méthode *glyph* `circle`.\n",
    "\n",
    "Nous voulons ajouter deux blocs de textes qui identifient le point minimum du nuage rouge et le point maximum du nuage bleu. Le minimum du nuage rouge se trouve aux coordonnées `(2, 2)` et le maximum du nuage bleu se trouve aux coordonnées `(4, 22)`.\n",
    "\n",
    "\n",
    "* Ajouter aux coordonnées des points minimum et maximum les textes `\"point min\"` et `\"point max\"` à la figure. Pour que le début du texte ne se superpose pas avec les points, on décalera le texte de 10 pixels vers le haut et de 10 pixels vers la droite."
   ]
  },
  {
   "cell_type": "code",
   "execution_count": 5,
   "metadata": {
    "function": "submission",
    "question_id": 1,
    "ExecuteTime": {
     "end_time": "2023-11-29T14:55:35.373306Z",
     "start_time": "2023-11-29T14:55:35.344203Z"
    }
   },
   "outputs": [
    {
     "data": {
      "text/html": "\n  <div class=\"bk-root\" id=\"7069c102-9828-4004-9a72-b87cdb16828b\" data-root-id=\"1331\"></div>\n"
     },
     "metadata": {},
     "output_type": "display_data"
    },
    {
     "data": {
      "application/javascript": "(function(root) {\n  function embed_document(root) {\n  const docs_json = {\"0ba23064-2f9b-40d7-9748-168b26bb9230\":{\"defs\":[],\"roots\":{\"references\":[{\"attributes\":{\"below\":[{\"id\":\"1340\"}],\"center\":[{\"id\":\"1343\"},{\"id\":\"1347\"},{\"id\":\"1374\"},{\"id\":\"1375\"}],\"height\":400,\"left\":[{\"id\":\"1344\"}],\"renderers\":[{\"id\":\"1366\"},{\"id\":\"1372\"}],\"title\":{\"id\":\"1407\"},\"toolbar\":{\"id\":\"1355\"},\"x_range\":{\"id\":\"1332\"},\"x_scale\":{\"id\":\"1336\"},\"y_range\":{\"id\":\"1334\"},\"y_scale\":{\"id\":\"1338\"}},\"id\":\"1331\",\"subtype\":\"Figure\",\"type\":\"Plot\"},{\"attributes\":{\"coordinates\":null,\"group\":null,\"text\":\"point max\",\"x\":4,\"x_offset\":10,\"y\":22,\"y_offset\":10},\"id\":\"1375\",\"type\":\"Label\"},{\"attributes\":{\"fill_color\":{\"value\":\"blue\"},\"hatch_color\":{\"value\":\"blue\"},\"line_color\":{\"value\":\"blue\"},\"size\":{\"value\":10},\"x\":{\"field\":\"x\"},\"y\":{\"field\":\"y\"}},\"id\":\"1369\",\"type\":\"Circle\"},{\"attributes\":{\"fill_alpha\":{\"value\":0.1},\"fill_color\":{\"value\":\"blue\"},\"hatch_alpha\":{\"value\":0.1},\"hatch_color\":{\"value\":\"blue\"},\"line_alpha\":{\"value\":0.1},\"line_color\":{\"value\":\"blue\"},\"size\":{\"value\":10},\"x\":{\"field\":\"x\"},\"y\":{\"field\":\"y\"}},\"id\":\"1370\",\"type\":\"Circle\"},{\"attributes\":{},\"id\":\"1332\",\"type\":\"DataRange1d\"},{\"attributes\":{},\"id\":\"1410\",\"type\":\"BasicTickFormatter\"},{\"attributes\":{\"coordinates\":null,\"data_source\":{\"id\":\"1362\"},\"glyph\":{\"id\":\"1363\"},\"group\":null,\"hover_glyph\":null,\"muted_glyph\":{\"id\":\"1365\"},\"nonselection_glyph\":{\"id\":\"1364\"},\"view\":{\"id\":\"1367\"}},\"id\":\"1366\",\"type\":\"GlyphRenderer\"},{\"attributes\":{\"coordinates\":null,\"group\":null,\"text\":\"point min\",\"x\":2,\"x_offset\":10,\"y\":2,\"y_offset\":10},\"id\":\"1374\",\"type\":\"Label\"},{\"attributes\":{\"tools\":[{\"id\":\"1348\"},{\"id\":\"1349\"},{\"id\":\"1350\"},{\"id\":\"1351\"},{\"id\":\"1352\"},{\"id\":\"1353\"}]},\"id\":\"1355\",\"type\":\"Toolbar\"},{\"attributes\":{\"source\":{\"id\":\"1368\"}},\"id\":\"1373\",\"type\":\"CDSView\"},{\"attributes\":{\"axis_label_standoff\":10,\"axis_label_text_color\":\"#5B5B5B\",\"axis_label_text_font\":\"Calibri Light\",\"axis_label_text_font_size\":\"1.15em\",\"axis_label_text_font_style\":\"bold\",\"axis_line_alpha\":1,\"axis_line_color\":\"#5B5B5B\",\"coordinates\":null,\"formatter\":{\"id\":\"1410\"},\"group\":null,\"major_label_policy\":{\"id\":\"1411\"},\"major_label_text_color\":\"#5B5B5B\",\"major_label_text_font\":\"Calibri Light\",\"major_label_text_font_size\":\"0.95em\",\"major_label_text_font_style\":\"bold\",\"major_tick_in\":0,\"major_tick_line_alpha\":0.25,\"major_tick_line_color\":\"#5B5B5B\",\"major_tick_out\":3,\"minor_tick_line_alpha\":0.25,\"minor_tick_line_color\":\"#5B5B5B\",\"ticker\":{\"id\":\"1345\"}},\"id\":\"1344\",\"type\":\"LinearAxis\"},{\"attributes\":{},\"id\":\"1418\",\"type\":\"Selection\"},{\"attributes\":{},\"id\":\"1414\",\"type\":\"AllLabels\"},{\"attributes\":{\"fill_alpha\":{\"value\":0.2},\"fill_color\":{\"value\":\"red\"},\"hatch_alpha\":{\"value\":0.2},\"hatch_color\":{\"value\":\"red\"},\"line_alpha\":{\"value\":0.2},\"line_color\":{\"value\":\"red\"},\"size\":{\"value\":10},\"x\":{\"field\":\"x\"},\"y\":{\"field\":\"y\"}},\"id\":\"1365\",\"type\":\"Circle\"},{\"attributes\":{},\"id\":\"1353\",\"type\":\"HelpTool\"},{\"attributes\":{\"axis_label_standoff\":10,\"axis_label_text_color\":\"#5B5B5B\",\"axis_label_text_font\":\"Calibri Light\",\"axis_label_text_font_size\":\"1.15em\",\"axis_label_text_font_style\":\"bold\",\"axis_line_alpha\":1,\"axis_line_color\":\"#5B5B5B\",\"coordinates\":null,\"formatter\":{\"id\":\"1413\"},\"group\":null,\"major_label_policy\":{\"id\":\"1414\"},\"major_label_text_color\":\"#5B5B5B\",\"major_label_text_font\":\"Calibri Light\",\"major_label_text_font_size\":\"0.95em\",\"major_label_text_font_style\":\"bold\",\"major_tick_in\":0,\"major_tick_line_alpha\":0.25,\"major_tick_line_color\":\"#5B5B5B\",\"major_tick_out\":3,\"minor_tick_line_alpha\":0.25,\"minor_tick_line_color\":\"#5B5B5B\",\"ticker\":{\"id\":\"1341\"}},\"id\":\"1340\",\"type\":\"LinearAxis\"},{\"attributes\":{\"data\":{\"x\":[1,2,3,4,5],\"y\":[6,2,3,8,15]},\"selected\":{\"id\":\"1416\"},\"selection_policy\":{\"id\":\"1415\"}},\"id\":\"1362\",\"type\":\"ColumnDataSource\"},{\"attributes\":{\"source\":{\"id\":\"1362\"}},\"id\":\"1367\",\"type\":\"CDSView\"},{\"attributes\":{\"fill_alpha\":{\"value\":0.1},\"fill_color\":{\"value\":\"red\"},\"hatch_alpha\":{\"value\":0.1},\"hatch_color\":{\"value\":\"red\"},\"line_alpha\":{\"value\":0.1},\"line_color\":{\"value\":\"red\"},\"size\":{\"value\":10},\"x\":{\"field\":\"x\"},\"y\":{\"field\":\"y\"}},\"id\":\"1364\",\"type\":\"Circle\"},{\"attributes\":{},\"id\":\"1341\",\"type\":\"BasicTicker\"},{\"attributes\":{},\"id\":\"1413\",\"type\":\"BasicTickFormatter\"},{\"attributes\":{},\"id\":\"1345\",\"type\":\"BasicTicker\"},{\"attributes\":{},\"id\":\"1417\",\"type\":\"UnionRenderers\"},{\"attributes\":{},\"id\":\"1351\",\"type\":\"SaveTool\"},{\"attributes\":{\"fill_color\":{\"value\":\"red\"},\"hatch_color\":{\"value\":\"red\"},\"line_color\":{\"value\":\"red\"},\"size\":{\"value\":10},\"x\":{\"field\":\"x\"},\"y\":{\"field\":\"y\"}},\"id\":\"1363\",\"type\":\"Circle\"},{\"attributes\":{\"axis\":{\"id\":\"1344\"},\"coordinates\":null,\"dimension\":1,\"group\":null,\"ticker\":null},\"id\":\"1347\",\"type\":\"Grid\"},{\"attributes\":{},\"id\":\"1349\",\"type\":\"WheelZoomTool\"},{\"attributes\":{\"axis\":{\"id\":\"1340\"},\"coordinates\":null,\"group\":null,\"ticker\":null},\"id\":\"1343\",\"type\":\"Grid\"},{\"attributes\":{},\"id\":\"1338\",\"type\":\"LinearScale\"},{\"attributes\":{},\"id\":\"1348\",\"type\":\"PanTool\"},{\"attributes\":{},\"id\":\"1416\",\"type\":\"Selection\"},{\"attributes\":{\"overlay\":{\"id\":\"1354\"}},\"id\":\"1350\",\"type\":\"BoxZoomTool\"},{\"attributes\":{},\"id\":\"1336\",\"type\":\"LinearScale\"},{\"attributes\":{},\"id\":\"1415\",\"type\":\"UnionRenderers\"},{\"attributes\":{},\"id\":\"1334\",\"type\":\"DataRange1d\"},{\"attributes\":{},\"id\":\"1352\",\"type\":\"ResetTool\"},{\"attributes\":{},\"id\":\"1411\",\"type\":\"AllLabels\"},{\"attributes\":{\"bottom_units\":\"screen\",\"coordinates\":null,\"fill_alpha\":0.5,\"fill_color\":\"lightgrey\",\"group\":null,\"left_units\":\"screen\",\"level\":\"overlay\",\"line_alpha\":1.0,\"line_color\":\"black\",\"line_dash\":[4,4],\"line_width\":2,\"right_units\":\"screen\",\"syncable\":false,\"top_units\":\"screen\"},\"id\":\"1354\",\"type\":\"BoxAnnotation\"},{\"attributes\":{\"data\":{\"x\":[1,2,3,4,5],\"y\":[8,10,12,22,16]},\"selected\":{\"id\":\"1418\"},\"selection_policy\":{\"id\":\"1417\"}},\"id\":\"1368\",\"type\":\"ColumnDataSource\"},{\"attributes\":{\"coordinates\":null,\"data_source\":{\"id\":\"1368\"},\"glyph\":{\"id\":\"1369\"},\"group\":null,\"hover_glyph\":null,\"muted_glyph\":{\"id\":\"1371\"},\"nonselection_glyph\":{\"id\":\"1370\"},\"view\":{\"id\":\"1373\"}},\"id\":\"1372\",\"type\":\"GlyphRenderer\"},{\"attributes\":{\"coordinates\":null,\"group\":null,\"text_color\":\"#5B5B5B\",\"text_font\":\"Calibri Light\",\"text_font_size\":\"1.25em\",\"text_font_style\":\"bold\"},\"id\":\"1407\",\"type\":\"Title\"},{\"attributes\":{\"fill_alpha\":{\"value\":0.2},\"fill_color\":{\"value\":\"blue\"},\"hatch_alpha\":{\"value\":0.2},\"hatch_color\":{\"value\":\"blue\"},\"line_alpha\":{\"value\":0.2},\"line_color\":{\"value\":\"blue\"},\"size\":{\"value\":10},\"x\":{\"field\":\"x\"},\"y\":{\"field\":\"y\"}},\"id\":\"1371\",\"type\":\"Circle\"}],\"root_ids\":[\"1331\"]},\"title\":\"Bokeh Application\",\"version\":\"2.4.3\"}};\n  const render_items = [{\"docid\":\"0ba23064-2f9b-40d7-9748-168b26bb9230\",\"root_ids\":[\"1331\"],\"roots\":{\"1331\":\"7069c102-9828-4004-9a72-b87cdb16828b\"}}];\n  root.Bokeh.embed.embed_items_notebook(docs_json, render_items);\n  }\n  if (root.Bokeh !== undefined) {\n    embed_document(root);\n  } else {\n    let attempts = 0;\n    const timer = setInterval(function(root) {\n      if (root.Bokeh !== undefined) {\n        clearInterval(timer);\n        embed_document(root);\n      } else {\n        attempts++;\n        if (attempts > 100) {\n          clearInterval(timer);\n          console.log(\"Bokeh: ERROR: Unable to run BokehJS code because BokehJS library is missing\");\n        }\n      }\n    }, 10, root)\n  }\n})(window);",
      "application/vnd.bokehjs_exec.v0+json": ""
     },
     "metadata": {
      "application/vnd.bokehjs_exec.v0+json": {
       "id": "1331"
      }
     },
     "output_type": "display_data"
    }
   ],
   "source": [
    "# Listes de coordonnées pour les nuages de points\n",
    "from bokeh.models.annotations import Label\n",
    "\n",
    "x = [1, 2, 3, 4, 5]\n",
    "y1 = [6, 2, 3, 8, 15]\n",
    "y2 = [8, 10, 12, 22, 16]\n",
    "\n",
    "### Insérez votre code ici\n",
    "\n",
    "fig = figure(width=600, height=400)\n",
    "\n",
    "fig.circle(x,y1,color='red',size=10)\n",
    "fig.circle(x,y2,color='blue',size=10)\n",
    "\n",
    "t1 = Label(x=2,y=2,text=\"point min\",x_offset=10,y_offset=10)\n",
    "t2 = Label(x=4,y=22,text=\"point max\",x_offset=10,y_offset=10)\n",
    "\n",
    "fig.add_layout(t1)\n",
    "fig.add_layout(t2)\n",
    "\n",
    "show(fig)\n"
   ]
  },
  {
   "cell_type": "markdown",
   "metadata": {
    "deletable": false,
    "editable": false,
    "function": "preliminary",
    "question_id": 1,
    "run_control": {
     "frozen": true
    }
   },
   "source": [
    "### La classe Arrow\n",
    "\n",
    "> Il est également possible d'ajouter une annotation avec une flèche descriptive pointant vers un point précis du graphique.\n",
    "Pour se faire, il suffit d'instancier un objet de la classe `Arrow` avec les arguments:\n",
    ">\n",
    "> - `x_start`et `y_start`: les coordonnées de départ de la flèche\n",
    ">\n",
    "> - `x_end` et `y_end` : les coordonnées d'arrivée de la flèche.\n",
    ">\n",
    ">\n",
    "> De plus, il est possible de configurer la forme de la flèche au départ ou à l'arrivée grâce aux arguments:\n",
    ">\n",
    "> - `start` : forme de la flèche au départ\n",
    "> - `end` : forme de la flèche à l'arrivée.\n",
    ">\n",
    "> La forme par défaut de la flèche à l'arrivée est `OpenHead` (`-->`), qui est une classe du sous-module **bokeh.models.arrow_heads**, tandis que la forme de départ de la flèche n'est pas définie par défaut. Grâce à ces paramètres, il est possible de faire des flèches à double sens.\n",
    ">\n",
    "> D'autres types de têtes de flèches existent telles que `NormalHead` (`--▷`) ainsi que `VeeHead` (`--≻`).\n",
    "\n",
    "\n",
    "* Importer la classe `Arrow` depuis le sous-module `bokeh.models.annotations`.\n",
    "\n",
    "\n",
    "* Depuis le sous-module `bokeh.models.arrow_heads` importer les classes `OpenHead`, `NormalHead`, `VeeHead`.\n",
    "\n",
    "\n",
    "* Instancier une figure de largeur 400 et hauteur 400 avec les étendues fournies.\n",
    "\n",
    "\n",
    "* Instancier dans cette figure un nuage de points en *forme de croix* de taille 10 avec les listes de coordonnées `x` et `y` fournies. La méthode *glyph* pour obtenir cette forme de nuage est la méthode `x`.\n",
    "\n",
    "\n",
    "* Afficher la figure."
   ]
  },
  {
   "cell_type": "code",
   "execution_count": 6,
   "metadata": {
    "function": "submission",
    "question_id": 1,
    "ExecuteTime": {
     "end_time": "2023-11-29T14:55:35.881778Z",
     "start_time": "2023-11-29T14:55:35.854043Z"
    }
   },
   "outputs": [
    {
     "data": {
      "text/html": "\n  <div class=\"bk-root\" id=\"9de605bb-374e-4e85-b6ed-4aa0cf7e6a29\" data-root-id=\"1485\"></div>\n"
     },
     "metadata": {},
     "output_type": "display_data"
    },
    {
     "data": {
      "application/javascript": "(function(root) {\n  function embed_document(root) {\n  const docs_json = {\"fbd13f50-aa44-4096-b7c2-3bc18df497f2\":{\"defs\":[],\"roots\":{\"references\":[{\"attributes\":{\"below\":[{\"id\":\"1494\"}],\"center\":[{\"id\":\"1497\"},{\"id\":\"1501\"}],\"height\":400,\"left\":[{\"id\":\"1498\"}],\"renderers\":[{\"id\":\"1520\"}],\"title\":{\"id\":\"1566\"},\"toolbar\":{\"id\":\"1509\"},\"width\":400,\"x_range\":{\"id\":\"1486\"},\"x_scale\":{\"id\":\"1490\"},\"y_range\":{\"id\":\"1488\"},\"y_scale\":{\"id\":\"1492\"}},\"id\":\"1485\",\"subtype\":\"Figure\",\"type\":\"Plot\"},{\"attributes\":{},\"id\":\"1492\",\"type\":\"LinearScale\"},{\"attributes\":{\"tools\":[{\"id\":\"1502\"},{\"id\":\"1503\"},{\"id\":\"1504\"},{\"id\":\"1505\"},{\"id\":\"1506\"},{\"id\":\"1507\"}]},\"id\":\"1509\",\"type\":\"Toolbar\"},{\"attributes\":{},\"id\":\"1490\",\"type\":\"LinearScale\"},{\"attributes\":{\"fill_alpha\":{\"value\":0.1},\"fill_color\":{\"value\":\"#1f77b4\"},\"hatch_alpha\":{\"value\":0.1},\"line_alpha\":{\"value\":0.1},\"line_color\":{\"value\":\"#1f77b4\"},\"marker\":{\"value\":\"x\"},\"size\":{\"value\":10},\"x\":{\"field\":\"x\"},\"y\":{\"field\":\"y\"}},\"id\":\"1518\",\"type\":\"Scatter\"},{\"attributes\":{\"fill_alpha\":{\"value\":0.2},\"fill_color\":{\"value\":\"#1f77b4\"},\"hatch_alpha\":{\"value\":0.2},\"line_alpha\":{\"value\":0.2},\"line_color\":{\"value\":\"#1f77b4\"},\"marker\":{\"value\":\"x\"},\"size\":{\"value\":10},\"x\":{\"field\":\"x\"},\"y\":{\"field\":\"y\"}},\"id\":\"1519\",\"type\":\"Scatter\"},{\"attributes\":{},\"id\":\"1505\",\"type\":\"SaveTool\"},{\"attributes\":{},\"id\":\"1575\",\"type\":\"Selection\"},{\"attributes\":{\"end\":7,\"start\":-1},\"id\":\"1486\",\"type\":\"Range1d\"},{\"attributes\":{\"coordinates\":null,\"data_source\":{\"id\":\"1516\"},\"glyph\":{\"id\":\"1517\"},\"group\":null,\"hover_glyph\":null,\"muted_glyph\":{\"id\":\"1519\"},\"nonselection_glyph\":{\"id\":\"1518\"},\"view\":{\"id\":\"1521\"}},\"id\":\"1520\",\"type\":\"GlyphRenderer\"},{\"attributes\":{\"fill_color\":{\"value\":\"#1f77b4\"},\"line_color\":{\"value\":\"#1f77b4\"},\"marker\":{\"value\":\"x\"},\"size\":{\"value\":10},\"x\":{\"field\":\"x\"},\"y\":{\"field\":\"y\"}},\"id\":\"1517\",\"type\":\"Scatter\"},{\"attributes\":{\"coordinates\":null,\"group\":null,\"text_color\":\"#5B5B5B\",\"text_font\":\"Calibri Light\",\"text_font_size\":\"1.25em\",\"text_font_style\":\"bold\"},\"id\":\"1566\",\"type\":\"Title\"},{\"attributes\":{\"axis_label_standoff\":10,\"axis_label_text_color\":\"#5B5B5B\",\"axis_label_text_font\":\"Calibri Light\",\"axis_label_text_font_size\":\"1.15em\",\"axis_label_text_font_style\":\"bold\",\"axis_line_alpha\":1,\"axis_line_color\":\"#5B5B5B\",\"coordinates\":null,\"formatter\":{\"id\":\"1569\"},\"group\":null,\"major_label_policy\":{\"id\":\"1570\"},\"major_label_text_color\":\"#5B5B5B\",\"major_label_text_font\":\"Calibri Light\",\"major_label_text_font_size\":\"0.95em\",\"major_label_text_font_style\":\"bold\",\"major_tick_in\":0,\"major_tick_line_alpha\":0.25,\"major_tick_line_color\":\"#5B5B5B\",\"major_tick_out\":3,\"minor_tick_line_alpha\":0.25,\"minor_tick_line_color\":\"#5B5B5B\",\"ticker\":{\"id\":\"1499\"}},\"id\":\"1498\",\"type\":\"LinearAxis\"},{\"attributes\":{},\"id\":\"1506\",\"type\":\"ResetTool\"},{\"attributes\":{},\"id\":\"1572\",\"type\":\"BasicTickFormatter\"},{\"attributes\":{},\"id\":\"1574\",\"type\":\"UnionRenderers\"},{\"attributes\":{\"bottom_units\":\"screen\",\"coordinates\":null,\"fill_alpha\":0.5,\"fill_color\":\"lightgrey\",\"group\":null,\"left_units\":\"screen\",\"level\":\"overlay\",\"line_alpha\":1.0,\"line_color\":\"black\",\"line_dash\":[4,4],\"line_width\":2,\"right_units\":\"screen\",\"syncable\":false,\"top_units\":\"screen\"},\"id\":\"1508\",\"type\":\"BoxAnnotation\"},{\"attributes\":{},\"id\":\"1573\",\"type\":\"AllLabels\"},{\"attributes\":{},\"id\":\"1499\",\"type\":\"BasicTicker\"},{\"attributes\":{\"end\":6.19615242271,\"start\":-1},\"id\":\"1488\",\"type\":\"Range1d\"},{\"attributes\":{\"axis\":{\"id\":\"1498\"},\"coordinates\":null,\"dimension\":1,\"group\":null,\"ticker\":null},\"id\":\"1501\",\"type\":\"Grid\"},{\"attributes\":{\"source\":{\"id\":\"1516\"}},\"id\":\"1521\",\"type\":\"CDSView\"},{\"attributes\":{\"overlay\":{\"id\":\"1508\"}},\"id\":\"1504\",\"type\":\"BoxZoomTool\"},{\"attributes\":{},\"id\":\"1502\",\"type\":\"PanTool\"},{\"attributes\":{},\"id\":\"1495\",\"type\":\"BasicTicker\"},{\"attributes\":{},\"id\":\"1569\",\"type\":\"BasicTickFormatter\"},{\"attributes\":{\"data\":{\"x\":[0,3,6],\"y\":[0,5.19615242271,0]},\"selected\":{\"id\":\"1575\"},\"selection_policy\":{\"id\":\"1574\"}},\"id\":\"1516\",\"type\":\"ColumnDataSource\"},{\"attributes\":{},\"id\":\"1503\",\"type\":\"WheelZoomTool\"},{\"attributes\":{},\"id\":\"1570\",\"type\":\"AllLabels\"},{\"attributes\":{},\"id\":\"1507\",\"type\":\"HelpTool\"},{\"attributes\":{\"axis_label_standoff\":10,\"axis_label_text_color\":\"#5B5B5B\",\"axis_label_text_font\":\"Calibri Light\",\"axis_label_text_font_size\":\"1.15em\",\"axis_label_text_font_style\":\"bold\",\"axis_line_alpha\":1,\"axis_line_color\":\"#5B5B5B\",\"coordinates\":null,\"formatter\":{\"id\":\"1572\"},\"group\":null,\"major_label_policy\":{\"id\":\"1573\"},\"major_label_text_color\":\"#5B5B5B\",\"major_label_text_font\":\"Calibri Light\",\"major_label_text_font_size\":\"0.95em\",\"major_label_text_font_style\":\"bold\",\"major_tick_in\":0,\"major_tick_line_alpha\":0.25,\"major_tick_line_color\":\"#5B5B5B\",\"major_tick_out\":3,\"minor_tick_line_alpha\":0.25,\"minor_tick_line_color\":\"#5B5B5B\",\"ticker\":{\"id\":\"1495\"}},\"id\":\"1494\",\"type\":\"LinearAxis\"},{\"attributes\":{\"axis\":{\"id\":\"1494\"},\"coordinates\":null,\"group\":null,\"ticker\":null},\"id\":\"1497\",\"type\":\"Grid\"}],\"root_ids\":[\"1485\"]},\"title\":\"Bokeh Application\",\"version\":\"2.4.3\"}};\n  const render_items = [{\"docid\":\"fbd13f50-aa44-4096-b7c2-3bc18df497f2\",\"root_ids\":[\"1485\"],\"roots\":{\"1485\":\"9de605bb-374e-4e85-b6ed-4aa0cf7e6a29\"}}];\n  root.Bokeh.embed.embed_items_notebook(docs_json, render_items);\n  }\n  if (root.Bokeh !== undefined) {\n    embed_document(root);\n  } else {\n    let attempts = 0;\n    const timer = setInterval(function(root) {\n      if (root.Bokeh !== undefined) {\n        clearInterval(timer);\n        embed_document(root);\n      } else {\n        attempts++;\n        if (attempts > 100) {\n          clearInterval(timer);\n          console.log(\"Bokeh: ERROR: Unable to run BokehJS code because BokehJS library is missing\");\n        }\n      }\n    }, 10, root)\n  }\n})(window);",
      "application/vnd.bokehjs_exec.v0+json": ""
     },
     "metadata": {
      "application/vnd.bokehjs_exec.v0+json": {
       "id": "1485"
      }
     },
     "output_type": "display_data"
    }
   ],
   "source": [
    "# Listes abscisses et ordonnées\n",
    "\n",
    "from bokeh.models.annotations import Arrow\n",
    "from bokeh.models.arrow_heads import OpenHead,NormalHead,VeeHead\n",
    "\n",
    "x = [0, 3, 6]\n",
    "y = [0, 5.19615242271, 0]\n",
    "\n",
    "# Etendues des axes\n",
    "\n",
    "x_range = (-1, 7)\n",
    "y_range = (-1, 6.19615242271)\n",
    "\n",
    "### Insérez votre code ici\n",
    "fig = figure(width=400,height=400, x_range=x_range, y_range=y_range)\n",
    "\n",
    "fig.x(x,y,size=10)\n",
    "\n",
    "show(fig)\n"
   ]
  },
  {
   "cell_type": "markdown",
   "metadata": {
    "deletable": false,
    "editable": false,
    "run_control": {
     "frozen": true
    }
   },
   "source": [
    "Nous allons tracer 3 flèches différentes entre ces points. Pour chacune de ces flèches, il faudra instancier un objet de type `ArrowHead` pour définir la forme de la flèche ainsi qu'un objet de type `Arrow` pour définir le départ, l'arrivée et la couleur de chaque flèche.\n",
    "\n",
    "* Instancier une forme de flèche `OpenHead` avec une couleur de tracé (`line_color`) rouge et une taille de 15. La nommer `openhead`.\n",
    "\n",
    "\n",
    "* Instancier une flèche `Arrow` nommée `arrow1` telle que:\n",
    "    * la forme d'arrivée de la flèche soit `openhead`.\n",
    "    * les coordonnées de départ de la flèche soient $(x_0, y_0)$.\n",
    "    * les coordonnées d'arrivée de la flèche soient $(x_1, y_1)$. \n",
    "    * la couleur de tracé de la flèche soit rouge.\n",
    "    \n",
    "\n",
    "* Ajouter `arrow1` aux annotations de la figure.\n",
    "\n",
    "\n",
    "* Afficher la figure."
   ]
  },
  {
   "cell_type": "code",
   "execution_count": 7,
   "metadata": {
    "ExecuteTime": {
     "end_time": "2023-11-29T14:55:36.451650Z",
     "start_time": "2023-11-29T14:55:36.448214Z"
    }
   },
   "outputs": [
    {
     "data": {
      "text/html": "\n  <div class=\"bk-root\" id=\"318a19c0-03f5-4774-aebc-4a26665127f7\" data-root-id=\"1485\"></div>\n"
     },
     "metadata": {},
     "output_type": "display_data"
    },
    {
     "data": {
      "application/javascript": "(function(root) {\n  function embed_document(root) {\n  const docs_json = {\"db156da6-60dc-4feb-96e6-a1aa3ccad828\":{\"defs\":[],\"roots\":{\"references\":[{\"attributes\":{\"below\":[{\"id\":\"1494\"}],\"center\":[{\"id\":\"1497\"},{\"id\":\"1501\"},{\"id\":\"1633\"}],\"height\":400,\"left\":[{\"id\":\"1498\"}],\"renderers\":[{\"id\":\"1520\"}],\"title\":{\"id\":\"1566\"},\"toolbar\":{\"id\":\"1509\"},\"width\":400,\"x_range\":{\"id\":\"1486\"},\"x_scale\":{\"id\":\"1490\"},\"y_range\":{\"id\":\"1488\"},\"y_scale\":{\"id\":\"1492\"}},\"id\":\"1485\",\"subtype\":\"Figure\",\"type\":\"Plot\"},{\"attributes\":{},\"id\":\"1492\",\"type\":\"LinearScale\"},{\"attributes\":{\"coordinates\":null,\"end\":{\"id\":\"1632\"},\"group\":null,\"line_color\":{\"value\":\"red\"},\"source\":{\"id\":\"1687\"},\"start\":null,\"x_end\":{\"value\":3},\"x_start\":{\"value\":0},\"y_end\":{\"value\":5.19615242271},\"y_start\":{\"value\":0}},\"id\":\"1633\",\"type\":\"Arrow\"},{\"attributes\":{\"tools\":[{\"id\":\"1502\"},{\"id\":\"1503\"},{\"id\":\"1504\"},{\"id\":\"1505\"},{\"id\":\"1506\"},{\"id\":\"1507\"}]},\"id\":\"1509\",\"type\":\"Toolbar\"},{\"attributes\":{},\"id\":\"1692\",\"type\":\"Selection\"},{\"attributes\":{},\"id\":\"1490\",\"type\":\"LinearScale\"},{\"attributes\":{\"fill_alpha\":{\"value\":0.1},\"fill_color\":{\"value\":\"#1f77b4\"},\"hatch_alpha\":{\"value\":0.1},\"line_alpha\":{\"value\":0.1},\"line_color\":{\"value\":\"#1f77b4\"},\"marker\":{\"value\":\"x\"},\"size\":{\"value\":10},\"x\":{\"field\":\"x\"},\"y\":{\"field\":\"y\"}},\"id\":\"1518\",\"type\":\"Scatter\"},{\"attributes\":{\"fill_alpha\":{\"value\":0.2},\"fill_color\":{\"value\":\"#1f77b4\"},\"hatch_alpha\":{\"value\":0.2},\"line_alpha\":{\"value\":0.2},\"line_color\":{\"value\":\"#1f77b4\"},\"marker\":{\"value\":\"x\"},\"size\":{\"value\":10},\"x\":{\"field\":\"x\"},\"y\":{\"field\":\"y\"}},\"id\":\"1519\",\"type\":\"Scatter\"},{\"attributes\":{},\"id\":\"1505\",\"type\":\"SaveTool\"},{\"attributes\":{},\"id\":\"1575\",\"type\":\"Selection\"},{\"attributes\":{\"end\":7,\"start\":-1},\"id\":\"1486\",\"type\":\"Range1d\"},{\"attributes\":{},\"id\":\"1691\",\"type\":\"UnionRenderers\"},{\"attributes\":{\"coordinates\":null,\"data_source\":{\"id\":\"1516\"},\"glyph\":{\"id\":\"1517\"},\"group\":null,\"hover_glyph\":null,\"muted_glyph\":{\"id\":\"1519\"},\"nonselection_glyph\":{\"id\":\"1518\"},\"view\":{\"id\":\"1521\"}},\"id\":\"1520\",\"type\":\"GlyphRenderer\"},{\"attributes\":{\"fill_color\":{\"value\":\"#1f77b4\"},\"line_color\":{\"value\":\"#1f77b4\"},\"marker\":{\"value\":\"x\"},\"size\":{\"value\":10},\"x\":{\"field\":\"x\"},\"y\":{\"field\":\"y\"}},\"id\":\"1517\",\"type\":\"Scatter\"},{\"attributes\":{\"coordinates\":null,\"group\":null,\"text_color\":\"#5B5B5B\",\"text_font\":\"Calibri Light\",\"text_font_size\":\"1.25em\",\"text_font_style\":\"bold\"},\"id\":\"1566\",\"type\":\"Title\"},{\"attributes\":{\"axis_label_standoff\":10,\"axis_label_text_color\":\"#5B5B5B\",\"axis_label_text_font\":\"Calibri Light\",\"axis_label_text_font_size\":\"1.15em\",\"axis_label_text_font_style\":\"bold\",\"axis_line_alpha\":1,\"axis_line_color\":\"#5B5B5B\",\"coordinates\":null,\"formatter\":{\"id\":\"1569\"},\"group\":null,\"major_label_policy\":{\"id\":\"1570\"},\"major_label_text_color\":\"#5B5B5B\",\"major_label_text_font\":\"Calibri Light\",\"major_label_text_font_size\":\"0.95em\",\"major_label_text_font_style\":\"bold\",\"major_tick_in\":0,\"major_tick_line_alpha\":0.25,\"major_tick_line_color\":\"#5B5B5B\",\"major_tick_out\":3,\"minor_tick_line_alpha\":0.25,\"minor_tick_line_color\":\"#5B5B5B\",\"ticker\":{\"id\":\"1499\"}},\"id\":\"1498\",\"type\":\"LinearAxis\"},{\"attributes\":{},\"id\":\"1506\",\"type\":\"ResetTool\"},{\"attributes\":{},\"id\":\"1572\",\"type\":\"BasicTickFormatter\"},{\"attributes\":{},\"id\":\"1574\",\"type\":\"UnionRenderers\"},{\"attributes\":{\"bottom_units\":\"screen\",\"coordinates\":null,\"fill_alpha\":0.5,\"fill_color\":\"lightgrey\",\"group\":null,\"left_units\":\"screen\",\"level\":\"overlay\",\"line_alpha\":1.0,\"line_color\":\"black\",\"line_dash\":[4,4],\"line_width\":2,\"right_units\":\"screen\",\"syncable\":false,\"top_units\":\"screen\"},\"id\":\"1508\",\"type\":\"BoxAnnotation\"},{\"attributes\":{},\"id\":\"1573\",\"type\":\"AllLabels\"},{\"attributes\":{},\"id\":\"1499\",\"type\":\"BasicTicker\"},{\"attributes\":{\"end\":6.19615242271,\"start\":-1},\"id\":\"1488\",\"type\":\"Range1d\"},{\"attributes\":{\"axis\":{\"id\":\"1498\"},\"coordinates\":null,\"dimension\":1,\"group\":null,\"ticker\":null},\"id\":\"1501\",\"type\":\"Grid\"},{\"attributes\":{\"source\":{\"id\":\"1516\"}},\"id\":\"1521\",\"type\":\"CDSView\"},{\"attributes\":{\"overlay\":{\"id\":\"1508\"}},\"id\":\"1504\",\"type\":\"BoxZoomTool\"},{\"attributes\":{\"line_color\":{\"value\":\"red\"},\"size\":{\"value\":15}},\"id\":\"1632\",\"type\":\"OpenHead\"},{\"attributes\":{},\"id\":\"1502\",\"type\":\"PanTool\"},{\"attributes\":{\"data\":{},\"selected\":{\"id\":\"1692\"},\"selection_policy\":{\"id\":\"1691\"}},\"id\":\"1687\",\"type\":\"ColumnDataSource\"},{\"attributes\":{},\"id\":\"1495\",\"type\":\"BasicTicker\"},{\"attributes\":{},\"id\":\"1569\",\"type\":\"BasicTickFormatter\"},{\"attributes\":{\"data\":{\"x\":[0,3,6],\"y\":[0,5.19615242271,0]},\"selected\":{\"id\":\"1575\"},\"selection_policy\":{\"id\":\"1574\"}},\"id\":\"1516\",\"type\":\"ColumnDataSource\"},{\"attributes\":{},\"id\":\"1503\",\"type\":\"WheelZoomTool\"},{\"attributes\":{},\"id\":\"1570\",\"type\":\"AllLabels\"},{\"attributes\":{},\"id\":\"1507\",\"type\":\"HelpTool\"},{\"attributes\":{\"axis_label_standoff\":10,\"axis_label_text_color\":\"#5B5B5B\",\"axis_label_text_font\":\"Calibri Light\",\"axis_label_text_font_size\":\"1.15em\",\"axis_label_text_font_style\":\"bold\",\"axis_line_alpha\":1,\"axis_line_color\":\"#5B5B5B\",\"coordinates\":null,\"formatter\":{\"id\":\"1572\"},\"group\":null,\"major_label_policy\":{\"id\":\"1573\"},\"major_label_text_color\":\"#5B5B5B\",\"major_label_text_font\":\"Calibri Light\",\"major_label_text_font_size\":\"0.95em\",\"major_label_text_font_style\":\"bold\",\"major_tick_in\":0,\"major_tick_line_alpha\":0.25,\"major_tick_line_color\":\"#5B5B5B\",\"major_tick_out\":3,\"minor_tick_line_alpha\":0.25,\"minor_tick_line_color\":\"#5B5B5B\",\"ticker\":{\"id\":\"1495\"}},\"id\":\"1494\",\"type\":\"LinearAxis\"},{\"attributes\":{\"axis\":{\"id\":\"1494\"},\"coordinates\":null,\"group\":null,\"ticker\":null},\"id\":\"1497\",\"type\":\"Grid\"}],\"root_ids\":[\"1485\"]},\"title\":\"Bokeh Application\",\"version\":\"2.4.3\"}};\n  const render_items = [{\"docid\":\"db156da6-60dc-4feb-96e6-a1aa3ccad828\",\"root_ids\":[\"1485\"],\"roots\":{\"1485\":\"318a19c0-03f5-4774-aebc-4a26665127f7\"}}];\n  root.Bokeh.embed.embed_items_notebook(docs_json, render_items);\n  }\n  if (root.Bokeh !== undefined) {\n    embed_document(root);\n  } else {\n    let attempts = 0;\n    const timer = setInterval(function(root) {\n      if (root.Bokeh !== undefined) {\n        clearInterval(timer);\n        embed_document(root);\n      } else {\n        attempts++;\n        if (attempts > 100) {\n          clearInterval(timer);\n          console.log(\"Bokeh: ERROR: Unable to run BokehJS code because BokehJS library is missing\");\n        }\n      }\n    }, 10, root)\n  }\n})(window);",
      "application/vnd.bokehjs_exec.v0+json": ""
     },
     "metadata": {
      "application/vnd.bokehjs_exec.v0+json": {
       "id": "1485"
      }
     },
     "output_type": "display_data"
    }
   ],
   "source": [
    "### Insérez votre code ici\n",
    "\n",
    "openhead = OpenHead(line_color='red',size=15)\n",
    "arrow1 = Arrow(x_start=x[0],y_start=y[0],x_end=x[1],y_end=y[1],line_color='red',end=openhead)\n",
    "\n",
    "fig.add_layout(arrow1)\n",
    "\n",
    "show(fig)\n",
    "\n"
   ]
  },
  {
   "cell_type": "markdown",
   "metadata": {
    "deletable": false,
    "editable": false,
    "run_control": {
     "frozen": true
    }
   },
   "source": [
    "* Instancier une forme de flèche `VeeHead` avec une couleur de remplissage (`fill_color`) rouge et une taille de 15. La nommer `veehead`.\n",
    "\n",
    "\n",
    "* Instancier une flèche `Arrow` nommée `arrow2` telle que:\n",
    "    * la forme d'arrivée de la flèche soit `veehead`.\n",
    "    * les coordonnées de départ de la flèche soient $(x_1, y_1)$.\n",
    "    * les coordonnées d'arrivée de la flèche soient $(x_2, y_2)$. \n",
    "    * la couleur de tracé de la flèche soit rouge.\n",
    "    \n",
    "\n",
    "* Ajouter `arrow2` aux annotations de la figure.\n",
    "\n",
    "\n",
    "* Afficher la figure."
   ]
  },
  {
   "cell_type": "code",
   "execution_count": 8,
   "metadata": {
    "ExecuteTime": {
     "end_time": "2023-11-29T14:55:37.058952Z",
     "start_time": "2023-11-29T14:55:37.024111Z"
    }
   },
   "outputs": [
    {
     "data": {
      "text/html": "\n  <div class=\"bk-root\" id=\"1ee569a6-f0ac-42c9-8505-1187f99c1884\" data-root-id=\"1485\"></div>\n"
     },
     "metadata": {},
     "output_type": "display_data"
    },
    {
     "data": {
      "application/javascript": "(function(root) {\n  function embed_document(root) {\n  const docs_json = {\"e057fc07-9a30-4aff-90c6-09eddba72bc2\":{\"defs\":[],\"roots\":{\"references\":[{\"attributes\":{\"below\":[{\"id\":\"1494\"}],\"center\":[{\"id\":\"1497\"},{\"id\":\"1501\"},{\"id\":\"1633\"},{\"id\":\"1764\"}],\"height\":400,\"left\":[{\"id\":\"1498\"}],\"renderers\":[{\"id\":\"1520\"}],\"title\":{\"id\":\"1566\"},\"toolbar\":{\"id\":\"1509\"},\"width\":400,\"x_range\":{\"id\":\"1486\"},\"x_scale\":{\"id\":\"1490\"},\"y_range\":{\"id\":\"1488\"},\"y_scale\":{\"id\":\"1492\"}},\"id\":\"1485\",\"subtype\":\"Figure\",\"type\":\"Plot\"},{\"attributes\":{},\"id\":\"1492\",\"type\":\"LinearScale\"},{\"attributes\":{\"coordinates\":null,\"end\":{\"id\":\"1632\"},\"group\":null,\"line_color\":{\"value\":\"red\"},\"source\":{\"id\":\"1687\"},\"start\":null,\"x_end\":{\"value\":3},\"x_start\":{\"value\":0},\"y_end\":{\"value\":5.19615242271},\"y_start\":{\"value\":0}},\"id\":\"1633\",\"type\":\"Arrow\"},{\"attributes\":{\"tools\":[{\"id\":\"1502\"},{\"id\":\"1503\"},{\"id\":\"1504\"},{\"id\":\"1505\"},{\"id\":\"1506\"},{\"id\":\"1507\"}]},\"id\":\"1509\",\"type\":\"Toolbar\"},{\"attributes\":{},\"id\":\"1692\",\"type\":\"Selection\"},{\"attributes\":{},\"id\":\"1490\",\"type\":\"LinearScale\"},{\"attributes\":{\"fill_alpha\":{\"value\":0.1},\"fill_color\":{\"value\":\"#1f77b4\"},\"hatch_alpha\":{\"value\":0.1},\"line_alpha\":{\"value\":0.1},\"line_color\":{\"value\":\"#1f77b4\"},\"marker\":{\"value\":\"x\"},\"size\":{\"value\":10},\"x\":{\"field\":\"x\"},\"y\":{\"field\":\"y\"}},\"id\":\"1518\",\"type\":\"Scatter\"},{\"attributes\":{\"fill_alpha\":{\"value\":0.2},\"fill_color\":{\"value\":\"#1f77b4\"},\"hatch_alpha\":{\"value\":0.2},\"line_alpha\":{\"value\":0.2},\"line_color\":{\"value\":\"#1f77b4\"},\"marker\":{\"value\":\"x\"},\"size\":{\"value\":10},\"x\":{\"field\":\"x\"},\"y\":{\"field\":\"y\"}},\"id\":\"1519\",\"type\":\"Scatter\"},{\"attributes\":{},\"id\":\"1505\",\"type\":\"SaveTool\"},{\"attributes\":{},\"id\":\"1575\",\"type\":\"Selection\"},{\"attributes\":{\"end\":7,\"start\":-1},\"id\":\"1486\",\"type\":\"Range1d\"},{\"attributes\":{},\"id\":\"1691\",\"type\":\"UnionRenderers\"},{\"attributes\":{\"coordinates\":null,\"data_source\":{\"id\":\"1516\"},\"glyph\":{\"id\":\"1517\"},\"group\":null,\"hover_glyph\":null,\"muted_glyph\":{\"id\":\"1519\"},\"nonselection_glyph\":{\"id\":\"1518\"},\"view\":{\"id\":\"1521\"}},\"id\":\"1520\",\"type\":\"GlyphRenderer\"},{\"attributes\":{\"fill_color\":{\"value\":\"#1f77b4\"},\"line_color\":{\"value\":\"#1f77b4\"},\"marker\":{\"value\":\"x\"},\"size\":{\"value\":10},\"x\":{\"field\":\"x\"},\"y\":{\"field\":\"y\"}},\"id\":\"1517\",\"type\":\"Scatter\"},{\"attributes\":{\"coordinates\":null,\"group\":null,\"text_color\":\"#5B5B5B\",\"text_font\":\"Calibri Light\",\"text_font_size\":\"1.25em\",\"text_font_style\":\"bold\"},\"id\":\"1566\",\"type\":\"Title\"},{\"attributes\":{\"axis_label_standoff\":10,\"axis_label_text_color\":\"#5B5B5B\",\"axis_label_text_font\":\"Calibri Light\",\"axis_label_text_font_size\":\"1.15em\",\"axis_label_text_font_style\":\"bold\",\"axis_line_alpha\":1,\"axis_line_color\":\"#5B5B5B\",\"coordinates\":null,\"formatter\":{\"id\":\"1569\"},\"group\":null,\"major_label_policy\":{\"id\":\"1570\"},\"major_label_text_color\":\"#5B5B5B\",\"major_label_text_font\":\"Calibri Light\",\"major_label_text_font_size\":\"0.95em\",\"major_label_text_font_style\":\"bold\",\"major_tick_in\":0,\"major_tick_line_alpha\":0.25,\"major_tick_line_color\":\"#5B5B5B\",\"major_tick_out\":3,\"minor_tick_line_alpha\":0.25,\"minor_tick_line_color\":\"#5B5B5B\",\"ticker\":{\"id\":\"1499\"}},\"id\":\"1498\",\"type\":\"LinearAxis\"},{\"attributes\":{},\"id\":\"1506\",\"type\":\"ResetTool\"},{\"attributes\":{},\"id\":\"1572\",\"type\":\"BasicTickFormatter\"},{\"attributes\":{},\"id\":\"1574\",\"type\":\"UnionRenderers\"},{\"attributes\":{\"fill_color\":{\"value\":\"red\"},\"size\":{\"value\":15}},\"id\":\"1763\",\"type\":\"VeeHead\"},{\"attributes\":{},\"id\":\"1825\",\"type\":\"UnionRenderers\"},{\"attributes\":{},\"id\":\"1826\",\"type\":\"Selection\"},{\"attributes\":{\"bottom_units\":\"screen\",\"coordinates\":null,\"fill_alpha\":0.5,\"fill_color\":\"lightgrey\",\"group\":null,\"left_units\":\"screen\",\"level\":\"overlay\",\"line_alpha\":1.0,\"line_color\":\"black\",\"line_dash\":[4,4],\"line_width\":2,\"right_units\":\"screen\",\"syncable\":false,\"top_units\":\"screen\"},\"id\":\"1508\",\"type\":\"BoxAnnotation\"},{\"attributes\":{},\"id\":\"1573\",\"type\":\"AllLabels\"},{\"attributes\":{},\"id\":\"1499\",\"type\":\"BasicTicker\"},{\"attributes\":{\"end\":6.19615242271,\"start\":-1},\"id\":\"1488\",\"type\":\"Range1d\"},{\"attributes\":{\"axis\":{\"id\":\"1498\"},\"coordinates\":null,\"dimension\":1,\"group\":null,\"ticker\":null},\"id\":\"1501\",\"type\":\"Grid\"},{\"attributes\":{\"source\":{\"id\":\"1516\"}},\"id\":\"1521\",\"type\":\"CDSView\"},{\"attributes\":{\"coordinates\":null,\"end\":{\"id\":\"1763\"},\"group\":null,\"line_color\":{\"value\":\"red\"},\"source\":{\"id\":\"1819\"},\"start\":null,\"x_end\":{\"value\":6},\"x_start\":{\"value\":3},\"y_end\":{\"value\":0},\"y_start\":{\"value\":5.19615242271}},\"id\":\"1764\",\"type\":\"Arrow\"},{\"attributes\":{\"overlay\":{\"id\":\"1508\"}},\"id\":\"1504\",\"type\":\"BoxZoomTool\"},{\"attributes\":{\"line_color\":{\"value\":\"red\"},\"size\":{\"value\":15}},\"id\":\"1632\",\"type\":\"OpenHead\"},{\"attributes\":{},\"id\":\"1502\",\"type\":\"PanTool\"},{\"attributes\":{\"data\":{},\"selected\":{\"id\":\"1692\"},\"selection_policy\":{\"id\":\"1691\"}},\"id\":\"1687\",\"type\":\"ColumnDataSource\"},{\"attributes\":{},\"id\":\"1495\",\"type\":\"BasicTicker\"},{\"attributes\":{},\"id\":\"1569\",\"type\":\"BasicTickFormatter\"},{\"attributes\":{\"data\":{\"x\":[0,3,6],\"y\":[0,5.19615242271,0]},\"selected\":{\"id\":\"1575\"},\"selection_policy\":{\"id\":\"1574\"}},\"id\":\"1516\",\"type\":\"ColumnDataSource\"},{\"attributes\":{},\"id\":\"1503\",\"type\":\"WheelZoomTool\"},{\"attributes\":{},\"id\":\"1570\",\"type\":\"AllLabels\"},{\"attributes\":{},\"id\":\"1507\",\"type\":\"HelpTool\"},{\"attributes\":{\"axis_label_standoff\":10,\"axis_label_text_color\":\"#5B5B5B\",\"axis_label_text_font\":\"Calibri Light\",\"axis_label_text_font_size\":\"1.15em\",\"axis_label_text_font_style\":\"bold\",\"axis_line_alpha\":1,\"axis_line_color\":\"#5B5B5B\",\"coordinates\":null,\"formatter\":{\"id\":\"1572\"},\"group\":null,\"major_label_policy\":{\"id\":\"1573\"},\"major_label_text_color\":\"#5B5B5B\",\"major_label_text_font\":\"Calibri Light\",\"major_label_text_font_size\":\"0.95em\",\"major_label_text_font_style\":\"bold\",\"major_tick_in\":0,\"major_tick_line_alpha\":0.25,\"major_tick_line_color\":\"#5B5B5B\",\"major_tick_out\":3,\"minor_tick_line_alpha\":0.25,\"minor_tick_line_color\":\"#5B5B5B\",\"ticker\":{\"id\":\"1495\"}},\"id\":\"1494\",\"type\":\"LinearAxis\"},{\"attributes\":{\"data\":{},\"selected\":{\"id\":\"1826\"},\"selection_policy\":{\"id\":\"1825\"}},\"id\":\"1819\",\"type\":\"ColumnDataSource\"},{\"attributes\":{\"axis\":{\"id\":\"1494\"},\"coordinates\":null,\"group\":null,\"ticker\":null},\"id\":\"1497\",\"type\":\"Grid\"}],\"root_ids\":[\"1485\"]},\"title\":\"Bokeh Application\",\"version\":\"2.4.3\"}};\n  const render_items = [{\"docid\":\"e057fc07-9a30-4aff-90c6-09eddba72bc2\",\"root_ids\":[\"1485\"],\"roots\":{\"1485\":\"1ee569a6-f0ac-42c9-8505-1187f99c1884\"}}];\n  root.Bokeh.embed.embed_items_notebook(docs_json, render_items);\n  }\n  if (root.Bokeh !== undefined) {\n    embed_document(root);\n  } else {\n    let attempts = 0;\n    const timer = setInterval(function(root) {\n      if (root.Bokeh !== undefined) {\n        clearInterval(timer);\n        embed_document(root);\n      } else {\n        attempts++;\n        if (attempts > 100) {\n          clearInterval(timer);\n          console.log(\"Bokeh: ERROR: Unable to run BokehJS code because BokehJS library is missing\");\n        }\n      }\n    }, 10, root)\n  }\n})(window);",
      "application/vnd.bokehjs_exec.v0+json": ""
     },
     "metadata": {
      "application/vnd.bokehjs_exec.v0+json": {
       "id": "1485"
      }
     },
     "output_type": "display_data"
    }
   ],
   "source": [
    "### Insérez votre code ici\n",
    "\n",
    "veehead = VeeHead(fill_color='red',size=15)\n",
    "arrow2 = Arrow(end=veehead,x_start=x[1],x_end=x[2],y_start=y[1],y_end=y[2],line_color='red')\n",
    "\n",
    "fig.add_layout(arrow2)\n",
    "\n",
    "show(fig)\n",
    "\n",
    "\n"
   ]
  },
  {
   "cell_type": "markdown",
   "metadata": {
    "deletable": false,
    "editable": false,
    "run_control": {
     "frozen": true
    }
   },
   "source": [
    "* Instancier une forme de flèche `NormalHead` avec une couleur de remplissage (`fill_color`) rouge et une taille de 15. La nommer `normalhead`.\n",
    "\n",
    "\n",
    "* Instancier une flèche `Arrow` nommée `arrow3` telle que:\n",
    "    * la forme d'arrivée de la flèche soit `normalhead`.\n",
    "    * les coordonnées de départ de la flèche soient $(x_2, y_2)$.\n",
    "    * les coordonnées d'arrivée de la flèche soient $(x_0, y_0)$. \n",
    "    * la couleur de tracé de la flèche soit rouge.\n",
    "    \n",
    "\n",
    "* Ajouter `arrow3` aux annotations de la figure.\n",
    "\n",
    "\n",
    "* Afficher la figure."
   ]
  },
  {
   "cell_type": "code",
   "execution_count": 9,
   "metadata": {
    "ExecuteTime": {
     "end_time": "2023-11-29T14:55:37.617713Z",
     "start_time": "2023-11-29T14:55:37.613039Z"
    }
   },
   "outputs": [
    {
     "data": {
      "text/html": "\n  <div class=\"bk-root\" id=\"921f6daa-835f-4083-bb96-3f7be42c8f9a\" data-root-id=\"1485\"></div>\n"
     },
     "metadata": {},
     "output_type": "display_data"
    },
    {
     "data": {
      "application/javascript": "(function(root) {\n  function embed_document(root) {\n  const docs_json = {\"e5b7eb67-a5b2-4f84-9965-68a659f5847e\":{\"defs\":[],\"roots\":{\"references\":[{\"attributes\":{\"below\":[{\"id\":\"1494\"}],\"center\":[{\"id\":\"1497\"},{\"id\":\"1501\"},{\"id\":\"1633\"},{\"id\":\"1764\"},{\"id\":\"1913\"}],\"height\":400,\"left\":[{\"id\":\"1498\"}],\"renderers\":[{\"id\":\"1520\"}],\"title\":{\"id\":\"1566\"},\"toolbar\":{\"id\":\"1509\"},\"width\":400,\"x_range\":{\"id\":\"1486\"},\"x_scale\":{\"id\":\"1490\"},\"y_range\":{\"id\":\"1488\"},\"y_scale\":{\"id\":\"1492\"}},\"id\":\"1485\",\"subtype\":\"Figure\",\"type\":\"Plot\"},{\"attributes\":{},\"id\":\"1492\",\"type\":\"LinearScale\"},{\"attributes\":{\"coordinates\":null,\"end\":{\"id\":\"1632\"},\"group\":null,\"line_color\":{\"value\":\"red\"},\"source\":{\"id\":\"1687\"},\"start\":null,\"x_end\":{\"value\":3},\"x_start\":{\"value\":0},\"y_end\":{\"value\":5.19615242271},\"y_start\":{\"value\":0}},\"id\":\"1633\",\"type\":\"Arrow\"},{\"attributes\":{\"tools\":[{\"id\":\"1502\"},{\"id\":\"1503\"},{\"id\":\"1504\"},{\"id\":\"1505\"},{\"id\":\"1506\"},{\"id\":\"1507\"}]},\"id\":\"1509\",\"type\":\"Toolbar\"},{\"attributes\":{},\"id\":\"1692\",\"type\":\"Selection\"},{\"attributes\":{},\"id\":\"1490\",\"type\":\"LinearScale\"},{\"attributes\":{\"fill_alpha\":{\"value\":0.1},\"fill_color\":{\"value\":\"#1f77b4\"},\"hatch_alpha\":{\"value\":0.1},\"line_alpha\":{\"value\":0.1},\"line_color\":{\"value\":\"#1f77b4\"},\"marker\":{\"value\":\"x\"},\"size\":{\"value\":10},\"x\":{\"field\":\"x\"},\"y\":{\"field\":\"y\"}},\"id\":\"1518\",\"type\":\"Scatter\"},{\"attributes\":{\"fill_alpha\":{\"value\":0.2},\"fill_color\":{\"value\":\"#1f77b4\"},\"hatch_alpha\":{\"value\":0.2},\"line_alpha\":{\"value\":0.2},\"line_color\":{\"value\":\"#1f77b4\"},\"marker\":{\"value\":\"x\"},\"size\":{\"value\":10},\"x\":{\"field\":\"x\"},\"y\":{\"field\":\"y\"}},\"id\":\"1519\",\"type\":\"Scatter\"},{\"attributes\":{},\"id\":\"1505\",\"type\":\"SaveTool\"},{\"attributes\":{},\"id\":\"1978\",\"type\":\"Selection\"},{\"attributes\":{},\"id\":\"1575\",\"type\":\"Selection\"},{\"attributes\":{\"end\":7,\"start\":-1},\"id\":\"1486\",\"type\":\"Range1d\"},{\"attributes\":{},\"id\":\"1691\",\"type\":\"UnionRenderers\"},{\"attributes\":{\"coordinates\":null,\"data_source\":{\"id\":\"1516\"},\"glyph\":{\"id\":\"1517\"},\"group\":null,\"hover_glyph\":null,\"muted_glyph\":{\"id\":\"1519\"},\"nonselection_glyph\":{\"id\":\"1518\"},\"view\":{\"id\":\"1521\"}},\"id\":\"1520\",\"type\":\"GlyphRenderer\"},{\"attributes\":{\"fill_color\":{\"value\":\"#1f77b4\"},\"line_color\":{\"value\":\"#1f77b4\"},\"marker\":{\"value\":\"x\"},\"size\":{\"value\":10},\"x\":{\"field\":\"x\"},\"y\":{\"field\":\"y\"}},\"id\":\"1517\",\"type\":\"Scatter\"},{\"attributes\":{\"data\":{},\"selected\":{\"id\":\"1978\"},\"selection_policy\":{\"id\":\"1977\"}},\"id\":\"1969\",\"type\":\"ColumnDataSource\"},{\"attributes\":{},\"id\":\"1977\",\"type\":\"UnionRenderers\"},{\"attributes\":{\"coordinates\":null,\"group\":null,\"text_color\":\"#5B5B5B\",\"text_font\":\"Calibri Light\",\"text_font_size\":\"1.25em\",\"text_font_style\":\"bold\"},\"id\":\"1566\",\"type\":\"Title\"},{\"attributes\":{\"axis_label_standoff\":10,\"axis_label_text_color\":\"#5B5B5B\",\"axis_label_text_font\":\"Calibri Light\",\"axis_label_text_font_size\":\"1.15em\",\"axis_label_text_font_style\":\"bold\",\"axis_line_alpha\":1,\"axis_line_color\":\"#5B5B5B\",\"coordinates\":null,\"formatter\":{\"id\":\"1569\"},\"group\":null,\"major_label_policy\":{\"id\":\"1570\"},\"major_label_text_color\":\"#5B5B5B\",\"major_label_text_font\":\"Calibri Light\",\"major_label_text_font_size\":\"0.95em\",\"major_label_text_font_style\":\"bold\",\"major_tick_in\":0,\"major_tick_line_alpha\":0.25,\"major_tick_line_color\":\"#5B5B5B\",\"major_tick_out\":3,\"minor_tick_line_alpha\":0.25,\"minor_tick_line_color\":\"#5B5B5B\",\"ticker\":{\"id\":\"1499\"}},\"id\":\"1498\",\"type\":\"LinearAxis\"},{\"attributes\":{},\"id\":\"1506\",\"type\":\"ResetTool\"},{\"attributes\":{},\"id\":\"1572\",\"type\":\"BasicTickFormatter\"},{\"attributes\":{},\"id\":\"1574\",\"type\":\"UnionRenderers\"},{\"attributes\":{\"fill_color\":{\"value\":\"red\"},\"size\":{\"value\":15}},\"id\":\"1763\",\"type\":\"VeeHead\"},{\"attributes\":{},\"id\":\"1825\",\"type\":\"UnionRenderers\"},{\"attributes\":{},\"id\":\"1826\",\"type\":\"Selection\"},{\"attributes\":{\"bottom_units\":\"screen\",\"coordinates\":null,\"fill_alpha\":0.5,\"fill_color\":\"lightgrey\",\"group\":null,\"left_units\":\"screen\",\"level\":\"overlay\",\"line_alpha\":1.0,\"line_color\":\"black\",\"line_dash\":[4,4],\"line_width\":2,\"right_units\":\"screen\",\"syncable\":false,\"top_units\":\"screen\"},\"id\":\"1508\",\"type\":\"BoxAnnotation\"},{\"attributes\":{},\"id\":\"1573\",\"type\":\"AllLabels\"},{\"attributes\":{},\"id\":\"1499\",\"type\":\"BasicTicker\"},{\"attributes\":{\"end\":6.19615242271,\"start\":-1},\"id\":\"1488\",\"type\":\"Range1d\"},{\"attributes\":{\"axis\":{\"id\":\"1498\"},\"coordinates\":null,\"dimension\":1,\"group\":null,\"ticker\":null},\"id\":\"1501\",\"type\":\"Grid\"},{\"attributes\":{\"source\":{\"id\":\"1516\"}},\"id\":\"1521\",\"type\":\"CDSView\"},{\"attributes\":{\"fill_color\":{\"value\":\"red\"},\"size\":{\"value\":15}},\"id\":\"1912\",\"type\":\"NormalHead\"},{\"attributes\":{\"coordinates\":null,\"end\":{\"id\":\"1763\"},\"group\":null,\"line_color\":{\"value\":\"red\"},\"source\":{\"id\":\"1819\"},\"start\":null,\"x_end\":{\"value\":6},\"x_start\":{\"value\":3},\"y_end\":{\"value\":0},\"y_start\":{\"value\":5.19615242271}},\"id\":\"1764\",\"type\":\"Arrow\"},{\"attributes\":{\"overlay\":{\"id\":\"1508\"}},\"id\":\"1504\",\"type\":\"BoxZoomTool\"},{\"attributes\":{\"line_color\":{\"value\":\"red\"},\"size\":{\"value\":15}},\"id\":\"1632\",\"type\":\"OpenHead\"},{\"attributes\":{\"coordinates\":null,\"end\":{\"id\":\"1912\"},\"group\":null,\"line_color\":{\"value\":\"red\"},\"source\":{\"id\":\"1969\"},\"start\":null,\"x_end\":{\"value\":0},\"x_start\":{\"value\":6},\"y_end\":{\"value\":0},\"y_start\":{\"value\":0}},\"id\":\"1913\",\"type\":\"Arrow\"},{\"attributes\":{},\"id\":\"1502\",\"type\":\"PanTool\"},{\"attributes\":{\"data\":{},\"selected\":{\"id\":\"1692\"},\"selection_policy\":{\"id\":\"1691\"}},\"id\":\"1687\",\"type\":\"ColumnDataSource\"},{\"attributes\":{},\"id\":\"1495\",\"type\":\"BasicTicker\"},{\"attributes\":{},\"id\":\"1569\",\"type\":\"BasicTickFormatter\"},{\"attributes\":{\"data\":{\"x\":[0,3,6],\"y\":[0,5.19615242271,0]},\"selected\":{\"id\":\"1575\"},\"selection_policy\":{\"id\":\"1574\"}},\"id\":\"1516\",\"type\":\"ColumnDataSource\"},{\"attributes\":{},\"id\":\"1503\",\"type\":\"WheelZoomTool\"},{\"attributes\":{},\"id\":\"1570\",\"type\":\"AllLabels\"},{\"attributes\":{},\"id\":\"1507\",\"type\":\"HelpTool\"},{\"attributes\":{\"axis_label_standoff\":10,\"axis_label_text_color\":\"#5B5B5B\",\"axis_label_text_font\":\"Calibri Light\",\"axis_label_text_font_size\":\"1.15em\",\"axis_label_text_font_style\":\"bold\",\"axis_line_alpha\":1,\"axis_line_color\":\"#5B5B5B\",\"coordinates\":null,\"formatter\":{\"id\":\"1572\"},\"group\":null,\"major_label_policy\":{\"id\":\"1573\"},\"major_label_text_color\":\"#5B5B5B\",\"major_label_text_font\":\"Calibri Light\",\"major_label_text_font_size\":\"0.95em\",\"major_label_text_font_style\":\"bold\",\"major_tick_in\":0,\"major_tick_line_alpha\":0.25,\"major_tick_line_color\":\"#5B5B5B\",\"major_tick_out\":3,\"minor_tick_line_alpha\":0.25,\"minor_tick_line_color\":\"#5B5B5B\",\"ticker\":{\"id\":\"1495\"}},\"id\":\"1494\",\"type\":\"LinearAxis\"},{\"attributes\":{\"data\":{},\"selected\":{\"id\":\"1826\"},\"selection_policy\":{\"id\":\"1825\"}},\"id\":\"1819\",\"type\":\"ColumnDataSource\"},{\"attributes\":{\"axis\":{\"id\":\"1494\"},\"coordinates\":null,\"group\":null,\"ticker\":null},\"id\":\"1497\",\"type\":\"Grid\"}],\"root_ids\":[\"1485\"]},\"title\":\"Bokeh Application\",\"version\":\"2.4.3\"}};\n  const render_items = [{\"docid\":\"e5b7eb67-a5b2-4f84-9965-68a659f5847e\",\"root_ids\":[\"1485\"],\"roots\":{\"1485\":\"921f6daa-835f-4083-bb96-3f7be42c8f9a\"}}];\n  root.Bokeh.embed.embed_items_notebook(docs_json, render_items);\n  }\n  if (root.Bokeh !== undefined) {\n    embed_document(root);\n  } else {\n    let attempts = 0;\n    const timer = setInterval(function(root) {\n      if (root.Bokeh !== undefined) {\n        clearInterval(timer);\n        embed_document(root);\n      } else {\n        attempts++;\n        if (attempts > 100) {\n          clearInterval(timer);\n          console.log(\"Bokeh: ERROR: Unable to run BokehJS code because BokehJS library is missing\");\n        }\n      }\n    }, 10, root)\n  }\n})(window);",
      "application/vnd.bokehjs_exec.v0+json": ""
     },
     "metadata": {
      "application/vnd.bokehjs_exec.v0+json": {
       "id": "1485"
      }
     },
     "output_type": "display_data"
    }
   ],
   "source": [
    "### Insérez votre code ici\n",
    "\n",
    "normalhead = NormalHead(fill_color='red',size=15)\n",
    "arrow3 = Arrow(end=normalhead,x_start=x[2],x_end=x[0],y_start=y[2],y_end=y[0],line_color='red')\n",
    "\n",
    "fig.add_layout(arrow3)\n",
    "\n",
    "show(fig)\n"
   ]
  },
  {
   "cell_type": "markdown",
   "metadata": {
    "deletable": false,
    "editable": false,
    "function": "preliminary",
    "question_id": 1,
    "run_control": {
     "frozen": true
    }
   },
   "source": [
    "### Affichage de plusieurs figures\n",
    "\n",
    "\n",
    "> **Bokeh** rend possible l'affichage de plusieurs figures simultanément grâce au sous-module **bokeh.layouts**.\n",
    ">\n",
    "> Au sein du package, les fonctions `row` et `column` permettent d'aligner verticalement et horizontalement des graphiques.\n",
    ">\n",
    "> Par exemple, pour afficher deux figures **`p1`** et **`p2`** alignées horizontalement, la fonction `row` va créer une nouvelle figure contenant les deux figures `p1` et `p2`.\n",
    ">\n",
    "> Pour afficher cette nouvelle figure sur la console, il suffit d'utiliser la fonction `show` comme pour une figure normale:\n",
    "> ```py\n",
    "    r = row(s1, s2) # création d'une nouvelle figure contenant s1 et s2 alignées horizontalement\n",
    "      ```\n",
    "> ```py    \n",
    "    show(r)         # affichage de la figure\n",
    "    ```\n",
    "\n",
    "* Instancier une figure `p1` de largeur 250 et hauteur 250. Instancier dans `p1` un nuage de points en forme de cercle de couleur verte et de taille 10 à partir des listes de coordonnées `x` et `y1`.\n",
    "\n",
    "\n",
    "* Instancier une figure `p2` de largeur 250 et hauteur 250. Instancier dans `p2` un nuage de points en forme de triangle de couleur rouge et de taille 10 à partir des listes de coordonnées `x` et `y2`.\n",
    "\n",
    "\n",
    "* Instancier une figure `p3` de largeur 250 et hauteur 250. Instancier dans `p3` un nuage de points en forme de carrés de couleur rouge et de taille 10 à partir des listes de coordonnées `x` et `y3`.\n",
    "\n",
    "    \n",
    "* Importer la fonction `row` depuis le sous-module `bokeh.layoutes`.\n",
    "\n",
    "\n",
    "* A l'aide de la fonction `row`, créer une figure nommée `r` qui alignera horizontalement les figures `p1`, `p2` et `p3`.\n",
    "\n",
    "\n",
    "* Afficher simultanément les trois figures."
   ]
  },
  {
   "cell_type": "code",
   "execution_count": 10,
   "metadata": {
    "function": "submission",
    "question_id": 1,
    "ExecuteTime": {
     "end_time": "2023-11-29T14:55:38.378417Z",
     "start_time": "2023-11-29T14:55:38.361682Z"
    }
   },
   "outputs": [
    {
     "data": {
      "text/html": "\n  <div class=\"bk-root\" id=\"3e3f69de-d76f-46f3-b38a-d6e6eca0b343\" data-root-id=\"2190\"></div>\n"
     },
     "metadata": {},
     "output_type": "display_data"
    },
    {
     "data": {
      "application/javascript": "(function(root) {\n  function embed_document(root) {\n  const docs_json = {\"9ab45315-4aa9-47e1-adc3-eb46fb5e422b\":{\"defs\":[],\"roots\":{\"references\":[{\"attributes\":{\"children\":[{\"id\":\"2079\"},{\"id\":\"2116\"},{\"id\":\"2153\"}]},\"id\":\"2190\",\"type\":\"Row\"},{\"attributes\":{\"below\":[{\"id\":\"2162\"}],\"center\":[{\"id\":\"2165\"},{\"id\":\"2169\"}],\"height\":250,\"left\":[{\"id\":\"2166\"}],\"renderers\":[{\"id\":\"2188\"}],\"title\":{\"id\":\"2259\"},\"toolbar\":{\"id\":\"2177\"},\"width\":250,\"x_range\":{\"id\":\"2154\"},\"x_scale\":{\"id\":\"2158\"},\"y_range\":{\"id\":\"2156\"},\"y_scale\":{\"id\":\"2160\"}},\"id\":\"2153\",\"subtype\":\"Figure\",\"type\":\"Plot\"},{\"attributes\":{},\"id\":\"2089\",\"type\":\"BasicTicker\"},{\"attributes\":{},\"id\":\"2285\",\"type\":\"UnionRenderers\"},{\"attributes\":{},\"id\":\"2286\",\"type\":\"Selection\"},{\"attributes\":{\"overlay\":{\"id\":\"2139\"}},\"id\":\"2135\",\"type\":\"BoxZoomTool\"},{\"attributes\":{\"coordinates\":null,\"data_source\":{\"id\":\"2184\"},\"glyph\":{\"id\":\"2185\"},\"group\":null,\"hover_glyph\":null,\"muted_glyph\":{\"id\":\"2187\"},\"nonselection_glyph\":{\"id\":\"2186\"},\"view\":{\"id\":\"2189\"}},\"id\":\"2188\",\"type\":\"GlyphRenderer\"},{\"attributes\":{\"fill_alpha\":{\"value\":0.2},\"fill_color\":{\"value\":\"green\"},\"hatch_alpha\":{\"value\":0.2},\"hatch_color\":{\"value\":\"green\"},\"line_alpha\":{\"value\":0.2},\"line_color\":{\"value\":\"green\"},\"size\":{\"value\":10},\"x\":{\"field\":\"x\"},\"y\":{\"field\":\"y\"}},\"id\":\"2113\",\"type\":\"Circle\"},{\"attributes\":{\"bottom_units\":\"screen\",\"coordinates\":null,\"fill_alpha\":0.5,\"fill_color\":\"lightgrey\",\"group\":null,\"left_units\":\"screen\",\"level\":\"overlay\",\"line_alpha\":1.0,\"line_color\":\"black\",\"line_dash\":[4,4],\"line_width\":2,\"right_units\":\"screen\",\"syncable\":false,\"top_units\":\"screen\"},\"id\":\"2176\",\"type\":\"BoxAnnotation\"},{\"attributes\":{},\"id\":\"2097\",\"type\":\"WheelZoomTool\"},{\"attributes\":{\"bottom_units\":\"screen\",\"coordinates\":null,\"fill_alpha\":0.5,\"fill_color\":\"lightgrey\",\"group\":null,\"left_units\":\"screen\",\"level\":\"overlay\",\"line_alpha\":1.0,\"line_color\":\"black\",\"line_dash\":[4,4],\"line_width\":2,\"right_units\":\"screen\",\"syncable\":false,\"top_units\":\"screen\"},\"id\":\"2139\",\"type\":\"BoxAnnotation\"},{\"attributes\":{\"coordinates\":null,\"group\":null,\"text_color\":\"#5B5B5B\",\"text_font\":\"Calibri Light\",\"text_font_size\":\"1.25em\",\"text_font_style\":\"bold\"},\"id\":\"2257\",\"type\":\"Title\"},{\"attributes\":{\"data\":{\"x\":[1,2,3,4,5],\"y\":[1,2,3,4,5]},\"selected\":{\"id\":\"2280\"},\"selection_policy\":{\"id\":\"2279\"}},\"id\":\"2110\",\"type\":\"ColumnDataSource\"},{\"attributes\":{\"fill_alpha\":{\"value\":0.1},\"fill_color\":{\"value\":\"green\"},\"hatch_alpha\":{\"value\":0.1},\"hatch_color\":{\"value\":\"green\"},\"line_alpha\":{\"value\":0.1},\"line_color\":{\"value\":\"green\"},\"size\":{\"value\":10},\"x\":{\"field\":\"x\"},\"y\":{\"field\":\"y\"}},\"id\":\"2112\",\"type\":\"Circle\"},{\"attributes\":{\"source\":{\"id\":\"2110\"}},\"id\":\"2115\",\"type\":\"CDSView\"},{\"attributes\":{},\"id\":\"2137\",\"type\":\"ResetTool\"},{\"attributes\":{},\"id\":\"2271\",\"type\":\"BasicTickFormatter\"},{\"attributes\":{\"tools\":[{\"id\":\"2096\"},{\"id\":\"2097\"},{\"id\":\"2098\"},{\"id\":\"2099\"},{\"id\":\"2100\"},{\"id\":\"2101\"}]},\"id\":\"2103\",\"type\":\"Toolbar\"},{\"attributes\":{\"axis_label_standoff\":10,\"axis_label_text_color\":\"#5B5B5B\",\"axis_label_text_font\":\"Calibri Light\",\"axis_label_text_font_size\":\"1.15em\",\"axis_label_text_font_style\":\"bold\",\"axis_line_alpha\":1,\"axis_line_color\":\"#5B5B5B\",\"coordinates\":null,\"formatter\":{\"id\":\"2274\"},\"group\":null,\"major_label_policy\":{\"id\":\"2275\"},\"major_label_text_color\":\"#5B5B5B\",\"major_label_text_font\":\"Calibri Light\",\"major_label_text_font_size\":\"0.95em\",\"major_label_text_font_style\":\"bold\",\"major_tick_in\":0,\"major_tick_line_alpha\":0.25,\"major_tick_line_color\":\"#5B5B5B\",\"major_tick_out\":3,\"minor_tick_line_alpha\":0.25,\"minor_tick_line_color\":\"#5B5B5B\",\"ticker\":{\"id\":\"2167\"}},\"id\":\"2166\",\"type\":\"LinearAxis\"},{\"attributes\":{},\"id\":\"2274\",\"type\":\"BasicTickFormatter\"},{\"attributes\":{},\"id\":\"2272\",\"type\":\"AllLabels\"},{\"attributes\":{\"coordinates\":null,\"data_source\":{\"id\":\"2147\"},\"glyph\":{\"id\":\"2148\"},\"group\":null,\"hover_glyph\":null,\"muted_glyph\":{\"id\":\"2150\"},\"nonselection_glyph\":{\"id\":\"2149\"},\"view\":{\"id\":\"2152\"}},\"id\":\"2151\",\"type\":\"GlyphRenderer\"},{\"attributes\":{\"overlay\":{\"id\":\"2102\"}},\"id\":\"2098\",\"type\":\"BoxZoomTool\"},{\"attributes\":{\"fill_alpha\":{\"value\":0.2},\"fill_color\":{\"value\":\"red\"},\"hatch_alpha\":{\"value\":0.2},\"hatch_color\":{\"value\":\"red\"},\"line_alpha\":{\"value\":0.2},\"line_color\":{\"value\":\"red\"},\"marker\":{\"value\":\"triangle\"},\"size\":{\"value\":10},\"x\":{\"field\":\"x\"},\"y\":{\"field\":\"y\"}},\"id\":\"2150\",\"type\":\"Scatter\"},{\"attributes\":{},\"id\":\"2154\",\"type\":\"DataRange1d\"},{\"attributes\":{\"data\":{\"x\":[1,2,3,4,5],\"y\":[8,10,12,22,16]},\"selected\":{\"id\":\"2286\"},\"selection_policy\":{\"id\":\"2285\"}},\"id\":\"2184\",\"type\":\"ColumnDataSource\"},{\"attributes\":{},\"id\":\"2275\",\"type\":\"AllLabels\"},{\"attributes\":{},\"id\":\"2158\",\"type\":\"LinearScale\"},{\"attributes\":{\"data\":{\"x\":[1,2,3,4,5],\"y\":[6,2,3,8,15]},\"selected\":{\"id\":\"2283\"},\"selection_policy\":{\"id\":\"2282\"}},\"id\":\"2147\",\"type\":\"ColumnDataSource\"},{\"attributes\":{},\"id\":\"2277\",\"type\":\"BasicTickFormatter\"},{\"attributes\":{\"axis_label_standoff\":10,\"axis_label_text_color\":\"#5B5B5B\",\"axis_label_text_font\":\"Calibri Light\",\"axis_label_text_font_size\":\"1.15em\",\"axis_label_text_font_style\":\"bold\",\"axis_line_alpha\":1,\"axis_line_color\":\"#5B5B5B\",\"coordinates\":null,\"formatter\":{\"id\":\"2262\"},\"group\":null,\"major_label_policy\":{\"id\":\"2263\"},\"major_label_text_color\":\"#5B5B5B\",\"major_label_text_font\":\"Calibri Light\",\"major_label_text_font_size\":\"0.95em\",\"major_label_text_font_style\":\"bold\",\"major_tick_in\":0,\"major_tick_line_alpha\":0.25,\"major_tick_line_color\":\"#5B5B5B\",\"major_tick_out\":3,\"minor_tick_line_alpha\":0.25,\"minor_tick_line_color\":\"#5B5B5B\",\"ticker\":{\"id\":\"2093\"}},\"id\":\"2092\",\"type\":\"LinearAxis\"},{\"attributes\":{},\"id\":\"2278\",\"type\":\"AllLabels\"},{\"attributes\":{},\"id\":\"2082\",\"type\":\"DataRange1d\"},{\"attributes\":{},\"id\":\"2084\",\"type\":\"LinearScale\"},{\"attributes\":{\"fill_color\":{\"value\":\"red\"},\"hatch_color\":{\"value\":\"red\"},\"line_color\":{\"value\":\"red\"},\"marker\":{\"value\":\"triangle\"},\"size\":{\"value\":10},\"x\":{\"field\":\"x\"},\"y\":{\"field\":\"y\"}},\"id\":\"2148\",\"type\":\"Scatter\"},{\"attributes\":{\"axis\":{\"id\":\"2125\"},\"coordinates\":null,\"group\":null,\"ticker\":null},\"id\":\"2128\",\"type\":\"Grid\"},{\"attributes\":{},\"id\":\"2126\",\"type\":\"BasicTicker\"},{\"attributes\":{},\"id\":\"2101\",\"type\":\"HelpTool\"},{\"attributes\":{},\"id\":\"2263\",\"type\":\"AllLabels\"},{\"attributes\":{\"axis_label_standoff\":10,\"axis_label_text_color\":\"#5B5B5B\",\"axis_label_text_font\":\"Calibri Light\",\"axis_label_text_font_size\":\"1.15em\",\"axis_label_text_font_style\":\"bold\",\"axis_line_alpha\":1,\"axis_line_color\":\"#5B5B5B\",\"coordinates\":null,\"formatter\":{\"id\":\"2271\"},\"group\":null,\"major_label_policy\":{\"id\":\"2272\"},\"major_label_text_color\":\"#5B5B5B\",\"major_label_text_font\":\"Calibri Light\",\"major_label_text_font_size\":\"0.95em\",\"major_label_text_font_style\":\"bold\",\"major_tick_in\":0,\"major_tick_line_alpha\":0.25,\"major_tick_line_color\":\"#5B5B5B\",\"major_tick_out\":3,\"minor_tick_line_alpha\":0.25,\"minor_tick_line_color\":\"#5B5B5B\",\"ticker\":{\"id\":\"2126\"}},\"id\":\"2125\",\"type\":\"LinearAxis\"},{\"attributes\":{},\"id\":\"2279\",\"type\":\"UnionRenderers\"},{\"attributes\":{},\"id\":\"2265\",\"type\":\"BasicTickFormatter\"},{\"attributes\":{},\"id\":\"2280\",\"type\":\"Selection\"},{\"attributes\":{},\"id\":\"2123\",\"type\":\"LinearScale\"},{\"attributes\":{},\"id\":\"2262\",\"type\":\"BasicTickFormatter\"},{\"attributes\":{},\"id\":\"2269\",\"type\":\"AllLabels\"},{\"attributes\":{\"below\":[{\"id\":\"2125\"}],\"center\":[{\"id\":\"2128\"},{\"id\":\"2132\"}],\"height\":250,\"left\":[{\"id\":\"2129\"}],\"renderers\":[{\"id\":\"2151\"}],\"title\":{\"id\":\"2257\"},\"toolbar\":{\"id\":\"2140\"},\"width\":250,\"x_range\":{\"id\":\"2117\"},\"x_scale\":{\"id\":\"2121\"},\"y_range\":{\"id\":\"2119\"},\"y_scale\":{\"id\":\"2123\"}},\"id\":\"2116\",\"subtype\":\"Figure\",\"type\":\"Plot\"},{\"attributes\":{},\"id\":\"2266\",\"type\":\"AllLabels\"},{\"attributes\":{\"fill_color\":{\"value\":\"green\"},\"hatch_color\":{\"value\":\"green\"},\"line_color\":{\"value\":\"green\"},\"size\":{\"value\":10},\"x\":{\"field\":\"x\"},\"y\":{\"field\":\"y\"}},\"id\":\"2111\",\"type\":\"Circle\"},{\"attributes\":{\"tools\":[{\"id\":\"2170\"},{\"id\":\"2171\"},{\"id\":\"2172\"},{\"id\":\"2173\"},{\"id\":\"2174\"},{\"id\":\"2175\"}]},\"id\":\"2177\",\"type\":\"Toolbar\"},{\"attributes\":{\"fill_alpha\":{\"value\":0.1},\"fill_color\":{\"value\":\"red\"},\"hatch_alpha\":{\"value\":0.1},\"hatch_color\":{\"value\":\"red\"},\"line_alpha\":{\"value\":0.1},\"line_color\":{\"value\":\"red\"},\"marker\":{\"value\":\"square\"},\"size\":{\"value\":10},\"x\":{\"field\":\"x\"},\"y\":{\"field\":\"y\"}},\"id\":\"2186\",\"type\":\"Scatter\"},{\"attributes\":{\"overlay\":{\"id\":\"2176\"}},\"id\":\"2172\",\"type\":\"BoxZoomTool\"},{\"attributes\":{\"axis\":{\"id\":\"2129\"},\"coordinates\":null,\"dimension\":1,\"group\":null,\"ticker\":null},\"id\":\"2132\",\"type\":\"Grid\"},{\"attributes\":{},\"id\":\"2096\",\"type\":\"PanTool\"},{\"attributes\":{},\"id\":\"2173\",\"type\":\"SaveTool\"},{\"attributes\":{\"source\":{\"id\":\"2147\"}},\"id\":\"2152\",\"type\":\"CDSView\"},{\"attributes\":{\"below\":[{\"id\":\"2088\"}],\"center\":[{\"id\":\"2091\"},{\"id\":\"2095\"}],\"height\":250,\"left\":[{\"id\":\"2092\"}],\"renderers\":[{\"id\":\"2114\"}],\"title\":{\"id\":\"2255\"},\"toolbar\":{\"id\":\"2103\"},\"width\":250,\"x_range\":{\"id\":\"2080\"},\"x_scale\":{\"id\":\"2084\"},\"y_range\":{\"id\":\"2082\"},\"y_scale\":{\"id\":\"2086\"}},\"id\":\"2079\",\"subtype\":\"Figure\",\"type\":\"Plot\"},{\"attributes\":{},\"id\":\"2174\",\"type\":\"ResetTool\"},{\"attributes\":{\"axis_label_standoff\":10,\"axis_label_text_color\":\"#5B5B5B\",\"axis_label_text_font\":\"Calibri Light\",\"axis_label_text_font_size\":\"1.15em\",\"axis_label_text_font_style\":\"bold\",\"axis_line_alpha\":1,\"axis_line_color\":\"#5B5B5B\",\"coordinates\":null,\"formatter\":{\"id\":\"2277\"},\"group\":null,\"major_label_policy\":{\"id\":\"2278\"},\"major_label_text_color\":\"#5B5B5B\",\"major_label_text_font\":\"Calibri Light\",\"major_label_text_font_size\":\"0.95em\",\"major_label_text_font_style\":\"bold\",\"major_tick_in\":0,\"major_tick_line_alpha\":0.25,\"major_tick_line_color\":\"#5B5B5B\",\"major_tick_out\":3,\"minor_tick_line_alpha\":0.25,\"minor_tick_line_color\":\"#5B5B5B\",\"ticker\":{\"id\":\"2163\"}},\"id\":\"2162\",\"type\":\"LinearAxis\"},{\"attributes\":{\"axis\":{\"id\":\"2092\"},\"coordinates\":null,\"dimension\":1,\"group\":null,\"ticker\":null},\"id\":\"2095\",\"type\":\"Grid\"},{\"attributes\":{},\"id\":\"2093\",\"type\":\"BasicTicker\"},{\"attributes\":{},\"id\":\"2119\",\"type\":\"DataRange1d\"},{\"attributes\":{\"axis_label_standoff\":10,\"axis_label_text_color\":\"#5B5B5B\",\"axis_label_text_font\":\"Calibri Light\",\"axis_label_text_font_size\":\"1.15em\",\"axis_label_text_font_style\":\"bold\",\"axis_line_alpha\":1,\"axis_line_color\":\"#5B5B5B\",\"coordinates\":null,\"formatter\":{\"id\":\"2268\"},\"group\":null,\"major_label_policy\":{\"id\":\"2269\"},\"major_label_text_color\":\"#5B5B5B\",\"major_label_text_font\":\"Calibri Light\",\"major_label_text_font_size\":\"0.95em\",\"major_label_text_font_style\":\"bold\",\"major_tick_in\":0,\"major_tick_line_alpha\":0.25,\"major_tick_line_color\":\"#5B5B5B\",\"major_tick_out\":3,\"minor_tick_line_alpha\":0.25,\"minor_tick_line_color\":\"#5B5B5B\",\"ticker\":{\"id\":\"2130\"}},\"id\":\"2129\",\"type\":\"LinearAxis\"},{\"attributes\":{\"fill_color\":{\"value\":\"red\"},\"hatch_color\":{\"value\":\"red\"},\"line_color\":{\"value\":\"red\"},\"marker\":{\"value\":\"square\"},\"size\":{\"value\":10},\"x\":{\"field\":\"x\"},\"y\":{\"field\":\"y\"}},\"id\":\"2185\",\"type\":\"Scatter\"},{\"attributes\":{},\"id\":\"2130\",\"type\":\"BasicTicker\"},{\"attributes\":{\"tools\":[{\"id\":\"2133\"},{\"id\":\"2134\"},{\"id\":\"2135\"},{\"id\":\"2136\"},{\"id\":\"2137\"},{\"id\":\"2138\"}]},\"id\":\"2140\",\"type\":\"Toolbar\"},{\"attributes\":{},\"id\":\"2138\",\"type\":\"HelpTool\"},{\"attributes\":{},\"id\":\"2117\",\"type\":\"DataRange1d\"},{\"attributes\":{},\"id\":\"2121\",\"type\":\"LinearScale\"},{\"attributes\":{},\"id\":\"2170\",\"type\":\"PanTool\"},{\"attributes\":{},\"id\":\"2171\",\"type\":\"WheelZoomTool\"},{\"attributes\":{\"source\":{\"id\":\"2184\"}},\"id\":\"2189\",\"type\":\"CDSView\"},{\"attributes\":{\"axis\":{\"id\":\"2166\"},\"coordinates\":null,\"dimension\":1,\"group\":null,\"ticker\":null},\"id\":\"2169\",\"type\":\"Grid\"},{\"attributes\":{\"bottom_units\":\"screen\",\"coordinates\":null,\"fill_alpha\":0.5,\"fill_color\":\"lightgrey\",\"group\":null,\"left_units\":\"screen\",\"level\":\"overlay\",\"line_alpha\":1.0,\"line_color\":\"black\",\"line_dash\":[4,4],\"line_width\":2,\"right_units\":\"screen\",\"syncable\":false,\"top_units\":\"screen\"},\"id\":\"2102\",\"type\":\"BoxAnnotation\"},{\"attributes\":{},\"id\":\"2167\",\"type\":\"BasicTicker\"},{\"attributes\":{\"coordinates\":null,\"group\":null,\"text_color\":\"#5B5B5B\",\"text_font\":\"Calibri Light\",\"text_font_size\":\"1.25em\",\"text_font_style\":\"bold\"},\"id\":\"2259\",\"type\":\"Title\"},{\"attributes\":{},\"id\":\"2282\",\"type\":\"UnionRenderers\"},{\"attributes\":{},\"id\":\"2283\",\"type\":\"Selection\"},{\"attributes\":{},\"id\":\"2268\",\"type\":\"BasicTickFormatter\"},{\"attributes\":{},\"id\":\"2163\",\"type\":\"BasicTicker\"},{\"attributes\":{\"axis\":{\"id\":\"2162\"},\"coordinates\":null,\"group\":null,\"ticker\":null},\"id\":\"2165\",\"type\":\"Grid\"},{\"attributes\":{},\"id\":\"2099\",\"type\":\"SaveTool\"},{\"attributes\":{},\"id\":\"2175\",\"type\":\"HelpTool\"},{\"attributes\":{},\"id\":\"2156\",\"type\":\"DataRange1d\"},{\"attributes\":{},\"id\":\"2100\",\"type\":\"ResetTool\"},{\"attributes\":{\"fill_alpha\":{\"value\":0.2},\"fill_color\":{\"value\":\"red\"},\"hatch_alpha\":{\"value\":0.2},\"hatch_color\":{\"value\":\"red\"},\"line_alpha\":{\"value\":0.2},\"line_color\":{\"value\":\"red\"},\"marker\":{\"value\":\"square\"},\"size\":{\"value\":10},\"x\":{\"field\":\"x\"},\"y\":{\"field\":\"y\"}},\"id\":\"2187\",\"type\":\"Scatter\"},{\"attributes\":{},\"id\":\"2160\",\"type\":\"LinearScale\"},{\"attributes\":{\"axis_label_standoff\":10,\"axis_label_text_color\":\"#5B5B5B\",\"axis_label_text_font\":\"Calibri Light\",\"axis_label_text_font_size\":\"1.15em\",\"axis_label_text_font_style\":\"bold\",\"axis_line_alpha\":1,\"axis_line_color\":\"#5B5B5B\",\"coordinates\":null,\"formatter\":{\"id\":\"2265\"},\"group\":null,\"major_label_policy\":{\"id\":\"2266\"},\"major_label_text_color\":\"#5B5B5B\",\"major_label_text_font\":\"Calibri Light\",\"major_label_text_font_size\":\"0.95em\",\"major_label_text_font_style\":\"bold\",\"major_tick_in\":0,\"major_tick_line_alpha\":0.25,\"major_tick_line_color\":\"#5B5B5B\",\"major_tick_out\":3,\"minor_tick_line_alpha\":0.25,\"minor_tick_line_color\":\"#5B5B5B\",\"ticker\":{\"id\":\"2089\"}},\"id\":\"2088\",\"type\":\"LinearAxis\"},{\"attributes\":{},\"id\":\"2133\",\"type\":\"PanTool\"},{\"attributes\":{\"fill_alpha\":{\"value\":0.1},\"fill_color\":{\"value\":\"red\"},\"hatch_alpha\":{\"value\":0.1},\"hatch_color\":{\"value\":\"red\"},\"line_alpha\":{\"value\":0.1},\"line_color\":{\"value\":\"red\"},\"marker\":{\"value\":\"triangle\"},\"size\":{\"value\":10},\"x\":{\"field\":\"x\"},\"y\":{\"field\":\"y\"}},\"id\":\"2149\",\"type\":\"Scatter\"},{\"attributes\":{},\"id\":\"2080\",\"type\":\"DataRange1d\"},{\"attributes\":{},\"id\":\"2136\",\"type\":\"SaveTool\"},{\"attributes\":{\"coordinates\":null,\"data_source\":{\"id\":\"2110\"},\"glyph\":{\"id\":\"2111\"},\"group\":null,\"hover_glyph\":null,\"muted_glyph\":{\"id\":\"2113\"},\"nonselection_glyph\":{\"id\":\"2112\"},\"view\":{\"id\":\"2115\"}},\"id\":\"2114\",\"type\":\"GlyphRenderer\"},{\"attributes\":{\"axis\":{\"id\":\"2088\"},\"coordinates\":null,\"group\":null,\"ticker\":null},\"id\":\"2091\",\"type\":\"Grid\"},{\"attributes\":{},\"id\":\"2134\",\"type\":\"WheelZoomTool\"},{\"attributes\":{},\"id\":\"2086\",\"type\":\"LinearScale\"},{\"attributes\":{\"coordinates\":null,\"group\":null,\"text_color\":\"#5B5B5B\",\"text_font\":\"Calibri Light\",\"text_font_size\":\"1.25em\",\"text_font_style\":\"bold\"},\"id\":\"2255\",\"type\":\"Title\"}],\"root_ids\":[\"2190\"]},\"title\":\"Bokeh Application\",\"version\":\"2.4.3\"}};\n  const render_items = [{\"docid\":\"9ab45315-4aa9-47e1-adc3-eb46fb5e422b\",\"root_ids\":[\"2190\"],\"roots\":{\"2190\":\"3e3f69de-d76f-46f3-b38a-d6e6eca0b343\"}}];\n  root.Bokeh.embed.embed_items_notebook(docs_json, render_items);\n  }\n  if (root.Bokeh !== undefined) {\n    embed_document(root);\n  } else {\n    let attempts = 0;\n    const timer = setInterval(function(root) {\n      if (root.Bokeh !== undefined) {\n        clearInterval(timer);\n        embed_document(root);\n      } else {\n        attempts++;\n        if (attempts > 100) {\n          clearInterval(timer);\n          console.log(\"Bokeh: ERROR: Unable to run BokehJS code because BokehJS library is missing\");\n        }\n      }\n    }, 10, root)\n  }\n})(window);",
      "application/vnd.bokehjs_exec.v0+json": ""
     },
     "metadata": {
      "application/vnd.bokehjs_exec.v0+json": {
       "id": "2190"
      }
     },
     "output_type": "display_data"
    }
   ],
   "source": [
    "# Liste de coordonnées\n",
    "\n",
    "x = [1, 2, 3, 4, 5]\n",
    "y1 = [1, 2, 3, 4, 5]\n",
    "y2 = [6, 2, 3, 8, 15]\n",
    "y3 = [8, 10, 12, 22, 16]\n",
    "\n",
    "### Insérez votre code ici\n",
    "p1 = figure(width=250,height=250)\n",
    "p1.circle(x,y1,size=10,color='green')\n",
    "\n",
    "p2 = figure(width=250,height=250)\n",
    "p2.triangle(x,y2,size=10,color='red')\n",
    "\n",
    "p3 = figure(width=250,height=250)\n",
    "p3.square(x,y3,size=10,color='red')\n",
    "\n",
    "from bokeh.layouts import row\n",
    "\n",
    "r = row(p1,p2,p3)\n",
    "\n",
    "show(r)"
   ]
  },
  {
   "cell_type": "markdown",
   "metadata": {
    "deletable": false,
    "editable": false,
    "function": "preliminary",
    "question_id": 1,
    "run_control": {
     "frozen": true
    }
   },
   "source": [
    "> Bokeh fournit également la fonction `gridplot` dans **bokeh.layouts** pour disposer les graphiques sur une grille.\n",
    ">\n",
    "> Elle prend en argument une liste de listes de figures représentant une matrice de figures dont la position dans la matrice représentera la position dans la cellule jupyter. Si la liste de listes donnée ne correspond pas à une matrice carrée, la fonction va automatiquement combler les éléments manquants par du vide.\n",
    "\n",
    "* Importer la fonction `gridplot` depuis le sous-module `bokeh.layouts`.\n",
    "\n",
    "\n",
    "* À l'aide de `gridplot`, afficher les figures `p1`, `p2` et `p3` précédentes dans une grille à deux lignes telle que `p1` soit sur la première ligne et `p2`, `p3` sur la deuxième."
   ]
  },
  {
   "cell_type": "code",
   "execution_count": 11,
   "metadata": {
    "function": "submission",
    "question_id": 1,
    "ExecuteTime": {
     "end_time": "2023-11-29T14:55:39.125877Z",
     "start_time": "2023-11-29T14:55:39.121031Z"
    }
   },
   "outputs": [
    {
     "data": {
      "text/html": "\n  <div class=\"bk-root\" id=\"8d38d8c4-77a5-477b-b3c4-fcf0d4b19f14\" data-root-id=\"2492\"></div>\n"
     },
     "metadata": {},
     "output_type": "display_data"
    },
    {
     "data": {
      "application/javascript": "(function(root) {\n  function embed_document(root) {\n  const docs_json = {\"1971e652-df18-4db2-8ea5-be822825a40f\":{\"defs\":[],\"roots\":{\"references\":[{\"attributes\":{\"children\":[{\"id\":\"2491\"},{\"id\":\"2489\"}]},\"id\":\"2492\",\"type\":\"Column\"},{\"attributes\":{\"below\":[{\"id\":\"2162\"}],\"center\":[{\"id\":\"2165\"},{\"id\":\"2169\"}],\"height\":250,\"left\":[{\"id\":\"2166\"}],\"renderers\":[{\"id\":\"2188\"}],\"title\":{\"id\":\"2259\"},\"toolbar\":{\"id\":\"2177\"},\"toolbar_location\":null,\"width\":250,\"x_range\":{\"id\":\"2154\"},\"x_scale\":{\"id\":\"2158\"},\"y_range\":{\"id\":\"2156\"},\"y_scale\":{\"id\":\"2160\"}},\"id\":\"2153\",\"subtype\":\"Figure\",\"type\":\"Plot\"},{\"attributes\":{},\"id\":\"2089\",\"type\":\"BasicTicker\"},{\"attributes\":{},\"id\":\"2285\",\"type\":\"UnionRenderers\"},{\"attributes\":{},\"id\":\"2286\",\"type\":\"Selection\"},{\"attributes\":{\"overlay\":{\"id\":\"2139\"}},\"id\":\"2135\",\"type\":\"BoxZoomTool\"},{\"attributes\":{\"coordinates\":null,\"data_source\":{\"id\":\"2184\"},\"glyph\":{\"id\":\"2185\"},\"group\":null,\"hover_glyph\":null,\"muted_glyph\":{\"id\":\"2187\"},\"nonselection_glyph\":{\"id\":\"2186\"},\"view\":{\"id\":\"2189\"}},\"id\":\"2188\",\"type\":\"GlyphRenderer\"},{\"attributes\":{\"toolbars\":[{\"id\":\"2103\"},{\"id\":\"2140\"},{\"id\":\"2177\"}],\"tools\":[{\"id\":\"2096\"},{\"id\":\"2097\"},{\"id\":\"2098\"},{\"id\":\"2099\"},{\"id\":\"2100\"},{\"id\":\"2101\"},{\"id\":\"2133\"},{\"id\":\"2134\"},{\"id\":\"2135\"},{\"id\":\"2136\"},{\"id\":\"2137\"},{\"id\":\"2138\"},{\"id\":\"2170\"},{\"id\":\"2171\"},{\"id\":\"2172\"},{\"id\":\"2173\"},{\"id\":\"2174\"},{\"id\":\"2175\"}]},\"id\":\"2490\",\"type\":\"ProxyToolbar\"},{\"attributes\":{\"fill_alpha\":{\"value\":0.2},\"fill_color\":{\"value\":\"green\"},\"hatch_alpha\":{\"value\":0.2},\"hatch_color\":{\"value\":\"green\"},\"line_alpha\":{\"value\":0.2},\"line_color\":{\"value\":\"green\"},\"size\":{\"value\":10},\"x\":{\"field\":\"x\"},\"y\":{\"field\":\"y\"}},\"id\":\"2113\",\"type\":\"Circle\"},{\"attributes\":{\"bottom_units\":\"screen\",\"coordinates\":null,\"fill_alpha\":0.5,\"fill_color\":\"lightgrey\",\"group\":null,\"left_units\":\"screen\",\"level\":\"overlay\",\"line_alpha\":1.0,\"line_color\":\"black\",\"line_dash\":[4,4],\"line_width\":2,\"right_units\":\"screen\",\"syncable\":false,\"top_units\":\"screen\"},\"id\":\"2176\",\"type\":\"BoxAnnotation\"},{\"attributes\":{},\"id\":\"2097\",\"type\":\"WheelZoomTool\"},{\"attributes\":{\"bottom_units\":\"screen\",\"coordinates\":null,\"fill_alpha\":0.5,\"fill_color\":\"lightgrey\",\"group\":null,\"left_units\":\"screen\",\"level\":\"overlay\",\"line_alpha\":1.0,\"line_color\":\"black\",\"line_dash\":[4,4],\"line_width\":2,\"right_units\":\"screen\",\"syncable\":false,\"top_units\":\"screen\"},\"id\":\"2139\",\"type\":\"BoxAnnotation\"},{\"attributes\":{\"toolbar\":{\"id\":\"2490\"},\"toolbar_location\":\"above\"},\"id\":\"2491\",\"type\":\"ToolbarBox\"},{\"attributes\":{\"coordinates\":null,\"group\":null,\"text_color\":\"#5B5B5B\",\"text_font\":\"Calibri Light\",\"text_font_size\":\"1.25em\",\"text_font_style\":\"bold\"},\"id\":\"2257\",\"type\":\"Title\"},{\"attributes\":{\"data\":{\"x\":[1,2,3,4,5],\"y\":[1,2,3,4,5]},\"selected\":{\"id\":\"2280\"},\"selection_policy\":{\"id\":\"2279\"}},\"id\":\"2110\",\"type\":\"ColumnDataSource\"},{\"attributes\":{\"fill_alpha\":{\"value\":0.1},\"fill_color\":{\"value\":\"green\"},\"hatch_alpha\":{\"value\":0.1},\"hatch_color\":{\"value\":\"green\"},\"line_alpha\":{\"value\":0.1},\"line_color\":{\"value\":\"green\"},\"size\":{\"value\":10},\"x\":{\"field\":\"x\"},\"y\":{\"field\":\"y\"}},\"id\":\"2112\",\"type\":\"Circle\"},{\"attributes\":{\"source\":{\"id\":\"2110\"}},\"id\":\"2115\",\"type\":\"CDSView\"},{\"attributes\":{},\"id\":\"2137\",\"type\":\"ResetTool\"},{\"attributes\":{},\"id\":\"2271\",\"type\":\"BasicTickFormatter\"},{\"attributes\":{\"tools\":[{\"id\":\"2096\"},{\"id\":\"2097\"},{\"id\":\"2098\"},{\"id\":\"2099\"},{\"id\":\"2100\"},{\"id\":\"2101\"}]},\"id\":\"2103\",\"type\":\"Toolbar\"},{\"attributes\":{\"axis_label_standoff\":10,\"axis_label_text_color\":\"#5B5B5B\",\"axis_label_text_font\":\"Calibri Light\",\"axis_label_text_font_size\":\"1.15em\",\"axis_label_text_font_style\":\"bold\",\"axis_line_alpha\":1,\"axis_line_color\":\"#5B5B5B\",\"coordinates\":null,\"formatter\":{\"id\":\"2274\"},\"group\":null,\"major_label_policy\":{\"id\":\"2275\"},\"major_label_text_color\":\"#5B5B5B\",\"major_label_text_font\":\"Calibri Light\",\"major_label_text_font_size\":\"0.95em\",\"major_label_text_font_style\":\"bold\",\"major_tick_in\":0,\"major_tick_line_alpha\":0.25,\"major_tick_line_color\":\"#5B5B5B\",\"major_tick_out\":3,\"minor_tick_line_alpha\":0.25,\"minor_tick_line_color\":\"#5B5B5B\",\"ticker\":{\"id\":\"2167\"}},\"id\":\"2166\",\"type\":\"LinearAxis\"},{\"attributes\":{},\"id\":\"2274\",\"type\":\"BasicTickFormatter\"},{\"attributes\":{},\"id\":\"2272\",\"type\":\"AllLabels\"},{\"attributes\":{\"overlay\":{\"id\":\"2102\"}},\"id\":\"2098\",\"type\":\"BoxZoomTool\"},{\"attributes\":{\"coordinates\":null,\"data_source\":{\"id\":\"2147\"},\"glyph\":{\"id\":\"2148\"},\"group\":null,\"hover_glyph\":null,\"muted_glyph\":{\"id\":\"2150\"},\"nonselection_glyph\":{\"id\":\"2149\"},\"view\":{\"id\":\"2152\"}},\"id\":\"2151\",\"type\":\"GlyphRenderer\"},{\"attributes\":{\"fill_alpha\":{\"value\":0.2},\"fill_color\":{\"value\":\"red\"},\"hatch_alpha\":{\"value\":0.2},\"hatch_color\":{\"value\":\"red\"},\"line_alpha\":{\"value\":0.2},\"line_color\":{\"value\":\"red\"},\"marker\":{\"value\":\"triangle\"},\"size\":{\"value\":10},\"x\":{\"field\":\"x\"},\"y\":{\"field\":\"y\"}},\"id\":\"2150\",\"type\":\"Scatter\"},{\"attributes\":{},\"id\":\"2154\",\"type\":\"DataRange1d\"},{\"attributes\":{\"data\":{\"x\":[1,2,3,4,5],\"y\":[8,10,12,22,16]},\"selected\":{\"id\":\"2286\"},\"selection_policy\":{\"id\":\"2285\"}},\"id\":\"2184\",\"type\":\"ColumnDataSource\"},{\"attributes\":{},\"id\":\"2275\",\"type\":\"AllLabels\"},{\"attributes\":{},\"id\":\"2158\",\"type\":\"LinearScale\"},{\"attributes\":{\"data\":{\"x\":[1,2,3,4,5],\"y\":[6,2,3,8,15]},\"selected\":{\"id\":\"2283\"},\"selection_policy\":{\"id\":\"2282\"}},\"id\":\"2147\",\"type\":\"ColumnDataSource\"},{\"attributes\":{},\"id\":\"2277\",\"type\":\"BasicTickFormatter\"},{\"attributes\":{\"axis_label_standoff\":10,\"axis_label_text_color\":\"#5B5B5B\",\"axis_label_text_font\":\"Calibri Light\",\"axis_label_text_font_size\":\"1.15em\",\"axis_label_text_font_style\":\"bold\",\"axis_line_alpha\":1,\"axis_line_color\":\"#5B5B5B\",\"coordinates\":null,\"formatter\":{\"id\":\"2262\"},\"group\":null,\"major_label_policy\":{\"id\":\"2263\"},\"major_label_text_color\":\"#5B5B5B\",\"major_label_text_font\":\"Calibri Light\",\"major_label_text_font_size\":\"0.95em\",\"major_label_text_font_style\":\"bold\",\"major_tick_in\":0,\"major_tick_line_alpha\":0.25,\"major_tick_line_color\":\"#5B5B5B\",\"major_tick_out\":3,\"minor_tick_line_alpha\":0.25,\"minor_tick_line_color\":\"#5B5B5B\",\"ticker\":{\"id\":\"2093\"}},\"id\":\"2092\",\"type\":\"LinearAxis\"},{\"attributes\":{},\"id\":\"2278\",\"type\":\"AllLabels\"},{\"attributes\":{},\"id\":\"2082\",\"type\":\"DataRange1d\"},{\"attributes\":{},\"id\":\"2084\",\"type\":\"LinearScale\"},{\"attributes\":{\"fill_color\":{\"value\":\"red\"},\"hatch_color\":{\"value\":\"red\"},\"line_color\":{\"value\":\"red\"},\"marker\":{\"value\":\"triangle\"},\"size\":{\"value\":10},\"x\":{\"field\":\"x\"},\"y\":{\"field\":\"y\"}},\"id\":\"2148\",\"type\":\"Scatter\"},{\"attributes\":{\"axis\":{\"id\":\"2125\"},\"coordinates\":null,\"group\":null,\"ticker\":null},\"id\":\"2128\",\"type\":\"Grid\"},{\"attributes\":{},\"id\":\"2126\",\"type\":\"BasicTicker\"},{\"attributes\":{},\"id\":\"2101\",\"type\":\"HelpTool\"},{\"attributes\":{},\"id\":\"2263\",\"type\":\"AllLabels\"},{\"attributes\":{\"axis_label_standoff\":10,\"axis_label_text_color\":\"#5B5B5B\",\"axis_label_text_font\":\"Calibri Light\",\"axis_label_text_font_size\":\"1.15em\",\"axis_label_text_font_style\":\"bold\",\"axis_line_alpha\":1,\"axis_line_color\":\"#5B5B5B\",\"coordinates\":null,\"formatter\":{\"id\":\"2271\"},\"group\":null,\"major_label_policy\":{\"id\":\"2272\"},\"major_label_text_color\":\"#5B5B5B\",\"major_label_text_font\":\"Calibri Light\",\"major_label_text_font_size\":\"0.95em\",\"major_label_text_font_style\":\"bold\",\"major_tick_in\":0,\"major_tick_line_alpha\":0.25,\"major_tick_line_color\":\"#5B5B5B\",\"major_tick_out\":3,\"minor_tick_line_alpha\":0.25,\"minor_tick_line_color\":\"#5B5B5B\",\"ticker\":{\"id\":\"2126\"}},\"id\":\"2125\",\"type\":\"LinearAxis\"},{\"attributes\":{},\"id\":\"2279\",\"type\":\"UnionRenderers\"},{\"attributes\":{},\"id\":\"2265\",\"type\":\"BasicTickFormatter\"},{\"attributes\":{},\"id\":\"2280\",\"type\":\"Selection\"},{\"attributes\":{},\"id\":\"2123\",\"type\":\"LinearScale\"},{\"attributes\":{},\"id\":\"2262\",\"type\":\"BasicTickFormatter\"},{\"attributes\":{},\"id\":\"2269\",\"type\":\"AllLabels\"},{\"attributes\":{\"below\":[{\"id\":\"2125\"}],\"center\":[{\"id\":\"2128\"},{\"id\":\"2132\"}],\"height\":250,\"left\":[{\"id\":\"2129\"}],\"renderers\":[{\"id\":\"2151\"}],\"title\":{\"id\":\"2257\"},\"toolbar\":{\"id\":\"2140\"},\"toolbar_location\":null,\"width\":250,\"x_range\":{\"id\":\"2117\"},\"x_scale\":{\"id\":\"2121\"},\"y_range\":{\"id\":\"2119\"},\"y_scale\":{\"id\":\"2123\"}},\"id\":\"2116\",\"subtype\":\"Figure\",\"type\":\"Plot\"},{\"attributes\":{},\"id\":\"2266\",\"type\":\"AllLabels\"},{\"attributes\":{\"fill_color\":{\"value\":\"green\"},\"hatch_color\":{\"value\":\"green\"},\"line_color\":{\"value\":\"green\"},\"size\":{\"value\":10},\"x\":{\"field\":\"x\"},\"y\":{\"field\":\"y\"}},\"id\":\"2111\",\"type\":\"Circle\"},{\"attributes\":{\"tools\":[{\"id\":\"2170\"},{\"id\":\"2171\"},{\"id\":\"2172\"},{\"id\":\"2173\"},{\"id\":\"2174\"},{\"id\":\"2175\"}]},\"id\":\"2177\",\"type\":\"Toolbar\"},{\"attributes\":{\"fill_alpha\":{\"value\":0.1},\"fill_color\":{\"value\":\"red\"},\"hatch_alpha\":{\"value\":0.1},\"hatch_color\":{\"value\":\"red\"},\"line_alpha\":{\"value\":0.1},\"line_color\":{\"value\":\"red\"},\"marker\":{\"value\":\"square\"},\"size\":{\"value\":10},\"x\":{\"field\":\"x\"},\"y\":{\"field\":\"y\"}},\"id\":\"2186\",\"type\":\"Scatter\"},{\"attributes\":{\"overlay\":{\"id\":\"2176\"}},\"id\":\"2172\",\"type\":\"BoxZoomTool\"},{\"attributes\":{\"axis\":{\"id\":\"2129\"},\"coordinates\":null,\"dimension\":1,\"group\":null,\"ticker\":null},\"id\":\"2132\",\"type\":\"Grid\"},{\"attributes\":{},\"id\":\"2096\",\"type\":\"PanTool\"},{\"attributes\":{},\"id\":\"2173\",\"type\":\"SaveTool\"},{\"attributes\":{\"source\":{\"id\":\"2147\"}},\"id\":\"2152\",\"type\":\"CDSView\"},{\"attributes\":{\"below\":[{\"id\":\"2088\"}],\"center\":[{\"id\":\"2091\"},{\"id\":\"2095\"}],\"height\":250,\"left\":[{\"id\":\"2092\"}],\"renderers\":[{\"id\":\"2114\"}],\"title\":{\"id\":\"2255\"},\"toolbar\":{\"id\":\"2103\"},\"toolbar_location\":null,\"width\":250,\"x_range\":{\"id\":\"2080\"},\"x_scale\":{\"id\":\"2084\"},\"y_range\":{\"id\":\"2082\"},\"y_scale\":{\"id\":\"2086\"}},\"id\":\"2079\",\"subtype\":\"Figure\",\"type\":\"Plot\"},{\"attributes\":{},\"id\":\"2174\",\"type\":\"ResetTool\"},{\"attributes\":{\"axis_label_standoff\":10,\"axis_label_text_color\":\"#5B5B5B\",\"axis_label_text_font\":\"Calibri Light\",\"axis_label_text_font_size\":\"1.15em\",\"axis_label_text_font_style\":\"bold\",\"axis_line_alpha\":1,\"axis_line_color\":\"#5B5B5B\",\"coordinates\":null,\"formatter\":{\"id\":\"2277\"},\"group\":null,\"major_label_policy\":{\"id\":\"2278\"},\"major_label_text_color\":\"#5B5B5B\",\"major_label_text_font\":\"Calibri Light\",\"major_label_text_font_size\":\"0.95em\",\"major_label_text_font_style\":\"bold\",\"major_tick_in\":0,\"major_tick_line_alpha\":0.25,\"major_tick_line_color\":\"#5B5B5B\",\"major_tick_out\":3,\"minor_tick_line_alpha\":0.25,\"minor_tick_line_color\":\"#5B5B5B\",\"ticker\":{\"id\":\"2163\"}},\"id\":\"2162\",\"type\":\"LinearAxis\"},{\"attributes\":{\"axis\":{\"id\":\"2092\"},\"coordinates\":null,\"dimension\":1,\"group\":null,\"ticker\":null},\"id\":\"2095\",\"type\":\"Grid\"},{\"attributes\":{},\"id\":\"2093\",\"type\":\"BasicTicker\"},{\"attributes\":{},\"id\":\"2119\",\"type\":\"DataRange1d\"},{\"attributes\":{\"axis_label_standoff\":10,\"axis_label_text_color\":\"#5B5B5B\",\"axis_label_text_font\":\"Calibri Light\",\"axis_label_text_font_size\":\"1.15em\",\"axis_label_text_font_style\":\"bold\",\"axis_line_alpha\":1,\"axis_line_color\":\"#5B5B5B\",\"coordinates\":null,\"formatter\":{\"id\":\"2268\"},\"group\":null,\"major_label_policy\":{\"id\":\"2269\"},\"major_label_text_color\":\"#5B5B5B\",\"major_label_text_font\":\"Calibri Light\",\"major_label_text_font_size\":\"0.95em\",\"major_label_text_font_style\":\"bold\",\"major_tick_in\":0,\"major_tick_line_alpha\":0.25,\"major_tick_line_color\":\"#5B5B5B\",\"major_tick_out\":3,\"minor_tick_line_alpha\":0.25,\"minor_tick_line_color\":\"#5B5B5B\",\"ticker\":{\"id\":\"2130\"}},\"id\":\"2129\",\"type\":\"LinearAxis\"},{\"attributes\":{\"fill_color\":{\"value\":\"red\"},\"hatch_color\":{\"value\":\"red\"},\"line_color\":{\"value\":\"red\"},\"marker\":{\"value\":\"square\"},\"size\":{\"value\":10},\"x\":{\"field\":\"x\"},\"y\":{\"field\":\"y\"}},\"id\":\"2185\",\"type\":\"Scatter\"},{\"attributes\":{\"tools\":[{\"id\":\"2133\"},{\"id\":\"2134\"},{\"id\":\"2135\"},{\"id\":\"2136\"},{\"id\":\"2137\"},{\"id\":\"2138\"}]},\"id\":\"2140\",\"type\":\"Toolbar\"},{\"attributes\":{},\"id\":\"2130\",\"type\":\"BasicTicker\"},{\"attributes\":{},\"id\":\"2117\",\"type\":\"DataRange1d\"},{\"attributes\":{},\"id\":\"2138\",\"type\":\"HelpTool\"},{\"attributes\":{},\"id\":\"2121\",\"type\":\"LinearScale\"},{\"attributes\":{},\"id\":\"2170\",\"type\":\"PanTool\"},{\"attributes\":{\"children\":[[{\"id\":\"2079\"},0,0],[{\"id\":\"2116\"},1,0],[{\"id\":\"2153\"},1,1]]},\"id\":\"2489\",\"type\":\"GridBox\"},{\"attributes\":{},\"id\":\"2171\",\"type\":\"WheelZoomTool\"},{\"attributes\":{\"source\":{\"id\":\"2184\"}},\"id\":\"2189\",\"type\":\"CDSView\"},{\"attributes\":{\"axis\":{\"id\":\"2166\"},\"coordinates\":null,\"dimension\":1,\"group\":null,\"ticker\":null},\"id\":\"2169\",\"type\":\"Grid\"},{\"attributes\":{\"bottom_units\":\"screen\",\"coordinates\":null,\"fill_alpha\":0.5,\"fill_color\":\"lightgrey\",\"group\":null,\"left_units\":\"screen\",\"level\":\"overlay\",\"line_alpha\":1.0,\"line_color\":\"black\",\"line_dash\":[4,4],\"line_width\":2,\"right_units\":\"screen\",\"syncable\":false,\"top_units\":\"screen\"},\"id\":\"2102\",\"type\":\"BoxAnnotation\"},{\"attributes\":{},\"id\":\"2167\",\"type\":\"BasicTicker\"},{\"attributes\":{\"coordinates\":null,\"group\":null,\"text_color\":\"#5B5B5B\",\"text_font\":\"Calibri Light\",\"text_font_size\":\"1.25em\",\"text_font_style\":\"bold\"},\"id\":\"2259\",\"type\":\"Title\"},{\"attributes\":{},\"id\":\"2282\",\"type\":\"UnionRenderers\"},{\"attributes\":{},\"id\":\"2283\",\"type\":\"Selection\"},{\"attributes\":{},\"id\":\"2268\",\"type\":\"BasicTickFormatter\"},{\"attributes\":{},\"id\":\"2163\",\"type\":\"BasicTicker\"},{\"attributes\":{\"axis\":{\"id\":\"2162\"},\"coordinates\":null,\"group\":null,\"ticker\":null},\"id\":\"2165\",\"type\":\"Grid\"},{\"attributes\":{},\"id\":\"2099\",\"type\":\"SaveTool\"},{\"attributes\":{},\"id\":\"2175\",\"type\":\"HelpTool\"},{\"attributes\":{},\"id\":\"2100\",\"type\":\"ResetTool\"},{\"attributes\":{},\"id\":\"2156\",\"type\":\"DataRange1d\"},{\"attributes\":{\"fill_alpha\":{\"value\":0.2},\"fill_color\":{\"value\":\"red\"},\"hatch_alpha\":{\"value\":0.2},\"hatch_color\":{\"value\":\"red\"},\"line_alpha\":{\"value\":0.2},\"line_color\":{\"value\":\"red\"},\"marker\":{\"value\":\"square\"},\"size\":{\"value\":10},\"x\":{\"field\":\"x\"},\"y\":{\"field\":\"y\"}},\"id\":\"2187\",\"type\":\"Scatter\"},{\"attributes\":{},\"id\":\"2160\",\"type\":\"LinearScale\"},{\"attributes\":{\"axis_label_standoff\":10,\"axis_label_text_color\":\"#5B5B5B\",\"axis_label_text_font\":\"Calibri Light\",\"axis_label_text_font_size\":\"1.15em\",\"axis_label_text_font_style\":\"bold\",\"axis_line_alpha\":1,\"axis_line_color\":\"#5B5B5B\",\"coordinates\":null,\"formatter\":{\"id\":\"2265\"},\"group\":null,\"major_label_policy\":{\"id\":\"2266\"},\"major_label_text_color\":\"#5B5B5B\",\"major_label_text_font\":\"Calibri Light\",\"major_label_text_font_size\":\"0.95em\",\"major_label_text_font_style\":\"bold\",\"major_tick_in\":0,\"major_tick_line_alpha\":0.25,\"major_tick_line_color\":\"#5B5B5B\",\"major_tick_out\":3,\"minor_tick_line_alpha\":0.25,\"minor_tick_line_color\":\"#5B5B5B\",\"ticker\":{\"id\":\"2089\"}},\"id\":\"2088\",\"type\":\"LinearAxis\"},{\"attributes\":{},\"id\":\"2133\",\"type\":\"PanTool\"},{\"attributes\":{\"fill_alpha\":{\"value\":0.1},\"fill_color\":{\"value\":\"red\"},\"hatch_alpha\":{\"value\":0.1},\"hatch_color\":{\"value\":\"red\"},\"line_alpha\":{\"value\":0.1},\"line_color\":{\"value\":\"red\"},\"marker\":{\"value\":\"triangle\"},\"size\":{\"value\":10},\"x\":{\"field\":\"x\"},\"y\":{\"field\":\"y\"}},\"id\":\"2149\",\"type\":\"Scatter\"},{\"attributes\":{},\"id\":\"2136\",\"type\":\"SaveTool\"},{\"attributes\":{},\"id\":\"2080\",\"type\":\"DataRange1d\"},{\"attributes\":{\"coordinates\":null,\"data_source\":{\"id\":\"2110\"},\"glyph\":{\"id\":\"2111\"},\"group\":null,\"hover_glyph\":null,\"muted_glyph\":{\"id\":\"2113\"},\"nonselection_glyph\":{\"id\":\"2112\"},\"view\":{\"id\":\"2115\"}},\"id\":\"2114\",\"type\":\"GlyphRenderer\"},{\"attributes\":{\"axis\":{\"id\":\"2088\"},\"coordinates\":null,\"group\":null,\"ticker\":null},\"id\":\"2091\",\"type\":\"Grid\"},{\"attributes\":{},\"id\":\"2134\",\"type\":\"WheelZoomTool\"},{\"attributes\":{},\"id\":\"2086\",\"type\":\"LinearScale\"},{\"attributes\":{\"coordinates\":null,\"group\":null,\"text_color\":\"#5B5B5B\",\"text_font\":\"Calibri Light\",\"text_font_size\":\"1.25em\",\"text_font_style\":\"bold\"},\"id\":\"2255\",\"type\":\"Title\"}],\"root_ids\":[\"2492\"]},\"title\":\"Bokeh Application\",\"version\":\"2.4.3\"}};\n  const render_items = [{\"docid\":\"1971e652-df18-4db2-8ea5-be822825a40f\",\"root_ids\":[\"2492\"],\"roots\":{\"2492\":\"8d38d8c4-77a5-477b-b3c4-fcf0d4b19f14\"}}];\n  root.Bokeh.embed.embed_items_notebook(docs_json, render_items);\n  }\n  if (root.Bokeh !== undefined) {\n    embed_document(root);\n  } else {\n    let attempts = 0;\n    const timer = setInterval(function(root) {\n      if (root.Bokeh !== undefined) {\n        clearInterval(timer);\n        embed_document(root);\n      } else {\n        attempts++;\n        if (attempts > 100) {\n          clearInterval(timer);\n          console.log(\"Bokeh: ERROR: Unable to run BokehJS code because BokehJS library is missing\");\n        }\n      }\n    }, 10, root)\n  }\n})(window);",
      "application/vnd.bokehjs_exec.v0+json": ""
     },
     "metadata": {
      "application/vnd.bokehjs_exec.v0+json": {
       "id": "2492"
      }
     },
     "output_type": "display_data"
    }
   ],
   "source": [
    "### Insérez votre code ici\n",
    "from bokeh.layouts import gridplot\n",
    "\n",
    "g = gridplot([[p1],\n",
    "             [p2,p3]])\n",
    "\n",
    "show(g)\n"
   ]
  },
  {
   "cell_type": "code",
   "execution_count": 11,
   "metadata": {
    "collapsed": false,
    "jupyter": {
     "outputs_hidden": false
    },
    "ExecuteTime": {
     "end_time": "2023-11-29T14:55:39.633742Z",
     "start_time": "2023-11-29T14:55:39.620388Z"
    }
   },
   "outputs": [],
   "source": []
  },
  {
   "cell_type": "code",
   "execution_count": null,
   "outputs": [],
   "source": [],
   "metadata": {
    "collapsed": false
   }
  }
 ],
 "metadata": {
  "hide_input": false,
  "kernelspec": {
   "display_name": "Python 3 (ipykernel)",
   "language": "python",
   "name": "python3"
  },
  "language_info": {
   "codemirror_mode": {
    "name": "ipython",
    "version": 3
   },
   "file_extension": ".py",
   "mimetype": "text/x-python",
   "name": "python",
   "nbconvert_exporter": "python",
   "pygments_lexer": "ipython3",
   "version": "3.10.11"
  },
  "latex_envs": {
   "LaTeX_envs_menu_present": true,
   "autoclose": false,
   "autocomplete": true,
   "bibliofile": "biblio.bib",
   "cite_by": "apalike",
   "current_citInitial": 1,
   "eqLabelWithNumbers": true,
   "eqNumInitial": 1,
   "hotkeys": {
    "equation": "Ctrl-E",
    "itemize": "Ctrl-I"
   },
   "labels_anchors": false,
   "latex_user_defs": false,
   "report_style_numbering": false,
   "user_envs_cfg": false
  },
  "n_questions": 1
 },
 "nbformat": 4,
 "nbformat_minor": 4
}
