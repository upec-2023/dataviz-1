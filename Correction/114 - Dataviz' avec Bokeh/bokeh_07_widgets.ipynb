{
 "cells": [
  {
   "cell_type": "markdown",
   "metadata": {
    "deletable": false,
    "editable": false,
    "run_control": {
     "frozen": true
    }
   },
   "source": [
    "\n",
    "<hr style=\"border-width:2px;border-color:#75DFC1\">\n",
    "<center><h1>Introduction à la visualisation de données avec Bokeh</h1></center>\n",
    "<center><h2>Créer des widgets liés</h2></center>\n",
    "<hr style=\"border-width:2px;border-color:#75DFC1\">\n",
    "\n",
    "* Exécuter la cellule suivante pour importer les classes nécessaires et pouvoir afficher les dessins <b>Bokeh</b> dans des cellules jupyter."
   ]
  },
  {
   "cell_type": "code",
   "execution_count": 1,
   "metadata": {
    "ExecuteTime": {
     "end_time": "2023-11-28T10:36:08.774046Z",
     "start_time": "2023-11-28T10:36:08.740077Z"
    }
   },
   "outputs": [
    {
     "data": {
      "text/html": [
       "<div class=\"bk-root\">\n",
       "        <a href=\"https://bokeh.org\" target=\"_blank\" class=\"bk-logo bk-logo-small bk-logo-notebook\"></a>\n",
       "        <span id=\"1002\">Loading BokehJS ...</span>\n",
       "    </div>\n"
      ]
     },
     "metadata": {},
     "output_type": "display_data"
    },
    {
     "data": {
      "application/javascript": [
       "(function(root) {\n",
       "  function now() {\n",
       "    return new Date();\n",
       "  }\n",
       "\n",
       "  const force = true;\n",
       "\n",
       "  if (typeof root._bokeh_onload_callbacks === \"undefined\" || force === true) {\n",
       "    root._bokeh_onload_callbacks = [];\n",
       "    root._bokeh_is_loading = undefined;\n",
       "  }\n",
       "\n",
       "const JS_MIME_TYPE = 'application/javascript';\n",
       "  const HTML_MIME_TYPE = 'text/html';\n",
       "  const EXEC_MIME_TYPE = 'application/vnd.bokehjs_exec.v0+json';\n",
       "  const CLASS_NAME = 'output_bokeh rendered_html';\n",
       "\n",
       "  /**\n",
       "   * Render data to the DOM node\n",
       "   */\n",
       "  function render(props, node) {\n",
       "    const script = document.createElement(\"script\");\n",
       "    node.appendChild(script);\n",
       "  }\n",
       "\n",
       "  /**\n",
       "   * Handle when an output is cleared or removed\n",
       "   */\n",
       "  function handleClearOutput(event, handle) {\n",
       "    const cell = handle.cell;\n",
       "\n",
       "    const id = cell.output_area._bokeh_element_id;\n",
       "    const server_id = cell.output_area._bokeh_server_id;\n",
       "    // Clean up Bokeh references\n",
       "    if (id != null && id in Bokeh.index) {\n",
       "      Bokeh.index[id].model.document.clear();\n",
       "      delete Bokeh.index[id];\n",
       "    }\n",
       "\n",
       "    if (server_id !== undefined) {\n",
       "      // Clean up Bokeh references\n",
       "      const cmd_clean = \"from bokeh.io.state import curstate; print(curstate().uuid_to_server['\" + server_id + \"'].get_sessions()[0].document.roots[0]._id)\";\n",
       "      cell.notebook.kernel.execute(cmd_clean, {\n",
       "        iopub: {\n",
       "          output: function(msg) {\n",
       "            const id = msg.content.text.trim();\n",
       "            if (id in Bokeh.index) {\n",
       "              Bokeh.index[id].model.document.clear();\n",
       "              delete Bokeh.index[id];\n",
       "            }\n",
       "          }\n",
       "        }\n",
       "      });\n",
       "      // Destroy server and session\n",
       "      const cmd_destroy = \"import bokeh.io.notebook as ion; ion.destroy_server('\" + server_id + \"')\";\n",
       "      cell.notebook.kernel.execute(cmd_destroy);\n",
       "    }\n",
       "  }\n",
       "\n",
       "  /**\n",
       "   * Handle when a new output is added\n",
       "   */\n",
       "  function handleAddOutput(event, handle) {\n",
       "    const output_area = handle.output_area;\n",
       "    const output = handle.output;\n",
       "\n",
       "    // limit handleAddOutput to display_data with EXEC_MIME_TYPE content only\n",
       "    if ((output.output_type != \"display_data\") || (!Object.prototype.hasOwnProperty.call(output.data, EXEC_MIME_TYPE))) {\n",
       "      return\n",
       "    }\n",
       "\n",
       "    const toinsert = output_area.element.find(\".\" + CLASS_NAME.split(' ')[0]);\n",
       "\n",
       "    if (output.metadata[EXEC_MIME_TYPE][\"id\"] !== undefined) {\n",
       "      toinsert[toinsert.length - 1].firstChild.textContent = output.data[JS_MIME_TYPE];\n",
       "      // store reference to embed id on output_area\n",
       "      output_area._bokeh_element_id = output.metadata[EXEC_MIME_TYPE][\"id\"];\n",
       "    }\n",
       "    if (output.metadata[EXEC_MIME_TYPE][\"server_id\"] !== undefined) {\n",
       "      const bk_div = document.createElement(\"div\");\n",
       "      bk_div.innerHTML = output.data[HTML_MIME_TYPE];\n",
       "      const script_attrs = bk_div.children[0].attributes;\n",
       "      for (let i = 0; i < script_attrs.length; i++) {\n",
       "        toinsert[toinsert.length - 1].firstChild.setAttribute(script_attrs[i].name, script_attrs[i].value);\n",
       "        toinsert[toinsert.length - 1].firstChild.textContent = bk_div.children[0].textContent\n",
       "      }\n",
       "      // store reference to server id on output_area\n",
       "      output_area._bokeh_server_id = output.metadata[EXEC_MIME_TYPE][\"server_id\"];\n",
       "    }\n",
       "  }\n",
       "\n",
       "  function register_renderer(events, OutputArea) {\n",
       "\n",
       "    function append_mime(data, metadata, element) {\n",
       "      // create a DOM node to render to\n",
       "      const toinsert = this.create_output_subarea(\n",
       "        metadata,\n",
       "        CLASS_NAME,\n",
       "        EXEC_MIME_TYPE\n",
       "      );\n",
       "      this.keyboard_manager.register_events(toinsert);\n",
       "      // Render to node\n",
       "      const props = {data: data, metadata: metadata[EXEC_MIME_TYPE]};\n",
       "      render(props, toinsert[toinsert.length - 1]);\n",
       "      element.append(toinsert);\n",
       "      return toinsert\n",
       "    }\n",
       "\n",
       "    /* Handle when an output is cleared or removed */\n",
       "    events.on('clear_output.CodeCell', handleClearOutput);\n",
       "    events.on('delete.Cell', handleClearOutput);\n",
       "\n",
       "    /* Handle when a new output is added */\n",
       "    events.on('output_added.OutputArea', handleAddOutput);\n",
       "\n",
       "    /**\n",
       "     * Register the mime type and append_mime function with output_area\n",
       "     */\n",
       "    OutputArea.prototype.register_mime_type(EXEC_MIME_TYPE, append_mime, {\n",
       "      /* Is output safe? */\n",
       "      safe: true,\n",
       "      /* Index of renderer in `output_area.display_order` */\n",
       "      index: 0\n",
       "    });\n",
       "  }\n",
       "\n",
       "  // register the mime type if in Jupyter Notebook environment and previously unregistered\n",
       "  if (root.Jupyter !== undefined) {\n",
       "    const events = require('base/js/events');\n",
       "    const OutputArea = require('notebook/js/outputarea').OutputArea;\n",
       "\n",
       "    if (OutputArea.prototype.mime_types().indexOf(EXEC_MIME_TYPE) == -1) {\n",
       "      register_renderer(events, OutputArea);\n",
       "    }\n",
       "  }\n",
       "  if (typeof (root._bokeh_timeout) === \"undefined\" || force === true) {\n",
       "    root._bokeh_timeout = Date.now() + 5000;\n",
       "    root._bokeh_failed_load = false;\n",
       "  }\n",
       "\n",
       "  const NB_LOAD_WARNING = {'data': {'text/html':\n",
       "     \"<div style='background-color: #fdd'>\\n\"+\n",
       "     \"<p>\\n\"+\n",
       "     \"BokehJS does not appear to have successfully loaded. If loading BokehJS from CDN, this \\n\"+\n",
       "     \"may be due to a slow or bad network connection. Possible fixes:\\n\"+\n",
       "     \"</p>\\n\"+\n",
       "     \"<ul>\\n\"+\n",
       "     \"<li>re-rerun `output_notebook()` to attempt to load from CDN again, or</li>\\n\"+\n",
       "     \"<li>use INLINE resources instead, as so:</li>\\n\"+\n",
       "     \"</ul>\\n\"+\n",
       "     \"<code>\\n\"+\n",
       "     \"from bokeh.resources import INLINE\\n\"+\n",
       "     \"output_notebook(resources=INLINE)\\n\"+\n",
       "     \"</code>\\n\"+\n",
       "     \"</div>\"}};\n",
       "\n",
       "  function display_loaded() {\n",
       "    const el = document.getElementById(\"1002\");\n",
       "    if (el != null) {\n",
       "      el.textContent = \"BokehJS is loading...\";\n",
       "    }\n",
       "    if (root.Bokeh !== undefined) {\n",
       "      if (el != null) {\n",
       "        el.textContent = \"BokehJS \" + root.Bokeh.version + \" successfully loaded.\";\n",
       "      }\n",
       "    } else if (Date.now() < root._bokeh_timeout) {\n",
       "      setTimeout(display_loaded, 100)\n",
       "    }\n",
       "  }\n",
       "\n",
       "  function run_callbacks() {\n",
       "    try {\n",
       "      root._bokeh_onload_callbacks.forEach(function(callback) {\n",
       "        if (callback != null)\n",
       "          callback();\n",
       "      });\n",
       "    } finally {\n",
       "      delete root._bokeh_onload_callbacks\n",
       "    }\n",
       "    console.debug(\"Bokeh: all callbacks have finished\");\n",
       "  }\n",
       "\n",
       "  function load_libs(css_urls, js_urls, callback) {\n",
       "    if (css_urls == null) css_urls = [];\n",
       "    if (js_urls == null) js_urls = [];\n",
       "\n",
       "    root._bokeh_onload_callbacks.push(callback);\n",
       "    if (root._bokeh_is_loading > 0) {\n",
       "      console.debug(\"Bokeh: BokehJS is being loaded, scheduling callback at\", now());\n",
       "      return null;\n",
       "    }\n",
       "    if (js_urls == null || js_urls.length === 0) {\n",
       "      run_callbacks();\n",
       "      return null;\n",
       "    }\n",
       "    console.debug(\"Bokeh: BokehJS not loaded, scheduling load and callback at\", now());\n",
       "    root._bokeh_is_loading = css_urls.length + js_urls.length;\n",
       "\n",
       "    function on_load() {\n",
       "      root._bokeh_is_loading--;\n",
       "      if (root._bokeh_is_loading === 0) {\n",
       "        console.debug(\"Bokeh: all BokehJS libraries/stylesheets loaded\");\n",
       "        run_callbacks()\n",
       "      }\n",
       "    }\n",
       "\n",
       "    function on_error(url) {\n",
       "      console.error(\"failed to load \" + url);\n",
       "    }\n",
       "\n",
       "    for (let i = 0; i < css_urls.length; i++) {\n",
       "      const url = css_urls[i];\n",
       "      const element = document.createElement(\"link\");\n",
       "      element.onload = on_load;\n",
       "      element.onerror = on_error.bind(null, url);\n",
       "      element.rel = \"stylesheet\";\n",
       "      element.type = \"text/css\";\n",
       "      element.href = url;\n",
       "      console.debug(\"Bokeh: injecting link tag for BokehJS stylesheet: \", url);\n",
       "      document.body.appendChild(element);\n",
       "    }\n",
       "\n",
       "    for (let i = 0; i < js_urls.length; i++) {\n",
       "      const url = js_urls[i];\n",
       "      const element = document.createElement('script');\n",
       "      element.onload = on_load;\n",
       "      element.onerror = on_error.bind(null, url);\n",
       "      element.async = false;\n",
       "      element.src = url;\n",
       "      console.debug(\"Bokeh: injecting script tag for BokehJS library: \", url);\n",
       "      document.head.appendChild(element);\n",
       "    }\n",
       "  };\n",
       "\n",
       "  function inject_raw_css(css) {\n",
       "    const element = document.createElement(\"style\");\n",
       "    element.appendChild(document.createTextNode(css));\n",
       "    document.body.appendChild(element);\n",
       "  }\n",
       "\n",
       "  const js_urls = [\"https://cdn.bokeh.org/bokeh/release/bokeh-2.4.3.min.js\", \"https://cdn.bokeh.org/bokeh/release/bokeh-gl-2.4.3.min.js\", \"https://cdn.bokeh.org/bokeh/release/bokeh-widgets-2.4.3.min.js\", \"https://cdn.bokeh.org/bokeh/release/bokeh-tables-2.4.3.min.js\", \"https://cdn.bokeh.org/bokeh/release/bokeh-mathjax-2.4.3.min.js\"];\n",
       "  const css_urls = [];\n",
       "\n",
       "  const inline_js = [    function(Bokeh) {\n",
       "      Bokeh.set_log_level(\"info\");\n",
       "    },\n",
       "function(Bokeh) {\n",
       "    }\n",
       "  ];\n",
       "\n",
       "  function run_inline_js() {\n",
       "    if (root.Bokeh !== undefined || force === true) {\n",
       "          for (let i = 0; i < inline_js.length; i++) {\n",
       "      inline_js[i].call(root, root.Bokeh);\n",
       "    }\n",
       "if (force === true) {\n",
       "        display_loaded();\n",
       "      }} else if (Date.now() < root._bokeh_timeout) {\n",
       "      setTimeout(run_inline_js, 100);\n",
       "    } else if (!root._bokeh_failed_load) {\n",
       "      console.log(\"Bokeh: BokehJS failed to load within specified timeout.\");\n",
       "      root._bokeh_failed_load = true;\n",
       "    } else if (force !== true) {\n",
       "      const cell = $(document.getElementById(\"1002\")).parents('.cell').data().cell;\n",
       "      cell.output_area.append_execute_result(NB_LOAD_WARNING)\n",
       "    }\n",
       "  }\n",
       "\n",
       "  if (root._bokeh_is_loading === 0) {\n",
       "    console.debug(\"Bokeh: BokehJS loaded, going straight to plotting\");\n",
       "    run_inline_js();\n",
       "  } else {\n",
       "    load_libs(css_urls, js_urls, function() {\n",
       "      console.debug(\"Bokeh: BokehJS plotting callback run at\", now());\n",
       "      run_inline_js();\n",
       "    });\n",
       "  }\n",
       "}(window));"
      ],
      "application/vnd.bokehjs_load.v0+json": "(function(root) {\n  function now() {\n    return new Date();\n  }\n\n  const force = true;\n\n  if (typeof root._bokeh_onload_callbacks === \"undefined\" || force === true) {\n    root._bokeh_onload_callbacks = [];\n    root._bokeh_is_loading = undefined;\n  }\n\n\n  if (typeof (root._bokeh_timeout) === \"undefined\" || force === true) {\n    root._bokeh_timeout = Date.now() + 5000;\n    root._bokeh_failed_load = false;\n  }\n\n  const NB_LOAD_WARNING = {'data': {'text/html':\n     \"<div style='background-color: #fdd'>\\n\"+\n     \"<p>\\n\"+\n     \"BokehJS does not appear to have successfully loaded. If loading BokehJS from CDN, this \\n\"+\n     \"may be due to a slow or bad network connection. Possible fixes:\\n\"+\n     \"</p>\\n\"+\n     \"<ul>\\n\"+\n     \"<li>re-rerun `output_notebook()` to attempt to load from CDN again, or</li>\\n\"+\n     \"<li>use INLINE resources instead, as so:</li>\\n\"+\n     \"</ul>\\n\"+\n     \"<code>\\n\"+\n     \"from bokeh.resources import INLINE\\n\"+\n     \"output_notebook(resources=INLINE)\\n\"+\n     \"</code>\\n\"+\n     \"</div>\"}};\n\n  function display_loaded() {\n    const el = document.getElementById(\"1002\");\n    if (el != null) {\n      el.textContent = \"BokehJS is loading...\";\n    }\n    if (root.Bokeh !== undefined) {\n      if (el != null) {\n        el.textContent = \"BokehJS \" + root.Bokeh.version + \" successfully loaded.\";\n      }\n    } else if (Date.now() < root._bokeh_timeout) {\n      setTimeout(display_loaded, 100)\n    }\n  }\n\n  function run_callbacks() {\n    try {\n      root._bokeh_onload_callbacks.forEach(function(callback) {\n        if (callback != null)\n          callback();\n      });\n    } finally {\n      delete root._bokeh_onload_callbacks\n    }\n    console.debug(\"Bokeh: all callbacks have finished\");\n  }\n\n  function load_libs(css_urls, js_urls, callback) {\n    if (css_urls == null) css_urls = [];\n    if (js_urls == null) js_urls = [];\n\n    root._bokeh_onload_callbacks.push(callback);\n    if (root._bokeh_is_loading > 0) {\n      console.debug(\"Bokeh: BokehJS is being loaded, scheduling callback at\", now());\n      return null;\n    }\n    if (js_urls == null || js_urls.length === 0) {\n      run_callbacks();\n      return null;\n    }\n    console.debug(\"Bokeh: BokehJS not loaded, scheduling load and callback at\", now());\n    root._bokeh_is_loading = css_urls.length + js_urls.length;\n\n    function on_load() {\n      root._bokeh_is_loading--;\n      if (root._bokeh_is_loading === 0) {\n        console.debug(\"Bokeh: all BokehJS libraries/stylesheets loaded\");\n        run_callbacks()\n      }\n    }\n\n    function on_error(url) {\n      console.error(\"failed to load \" + url);\n    }\n\n    for (let i = 0; i < css_urls.length; i++) {\n      const url = css_urls[i];\n      const element = document.createElement(\"link\");\n      element.onload = on_load;\n      element.onerror = on_error.bind(null, url);\n      element.rel = \"stylesheet\";\n      element.type = \"text/css\";\n      element.href = url;\n      console.debug(\"Bokeh: injecting link tag for BokehJS stylesheet: \", url);\n      document.body.appendChild(element);\n    }\n\n    for (let i = 0; i < js_urls.length; i++) {\n      const url = js_urls[i];\n      const element = document.createElement('script');\n      element.onload = on_load;\n      element.onerror = on_error.bind(null, url);\n      element.async = false;\n      element.src = url;\n      console.debug(\"Bokeh: injecting script tag for BokehJS library: \", url);\n      document.head.appendChild(element);\n    }\n  };\n\n  function inject_raw_css(css) {\n    const element = document.createElement(\"style\");\n    element.appendChild(document.createTextNode(css));\n    document.body.appendChild(element);\n  }\n\n  const js_urls = [\"https://cdn.bokeh.org/bokeh/release/bokeh-2.4.3.min.js\", \"https://cdn.bokeh.org/bokeh/release/bokeh-gl-2.4.3.min.js\", \"https://cdn.bokeh.org/bokeh/release/bokeh-widgets-2.4.3.min.js\", \"https://cdn.bokeh.org/bokeh/release/bokeh-tables-2.4.3.min.js\", \"https://cdn.bokeh.org/bokeh/release/bokeh-mathjax-2.4.3.min.js\"];\n  const css_urls = [];\n\n  const inline_js = [    function(Bokeh) {\n      Bokeh.set_log_level(\"info\");\n    },\nfunction(Bokeh) {\n    }\n  ];\n\n  function run_inline_js() {\n    if (root.Bokeh !== undefined || force === true) {\n          for (let i = 0; i < inline_js.length; i++) {\n      inline_js[i].call(root, root.Bokeh);\n    }\nif (force === true) {\n        display_loaded();\n      }} else if (Date.now() < root._bokeh_timeout) {\n      setTimeout(run_inline_js, 100);\n    } else if (!root._bokeh_failed_load) {\n      console.log(\"Bokeh: BokehJS failed to load within specified timeout.\");\n      root._bokeh_failed_load = true;\n    } else if (force !== true) {\n      const cell = $(document.getElementById(\"1002\")).parents('.cell').data().cell;\n      cell.output_area.append_execute_result(NB_LOAD_WARNING)\n    }\n  }\n\n  if (root._bokeh_is_loading === 0) {\n    console.debug(\"Bokeh: BokehJS loaded, going straight to plotting\");\n    run_inline_js();\n  } else {\n    load_libs(css_urls, js_urls, function() {\n      console.debug(\"Bokeh: BokehJS plotting callback run at\", now());\n      run_inline_js();\n    });\n  }\n}(window));"
     },
     "metadata": {},
     "output_type": "display_data"
    }
   ],
   "source": [
    "import warnings\n",
    "warnings.filterwarnings(\"ignore\")\n",
    "# Importation des fonctions dont l'on se servira pour toutes les figures\n",
    "from bokeh.plotting import figure, output_notebook, show\n",
    "\n",
    "# Précision de l'affichage des graphiques dans des cellules jupyter\n",
    "output_notebook()"
   ]
  },
  {
   "cell_type": "markdown",
   "metadata": {
    "deletable": false,
    "editable": false,
    "run_control": {
     "frozen": true
    }
   },
   "source": [
    "## Widgets liés\n",
    "> **Bokeh** permet d'intégrer différents *widgets* dans ses figures. Ceux-ci peuvent être utilisés en conjonction avec un serveur **Bokeh**, ou avec des modèles **CustomJS** pour ajouter plus de capacité interactive aux graphiques. Pour voir la liste complète des *widgets*, cliquer [ici](http://bokeh.pydata.org/en/latest/docs/user_guide/interaction/widgets.html#userguide-interaction-widgets).\n",
    "\n",
    "### Les onglets\n",
    "> Avec  Bokeh, il est possible de créer plusieurs figures dans un seul graphique grâce à des onglets. Pour cela, il faut suivre ces étapes:\n",
    ">  * Instancier une première `figure`.\n",
    ">  * Instancier un onglet **`tab1`** avec la classe `Panel` du sous-module **bokeh.models.widgets**. Pour le relier à la première figure, il faut lors de son instanciation lui renseigner en argument du paramètre `child` la figure à laquelle on veut le relier. Il est aussi possible de rajouter un titre à cet onglet via le paramètre `title`.\n",
    ">  * De la même manière instancier autant d'onglets que nécéssaires en les liant à leur propre figure puis stocker tous les onglets instanciés dans une liste **`tabs`**.\n",
    ">  * Ensuite, pour créer le tableau d'onglets définis précédemment, il faut instancier un objet de la classe `Tabs` du même sous-module que `Panel` et lui renseigner à l'instanciation la liste d'onglets en argument du paramètre `tabs`.\n",
    ">  * On peut maintenant afficher l'objet `Tabs` précédemment créé grâce à la fonction `show`.\n",
    "\n",
    "Dans cet exercice nous allons créer un graphique à 2 onglets.\n",
    "\n",
    "* Importer les classes `Panel` et `Tabs` du sous-module **bokeh.models.widgets**.\n",
    "\n",
    "\n",
    "* Instancier deux figures **`p1`** et **`p2`** de largeur 600 et hauteur 400.\n",
    "\n",
    "\n",
    "* Instancier dans `p1` un nuage de points en forme de cercle prenant en abscisse les valeurs `[1, 2, 3, 4, 5]` et en ordonnée les valeurs `[2, 3, 3.5, 3, 2]` tel que le rayon des cercles soit de 0.1, leur couleur soit bleue et leur opacité soit de 0.5 .\n",
    "\n",
    "\n",
    "* Instancier dans `p2` une courbe avec les mêmes abscisses et ordonnées, d'épaisseur de tracé 5, d'opacité 0.5 et de couleur bleue.\n",
    "\n",
    "\n",
    "* Instancier un objet `Panel` nommé `tab1` lié à la figure `p1` et de titre `\"Nuage de points\"`.\n",
    "\n",
    "\n",
    "* Instancier un objet `Panel` nommé `tab2` lié à la figure `p2` et de titre `\"Courbe\"`.\n",
    "\n",
    "\n",
    "* Instancier un objet `Tabs` en passant en argument du paramètre `tabs` une liste contenant `tab1` et `tab2` et l'afficher."
   ]
  },
  {
   "cell_type": "code",
   "execution_count": 2,
   "metadata": {
    "ExecuteTime": {
     "end_time": "2023-11-28T10:36:43.501131Z",
     "start_time": "2023-11-28T10:36:43.468182Z"
    }
   },
   "outputs": [
    {
     "data": {
      "text/html": [
       "\n",
       "  <div class=\"bk-root\" id=\"14ea32ab-82ab-48cd-8999-5884267b92d7\" data-root-id=\"1079\"></div>\n"
      ]
     },
     "metadata": {},
     "output_type": "display_data"
    },
    {
     "data": {
      "application/javascript": [
       "(function(root) {\n",
       "  function embed_document(root) {\n",
       "  const docs_json = {\"0a4b1a9a-a9ed-4da2-b096-f1a58e4e18b7\":{\"defs\":[],\"roots\":{\"references\":[{\"attributes\":{\"tabs\":[{\"id\":\"1077\"},{\"id\":\"1078\"}]},\"id\":\"1079\",\"type\":\"Tabs\"},{\"attributes\":{},\"id\":\"1035\",\"type\":\"DataRange1d\"},{\"attributes\":{},\"id\":\"1020\",\"type\":\"PanTool\"},{\"attributes\":{},\"id\":\"1023\",\"type\":\"SaveTool\"},{\"attributes\":{\"axis\":{\"id\":\"1016\"},\"coordinates\":null,\"dimension\":1,\"group\":null,\"ticker\":null},\"id\":\"1019\",\"type\":\"Grid\"},{\"attributes\":{\"bottom_units\":\"screen\",\"coordinates\":null,\"fill_alpha\":0.5,\"fill_color\":\"lightgrey\",\"group\":null,\"left_units\":\"screen\",\"level\":\"overlay\",\"line_alpha\":1.0,\"line_color\":\"black\",\"line_dash\":[4,4],\"line_width\":2,\"right_units\":\"screen\",\"syncable\":false,\"top_units\":\"screen\"},\"id\":\"1057\",\"type\":\"BoxAnnotation\"},{\"attributes\":{},\"id\":\"1048\",\"type\":\"BasicTicker\"},{\"attributes\":{},\"id\":\"1041\",\"type\":\"LinearScale\"},{\"attributes\":{},\"id\":\"1024\",\"type\":\"ResetTool\"},{\"attributes\":{\"axis_label_standoff\":10,\"axis_label_text_color\":\"#5B5B5B\",\"axis_label_text_font\":\"Calibri Light\",\"axis_label_text_font_size\":\"1.15em\",\"axis_label_text_font_style\":\"bold\",\"axis_line_alpha\":1,\"axis_line_color\":\"#5B5B5B\",\"coordinates\":null,\"formatter\":{\"id\":\"1085\"},\"group\":null,\"major_label_policy\":{\"id\":\"1086\"},\"major_label_text_color\":\"#5B5B5B\",\"major_label_text_font\":\"Calibri Light\",\"major_label_text_font_size\":\"0.95em\",\"major_label_text_font_style\":\"bold\",\"major_tick_in\":0,\"major_tick_line_alpha\":0.25,\"major_tick_line_color\":\"#5B5B5B\",\"major_tick_out\":3,\"minor_tick_line_alpha\":0.25,\"minor_tick_line_color\":\"#5B5B5B\",\"ticker\":{\"id\":\"1017\"}},\"id\":\"1016\",\"type\":\"LinearAxis\"},{\"attributes\":{},\"id\":\"1039\",\"type\":\"LinearScale\"},{\"attributes\":{\"axis\":{\"id\":\"1047\"},\"coordinates\":null,\"dimension\":1,\"group\":null,\"ticker\":null},\"id\":\"1050\",\"type\":\"Grid\"},{\"attributes\":{\"source\":{\"id\":\"1065\"}},\"id\":\"1070\",\"type\":\"CDSView\"},{\"attributes\":{\"fill_alpha\":{\"value\":0.1},\"fill_color\":{\"value\":\"blue\"},\"hatch_alpha\":{\"value\":0.1},\"hatch_color\":{\"value\":\"blue\"},\"line_alpha\":{\"value\":0.1},\"line_color\":{\"value\":\"blue\"},\"radius\":{\"value\":0.1},\"x\":{\"field\":\"x\"},\"y\":{\"field\":\"y\"}},\"id\":\"1067\",\"type\":\"Circle\"},{\"attributes\":{},\"id\":\"1089\",\"type\":\"AllLabels\"},{\"attributes\":{\"child\":{\"id\":\"1003\"},\"title\":\"Nuage de points\"},\"id\":\"1077\",\"type\":\"Panel\"},{\"attributes\":{\"coordinates\":null,\"data_source\":{\"id\":\"1071\"},\"glyph\":{\"id\":\"1072\"},\"group\":null,\"hover_glyph\":null,\"muted_glyph\":{\"id\":\"1074\"},\"nonselection_glyph\":{\"id\":\"1073\"},\"view\":{\"id\":\"1076\"}},\"id\":\"1075\",\"type\":\"GlyphRenderer\"},{\"attributes\":{},\"id\":\"1052\",\"type\":\"WheelZoomTool\"},{\"attributes\":{},\"id\":\"1017\",\"type\":\"BasicTicker\"},{\"attributes\":{},\"id\":\"1051\",\"type\":\"PanTool\"},{\"attributes\":{\"axis\":{\"id\":\"1043\"},\"coordinates\":null,\"group\":null,\"ticker\":null},\"id\":\"1046\",\"type\":\"Grid\"},{\"attributes\":{\"fill_alpha\":{\"value\":0.2},\"fill_color\":{\"value\":\"blue\"},\"hatch_alpha\":{\"value\":0.2},\"hatch_color\":{\"value\":\"blue\"},\"line_alpha\":{\"value\":0.2},\"line_color\":{\"value\":\"blue\"},\"radius\":{\"value\":0.1},\"x\":{\"field\":\"x\"},\"y\":{\"field\":\"y\"}},\"id\":\"1068\",\"type\":\"Circle\"},{\"attributes\":{\"bottom_units\":\"screen\",\"coordinates\":null,\"fill_alpha\":0.5,\"fill_color\":\"lightgrey\",\"group\":null,\"left_units\":\"screen\",\"level\":\"overlay\",\"line_alpha\":1.0,\"line_color\":\"black\",\"line_dash\":[4,4],\"line_width\":2,\"right_units\":\"screen\",\"syncable\":false,\"top_units\":\"screen\"},\"id\":\"1026\",\"type\":\"BoxAnnotation\"},{\"attributes\":{},\"id\":\"1010\",\"type\":\"LinearScale\"},{\"attributes\":{},\"id\":\"1054\",\"type\":\"SaveTool\"},{\"attributes\":{\"coordinates\":null,\"data_source\":{\"id\":\"1065\"},\"glyph\":{\"id\":\"1066\"},\"group\":null,\"hover_glyph\":null,\"muted_glyph\":{\"id\":\"1068\"},\"nonselection_glyph\":{\"id\":\"1067\"},\"view\":{\"id\":\"1070\"}},\"id\":\"1069\",\"type\":\"GlyphRenderer\"},{\"attributes\":{\"overlay\":{\"id\":\"1057\"}},\"id\":\"1053\",\"type\":\"BoxZoomTool\"},{\"attributes\":{\"data\":{\"x\":[1,2,3,4,5],\"y\":[2,3,3.5,3,2]},\"selected\":{\"id\":\"1100\"},\"selection_policy\":{\"id\":\"1099\"}},\"id\":\"1071\",\"type\":\"ColumnDataSource\"},{\"attributes\":{\"tools\":[{\"id\":\"1020\"},{\"id\":\"1021\"},{\"id\":\"1022\"},{\"id\":\"1023\"},{\"id\":\"1024\"},{\"id\":\"1025\"}]},\"id\":\"1027\",\"type\":\"Toolbar\"},{\"attributes\":{},\"id\":\"1091\",\"type\":\"BasicTickFormatter\"},{\"attributes\":{},\"id\":\"1099\",\"type\":\"UnionRenderers\"},{\"attributes\":{},\"id\":\"1037\",\"type\":\"DataRange1d\"},{\"attributes\":{},\"id\":\"1006\",\"type\":\"DataRange1d\"},{\"attributes\":{\"axis\":{\"id\":\"1012\"},\"coordinates\":null,\"group\":null,\"ticker\":null},\"id\":\"1015\",\"type\":\"Grid\"},{\"attributes\":{},\"id\":\"1096\",\"type\":\"UnionRenderers\"},{\"attributes\":{},\"id\":\"1008\",\"type\":\"LinearScale\"},{\"attributes\":{},\"id\":\"1092\",\"type\":\"AllLabels\"},{\"attributes\":{},\"id\":\"1100\",\"type\":\"Selection\"},{\"attributes\":{\"data\":{\"x\":[1,2,3,4,5],\"y\":[2,3,3.5,3,2]},\"selected\":{\"id\":\"1097\"},\"selection_policy\":{\"id\":\"1096\"}},\"id\":\"1065\",\"type\":\"ColumnDataSource\"},{\"attributes\":{},\"id\":\"1097\",\"type\":\"Selection\"},{\"attributes\":{},\"id\":\"1088\",\"type\":\"BasicTickFormatter\"},{\"attributes\":{},\"id\":\"1004\",\"type\":\"DataRange1d\"},{\"attributes\":{},\"id\":\"1094\",\"type\":\"BasicTickFormatter\"},{\"attributes\":{\"child\":{\"id\":\"1034\"},\"title\":\"Courbe\"},\"id\":\"1078\",\"type\":\"Panel\"},{\"attributes\":{},\"id\":\"1085\",\"type\":\"BasicTickFormatter\"},{\"attributes\":{},\"id\":\"1095\",\"type\":\"AllLabels\"},{\"attributes\":{\"source\":{\"id\":\"1071\"}},\"id\":\"1076\",\"type\":\"CDSView\"},{\"attributes\":{},\"id\":\"1044\",\"type\":\"BasicTicker\"},{\"attributes\":{\"line_alpha\":0.1,\"line_color\":\"blue\",\"line_width\":5,\"x\":{\"field\":\"x\"},\"y\":{\"field\":\"y\"}},\"id\":\"1073\",\"type\":\"Line\"},{\"attributes\":{\"line_alpha\":0.2,\"line_color\":\"blue\",\"line_width\":5,\"x\":{\"field\":\"x\"},\"y\":{\"field\":\"y\"}},\"id\":\"1074\",\"type\":\"Line\"},{\"attributes\":{\"coordinates\":null,\"group\":null,\"text_color\":\"#5B5B5B\",\"text_font\":\"Calibri Light\",\"text_font_size\":\"1.25em\",\"text_font_style\":\"bold\"},\"id\":\"1082\",\"type\":\"Title\"},{\"attributes\":{\"line_alpha\":0.5,\"line_color\":\"blue\",\"line_width\":5,\"x\":{\"field\":\"x\"},\"y\":{\"field\":\"y\"}},\"id\":\"1072\",\"type\":\"Line\"},{\"attributes\":{},\"id\":\"1056\",\"type\":\"HelpTool\"},{\"attributes\":{\"below\":[{\"id\":\"1012\"}],\"center\":[{\"id\":\"1015\"},{\"id\":\"1019\"}],\"height\":400,\"left\":[{\"id\":\"1016\"}],\"renderers\":[{\"id\":\"1069\"}],\"title\":{\"id\":\"1080\"},\"toolbar\":{\"id\":\"1027\"},\"x_range\":{\"id\":\"1004\"},\"x_scale\":{\"id\":\"1008\"},\"y_range\":{\"id\":\"1006\"},\"y_scale\":{\"id\":\"1010\"}},\"id\":\"1003\",\"subtype\":\"Figure\",\"type\":\"Plot\"},{\"attributes\":{\"axis_label_standoff\":10,\"axis_label_text_color\":\"#5B5B5B\",\"axis_label_text_font\":\"Calibri Light\",\"axis_label_text_font_size\":\"1.15em\",\"axis_label_text_font_style\":\"bold\",\"axis_line_alpha\":1,\"axis_line_color\":\"#5B5B5B\",\"coordinates\":null,\"formatter\":{\"id\":\"1091\"},\"group\":null,\"major_label_policy\":{\"id\":\"1092\"},\"major_label_text_color\":\"#5B5B5B\",\"major_label_text_font\":\"Calibri Light\",\"major_label_text_font_size\":\"0.95em\",\"major_label_text_font_style\":\"bold\",\"major_tick_in\":0,\"major_tick_line_alpha\":0.25,\"major_tick_line_color\":\"#5B5B5B\",\"major_tick_out\":3,\"minor_tick_line_alpha\":0.25,\"minor_tick_line_color\":\"#5B5B5B\",\"ticker\":{\"id\":\"1048\"}},\"id\":\"1047\",\"type\":\"LinearAxis\"},{\"attributes\":{\"fill_alpha\":{\"value\":0.5},\"fill_color\":{\"value\":\"blue\"},\"hatch_alpha\":{\"value\":0.5},\"hatch_color\":{\"value\":\"blue\"},\"line_alpha\":{\"value\":0.5},\"line_color\":{\"value\":\"blue\"},\"radius\":{\"value\":0.1},\"x\":{\"field\":\"x\"},\"y\":{\"field\":\"y\"}},\"id\":\"1066\",\"type\":\"Circle\"},{\"attributes\":{\"axis_label_standoff\":10,\"axis_label_text_color\":\"#5B5B5B\",\"axis_label_text_font\":\"Calibri Light\",\"axis_label_text_font_size\":\"1.15em\",\"axis_label_text_font_style\":\"bold\",\"axis_line_alpha\":1,\"axis_line_color\":\"#5B5B5B\",\"coordinates\":null,\"formatter\":{\"id\":\"1094\"},\"group\":null,\"major_label_policy\":{\"id\":\"1095\"},\"major_label_text_color\":\"#5B5B5B\",\"major_label_text_font\":\"Calibri Light\",\"major_label_text_font_size\":\"0.95em\",\"major_label_text_font_style\":\"bold\",\"major_tick_in\":0,\"major_tick_line_alpha\":0.25,\"major_tick_line_color\":\"#5B5B5B\",\"major_tick_out\":3,\"minor_tick_line_alpha\":0.25,\"minor_tick_line_color\":\"#5B5B5B\",\"ticker\":{\"id\":\"1044\"}},\"id\":\"1043\",\"type\":\"LinearAxis\"},{\"attributes\":{},\"id\":\"1021\",\"type\":\"WheelZoomTool\"},{\"attributes\":{},\"id\":\"1025\",\"type\":\"HelpTool\"},{\"attributes\":{},\"id\":\"1013\",\"type\":\"BasicTicker\"},{\"attributes\":{\"coordinates\":null,\"group\":null,\"text_color\":\"#5B5B5B\",\"text_font\":\"Calibri Light\",\"text_font_size\":\"1.25em\",\"text_font_style\":\"bold\"},\"id\":\"1080\",\"type\":\"Title\"},{\"attributes\":{\"tools\":[{\"id\":\"1051\"},{\"id\":\"1052\"},{\"id\":\"1053\"},{\"id\":\"1054\"},{\"id\":\"1055\"},{\"id\":\"1056\"}]},\"id\":\"1058\",\"type\":\"Toolbar\"},{\"attributes\":{\"below\":[{\"id\":\"1043\"}],\"center\":[{\"id\":\"1046\"},{\"id\":\"1050\"}],\"height\":400,\"left\":[{\"id\":\"1047\"}],\"renderers\":[{\"id\":\"1075\"}],\"title\":{\"id\":\"1082\"},\"toolbar\":{\"id\":\"1058\"},\"x_range\":{\"id\":\"1035\"},\"x_scale\":{\"id\":\"1039\"},\"y_range\":{\"id\":\"1037\"},\"y_scale\":{\"id\":\"1041\"}},\"id\":\"1034\",\"subtype\":\"Figure\",\"type\":\"Plot\"},{\"attributes\":{\"axis_label_standoff\":10,\"axis_label_text_color\":\"#5B5B5B\",\"axis_label_text_font\":\"Calibri Light\",\"axis_label_text_font_size\":\"1.15em\",\"axis_label_text_font_style\":\"bold\",\"axis_line_alpha\":1,\"axis_line_color\":\"#5B5B5B\",\"coordinates\":null,\"formatter\":{\"id\":\"1088\"},\"group\":null,\"major_label_policy\":{\"id\":\"1089\"},\"major_label_text_color\":\"#5B5B5B\",\"major_label_text_font\":\"Calibri Light\",\"major_label_text_font_size\":\"0.95em\",\"major_label_text_font_style\":\"bold\",\"major_tick_in\":0,\"major_tick_line_alpha\":0.25,\"major_tick_line_color\":\"#5B5B5B\",\"major_tick_out\":3,\"minor_tick_line_alpha\":0.25,\"minor_tick_line_color\":\"#5B5B5B\",\"ticker\":{\"id\":\"1013\"}},\"id\":\"1012\",\"type\":\"LinearAxis\"},{\"attributes\":{\"overlay\":{\"id\":\"1026\"}},\"id\":\"1022\",\"type\":\"BoxZoomTool\"},{\"attributes\":{},\"id\":\"1086\",\"type\":\"AllLabels\"},{\"attributes\":{},\"id\":\"1055\",\"type\":\"ResetTool\"}],\"root_ids\":[\"1079\"]},\"title\":\"Bokeh Application\",\"version\":\"2.4.3\"}};\n",
       "  const render_items = [{\"docid\":\"0a4b1a9a-a9ed-4da2-b096-f1a58e4e18b7\",\"root_ids\":[\"1079\"],\"roots\":{\"1079\":\"14ea32ab-82ab-48cd-8999-5884267b92d7\"}}];\n",
       "  root.Bokeh.embed.embed_items_notebook(docs_json, render_items);\n",
       "  }\n",
       "  if (root.Bokeh !== undefined) {\n",
       "    embed_document(root);\n",
       "  } else {\n",
       "    let attempts = 0;\n",
       "    const timer = setInterval(function(root) {\n",
       "      if (root.Bokeh !== undefined) {\n",
       "        clearInterval(timer);\n",
       "        embed_document(root);\n",
       "      } else {\n",
       "        attempts++;\n",
       "        if (attempts > 100) {\n",
       "          clearInterval(timer);\n",
       "          console.log(\"Bokeh: ERROR: Unable to run BokehJS code because BokehJS library is missing\");\n",
       "        }\n",
       "      }\n",
       "    }, 10, root)\n",
       "  }\n",
       "})(window);"
      ],
      "application/vnd.bokehjs_exec.v0+json": ""
     },
     "metadata": {
      "application/vnd.bokehjs_exec.v0+json": {
       "id": "1079"
      }
     },
     "output_type": "display_data"
    }
   ],
   "source": [
    "### Insérez votre code ici\n",
    "\n",
    "from bokeh.models.widgets import Panel, Tabs\n",
    "\n",
    "p1 = figure(width=600,height=400)\n",
    "p2 = figure(width=600,height=400)\n",
    "\n",
    "x = [1,2,3,4,5]\n",
    "y = [2,3,3.5,3,2]\n",
    "\n",
    "p1.circle(x,y,radius=0.1,color='blue',alpha=0.5)\n",
    "p2.line(x,y,line_width=5,color='blue',alpha=0.5)\n",
    "\n",
    "tab1 = Panel(title=\"Nuage de points\", child=p1)\n",
    "tab2 = Panel(title=\"Courbe\", child=p2)\n",
    "\n",
    "fig = Tabs(tabs=[tab1, tab2])\n",
    "\n",
    "show(fig)\n"
   ]
  },
  {
   "cell_type": "markdown",
   "metadata": {
    "deletable": false,
    "editable": false,
    "run_control": {
     "frozen": true
    }
   },
   "source": [
    "### Les Sliders\n",
    "\n",
    "\n",
    "> Les Sliders sont des curseurs permettant de modifier la valeur d'une variable à l'aide de la souris. Ils sont très pratiques pour la visualisation de données car ils permettent de modifier les paramètres d'un graphique en temps réel.\n",
    ">\n",
    ">\n",
    "> Pour instancier et utiliser un widget `Slider`, il faut préciser :\n",
    "> * `start` : valeur minimale que peut prendre le curseur.\n",
    "> * `end` : valeur maximale que peut prendre le curseur.\n",
    "> * `value` : valeur à laquelle le curseur est initialisé.\n",
    "> * `step` : pas entre deux valeurs consécutives que peut prendre le curseur.\n",
    "> * `title` : titre du curseur. Correspond souvent au paramètre du graphique que le curseur est sensé modifier.\n",
    ">\n",
    ">\n",
    "> Pour afficher un tel objet, il faut instancier une \"boîte à widgets\" qui est simplement une figure *bokeh* contenant des widgets. L'instanciation de cette boîte se fait grâce à la fonction `widgetbox` du sous-module `bokeh.layouts` qui prend en argument un ou plusieurs widgets.\n",
    "\n",
    "<div class=\"alert alert-success\">\n",
    "<i class=\"fa fa-info-circle\"></i> &emsp; \n",
    "Tous les paramètres d'instanciation d'un <code style = \"background-color: transparent ; color : inherit\">Slider</code> à part le titre prennent des <b>valeurs numériques</b> en argument.\n",
    "</div>\n",
    "\n",
    "* Importer la classe `Slider` depuis le sous-module **bokeh.models.widgets** et la fonction `widgetbox` depuis le sous-module **bokeh.layouts**.\n",
    "\n",
    "\n",
    "* Instancier un `Slider` allant de -6 à 6 initialisé à 0 avec un pas de 0.1. Lui donner le titre `\"Premier Slider\"`.\n",
    "\n",
    "\n",
    "* Instancier un objet `Widgetbox` à l'aide de la fonction `widgetbox`.\n",
    "\n",
    "\n",
    "* Afficher la boîte à widgets."
   ]
  },
  {
   "cell_type": "code",
   "execution_count": 4,
   "metadata": {
    "ExecuteTime": {
     "end_time": "2023-11-28T10:37:03.824514Z",
     "start_time": "2023-11-28T10:37:03.819721Z"
    }
   },
   "outputs": [
    {
     "data": {
      "text/html": [
       "\n",
       "  <div class=\"bk-root\" id=\"628c49f2-ff50-446c-b47e-bc629ee953b8\" data-root-id=\"1444\"></div>\n"
      ]
     },
     "metadata": {},
     "output_type": "display_data"
    },
    {
     "data": {
      "application/javascript": [
       "(function(root) {\n",
       "  function embed_document(root) {\n",
       "  const docs_json = {\"a40089f6-a78e-4561-8bee-0d3a13dedb4f\":{\"defs\":[],\"roots\":{\"references\":[{\"attributes\":{\"children\":[{\"id\":\"1443\"}]},\"id\":\"1444\",\"type\":\"WidgetBox\"},{\"attributes\":{\"end\":6,\"start\":-6,\"step\":0.1,\"title\":\"Premier Slider\",\"value\":0},\"id\":\"1443\",\"type\":\"Slider\"}],\"root_ids\":[\"1444\"]},\"title\":\"Bokeh Application\",\"version\":\"2.4.3\"}};\n",
       "  const render_items = [{\"docid\":\"a40089f6-a78e-4561-8bee-0d3a13dedb4f\",\"root_ids\":[\"1444\"],\"roots\":{\"1444\":\"628c49f2-ff50-446c-b47e-bc629ee953b8\"}}];\n",
       "  root.Bokeh.embed.embed_items_notebook(docs_json, render_items);\n",
       "  }\n",
       "  if (root.Bokeh !== undefined) {\n",
       "    embed_document(root);\n",
       "  } else {\n",
       "    let attempts = 0;\n",
       "    const timer = setInterval(function(root) {\n",
       "      if (root.Bokeh !== undefined) {\n",
       "        clearInterval(timer);\n",
       "        embed_document(root);\n",
       "      } else {\n",
       "        attempts++;\n",
       "        if (attempts > 100) {\n",
       "          clearInterval(timer);\n",
       "          console.log(\"Bokeh: ERROR: Unable to run BokehJS code because BokehJS library is missing\");\n",
       "        }\n",
       "      }\n",
       "    }, 10, root)\n",
       "  }\n",
       "})(window);"
      ],
      "application/vnd.bokehjs_exec.v0+json": ""
     },
     "metadata": {
      "application/vnd.bokehjs_exec.v0+json": {
       "id": "1444"
      }
     },
     "output_type": "display_data"
    }
   ],
   "source": [
    "### Insérez votre code ici\n",
    "from bokeh.models.widgets import Slider\n",
    "from bokeh.layouts import widgetbox\n",
    "\n",
    "slider = Slider(start=-6,end=6,value=0,step=0.1,title=\"Premier Slider\")\n",
    "\n",
    "wbox = widgetbox(children=[slider])\n",
    "\n",
    "show(wbox)"
   ]
  },
  {
   "cell_type": "markdown",
   "metadata": {
    "deletable": false,
    "editable": false,
    "run_control": {
     "frozen": true
    }
   },
   "source": [
    "> Nous allons maintenant voir comment il est possible d'associer un `Slider` à une courbe et la manipuler en temps réel. Nous allons tracer une courbe de sinus et utiliser un `Slider` pour déplacer une ligne verticale sur ce graphe. On accède à la valeur d'un `Slider` en utilisant `Slider.value`.\n",
    ">\n",
    ">\n",
    "> Pour créer une figure contenant deux ou plusieurs objets en ligne ou en colonne, on peut utiliser la fonctions `row` ou `column` du sous-module **bokeh.layouts** dont les arguments sont les objets que l'on souhaite grouper.\n",
    "\n",
    "\n",
    "* Instancier un `Slider` allant de -6$\\pi$ à 6$\\pi$, initialisé à 0 et de pas $0.1$.\n",
    "\n",
    "\n",
    "* Créer un tableau `x` de 1000 valeurs entre -6$\\pi$ et 6$\\pi$ à l'aide de la fonction `linspace` de `numpy`.\n",
    "\n",
    "\n",
    "* Créer un tableau `y` de 1000 valeurs correspondant à l'image de `x` par la fonction `sin` de `numpy`.\n",
    "\n",
    "\n",
    "* Instancier une figure de largeur 600 et hauteur 400.\n",
    "\n",
    "\n",
    "* Instancier dans cette figure une courbe de coordonnées `x` et `y`, d'épaisseur de tracé 3 et d'opacité de tracé 0.6.\n",
    "\n",
    "\n",
    "* Importer la classe `Span` du sous-module **bokeh.models.annotations**.\n",
    "\n",
    "\n",
    "* Instancier un objet `Span` pour tracer une ligne verticale d'épaisseur de tracé 3 au niveau de la valeur actuelle du `Slider`. On rappelle que le paramètre `location` définit la position du la ligne et `dimension` la direction de la ligne (avec en argument `'height'` pour une ligne verticale). De plus, la valeur actuelle d'un widget peut être retrouvée grâce à son attribut `value`.\n",
    "\n",
    "\n",
    "* Ajouter le `Span` aux annotations de la figure grâce à sa méthode `add_layout`.\n",
    "\n",
    "\n",
    "* Importer la fonction `column` du sous-module **bokeh.layouts**.\n",
    "\n",
    "\n",
    "* Instancier une figure contenant le `Slider` et la première figure grâce à la fonction `column`, et l'afficher. Pourquoi le `Span` ne se met-il pas à jour lorsque le `Slider` change de valeur?"
   ]
  },
  {
   "cell_type": "code",
   "execution_count": 9,
   "metadata": {
    "ExecuteTime": {
     "end_time": "2023-11-28T10:39:18.781209Z",
     "start_time": "2023-11-28T10:39:18.779017Z"
    }
   },
   "outputs": [
    {
     "data": {
      "text/html": [
       "\n",
       "  <div class=\"bk-root\" id=\"991a3adb-cd9c-42e3-a6ed-cf60e109c82f\" data-root-id=\"2007\"></div>\n"
      ]
     },
     "metadata": {},
     "output_type": "display_data"
    },
    {
     "data": {
      "application/javascript": [
       "(function(root) {\n",
       "  function embed_document(root) {\n",
       "  const docs_json = {\"33295e6f-9149-4e90-b182-487c5ccf2460\":{\"defs\":[],\"roots\":{\"references\":[{\"attributes\":{\"children\":[{\"id\":\"1968\"},{\"id\":\"1969\"}]},\"id\":\"2007\",\"type\":\"Column\"},{\"attributes\":{\"overlay\":{\"id\":\"1992\"}},\"id\":\"1988\",\"type\":\"BoxZoomTool\"},{\"attributes\":{\"axis_label_standoff\":10,\"axis_label_text_color\":\"#5B5B5B\",\"axis_label_text_font\":\"Calibri Light\",\"axis_label_text_font_size\":\"1.15em\",\"axis_label_text_font_style\":\"bold\",\"axis_line_alpha\":1,\"axis_line_color\":\"#5B5B5B\",\"coordinates\":null,\"formatter\":{\"id\":\"2080\"},\"group\":null,\"major_label_policy\":{\"id\":\"2081\"},\"major_label_text_color\":\"#5B5B5B\",\"major_label_text_font\":\"Calibri Light\",\"major_label_text_font_size\":\"0.95em\",\"major_label_text_font_style\":\"bold\",\"major_tick_in\":0,\"major_tick_line_alpha\":0.25,\"major_tick_line_color\":\"#5B5B5B\",\"major_tick_out\":3,\"minor_tick_line_alpha\":0.25,\"minor_tick_line_color\":\"#5B5B5B\",\"ticker\":{\"id\":\"1979\"}},\"id\":\"1978\",\"type\":\"LinearAxis\"},{\"attributes\":{\"axis\":{\"id\":\"1978\"},\"coordinates\":null,\"group\":null,\"ticker\":null},\"id\":\"1981\",\"type\":\"Grid\"},{\"attributes\":{},\"id\":\"1976\",\"type\":\"LinearScale\"},{\"attributes\":{\"axis_label_standoff\":10,\"axis_label_text_color\":\"#5B5B5B\",\"axis_label_text_font\":\"Calibri Light\",\"axis_label_text_font_size\":\"1.15em\",\"axis_label_text_font_style\":\"bold\",\"axis_line_alpha\":1,\"axis_line_color\":\"#5B5B5B\",\"coordinates\":null,\"formatter\":{\"id\":\"2077\"},\"group\":null,\"major_label_policy\":{\"id\":\"2078\"},\"major_label_text_color\":\"#5B5B5B\",\"major_label_text_font\":\"Calibri Light\",\"major_label_text_font_size\":\"0.95em\",\"major_label_text_font_style\":\"bold\",\"major_tick_in\":0,\"major_tick_line_alpha\":0.25,\"major_tick_line_color\":\"#5B5B5B\",\"major_tick_out\":3,\"minor_tick_line_alpha\":0.25,\"minor_tick_line_color\":\"#5B5B5B\",\"ticker\":{\"id\":\"1983\"}},\"id\":\"1982\",\"type\":\"LinearAxis\"},{\"attributes\":{},\"id\":\"1987\",\"type\":\"WheelZoomTool\"},{\"attributes\":{},\"id\":\"1972\",\"type\":\"DataRange1d\"},{\"attributes\":{\"coordinates\":null,\"dimension\":\"height\",\"group\":null,\"line_width\":3,\"location\":0},\"id\":\"2006\",\"type\":\"Span\"},{\"attributes\":{},\"id\":\"2078\",\"type\":\"AllLabels\"},{\"attributes\":{},\"id\":\"1970\",\"type\":\"DataRange1d\"},{\"attributes\":{},\"id\":\"2083\",\"type\":\"Selection\"},{\"attributes\":{},\"id\":\"1991\",\"type\":\"HelpTool\"},{\"attributes\":{\"bottom_units\":\"screen\",\"coordinates\":null,\"fill_alpha\":0.5,\"fill_color\":\"lightgrey\",\"group\":null,\"left_units\":\"screen\",\"level\":\"overlay\",\"line_alpha\":1.0,\"line_color\":\"black\",\"line_dash\":[4,4],\"line_width\":2,\"right_units\":\"screen\",\"syncable\":false,\"top_units\":\"screen\"},\"id\":\"1992\",\"type\":\"BoxAnnotation\"},{\"attributes\":{\"line_alpha\":0.6,\"line_color\":\"#1f77b4\",\"line_width\":3,\"x\":{\"field\":\"x\"},\"y\":{\"field\":\"y\"}},\"id\":\"2001\",\"type\":\"Line\"},{\"attributes\":{\"coordinates\":null,\"data_source\":{\"id\":\"2000\"},\"glyph\":{\"id\":\"2001\"},\"group\":null,\"hover_glyph\":null,\"muted_glyph\":{\"id\":\"2003\"},\"nonselection_glyph\":{\"id\":\"2002\"},\"view\":{\"id\":\"2005\"}},\"id\":\"2004\",\"type\":\"GlyphRenderer\"},{\"attributes\":{\"below\":[{\"id\":\"1978\"}],\"center\":[{\"id\":\"1981\"},{\"id\":\"1985\"},{\"id\":\"2006\"}],\"height\":400,\"left\":[{\"id\":\"1982\"}],\"renderers\":[{\"id\":\"2004\"}],\"title\":{\"id\":\"2074\"},\"toolbar\":{\"id\":\"1993\"},\"x_range\":{\"id\":\"1970\"},\"x_scale\":{\"id\":\"1974\"},\"y_range\":{\"id\":\"1972\"},\"y_scale\":{\"id\":\"1976\"}},\"id\":\"1969\",\"subtype\":\"Figure\",\"type\":\"Plot\"},{\"attributes\":{\"end\":18.84955592153876,\"start\":-18.84955592153876,\"step\":0.1,\"title\":\"x\",\"value\":0},\"id\":\"1968\",\"type\":\"Slider\"},{\"attributes\":{},\"id\":\"2081\",\"type\":\"AllLabels\"},{\"attributes\":{\"data\":{\"x\":{\"__ndarray__\":\"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\",\"dtype\":\"float64\",\"order\":\"little\",\"shape\":[1000]},\"y\":{\"__ndarray__\":\"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\",\"dtype\":\"float64\",\"order\":\"little\",\"shape\":[1000]}},\"selected\":{\"id\":\"2083\"},\"selection_policy\":{\"id\":\"2082\"}},\"id\":\"2000\",\"type\":\"ColumnDataSource\"},{\"attributes\":{},\"id\":\"2082\",\"type\":\"UnionRenderers\"},{\"attributes\":{\"axis\":{\"id\":\"1982\"},\"coordinates\":null,\"dimension\":1,\"group\":null,\"ticker\":null},\"id\":\"1985\",\"type\":\"Grid\"},{\"attributes\":{},\"id\":\"2077\",\"type\":\"BasicTickFormatter\"},{\"attributes\":{\"coordinates\":null,\"group\":null,\"text_color\":\"#5B5B5B\",\"text_font\":\"Calibri Light\",\"text_font_size\":\"1.25em\",\"text_font_style\":\"bold\"},\"id\":\"2074\",\"type\":\"Title\"},{\"attributes\":{\"line_alpha\":0.1,\"line_color\":\"#1f77b4\",\"line_width\":3,\"x\":{\"field\":\"x\"},\"y\":{\"field\":\"y\"}},\"id\":\"2002\",\"type\":\"Line\"},{\"attributes\":{},\"id\":\"1983\",\"type\":\"BasicTicker\"},{\"attributes\":{\"line_alpha\":0.2,\"line_color\":\"#1f77b4\",\"line_width\":3,\"x\":{\"field\":\"x\"},\"y\":{\"field\":\"y\"}},\"id\":\"2003\",\"type\":\"Line\"},{\"attributes\":{},\"id\":\"1989\",\"type\":\"SaveTool\"},{\"attributes\":{\"source\":{\"id\":\"2000\"}},\"id\":\"2005\",\"type\":\"CDSView\"},{\"attributes\":{},\"id\":\"1986\",\"type\":\"PanTool\"},{\"attributes\":{\"tools\":[{\"id\":\"1986\"},{\"id\":\"1987\"},{\"id\":\"1988\"},{\"id\":\"1989\"},{\"id\":\"1990\"},{\"id\":\"1991\"}]},\"id\":\"1993\",\"type\":\"Toolbar\"},{\"attributes\":{},\"id\":\"1990\",\"type\":\"ResetTool\"},{\"attributes\":{},\"id\":\"1974\",\"type\":\"LinearScale\"},{\"attributes\":{},\"id\":\"2080\",\"type\":\"BasicTickFormatter\"},{\"attributes\":{},\"id\":\"1979\",\"type\":\"BasicTicker\"}],\"root_ids\":[\"2007\"]},\"title\":\"Bokeh Application\",\"version\":\"2.4.3\"}};\n",
       "  const render_items = [{\"docid\":\"33295e6f-9149-4e90-b182-487c5ccf2460\",\"root_ids\":[\"2007\"],\"roots\":{\"2007\":\"991a3adb-cd9c-42e3-a6ed-cf60e109c82f\"}}];\n",
       "  root.Bokeh.embed.embed_items_notebook(docs_json, render_items);\n",
       "  }\n",
       "  if (root.Bokeh !== undefined) {\n",
       "    embed_document(root);\n",
       "  } else {\n",
       "    let attempts = 0;\n",
       "    const timer = setInterval(function(root) {\n",
       "      if (root.Bokeh !== undefined) {\n",
       "        clearInterval(timer);\n",
       "        embed_document(root);\n",
       "      } else {\n",
       "        attempts++;\n",
       "        if (attempts > 100) {\n",
       "          clearInterval(timer);\n",
       "          console.log(\"Bokeh: ERROR: Unable to run BokehJS code because BokehJS library is missing\");\n",
       "        }\n",
       "      }\n",
       "    }, 10, root)\n",
       "  }\n",
       "})(window);"
      ],
      "application/vnd.bokehjs_exec.v0+json": ""
     },
     "metadata": {
      "application/vnd.bokehjs_exec.v0+json": {
       "id": "2007"
      }
     },
     "output_type": "display_data"
    }
   ],
   "source": [
    "import numpy as np\n",
    "\n",
    "# Insérez votre code ici\n",
    "slider = Slider(start=-6*np.pi,end=6*np.pi,step=0.1,value=0,title=\"x\")\n",
    "\n",
    "x = np.linspace(-6*np.pi,6*np.pi,1000)\n",
    "y = np.sin(x)\n",
    "\n",
    "p = figure(width=600,height=400)\n",
    "\n",
    "p.line(x,y,width=3,alpha=0.6)\n",
    "\n",
    "from bokeh.models.annotations import Span\n",
    "\n",
    "lvert = Span(location=slider.value, line_width=3,dimension='height')\n",
    "\n",
    "p.add_layout(lvert)\n",
    "\n",
    "\n",
    "from bokeh.layouts import column\n",
    "\n",
    "fig = column(slider,p)\n",
    "\n",
    "show(fig)\n"
   ]
  },
  {
   "cell_type": "markdown",
   "metadata": {
    "deletable": false,
    "editable": false,
    "run_control": {
     "frozen": true
    }
   },
   "source": [
    "### La classe CustomJS\n",
    "\n",
    "\n",
    "> La `Span` ne se déplace pas lorsque l'on change la valeur du `Slider`, elle conserve la valeur initiale $0$.\n",
    ">\n",
    "> Pour que le `Span` puisse se mettre à jour en temps réél, il faut modifier dynamiquement la valeur de son paramètre `location`.\n",
    ">\n",
    "> Pour cela on utilise la classe **`CustomJS`** du sous-module `bokeh.models`. Les objets `CustomJS` permettent de faire le lien entre les objets Python que nous manipulons et les objets *JavaScript* qu'utilise *bokeh* pour générer et afficher des figures. \n",
    ">\n",
    "> Un objet `CustomJS` est construit à partir de deux éléments, les arguments et les instructions:\n",
    "> * Les **arguments** correspondent à un **dictionnaire** où chaque clé est associée à l'objet Python que l'on souhaite manipuler.\n",
    ">\n",
    "> * Les **instructions** sont des **chaînes de caractères** correspondant à des instructions écrites en language *JavaScript*, le language que *bokeh* utilise pour ses affichages.\n",
    ">\n",
    ">\n",
    "> Une fois que l'objet `CustomJS` a été instancié et affecté à un widget, il va servir de fonction ***callback*** au widget auquel on l'a affecté, c'est-à-dire qu'à chaque mise à jour d'une des valeurs du widget, **les instructions contenues dans l'objet `CustomJS` vont être éxécutées**.\n",
    ">\n",
    ">\n",
    "> Pour qu'un objet `CustomJS` serve de fonction callback à un widget, **il faut affecter l'objet `CustomJS` au widget grâce à la méthode `on_js_change`**, dont l'en-tête est la suivante:\n",
    ">\n",
    "> ```python\n",
    "> slider.js_on_change(event, callback)\n",
    "> ```\n",
    ">\n",
    "> * La valeur `event` correspond à un **attribut** de `slider` qui doit déclencher un évènement lorsqu'il est modifié. Lorsque que l'on déplace le curseur, l'attribut de `slider` qui est modifié est **`'value'`**.\n",
    ">\n",
    "> * La valeur `callback` correspond à un objet `CustomJS` qui doit éxécuter des instructions javascript lorsque l'évènement est déclenché.\n",
    "\n",
    "\n",
    "* Importer la classe `CustomJS` depuis le sous-module **bokeh.models**.\n",
    "\n",
    "\n",
    "* Créer un dictionnaire ayant deux clés `spantest` et `slidertest` et pour valeurs respectives les instances `Span` et `Slider` de l'exercice précédent.\n",
    "\n",
    "\n",
    "* Créer une chaîne de caractères qui correspond à la commande *JavaScript* `spantest.location = slidertest.value`. Cette instruction sert simplement à affecter la valeur actuelle du widget `Slider` à l'attribut `location` du `Span`. \n",
    "\n",
    "\n",
    "* Instancier un objet `CustomJS` avec en arguments du constructeur le dictionnaire précédent pour le paramètre `args` et la chaîne de caractères précédente pour le paramètre `code`.\n",
    "\n",
    "\n",
    "* Affecter cet objet à au widget `slider` à l'aide de la méthode **`js_on_change`**.\n",
    "\n",
    "\n",
    "* Afficher la `column` de l'exercice précédent."
   ]
  },
  {
   "cell_type": "code",
   "execution_count": 10,
   "metadata": {
    "ExecuteTime": {
     "end_time": "2023-11-28T10:39:20.115110Z",
     "start_time": "2023-11-28T10:39:20.107643Z"
    }
   },
   "outputs": [
    {
     "data": {
      "text/html": [
       "\n",
       "  <div class=\"bk-root\" id=\"f71b3afd-8aea-4aec-bf4e-0cc81f60d634\" data-root-id=\"2007\"></div>\n"
      ]
     },
     "metadata": {},
     "output_type": "display_data"
    },
    {
     "data": {
      "application/javascript": [
       "(function(root) {\n",
       "  function embed_document(root) {\n",
       "  const docs_json = {\"47bf252b-6d0d-479a-ba5e-5b5648b5ddc1\":{\"defs\":[],\"roots\":{\"references\":[{\"attributes\":{\"children\":[{\"id\":\"1968\"},{\"id\":\"1969\"}]},\"id\":\"2007\",\"type\":\"Column\"},{\"attributes\":{\"overlay\":{\"id\":\"1992\"}},\"id\":\"1988\",\"type\":\"BoxZoomTool\"},{\"attributes\":{\"axis_label_standoff\":10,\"axis_label_text_color\":\"#5B5B5B\",\"axis_label_text_font\":\"Calibri Light\",\"axis_label_text_font_size\":\"1.15em\",\"axis_label_text_font_style\":\"bold\",\"axis_line_alpha\":1,\"axis_line_color\":\"#5B5B5B\",\"coordinates\":null,\"formatter\":{\"id\":\"2080\"},\"group\":null,\"major_label_policy\":{\"id\":\"2081\"},\"major_label_text_color\":\"#5B5B5B\",\"major_label_text_font\":\"Calibri Light\",\"major_label_text_font_size\":\"0.95em\",\"major_label_text_font_style\":\"bold\",\"major_tick_in\":0,\"major_tick_line_alpha\":0.25,\"major_tick_line_color\":\"#5B5B5B\",\"major_tick_out\":3,\"minor_tick_line_alpha\":0.25,\"minor_tick_line_color\":\"#5B5B5B\",\"ticker\":{\"id\":\"1979\"}},\"id\":\"1978\",\"type\":\"LinearAxis\"},{\"attributes\":{\"axis\":{\"id\":\"1978\"},\"coordinates\":null,\"group\":null,\"ticker\":null},\"id\":\"1981\",\"type\":\"Grid\"},{\"attributes\":{},\"id\":\"1976\",\"type\":\"LinearScale\"},{\"attributes\":{\"axis_label_standoff\":10,\"axis_label_text_color\":\"#5B5B5B\",\"axis_label_text_font\":\"Calibri Light\",\"axis_label_text_font_size\":\"1.15em\",\"axis_label_text_font_style\":\"bold\",\"axis_line_alpha\":1,\"axis_line_color\":\"#5B5B5B\",\"coordinates\":null,\"formatter\":{\"id\":\"2077\"},\"group\":null,\"major_label_policy\":{\"id\":\"2078\"},\"major_label_text_color\":\"#5B5B5B\",\"major_label_text_font\":\"Calibri Light\",\"major_label_text_font_size\":\"0.95em\",\"major_label_text_font_style\":\"bold\",\"major_tick_in\":0,\"major_tick_line_alpha\":0.25,\"major_tick_line_color\":\"#5B5B5B\",\"major_tick_out\":3,\"minor_tick_line_alpha\":0.25,\"minor_tick_line_color\":\"#5B5B5B\",\"ticker\":{\"id\":\"1983\"}},\"id\":\"1982\",\"type\":\"LinearAxis\"},{\"attributes\":{},\"id\":\"1987\",\"type\":\"WheelZoomTool\"},{\"attributes\":{},\"id\":\"1972\",\"type\":\"DataRange1d\"},{\"attributes\":{\"coordinates\":null,\"dimension\":\"height\",\"group\":null,\"line_width\":3,\"location\":0},\"id\":\"2006\",\"type\":\"Span\"},{\"attributes\":{},\"id\":\"2078\",\"type\":\"AllLabels\"},{\"attributes\":{},\"id\":\"1970\",\"type\":\"DataRange1d\"},{\"attributes\":{},\"id\":\"2083\",\"type\":\"Selection\"},{\"attributes\":{},\"id\":\"1991\",\"type\":\"HelpTool\"},{\"attributes\":{\"bottom_units\":\"screen\",\"coordinates\":null,\"fill_alpha\":0.5,\"fill_color\":\"lightgrey\",\"group\":null,\"left_units\":\"screen\",\"level\":\"overlay\",\"line_alpha\":1.0,\"line_color\":\"black\",\"line_dash\":[4,4],\"line_width\":2,\"right_units\":\"screen\",\"syncable\":false,\"top_units\":\"screen\"},\"id\":\"1992\",\"type\":\"BoxAnnotation\"},{\"attributes\":{\"line_alpha\":0.6,\"line_color\":\"#1f77b4\",\"line_width\":3,\"x\":{\"field\":\"x\"},\"y\":{\"field\":\"y\"}},\"id\":\"2001\",\"type\":\"Line\"},{\"attributes\":{\"coordinates\":null,\"data_source\":{\"id\":\"2000\"},\"glyph\":{\"id\":\"2001\"},\"group\":null,\"hover_glyph\":null,\"muted_glyph\":{\"id\":\"2003\"},\"nonselection_glyph\":{\"id\":\"2002\"},\"view\":{\"id\":\"2005\"}},\"id\":\"2004\",\"type\":\"GlyphRenderer\"},{\"attributes\":{\"below\":[{\"id\":\"1978\"}],\"center\":[{\"id\":\"1981\"},{\"id\":\"1985\"},{\"id\":\"2006\"}],\"height\":400,\"left\":[{\"id\":\"1982\"}],\"renderers\":[{\"id\":\"2004\"}],\"title\":{\"id\":\"2074\"},\"toolbar\":{\"id\":\"1993\"},\"x_range\":{\"id\":\"1970\"},\"x_scale\":{\"id\":\"1974\"},\"y_range\":{\"id\":\"1972\"},\"y_scale\":{\"id\":\"1976\"}},\"id\":\"1969\",\"subtype\":\"Figure\",\"type\":\"Plot\"},{\"attributes\":{\"end\":18.84955592153876,\"js_property_callbacks\":{\"change:value\":[{\"id\":\"2140\"}]},\"start\":-18.84955592153876,\"step\":0.1,\"title\":\"x\",\"value\":0},\"id\":\"1968\",\"type\":\"Slider\"},{\"attributes\":{},\"id\":\"2081\",\"type\":\"AllLabels\"},{\"attributes\":{\"data\":{\"x\":{\"__ndarray__\":\"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\",\"dtype\":\"float64\",\"order\":\"little\",\"shape\":[1000]},\"y\":{\"__ndarray__\":\"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\",\"dtype\":\"float64\",\"order\":\"little\",\"shape\":[1000]}},\"selected\":{\"id\":\"2083\"},\"selection_policy\":{\"id\":\"2082\"}},\"id\":\"2000\",\"type\":\"ColumnDataSource\"},{\"attributes\":{\"args\":{\"slidertest\":{\"id\":\"1968\"},\"spantest\":{\"id\":\"2006\"}},\"code\":\"spantest.location = slidertest.value\"},\"id\":\"2140\",\"type\":\"CustomJS\"},{\"attributes\":{},\"id\":\"2082\",\"type\":\"UnionRenderers\"},{\"attributes\":{\"axis\":{\"id\":\"1982\"},\"coordinates\":null,\"dimension\":1,\"group\":null,\"ticker\":null},\"id\":\"1985\",\"type\":\"Grid\"},{\"attributes\":{},\"id\":\"2077\",\"type\":\"BasicTickFormatter\"},{\"attributes\":{\"coordinates\":null,\"group\":null,\"text_color\":\"#5B5B5B\",\"text_font\":\"Calibri Light\",\"text_font_size\":\"1.25em\",\"text_font_style\":\"bold\"},\"id\":\"2074\",\"type\":\"Title\"},{\"attributes\":{\"line_alpha\":0.1,\"line_color\":\"#1f77b4\",\"line_width\":3,\"x\":{\"field\":\"x\"},\"y\":{\"field\":\"y\"}},\"id\":\"2002\",\"type\":\"Line\"},{\"attributes\":{},\"id\":\"1983\",\"type\":\"BasicTicker\"},{\"attributes\":{\"line_alpha\":0.2,\"line_color\":\"#1f77b4\",\"line_width\":3,\"x\":{\"field\":\"x\"},\"y\":{\"field\":\"y\"}},\"id\":\"2003\",\"type\":\"Line\"},{\"attributes\":{},\"id\":\"1989\",\"type\":\"SaveTool\"},{\"attributes\":{\"source\":{\"id\":\"2000\"}},\"id\":\"2005\",\"type\":\"CDSView\"},{\"attributes\":{},\"id\":\"1986\",\"type\":\"PanTool\"},{\"attributes\":{\"tools\":[{\"id\":\"1986\"},{\"id\":\"1987\"},{\"id\":\"1988\"},{\"id\":\"1989\"},{\"id\":\"1990\"},{\"id\":\"1991\"}]},\"id\":\"1993\",\"type\":\"Toolbar\"},{\"attributes\":{},\"id\":\"1990\",\"type\":\"ResetTool\"},{\"attributes\":{},\"id\":\"1974\",\"type\":\"LinearScale\"},{\"attributes\":{},\"id\":\"2080\",\"type\":\"BasicTickFormatter\"},{\"attributes\":{},\"id\":\"1979\",\"type\":\"BasicTicker\"}],\"root_ids\":[\"2007\"]},\"title\":\"Bokeh Application\",\"version\":\"2.4.3\"}};\n",
       "  const render_items = [{\"docid\":\"47bf252b-6d0d-479a-ba5e-5b5648b5ddc1\",\"root_ids\":[\"2007\"],\"roots\":{\"2007\":\"f71b3afd-8aea-4aec-bf4e-0cc81f60d634\"}}];\n",
       "  root.Bokeh.embed.embed_items_notebook(docs_json, render_items);\n",
       "  }\n",
       "  if (root.Bokeh !== undefined) {\n",
       "    embed_document(root);\n",
       "  } else {\n",
       "    let attempts = 0;\n",
       "    const timer = setInterval(function(root) {\n",
       "      if (root.Bokeh !== undefined) {\n",
       "        clearInterval(timer);\n",
       "        embed_document(root);\n",
       "      } else {\n",
       "        attempts++;\n",
       "        if (attempts > 100) {\n",
       "          clearInterval(timer);\n",
       "          console.log(\"Bokeh: ERROR: Unable to run BokehJS code because BokehJS library is missing\");\n",
       "        }\n",
       "      }\n",
       "    }, 10, root)\n",
       "  }\n",
       "})(window);"
      ],
      "application/vnd.bokehjs_exec.v0+json": ""
     },
     "metadata": {
      "application/vnd.bokehjs_exec.v0+json": {
       "id": "2007"
      }
     },
     "output_type": "display_data"
    }
   ],
   "source": [
    "# Insérez votre code ici\n",
    "from bokeh.models import CustomJS\n",
    "\n",
    "dict_slider = {'spantest':lvert,'slidertest':slider}\n",
    "\n",
    "js_callback = CustomJS(args=dict_slider,code=\"spantest.location = slidertest.value\")\n",
    "\n",
    "slider.js_on_change('value',js_callback)\n",
    "\n",
    "show(fig)\n"
   ]
  },
  {
   "cell_type": "markdown",
   "metadata": {
    "deletable": false,
    "editable": false,
    "run_control": {
     "frozen": true
    }
   },
   "source": [
    "### Bonus : Partage de graphiques\n",
    "\n",
    "> **Bokeh** est muni d'outils qui nous permettent d'exporter facilement ses graphiques au format *html*, ce qui permet de les ouvrir sur n'importe quel navigateur.\n",
    ">\n",
    "> Ainsi, il est possible de les partager avec des collègues ou des managers par exemple. Les graphiques conserveront tous leurs outils interactifs, leurs annotations et leurs paramètres, ce qui facilite leur utilisation par des individus qui normalement n'auraient pas les compétences techniques pour les comprendre au premier coup d'oeil.\n",
    ">\n",
    ">\n",
    ">Pour exporter les figures au format *html*, il suffit d'utiliser les fonctions `output_file` et `save` du sous-module *bokeh.plotting*.\n",
    ">\n",
    "> La fonction `output_file` permet de définir le nom du fichier sur lequel sera enregistrée la figure et définir son emplacement si un chemin est renseigné. Elle prend donc en argument une chaîne de caractères.\n",
    ">\n",
    ">La fonction `save` quant à elle s'applique à la place de `show` et permet de sauvegarder le dessin dans le fichier renseigné en argument de la fonction `output_file`. Par exemple:\n",
    "> ```py\n",
    "> from bokeh.plotting import figure\n",
    "> from bokeh.plotting import output_file\n",
    "> from bokeh.plotting import save\n",
    "> \n",
    "> # Précision du fichier où sauvegarder la figure\n",
    ">\n",
    "> ouput_file('figure.html')\n",
    ">\n",
    "> # Instanciation d'une figure\n",
    ">\n",
    "> p = figure(plot_width = 600, plot_height = 400)\n",
    ">\n",
    "> # Listes de coordonnées\n",
    ">\n",
    "> x = [1, 2, 3, 4, 5]  # abscisses de chaque point\n",
    "> y = [1, 2, 3, 4, 5]  # ordonnées de chaque point\n",
    ">\n",
    "> # Création d'une courbe de type 'line' dans la figure p\n",
    ">\n",
    "> p.line(x,    # abscisses\n",
    ">        y)    # ordonnées\n",
    ">      \n",
    "> # Sauvegarde de la figure p dans le fichier figure.html\n",
    ">\n",
    "> save(p) \n",
    ">```"
   ]
  },
  {
   "cell_type": "code",
   "execution_count": 13,
   "metadata": {
    "ExecuteTime": {
     "end_time": "2023-11-28T10:46:23.431430Z",
     "start_time": "2023-11-28T10:46:23.427676Z"
    },
    "collapsed": false,
    "jupyter": {
     "outputs_hidden": false
    }
   },
   "outputs": [],
   "source": [
    "from bokeh.plotting import figure\n",
    "from bokeh.plotting import output_file\n",
    "from bokeh.plotting import save\n",
    "\n",
    "# Précision du fichier où sauvegarder la figure\n",
    "output_file('figure.html')\n",
    "\n",
    "save(fig)"
   ]
  },
  {
   "cell_type": "code",
   "execution_count": null,
   "metadata": {
    "collapsed": false,
    "jupyter": {
     "outputs_hidden": false
    }
   },
   "outputs": [],
   "source": []
  }
 ],
 "metadata": {
  "hide_input": false,
  "kernelspec": {
   "display_name": "Python 3 (ipykernel)",
   "language": "python",
   "name": "python3"
  },
  "language_info": {
   "codemirror_mode": {
    "name": "ipython",
    "version": 3
   },
   "file_extension": ".py",
   "mimetype": "text/x-python",
   "name": "python",
   "nbconvert_exporter": "python",
   "pygments_lexer": "ipython3",
   "version": "3.10.11"
  },
  "latex_envs": {
   "LaTeX_envs_menu_present": true,
   "autoclose": false,
   "autocomplete": true,
   "bibliofile": "biblio.bib",
   "cite_by": "apalike",
   "current_citInitial": 1,
   "eqLabelWithNumbers": true,
   "eqNumInitial": 1,
   "hotkeys": {
    "equation": "Ctrl-E",
    "itemize": "Ctrl-I"
   },
   "labels_anchors": false,
   "latex_user_defs": false,
   "report_style_numbering": false,
   "user_envs_cfg": false
  },
  "n_questions": 1,
  "nbTranslate": {
   "displayLangs": [],
   "hotkey": "alt-t",
   "langInMainMenu": true,
   "sourceLang": "fr",
   "targetLang": "en",
   "useGoogleTranslate": true
  },
  "varInspector": {
   "cols": {
    "lenName": 16,
    "lenType": 16,
    "lenVar": 40
   },
   "kernels_config": {
    "python": {
     "delete_cmd_postfix": "",
     "delete_cmd_prefix": "del ",
     "library": "var_list.py",
     "varRefreshCmd": "print(var_dic_list())"
    },
    "r": {
     "delete_cmd_postfix": ") ",
     "delete_cmd_prefix": "rm(",
     "library": "var_list.r",
     "varRefreshCmd": "cat(var_dic_list()) "
    }
   },
   "types_to_exclude": [
    "module",
    "function",
    "builtin_function_or_method",
    "instance",
    "_Feature"
   ],
   "window_display": false
  }
 },
 "nbformat": 4,
 "nbformat_minor": 4
}
