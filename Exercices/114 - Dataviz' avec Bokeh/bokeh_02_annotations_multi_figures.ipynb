{
 "cells": [
  {
   "cell_type": "markdown",
   "metadata": {
    "deletable": false,
    "editable": false,
    "function": "preliminary",
    "question_id": 1,
    "run_control": {
     "frozen": true
    }
   },
   "source": [
    "<hr style=\"border-width:2px;border-color:#75DFC1\">\n",
    "<center><h1>Introduction à la visualisation de données avec bokeh</h1></center>\n",
    "<center><h2> Ajout de texte et annotations</h2></center>\n",
    "<hr style=\"border-width:2px;border-color:#75DFC1\">\n",
    "\n",
    "* Exécuter la cellule suivante pour importer les classes nécessaires et pouvoir afficher les graphiques <b>Bokeh</b> dans des cellules jupyter."
   ]
  },
  {
   "cell_type": "code",
   "execution_count": 2,
   "metadata": {
    "function": "preliminary",
    "question_id": 1,
    "ExecuteTime": {
     "end_time": "2023-11-28T09:46:47.058402Z",
     "start_time": "2023-11-28T09:46:47.053449Z"
    }
   },
   "outputs": [
    {
     "data": {
      "text/html": "<div class=\"bk-root\">\n        <a href=\"https://bokeh.org\" target=\"_blank\" class=\"bk-logo bk-logo-small bk-logo-notebook\"></a>\n        <span id=\"1003\">Loading BokehJS ...</span>\n    </div>\n"
     },
     "metadata": {},
     "output_type": "display_data"
    },
    {
     "data": {
      "application/javascript": "(function(root) {\n  function now() {\n    return new Date();\n  }\n\n  const force = true;\n\n  if (typeof root._bokeh_onload_callbacks === \"undefined\" || force === true) {\n    root._bokeh_onload_callbacks = [];\n    root._bokeh_is_loading = undefined;\n  }\n\nconst JS_MIME_TYPE = 'application/javascript';\n  const HTML_MIME_TYPE = 'text/html';\n  const EXEC_MIME_TYPE = 'application/vnd.bokehjs_exec.v0+json';\n  const CLASS_NAME = 'output_bokeh rendered_html';\n\n  /**\n   * Render data to the DOM node\n   */\n  function render(props, node) {\n    const script = document.createElement(\"script\");\n    node.appendChild(script);\n  }\n\n  /**\n   * Handle when an output is cleared or removed\n   */\n  function handleClearOutput(event, handle) {\n    const cell = handle.cell;\n\n    const id = cell.output_area._bokeh_element_id;\n    const server_id = cell.output_area._bokeh_server_id;\n    // Clean up Bokeh references\n    if (id != null && id in Bokeh.index) {\n      Bokeh.index[id].model.document.clear();\n      delete Bokeh.index[id];\n    }\n\n    if (server_id !== undefined) {\n      // Clean up Bokeh references\n      const cmd_clean = \"from bokeh.io.state import curstate; print(curstate().uuid_to_server['\" + server_id + \"'].get_sessions()[0].document.roots[0]._id)\";\n      cell.notebook.kernel.execute(cmd_clean, {\n        iopub: {\n          output: function(msg) {\n            const id = msg.content.text.trim();\n            if (id in Bokeh.index) {\n              Bokeh.index[id].model.document.clear();\n              delete Bokeh.index[id];\n            }\n          }\n        }\n      });\n      // Destroy server and session\n      const cmd_destroy = \"import bokeh.io.notebook as ion; ion.destroy_server('\" + server_id + \"')\";\n      cell.notebook.kernel.execute(cmd_destroy);\n    }\n  }\n\n  /**\n   * Handle when a new output is added\n   */\n  function handleAddOutput(event, handle) {\n    const output_area = handle.output_area;\n    const output = handle.output;\n\n    // limit handleAddOutput to display_data with EXEC_MIME_TYPE content only\n    if ((output.output_type != \"display_data\") || (!Object.prototype.hasOwnProperty.call(output.data, EXEC_MIME_TYPE))) {\n      return\n    }\n\n    const toinsert = output_area.element.find(\".\" + CLASS_NAME.split(' ')[0]);\n\n    if (output.metadata[EXEC_MIME_TYPE][\"id\"] !== undefined) {\n      toinsert[toinsert.length - 1].firstChild.textContent = output.data[JS_MIME_TYPE];\n      // store reference to embed id on output_area\n      output_area._bokeh_element_id = output.metadata[EXEC_MIME_TYPE][\"id\"];\n    }\n    if (output.metadata[EXEC_MIME_TYPE][\"server_id\"] !== undefined) {\n      const bk_div = document.createElement(\"div\");\n      bk_div.innerHTML = output.data[HTML_MIME_TYPE];\n      const script_attrs = bk_div.children[0].attributes;\n      for (let i = 0; i < script_attrs.length; i++) {\n        toinsert[toinsert.length - 1].firstChild.setAttribute(script_attrs[i].name, script_attrs[i].value);\n        toinsert[toinsert.length - 1].firstChild.textContent = bk_div.children[0].textContent\n      }\n      // store reference to server id on output_area\n      output_area._bokeh_server_id = output.metadata[EXEC_MIME_TYPE][\"server_id\"];\n    }\n  }\n\n  function register_renderer(events, OutputArea) {\n\n    function append_mime(data, metadata, element) {\n      // create a DOM node to render to\n      const toinsert = this.create_output_subarea(\n        metadata,\n        CLASS_NAME,\n        EXEC_MIME_TYPE\n      );\n      this.keyboard_manager.register_events(toinsert);\n      // Render to node\n      const props = {data: data, metadata: metadata[EXEC_MIME_TYPE]};\n      render(props, toinsert[toinsert.length - 1]);\n      element.append(toinsert);\n      return toinsert\n    }\n\n    /* Handle when an output is cleared or removed */\n    events.on('clear_output.CodeCell', handleClearOutput);\n    events.on('delete.Cell', handleClearOutput);\n\n    /* Handle when a new output is added */\n    events.on('output_added.OutputArea', handleAddOutput);\n\n    /**\n     * Register the mime type and append_mime function with output_area\n     */\n    OutputArea.prototype.register_mime_type(EXEC_MIME_TYPE, append_mime, {\n      /* Is output safe? */\n      safe: true,\n      /* Index of renderer in `output_area.display_order` */\n      index: 0\n    });\n  }\n\n  // register the mime type if in Jupyter Notebook environment and previously unregistered\n  if (root.Jupyter !== undefined) {\n    const events = require('base/js/events');\n    const OutputArea = require('notebook/js/outputarea').OutputArea;\n\n    if (OutputArea.prototype.mime_types().indexOf(EXEC_MIME_TYPE) == -1) {\n      register_renderer(events, OutputArea);\n    }\n  }\n  if (typeof (root._bokeh_timeout) === \"undefined\" || force === true) {\n    root._bokeh_timeout = Date.now() + 5000;\n    root._bokeh_failed_load = false;\n  }\n\n  const NB_LOAD_WARNING = {'data': {'text/html':\n     \"<div style='background-color: #fdd'>\\n\"+\n     \"<p>\\n\"+\n     \"BokehJS does not appear to have successfully loaded. If loading BokehJS from CDN, this \\n\"+\n     \"may be due to a slow or bad network connection. Possible fixes:\\n\"+\n     \"</p>\\n\"+\n     \"<ul>\\n\"+\n     \"<li>re-rerun `output_notebook()` to attempt to load from CDN again, or</li>\\n\"+\n     \"<li>use INLINE resources instead, as so:</li>\\n\"+\n     \"</ul>\\n\"+\n     \"<code>\\n\"+\n     \"from bokeh.resources import INLINE\\n\"+\n     \"output_notebook(resources=INLINE)\\n\"+\n     \"</code>\\n\"+\n     \"</div>\"}};\n\n  function display_loaded() {\n    const el = document.getElementById(\"1003\");\n    if (el != null) {\n      el.textContent = \"BokehJS is loading...\";\n    }\n    if (root.Bokeh !== undefined) {\n      if (el != null) {\n        el.textContent = \"BokehJS \" + root.Bokeh.version + \" successfully loaded.\";\n      }\n    } else if (Date.now() < root._bokeh_timeout) {\n      setTimeout(display_loaded, 100)\n    }\n  }\n\n  function run_callbacks() {\n    try {\n      root._bokeh_onload_callbacks.forEach(function(callback) {\n        if (callback != null)\n          callback();\n      });\n    } finally {\n      delete root._bokeh_onload_callbacks\n    }\n    console.debug(\"Bokeh: all callbacks have finished\");\n  }\n\n  function load_libs(css_urls, js_urls, callback) {\n    if (css_urls == null) css_urls = [];\n    if (js_urls == null) js_urls = [];\n\n    root._bokeh_onload_callbacks.push(callback);\n    if (root._bokeh_is_loading > 0) {\n      console.debug(\"Bokeh: BokehJS is being loaded, scheduling callback at\", now());\n      return null;\n    }\n    if (js_urls == null || js_urls.length === 0) {\n      run_callbacks();\n      return null;\n    }\n    console.debug(\"Bokeh: BokehJS not loaded, scheduling load and callback at\", now());\n    root._bokeh_is_loading = css_urls.length + js_urls.length;\n\n    function on_load() {\n      root._bokeh_is_loading--;\n      if (root._bokeh_is_loading === 0) {\n        console.debug(\"Bokeh: all BokehJS libraries/stylesheets loaded\");\n        run_callbacks()\n      }\n    }\n\n    function on_error(url) {\n      console.error(\"failed to load \" + url);\n    }\n\n    for (let i = 0; i < css_urls.length; i++) {\n      const url = css_urls[i];\n      const element = document.createElement(\"link\");\n      element.onload = on_load;\n      element.onerror = on_error.bind(null, url);\n      element.rel = \"stylesheet\";\n      element.type = \"text/css\";\n      element.href = url;\n      console.debug(\"Bokeh: injecting link tag for BokehJS stylesheet: \", url);\n      document.body.appendChild(element);\n    }\n\n    for (let i = 0; i < js_urls.length; i++) {\n      const url = js_urls[i];\n      const element = document.createElement('script');\n      element.onload = on_load;\n      element.onerror = on_error.bind(null, url);\n      element.async = false;\n      element.src = url;\n      console.debug(\"Bokeh: injecting script tag for BokehJS library: \", url);\n      document.head.appendChild(element);\n    }\n  };\n\n  function inject_raw_css(css) {\n    const element = document.createElement(\"style\");\n    element.appendChild(document.createTextNode(css));\n    document.body.appendChild(element);\n  }\n\n  const js_urls = [\"https://cdn.bokeh.org/bokeh/release/bokeh-2.4.3.min.js\", \"https://cdn.bokeh.org/bokeh/release/bokeh-gl-2.4.3.min.js\", \"https://cdn.bokeh.org/bokeh/release/bokeh-widgets-2.4.3.min.js\", \"https://cdn.bokeh.org/bokeh/release/bokeh-tables-2.4.3.min.js\", \"https://cdn.bokeh.org/bokeh/release/bokeh-mathjax-2.4.3.min.js\"];\n  const css_urls = [];\n\n  const inline_js = [    function(Bokeh) {\n      Bokeh.set_log_level(\"info\");\n    },\nfunction(Bokeh) {\n    }\n  ];\n\n  function run_inline_js() {\n    if (root.Bokeh !== undefined || force === true) {\n          for (let i = 0; i < inline_js.length; i++) {\n      inline_js[i].call(root, root.Bokeh);\n    }\nif (force === true) {\n        display_loaded();\n      }} else if (Date.now() < root._bokeh_timeout) {\n      setTimeout(run_inline_js, 100);\n    } else if (!root._bokeh_failed_load) {\n      console.log(\"Bokeh: BokehJS failed to load within specified timeout.\");\n      root._bokeh_failed_load = true;\n    } else if (force !== true) {\n      const cell = $(document.getElementById(\"1003\")).parents('.cell').data().cell;\n      cell.output_area.append_execute_result(NB_LOAD_WARNING)\n    }\n  }\n\n  if (root._bokeh_is_loading === 0) {\n    console.debug(\"Bokeh: BokehJS loaded, going straight to plotting\");\n    run_inline_js();\n  } else {\n    load_libs(css_urls, js_urls, function() {\n      console.debug(\"Bokeh: BokehJS plotting callback run at\", now());\n      run_inline_js();\n    });\n  }\n}(window));",
      "application/vnd.bokehjs_load.v0+json": "(function(root) {\n  function now() {\n    return new Date();\n  }\n\n  const force = true;\n\n  if (typeof root._bokeh_onload_callbacks === \"undefined\" || force === true) {\n    root._bokeh_onload_callbacks = [];\n    root._bokeh_is_loading = undefined;\n  }\n\n\n  if (typeof (root._bokeh_timeout) === \"undefined\" || force === true) {\n    root._bokeh_timeout = Date.now() + 5000;\n    root._bokeh_failed_load = false;\n  }\n\n  const NB_LOAD_WARNING = {'data': {'text/html':\n     \"<div style='background-color: #fdd'>\\n\"+\n     \"<p>\\n\"+\n     \"BokehJS does not appear to have successfully loaded. If loading BokehJS from CDN, this \\n\"+\n     \"may be due to a slow or bad network connection. Possible fixes:\\n\"+\n     \"</p>\\n\"+\n     \"<ul>\\n\"+\n     \"<li>re-rerun `output_notebook()` to attempt to load from CDN again, or</li>\\n\"+\n     \"<li>use INLINE resources instead, as so:</li>\\n\"+\n     \"</ul>\\n\"+\n     \"<code>\\n\"+\n     \"from bokeh.resources import INLINE\\n\"+\n     \"output_notebook(resources=INLINE)\\n\"+\n     \"</code>\\n\"+\n     \"</div>\"}};\n\n  function display_loaded() {\n    const el = document.getElementById(\"1003\");\n    if (el != null) {\n      el.textContent = \"BokehJS is loading...\";\n    }\n    if (root.Bokeh !== undefined) {\n      if (el != null) {\n        el.textContent = \"BokehJS \" + root.Bokeh.version + \" successfully loaded.\";\n      }\n    } else if (Date.now() < root._bokeh_timeout) {\n      setTimeout(display_loaded, 100)\n    }\n  }\n\n  function run_callbacks() {\n    try {\n      root._bokeh_onload_callbacks.forEach(function(callback) {\n        if (callback != null)\n          callback();\n      });\n    } finally {\n      delete root._bokeh_onload_callbacks\n    }\n    console.debug(\"Bokeh: all callbacks have finished\");\n  }\n\n  function load_libs(css_urls, js_urls, callback) {\n    if (css_urls == null) css_urls = [];\n    if (js_urls == null) js_urls = [];\n\n    root._bokeh_onload_callbacks.push(callback);\n    if (root._bokeh_is_loading > 0) {\n      console.debug(\"Bokeh: BokehJS is being loaded, scheduling callback at\", now());\n      return null;\n    }\n    if (js_urls == null || js_urls.length === 0) {\n      run_callbacks();\n      return null;\n    }\n    console.debug(\"Bokeh: BokehJS not loaded, scheduling load and callback at\", now());\n    root._bokeh_is_loading = css_urls.length + js_urls.length;\n\n    function on_load() {\n      root._bokeh_is_loading--;\n      if (root._bokeh_is_loading === 0) {\n        console.debug(\"Bokeh: all BokehJS libraries/stylesheets loaded\");\n        run_callbacks()\n      }\n    }\n\n    function on_error(url) {\n      console.error(\"failed to load \" + url);\n    }\n\n    for (let i = 0; i < css_urls.length; i++) {\n      const url = css_urls[i];\n      const element = document.createElement(\"link\");\n      element.onload = on_load;\n      element.onerror = on_error.bind(null, url);\n      element.rel = \"stylesheet\";\n      element.type = \"text/css\";\n      element.href = url;\n      console.debug(\"Bokeh: injecting link tag for BokehJS stylesheet: \", url);\n      document.body.appendChild(element);\n    }\n\n    for (let i = 0; i < js_urls.length; i++) {\n      const url = js_urls[i];\n      const element = document.createElement('script');\n      element.onload = on_load;\n      element.onerror = on_error.bind(null, url);\n      element.async = false;\n      element.src = url;\n      console.debug(\"Bokeh: injecting script tag for BokehJS library: \", url);\n      document.head.appendChild(element);\n    }\n  };\n\n  function inject_raw_css(css) {\n    const element = document.createElement(\"style\");\n    element.appendChild(document.createTextNode(css));\n    document.body.appendChild(element);\n  }\n\n  const js_urls = [\"https://cdn.bokeh.org/bokeh/release/bokeh-2.4.3.min.js\", \"https://cdn.bokeh.org/bokeh/release/bokeh-gl-2.4.3.min.js\", \"https://cdn.bokeh.org/bokeh/release/bokeh-widgets-2.4.3.min.js\", \"https://cdn.bokeh.org/bokeh/release/bokeh-tables-2.4.3.min.js\", \"https://cdn.bokeh.org/bokeh/release/bokeh-mathjax-2.4.3.min.js\"];\n  const css_urls = [];\n\n  const inline_js = [    function(Bokeh) {\n      Bokeh.set_log_level(\"info\");\n    },\nfunction(Bokeh) {\n    }\n  ];\n\n  function run_inline_js() {\n    if (root.Bokeh !== undefined || force === true) {\n          for (let i = 0; i < inline_js.length; i++) {\n      inline_js[i].call(root, root.Bokeh);\n    }\nif (force === true) {\n        display_loaded();\n      }} else if (Date.now() < root._bokeh_timeout) {\n      setTimeout(run_inline_js, 100);\n    } else if (!root._bokeh_failed_load) {\n      console.log(\"Bokeh: BokehJS failed to load within specified timeout.\");\n      root._bokeh_failed_load = true;\n    } else if (force !== true) {\n      const cell = $(document.getElementById(\"1003\")).parents('.cell').data().cell;\n      cell.output_area.append_execute_result(NB_LOAD_WARNING)\n    }\n  }\n\n  if (root._bokeh_is_loading === 0) {\n    console.debug(\"Bokeh: BokehJS loaded, going straight to plotting\");\n    run_inline_js();\n  } else {\n    load_libs(css_urls, js_urls, function() {\n      console.debug(\"Bokeh: BokehJS plotting callback run at\", now());\n      run_inline_js();\n    });\n  }\n}(window));"
     },
     "metadata": {},
     "output_type": "display_data"
    }
   ],
   "source": [
    "import warnings\n",
    "warnings.filterwarnings(\"ignore\")\n",
    "# Importation des fonctions dont on se servira pour toutes les figures\n",
    "\n",
    "from bokeh.plotting import figure, output_notebook, show\n",
    "\n",
    "# Précision de l'affichage des graphiques dans des cellules jupyter\n",
    "\n",
    "output_notebook()"
   ]
  },
  {
   "cell_type": "markdown",
   "metadata": {
    "deletable": false,
    "editable": false,
    "function": "preliminary",
    "question_id": 1,
    "run_control": {
     "frozen": true
    }
   },
   "source": [
    "> Il est parfois utile d'ajouter des repères visuels et des annotations aux graphiques. **Bokeh** fournit plusieurs types d'annotation dans son <br> sous-module **bokeh.models.annotations**. \n",
    ">\n",
    ">\n",
    "> \n",
    "### La classe `Span`\n",
    ">\n",
    "> La classe **Span** permet de créer des lignes verticales ou horizontales \"infinies\". Lors de l'instanciation d'un **Span**, il faut indiquer la position voulue, c'est-à-dire sa coordonnée sur l'axe spécifié, en argument du paramètre `location`. \n",
    "Il faut aussi spécifier si la ligne s'étend sur la longueur (`'width'`) ou la largeur  (`'height'`) dans l'argument `dimension`.\n",
    ">\n",
    "> Il est aussi possible de spécifier quelques propriétés visuelles pour l'apparence des lignes grâce aux paramètres:\n",
    "> - `line_color` pour la couleur de la ligne: `'red'`, `'blue'` etc...\n",
    "> - `line_width` pour l'épaisseur de la ligne.\n",
    "> - `line_alpha` pour l'opacité de la ligne.\n",
    "> Vous pouvez trouver tous les arguments disponibles pour les **Span** [ici](https://bokeh.pydata.org/en/latest/docs/reference/models/annotations.html#bokeh.models.annotations.Span).\n",
    ">\n",
    "> Pour ajouter un **Span** à une `figure` **`p`** il suffit d'appliquer la méthode `add_layout` de **`p`** avec le **Span** en argument. De manière générale, pour ajouter une annotation, il faut suivre la même procédure:\n",
    ">\n",
    ">\n",
    "> ```py\n",
    "    s = Span(dimension = 'width',     # 'width' : orientation horizontale/ 'height' : orientation verticale\n",
    "             location = 5,            # Pour une ligne horizontale, location est la position en ordonnée\n",
    "             line_color = 'blue')   \n",
    "        ```\n",
    "> ```py\n",
    "    p.add_layout(s)                   # Ajout du Span dans les annotations de la figure\n",
    "    ```\n",
    "\n",
    "* Charger le package **NumPy** sous l'abréviation **`np`**.\n",
    "\n",
    "\n",
    "* Importer la classe `Span` depuis le sous-module `bokeh.models.annotations`.\n",
    "\n",
    "\n",
    "* Instancier une figure de largeur 600, hauteur 400 et délimiter l'axe des ordonnées à l'intervalle $[-2, 2]$. Le paramètre correspondant à la délimitation sur l'axe des ordonnées est `y_range` qui prend en argument un *couple* de valeurs.\n",
    "\n",
    "\n",
    "* Créer une suite `x` de 500 valeurs entre -20 et 20 en utilisant la fonction `linspace` du module **NumPy**.\n",
    "\n",
    "\n",
    "* Tracer la courbe correspondant à l'image de la suite `x` par la fonction $\\arctan$. Cette fonction peut se trouver dans le module **NumPy**, de même que la constante $\\pi$.\n",
    "\n",
    "\n",
    "* Ajouter deux asymptotes horizontales, une définie par l'équation $y=\\dfrac{\\pi}{2}$ et l'autre par l'équation $y=-\\dfrac{\\pi}{2}$ en choisissant deux couleurs différentes.\n",
    "\n",
    "\n",
    "* Afficher la figure."
   ]
  },
  {
   "cell_type": "code",
   "execution_count": null,
   "outputs": [],
   "source": [
    "### Insérez votre code ici\n",
    "\n"
   ],
   "metadata": {
    "collapsed": false
   }
  },
  {
   "cell_type": "code",
   "execution_count": 3,
   "metadata": {
    "function": "submission",
    "question_id": 1,
    "ExecuteTime": {
     "end_time": "2023-11-28T09:46:56.853749Z",
     "start_time": "2023-11-28T09:46:56.831835Z"
    }
   },
   "outputs": [
    {
     "data": {
      "text/html": "\n  <div class=\"bk-root\" id=\"3f3ad901-6d69-408a-84a3-66d578b83a1a\" data-root-id=\"1004\"></div>\n"
     },
     "metadata": {},
     "output_type": "display_data"
    },
    {
     "data": {
      "application/javascript": "(function(root) {\n  function embed_document(root) {\n  const docs_json = {\"4b09524e-71d2-4b80-91c7-7284ce1afd4f\":{\"defs\":[],\"roots\":{\"references\":[{\"attributes\":{\"below\":[{\"id\":\"1013\"}],\"center\":[{\"id\":\"1016\"},{\"id\":\"1020\"},{\"id\":\"1041\"},{\"id\":\"1042\"}],\"height\":400,\"left\":[{\"id\":\"1017\"}],\"renderers\":[{\"id\":\"1039\"}],\"title\":{\"id\":\"1043\"},\"toolbar\":{\"id\":\"1028\"},\"x_range\":{\"id\":\"1005\"},\"x_scale\":{\"id\":\"1009\"},\"y_range\":{\"id\":\"1007\"},\"y_scale\":{\"id\":\"1011\"}},\"id\":\"1004\",\"subtype\":\"Figure\",\"type\":\"Plot\"},{\"attributes\":{},\"id\":\"1011\",\"type\":\"LinearScale\"},{\"attributes\":{\"end\":2,\"start\":-2},\"id\":\"1007\",\"type\":\"Range1d\"},{\"attributes\":{\"line_alpha\":0.2,\"line_color\":\"#1f77b4\",\"x\":{\"field\":\"x\"},\"y\":{\"field\":\"y\"}},\"id\":\"1038\",\"type\":\"Line\"},{\"attributes\":{},\"id\":\"1014\",\"type\":\"BasicTicker\"},{\"attributes\":{},\"id\":\"1018\",\"type\":\"BasicTicker\"},{\"attributes\":{},\"id\":\"1047\",\"type\":\"AllLabels\"},{\"attributes\":{},\"id\":\"1052\",\"type\":\"Selection\"},{\"attributes\":{\"coordinates\":null,\"group\":null,\"line_color\":\"blue\",\"location\":1.5707963267948966},\"id\":\"1041\",\"type\":\"Span\"},{\"attributes\":{},\"id\":\"1046\",\"type\":\"BasicTickFormatter\"},{\"attributes\":{\"axis\":{\"id\":\"1017\"},\"coordinates\":null,\"dimension\":1,\"group\":null,\"ticker\":null},\"id\":\"1020\",\"type\":\"Grid\"},{\"attributes\":{},\"id\":\"1025\",\"type\":\"ResetTool\"},{\"attributes\":{},\"id\":\"1050\",\"type\":\"AllLabels\"},{\"attributes\":{\"axis_label_standoff\":10,\"axis_label_text_color\":\"#5B5B5B\",\"axis_label_text_font\":\"Calibri Light\",\"axis_label_text_font_size\":\"1.15em\",\"axis_label_text_font_style\":\"bold\",\"axis_line_alpha\":1,\"axis_line_color\":\"#5B5B5B\",\"coordinates\":null,\"formatter\":{\"id\":\"1049\"},\"group\":null,\"major_label_policy\":{\"id\":\"1050\"},\"major_label_text_color\":\"#5B5B5B\",\"major_label_text_font\":\"Calibri Light\",\"major_label_text_font_size\":\"0.95em\",\"major_label_text_font_style\":\"bold\",\"major_tick_in\":0,\"major_tick_line_alpha\":0.25,\"major_tick_line_color\":\"#5B5B5B\",\"major_tick_out\":3,\"minor_tick_line_alpha\":0.25,\"minor_tick_line_color\":\"#5B5B5B\",\"ticker\":{\"id\":\"1014\"}},\"id\":\"1013\",\"type\":\"LinearAxis\"},{\"attributes\":{},\"id\":\"1024\",\"type\":\"SaveTool\"},{\"attributes\":{},\"id\":\"1009\",\"type\":\"LinearScale\"},{\"attributes\":{\"data\":{\"x\":{\"__ndarray__\":\"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\",\"dtype\":\"float64\",\"order\":\"little\",\"shape\":[500]},\"y\":{\"__ndarray__\":\"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\",\"dtype\":\"float64\",\"order\":\"little\",\"shape\":[500]}},\"selected\":{\"id\":\"1052\"},\"selection_policy\":{\"id\":\"1051\"}},\"id\":\"1035\",\"type\":\"ColumnDataSource\"},{\"attributes\":{\"overlay\":{\"id\":\"1027\"}},\"id\":\"1023\",\"type\":\"BoxZoomTool\"},{\"attributes\":{\"coordinates\":null,\"data_source\":{\"id\":\"1035\"},\"glyph\":{\"id\":\"1036\"},\"group\":null,\"hover_glyph\":null,\"muted_glyph\":{\"id\":\"1038\"},\"nonselection_glyph\":{\"id\":\"1037\"},\"view\":{\"id\":\"1040\"}},\"id\":\"1039\",\"type\":\"GlyphRenderer\"},{\"attributes\":{},\"id\":\"1022\",\"type\":\"WheelZoomTool\"},{\"attributes\":{},\"id\":\"1021\",\"type\":\"PanTool\"},{\"attributes\":{},\"id\":\"1026\",\"type\":\"HelpTool\"},{\"attributes\":{\"source\":{\"id\":\"1035\"}},\"id\":\"1040\",\"type\":\"CDSView\"},{\"attributes\":{\"axis_label_standoff\":10,\"axis_label_text_color\":\"#5B5B5B\",\"axis_label_text_font\":\"Calibri Light\",\"axis_label_text_font_size\":\"1.15em\",\"axis_label_text_font_style\":\"bold\",\"axis_line_alpha\":1,\"axis_line_color\":\"#5B5B5B\",\"coordinates\":null,\"formatter\":{\"id\":\"1046\"},\"group\":null,\"major_label_policy\":{\"id\":\"1047\"},\"major_label_text_color\":\"#5B5B5B\",\"major_label_text_font\":\"Calibri Light\",\"major_label_text_font_size\":\"0.95em\",\"major_label_text_font_style\":\"bold\",\"major_tick_in\":0,\"major_tick_line_alpha\":0.25,\"major_tick_line_color\":\"#5B5B5B\",\"major_tick_out\":3,\"minor_tick_line_alpha\":0.25,\"minor_tick_line_color\":\"#5B5B5B\",\"ticker\":{\"id\":\"1018\"}},\"id\":\"1017\",\"type\":\"LinearAxis\"},{\"attributes\":{\"coordinates\":null,\"group\":null,\"line_color\":\"red\",\"location\":-1.5707963267948966},\"id\":\"1042\",\"type\":\"Span\"},{\"attributes\":{\"coordinates\":null,\"group\":null,\"text_color\":\"#5B5B5B\",\"text_font\":\"Calibri Light\",\"text_font_size\":\"1.25em\",\"text_font_style\":\"bold\"},\"id\":\"1043\",\"type\":\"Title\"},{\"attributes\":{\"bottom_units\":\"screen\",\"coordinates\":null,\"fill_alpha\":0.5,\"fill_color\":\"lightgrey\",\"group\":null,\"left_units\":\"screen\",\"level\":\"overlay\",\"line_alpha\":1.0,\"line_color\":\"black\",\"line_dash\":[4,4],\"line_width\":2,\"right_units\":\"screen\",\"syncable\":false,\"top_units\":\"screen\"},\"id\":\"1027\",\"type\":\"BoxAnnotation\"},{\"attributes\":{\"tools\":[{\"id\":\"1021\"},{\"id\":\"1022\"},{\"id\":\"1023\"},{\"id\":\"1024\"},{\"id\":\"1025\"},{\"id\":\"1026\"}]},\"id\":\"1028\",\"type\":\"Toolbar\"},{\"attributes\":{\"axis\":{\"id\":\"1013\"},\"coordinates\":null,\"group\":null,\"ticker\":null},\"id\":\"1016\",\"type\":\"Grid\"},{\"attributes\":{\"line_color\":\"#1f77b4\",\"x\":{\"field\":\"x\"},\"y\":{\"field\":\"y\"}},\"id\":\"1036\",\"type\":\"Line\"},{\"attributes\":{},\"id\":\"1005\",\"type\":\"DataRange1d\"},{\"attributes\":{},\"id\":\"1051\",\"type\":\"UnionRenderers\"},{\"attributes\":{},\"id\":\"1049\",\"type\":\"BasicTickFormatter\"},{\"attributes\":{\"line_alpha\":0.1,\"line_color\":\"#1f77b4\",\"x\":{\"field\":\"x\"},\"y\":{\"field\":\"y\"}},\"id\":\"1037\",\"type\":\"Line\"}],\"root_ids\":[\"1004\"]},\"title\":\"Bokeh Application\",\"version\":\"2.4.3\"}};\n  const render_items = [{\"docid\":\"4b09524e-71d2-4b80-91c7-7284ce1afd4f\",\"root_ids\":[\"1004\"],\"roots\":{\"1004\":\"3f3ad901-6d69-408a-84a3-66d578b83a1a\"}}];\n  root.Bokeh.embed.embed_items_notebook(docs_json, render_items);\n  }\n  if (root.Bokeh !== undefined) {\n    embed_document(root);\n  } else {\n    let attempts = 0;\n    const timer = setInterval(function(root) {\n      if (root.Bokeh !== undefined) {\n        clearInterval(timer);\n        embed_document(root);\n      } else {\n        attempts++;\n        if (attempts > 100) {\n          clearInterval(timer);\n          console.log(\"Bokeh: ERROR: Unable to run BokehJS code because BokehJS library is missing\");\n        }\n      }\n    }, 10, root)\n  }\n})(window);",
      "application/vnd.bokehjs_exec.v0+json": ""
     },
     "metadata": {
      "application/vnd.bokehjs_exec.v0+json": {
       "id": "1004"
      }
     },
     "output_type": "display_data"
    }
   ],
   "source": []
  },
  {
   "cell_type": "markdown",
   "metadata": {
    "deletable": false,
    "editable": false,
    "function": "preliminary",
    "question_id": 1,
    "run_control": {
     "frozen": true
    }
   },
   "source": [
    "### La classe `BoxAnnotation`\n",
    "\n",
    "> Pour mettre en évidence une partie d'un graphique ou d'une figure, on utilise en général une annotation appelée *boîte ombrée.*\n",
    ">\n",
    "> Une boîte ombrée est une instance de la classe `BoxAnnotation`. Cette classe permet d'afficher une forme rectangulaire sur une figure. Lors de l'instanciation d'une boîte ombrée, il est possible de préciser les paramètres `bottom`, `left`, `right` et `top` qui définissent les limites de la boîte sur les axes des abscisses et ordonnées. Par défaut quand une de ces limites n'est pas indiquée, le reste de la figure est inclus dans la boîte. \n",
    "\n",
    "<div class=\"alert alert-success\">\n",
    "<i class=\"fa fa-question-circle\"></i> &emsp; \n",
    "    Par exemple, si le paramètre <code style = \"background-color: transparent ; color : inherit\">top</code> n'est pas précisé, le paramètre <code style = \"background-color: transparent ; color : inherit\">bottom</code> vaut 0 et que les autres paramètres sont spécifiés, la boîte ombrée s'étendra sur toute la partie positive de l'axe des ordonnées.\n",
    "</div>\n",
    "\n",
    "* Exécuter le code suivant pour visualiser une première boîte ombrée."
   ]
  },
  {
   "cell_type": "code",
   "execution_count": 5,
   "metadata": {
    "ExecuteTime": {
     "end_time": "2023-11-28T09:47:28.291846Z",
     "start_time": "2023-11-28T09:47:28.265216Z"
    }
   },
   "outputs": [
    {
     "data": {
      "text/html": "\n  <div class=\"bk-root\" id=\"572bf9a9-866e-4f3b-acf6-ea9e1957bcc7\" data-root-id=\"1225\"></div>\n"
     },
     "metadata": {},
     "output_type": "display_data"
    },
    {
     "data": {
      "application/javascript": "(function(root) {\n  function embed_document(root) {\n  const docs_json = {\"5f28a34a-682a-460b-b905-35d2ad09d3d4\":{\"defs\":[],\"roots\":{\"references\":[{\"attributes\":{\"below\":[{\"id\":\"1234\"}],\"center\":[{\"id\":\"1237\"},{\"id\":\"1241\"},{\"id\":\"1256\"}],\"height\":400,\"left\":[{\"id\":\"1238\"}],\"title\":{\"id\":\"1279\"},\"toolbar\":{\"id\":\"1249\"},\"x_range\":{\"id\":\"1226\"},\"x_scale\":{\"id\":\"1230\"},\"y_range\":{\"id\":\"1228\"},\"y_scale\":{\"id\":\"1232\"}},\"id\":\"1225\",\"subtype\":\"Figure\",\"type\":\"Plot\"},{\"attributes\":{\"end\":10,\"start\":-10},\"id\":\"1226\",\"type\":\"Range1d\"},{\"attributes\":{\"tools\":[{\"id\":\"1242\"},{\"id\":\"1243\"},{\"id\":\"1244\"},{\"id\":\"1245\"},{\"id\":\"1246\"},{\"id\":\"1247\"}]},\"id\":\"1249\",\"type\":\"Toolbar\"},{\"attributes\":{},\"id\":\"1245\",\"type\":\"SaveTool\"},{\"attributes\":{},\"id\":\"1282\",\"type\":\"BasicTickFormatter\"},{\"attributes\":{\"overlay\":{\"id\":\"1248\"}},\"id\":\"1244\",\"type\":\"BoxZoomTool\"},{\"attributes\":{},\"id\":\"1283\",\"type\":\"AllLabels\"},{\"attributes\":{},\"id\":\"1246\",\"type\":\"ResetTool\"},{\"attributes\":{},\"id\":\"1243\",\"type\":\"WheelZoomTool\"},{\"attributes\":{\"bottom_units\":\"screen\",\"coordinates\":null,\"fill_alpha\":0.5,\"fill_color\":\"lightgrey\",\"group\":null,\"left_units\":\"screen\",\"level\":\"overlay\",\"line_alpha\":1.0,\"line_color\":\"black\",\"line_dash\":[4,4],\"line_width\":2,\"right_units\":\"screen\",\"syncable\":false,\"top_units\":\"screen\"},\"id\":\"1248\",\"type\":\"BoxAnnotation\"},{\"attributes\":{},\"id\":\"1242\",\"type\":\"PanTool\"},{\"attributes\":{},\"id\":\"1239\",\"type\":\"BasicTicker\"},{\"attributes\":{\"end\":20,\"start\":-5},\"id\":\"1228\",\"type\":\"Range1d\"},{\"attributes\":{\"axis\":{\"id\":\"1234\"},\"coordinates\":null,\"group\":null,\"ticker\":null},\"id\":\"1237\",\"type\":\"Grid\"},{\"attributes\":{},\"id\":\"1230\",\"type\":\"LinearScale\"},{\"attributes\":{\"axis_label_standoff\":10,\"axis_label_text_color\":\"#5B5B5B\",\"axis_label_text_font\":\"Calibri Light\",\"axis_label_text_font_size\":\"1.15em\",\"axis_label_text_font_style\":\"bold\",\"axis_line_alpha\":1,\"axis_line_color\":\"#5B5B5B\",\"coordinates\":null,\"formatter\":{\"id\":\"1282\"},\"group\":null,\"major_label_policy\":{\"id\":\"1283\"},\"major_label_text_color\":\"#5B5B5B\",\"major_label_text_font\":\"Calibri Light\",\"major_label_text_font_size\":\"0.95em\",\"major_label_text_font_style\":\"bold\",\"major_tick_in\":0,\"major_tick_line_alpha\":0.25,\"major_tick_line_color\":\"#5B5B5B\",\"major_tick_out\":3,\"minor_tick_line_alpha\":0.25,\"minor_tick_line_color\":\"#5B5B5B\",\"ticker\":{\"id\":\"1239\"}},\"id\":\"1238\",\"type\":\"LinearAxis\"},{\"attributes\":{\"axis_label_standoff\":10,\"axis_label_text_color\":\"#5B5B5B\",\"axis_label_text_font\":\"Calibri Light\",\"axis_label_text_font_size\":\"1.15em\",\"axis_label_text_font_style\":\"bold\",\"axis_line_alpha\":1,\"axis_line_color\":\"#5B5B5B\",\"coordinates\":null,\"formatter\":{\"id\":\"1285\"},\"group\":null,\"major_label_policy\":{\"id\":\"1286\"},\"major_label_text_color\":\"#5B5B5B\",\"major_label_text_font\":\"Calibri Light\",\"major_label_text_font_size\":\"0.95em\",\"major_label_text_font_style\":\"bold\",\"major_tick_in\":0,\"major_tick_line_alpha\":0.25,\"major_tick_line_color\":\"#5B5B5B\",\"major_tick_out\":3,\"minor_tick_line_alpha\":0.25,\"minor_tick_line_color\":\"#5B5B5B\",\"ticker\":{\"id\":\"1235\"}},\"id\":\"1234\",\"type\":\"LinearAxis\"},{\"attributes\":{},\"id\":\"1247\",\"type\":\"HelpTool\"},{\"attributes\":{},\"id\":\"1232\",\"type\":\"LinearScale\"},{\"attributes\":{\"axis\":{\"id\":\"1238\"},\"coordinates\":null,\"dimension\":1,\"group\":null,\"ticker\":null},\"id\":\"1241\",\"type\":\"Grid\"},{\"attributes\":{\"coordinates\":null,\"group\":null,\"text_color\":\"#5B5B5B\",\"text_font\":\"Calibri Light\",\"text_font_size\":\"1.25em\",\"text_font_style\":\"bold\"},\"id\":\"1279\",\"type\":\"Title\"},{\"attributes\":{},\"id\":\"1235\",\"type\":\"BasicTicker\"},{\"attributes\":{},\"id\":\"1286\",\"type\":\"AllLabels\"},{\"attributes\":{\"bottom\":0,\"coordinates\":null,\"fill_color\":\"red\",\"group\":null,\"left\":-5,\"right\":5},\"id\":\"1256\",\"type\":\"BoxAnnotation\"},{\"attributes\":{},\"id\":\"1285\",\"type\":\"BasicTickFormatter\"}],\"root_ids\":[\"1225\"]},\"title\":\"Bokeh Application\",\"version\":\"2.4.3\"}};\n  const render_items = [{\"docid\":\"5f28a34a-682a-460b-b905-35d2ad09d3d4\",\"root_ids\":[\"1225\"],\"roots\":{\"1225\":\"572bf9a9-866e-4f3b-acf6-ea9e1957bcc7\"}}];\n  root.Bokeh.embed.embed_items_notebook(docs_json, render_items);\n  }\n  if (root.Bokeh !== undefined) {\n    embed_document(root);\n  } else {\n    let attempts = 0;\n    const timer = setInterval(function(root) {\n      if (root.Bokeh !== undefined) {\n        clearInterval(timer);\n        embed_document(root);\n      } else {\n        attempts++;\n        if (attempts > 100) {\n          clearInterval(timer);\n          console.log(\"Bokeh: ERROR: Unable to run BokehJS code because BokehJS library is missing\");\n        }\n      }\n    }, 10, root)\n  }\n})(window);",
      "application/vnd.bokehjs_exec.v0+json": ""
     },
     "metadata": {
      "application/vnd.bokehjs_exec.v0+json": {
       "id": "1225"
      }
     },
     "output_type": "display_data"
    }
   ],
   "source": [
    "# Importation de la classe BoxAnnotation\n",
    "\n",
    "from bokeh.models.annotations import BoxAnnotation\n",
    "\n",
    "# Instanciation d'une figure\n",
    "\n",
    "p = figure(plot_width = 600, plot_height = 400,       # dimensions de la figure\n",
    "           x_range = (-10, 10), y_range = (-5, 20))   # limites des axes\n",
    "\n",
    "# Instanciation d'une boîte ombrée\n",
    "\n",
    "box = BoxAnnotation(bottom = 0,             # position du coté bas\n",
    "                    left = -5,              # position du coté gauche\n",
    "                    right = 5,              # position du coté droit\n",
    "                    fill_color = 'red')     # couleur de remplissage\n",
    "\n",
    "# Ajout de la boîte ombrée aux annotations de la figure\n",
    "\n",
    "p.add_layout(box)\n",
    "\n",
    "# Affichage de la figure\n",
    "\n",
    "show(p)"
   ]
  },
  {
   "cell_type": "markdown",
   "metadata": {
    "deletable": false,
    "editable": false,
    "function": "preliminary",
    "question_id": 1,
    "run_control": {
     "frozen": true
    }
   },
   "source": [
    "> Comme pour une annotation `Span`, il faut utiliser la méthode `add_layout` pour ajouter une boîte ombrée à une figure.\n",
    "\n",
    "* Instancier une figure de largeur 600 et hauteur 400 délimitée par -2 et 2 sur l'axe des ordonnées.\n",
    "\n",
    "\n",
    "* Créer une suite `x` de 500 valeurs entre -20 et 20 en utilisant la fonction `linspace` du module NumPy.\n",
    "\n",
    "\n",
    "* Créer une `y` correspondant à l'image de la suite `x` par la fonction $arctan$.\n",
    "\n",
    "\n",
    "* Tracer une courbe sur la figure avec les listes de coordonnées `x` et `y`.\n",
    "\n",
    "\n",
    "* Ajouter trois boites ombrées au graphique, de trois couleurs différentes :<br>\n",
    "  - La première avec les paramètres `bottom` et `fill_alpha` qui valent respectivement $\\dfrac{\\pi}{2}$ et $0.1$.\n",
    "  - La deuxième avec les paramètres `top` et `fill_alpha` qui valent respectivement $-\\dfrac{\\pi}{2}$ et $0.3$. \n",
    "  - La troisième au centre avec les paramètres `top`, `bottom`, `left`, `right` et `fill_alpha` qui valent respectivement: $1$, $-1$, $-5$, $5$ et $0.5$."
   ]
  },
  {
   "cell_type": "code",
   "execution_count": null,
   "outputs": [],
   "source": [
    "### Insérez votre code ici\n",
    "\n"
   ],
   "metadata": {
    "collapsed": false
   }
  },
  {
   "cell_type": "code",
   "execution_count": 6,
   "metadata": {
    "function": "submission",
    "question_id": 1,
    "ExecuteTime": {
     "end_time": "2023-11-28T09:47:37.537755Z",
     "start_time": "2023-11-28T09:47:37.533902Z"
    }
   },
   "outputs": [
    {
     "data": {
      "text/html": "\n  <div class=\"bk-root\" id=\"916c254e-4af2-4c22-8b59-b20e608a67dd\" data-root-id=\"1333\"></div>\n"
     },
     "metadata": {},
     "output_type": "display_data"
    },
    {
     "data": {
      "application/javascript": "(function(root) {\n  function embed_document(root) {\n  const docs_json = {\"fbf49342-6e1c-4ce5-827e-7781ddedf858\":{\"defs\":[],\"roots\":{\"references\":[{\"attributes\":{\"below\":[{\"id\":\"1342\"}],\"center\":[{\"id\":\"1345\"},{\"id\":\"1349\"},{\"id\":\"1370\"},{\"id\":\"1371\"},{\"id\":\"1372\"}],\"height\":400,\"left\":[{\"id\":\"1346\"}],\"renderers\":[{\"id\":\"1368\"}],\"title\":{\"id\":\"1404\"},\"toolbar\":{\"id\":\"1357\"},\"x_range\":{\"id\":\"1334\"},\"x_scale\":{\"id\":\"1338\"},\"y_range\":{\"id\":\"1336\"},\"y_scale\":{\"id\":\"1340\"}},\"id\":\"1333\",\"subtype\":\"Figure\",\"type\":\"Plot\"},{\"attributes\":{\"axis_label_standoff\":10,\"axis_label_text_color\":\"#5B5B5B\",\"axis_label_text_font\":\"Calibri Light\",\"axis_label_text_font_size\":\"1.15em\",\"axis_label_text_font_style\":\"bold\",\"axis_line_alpha\":1,\"axis_line_color\":\"#5B5B5B\",\"coordinates\":null,\"formatter\":{\"id\":\"1407\"},\"group\":null,\"major_label_policy\":{\"id\":\"1408\"},\"major_label_text_color\":\"#5B5B5B\",\"major_label_text_font\":\"Calibri Light\",\"major_label_text_font_size\":\"0.95em\",\"major_label_text_font_style\":\"bold\",\"major_tick_in\":0,\"major_tick_line_alpha\":0.25,\"major_tick_line_color\":\"#5B5B5B\",\"major_tick_out\":3,\"minor_tick_line_alpha\":0.25,\"minor_tick_line_color\":\"#5B5B5B\",\"ticker\":{\"id\":\"1347\"}},\"id\":\"1346\",\"type\":\"LinearAxis\"},{\"attributes\":{\"line_alpha\":0.2,\"line_color\":\"#1f77b4\",\"x\":{\"field\":\"x\"},\"y\":{\"field\":\"y\"}},\"id\":\"1367\",\"type\":\"Line\"},{\"attributes\":{},\"id\":\"1347\",\"type\":\"BasicTicker\"},{\"attributes\":{},\"id\":\"1353\",\"type\":\"SaveTool\"},{\"attributes\":{\"coordinates\":null,\"group\":null,\"text_color\":\"#5B5B5B\",\"text_font\":\"Calibri Light\",\"text_font_size\":\"1.25em\",\"text_font_style\":\"bold\"},\"id\":\"1404\",\"type\":\"Title\"},{\"attributes\":{},\"id\":\"1412\",\"type\":\"UnionRenderers\"},{\"attributes\":{\"bottom_units\":\"screen\",\"coordinates\":null,\"fill_alpha\":0.5,\"fill_color\":\"lightgrey\",\"group\":null,\"left_units\":\"screen\",\"level\":\"overlay\",\"line_alpha\":1.0,\"line_color\":\"black\",\"line_dash\":[4,4],\"line_width\":2,\"right_units\":\"screen\",\"syncable\":false,\"top_units\":\"screen\"},\"id\":\"1356\",\"type\":\"BoxAnnotation\"},{\"attributes\":{},\"id\":\"1343\",\"type\":\"BasicTicker\"},{\"attributes\":{},\"id\":\"1334\",\"type\":\"DataRange1d\"},{\"attributes\":{},\"id\":\"1407\",\"type\":\"BasicTickFormatter\"},{\"attributes\":{\"tools\":[{\"id\":\"1350\"},{\"id\":\"1351\"},{\"id\":\"1352\"},{\"id\":\"1353\"},{\"id\":\"1354\"},{\"id\":\"1355\"}]},\"id\":\"1357\",\"type\":\"Toolbar\"},{\"attributes\":{\"bottom\":1.5707963267948966,\"coordinates\":null,\"fill_alpha\":0.1,\"fill_color\":\"red\",\"group\":null},\"id\":\"1370\",\"type\":\"BoxAnnotation\"},{\"attributes\":{},\"id\":\"1413\",\"type\":\"Selection\"},{\"attributes\":{},\"id\":\"1338\",\"type\":\"LinearScale\"},{\"attributes\":{},\"id\":\"1354\",\"type\":\"ResetTool\"},{\"attributes\":{},\"id\":\"1410\",\"type\":\"BasicTickFormatter\"},{\"attributes\":{\"line_alpha\":0.1,\"line_color\":\"#1f77b4\",\"x\":{\"field\":\"x\"},\"y\":{\"field\":\"y\"}},\"id\":\"1366\",\"type\":\"Line\"},{\"attributes\":{\"bottom\":-1,\"coordinates\":null,\"fill_alpha\":0.5,\"fill_color\":\"orange\",\"group\":null,\"left\":-5,\"right\":5,\"top\":1},\"id\":\"1372\",\"type\":\"BoxAnnotation\"},{\"attributes\":{},\"id\":\"1350\",\"type\":\"PanTool\"},{\"attributes\":{\"overlay\":{\"id\":\"1356\"}},\"id\":\"1352\",\"type\":\"BoxZoomTool\"},{\"attributes\":{\"axis_label_standoff\":10,\"axis_label_text_color\":\"#5B5B5B\",\"axis_label_text_font\":\"Calibri Light\",\"axis_label_text_font_size\":\"1.15em\",\"axis_label_text_font_style\":\"bold\",\"axis_line_alpha\":1,\"axis_line_color\":\"#5B5B5B\",\"coordinates\":null,\"formatter\":{\"id\":\"1410\"},\"group\":null,\"major_label_policy\":{\"id\":\"1411\"},\"major_label_text_color\":\"#5B5B5B\",\"major_label_text_font\":\"Calibri Light\",\"major_label_text_font_size\":\"0.95em\",\"major_label_text_font_style\":\"bold\",\"major_tick_in\":0,\"major_tick_line_alpha\":0.25,\"major_tick_line_color\":\"#5B5B5B\",\"major_tick_out\":3,\"minor_tick_line_alpha\":0.25,\"minor_tick_line_color\":\"#5B5B5B\",\"ticker\":{\"id\":\"1343\"}},\"id\":\"1342\",\"type\":\"LinearAxis\"},{\"attributes\":{\"source\":{\"id\":\"1364\"}},\"id\":\"1369\",\"type\":\"CDSView\"},{\"attributes\":{},\"id\":\"1340\",\"type\":\"LinearScale\"},{\"attributes\":{},\"id\":\"1351\",\"type\":\"WheelZoomTool\"},{\"attributes\":{},\"id\":\"1408\",\"type\":\"AllLabels\"},{\"attributes\":{\"line_color\":\"#1f77b4\",\"x\":{\"field\":\"x\"},\"y\":{\"field\":\"y\"}},\"id\":\"1365\",\"type\":\"Line\"},{\"attributes\":{},\"id\":\"1355\",\"type\":\"HelpTool\"},{\"attributes\":{\"coordinates\":null,\"data_source\":{\"id\":\"1364\"},\"glyph\":{\"id\":\"1365\"},\"group\":null,\"hover_glyph\":null,\"muted_glyph\":{\"id\":\"1367\"},\"nonselection_glyph\":{\"id\":\"1366\"},\"view\":{\"id\":\"1369\"}},\"id\":\"1368\",\"type\":\"GlyphRenderer\"},{\"attributes\":{\"axis\":{\"id\":\"1346\"},\"coordinates\":null,\"dimension\":1,\"group\":null,\"ticker\":null},\"id\":\"1349\",\"type\":\"Grid\"},{\"attributes\":{\"coordinates\":null,\"fill_alpha\":0.3,\"fill_color\":\"blue\",\"group\":null,\"top\":-1.5707963267948966},\"id\":\"1371\",\"type\":\"BoxAnnotation\"},{\"attributes\":{},\"id\":\"1411\",\"type\":\"AllLabels\"},{\"attributes\":{\"data\":{\"x\":{\"__ndarray__\":\"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\",\"dtype\":\"float64\",\"order\":\"little\",\"shape\":[500]},\"y\":{\"__ndarray__\":\"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\",\"dtype\":\"float64\",\"order\":\"little\",\"shape\":[500]}},\"selected\":{\"id\":\"1413\"},\"selection_policy\":{\"id\":\"1412\"}},\"id\":\"1364\",\"type\":\"ColumnDataSource\"},{\"attributes\":{\"axis\":{\"id\":\"1342\"},\"coordinates\":null,\"group\":null,\"ticker\":null},\"id\":\"1345\",\"type\":\"Grid\"},{\"attributes\":{\"end\":2,\"start\":-2},\"id\":\"1336\",\"type\":\"Range1d\"}],\"root_ids\":[\"1333\"]},\"title\":\"Bokeh Application\",\"version\":\"2.4.3\"}};\n  const render_items = [{\"docid\":\"fbf49342-6e1c-4ce5-827e-7781ddedf858\",\"root_ids\":[\"1333\"],\"roots\":{\"1333\":\"916c254e-4af2-4c22-8b59-b20e608a67dd\"}}];\n  root.Bokeh.embed.embed_items_notebook(docs_json, render_items);\n  }\n  if (root.Bokeh !== undefined) {\n    embed_document(root);\n  } else {\n    let attempts = 0;\n    const timer = setInterval(function(root) {\n      if (root.Bokeh !== undefined) {\n        clearInterval(timer);\n        embed_document(root);\n      } else {\n        attempts++;\n        if (attempts > 100) {\n          clearInterval(timer);\n          console.log(\"Bokeh: ERROR: Unable to run BokehJS code because BokehJS library is missing\");\n        }\n      }\n    }, 10, root)\n  }\n})(window);",
      "application/vnd.bokehjs_exec.v0+json": ""
     },
     "metadata": {
      "application/vnd.bokehjs_exec.v0+json": {
       "id": "1333"
      }
     },
     "output_type": "display_data"
    }
   ],
   "source": [
    "\n",
    "\n"
   ]
  },
  {
   "cell_type": "markdown",
   "metadata": {
    "deletable": false,
    "editable": false,
    "function": "preliminary",
    "question_id": 1,
    "run_control": {
     "frozen": true
    }
   },
   "source": [
    "### La classe `Label`\n",
    "\n",
    "> **Bokeh** permet également d'insérer du texte sur le graphique. Pour ce faire, il faut instancier un objet de la classe `Label`en fournissant comme argument:\n",
    "> - `x` : l'abscisse où sera affiché le premier caractère du texte.\n",
    "> - `y` : l'ordonnée où sera affiché le premier caractère du texte.\n",
    "> - `text` : le texte à afficher.\n",
    ">\n",
    "> D'autres arguments peuvent être fournis à l'instanciation d'un objet de la classe `Label`:\n",
    "> - `text_font_size` : la police du texte.\n",
    "> - `x_offset` : le décalage du texte sur l'axe des abscisses.\n",
    "> - `y_offset` : le décalage du texte sur l'axe des ordonnées.\n",
    "> - `border_line_color` : la couleur du contour de la zone de texte.\n",
    "> - `background_fill_color` : la couleur de remplissage de la zone de texte.\n",
    "\n",
    "* Importer la classe `Label` depuis le sous-module `bokeh.models.annotations`.\n",
    "\n",
    "\n",
    "* Instancier une figure de largeur 600 et hauteur 400.\n",
    "\n",
    "\n",
    "* À partir des listes crées dans la cellule ci-dessous, créer un nuage de points rouge d'abscisses <b>`x`</b> et d'ordonnées <b>`y1`</b> ainsi qu'un nuage de points bleu d'abscisses <b>`x`</b> et d'ordonnées <b>`y2`</b>. Les deux nuages auront des points en forme de cercles de taille 10. Pour cela il faudra utiliser la méthode *glyph* `circle`.\n",
    "\n",
    "Nous voulons ajouter deux blocs de textes qui identifient le point minimum du nuage rouge et le point maximum du nuage bleu. Le minimum du nuage rouge se trouve aux coordonnées `(2, 2)` et le maximum du nuage bleu se trouve aux coordonnées `(4, 22)`.\n",
    "\n",
    "\n",
    "* Ajouter aux coordonnées des points minimum et maximum les textes `\"point min\"` et `\"point max\"` à la figure. Pour que le début du texte ne se superpose pas avec les points, on décalera le texte de 10 pixels vers le haut et de 10 pixels vers la droite."
   ]
  },
  {
   "cell_type": "code",
   "execution_count": null,
   "outputs": [],
   "source": [
    "# Listes de coordonnées pour les nuages de points\n",
    "from bokeh.models.annotations import Label\n",
    "\n",
    "x = [1, 2, 3, 4, 5]\n",
    "y1 = [6, 2, 3, 8, 15]\n",
    "y2 = [8, 10, 12, 22, 16]"
   ],
   "metadata": {
    "collapsed": false
   }
  },
  {
   "cell_type": "code",
   "execution_count": null,
   "outputs": [],
   "source": [
    "### Insérez votre code ici\n",
    "\n"
   ],
   "metadata": {
    "collapsed": false
   }
  },
  {
   "cell_type": "code",
   "execution_count": 9,
   "metadata": {
    "function": "submission",
    "question_id": 1,
    "ExecuteTime": {
     "end_time": "2023-11-28T09:47:56.265531Z",
     "start_time": "2023-11-28T09:47:56.262159Z"
    }
   },
   "outputs": [
    {
     "data": {
      "text/html": "\n  <div class=\"bk-root\" id=\"76a71916-4c87-4a18-82be-7435911891ef\" data-root-id=\"1794\"></div>\n"
     },
     "metadata": {},
     "output_type": "display_data"
    },
    {
     "data": {
      "application/javascript": "(function(root) {\n  function embed_document(root) {\n  const docs_json = {\"8097fef1-d1ed-446a-8689-a3a1fe3a4eca\":{\"defs\":[],\"roots\":{\"references\":[{\"attributes\":{\"below\":[{\"id\":\"1803\"}],\"center\":[{\"id\":\"1806\"},{\"id\":\"1810\"},{\"id\":\"1837\"},{\"id\":\"1838\"}],\"height\":400,\"left\":[{\"id\":\"1807\"}],\"renderers\":[{\"id\":\"1829\"},{\"id\":\"1835\"}],\"title\":{\"id\":\"1905\"},\"toolbar\":{\"id\":\"1818\"},\"x_range\":{\"id\":\"1795\"},\"x_scale\":{\"id\":\"1799\"},\"y_range\":{\"id\":\"1797\"},\"y_scale\":{\"id\":\"1801\"}},\"id\":\"1794\",\"subtype\":\"Figure\",\"type\":\"Plot\"},{\"attributes\":{\"axis_label_standoff\":10,\"axis_label_text_color\":\"#5B5B5B\",\"axis_label_text_font\":\"Calibri Light\",\"axis_label_text_font_size\":\"1.15em\",\"axis_label_text_font_style\":\"bold\",\"axis_line_alpha\":1,\"axis_line_color\":\"#5B5B5B\",\"coordinates\":null,\"formatter\":{\"id\":\"1908\"},\"group\":null,\"major_label_policy\":{\"id\":\"1909\"},\"major_label_text_color\":\"#5B5B5B\",\"major_label_text_font\":\"Calibri Light\",\"major_label_text_font_size\":\"0.95em\",\"major_label_text_font_style\":\"bold\",\"major_tick_in\":0,\"major_tick_line_alpha\":0.25,\"major_tick_line_color\":\"#5B5B5B\",\"major_tick_out\":3,\"minor_tick_line_alpha\":0.25,\"minor_tick_line_color\":\"#5B5B5B\",\"ticker\":{\"id\":\"1808\"}},\"id\":\"1807\",\"type\":\"LinearAxis\"},{\"attributes\":{},\"id\":\"1914\",\"type\":\"Selection\"},{\"attributes\":{\"source\":{\"id\":\"1831\"}},\"id\":\"1836\",\"type\":\"CDSView\"},{\"attributes\":{},\"id\":\"1909\",\"type\":\"AllLabels\"},{\"attributes\":{},\"id\":\"1913\",\"type\":\"UnionRenderers\"},{\"attributes\":{\"coordinates\":null,\"data_source\":{\"id\":\"1825\"},\"glyph\":{\"id\":\"1826\"},\"group\":null,\"hover_glyph\":null,\"muted_glyph\":{\"id\":\"1828\"},\"nonselection_glyph\":{\"id\":\"1827\"},\"view\":{\"id\":\"1830\"}},\"id\":\"1829\",\"type\":\"GlyphRenderer\"},{\"attributes\":{\"coordinates\":null,\"group\":null,\"text\":\"point min\",\"x\":2,\"x_offset\":10,\"y\":2,\"y_offset\":10},\"id\":\"1837\",\"type\":\"Label\"},{\"attributes\":{\"coordinates\":null,\"group\":null,\"text\":\"point max\",\"x\":4,\"x_offset\":10,\"y\":22,\"y_offset\":10},\"id\":\"1838\",\"type\":\"Label\"},{\"attributes\":{},\"id\":\"1916\",\"type\":\"Selection\"},{\"attributes\":{\"overlay\":{\"id\":\"1817\"}},\"id\":\"1813\",\"type\":\"BoxZoomTool\"},{\"attributes\":{\"fill_color\":{\"value\":\"red\"},\"hatch_color\":{\"value\":\"red\"},\"line_color\":{\"value\":\"red\"},\"size\":{\"value\":10},\"x\":{\"field\":\"x\"},\"y\":{\"field\":\"y\"}},\"id\":\"1826\",\"type\":\"Circle\"},{\"attributes\":{},\"id\":\"1911\",\"type\":\"BasicTickFormatter\"},{\"attributes\":{\"coordinates\":null,\"data_source\":{\"id\":\"1831\"},\"glyph\":{\"id\":\"1832\"},\"group\":null,\"hover_glyph\":null,\"muted_glyph\":{\"id\":\"1834\"},\"nonselection_glyph\":{\"id\":\"1833\"},\"view\":{\"id\":\"1836\"}},\"id\":\"1835\",\"type\":\"GlyphRenderer\"},{\"attributes\":{\"source\":{\"id\":\"1825\"}},\"id\":\"1830\",\"type\":\"CDSView\"},{\"attributes\":{},\"id\":\"1814\",\"type\":\"SaveTool\"},{\"attributes\":{\"bottom_units\":\"screen\",\"coordinates\":null,\"fill_alpha\":0.5,\"fill_color\":\"lightgrey\",\"group\":null,\"left_units\":\"screen\",\"level\":\"overlay\",\"line_alpha\":1.0,\"line_color\":\"black\",\"line_dash\":[4,4],\"line_width\":2,\"right_units\":\"screen\",\"syncable\":false,\"top_units\":\"screen\"},\"id\":\"1817\",\"type\":\"BoxAnnotation\"},{\"attributes\":{},\"id\":\"1815\",\"type\":\"ResetTool\"},{\"attributes\":{},\"id\":\"1799\",\"type\":\"LinearScale\"},{\"attributes\":{\"tools\":[{\"id\":\"1811\"},{\"id\":\"1812\"},{\"id\":\"1813\"},{\"id\":\"1814\"},{\"id\":\"1815\"},{\"id\":\"1816\"}]},\"id\":\"1818\",\"type\":\"Toolbar\"},{\"attributes\":{},\"id\":\"1812\",\"type\":\"WheelZoomTool\"},{\"attributes\":{},\"id\":\"1804\",\"type\":\"BasicTicker\"},{\"attributes\":{},\"id\":\"1811\",\"type\":\"PanTool\"},{\"attributes\":{},\"id\":\"1908\",\"type\":\"BasicTickFormatter\"},{\"attributes\":{},\"id\":\"1816\",\"type\":\"HelpTool\"},{\"attributes\":{\"axis\":{\"id\":\"1803\"},\"coordinates\":null,\"group\":null,\"ticker\":null},\"id\":\"1806\",\"type\":\"Grid\"},{\"attributes\":{\"fill_alpha\":{\"value\":0.2},\"fill_color\":{\"value\":\"blue\"},\"hatch_alpha\":{\"value\":0.2},\"hatch_color\":{\"value\":\"blue\"},\"line_alpha\":{\"value\":0.2},\"line_color\":{\"value\":\"blue\"},\"size\":{\"value\":10},\"x\":{\"field\":\"x\"},\"y\":{\"field\":\"y\"}},\"id\":\"1834\",\"type\":\"Circle\"},{\"attributes\":{\"fill_alpha\":{\"value\":0.1},\"fill_color\":{\"value\":\"red\"},\"hatch_alpha\":{\"value\":0.1},\"hatch_color\":{\"value\":\"red\"},\"line_alpha\":{\"value\":0.1},\"line_color\":{\"value\":\"red\"},\"size\":{\"value\":10},\"x\":{\"field\":\"x\"},\"y\":{\"field\":\"y\"}},\"id\":\"1827\",\"type\":\"Circle\"},{\"attributes\":{},\"id\":\"1808\",\"type\":\"BasicTicker\"},{\"attributes\":{\"axis_label_standoff\":10,\"axis_label_text_color\":\"#5B5B5B\",\"axis_label_text_font\":\"Calibri Light\",\"axis_label_text_font_size\":\"1.15em\",\"axis_label_text_font_style\":\"bold\",\"axis_line_alpha\":1,\"axis_line_color\":\"#5B5B5B\",\"coordinates\":null,\"formatter\":{\"id\":\"1911\"},\"group\":null,\"major_label_policy\":{\"id\":\"1912\"},\"major_label_text_color\":\"#5B5B5B\",\"major_label_text_font\":\"Calibri Light\",\"major_label_text_font_size\":\"0.95em\",\"major_label_text_font_style\":\"bold\",\"major_tick_in\":0,\"major_tick_line_alpha\":0.25,\"major_tick_line_color\":\"#5B5B5B\",\"major_tick_out\":3,\"minor_tick_line_alpha\":0.25,\"minor_tick_line_color\":\"#5B5B5B\",\"ticker\":{\"id\":\"1804\"}},\"id\":\"1803\",\"type\":\"LinearAxis\"},{\"attributes\":{\"axis\":{\"id\":\"1807\"},\"coordinates\":null,\"dimension\":1,\"group\":null,\"ticker\":null},\"id\":\"1810\",\"type\":\"Grid\"},{\"attributes\":{\"coordinates\":null,\"group\":null,\"text_color\":\"#5B5B5B\",\"text_font\":\"Calibri Light\",\"text_font_size\":\"1.25em\",\"text_font_style\":\"bold\"},\"id\":\"1905\",\"type\":\"Title\"},{\"attributes\":{},\"id\":\"1797\",\"type\":\"DataRange1d\"},{\"attributes\":{},\"id\":\"1912\",\"type\":\"AllLabels\"},{\"attributes\":{\"fill_color\":{\"value\":\"blue\"},\"hatch_color\":{\"value\":\"blue\"},\"line_color\":{\"value\":\"blue\"},\"size\":{\"value\":10},\"x\":{\"field\":\"x\"},\"y\":{\"field\":\"y\"}},\"id\":\"1832\",\"type\":\"Circle\"},{\"attributes\":{},\"id\":\"1801\",\"type\":\"LinearScale\"},{\"attributes\":{\"fill_alpha\":{\"value\":0.2},\"fill_color\":{\"value\":\"red\"},\"hatch_alpha\":{\"value\":0.2},\"hatch_color\":{\"value\":\"red\"},\"line_alpha\":{\"value\":0.2},\"line_color\":{\"value\":\"red\"},\"size\":{\"value\":10},\"x\":{\"field\":\"x\"},\"y\":{\"field\":\"y\"}},\"id\":\"1828\",\"type\":\"Circle\"},{\"attributes\":{\"fill_alpha\":{\"value\":0.1},\"fill_color\":{\"value\":\"blue\"},\"hatch_alpha\":{\"value\":0.1},\"hatch_color\":{\"value\":\"blue\"},\"line_alpha\":{\"value\":0.1},\"line_color\":{\"value\":\"blue\"},\"size\":{\"value\":10},\"x\":{\"field\":\"x\"},\"y\":{\"field\":\"y\"}},\"id\":\"1833\",\"type\":\"Circle\"},{\"attributes\":{},\"id\":\"1795\",\"type\":\"DataRange1d\"},{\"attributes\":{},\"id\":\"1915\",\"type\":\"UnionRenderers\"},{\"attributes\":{\"data\":{\"x\":[1,2,3,4,5],\"y\":[8,10,12,22,16]},\"selected\":{\"id\":\"1916\"},\"selection_policy\":{\"id\":\"1915\"}},\"id\":\"1831\",\"type\":\"ColumnDataSource\"},{\"attributes\":{\"data\":{\"x\":[1,2,3,4,5],\"y\":[6,2,3,8,15]},\"selected\":{\"id\":\"1914\"},\"selection_policy\":{\"id\":\"1913\"}},\"id\":\"1825\",\"type\":\"ColumnDataSource\"}],\"root_ids\":[\"1794\"]},\"title\":\"Bokeh Application\",\"version\":\"2.4.3\"}};\n  const render_items = [{\"docid\":\"8097fef1-d1ed-446a-8689-a3a1fe3a4eca\",\"root_ids\":[\"1794\"],\"roots\":{\"1794\":\"76a71916-4c87-4a18-82be-7435911891ef\"}}];\n  root.Bokeh.embed.embed_items_notebook(docs_json, render_items);\n  }\n  if (root.Bokeh !== undefined) {\n    embed_document(root);\n  } else {\n    let attempts = 0;\n    const timer = setInterval(function(root) {\n      if (root.Bokeh !== undefined) {\n        clearInterval(timer);\n        embed_document(root);\n      } else {\n        attempts++;\n        if (attempts > 100) {\n          clearInterval(timer);\n          console.log(\"Bokeh: ERROR: Unable to run BokehJS code because BokehJS library is missing\");\n        }\n      }\n    }, 10, root)\n  }\n})(window);",
      "application/vnd.bokehjs_exec.v0+json": ""
     },
     "metadata": {
      "application/vnd.bokehjs_exec.v0+json": {
       "id": "1794"
      }
     },
     "output_type": "display_data"
    }
   ],
   "source": [
    "\n",
    "\n",
    "\n"
   ]
  },
  {
   "cell_type": "markdown",
   "metadata": {
    "deletable": false,
    "editable": false,
    "function": "preliminary",
    "question_id": 1,
    "run_control": {
     "frozen": true
    }
   },
   "source": [
    "### La classe Arrow\n",
    "\n",
    "> Il est également possible d'ajouter une annotation avec une flèche descriptive pointant vers un point précis du graphique.\n",
    "Pour se faire, il suffit d'instancier un objet de la classe `Arrow` avec les arguments:\n",
    ">\n",
    "> - `x_start`et `y_start`: les coordonnées de départ de la flèche\n",
    ">\n",
    "> - `x_end` et `y_end` : les coordonnées d'arrivée de la flèche.\n",
    ">\n",
    ">\n",
    "> De plus, il est possible de configurer la forme de la flèche au départ ou à l'arrivée grâce aux arguments:\n",
    ">\n",
    "> - `start` : forme de la flèche au départ\n",
    "> - `end` : forme de la flèche à l'arrivée.\n",
    ">\n",
    "> La forme par défaut de la flèche à l'arrivée est `OpenHead` (`-->`), qui est une classe du sous-module **bokeh.models.arrow_heads**, tandis que la forme de départ de la flèche n'est pas définie par défaut. Grâce à ces paramètres, il est possible de faire des flèches à double sens.\n",
    ">\n",
    "> D'autres types de têtes de flèches existent telles que `NormalHead` (`--▷`) ainsi que `VeeHead` (`--≻`).\n",
    "\n",
    "\n",
    "* Importer la classe `Arrow` depuis le sous-module `bokeh.models.annotations`.\n",
    "\n",
    "\n",
    "* Depuis le sous-module `bokeh.models.arrow_heads` importer les classes `OpenHead`, `NormalHead`, `VeeHead`.\n",
    "\n",
    "\n",
    "* Instancier une figure de largeur 400 et hauteur 400 avec les étendues fournies.\n",
    "\n",
    "\n",
    "* Instancier dans cette figure un nuage de points en *forme de croix* de taille 10 avec les listes de coordonnées `x` et `y` fournies. La méthode *glyph* pour obtenir cette forme de nuage est la méthode `x`.\n",
    "\n",
    "\n",
    "* Afficher la figure."
   ]
  },
  {
   "cell_type": "code",
   "execution_count": null,
   "outputs": [],
   "source": [
    "## Insérez votre code ici\n"
   ],
   "metadata": {
    "collapsed": false
   }
  },
  {
   "cell_type": "code",
   "execution_count": 11,
   "metadata": {
    "function": "submission",
    "question_id": 1,
    "ExecuteTime": {
     "end_time": "2023-11-28T09:48:04.104608Z",
     "start_time": "2023-11-28T09:48:04.072966Z"
    }
   },
   "outputs": [
    {
     "data": {
      "text/html": "\n  <div class=\"bk-root\" id=\"4e62e79a-2faf-4dd8-86db-73dd30f58803\" data-root-id=\"2185\"></div>\n"
     },
     "metadata": {},
     "output_type": "display_data"
    },
    {
     "data": {
      "application/javascript": "(function(root) {\n  function embed_document(root) {\n  const docs_json = {\"df0a7c89-237c-4309-bce6-6832dabe6d24\":{\"defs\":[],\"roots\":{\"references\":[{\"attributes\":{\"below\":[{\"id\":\"2194\"}],\"center\":[{\"id\":\"2197\"},{\"id\":\"2201\"}],\"height\":400,\"left\":[{\"id\":\"2198\"}],\"renderers\":[{\"id\":\"2220\"}],\"title\":{\"id\":\"2314\"},\"toolbar\":{\"id\":\"2209\"},\"width\":400,\"x_range\":{\"id\":\"2186\"},\"x_scale\":{\"id\":\"2190\"},\"y_range\":{\"id\":\"2188\"},\"y_scale\":{\"id\":\"2192\"}},\"id\":\"2185\",\"subtype\":\"Figure\",\"type\":\"Plot\"},{\"attributes\":{\"fill_color\":{\"value\":\"#1f77b4\"},\"line_color\":{\"value\":\"#1f77b4\"},\"marker\":{\"value\":\"x\"},\"size\":{\"value\":10},\"x\":{\"field\":\"x\"},\"y\":{\"field\":\"y\"}},\"id\":\"2217\",\"type\":\"Scatter\"},{\"attributes\":{},\"id\":\"2320\",\"type\":\"BasicTickFormatter\"},{\"attributes\":{},\"id\":\"2317\",\"type\":\"BasicTickFormatter\"},{\"attributes\":{},\"id\":\"2203\",\"type\":\"WheelZoomTool\"},{\"attributes\":{\"tools\":[{\"id\":\"2202\"},{\"id\":\"2203\"},{\"id\":\"2204\"},{\"id\":\"2205\"},{\"id\":\"2206\"},{\"id\":\"2207\"}]},\"id\":\"2209\",\"type\":\"Toolbar\"},{\"attributes\":{},\"id\":\"2318\",\"type\":\"AllLabels\"},{\"attributes\":{},\"id\":\"2323\",\"type\":\"Selection\"},{\"attributes\":{\"source\":{\"id\":\"2216\"}},\"id\":\"2221\",\"type\":\"CDSView\"},{\"attributes\":{\"axis\":{\"id\":\"2198\"},\"coordinates\":null,\"dimension\":1,\"group\":null,\"ticker\":null},\"id\":\"2201\",\"type\":\"Grid\"},{\"attributes\":{},\"id\":\"2190\",\"type\":\"LinearScale\"},{\"attributes\":{\"fill_alpha\":{\"value\":0.2},\"fill_color\":{\"value\":\"#1f77b4\"},\"hatch_alpha\":{\"value\":0.2},\"line_alpha\":{\"value\":0.2},\"line_color\":{\"value\":\"#1f77b4\"},\"marker\":{\"value\":\"x\"},\"size\":{\"value\":10},\"x\":{\"field\":\"x\"},\"y\":{\"field\":\"y\"}},\"id\":\"2219\",\"type\":\"Scatter\"},{\"attributes\":{},\"id\":\"2202\",\"type\":\"PanTool\"},{\"attributes\":{},\"id\":\"2322\",\"type\":\"UnionRenderers\"},{\"attributes\":{\"axis_label_standoff\":10,\"axis_label_text_color\":\"#5B5B5B\",\"axis_label_text_font\":\"Calibri Light\",\"axis_label_text_font_size\":\"1.15em\",\"axis_label_text_font_style\":\"bold\",\"axis_line_alpha\":1,\"axis_line_color\":\"#5B5B5B\",\"coordinates\":null,\"formatter\":{\"id\":\"2317\"},\"group\":null,\"major_label_policy\":{\"id\":\"2318\"},\"major_label_text_color\":\"#5B5B5B\",\"major_label_text_font\":\"Calibri Light\",\"major_label_text_font_size\":\"0.95em\",\"major_label_text_font_style\":\"bold\",\"major_tick_in\":0,\"major_tick_line_alpha\":0.25,\"major_tick_line_color\":\"#5B5B5B\",\"major_tick_out\":3,\"minor_tick_line_alpha\":0.25,\"minor_tick_line_color\":\"#5B5B5B\",\"ticker\":{\"id\":\"2199\"}},\"id\":\"2198\",\"type\":\"LinearAxis\"},{\"attributes\":{},\"id\":\"2206\",\"type\":\"ResetTool\"},{\"attributes\":{\"coordinates\":null,\"data_source\":{\"id\":\"2216\"},\"glyph\":{\"id\":\"2217\"},\"group\":null,\"hover_glyph\":null,\"muted_glyph\":{\"id\":\"2219\"},\"nonselection_glyph\":{\"id\":\"2218\"},\"view\":{\"id\":\"2221\"}},\"id\":\"2220\",\"type\":\"GlyphRenderer\"},{\"attributes\":{},\"id\":\"2205\",\"type\":\"SaveTool\"},{\"attributes\":{\"fill_alpha\":{\"value\":0.1},\"fill_color\":{\"value\":\"#1f77b4\"},\"hatch_alpha\":{\"value\":0.1},\"line_alpha\":{\"value\":0.1},\"line_color\":{\"value\":\"#1f77b4\"},\"marker\":{\"value\":\"x\"},\"size\":{\"value\":10},\"x\":{\"field\":\"x\"},\"y\":{\"field\":\"y\"}},\"id\":\"2218\",\"type\":\"Scatter\"},{\"attributes\":{\"overlay\":{\"id\":\"2208\"}},\"id\":\"2204\",\"type\":\"BoxZoomTool\"},{\"attributes\":{\"end\":6.19615242271,\"start\":-1},\"id\":\"2188\",\"type\":\"Range1d\"},{\"attributes\":{},\"id\":\"2199\",\"type\":\"BasicTicker\"},{\"attributes\":{\"bottom_units\":\"screen\",\"coordinates\":null,\"fill_alpha\":0.5,\"fill_color\":\"lightgrey\",\"group\":null,\"left_units\":\"screen\",\"level\":\"overlay\",\"line_alpha\":1.0,\"line_color\":\"black\",\"line_dash\":[4,4],\"line_width\":2,\"right_units\":\"screen\",\"syncable\":false,\"top_units\":\"screen\"},\"id\":\"2208\",\"type\":\"BoxAnnotation\"},{\"attributes\":{\"data\":{\"x\":[0,3,6],\"y\":[0,5.19615242271,0]},\"selected\":{\"id\":\"2323\"},\"selection_policy\":{\"id\":\"2322\"}},\"id\":\"2216\",\"type\":\"ColumnDataSource\"},{\"attributes\":{},\"id\":\"2207\",\"type\":\"HelpTool\"},{\"attributes\":{},\"id\":\"2195\",\"type\":\"BasicTicker\"},{\"attributes\":{\"coordinates\":null,\"group\":null,\"text_color\":\"#5B5B5B\",\"text_font\":\"Calibri Light\",\"text_font_size\":\"1.25em\",\"text_font_style\":\"bold\"},\"id\":\"2314\",\"type\":\"Title\"},{\"attributes\":{\"axis_label_standoff\":10,\"axis_label_text_color\":\"#5B5B5B\",\"axis_label_text_font\":\"Calibri Light\",\"axis_label_text_font_size\":\"1.15em\",\"axis_label_text_font_style\":\"bold\",\"axis_line_alpha\":1,\"axis_line_color\":\"#5B5B5B\",\"coordinates\":null,\"formatter\":{\"id\":\"2320\"},\"group\":null,\"major_label_policy\":{\"id\":\"2321\"},\"major_label_text_color\":\"#5B5B5B\",\"major_label_text_font\":\"Calibri Light\",\"major_label_text_font_size\":\"0.95em\",\"major_label_text_font_style\":\"bold\",\"major_tick_in\":0,\"major_tick_line_alpha\":0.25,\"major_tick_line_color\":\"#5B5B5B\",\"major_tick_out\":3,\"minor_tick_line_alpha\":0.25,\"minor_tick_line_color\":\"#5B5B5B\",\"ticker\":{\"id\":\"2195\"}},\"id\":\"2194\",\"type\":\"LinearAxis\"},{\"attributes\":{\"end\":7,\"start\":-1},\"id\":\"2186\",\"type\":\"Range1d\"},{\"attributes\":{\"axis\":{\"id\":\"2194\"},\"coordinates\":null,\"group\":null,\"ticker\":null},\"id\":\"2197\",\"type\":\"Grid\"},{\"attributes\":{},\"id\":\"2192\",\"type\":\"LinearScale\"},{\"attributes\":{},\"id\":\"2321\",\"type\":\"AllLabels\"}],\"root_ids\":[\"2185\"]},\"title\":\"Bokeh Application\",\"version\":\"2.4.3\"}};\n  const render_items = [{\"docid\":\"df0a7c89-237c-4309-bce6-6832dabe6d24\",\"root_ids\":[\"2185\"],\"roots\":{\"2185\":\"4e62e79a-2faf-4dd8-86db-73dd30f58803\"}}];\n  root.Bokeh.embed.embed_items_notebook(docs_json, render_items);\n  }\n  if (root.Bokeh !== undefined) {\n    embed_document(root);\n  } else {\n    let attempts = 0;\n    const timer = setInterval(function(root) {\n      if (root.Bokeh !== undefined) {\n        clearInterval(timer);\n        embed_document(root);\n      } else {\n        attempts++;\n        if (attempts > 100) {\n          clearInterval(timer);\n          console.log(\"Bokeh: ERROR: Unable to run BokehJS code because BokehJS library is missing\");\n        }\n      }\n    }, 10, root)\n  }\n})(window);",
      "application/vnd.bokehjs_exec.v0+json": ""
     },
     "metadata": {
      "application/vnd.bokehjs_exec.v0+json": {
       "id": "2185"
      }
     },
     "output_type": "display_data"
    }
   ],
   "source": [
    "\n"
   ]
  },
  {
   "cell_type": "markdown",
   "metadata": {
    "deletable": false,
    "editable": false,
    "run_control": {
     "frozen": true
    }
   },
   "source": [
    "Nous allons tracer 3 flèches différentes entre ces points. Pour chacune de ces flèches, il faudra instancier un objet de type `ArrowHead` pour définir la forme de la flèche ainsi qu'un objet de type `Arrow` pour définir le départ, l'arrivée et la couleur de chaque flèche.\n",
    "\n",
    "* Instancier une forme de flèche `OpenHead` avec une couleur de tracé (`line_color`) rouge et une taille de 15. La nommer `openhead`.\n",
    "\n",
    "\n",
    "* Instancier une flèche `Arrow` nommée `arrow1` telle que:\n",
    "    * la forme d'arrivée de la flèche soit `openhead`.\n",
    "    * les coordonnées de départ de la flèche soient $(x_0, y_0)$.\n",
    "    * les coordonnées d'arrivée de la flèche soient $(x_1, y_1)$. \n",
    "    * la couleur de tracé de la flèche soit rouge.\n",
    "    \n",
    "\n",
    "* Ajouter `arrow1` aux annotations de la figure.\n",
    "\n",
    "\n",
    "* Afficher la figure."
   ]
  },
  {
   "cell_type": "code",
   "execution_count": null,
   "outputs": [],
   "source": [
    "### Insérez votre code ici\n",
    "\n"
   ],
   "metadata": {
    "collapsed": false
   }
  },
  {
   "cell_type": "code",
   "execution_count": 12,
   "metadata": {
    "ExecuteTime": {
     "end_time": "2023-11-28T09:48:22.333722Z",
     "start_time": "2023-11-28T09:48:22.330400Z"
    }
   },
   "outputs": [
    {
     "data": {
      "text/html": "\n  <div class=\"bk-root\" id=\"2dc2490d-fee6-4efe-9f2c-d341c5c2ed1c\" data-root-id=\"2185\"></div>\n"
     },
     "metadata": {},
     "output_type": "display_data"
    },
    {
     "data": {
      "application/javascript": "(function(root) {\n  function embed_document(root) {\n  const docs_json = {\"168aa2d6-f173-4970-a068-a8bb3b6bc167\":{\"defs\":[],\"roots\":{\"references\":[{\"attributes\":{\"below\":[{\"id\":\"2194\"}],\"center\":[{\"id\":\"2197\"},{\"id\":\"2201\"},{\"id\":\"2381\"}],\"height\":400,\"left\":[{\"id\":\"2198\"}],\"renderers\":[{\"id\":\"2220\"}],\"title\":{\"id\":\"2314\"},\"toolbar\":{\"id\":\"2209\"},\"width\":400,\"x_range\":{\"id\":\"2186\"},\"x_scale\":{\"id\":\"2190\"},\"y_range\":{\"id\":\"2188\"},\"y_scale\":{\"id\":\"2192\"}},\"id\":\"2185\",\"subtype\":\"Figure\",\"type\":\"Plot\"},{\"attributes\":{\"fill_color\":{\"value\":\"#1f77b4\"},\"line_color\":{\"value\":\"#1f77b4\"},\"marker\":{\"value\":\"x\"},\"size\":{\"value\":10},\"x\":{\"field\":\"x\"},\"y\":{\"field\":\"y\"}},\"id\":\"2217\",\"type\":\"Scatter\"},{\"attributes\":{},\"id\":\"2320\",\"type\":\"BasicTickFormatter\"},{\"attributes\":{\"data\":{},\"selected\":{\"id\":\"2488\"},\"selection_policy\":{\"id\":\"2487\"}},\"id\":\"2483\",\"type\":\"ColumnDataSource\"},{\"attributes\":{},\"id\":\"2317\",\"type\":\"BasicTickFormatter\"},{\"attributes\":{},\"id\":\"2203\",\"type\":\"WheelZoomTool\"},{\"attributes\":{\"tools\":[{\"id\":\"2202\"},{\"id\":\"2203\"},{\"id\":\"2204\"},{\"id\":\"2205\"},{\"id\":\"2206\"},{\"id\":\"2207\"}]},\"id\":\"2209\",\"type\":\"Toolbar\"},{\"attributes\":{},\"id\":\"2318\",\"type\":\"AllLabels\"},{\"attributes\":{},\"id\":\"2323\",\"type\":\"Selection\"},{\"attributes\":{\"line_color\":{\"value\":\"red\"},\"size\":{\"value\":15}},\"id\":\"2380\",\"type\":\"OpenHead\"},{\"attributes\":{\"source\":{\"id\":\"2216\"}},\"id\":\"2221\",\"type\":\"CDSView\"},{\"attributes\":{\"axis\":{\"id\":\"2198\"},\"coordinates\":null,\"dimension\":1,\"group\":null,\"ticker\":null},\"id\":\"2201\",\"type\":\"Grid\"},{\"attributes\":{},\"id\":\"2190\",\"type\":\"LinearScale\"},{\"attributes\":{\"fill_alpha\":{\"value\":0.2},\"fill_color\":{\"value\":\"#1f77b4\"},\"hatch_alpha\":{\"value\":0.2},\"line_alpha\":{\"value\":0.2},\"line_color\":{\"value\":\"#1f77b4\"},\"marker\":{\"value\":\"x\"},\"size\":{\"value\":10},\"x\":{\"field\":\"x\"},\"y\":{\"field\":\"y\"}},\"id\":\"2219\",\"type\":\"Scatter\"},{\"attributes\":{},\"id\":\"2202\",\"type\":\"PanTool\"},{\"attributes\":{},\"id\":\"2322\",\"type\":\"UnionRenderers\"},{\"attributes\":{\"axis_label_standoff\":10,\"axis_label_text_color\":\"#5B5B5B\",\"axis_label_text_font\":\"Calibri Light\",\"axis_label_text_font_size\":\"1.15em\",\"axis_label_text_font_style\":\"bold\",\"axis_line_alpha\":1,\"axis_line_color\":\"#5B5B5B\",\"coordinates\":null,\"formatter\":{\"id\":\"2317\"},\"group\":null,\"major_label_policy\":{\"id\":\"2318\"},\"major_label_text_color\":\"#5B5B5B\",\"major_label_text_font\":\"Calibri Light\",\"major_label_text_font_size\":\"0.95em\",\"major_label_text_font_style\":\"bold\",\"major_tick_in\":0,\"major_tick_line_alpha\":0.25,\"major_tick_line_color\":\"#5B5B5B\",\"major_tick_out\":3,\"minor_tick_line_alpha\":0.25,\"minor_tick_line_color\":\"#5B5B5B\",\"ticker\":{\"id\":\"2199\"}},\"id\":\"2198\",\"type\":\"LinearAxis\"},{\"attributes\":{},\"id\":\"2206\",\"type\":\"ResetTool\"},{\"attributes\":{\"coordinates\":null,\"data_source\":{\"id\":\"2216\"},\"glyph\":{\"id\":\"2217\"},\"group\":null,\"hover_glyph\":null,\"muted_glyph\":{\"id\":\"2219\"},\"nonselection_glyph\":{\"id\":\"2218\"},\"view\":{\"id\":\"2221\"}},\"id\":\"2220\",\"type\":\"GlyphRenderer\"},{\"attributes\":{},\"id\":\"2487\",\"type\":\"UnionRenderers\"},{\"attributes\":{},\"id\":\"2205\",\"type\":\"SaveTool\"},{\"attributes\":{\"fill_alpha\":{\"value\":0.1},\"fill_color\":{\"value\":\"#1f77b4\"},\"hatch_alpha\":{\"value\":0.1},\"line_alpha\":{\"value\":0.1},\"line_color\":{\"value\":\"#1f77b4\"},\"marker\":{\"value\":\"x\"},\"size\":{\"value\":10},\"x\":{\"field\":\"x\"},\"y\":{\"field\":\"y\"}},\"id\":\"2218\",\"type\":\"Scatter\"},{\"attributes\":{\"overlay\":{\"id\":\"2208\"}},\"id\":\"2204\",\"type\":\"BoxZoomTool\"},{\"attributes\":{\"end\":6.19615242271,\"start\":-1},\"id\":\"2188\",\"type\":\"Range1d\"},{\"attributes\":{\"coordinates\":null,\"end\":{\"id\":\"2380\"},\"group\":null,\"line_color\":{\"value\":\"red\"},\"source\":{\"id\":\"2483\"},\"start\":null,\"x_end\":{\"value\":3},\"x_start\":{\"value\":0},\"y_end\":{\"value\":5.19615242271},\"y_start\":{\"value\":0}},\"id\":\"2381\",\"type\":\"Arrow\"},{\"attributes\":{},\"id\":\"2199\",\"type\":\"BasicTicker\"},{\"attributes\":{\"bottom_units\":\"screen\",\"coordinates\":null,\"fill_alpha\":0.5,\"fill_color\":\"lightgrey\",\"group\":null,\"left_units\":\"screen\",\"level\":\"overlay\",\"line_alpha\":1.0,\"line_color\":\"black\",\"line_dash\":[4,4],\"line_width\":2,\"right_units\":\"screen\",\"syncable\":false,\"top_units\":\"screen\"},\"id\":\"2208\",\"type\":\"BoxAnnotation\"},{\"attributes\":{\"data\":{\"x\":[0,3,6],\"y\":[0,5.19615242271,0]},\"selected\":{\"id\":\"2323\"},\"selection_policy\":{\"id\":\"2322\"}},\"id\":\"2216\",\"type\":\"ColumnDataSource\"},{\"attributes\":{},\"id\":\"2207\",\"type\":\"HelpTool\"},{\"attributes\":{},\"id\":\"2195\",\"type\":\"BasicTicker\"},{\"attributes\":{\"coordinates\":null,\"group\":null,\"text_color\":\"#5B5B5B\",\"text_font\":\"Calibri Light\",\"text_font_size\":\"1.25em\",\"text_font_style\":\"bold\"},\"id\":\"2314\",\"type\":\"Title\"},{\"attributes\":{\"axis_label_standoff\":10,\"axis_label_text_color\":\"#5B5B5B\",\"axis_label_text_font\":\"Calibri Light\",\"axis_label_text_font_size\":\"1.15em\",\"axis_label_text_font_style\":\"bold\",\"axis_line_alpha\":1,\"axis_line_color\":\"#5B5B5B\",\"coordinates\":null,\"formatter\":{\"id\":\"2320\"},\"group\":null,\"major_label_policy\":{\"id\":\"2321\"},\"major_label_text_color\":\"#5B5B5B\",\"major_label_text_font\":\"Calibri Light\",\"major_label_text_font_size\":\"0.95em\",\"major_label_text_font_style\":\"bold\",\"major_tick_in\":0,\"major_tick_line_alpha\":0.25,\"major_tick_line_color\":\"#5B5B5B\",\"major_tick_out\":3,\"minor_tick_line_alpha\":0.25,\"minor_tick_line_color\":\"#5B5B5B\",\"ticker\":{\"id\":\"2195\"}},\"id\":\"2194\",\"type\":\"LinearAxis\"},{\"attributes\":{\"end\":7,\"start\":-1},\"id\":\"2186\",\"type\":\"Range1d\"},{\"attributes\":{\"axis\":{\"id\":\"2194\"},\"coordinates\":null,\"group\":null,\"ticker\":null},\"id\":\"2197\",\"type\":\"Grid\"},{\"attributes\":{},\"id\":\"2488\",\"type\":\"Selection\"},{\"attributes\":{},\"id\":\"2192\",\"type\":\"LinearScale\"},{\"attributes\":{},\"id\":\"2321\",\"type\":\"AllLabels\"}],\"root_ids\":[\"2185\"]},\"title\":\"Bokeh Application\",\"version\":\"2.4.3\"}};\n  const render_items = [{\"docid\":\"168aa2d6-f173-4970-a068-a8bb3b6bc167\",\"root_ids\":[\"2185\"],\"roots\":{\"2185\":\"2dc2490d-fee6-4efe-9f2c-d341c5c2ed1c\"}}];\n  root.Bokeh.embed.embed_items_notebook(docs_json, render_items);\n  }\n  if (root.Bokeh !== undefined) {\n    embed_document(root);\n  } else {\n    let attempts = 0;\n    const timer = setInterval(function(root) {\n      if (root.Bokeh !== undefined) {\n        clearInterval(timer);\n        embed_document(root);\n      } else {\n        attempts++;\n        if (attempts > 100) {\n          clearInterval(timer);\n          console.log(\"Bokeh: ERROR: Unable to run BokehJS code because BokehJS library is missing\");\n        }\n      }\n    }, 10, root)\n  }\n})(window);",
      "application/vnd.bokehjs_exec.v0+json": ""
     },
     "metadata": {
      "application/vnd.bokehjs_exec.v0+json": {
       "id": "2185"
      }
     },
     "output_type": "display_data"
    }
   ],
   "source": [
    "\n",
    "\n"
   ]
  },
  {
   "cell_type": "markdown",
   "metadata": {
    "deletable": false,
    "editable": false,
    "run_control": {
     "frozen": true
    }
   },
   "source": [
    "* Instancier une forme de flèche `VeeHead` avec une couleur de remplissage (`fill_color`) rouge et une taille de 15. La nommer `veehead`.\n",
    "\n",
    "\n",
    "* Instancier une flèche `Arrow` nommée `arrow2` telle que:\n",
    "    * la forme d'arrivée de la flèche soit `veehead`.\n",
    "    * les coordonnées de départ de la flèche soient $(x_1, y_1)$.\n",
    "    * les coordonnées d'arrivée de la flèche soient $(x_2, y_2)$. \n",
    "    * la couleur de tracé de la flèche soit rouge.\n",
    "    \n",
    "\n",
    "* Ajouter `arrow2` aux annotations de la figure.\n",
    "\n",
    "\n",
    "* Afficher la figure."
   ]
  },
  {
   "cell_type": "code",
   "execution_count": null,
   "outputs": [],
   "source": [
    "### Insérez votre code ici\n",
    "\n"
   ],
   "metadata": {
    "collapsed": false
   }
  },
  {
   "cell_type": "code",
   "execution_count": 14,
   "metadata": {
    "ExecuteTime": {
     "end_time": "2023-11-28T09:49:02.548885Z",
     "start_time": "2023-11-28T09:49:02.506126Z"
    }
   },
   "outputs": [
    {
     "data": {
      "text/html": "\n  <div class=\"bk-root\" id=\"2c74b4d8-08e8-4e67-92b5-640aec28118a\" data-root-id=\"2185\"></div>\n"
     },
     "metadata": {},
     "output_type": "display_data"
    },
    {
     "data": {
      "application/javascript": "(function(root) {\n  function embed_document(root) {\n  const docs_json = {\"417f775a-f9ef-457e-b0dc-b38f435177c0\":{\"defs\":[],\"roots\":{\"references\":[{\"attributes\":{\"below\":[{\"id\":\"2194\"}],\"center\":[{\"id\":\"2197\"},{\"id\":\"2201\"},{\"id\":\"2381\"},{\"id\":\"2752\"}],\"height\":400,\"left\":[{\"id\":\"2198\"}],\"renderers\":[{\"id\":\"2220\"}],\"title\":{\"id\":\"2314\"},\"toolbar\":{\"id\":\"2209\"},\"width\":400,\"x_range\":{\"id\":\"2186\"},\"x_scale\":{\"id\":\"2190\"},\"y_range\":{\"id\":\"2188\"},\"y_scale\":{\"id\":\"2192\"}},\"id\":\"2185\",\"subtype\":\"Figure\",\"type\":\"Plot\"},{\"attributes\":{\"fill_color\":{\"value\":\"#1f77b4\"},\"line_color\":{\"value\":\"#1f77b4\"},\"marker\":{\"value\":\"x\"},\"size\":{\"value\":10},\"x\":{\"field\":\"x\"},\"y\":{\"field\":\"y\"}},\"id\":\"2217\",\"type\":\"Scatter\"},{\"attributes\":{},\"id\":\"2320\",\"type\":\"BasicTickFormatter\"},{\"attributes\":{\"data\":{},\"selected\":{\"id\":\"2488\"},\"selection_policy\":{\"id\":\"2487\"}},\"id\":\"2483\",\"type\":\"ColumnDataSource\"},{\"attributes\":{},\"id\":\"2317\",\"type\":\"BasicTickFormatter\"},{\"attributes\":{\"data\":{},\"selected\":{\"id\":\"2865\"},\"selection_policy\":{\"id\":\"2864\"}},\"id\":\"2858\",\"type\":\"ColumnDataSource\"},{\"attributes\":{},\"id\":\"2203\",\"type\":\"WheelZoomTool\"},{\"attributes\":{\"tools\":[{\"id\":\"2202\"},{\"id\":\"2203\"},{\"id\":\"2204\"},{\"id\":\"2205\"},{\"id\":\"2206\"},{\"id\":\"2207\"}]},\"id\":\"2209\",\"type\":\"Toolbar\"},{\"attributes\":{},\"id\":\"2318\",\"type\":\"AllLabels\"},{\"attributes\":{\"coordinates\":null,\"end\":{\"id\":\"2751\"},\"group\":null,\"line_color\":{\"value\":\"red\"},\"source\":{\"id\":\"2858\"},\"start\":null,\"x_end\":{\"value\":6},\"x_start\":{\"value\":3},\"y_end\":{\"value\":0},\"y_start\":{\"value\":5.19615242271}},\"id\":\"2752\",\"type\":\"Arrow\"},{\"attributes\":{\"line_color\":{\"value\":\"red\"},\"size\":{\"value\":15}},\"id\":\"2380\",\"type\":\"OpenHead\"},{\"attributes\":{},\"id\":\"2323\",\"type\":\"Selection\"},{\"attributes\":{\"source\":{\"id\":\"2216\"}},\"id\":\"2221\",\"type\":\"CDSView\"},{\"attributes\":{\"axis\":{\"id\":\"2198\"},\"coordinates\":null,\"dimension\":1,\"group\":null,\"ticker\":null},\"id\":\"2201\",\"type\":\"Grid\"},{\"attributes\":{},\"id\":\"2190\",\"type\":\"LinearScale\"},{\"attributes\":{\"fill_alpha\":{\"value\":0.2},\"fill_color\":{\"value\":\"#1f77b4\"},\"hatch_alpha\":{\"value\":0.2},\"line_alpha\":{\"value\":0.2},\"line_color\":{\"value\":\"#1f77b4\"},\"marker\":{\"value\":\"x\"},\"size\":{\"value\":10},\"x\":{\"field\":\"x\"},\"y\":{\"field\":\"y\"}},\"id\":\"2219\",\"type\":\"Scatter\"},{\"attributes\":{\"fill_color\":{\"value\":\"red\"},\"size\":{\"value\":15}},\"id\":\"2751\",\"type\":\"VeeHead\"},{\"attributes\":{},\"id\":\"2202\",\"type\":\"PanTool\"},{\"attributes\":{},\"id\":\"2322\",\"type\":\"UnionRenderers\"},{\"attributes\":{\"axis_label_standoff\":10,\"axis_label_text_color\":\"#5B5B5B\",\"axis_label_text_font\":\"Calibri Light\",\"axis_label_text_font_size\":\"1.15em\",\"axis_label_text_font_style\":\"bold\",\"axis_line_alpha\":1,\"axis_line_color\":\"#5B5B5B\",\"coordinates\":null,\"formatter\":{\"id\":\"2317\"},\"group\":null,\"major_label_policy\":{\"id\":\"2318\"},\"major_label_text_color\":\"#5B5B5B\",\"major_label_text_font\":\"Calibri Light\",\"major_label_text_font_size\":\"0.95em\",\"major_label_text_font_style\":\"bold\",\"major_tick_in\":0,\"major_tick_line_alpha\":0.25,\"major_tick_line_color\":\"#5B5B5B\",\"major_tick_out\":3,\"minor_tick_line_alpha\":0.25,\"minor_tick_line_color\":\"#5B5B5B\",\"ticker\":{\"id\":\"2199\"}},\"id\":\"2198\",\"type\":\"LinearAxis\"},{\"attributes\":{},\"id\":\"2206\",\"type\":\"ResetTool\"},{\"attributes\":{\"coordinates\":null,\"data_source\":{\"id\":\"2216\"},\"glyph\":{\"id\":\"2217\"},\"group\":null,\"hover_glyph\":null,\"muted_glyph\":{\"id\":\"2219\"},\"nonselection_glyph\":{\"id\":\"2218\"},\"view\":{\"id\":\"2221\"}},\"id\":\"2220\",\"type\":\"GlyphRenderer\"},{\"attributes\":{},\"id\":\"2487\",\"type\":\"UnionRenderers\"},{\"attributes\":{},\"id\":\"2205\",\"type\":\"SaveTool\"},{\"attributes\":{},\"id\":\"2864\",\"type\":\"UnionRenderers\"},{\"attributes\":{\"fill_alpha\":{\"value\":0.1},\"fill_color\":{\"value\":\"#1f77b4\"},\"hatch_alpha\":{\"value\":0.1},\"line_alpha\":{\"value\":0.1},\"line_color\":{\"value\":\"#1f77b4\"},\"marker\":{\"value\":\"x\"},\"size\":{\"value\":10},\"x\":{\"field\":\"x\"},\"y\":{\"field\":\"y\"}},\"id\":\"2218\",\"type\":\"Scatter\"},{\"attributes\":{\"overlay\":{\"id\":\"2208\"}},\"id\":\"2204\",\"type\":\"BoxZoomTool\"},{\"attributes\":{\"end\":6.19615242271,\"start\":-1},\"id\":\"2188\",\"type\":\"Range1d\"},{\"attributes\":{\"coordinates\":null,\"end\":{\"id\":\"2380\"},\"group\":null,\"line_color\":{\"value\":\"red\"},\"source\":{\"id\":\"2483\"},\"start\":null,\"x_end\":{\"value\":3},\"x_start\":{\"value\":0},\"y_end\":{\"value\":5.19615242271},\"y_start\":{\"value\":0}},\"id\":\"2381\",\"type\":\"Arrow\"},{\"attributes\":{},\"id\":\"2199\",\"type\":\"BasicTicker\"},{\"attributes\":{\"bottom_units\":\"screen\",\"coordinates\":null,\"fill_alpha\":0.5,\"fill_color\":\"lightgrey\",\"group\":null,\"left_units\":\"screen\",\"level\":\"overlay\",\"line_alpha\":1.0,\"line_color\":\"black\",\"line_dash\":[4,4],\"line_width\":2,\"right_units\":\"screen\",\"syncable\":false,\"top_units\":\"screen\"},\"id\":\"2208\",\"type\":\"BoxAnnotation\"},{\"attributes\":{\"data\":{\"x\":[0,3,6],\"y\":[0,5.19615242271,0]},\"selected\":{\"id\":\"2323\"},\"selection_policy\":{\"id\":\"2322\"}},\"id\":\"2216\",\"type\":\"ColumnDataSource\"},{\"attributes\":{},\"id\":\"2207\",\"type\":\"HelpTool\"},{\"attributes\":{},\"id\":\"2195\",\"type\":\"BasicTicker\"},{\"attributes\":{\"coordinates\":null,\"group\":null,\"text_color\":\"#5B5B5B\",\"text_font\":\"Calibri Light\",\"text_font_size\":\"1.25em\",\"text_font_style\":\"bold\"},\"id\":\"2314\",\"type\":\"Title\"},{\"attributes\":{\"axis_label_standoff\":10,\"axis_label_text_color\":\"#5B5B5B\",\"axis_label_text_font\":\"Calibri Light\",\"axis_label_text_font_size\":\"1.15em\",\"axis_label_text_font_style\":\"bold\",\"axis_line_alpha\":1,\"axis_line_color\":\"#5B5B5B\",\"coordinates\":null,\"formatter\":{\"id\":\"2320\"},\"group\":null,\"major_label_policy\":{\"id\":\"2321\"},\"major_label_text_color\":\"#5B5B5B\",\"major_label_text_font\":\"Calibri Light\",\"major_label_text_font_size\":\"0.95em\",\"major_label_text_font_style\":\"bold\",\"major_tick_in\":0,\"major_tick_line_alpha\":0.25,\"major_tick_line_color\":\"#5B5B5B\",\"major_tick_out\":3,\"minor_tick_line_alpha\":0.25,\"minor_tick_line_color\":\"#5B5B5B\",\"ticker\":{\"id\":\"2195\"}},\"id\":\"2194\",\"type\":\"LinearAxis\"},{\"attributes\":{\"end\":7,\"start\":-1},\"id\":\"2186\",\"type\":\"Range1d\"},{\"attributes\":{},\"id\":\"2865\",\"type\":\"Selection\"},{\"attributes\":{\"axis\":{\"id\":\"2194\"},\"coordinates\":null,\"group\":null,\"ticker\":null},\"id\":\"2197\",\"type\":\"Grid\"},{\"attributes\":{},\"id\":\"2488\",\"type\":\"Selection\"},{\"attributes\":{},\"id\":\"2192\",\"type\":\"LinearScale\"},{\"attributes\":{},\"id\":\"2321\",\"type\":\"AllLabels\"}],\"root_ids\":[\"2185\"]},\"title\":\"Bokeh Application\",\"version\":\"2.4.3\"}};\n  const render_items = [{\"docid\":\"417f775a-f9ef-457e-b0dc-b38f435177c0\",\"root_ids\":[\"2185\"],\"roots\":{\"2185\":\"2c74b4d8-08e8-4e67-92b5-640aec28118a\"}}];\n  root.Bokeh.embed.embed_items_notebook(docs_json, render_items);\n  }\n  if (root.Bokeh !== undefined) {\n    embed_document(root);\n  } else {\n    let attempts = 0;\n    const timer = setInterval(function(root) {\n      if (root.Bokeh !== undefined) {\n        clearInterval(timer);\n        embed_document(root);\n      } else {\n        attempts++;\n        if (attempts > 100) {\n          clearInterval(timer);\n          console.log(\"Bokeh: ERROR: Unable to run BokehJS code because BokehJS library is missing\");\n        }\n      }\n    }, 10, root)\n  }\n})(window);",
      "application/vnd.bokehjs_exec.v0+json": ""
     },
     "metadata": {
      "application/vnd.bokehjs_exec.v0+json": {
       "id": "2185"
      }
     },
     "output_type": "display_data"
    }
   ],
   "source": [
    "\n",
    "\n",
    "\n"
   ]
  },
  {
   "cell_type": "markdown",
   "metadata": {
    "deletable": false,
    "editable": false,
    "run_control": {
     "frozen": true
    }
   },
   "source": [
    "* Instancier une forme de flèche `NormalHead` avec une couleur de remplissage (`fill_color`) rouge et une taille de 15. La nommer `normalhead`.\n",
    "\n",
    "\n",
    "* Instancier une flèche `Arrow` nommée `arrow3` telle que:\n",
    "    * la forme d'arrivée de la flèche soit `normalhead`.\n",
    "    * les coordonnées de départ de la flèche soient $(x_2, y_2)$.\n",
    "    * les coordonnées d'arrivée de la flèche soient $(x_0, y_0)$. \n",
    "    * la couleur de tracé de la flèche soit rouge.\n",
    "    \n",
    "\n",
    "* Ajouter `arrow3` aux annotations de la figure.\n",
    "\n",
    "\n",
    "* Afficher la figure."
   ]
  },
  {
   "cell_type": "code",
   "execution_count": null,
   "outputs": [],
   "source": [
    "### Insérez votre code ici\n",
    "\n"
   ],
   "metadata": {
    "collapsed": false
   }
  },
  {
   "cell_type": "code",
   "execution_count": 16,
   "metadata": {
    "ExecuteTime": {
     "end_time": "2023-11-28T09:49:12.954709Z",
     "start_time": "2023-11-28T09:49:12.949935Z"
    }
   },
   "outputs": [
    {
     "data": {
      "text/html": "\n  <div class=\"bk-root\" id=\"9f6e134c-670e-4007-b008-582fd7c0247a\" data-root-id=\"2185\"></div>\n"
     },
     "metadata": {},
     "output_type": "display_data"
    },
    {
     "data": {
      "application/javascript": "(function(root) {\n  function embed_document(root) {\n  const docs_json = {\"36a4efc9-a84c-423d-b329-ab818cab2e93\":{\"defs\":[],\"roots\":{\"references\":[{\"attributes\":{\"below\":[{\"id\":\"2194\"}],\"center\":[{\"id\":\"2197\"},{\"id\":\"2201\"},{\"id\":\"2381\"},{\"id\":\"2752\"},{\"id\":\"3165\"}],\"height\":400,\"left\":[{\"id\":\"2198\"}],\"renderers\":[{\"id\":\"2220\"}],\"title\":{\"id\":\"2314\"},\"toolbar\":{\"id\":\"2209\"},\"width\":400,\"x_range\":{\"id\":\"2186\"},\"x_scale\":{\"id\":\"2190\"},\"y_range\":{\"id\":\"2188\"},\"y_scale\":{\"id\":\"2192\"}},\"id\":\"2185\",\"subtype\":\"Figure\",\"type\":\"Plot\"},{\"attributes\":{\"fill_color\":{\"value\":\"#1f77b4\"},\"line_color\":{\"value\":\"#1f77b4\"},\"marker\":{\"value\":\"x\"},\"size\":{\"value\":10},\"x\":{\"field\":\"x\"},\"y\":{\"field\":\"y\"}},\"id\":\"2217\",\"type\":\"Scatter\"},{\"attributes\":{},\"id\":\"2320\",\"type\":\"BasicTickFormatter\"},{\"attributes\":{\"data\":{},\"selected\":{\"id\":\"2488\"},\"selection_policy\":{\"id\":\"2487\"}},\"id\":\"2483\",\"type\":\"ColumnDataSource\"},{\"attributes\":{},\"id\":\"2317\",\"type\":\"BasicTickFormatter\"},{\"attributes\":{\"data\":{},\"selected\":{\"id\":\"2865\"},\"selection_policy\":{\"id\":\"2864\"}},\"id\":\"2858\",\"type\":\"ColumnDataSource\"},{\"attributes\":{},\"id\":\"2203\",\"type\":\"WheelZoomTool\"},{\"attributes\":{\"tools\":[{\"id\":\"2202\"},{\"id\":\"2203\"},{\"id\":\"2204\"},{\"id\":\"2205\"},{\"id\":\"2206\"},{\"id\":\"2207\"}]},\"id\":\"2209\",\"type\":\"Toolbar\"},{\"attributes\":{},\"id\":\"2318\",\"type\":\"AllLabels\"},{\"attributes\":{\"coordinates\":null,\"end\":{\"id\":\"2751\"},\"group\":null,\"line_color\":{\"value\":\"red\"},\"source\":{\"id\":\"2858\"},\"start\":null,\"x_end\":{\"value\":6},\"x_start\":{\"value\":3},\"y_end\":{\"value\":0},\"y_start\":{\"value\":5.19615242271}},\"id\":\"2752\",\"type\":\"Arrow\"},{\"attributes\":{\"line_color\":{\"value\":\"red\"},\"size\":{\"value\":15}},\"id\":\"2380\",\"type\":\"OpenHead\"},{\"attributes\":{},\"id\":\"2323\",\"type\":\"Selection\"},{\"attributes\":{\"source\":{\"id\":\"2216\"}},\"id\":\"2221\",\"type\":\"CDSView\"},{\"attributes\":{\"axis\":{\"id\":\"2198\"},\"coordinates\":null,\"dimension\":1,\"group\":null,\"ticker\":null},\"id\":\"2201\",\"type\":\"Grid\"},{\"attributes\":{},\"id\":\"2190\",\"type\":\"LinearScale\"},{\"attributes\":{\"fill_alpha\":{\"value\":0.2},\"fill_color\":{\"value\":\"#1f77b4\"},\"hatch_alpha\":{\"value\":0.2},\"line_alpha\":{\"value\":0.2},\"line_color\":{\"value\":\"#1f77b4\"},\"marker\":{\"value\":\"x\"},\"size\":{\"value\":10},\"x\":{\"field\":\"x\"},\"y\":{\"field\":\"y\"}},\"id\":\"2219\",\"type\":\"Scatter\"},{\"attributes\":{\"fill_color\":{\"value\":\"red\"},\"size\":{\"value\":15}},\"id\":\"2751\",\"type\":\"VeeHead\"},{\"attributes\":{\"fill_color\":{\"value\":\"red\"},\"size\":{\"value\":15}},\"id\":\"3164\",\"type\":\"NormalHead\"},{\"attributes\":{},\"id\":\"2202\",\"type\":\"PanTool\"},{\"attributes\":{},\"id\":\"2322\",\"type\":\"UnionRenderers\"},{\"attributes\":{\"axis_label_standoff\":10,\"axis_label_text_color\":\"#5B5B5B\",\"axis_label_text_font\":\"Calibri Light\",\"axis_label_text_font_size\":\"1.15em\",\"axis_label_text_font_style\":\"bold\",\"axis_line_alpha\":1,\"axis_line_color\":\"#5B5B5B\",\"coordinates\":null,\"formatter\":{\"id\":\"2317\"},\"group\":null,\"major_label_policy\":{\"id\":\"2318\"},\"major_label_text_color\":\"#5B5B5B\",\"major_label_text_font\":\"Calibri Light\",\"major_label_text_font_size\":\"0.95em\",\"major_label_text_font_style\":\"bold\",\"major_tick_in\":0,\"major_tick_line_alpha\":0.25,\"major_tick_line_color\":\"#5B5B5B\",\"major_tick_out\":3,\"minor_tick_line_alpha\":0.25,\"minor_tick_line_color\":\"#5B5B5B\",\"ticker\":{\"id\":\"2199\"}},\"id\":\"2198\",\"type\":\"LinearAxis\"},{\"attributes\":{},\"id\":\"2206\",\"type\":\"ResetTool\"},{\"attributes\":{\"coordinates\":null,\"data_source\":{\"id\":\"2216\"},\"glyph\":{\"id\":\"2217\"},\"group\":null,\"hover_glyph\":null,\"muted_glyph\":{\"id\":\"2219\"},\"nonselection_glyph\":{\"id\":\"2218\"},\"view\":{\"id\":\"2221\"}},\"id\":\"2220\",\"type\":\"GlyphRenderer\"},{\"attributes\":{},\"id\":\"3284\",\"type\":\"Selection\"},{\"attributes\":{},\"id\":\"3283\",\"type\":\"UnionRenderers\"},{\"attributes\":{},\"id\":\"2487\",\"type\":\"UnionRenderers\"},{\"attributes\":{},\"id\":\"2205\",\"type\":\"SaveTool\"},{\"attributes\":{},\"id\":\"2864\",\"type\":\"UnionRenderers\"},{\"attributes\":{\"fill_alpha\":{\"value\":0.1},\"fill_color\":{\"value\":\"#1f77b4\"},\"hatch_alpha\":{\"value\":0.1},\"line_alpha\":{\"value\":0.1},\"line_color\":{\"value\":\"#1f77b4\"},\"marker\":{\"value\":\"x\"},\"size\":{\"value\":10},\"x\":{\"field\":\"x\"},\"y\":{\"field\":\"y\"}},\"id\":\"2218\",\"type\":\"Scatter\"},{\"attributes\":{\"overlay\":{\"id\":\"2208\"}},\"id\":\"2204\",\"type\":\"BoxZoomTool\"},{\"attributes\":{\"end\":6.19615242271,\"start\":-1},\"id\":\"2188\",\"type\":\"Range1d\"},{\"attributes\":{\"coordinates\":null,\"end\":{\"id\":\"2380\"},\"group\":null,\"line_color\":{\"value\":\"red\"},\"source\":{\"id\":\"2483\"},\"start\":null,\"x_end\":{\"value\":3},\"x_start\":{\"value\":0},\"y_end\":{\"value\":5.19615242271},\"y_start\":{\"value\":0}},\"id\":\"2381\",\"type\":\"Arrow\"},{\"attributes\":{},\"id\":\"2199\",\"type\":\"BasicTicker\"},{\"attributes\":{\"bottom_units\":\"screen\",\"coordinates\":null,\"fill_alpha\":0.5,\"fill_color\":\"lightgrey\",\"group\":null,\"left_units\":\"screen\",\"level\":\"overlay\",\"line_alpha\":1.0,\"line_color\":\"black\",\"line_dash\":[4,4],\"line_width\":2,\"right_units\":\"screen\",\"syncable\":false,\"top_units\":\"screen\"},\"id\":\"2208\",\"type\":\"BoxAnnotation\"},{\"attributes\":{\"data\":{\"x\":[0,3,6],\"y\":[0,5.19615242271,0]},\"selected\":{\"id\":\"2323\"},\"selection_policy\":{\"id\":\"2322\"}},\"id\":\"2216\",\"type\":\"ColumnDataSource\"},{\"attributes\":{},\"id\":\"2207\",\"type\":\"HelpTool\"},{\"attributes\":{},\"id\":\"2195\",\"type\":\"BasicTicker\"},{\"attributes\":{\"coordinates\":null,\"group\":null,\"text_color\":\"#5B5B5B\",\"text_font\":\"Calibri Light\",\"text_font_size\":\"1.25em\",\"text_font_style\":\"bold\"},\"id\":\"2314\",\"type\":\"Title\"},{\"attributes\":{\"axis_label_standoff\":10,\"axis_label_text_color\":\"#5B5B5B\",\"axis_label_text_font\":\"Calibri Light\",\"axis_label_text_font_size\":\"1.15em\",\"axis_label_text_font_style\":\"bold\",\"axis_line_alpha\":1,\"axis_line_color\":\"#5B5B5B\",\"coordinates\":null,\"formatter\":{\"id\":\"2320\"},\"group\":null,\"major_label_policy\":{\"id\":\"2321\"},\"major_label_text_color\":\"#5B5B5B\",\"major_label_text_font\":\"Calibri Light\",\"major_label_text_font_size\":\"0.95em\",\"major_label_text_font_style\":\"bold\",\"major_tick_in\":0,\"major_tick_line_alpha\":0.25,\"major_tick_line_color\":\"#5B5B5B\",\"major_tick_out\":3,\"minor_tick_line_alpha\":0.25,\"minor_tick_line_color\":\"#5B5B5B\",\"ticker\":{\"id\":\"2195\"}},\"id\":\"2194\",\"type\":\"LinearAxis\"},{\"attributes\":{\"end\":7,\"start\":-1},\"id\":\"2186\",\"type\":\"Range1d\"},{\"attributes\":{},\"id\":\"2865\",\"type\":\"Selection\"},{\"attributes\":{\"coordinates\":null,\"end\":{\"id\":\"3164\"},\"group\":null,\"line_color\":{\"value\":\"red\"},\"source\":{\"id\":\"3275\"},\"start\":null,\"x_end\":{\"value\":0},\"x_start\":{\"value\":6},\"y_end\":{\"value\":0},\"y_start\":{\"value\":0}},\"id\":\"3165\",\"type\":\"Arrow\"},{\"attributes\":{\"axis\":{\"id\":\"2194\"},\"coordinates\":null,\"group\":null,\"ticker\":null},\"id\":\"2197\",\"type\":\"Grid\"},{\"attributes\":{},\"id\":\"2488\",\"type\":\"Selection\"},{\"attributes\":{\"data\":{},\"selected\":{\"id\":\"3284\"},\"selection_policy\":{\"id\":\"3283\"}},\"id\":\"3275\",\"type\":\"ColumnDataSource\"},{\"attributes\":{},\"id\":\"2192\",\"type\":\"LinearScale\"},{\"attributes\":{},\"id\":\"2321\",\"type\":\"AllLabels\"}],\"root_ids\":[\"2185\"]},\"title\":\"Bokeh Application\",\"version\":\"2.4.3\"}};\n  const render_items = [{\"docid\":\"36a4efc9-a84c-423d-b329-ab818cab2e93\",\"root_ids\":[\"2185\"],\"roots\":{\"2185\":\"9f6e134c-670e-4007-b008-582fd7c0247a\"}}];\n  root.Bokeh.embed.embed_items_notebook(docs_json, render_items);\n  }\n  if (root.Bokeh !== undefined) {\n    embed_document(root);\n  } else {\n    let attempts = 0;\n    const timer = setInterval(function(root) {\n      if (root.Bokeh !== undefined) {\n        clearInterval(timer);\n        embed_document(root);\n      } else {\n        attempts++;\n        if (attempts > 100) {\n          clearInterval(timer);\n          console.log(\"Bokeh: ERROR: Unable to run BokehJS code because BokehJS library is missing\");\n        }\n      }\n    }, 10, root)\n  }\n})(window);",
      "application/vnd.bokehjs_exec.v0+json": ""
     },
     "metadata": {
      "application/vnd.bokehjs_exec.v0+json": {
       "id": "2185"
      }
     },
     "output_type": "display_data"
    }
   ],
   "source": [
    "\n"
   ]
  },
  {
   "cell_type": "markdown",
   "metadata": {
    "deletable": false,
    "editable": false,
    "function": "preliminary",
    "question_id": 1,
    "run_control": {
     "frozen": true
    }
   },
   "source": [
    "### Affichage de plusieurs figures\n",
    "\n",
    "\n",
    "> **Bokeh** rend possible l'affichage de plusieurs figures simultanément grâce au sous-module **bokeh.layouts**.\n",
    ">\n",
    "> Au sein du package, les fonctions `row` et `column` permettent d'aligner verticalement et horizontalement des graphiques.\n",
    ">\n",
    "> Par exemple, pour afficher deux figures **`p1`** et **`p2`** alignées horizontalement, la fonction `row` va créer une nouvelle figure contenant les deux figures `p1` et `p2`.\n",
    ">\n",
    "> Pour afficher cette nouvelle figure sur la console, il suffit d'utiliser la fonction `show` comme pour une figure normale:\n",
    "> ```py\n",
    "    r = row(s1, s2) # création d'une nouvelle figure contenant s1 et s2 alignées horizontalement\n",
    "      ```\n",
    "> ```py    \n",
    "    show(r)         # affichage de la figure\n",
    "    ```\n",
    "\n",
    "* Instancier une figure `p1` de largeur 250 et hauteur 250. Instancier dans `p1` un nuage de points en forme de cercle de couleur verte et de taille 10 à partir des listes de coordonnées `x` et `y1`.\n",
    "\n",
    "\n",
    "* Instancier une figure `p2` de largeur 250 et hauteur 250. Instancier dans `p2` un nuage de points en forme de triangle de couleur rouge et de taille 10 à partir des listes de coordonnées `x` et `y2`.\n",
    "\n",
    "\n",
    "* Instancier une figure `p3` de largeur 250 et hauteur 250. Instancier dans `p3` un nuage de points en forme de carrés de couleur rouge et de taille 10 à partir des listes de coordonnées `x` et `y3`.\n",
    "\n",
    "    \n",
    "* Importer la fonction `row` depuis le sous-module `bokeh.layoutes`.\n",
    "\n",
    "\n",
    "* A l'aide de la fonction `row`, créer une figure nommée `r` qui alignera horizontalement les figures `p1`, `p2` et `p3`.\n",
    "\n",
    "\n",
    "* Afficher simultanément les trois figures."
   ]
  },
  {
   "cell_type": "code",
   "execution_count": null,
   "outputs": [],
   "source": [
    "## Insérez votre code ici:\n",
    "\n"
   ],
   "metadata": {
    "collapsed": false
   }
  },
  {
   "cell_type": "code",
   "execution_count": 18,
   "metadata": {
    "function": "submission",
    "question_id": 1,
    "ExecuteTime": {
     "end_time": "2023-11-28T09:49:25.699621Z",
     "start_time": "2023-11-28T09:49:25.668571Z"
    }
   },
   "outputs": [
    {
     "data": {
      "text/html": "\n  <div class=\"bk-root\" id=\"1d7b7e0a-77eb-4110-800f-8d1388ad937e\" data-root-id=\"3730\"></div>\n"
     },
     "metadata": {},
     "output_type": "display_data"
    },
    {
     "data": {
      "application/javascript": "(function(root) {\n  function embed_document(root) {\n  const docs_json = {\"1d5ba3b7-c313-4043-99a9-8620088d3c01\":{\"defs\":[],\"roots\":{\"references\":[{\"attributes\":{\"children\":[{\"id\":\"3619\"},{\"id\":\"3656\"},{\"id\":\"3693\"}]},\"id\":\"3730\",\"type\":\"Row\"},{\"attributes\":{\"coordinates\":null,\"group\":null,\"text_color\":\"#5B5B5B\",\"text_font\":\"Calibri Light\",\"text_font_size\":\"1.25em\",\"text_font_style\":\"bold\"},\"id\":\"3856\",\"type\":\"Title\"},{\"attributes\":{},\"id\":\"3678\",\"type\":\"HelpTool\"},{\"attributes\":{\"fill_color\":{\"value\":\"red\"},\"hatch_color\":{\"value\":\"red\"},\"line_color\":{\"value\":\"red\"},\"marker\":{\"value\":\"triangle\"},\"size\":{\"value\":10},\"x\":{\"field\":\"x\"},\"y\":{\"field\":\"y\"}},\"id\":\"3688\",\"type\":\"Scatter\"},{\"attributes\":{\"axis_label_standoff\":10,\"axis_label_text_color\":\"#5B5B5B\",\"axis_label_text_font\":\"Calibri Light\",\"axis_label_text_font_size\":\"1.15em\",\"axis_label_text_font_style\":\"bold\",\"axis_line_alpha\":1,\"axis_line_color\":\"#5B5B5B\",\"coordinates\":null,\"formatter\":{\"id\":\"3865\"},\"group\":null,\"major_label_policy\":{\"id\":\"3866\"},\"major_label_text_color\":\"#5B5B5B\",\"major_label_text_font\":\"Calibri Light\",\"major_label_text_font_size\":\"0.95em\",\"major_label_text_font_style\":\"bold\",\"major_tick_in\":0,\"major_tick_line_alpha\":0.25,\"major_tick_line_color\":\"#5B5B5B\",\"major_tick_out\":3,\"minor_tick_line_alpha\":0.25,\"minor_tick_line_color\":\"#5B5B5B\",\"ticker\":{\"id\":\"3670\"}},\"id\":\"3669\",\"type\":\"LinearAxis\"},{\"attributes\":{\"tools\":[{\"id\":\"3673\"},{\"id\":\"3674\"},{\"id\":\"3675\"},{\"id\":\"3676\"},{\"id\":\"3677\"},{\"id\":\"3678\"}]},\"id\":\"3680\",\"type\":\"Toolbar\"},{\"attributes\":{},\"id\":\"3663\",\"type\":\"LinearScale\"},{\"attributes\":{},\"id\":\"3700\",\"type\":\"LinearScale\"},{\"attributes\":{},\"id\":\"3862\",\"type\":\"BasicTickFormatter\"},{\"attributes\":{},\"id\":\"3636\",\"type\":\"PanTool\"},{\"attributes\":{\"coordinates\":null,\"data_source\":{\"id\":\"3687\"},\"glyph\":{\"id\":\"3688\"},\"group\":null,\"hover_glyph\":null,\"muted_glyph\":{\"id\":\"3690\"},\"nonselection_glyph\":{\"id\":\"3689\"},\"view\":{\"id\":\"3692\"}},\"id\":\"3691\",\"type\":\"GlyphRenderer\"},{\"attributes\":{\"data\":{\"x\":[1,2,3,4,5],\"y\":[1,2,3,4,5]},\"selected\":{\"id\":\"3877\"},\"selection_policy\":{\"id\":\"3876\"}},\"id\":\"3650\",\"type\":\"ColumnDataSource\"},{\"attributes\":{},\"id\":\"3714\",\"type\":\"ResetTool\"},{\"attributes\":{},\"id\":\"3659\",\"type\":\"DataRange1d\"},{\"attributes\":{},\"id\":\"3713\",\"type\":\"SaveTool\"},{\"attributes\":{},\"id\":\"3872\",\"type\":\"AllLabels\"},{\"attributes\":{\"overlay\":{\"id\":\"3716\"}},\"id\":\"3712\",\"type\":\"BoxZoomTool\"},{\"attributes\":{},\"id\":\"3874\",\"type\":\"BasicTickFormatter\"},{\"attributes\":{\"source\":{\"id\":\"3650\"}},\"id\":\"3655\",\"type\":\"CDSView\"},{\"attributes\":{},\"id\":\"3875\",\"type\":\"AllLabels\"},{\"attributes\":{},\"id\":\"3676\",\"type\":\"SaveTool\"},{\"attributes\":{},\"id\":\"3876\",\"type\":\"UnionRenderers\"},{\"attributes\":{},\"id\":\"3877\",\"type\":\"Selection\"},{\"attributes\":{\"fill_alpha\":{\"value\":0.2},\"fill_color\":{\"value\":\"green\"},\"hatch_alpha\":{\"value\":0.2},\"hatch_color\":{\"value\":\"green\"},\"line_alpha\":{\"value\":0.2},\"line_color\":{\"value\":\"green\"},\"size\":{\"value\":10},\"x\":{\"field\":\"x\"},\"y\":{\"field\":\"y\"}},\"id\":\"3653\",\"type\":\"Circle\"},{\"attributes\":{\"fill_color\":{\"value\":\"red\"},\"hatch_color\":{\"value\":\"red\"},\"line_color\":{\"value\":\"red\"},\"marker\":{\"value\":\"square\"},\"size\":{\"value\":10},\"x\":{\"field\":\"x\"},\"y\":{\"field\":\"y\"}},\"id\":\"3725\",\"type\":\"Scatter\"},{\"attributes\":{\"axis\":{\"id\":\"3669\"},\"coordinates\":null,\"dimension\":1,\"group\":null,\"ticker\":null},\"id\":\"3672\",\"type\":\"Grid\"},{\"attributes\":{},\"id\":\"3860\",\"type\":\"AllLabels\"},{\"attributes\":{},\"id\":\"3869\",\"type\":\"AllLabels\"},{\"attributes\":{},\"id\":\"3711\",\"type\":\"WheelZoomTool\"},{\"attributes\":{},\"id\":\"3710\",\"type\":\"PanTool\"},{\"attributes\":{\"coordinates\":null,\"group\":null,\"text_color\":\"#5B5B5B\",\"text_font\":\"Calibri Light\",\"text_font_size\":\"1.25em\",\"text_font_style\":\"bold\"},\"id\":\"3852\",\"type\":\"Title\"},{\"attributes\":{\"bottom_units\":\"screen\",\"coordinates\":null,\"fill_alpha\":0.5,\"fill_color\":\"lightgrey\",\"group\":null,\"left_units\":\"screen\",\"level\":\"overlay\",\"line_alpha\":1.0,\"line_color\":\"black\",\"line_dash\":[4,4],\"line_width\":2,\"right_units\":\"screen\",\"syncable\":false,\"top_units\":\"screen\"},\"id\":\"3679\",\"type\":\"BoxAnnotation\"},{\"attributes\":{\"below\":[{\"id\":\"3628\"}],\"center\":[{\"id\":\"3631\"},{\"id\":\"3635\"}],\"height\":250,\"left\":[{\"id\":\"3632\"}],\"renderers\":[{\"id\":\"3654\"}],\"title\":{\"id\":\"3852\"},\"toolbar\":{\"id\":\"3643\"},\"width\":250,\"x_range\":{\"id\":\"3620\"},\"x_scale\":{\"id\":\"3624\"},\"y_range\":{\"id\":\"3622\"},\"y_scale\":{\"id\":\"3626\"}},\"id\":\"3619\",\"subtype\":\"Figure\",\"type\":\"Plot\"},{\"attributes\":{},\"id\":\"3637\",\"type\":\"WheelZoomTool\"},{\"attributes\":{\"axis\":{\"id\":\"3632\"},\"coordinates\":null,\"dimension\":1,\"group\":null,\"ticker\":null},\"id\":\"3635\",\"type\":\"Grid\"},{\"attributes\":{},\"id\":\"3633\",\"type\":\"BasicTicker\"},{\"attributes\":{},\"id\":\"3674\",\"type\":\"WheelZoomTool\"},{\"attributes\":{\"coordinates\":null,\"data_source\":{\"id\":\"3724\"},\"glyph\":{\"id\":\"3725\"},\"group\":null,\"hover_glyph\":null,\"muted_glyph\":{\"id\":\"3727\"},\"nonselection_glyph\":{\"id\":\"3726\"},\"view\":{\"id\":\"3729\"}},\"id\":\"3728\",\"type\":\"GlyphRenderer\"},{\"attributes\":{\"fill_alpha\":{\"value\":0.1},\"fill_color\":{\"value\":\"green\"},\"hatch_alpha\":{\"value\":0.1},\"hatch_color\":{\"value\":\"green\"},\"line_alpha\":{\"value\":0.1},\"line_color\":{\"value\":\"green\"},\"size\":{\"value\":10},\"x\":{\"field\":\"x\"},\"y\":{\"field\":\"y\"}},\"id\":\"3652\",\"type\":\"Circle\"},{\"attributes\":{\"bottom_units\":\"screen\",\"coordinates\":null,\"fill_alpha\":0.5,\"fill_color\":\"lightgrey\",\"group\":null,\"left_units\":\"screen\",\"level\":\"overlay\",\"line_alpha\":1.0,\"line_color\":\"black\",\"line_dash\":[4,4],\"line_width\":2,\"right_units\":\"screen\",\"syncable\":false,\"top_units\":\"screen\"},\"id\":\"3716\",\"type\":\"BoxAnnotation\"},{\"attributes\":{\"axis\":{\"id\":\"3628\"},\"coordinates\":null,\"group\":null,\"ticker\":null},\"id\":\"3631\",\"type\":\"Grid\"},{\"attributes\":{\"below\":[{\"id\":\"3665\"}],\"center\":[{\"id\":\"3668\"},{\"id\":\"3672\"}],\"height\":250,\"left\":[{\"id\":\"3669\"}],\"renderers\":[{\"id\":\"3691\"}],\"title\":{\"id\":\"3854\"},\"toolbar\":{\"id\":\"3680\"},\"width\":250,\"x_range\":{\"id\":\"3657\"},\"x_scale\":{\"id\":\"3661\"},\"y_range\":{\"id\":\"3659\"},\"y_scale\":{\"id\":\"3663\"}},\"id\":\"3656\",\"subtype\":\"Figure\",\"type\":\"Plot\"},{\"attributes\":{},\"id\":\"3641\",\"type\":\"HelpTool\"},{\"attributes\":{},\"id\":\"3629\",\"type\":\"BasicTicker\"},{\"attributes\":{},\"id\":\"3626\",\"type\":\"LinearScale\"},{\"attributes\":{\"axis_label_standoff\":10,\"axis_label_text_color\":\"#5B5B5B\",\"axis_label_text_font\":\"Calibri Light\",\"axis_label_text_font_size\":\"1.15em\",\"axis_label_text_font_style\":\"bold\",\"axis_line_alpha\":1,\"axis_line_color\":\"#5B5B5B\",\"coordinates\":null,\"formatter\":{\"id\":\"3859\"},\"group\":null,\"major_label_policy\":{\"id\":\"3860\"},\"major_label_text_color\":\"#5B5B5B\",\"major_label_text_font\":\"Calibri Light\",\"major_label_text_font_size\":\"0.95em\",\"major_label_text_font_style\":\"bold\",\"major_tick_in\":0,\"major_tick_line_alpha\":0.25,\"major_tick_line_color\":\"#5B5B5B\",\"major_tick_out\":3,\"minor_tick_line_alpha\":0.25,\"minor_tick_line_color\":\"#5B5B5B\",\"ticker\":{\"id\":\"3633\"}},\"id\":\"3632\",\"type\":\"LinearAxis\"},{\"attributes\":{},\"id\":\"3622\",\"type\":\"DataRange1d\"},{\"attributes\":{},\"id\":\"3657\",\"type\":\"DataRange1d\"},{\"attributes\":{},\"id\":\"3624\",\"type\":\"LinearScale\"},{\"attributes\":{},\"id\":\"3871\",\"type\":\"BasicTickFormatter\"},{\"attributes\":{},\"id\":\"3673\",\"type\":\"PanTool\"},{\"attributes\":{\"axis_label_standoff\":10,\"axis_label_text_color\":\"#5B5B5B\",\"axis_label_text_font\":\"Calibri Light\",\"axis_label_text_font_size\":\"1.15em\",\"axis_label_text_font_style\":\"bold\",\"axis_line_alpha\":1,\"axis_line_color\":\"#5B5B5B\",\"coordinates\":null,\"formatter\":{\"id\":\"3862\"},\"group\":null,\"major_label_policy\":{\"id\":\"3863\"},\"major_label_text_color\":\"#5B5B5B\",\"major_label_text_font\":\"Calibri Light\",\"major_label_text_font_size\":\"0.95em\",\"major_label_text_font_style\":\"bold\",\"major_tick_in\":0,\"major_tick_line_alpha\":0.25,\"major_tick_line_color\":\"#5B5B5B\",\"major_tick_out\":3,\"minor_tick_line_alpha\":0.25,\"minor_tick_line_color\":\"#5B5B5B\",\"ticker\":{\"id\":\"3629\"}},\"id\":\"3628\",\"type\":\"LinearAxis\"},{\"attributes\":{\"axis_label_standoff\":10,\"axis_label_text_color\":\"#5B5B5B\",\"axis_label_text_font\":\"Calibri Light\",\"axis_label_text_font_size\":\"1.15em\",\"axis_label_text_font_style\":\"bold\",\"axis_line_alpha\":1,\"axis_line_color\":\"#5B5B5B\",\"coordinates\":null,\"formatter\":{\"id\":\"3874\"},\"group\":null,\"major_label_policy\":{\"id\":\"3875\"},\"major_label_text_color\":\"#5B5B5B\",\"major_label_text_font\":\"Calibri Light\",\"major_label_text_font_size\":\"0.95em\",\"major_label_text_font_style\":\"bold\",\"major_tick_in\":0,\"major_tick_line_alpha\":0.25,\"major_tick_line_color\":\"#5B5B5B\",\"major_tick_out\":3,\"minor_tick_line_alpha\":0.25,\"minor_tick_line_color\":\"#5B5B5B\",\"ticker\":{\"id\":\"3703\"}},\"id\":\"3702\",\"type\":\"LinearAxis\"},{\"attributes\":{\"coordinates\":null,\"group\":null,\"text_color\":\"#5B5B5B\",\"text_font\":\"Calibri Light\",\"text_font_size\":\"1.25em\",\"text_font_style\":\"bold\"},\"id\":\"3854\",\"type\":\"Title\"},{\"attributes\":{},\"id\":\"3694\",\"type\":\"DataRange1d\"},{\"attributes\":{\"fill_alpha\":{\"value\":0.2},\"fill_color\":{\"value\":\"red\"},\"hatch_alpha\":{\"value\":0.2},\"hatch_color\":{\"value\":\"red\"},\"line_alpha\":{\"value\":0.2},\"line_color\":{\"value\":\"red\"},\"marker\":{\"value\":\"triangle\"},\"size\":{\"value\":10},\"x\":{\"field\":\"x\"},\"y\":{\"field\":\"y\"}},\"id\":\"3690\",\"type\":\"Scatter\"},{\"attributes\":{},\"id\":\"3698\",\"type\":\"LinearScale\"},{\"attributes\":{\"fill_color\":{\"value\":\"green\"},\"hatch_color\":{\"value\":\"green\"},\"line_color\":{\"value\":\"green\"},\"size\":{\"value\":10},\"x\":{\"field\":\"x\"},\"y\":{\"field\":\"y\"}},\"id\":\"3651\",\"type\":\"Circle\"},{\"attributes\":{},\"id\":\"3696\",\"type\":\"DataRange1d\"},{\"attributes\":{\"axis_label_standoff\":10,\"axis_label_text_color\":\"#5B5B5B\",\"axis_label_text_font\":\"Calibri Light\",\"axis_label_text_font_size\":\"1.15em\",\"axis_label_text_font_style\":\"bold\",\"axis_line_alpha\":1,\"axis_line_color\":\"#5B5B5B\",\"coordinates\":null,\"formatter\":{\"id\":\"3871\"},\"group\":null,\"major_label_policy\":{\"id\":\"3872\"},\"major_label_text_color\":\"#5B5B5B\",\"major_label_text_font\":\"Calibri Light\",\"major_label_text_font_size\":\"0.95em\",\"major_label_text_font_style\":\"bold\",\"major_tick_in\":0,\"major_tick_line_alpha\":0.25,\"major_tick_line_color\":\"#5B5B5B\",\"major_tick_out\":3,\"minor_tick_line_alpha\":0.25,\"minor_tick_line_color\":\"#5B5B5B\",\"ticker\":{\"id\":\"3707\"}},\"id\":\"3706\",\"type\":\"LinearAxis\"},{\"attributes\":{},\"id\":\"3879\",\"type\":\"UnionRenderers\"},{\"attributes\":{},\"id\":\"3677\",\"type\":\"ResetTool\"},{\"attributes\":{},\"id\":\"3880\",\"type\":\"Selection\"},{\"attributes\":{},\"id\":\"3863\",\"type\":\"AllLabels\"},{\"attributes\":{\"overlay\":{\"id\":\"3679\"}},\"id\":\"3675\",\"type\":\"BoxZoomTool\"},{\"attributes\":{},\"id\":\"3859\",\"type\":\"BasicTickFormatter\"},{\"attributes\":{\"fill_alpha\":{\"value\":0.1},\"fill_color\":{\"value\":\"red\"},\"hatch_alpha\":{\"value\":0.1},\"hatch_color\":{\"value\":\"red\"},\"line_alpha\":{\"value\":0.1},\"line_color\":{\"value\":\"red\"},\"marker\":{\"value\":\"triangle\"},\"size\":{\"value\":10},\"x\":{\"field\":\"x\"},\"y\":{\"field\":\"y\"}},\"id\":\"3689\",\"type\":\"Scatter\"},{\"attributes\":{\"tools\":[{\"id\":\"3710\"},{\"id\":\"3711\"},{\"id\":\"3712\"},{\"id\":\"3713\"},{\"id\":\"3714\"},{\"id\":\"3715\"}]},\"id\":\"3717\",\"type\":\"Toolbar\"},{\"attributes\":{},\"id\":\"3670\",\"type\":\"BasicTicker\"},{\"attributes\":{\"data\":{\"x\":[1,2,3,4,5],\"y\":[6,2,3,8,15]},\"selected\":{\"id\":\"3880\"},\"selection_policy\":{\"id\":\"3879\"}},\"id\":\"3687\",\"type\":\"ColumnDataSource\"},{\"attributes\":{\"overlay\":{\"id\":\"3642\"}},\"id\":\"3638\",\"type\":\"BoxZoomTool\"},{\"attributes\":{\"fill_alpha\":{\"value\":0.1},\"fill_color\":{\"value\":\"red\"},\"hatch_alpha\":{\"value\":0.1},\"hatch_color\":{\"value\":\"red\"},\"line_alpha\":{\"value\":0.1},\"line_color\":{\"value\":\"red\"},\"marker\":{\"value\":\"square\"},\"size\":{\"value\":10},\"x\":{\"field\":\"x\"},\"y\":{\"field\":\"y\"}},\"id\":\"3726\",\"type\":\"Scatter\"},{\"attributes\":{},\"id\":\"3620\",\"type\":\"DataRange1d\"},{\"attributes\":{\"data\":{\"x\":[1,2,3,4,5],\"y\":[8,10,12,22,16]},\"selected\":{\"id\":\"3883\"},\"selection_policy\":{\"id\":\"3882\"}},\"id\":\"3724\",\"type\":\"ColumnDataSource\"},{\"attributes\":{},\"id\":\"3666\",\"type\":\"BasicTicker\"},{\"attributes\":{\"coordinates\":null,\"data_source\":{\"id\":\"3650\"},\"glyph\":{\"id\":\"3651\"},\"group\":null,\"hover_glyph\":null,\"muted_glyph\":{\"id\":\"3653\"},\"nonselection_glyph\":{\"id\":\"3652\"},\"view\":{\"id\":\"3655\"}},\"id\":\"3654\",\"type\":\"GlyphRenderer\"},{\"attributes\":{},\"id\":\"3707\",\"type\":\"BasicTicker\"},{\"attributes\":{\"source\":{\"id\":\"3724\"}},\"id\":\"3729\",\"type\":\"CDSView\"},{\"attributes\":{\"bottom_units\":\"screen\",\"coordinates\":null,\"fill_alpha\":0.5,\"fill_color\":\"lightgrey\",\"group\":null,\"left_units\":\"screen\",\"level\":\"overlay\",\"line_alpha\":1.0,\"line_color\":\"black\",\"line_dash\":[4,4],\"line_width\":2,\"right_units\":\"screen\",\"syncable\":false,\"top_units\":\"screen\"},\"id\":\"3642\",\"type\":\"BoxAnnotation\"},{\"attributes\":{\"axis_label_standoff\":10,\"axis_label_text_color\":\"#5B5B5B\",\"axis_label_text_font\":\"Calibri Light\",\"axis_label_text_font_size\":\"1.15em\",\"axis_label_text_font_style\":\"bold\",\"axis_line_alpha\":1,\"axis_line_color\":\"#5B5B5B\",\"coordinates\":null,\"formatter\":{\"id\":\"3868\"},\"group\":null,\"major_label_policy\":{\"id\":\"3869\"},\"major_label_text_color\":\"#5B5B5B\",\"major_label_text_font\":\"Calibri Light\",\"major_label_text_font_size\":\"0.95em\",\"major_label_text_font_style\":\"bold\",\"major_tick_in\":0,\"major_tick_line_alpha\":0.25,\"major_tick_line_color\":\"#5B5B5B\",\"major_tick_out\":3,\"minor_tick_line_alpha\":0.25,\"minor_tick_line_color\":\"#5B5B5B\",\"ticker\":{\"id\":\"3666\"}},\"id\":\"3665\",\"type\":\"LinearAxis\"},{\"attributes\":{\"axis\":{\"id\":\"3665\"},\"coordinates\":null,\"group\":null,\"ticker\":null},\"id\":\"3668\",\"type\":\"Grid\"},{\"attributes\":{},\"id\":\"3703\",\"type\":\"BasicTicker\"},{\"attributes\":{\"fill_alpha\":{\"value\":0.2},\"fill_color\":{\"value\":\"red\"},\"hatch_alpha\":{\"value\":0.2},\"hatch_color\":{\"value\":\"red\"},\"line_alpha\":{\"value\":0.2},\"line_color\":{\"value\":\"red\"},\"marker\":{\"value\":\"square\"},\"size\":{\"value\":10},\"x\":{\"field\":\"x\"},\"y\":{\"field\":\"y\"}},\"id\":\"3727\",\"type\":\"Scatter\"},{\"attributes\":{},\"id\":\"3661\",\"type\":\"LinearScale\"},{\"attributes\":{\"axis\":{\"id\":\"3706\"},\"coordinates\":null,\"dimension\":1,\"group\":null,\"ticker\":null},\"id\":\"3709\",\"type\":\"Grid\"},{\"attributes\":{\"axis\":{\"id\":\"3702\"},\"coordinates\":null,\"group\":null,\"ticker\":null},\"id\":\"3705\",\"type\":\"Grid\"},{\"attributes\":{\"below\":[{\"id\":\"3702\"}],\"center\":[{\"id\":\"3705\"},{\"id\":\"3709\"}],\"height\":250,\"left\":[{\"id\":\"3706\"}],\"renderers\":[{\"id\":\"3728\"}],\"title\":{\"id\":\"3856\"},\"toolbar\":{\"id\":\"3717\"},\"width\":250,\"x_range\":{\"id\":\"3694\"},\"x_scale\":{\"id\":\"3698\"},\"y_range\":{\"id\":\"3696\"},\"y_scale\":{\"id\":\"3700\"}},\"id\":\"3693\",\"subtype\":\"Figure\",\"type\":\"Plot\"},{\"attributes\":{},\"id\":\"3639\",\"type\":\"SaveTool\"},{\"attributes\":{},\"id\":\"3865\",\"type\":\"BasicTickFormatter\"},{\"attributes\":{\"source\":{\"id\":\"3687\"}},\"id\":\"3692\",\"type\":\"CDSView\"},{\"attributes\":{},\"id\":\"3715\",\"type\":\"HelpTool\"},{\"attributes\":{},\"id\":\"3882\",\"type\":\"UnionRenderers\"},{\"attributes\":{},\"id\":\"3866\",\"type\":\"AllLabels\"},{\"attributes\":{\"tools\":[{\"id\":\"3636\"},{\"id\":\"3637\"},{\"id\":\"3638\"},{\"id\":\"3639\"},{\"id\":\"3640\"},{\"id\":\"3641\"}]},\"id\":\"3643\",\"type\":\"Toolbar\"},{\"attributes\":{},\"id\":\"3640\",\"type\":\"ResetTool\"},{\"attributes\":{},\"id\":\"3883\",\"type\":\"Selection\"},{\"attributes\":{},\"id\":\"3868\",\"type\":\"BasicTickFormatter\"}],\"root_ids\":[\"3730\"]},\"title\":\"Bokeh Application\",\"version\":\"2.4.3\"}};\n  const render_items = [{\"docid\":\"1d5ba3b7-c313-4043-99a9-8620088d3c01\",\"root_ids\":[\"3730\"],\"roots\":{\"3730\":\"1d7b7e0a-77eb-4110-800f-8d1388ad937e\"}}];\n  root.Bokeh.embed.embed_items_notebook(docs_json, render_items);\n  }\n  if (root.Bokeh !== undefined) {\n    embed_document(root);\n  } else {\n    let attempts = 0;\n    const timer = setInterval(function(root) {\n      if (root.Bokeh !== undefined) {\n        clearInterval(timer);\n        embed_document(root);\n      } else {\n        attempts++;\n        if (attempts > 100) {\n          clearInterval(timer);\n          console.log(\"Bokeh: ERROR: Unable to run BokehJS code because BokehJS library is missing\");\n        }\n      }\n    }, 10, root)\n  }\n})(window);",
      "application/vnd.bokehjs_exec.v0+json": ""
     },
     "metadata": {
      "application/vnd.bokehjs_exec.v0+json": {
       "id": "3730"
      }
     },
     "output_type": "display_data"
    }
   ],
   "source": []
  },
  {
   "cell_type": "code",
   "execution_count": null,
   "outputs": [],
   "source": [],
   "metadata": {
    "collapsed": false
   }
  },
  {
   "cell_type": "markdown",
   "metadata": {
    "deletable": false,
    "editable": false,
    "function": "preliminary",
    "question_id": 1,
    "run_control": {
     "frozen": true
    }
   },
   "source": [
    "> Bokeh fournit également la fonction `gridplot` dans **bokeh.layouts** pour disposer les graphiques sur une grille.\n",
    ">\n",
    "> Elle prend en argument une liste de listes de figures représentant une matrice de figures dont la position dans la matrice représentera la position dans la cellule jupyter. Si la liste de listes donnée ne correspond pas à une matrice carrée, la fonction va automatiquement combler les éléments manquants par du vide.\n",
    "\n",
    "* Importer la fonction `gridplot` depuis le sous-module `bokeh.layouts`.\n",
    "\n",
    "\n",
    "* À l'aide de `gridplot`, afficher les figures `p1`, `p2` et `p3` précédentes dans une grille à deux lignes telle que `p1` soit sur la première ligne et `p2`, `p3` sur la deuxième."
   ]
  },
  {
   "cell_type": "code",
   "execution_count": null,
   "outputs": [],
   "source": [
    "### Insérez votre code ici\n",
    "\n"
   ],
   "metadata": {
    "collapsed": false
   }
  },
  {
   "cell_type": "code",
   "execution_count": 20,
   "metadata": {
    "function": "submission",
    "question_id": 1,
    "ExecuteTime": {
     "end_time": "2023-11-28T09:49:35.749917Z",
     "start_time": "2023-11-28T09:49:35.708771Z"
    }
   },
   "outputs": [
    {
     "data": {
      "text/html": "\n  <div class=\"bk-root\" id=\"006e59b9-4c4e-4ec3-a291-ffcdee1c73d0\" data-root-id=\"4553\"></div>\n"
     },
     "metadata": {},
     "output_type": "display_data"
    },
    {
     "data": {
      "application/javascript": "(function(root) {\n  function embed_document(root) {\n  const docs_json = {\"e29ad988-5a8b-4ab9-8681-68b037d5cfd5\":{\"defs\":[],\"roots\":{\"references\":[{\"attributes\":{\"children\":[{\"id\":\"4552\"},{\"id\":\"4550\"}]},\"id\":\"4553\",\"type\":\"Column\"},{\"attributes\":{},\"id\":\"4064\",\"type\":\"BasicTicker\"},{\"attributes\":{\"below\":[{\"id\":\"4133\"}],\"center\":[{\"id\":\"4136\"},{\"id\":\"4140\"}],\"height\":250,\"left\":[{\"id\":\"4137\"}],\"renderers\":[{\"id\":\"4159\"}],\"title\":{\"id\":\"4320\"},\"toolbar\":{\"id\":\"4148\"},\"toolbar_location\":null,\"width\":250,\"x_range\":{\"id\":\"4125\"},\"x_scale\":{\"id\":\"4129\"},\"y_range\":{\"id\":\"4127\"},\"y_scale\":{\"id\":\"4131\"}},\"id\":\"4124\",\"subtype\":\"Figure\",\"type\":\"Plot\"},{\"attributes\":{},\"id\":\"4343\",\"type\":\"UnionRenderers\"},{\"attributes\":{\"tools\":[{\"id\":\"4104\"},{\"id\":\"4105\"},{\"id\":\"4106\"},{\"id\":\"4107\"},{\"id\":\"4108\"},{\"id\":\"4109\"}]},\"id\":\"4111\",\"type\":\"Toolbar\"},{\"attributes\":{\"axis\":{\"id\":\"4100\"},\"coordinates\":null,\"dimension\":1,\"group\":null,\"ticker\":null},\"id\":\"4103\",\"type\":\"Grid\"},{\"attributes\":{},\"id\":\"4051\",\"type\":\"DataRange1d\"},{\"attributes\":{},\"id\":\"4055\",\"type\":\"LinearScale\"},{\"attributes\":{},\"id\":\"4053\",\"type\":\"DataRange1d\"},{\"attributes\":{\"axis_label_standoff\":10,\"axis_label_text_color\":\"#5B5B5B\",\"axis_label_text_font\":\"Calibri Light\",\"axis_label_text_font_size\":\"1.15em\",\"axis_label_text_font_style\":\"bold\",\"axis_line_alpha\":1,\"axis_line_color\":\"#5B5B5B\",\"coordinates\":null,\"formatter\":{\"id\":\"4323\"},\"group\":null,\"major_label_policy\":{\"id\":\"4324\"},\"major_label_text_color\":\"#5B5B5B\",\"major_label_text_font\":\"Calibri Light\",\"major_label_text_font_size\":\"0.95em\",\"major_label_text_font_style\":\"bold\",\"major_tick_in\":0,\"major_tick_line_alpha\":0.25,\"major_tick_line_color\":\"#5B5B5B\",\"major_tick_out\":3,\"minor_tick_line_alpha\":0.25,\"minor_tick_line_color\":\"#5B5B5B\",\"ticker\":{\"id\":\"4064\"}},\"id\":\"4063\",\"type\":\"LinearAxis\"},{\"attributes\":{},\"id\":\"4072\",\"type\":\"HelpTool\"},{\"attributes\":{\"axis_label_standoff\":10,\"axis_label_text_color\":\"#5B5B5B\",\"axis_label_text_font\":\"Calibri Light\",\"axis_label_text_font_size\":\"1.15em\",\"axis_label_text_font_style\":\"bold\",\"axis_line_alpha\":1,\"axis_line_color\":\"#5B5B5B\",\"coordinates\":null,\"formatter\":{\"id\":\"4326\"},\"group\":null,\"major_label_policy\":{\"id\":\"4327\"},\"major_label_text_color\":\"#5B5B5B\",\"major_label_text_font\":\"Calibri Light\",\"major_label_text_font_size\":\"0.95em\",\"major_label_text_font_style\":\"bold\",\"major_tick_in\":0,\"major_tick_line_alpha\":0.25,\"major_tick_line_color\":\"#5B5B5B\",\"major_tick_out\":3,\"minor_tick_line_alpha\":0.25,\"minor_tick_line_color\":\"#5B5B5B\",\"ticker\":{\"id\":\"4060\"}},\"id\":\"4059\",\"type\":\"LinearAxis\"},{\"attributes\":{},\"id\":\"4057\",\"type\":\"LinearScale\"},{\"attributes\":{\"axis\":{\"id\":\"4059\"},\"coordinates\":null,\"group\":null,\"ticker\":null},\"id\":\"4062\",\"type\":\"Grid\"},{\"attributes\":{},\"id\":\"4094\",\"type\":\"LinearScale\"},{\"attributes\":{},\"id\":\"4324\",\"type\":\"AllLabels\"},{\"attributes\":{},\"id\":\"4329\",\"type\":\"BasicTickFormatter\"},{\"attributes\":{},\"id\":\"4326\",\"type\":\"BasicTickFormatter\"},{\"attributes\":{},\"id\":\"4090\",\"type\":\"DataRange1d\"},{\"attributes\":{},\"id\":\"4330\",\"type\":\"AllLabels\"},{\"attributes\":{},\"id\":\"4060\",\"type\":\"BasicTicker\"},{\"attributes\":{},\"id\":\"4332\",\"type\":\"BasicTickFormatter\"},{\"attributes\":{},\"id\":\"4335\",\"type\":\"BasicTickFormatter\"},{\"attributes\":{\"fill_alpha\":{\"value\":0.2},\"fill_color\":{\"value\":\"red\"},\"hatch_alpha\":{\"value\":0.2},\"hatch_color\":{\"value\":\"red\"},\"line_alpha\":{\"value\":0.2},\"line_color\":{\"value\":\"red\"},\"marker\":{\"value\":\"triangle\"},\"size\":{\"value\":10},\"x\":{\"field\":\"x\"},\"y\":{\"field\":\"y\"}},\"id\":\"4121\",\"type\":\"Scatter\"},{\"attributes\":{},\"id\":\"4327\",\"type\":\"AllLabels\"},{\"attributes\":{},\"id\":\"4340\",\"type\":\"UnionRenderers\"},{\"attributes\":{\"data\":{\"x\":[1,2,3,4,5],\"y\":[1,2,3,4,5]},\"selected\":{\"id\":\"4341\"},\"selection_policy\":{\"id\":\"4340\"}},\"id\":\"4081\",\"type\":\"ColumnDataSource\"},{\"attributes\":{},\"id\":\"4336\",\"type\":\"AllLabels\"},{\"attributes\":{\"bottom_units\":\"screen\",\"coordinates\":null,\"fill_alpha\":0.5,\"fill_color\":\"lightgrey\",\"group\":null,\"left_units\":\"screen\",\"level\":\"overlay\",\"line_alpha\":1.0,\"line_color\":\"black\",\"line_dash\":[4,4],\"line_width\":2,\"right_units\":\"screen\",\"syncable\":false,\"top_units\":\"screen\"},\"id\":\"4073\",\"type\":\"BoxAnnotation\"},{\"attributes\":{\"fill_color\":{\"value\":\"red\"},\"hatch_color\":{\"value\":\"red\"},\"line_color\":{\"value\":\"red\"},\"marker\":{\"value\":\"triangle\"},\"size\":{\"value\":10},\"x\":{\"field\":\"x\"},\"y\":{\"field\":\"y\"}},\"id\":\"4119\",\"type\":\"Scatter\"},{\"attributes\":{},\"id\":\"4338\",\"type\":\"BasicTickFormatter\"},{\"attributes\":{\"data\":{\"x\":[1,2,3,4,5],\"y\":[1,2,3,4,5]},\"selected\":{\"id\":\"4344\"},\"selection_policy\":{\"id\":\"4343\"}},\"id\":\"4118\",\"type\":\"ColumnDataSource\"},{\"attributes\":{},\"id\":\"4333\",\"type\":\"AllLabels\"},{\"attributes\":{},\"id\":\"4092\",\"type\":\"LinearScale\"},{\"attributes\":{},\"id\":\"4339\",\"type\":\"AllLabels\"},{\"attributes\":{\"coordinates\":null,\"group\":null,\"text_color\":\"#5B5B5B\",\"text_font\":\"Calibri Light\",\"text_font_size\":\"1.25em\",\"text_font_style\":\"bold\"},\"id\":\"4320\",\"type\":\"Title\"},{\"attributes\":{\"toolbar\":{\"id\":\"4551\"},\"toolbar_location\":\"above\"},\"id\":\"4552\",\"type\":\"ToolbarBox\"},{\"attributes\":{\"axis_label_standoff\":10,\"axis_label_text_color\":\"#5B5B5B\",\"axis_label_text_font\":\"Calibri Light\",\"axis_label_text_font_size\":\"1.15em\",\"axis_label_text_font_style\":\"bold\",\"axis_line_alpha\":1,\"axis_line_color\":\"#5B5B5B\",\"coordinates\":null,\"formatter\":{\"id\":\"4335\"},\"group\":null,\"major_label_policy\":{\"id\":\"4336\"},\"major_label_text_color\":\"#5B5B5B\",\"major_label_text_font\":\"Calibri Light\",\"major_label_text_font_size\":\"0.95em\",\"major_label_text_font_style\":\"bold\",\"major_tick_in\":0,\"major_tick_line_alpha\":0.25,\"major_tick_line_color\":\"#5B5B5B\",\"major_tick_out\":3,\"minor_tick_line_alpha\":0.25,\"minor_tick_line_color\":\"#5B5B5B\",\"ticker\":{\"id\":\"4138\"}},\"id\":\"4137\",\"type\":\"LinearAxis\"},{\"attributes\":{\"below\":[{\"id\":\"4059\"}],\"center\":[{\"id\":\"4062\"},{\"id\":\"4066\"}],\"height\":250,\"left\":[{\"id\":\"4063\"}],\"renderers\":[{\"id\":\"4085\"}],\"title\":{\"id\":\"4316\"},\"toolbar\":{\"id\":\"4074\"},\"toolbar_location\":null,\"width\":250,\"x_range\":{\"id\":\"4051\"},\"x_scale\":{\"id\":\"4055\"},\"y_range\":{\"id\":\"4053\"},\"y_scale\":{\"id\":\"4057\"}},\"id\":\"4050\",\"subtype\":\"Figure\",\"type\":\"Plot\"},{\"attributes\":{},\"id\":\"4129\",\"type\":\"LinearScale\"},{\"attributes\":{\"fill_alpha\":{\"value\":0.1},\"fill_color\":{\"value\":\"red\"},\"hatch_alpha\":{\"value\":0.1},\"hatch_color\":{\"value\":\"red\"},\"line_alpha\":{\"value\":0.1},\"line_color\":{\"value\":\"red\"},\"marker\":{\"value\":\"triangle\"},\"size\":{\"value\":10},\"x\":{\"field\":\"x\"},\"y\":{\"field\":\"y\"}},\"id\":\"4120\",\"type\":\"Scatter\"},{\"attributes\":{\"fill_color\":{\"value\":\"green\"},\"hatch_color\":{\"value\":\"green\"},\"line_color\":{\"value\":\"green\"},\"size\":{\"value\":10},\"x\":{\"field\":\"x\"},\"y\":{\"field\":\"y\"}},\"id\":\"4082\",\"type\":\"Circle\"},{\"attributes\":{\"toolbars\":[{\"id\":\"4074\"},{\"id\":\"4111\"},{\"id\":\"4148\"}],\"tools\":[{\"id\":\"4067\"},{\"id\":\"4068\"},{\"id\":\"4069\"},{\"id\":\"4070\"},{\"id\":\"4071\"},{\"id\":\"4072\"},{\"id\":\"4104\"},{\"id\":\"4105\"},{\"id\":\"4106\"},{\"id\":\"4107\"},{\"id\":\"4108\"},{\"id\":\"4109\"},{\"id\":\"4141\"},{\"id\":\"4142\"},{\"id\":\"4143\"},{\"id\":\"4144\"},{\"id\":\"4145\"},{\"id\":\"4146\"}]},\"id\":\"4551\",\"type\":\"ProxyToolbar\"},{\"attributes\":{},\"id\":\"4341\",\"type\":\"Selection\"},{\"attributes\":{},\"id\":\"4346\",\"type\":\"UnionRenderers\"},{\"attributes\":{\"fill_color\":{\"value\":\"yellow\"},\"hatch_color\":{\"value\":\"yellow\"},\"line_color\":{\"value\":\"yellow\"},\"marker\":{\"value\":\"square\"},\"size\":{\"value\":10},\"x\":{\"field\":\"x\"},\"y\":{\"field\":\"y\"}},\"id\":\"4156\",\"type\":\"Scatter\"},{\"attributes\":{},\"id\":\"4125\",\"type\":\"DataRange1d\"},{\"attributes\":{\"below\":[{\"id\":\"4096\"}],\"center\":[{\"id\":\"4099\"},{\"id\":\"4103\"}],\"height\":250,\"left\":[{\"id\":\"4100\"}],\"renderers\":[{\"id\":\"4122\"}],\"title\":{\"id\":\"4318\"},\"toolbar\":{\"id\":\"4111\"},\"toolbar_location\":null,\"width\":250,\"x_range\":{\"id\":\"4088\"},\"x_scale\":{\"id\":\"4092\"},\"y_range\":{\"id\":\"4090\"},\"y_scale\":{\"id\":\"4094\"}},\"id\":\"4087\",\"subtype\":\"Figure\",\"type\":\"Plot\"},{\"attributes\":{},\"id\":\"4347\",\"type\":\"Selection\"},{\"attributes\":{\"tools\":[{\"id\":\"4067\"},{\"id\":\"4068\"},{\"id\":\"4069\"},{\"id\":\"4070\"},{\"id\":\"4071\"},{\"id\":\"4072\"}]},\"id\":\"4074\",\"type\":\"Toolbar\"},{\"attributes\":{},\"id\":\"4088\",\"type\":\"DataRange1d\"},{\"attributes\":{\"coordinates\":null,\"data_source\":{\"id\":\"4081\"},\"glyph\":{\"id\":\"4082\"},\"group\":null,\"hover_glyph\":null,\"muted_glyph\":{\"id\":\"4084\"},\"nonselection_glyph\":{\"id\":\"4083\"},\"view\":{\"id\":\"4086\"}},\"id\":\"4085\",\"type\":\"GlyphRenderer\"},{\"attributes\":{},\"id\":\"4108\",\"type\":\"ResetTool\"},{\"attributes\":{\"data\":{\"x\":[1,2,3,4,5],\"y\":[6,2,3,8,15]},\"selected\":{\"id\":\"4347\"},\"selection_policy\":{\"id\":\"4346\"}},\"id\":\"4155\",\"type\":\"ColumnDataSource\"},{\"attributes\":{},\"id\":\"4107\",\"type\":\"SaveTool\"},{\"attributes\":{},\"id\":\"4104\",\"type\":\"PanTool\"},{\"attributes\":{},\"id\":\"4071\",\"type\":\"ResetTool\"},{\"attributes\":{\"overlay\":{\"id\":\"4110\"}},\"id\":\"4106\",\"type\":\"BoxZoomTool\"},{\"attributes\":{},\"id\":\"4105\",\"type\":\"WheelZoomTool\"},{\"attributes\":{\"overlay\":{\"id\":\"4073\"}},\"id\":\"4069\",\"type\":\"BoxZoomTool\"},{\"attributes\":{},\"id\":\"4070\",\"type\":\"SaveTool\"},{\"attributes\":{\"source\":{\"id\":\"4118\"}},\"id\":\"4123\",\"type\":\"CDSView\"},{\"attributes\":{\"coordinates\":null,\"data_source\":{\"id\":\"4118\"},\"glyph\":{\"id\":\"4119\"},\"group\":null,\"hover_glyph\":null,\"muted_glyph\":{\"id\":\"4121\"},\"nonselection_glyph\":{\"id\":\"4120\"},\"view\":{\"id\":\"4123\"}},\"id\":\"4122\",\"type\":\"GlyphRenderer\"},{\"attributes\":{},\"id\":\"4067\",\"type\":\"PanTool\"},{\"attributes\":{\"children\":[[{\"id\":\"4050\"},0,0],[{\"id\":\"4087\"},1,0],[{\"id\":\"4124\"},1,1]]},\"id\":\"4550\",\"type\":\"GridBox\"},{\"attributes\":{},\"id\":\"4068\",\"type\":\"WheelZoomTool\"},{\"attributes\":{},\"id\":\"4323\",\"type\":\"BasicTickFormatter\"},{\"attributes\":{\"tools\":[{\"id\":\"4141\"},{\"id\":\"4142\"},{\"id\":\"4143\"},{\"id\":\"4144\"},{\"id\":\"4145\"},{\"id\":\"4146\"}]},\"id\":\"4148\",\"type\":\"Toolbar\"},{\"attributes\":{\"source\":{\"id\":\"4081\"}},\"id\":\"4086\",\"type\":\"CDSView\"},{\"attributes\":{},\"id\":\"4109\",\"type\":\"HelpTool\"},{\"attributes\":{\"axis\":{\"id\":\"4063\"},\"coordinates\":null,\"dimension\":1,\"group\":null,\"ticker\":null},\"id\":\"4066\",\"type\":\"Grid\"},{\"attributes\":{\"fill_alpha\":{\"value\":0.2},\"fill_color\":{\"value\":\"green\"},\"hatch_alpha\":{\"value\":0.2},\"hatch_color\":{\"value\":\"green\"},\"line_alpha\":{\"value\":0.2},\"line_color\":{\"value\":\"green\"},\"size\":{\"value\":10},\"x\":{\"field\":\"x\"},\"y\":{\"field\":\"y\"}},\"id\":\"4084\",\"type\":\"Circle\"},{\"attributes\":{\"axis\":{\"id\":\"4137\"},\"coordinates\":null,\"dimension\":1,\"group\":null,\"ticker\":null},\"id\":\"4140\",\"type\":\"Grid\"},{\"attributes\":{},\"id\":\"4145\",\"type\":\"ResetTool\"},{\"attributes\":{\"overlay\":{\"id\":\"4147\"}},\"id\":\"4143\",\"type\":\"BoxZoomTool\"},{\"attributes\":{\"axis\":{\"id\":\"4133\"},\"coordinates\":null,\"group\":null,\"ticker\":null},\"id\":\"4136\",\"type\":\"Grid\"},{\"attributes\":{},\"id\":\"4144\",\"type\":\"SaveTool\"},{\"attributes\":{},\"id\":\"4134\",\"type\":\"BasicTicker\"},{\"attributes\":{},\"id\":\"4131\",\"type\":\"LinearScale\"},{\"attributes\":{\"axis_label_standoff\":10,\"axis_label_text_color\":\"#5B5B5B\",\"axis_label_text_font\":\"Calibri Light\",\"axis_label_text_font_size\":\"1.15em\",\"axis_label_text_font_style\":\"bold\",\"axis_line_alpha\":1,\"axis_line_color\":\"#5B5B5B\",\"coordinates\":null,\"formatter\":{\"id\":\"4338\"},\"group\":null,\"major_label_policy\":{\"id\":\"4339\"},\"major_label_text_color\":\"#5B5B5B\",\"major_label_text_font\":\"Calibri Light\",\"major_label_text_font_size\":\"0.95em\",\"major_label_text_font_style\":\"bold\",\"major_tick_in\":0,\"major_tick_line_alpha\":0.25,\"major_tick_line_color\":\"#5B5B5B\",\"major_tick_out\":3,\"minor_tick_line_alpha\":0.25,\"minor_tick_line_color\":\"#5B5B5B\",\"ticker\":{\"id\":\"4134\"}},\"id\":\"4133\",\"type\":\"LinearAxis\"},{\"attributes\":{\"coordinates\":null,\"data_source\":{\"id\":\"4155\"},\"glyph\":{\"id\":\"4156\"},\"group\":null,\"hover_glyph\":null,\"muted_glyph\":{\"id\":\"4158\"},\"nonselection_glyph\":{\"id\":\"4157\"},\"view\":{\"id\":\"4160\"}},\"id\":\"4159\",\"type\":\"GlyphRenderer\"},{\"attributes\":{},\"id\":\"4142\",\"type\":\"WheelZoomTool\"},{\"attributes\":{\"source\":{\"id\":\"4155\"}},\"id\":\"4160\",\"type\":\"CDSView\"},{\"attributes\":{},\"id\":\"4146\",\"type\":\"HelpTool\"},{\"attributes\":{\"fill_alpha\":{\"value\":0.1},\"fill_color\":{\"value\":\"yellow\"},\"hatch_alpha\":{\"value\":0.1},\"hatch_color\":{\"value\":\"yellow\"},\"line_alpha\":{\"value\":0.1},\"line_color\":{\"value\":\"yellow\"},\"marker\":{\"value\":\"square\"},\"size\":{\"value\":10},\"x\":{\"field\":\"x\"},\"y\":{\"field\":\"y\"}},\"id\":\"4157\",\"type\":\"Scatter\"},{\"attributes\":{},\"id\":\"4127\",\"type\":\"DataRange1d\"},{\"attributes\":{},\"id\":\"4138\",\"type\":\"BasicTicker\"},{\"attributes\":{},\"id\":\"4344\",\"type\":\"Selection\"},{\"attributes\":{\"bottom_units\":\"screen\",\"coordinates\":null,\"fill_alpha\":0.5,\"fill_color\":\"lightgrey\",\"group\":null,\"left_units\":\"screen\",\"level\":\"overlay\",\"line_alpha\":1.0,\"line_color\":\"black\",\"line_dash\":[4,4],\"line_width\":2,\"right_units\":\"screen\",\"syncable\":false,\"top_units\":\"screen\"},\"id\":\"4147\",\"type\":\"BoxAnnotation\"},{\"attributes\":{\"bottom_units\":\"screen\",\"coordinates\":null,\"fill_alpha\":0.5,\"fill_color\":\"lightgrey\",\"group\":null,\"left_units\":\"screen\",\"level\":\"overlay\",\"line_alpha\":1.0,\"line_color\":\"black\",\"line_dash\":[4,4],\"line_width\":2,\"right_units\":\"screen\",\"syncable\":false,\"top_units\":\"screen\"},\"id\":\"4110\",\"type\":\"BoxAnnotation\"},{\"attributes\":{\"fill_alpha\":{\"value\":0.2},\"fill_color\":{\"value\":\"yellow\"},\"hatch_alpha\":{\"value\":0.2},\"hatch_color\":{\"value\":\"yellow\"},\"line_alpha\":{\"value\":0.2},\"line_color\":{\"value\":\"yellow\"},\"marker\":{\"value\":\"square\"},\"size\":{\"value\":10},\"x\":{\"field\":\"x\"},\"y\":{\"field\":\"y\"}},\"id\":\"4158\",\"type\":\"Scatter\"},{\"attributes\":{},\"id\":\"4101\",\"type\":\"BasicTicker\"},{\"attributes\":{\"axis_label_standoff\":10,\"axis_label_text_color\":\"#5B5B5B\",\"axis_label_text_font\":\"Calibri Light\",\"axis_label_text_font_size\":\"1.15em\",\"axis_label_text_font_style\":\"bold\",\"axis_line_alpha\":1,\"axis_line_color\":\"#5B5B5B\",\"coordinates\":null,\"formatter\":{\"id\":\"4329\"},\"group\":null,\"major_label_policy\":{\"id\":\"4330\"},\"major_label_text_color\":\"#5B5B5B\",\"major_label_text_font\":\"Calibri Light\",\"major_label_text_font_size\":\"0.95em\",\"major_label_text_font_style\":\"bold\",\"major_tick_in\":0,\"major_tick_line_alpha\":0.25,\"major_tick_line_color\":\"#5B5B5B\",\"major_tick_out\":3,\"minor_tick_line_alpha\":0.25,\"minor_tick_line_color\":\"#5B5B5B\",\"ticker\":{\"id\":\"4101\"}},\"id\":\"4100\",\"type\":\"LinearAxis\"},{\"attributes\":{},\"id\":\"4141\",\"type\":\"PanTool\"},{\"attributes\":{\"fill_alpha\":{\"value\":0.1},\"fill_color\":{\"value\":\"green\"},\"hatch_alpha\":{\"value\":0.1},\"hatch_color\":{\"value\":\"green\"},\"line_alpha\":{\"value\":0.1},\"line_color\":{\"value\":\"green\"},\"size\":{\"value\":10},\"x\":{\"field\":\"x\"},\"y\":{\"field\":\"y\"}},\"id\":\"4083\",\"type\":\"Circle\"},{\"attributes\":{},\"id\":\"4097\",\"type\":\"BasicTicker\"},{\"attributes\":{\"axis\":{\"id\":\"4096\"},\"coordinates\":null,\"group\":null,\"ticker\":null},\"id\":\"4099\",\"type\":\"Grid\"},{\"attributes\":{\"axis_label_standoff\":10,\"axis_label_text_color\":\"#5B5B5B\",\"axis_label_text_font\":\"Calibri Light\",\"axis_label_text_font_size\":\"1.15em\",\"axis_label_text_font_style\":\"bold\",\"axis_line_alpha\":1,\"axis_line_color\":\"#5B5B5B\",\"coordinates\":null,\"formatter\":{\"id\":\"4332\"},\"group\":null,\"major_label_policy\":{\"id\":\"4333\"},\"major_label_text_color\":\"#5B5B5B\",\"major_label_text_font\":\"Calibri Light\",\"major_label_text_font_size\":\"0.95em\",\"major_label_text_font_style\":\"bold\",\"major_tick_in\":0,\"major_tick_line_alpha\":0.25,\"major_tick_line_color\":\"#5B5B5B\",\"major_tick_out\":3,\"minor_tick_line_alpha\":0.25,\"minor_tick_line_color\":\"#5B5B5B\",\"ticker\":{\"id\":\"4097\"}},\"id\":\"4096\",\"type\":\"LinearAxis\"},{\"attributes\":{\"coordinates\":null,\"group\":null,\"text_color\":\"#5B5B5B\",\"text_font\":\"Calibri Light\",\"text_font_size\":\"1.25em\",\"text_font_style\":\"bold\"},\"id\":\"4316\",\"type\":\"Title\"},{\"attributes\":{\"coordinates\":null,\"group\":null,\"text_color\":\"#5B5B5B\",\"text_font\":\"Calibri Light\",\"text_font_size\":\"1.25em\",\"text_font_style\":\"bold\"},\"id\":\"4318\",\"type\":\"Title\"}],\"root_ids\":[\"4553\"]},\"title\":\"Bokeh Application\",\"version\":\"2.4.3\"}};\n  const render_items = [{\"docid\":\"e29ad988-5a8b-4ab9-8681-68b037d5cfd5\",\"root_ids\":[\"4553\"],\"roots\":{\"4553\":\"006e59b9-4c4e-4ec3-a291-ffcdee1c73d0\"}}];\n  root.Bokeh.embed.embed_items_notebook(docs_json, render_items);\n  }\n  if (root.Bokeh !== undefined) {\n    embed_document(root);\n  } else {\n    let attempts = 0;\n    const timer = setInterval(function(root) {\n      if (root.Bokeh !== undefined) {\n        clearInterval(timer);\n        embed_document(root);\n      } else {\n        attempts++;\n        if (attempts > 100) {\n          clearInterval(timer);\n          console.log(\"Bokeh: ERROR: Unable to run BokehJS code because BokehJS library is missing\");\n        }\n      }\n    }, 10, root)\n  }\n})(window);",
      "application/vnd.bokehjs_exec.v0+json": ""
     },
     "metadata": {
      "application/vnd.bokehjs_exec.v0+json": {
       "id": "4553"
      }
     },
     "output_type": "display_data"
    }
   ],
   "source": [
    "\n"
   ]
  },
  {
   "cell_type": "code",
   "execution_count": null,
   "outputs": [],
   "source": [],
   "metadata": {
    "collapsed": false
   }
  }
 ],
 "metadata": {
  "hide_input": false,
  "kernelspec": {
   "display_name": "Python3 default",
   "language": "python",
   "name": "python3"
  },
  "language_info": {
   "codemirror_mode": {
    "name": "ipython",
    "version": 3
   },
   "file_extension": ".py",
   "mimetype": "text/x-python",
   "name": "python",
   "nbconvert_exporter": "python",
   "pygments_lexer": "ipython3",
   "version": "3.6.5"
  },
  "latex_envs": {
   "LaTeX_envs_menu_present": true,
   "autoclose": false,
   "autocomplete": true,
   "bibliofile": "biblio.bib",
   "cite_by": "apalike",
   "current_citInitial": 1,
   "eqLabelWithNumbers": true,
   "eqNumInitial": 1,
   "hotkeys": {
    "equation": "Ctrl-E",
    "itemize": "Ctrl-I"
   },
   "labels_anchors": false,
   "latex_user_defs": false,
   "report_style_numbering": false,
   "user_envs_cfg": false
  },
  "n_questions": 1
 },
 "nbformat": 4,
 "nbformat_minor": 2
}
