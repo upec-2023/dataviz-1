{
 "cells": [
  {
   "cell_type": "markdown",
   "metadata": {
    "deletable": false,
    "editable": false,
    "function": "preliminary",
    "question_id": 1,
    "run_control": {
     "frozen": true
    }
   },
   "source": [
    "\n",
    "<hr style=\"border-width:2px;border-color:#75DFC1\">\n",
    "<center><h1>Introduction à la visualisation de données avec Bokeh</h1></center>\n",
    "<center><h2>Les sources de Data est ses transformations</h2></center>\n",
    "<hr style=\"border-width:2px;border-color:#75DFC1\">\n",
    "\n",
    "* Exécuter la cellule suivante pour importer les classes nécessaires et pouvoir afficher les dessins <b>Bokeh</b> dans des cellules jupyter."
   ]
  },
  {
   "cell_type": "code",
   "execution_count": 2,
   "metadata": {
    "function": "preliminary",
    "question_id": 1,
    "ExecuteTime": {
     "end_time": "2023-11-28T10:01:10.428344Z",
     "start_time": "2023-11-28T10:01:10.425447Z"
    }
   },
   "outputs": [
    {
     "data": {
      "text/html": "<div class=\"bk-root\">\n        <a href=\"https://bokeh.org\" target=\"_blank\" class=\"bk-logo bk-logo-small bk-logo-notebook\"></a>\n        <span id=\"1003\">Loading BokehJS ...</span>\n    </div>\n"
     },
     "metadata": {},
     "output_type": "display_data"
    },
    {
     "data": {
      "application/javascript": "(function(root) {\n  function now() {\n    return new Date();\n  }\n\n  const force = true;\n\n  if (typeof root._bokeh_onload_callbacks === \"undefined\" || force === true) {\n    root._bokeh_onload_callbacks = [];\n    root._bokeh_is_loading = undefined;\n  }\n\nconst JS_MIME_TYPE = 'application/javascript';\n  const HTML_MIME_TYPE = 'text/html';\n  const EXEC_MIME_TYPE = 'application/vnd.bokehjs_exec.v0+json';\n  const CLASS_NAME = 'output_bokeh rendered_html';\n\n  /**\n   * Render data to the DOM node\n   */\n  function render(props, node) {\n    const script = document.createElement(\"script\");\n    node.appendChild(script);\n  }\n\n  /**\n   * Handle when an output is cleared or removed\n   */\n  function handleClearOutput(event, handle) {\n    const cell = handle.cell;\n\n    const id = cell.output_area._bokeh_element_id;\n    const server_id = cell.output_area._bokeh_server_id;\n    // Clean up Bokeh references\n    if (id != null && id in Bokeh.index) {\n      Bokeh.index[id].model.document.clear();\n      delete Bokeh.index[id];\n    }\n\n    if (server_id !== undefined) {\n      // Clean up Bokeh references\n      const cmd_clean = \"from bokeh.io.state import curstate; print(curstate().uuid_to_server['\" + server_id + \"'].get_sessions()[0].document.roots[0]._id)\";\n      cell.notebook.kernel.execute(cmd_clean, {\n        iopub: {\n          output: function(msg) {\n            const id = msg.content.text.trim();\n            if (id in Bokeh.index) {\n              Bokeh.index[id].model.document.clear();\n              delete Bokeh.index[id];\n            }\n          }\n        }\n      });\n      // Destroy server and session\n      const cmd_destroy = \"import bokeh.io.notebook as ion; ion.destroy_server('\" + server_id + \"')\";\n      cell.notebook.kernel.execute(cmd_destroy);\n    }\n  }\n\n  /**\n   * Handle when a new output is added\n   */\n  function handleAddOutput(event, handle) {\n    const output_area = handle.output_area;\n    const output = handle.output;\n\n    // limit handleAddOutput to display_data with EXEC_MIME_TYPE content only\n    if ((output.output_type != \"display_data\") || (!Object.prototype.hasOwnProperty.call(output.data, EXEC_MIME_TYPE))) {\n      return\n    }\n\n    const toinsert = output_area.element.find(\".\" + CLASS_NAME.split(' ')[0]);\n\n    if (output.metadata[EXEC_MIME_TYPE][\"id\"] !== undefined) {\n      toinsert[toinsert.length - 1].firstChild.textContent = output.data[JS_MIME_TYPE];\n      // store reference to embed id on output_area\n      output_area._bokeh_element_id = output.metadata[EXEC_MIME_TYPE][\"id\"];\n    }\n    if (output.metadata[EXEC_MIME_TYPE][\"server_id\"] !== undefined) {\n      const bk_div = document.createElement(\"div\");\n      bk_div.innerHTML = output.data[HTML_MIME_TYPE];\n      const script_attrs = bk_div.children[0].attributes;\n      for (let i = 0; i < script_attrs.length; i++) {\n        toinsert[toinsert.length - 1].firstChild.setAttribute(script_attrs[i].name, script_attrs[i].value);\n        toinsert[toinsert.length - 1].firstChild.textContent = bk_div.children[0].textContent\n      }\n      // store reference to server id on output_area\n      output_area._bokeh_server_id = output.metadata[EXEC_MIME_TYPE][\"server_id\"];\n    }\n  }\n\n  function register_renderer(events, OutputArea) {\n\n    function append_mime(data, metadata, element) {\n      // create a DOM node to render to\n      const toinsert = this.create_output_subarea(\n        metadata,\n        CLASS_NAME,\n        EXEC_MIME_TYPE\n      );\n      this.keyboard_manager.register_events(toinsert);\n      // Render to node\n      const props = {data: data, metadata: metadata[EXEC_MIME_TYPE]};\n      render(props, toinsert[toinsert.length - 1]);\n      element.append(toinsert);\n      return toinsert\n    }\n\n    /* Handle when an output is cleared or removed */\n    events.on('clear_output.CodeCell', handleClearOutput);\n    events.on('delete.Cell', handleClearOutput);\n\n    /* Handle when a new output is added */\n    events.on('output_added.OutputArea', handleAddOutput);\n\n    /**\n     * Register the mime type and append_mime function with output_area\n     */\n    OutputArea.prototype.register_mime_type(EXEC_MIME_TYPE, append_mime, {\n      /* Is output safe? */\n      safe: true,\n      /* Index of renderer in `output_area.display_order` */\n      index: 0\n    });\n  }\n\n  // register the mime type if in Jupyter Notebook environment and previously unregistered\n  if (root.Jupyter !== undefined) {\n    const events = require('base/js/events');\n    const OutputArea = require('notebook/js/outputarea').OutputArea;\n\n    if (OutputArea.prototype.mime_types().indexOf(EXEC_MIME_TYPE) == -1) {\n      register_renderer(events, OutputArea);\n    }\n  }\n  if (typeof (root._bokeh_timeout) === \"undefined\" || force === true) {\n    root._bokeh_timeout = Date.now() + 5000;\n    root._bokeh_failed_load = false;\n  }\n\n  const NB_LOAD_WARNING = {'data': {'text/html':\n     \"<div style='background-color: #fdd'>\\n\"+\n     \"<p>\\n\"+\n     \"BokehJS does not appear to have successfully loaded. If loading BokehJS from CDN, this \\n\"+\n     \"may be due to a slow or bad network connection. Possible fixes:\\n\"+\n     \"</p>\\n\"+\n     \"<ul>\\n\"+\n     \"<li>re-rerun `output_notebook()` to attempt to load from CDN again, or</li>\\n\"+\n     \"<li>use INLINE resources instead, as so:</li>\\n\"+\n     \"</ul>\\n\"+\n     \"<code>\\n\"+\n     \"from bokeh.resources import INLINE\\n\"+\n     \"output_notebook(resources=INLINE)\\n\"+\n     \"</code>\\n\"+\n     \"</div>\"}};\n\n  function display_loaded() {\n    const el = document.getElementById(\"1003\");\n    if (el != null) {\n      el.textContent = \"BokehJS is loading...\";\n    }\n    if (root.Bokeh !== undefined) {\n      if (el != null) {\n        el.textContent = \"BokehJS \" + root.Bokeh.version + \" successfully loaded.\";\n      }\n    } else if (Date.now() < root._bokeh_timeout) {\n      setTimeout(display_loaded, 100)\n    }\n  }\n\n  function run_callbacks() {\n    try {\n      root._bokeh_onload_callbacks.forEach(function(callback) {\n        if (callback != null)\n          callback();\n      });\n    } finally {\n      delete root._bokeh_onload_callbacks\n    }\n    console.debug(\"Bokeh: all callbacks have finished\");\n  }\n\n  function load_libs(css_urls, js_urls, callback) {\n    if (css_urls == null) css_urls = [];\n    if (js_urls == null) js_urls = [];\n\n    root._bokeh_onload_callbacks.push(callback);\n    if (root._bokeh_is_loading > 0) {\n      console.debug(\"Bokeh: BokehJS is being loaded, scheduling callback at\", now());\n      return null;\n    }\n    if (js_urls == null || js_urls.length === 0) {\n      run_callbacks();\n      return null;\n    }\n    console.debug(\"Bokeh: BokehJS not loaded, scheduling load and callback at\", now());\n    root._bokeh_is_loading = css_urls.length + js_urls.length;\n\n    function on_load() {\n      root._bokeh_is_loading--;\n      if (root._bokeh_is_loading === 0) {\n        console.debug(\"Bokeh: all BokehJS libraries/stylesheets loaded\");\n        run_callbacks()\n      }\n    }\n\n    function on_error(url) {\n      console.error(\"failed to load \" + url);\n    }\n\n    for (let i = 0; i < css_urls.length; i++) {\n      const url = css_urls[i];\n      const element = document.createElement(\"link\");\n      element.onload = on_load;\n      element.onerror = on_error.bind(null, url);\n      element.rel = \"stylesheet\";\n      element.type = \"text/css\";\n      element.href = url;\n      console.debug(\"Bokeh: injecting link tag for BokehJS stylesheet: \", url);\n      document.body.appendChild(element);\n    }\n\n    for (let i = 0; i < js_urls.length; i++) {\n      const url = js_urls[i];\n      const element = document.createElement('script');\n      element.onload = on_load;\n      element.onerror = on_error.bind(null, url);\n      element.async = false;\n      element.src = url;\n      console.debug(\"Bokeh: injecting script tag for BokehJS library: \", url);\n      document.head.appendChild(element);\n    }\n  };\n\n  function inject_raw_css(css) {\n    const element = document.createElement(\"style\");\n    element.appendChild(document.createTextNode(css));\n    document.body.appendChild(element);\n  }\n\n  const js_urls = [\"https://cdn.bokeh.org/bokeh/release/bokeh-2.4.3.min.js\", \"https://cdn.bokeh.org/bokeh/release/bokeh-gl-2.4.3.min.js\", \"https://cdn.bokeh.org/bokeh/release/bokeh-widgets-2.4.3.min.js\", \"https://cdn.bokeh.org/bokeh/release/bokeh-tables-2.4.3.min.js\", \"https://cdn.bokeh.org/bokeh/release/bokeh-mathjax-2.4.3.min.js\"];\n  const css_urls = [];\n\n  const inline_js = [    function(Bokeh) {\n      Bokeh.set_log_level(\"info\");\n    },\nfunction(Bokeh) {\n    }\n  ];\n\n  function run_inline_js() {\n    if (root.Bokeh !== undefined || force === true) {\n          for (let i = 0; i < inline_js.length; i++) {\n      inline_js[i].call(root, root.Bokeh);\n    }\nif (force === true) {\n        display_loaded();\n      }} else if (Date.now() < root._bokeh_timeout) {\n      setTimeout(run_inline_js, 100);\n    } else if (!root._bokeh_failed_load) {\n      console.log(\"Bokeh: BokehJS failed to load within specified timeout.\");\n      root._bokeh_failed_load = true;\n    } else if (force !== true) {\n      const cell = $(document.getElementById(\"1003\")).parents('.cell').data().cell;\n      cell.output_area.append_execute_result(NB_LOAD_WARNING)\n    }\n  }\n\n  if (root._bokeh_is_loading === 0) {\n    console.debug(\"Bokeh: BokehJS loaded, going straight to plotting\");\n    run_inline_js();\n  } else {\n    load_libs(css_urls, js_urls, function() {\n      console.debug(\"Bokeh: BokehJS plotting callback run at\", now());\n      run_inline_js();\n    });\n  }\n}(window));",
      "application/vnd.bokehjs_load.v0+json": "(function(root) {\n  function now() {\n    return new Date();\n  }\n\n  const force = true;\n\n  if (typeof root._bokeh_onload_callbacks === \"undefined\" || force === true) {\n    root._bokeh_onload_callbacks = [];\n    root._bokeh_is_loading = undefined;\n  }\n\n\n  if (typeof (root._bokeh_timeout) === \"undefined\" || force === true) {\n    root._bokeh_timeout = Date.now() + 5000;\n    root._bokeh_failed_load = false;\n  }\n\n  const NB_LOAD_WARNING = {'data': {'text/html':\n     \"<div style='background-color: #fdd'>\\n\"+\n     \"<p>\\n\"+\n     \"BokehJS does not appear to have successfully loaded. If loading BokehJS from CDN, this \\n\"+\n     \"may be due to a slow or bad network connection. Possible fixes:\\n\"+\n     \"</p>\\n\"+\n     \"<ul>\\n\"+\n     \"<li>re-rerun `output_notebook()` to attempt to load from CDN again, or</li>\\n\"+\n     \"<li>use INLINE resources instead, as so:</li>\\n\"+\n     \"</ul>\\n\"+\n     \"<code>\\n\"+\n     \"from bokeh.resources import INLINE\\n\"+\n     \"output_notebook(resources=INLINE)\\n\"+\n     \"</code>\\n\"+\n     \"</div>\"}};\n\n  function display_loaded() {\n    const el = document.getElementById(\"1003\");\n    if (el != null) {\n      el.textContent = \"BokehJS is loading...\";\n    }\n    if (root.Bokeh !== undefined) {\n      if (el != null) {\n        el.textContent = \"BokehJS \" + root.Bokeh.version + \" successfully loaded.\";\n      }\n    } else if (Date.now() < root._bokeh_timeout) {\n      setTimeout(display_loaded, 100)\n    }\n  }\n\n  function run_callbacks() {\n    try {\n      root._bokeh_onload_callbacks.forEach(function(callback) {\n        if (callback != null)\n          callback();\n      });\n    } finally {\n      delete root._bokeh_onload_callbacks\n    }\n    console.debug(\"Bokeh: all callbacks have finished\");\n  }\n\n  function load_libs(css_urls, js_urls, callback) {\n    if (css_urls == null) css_urls = [];\n    if (js_urls == null) js_urls = [];\n\n    root._bokeh_onload_callbacks.push(callback);\n    if (root._bokeh_is_loading > 0) {\n      console.debug(\"Bokeh: BokehJS is being loaded, scheduling callback at\", now());\n      return null;\n    }\n    if (js_urls == null || js_urls.length === 0) {\n      run_callbacks();\n      return null;\n    }\n    console.debug(\"Bokeh: BokehJS not loaded, scheduling load and callback at\", now());\n    root._bokeh_is_loading = css_urls.length + js_urls.length;\n\n    function on_load() {\n      root._bokeh_is_loading--;\n      if (root._bokeh_is_loading === 0) {\n        console.debug(\"Bokeh: all BokehJS libraries/stylesheets loaded\");\n        run_callbacks()\n      }\n    }\n\n    function on_error(url) {\n      console.error(\"failed to load \" + url);\n    }\n\n    for (let i = 0; i < css_urls.length; i++) {\n      const url = css_urls[i];\n      const element = document.createElement(\"link\");\n      element.onload = on_load;\n      element.onerror = on_error.bind(null, url);\n      element.rel = \"stylesheet\";\n      element.type = \"text/css\";\n      element.href = url;\n      console.debug(\"Bokeh: injecting link tag for BokehJS stylesheet: \", url);\n      document.body.appendChild(element);\n    }\n\n    for (let i = 0; i < js_urls.length; i++) {\n      const url = js_urls[i];\n      const element = document.createElement('script');\n      element.onload = on_load;\n      element.onerror = on_error.bind(null, url);\n      element.async = false;\n      element.src = url;\n      console.debug(\"Bokeh: injecting script tag for BokehJS library: \", url);\n      document.head.appendChild(element);\n    }\n  };\n\n  function inject_raw_css(css) {\n    const element = document.createElement(\"style\");\n    element.appendChild(document.createTextNode(css));\n    document.body.appendChild(element);\n  }\n\n  const js_urls = [\"https://cdn.bokeh.org/bokeh/release/bokeh-2.4.3.min.js\", \"https://cdn.bokeh.org/bokeh/release/bokeh-gl-2.4.3.min.js\", \"https://cdn.bokeh.org/bokeh/release/bokeh-widgets-2.4.3.min.js\", \"https://cdn.bokeh.org/bokeh/release/bokeh-tables-2.4.3.min.js\", \"https://cdn.bokeh.org/bokeh/release/bokeh-mathjax-2.4.3.min.js\"];\n  const css_urls = [];\n\n  const inline_js = [    function(Bokeh) {\n      Bokeh.set_log_level(\"info\");\n    },\nfunction(Bokeh) {\n    }\n  ];\n\n  function run_inline_js() {\n    if (root.Bokeh !== undefined || force === true) {\n          for (let i = 0; i < inline_js.length; i++) {\n      inline_js[i].call(root, root.Bokeh);\n    }\nif (force === true) {\n        display_loaded();\n      }} else if (Date.now() < root._bokeh_timeout) {\n      setTimeout(run_inline_js, 100);\n    } else if (!root._bokeh_failed_load) {\n      console.log(\"Bokeh: BokehJS failed to load within specified timeout.\");\n      root._bokeh_failed_load = true;\n    } else if (force !== true) {\n      const cell = $(document.getElementById(\"1003\")).parents('.cell').data().cell;\n      cell.output_area.append_execute_result(NB_LOAD_WARNING)\n    }\n  }\n\n  if (root._bokeh_is_loading === 0) {\n    console.debug(\"Bokeh: BokehJS loaded, going straight to plotting\");\n    run_inline_js();\n  } else {\n    load_libs(css_urls, js_urls, function() {\n      console.debug(\"Bokeh: BokehJS plotting callback run at\", now());\n      run_inline_js();\n    });\n  }\n}(window));"
     },
     "metadata": {},
     "output_type": "display_data"
    }
   ],
   "source": [
    "import warnings\n",
    "warnings.filterwarnings(\"ignore\")\n",
    "# Importation des fonctions dont l'on se servira pour toutes les figures\n",
    "\n",
    "from bokeh.plotting import figure, output_notebook, show\n",
    "\n",
    "# Précision de l'affichage des graphiques dans des cellules jupyter\n",
    "\n",
    "output_notebook()"
   ]
  },
  {
   "cell_type": "markdown",
   "metadata": {
    "deletable": false,
    "editable": false,
    "function": "preliminary",
    "question_id": 1,
    "run_control": {
     "frozen": true
    }
   },
   "source": [
    "### La classe `ColumnDataSource`\n",
    "\n",
    "> Chaque méthode *glyph* d'une `figure` **Bokeh** dispose d'un paramètre `source`. Ce paramètre prend en argument un objet de type **`ColumnDataSource`** à l'intérieur duquel des données sont stockées. Les objets `ColumnDataSource` permettent de transférer les données de Python vers la bibliothèque du navigateur BokehJS, et sont utilisées par de nombreuses fonctions.\n",
    ">\n",
    ">\n",
    "> La classe `ColumnDataSource` représente un ensemble de noms de colonnes (chaînes de caractères) associés à des séquences de valeurs de la même manière qu'un `pandas.DataFrame`. Les valeurs peuvent être des listes, des tableaux **NumPy** ou des `pandas.Series`. Pour créer un objet de type `ColumnDataSource` on peut fournir en argument un dictionnaire ou un `pandas.DataFrame`. **La seule contrainte sur les colonnes est qu'elles doivent être de la même taille.**\n",
    ">\n",
    ">\n",
    "> L'interêt majeur d'utiliser une base données `ColumnDataSource` est que l'instanciation de graphiques se fait simplement en passant les clés du `ColumnDataSource` en argument des paramètres usuels. Par exemple:\n",
    ">\n",
    "> ```py\n",
    "    from bokeh.models import ColumnDataSource   # importation de la classe ColumnDataSource\n",
    "    ```\n",
    "> ```py\n",
    "    x = [1, 2, 3, 4, 5]         # listes de coordonnées des points\n",
    "    y = [-1, 1, 4, -2, 3]\n",
    "    ```\n",
    "> ```py\n",
    "    base = ColumnDataSource({   # instanciation de ColumnDataSource\n",
    "        'abscisses' : x,        # l'argument du constructeur est un dictionnaire\n",
    "        'ordonnees' : y})\n",
    "    ```\n",
    "> ```py\n",
    "    p = figure(plot_width = 600, plot_height = 400)   # instanciation d'une figure\n",
    "    ```\n",
    "> ```py\n",
    "    p.circle(x = 'abscisses',   # instanciation d'un nuage de points\n",
    "             y = 'ordonnees',   # || les coordonnées sont renseignées en passant en argument ||\n",
    "             source = base)     # || les clés du dictionnaire dans la source                 ||    \n",
    "    ```\n",
    ">\n",
    ">\n",
    ">\n",
    "> La classe `LabelSet` permet d'ajouter un ensemble de labels à une figure à partir d'un objet `ColumnDataSource`, son instanciation prend en arguments:\n",
    "> - `source`: l'objet `ColumnDataSource` à partir duquel on extrait les données des labels.\n",
    "> - `x`: le nom de la colonne contenant les abscisses des labels.\n",
    "> - `y`: le nom de la colonne contenant les abscisses des labels.\n",
    "> - `text`: le nom de la colonne contenant le texte des labels.\n",
    "> - `x_offset` et `y_offset`: le décalage sur l'axe des abscisses ou des ordonnées; peut prendre un nombre qui affectera le même décalage à tous les labels ou une clé qui correspond au nom de la colonne contenant les décalages de chaque label.\n",
    ">\n",
    ">\n",
    "> Les `LabelSet` sont un type d'annotation. Ainsi, pour ajouter un `LabelSet` à une `figure`, il faut aussi utiliser la méthode `add_layout` de la `figure` avec comme argument le dit `LabelSet`.\n",
    "\n",
    "<div class=\"alert alert-info\">\n",
    "<i class=\"fa fa-info-circle\"></i> &emsp; \n",
    "Si l'on souhaite préciser l'argument <code style = \"background-color: transparent ; color : inherit\">source</code> d'une méthode <i>glyph</i>, la syntaxe pour préciser l'argument <code style = \"background-color: transparent ; color : inherit\">x</code> et les autres est la même que celle précédemment décrite pour la classe <code style = \"background-color: transparent ; color : inherit\">LabelSet</code>. \n",
    "</div>\n",
    "\n",
    "\n",
    "* Importer les classes `LabelSet` et `ColumnDataSource` depuis **bokeh.models**.\n",
    "\n",
    "\n",
    "* Créer les listes:\n",
    "    * **`x`**`= [1, 2, 3, 4, 5]`\n",
    "    * **`y`**`= [5, 2, 13, 15, 9]`\n",
    "    * **`couleur`**`= ['yellow', 'orange', 'red', 'pink', 'purple']`\n",
    "    * **`taille`**`= [5, 10, 15, 20, 25]`.\n",
    "\n",
    "\n",
    "* Instancier un objet `ColumnDataSource` appelé **`source`** à partir d'un dictionnaire contenant les listes créées précédemment. Les clés du dictionnaire peuvent être choisies librement.\n",
    "\n",
    "\n",
    "* Instancier une figure de largeur 600 et hauteur 400 et y afficher un nuage de points en forme de cercles à partir des colonnes **`x`**, **`y`**, **`couleur`** et **`taille`** de **`source`**.\n",
    "\n",
    "\n",
    "> Nous voulons maintenant labéliser chaque point avec une lettre de A à E.\n",
    "\n",
    "\n",
    "* Créer une liste **`noms`** contenant les caractères entre `'A'` et `'E'` par ordre alphabétique.\n",
    "\n",
    "\n",
    "* A l'aide de la méthode `add` de la classe `ColumnDataSource`, ajouter à `source` une clé `\"noms\"` correspondant à la liste `noms`. La méthode `add` prend en argument une liste et une chaîne de caractères correspondant à la clé.\n",
    "\n",
    "\n",
    "* Instancier un objet `LabelSet` où les arguments de position et de contenu de chaque label seront extraits de `source`. Il faudra aussi ajouter un décalage de 10 pixels vers la droite et vers le haut pour éviter que les labels et les points ne se superposent.\n",
    "\n",
    "\n",
    "* Ajouter le `Labelset` aux annotations de la figure.\n",
    "\n",
    "\n",
    "* Afficher la figure."
   ]
  },
  {
   "cell_type": "code",
   "execution_count": null,
   "outputs": [],
   "source": [
    "### Insérez votre code ici\n",
    "\n"
   ],
   "metadata": {
    "collapsed": false
   }
  },
  {
   "cell_type": "code",
   "execution_count": 3,
   "metadata": {
    "function": "submission",
    "question_id": 1,
    "ExecuteTime": {
     "end_time": "2023-11-28T10:01:19.539004Z",
     "start_time": "2023-11-28T10:01:19.518758Z"
    }
   },
   "outputs": [
    {
     "data": {
      "text/html": "\n  <div class=\"bk-root\" id=\"d2dd451c-857a-4dec-971d-47358d639077\" data-root-id=\"1005\"></div>\n"
     },
     "metadata": {},
     "output_type": "display_data"
    },
    {
     "data": {
      "application/javascript": "(function(root) {\n  function embed_document(root) {\n  const docs_json = {\"89bcf7e6-62a6-4384-9587-2dbaafa08d03\":{\"defs\":[],\"roots\":{\"references\":[{\"attributes\":{\"below\":[{\"id\":\"1014\"}],\"center\":[{\"id\":\"1017\"},{\"id\":\"1021\"},{\"id\":\"1042\"}],\"height\":400,\"left\":[{\"id\":\"1018\"}],\"renderers\":[{\"id\":\"1040\"}],\"title\":{\"id\":\"1044\"},\"toolbar\":{\"id\":\"1029\"},\"x_range\":{\"id\":\"1006\"},\"x_scale\":{\"id\":\"1010\"},\"y_range\":{\"id\":\"1008\"},\"y_scale\":{\"id\":\"1012\"}},\"id\":\"1005\",\"subtype\":\"Figure\",\"type\":\"Plot\"},{\"attributes\":{},\"id\":\"1047\",\"type\":\"BasicTickFormatter\"},{\"attributes\":{},\"id\":\"1051\",\"type\":\"AllLabels\"},{\"attributes\":{},\"id\":\"1025\",\"type\":\"SaveTool\"},{\"attributes\":{\"data\":{\"couleur\":[\"yellow\",\"orange\",\"red\",\"pink\",\"purple\"],\"noms\":[\"A\",\"B\",\"C\",\"D\",\"E\"],\"taille\":[5,10,15,20,25],\"x\":[1,2,3,4,5],\"y\":[5,2,13,15,9]},\"selected\":{\"id\":\"1053\"},\"selection_policy\":{\"id\":\"1052\"}},\"id\":\"1004\",\"type\":\"ColumnDataSource\"},{\"attributes\":{},\"id\":\"1006\",\"type\":\"DataRange1d\"},{\"attributes\":{},\"id\":\"1026\",\"type\":\"ResetTool\"},{\"attributes\":{\"overlay\":{\"id\":\"1028\"}},\"id\":\"1024\",\"type\":\"BoxZoomTool\"},{\"attributes\":{},\"id\":\"1048\",\"type\":\"AllLabels\"},{\"attributes\":{},\"id\":\"1023\",\"type\":\"WheelZoomTool\"},{\"attributes\":{},\"id\":\"1022\",\"type\":\"PanTool\"},{\"attributes\":{},\"id\":\"1019\",\"type\":\"BasicTicker\"},{\"attributes\":{\"source\":{\"id\":\"1004\"}},\"id\":\"1041\",\"type\":\"CDSView\"},{\"attributes\":{},\"id\":\"1012\",\"type\":\"LinearScale\"},{\"attributes\":{\"coordinates\":null,\"group\":null,\"source\":{\"id\":\"1004\"},\"text\":{\"field\":\"noms\"},\"x\":{\"field\":\"x\"},\"x_offset\":{\"value\":10},\"y\":{\"field\":\"y\"},\"y_offset\":{\"value\":10}},\"id\":\"1042\",\"type\":\"LabelSet\"},{\"attributes\":{\"tools\":[{\"id\":\"1022\"},{\"id\":\"1023\"},{\"id\":\"1024\"},{\"id\":\"1025\"},{\"id\":\"1026\"},{\"id\":\"1027\"}]},\"id\":\"1029\",\"type\":\"Toolbar\"},{\"attributes\":{\"axis\":{\"id\":\"1018\"},\"coordinates\":null,\"dimension\":1,\"group\":null,\"ticker\":null},\"id\":\"1021\",\"type\":\"Grid\"},{\"attributes\":{},\"id\":\"1008\",\"type\":\"DataRange1d\"},{\"attributes\":{},\"id\":\"1053\",\"type\":\"Selection\"},{\"attributes\":{},\"id\":\"1027\",\"type\":\"HelpTool\"},{\"attributes\":{\"fill_color\":{\"field\":\"couleur\"},\"line_color\":{\"value\":\"#1f77b4\"},\"size\":{\"field\":\"taille\"},\"x\":{\"field\":\"x\"},\"y\":{\"field\":\"y\"}},\"id\":\"1037\",\"type\":\"Circle\"},{\"attributes\":{\"coordinates\":null,\"data_source\":{\"id\":\"1004\"},\"glyph\":{\"id\":\"1037\"},\"group\":null,\"hover_glyph\":null,\"muted_glyph\":{\"id\":\"1039\"},\"nonselection_glyph\":{\"id\":\"1038\"},\"view\":{\"id\":\"1041\"}},\"id\":\"1040\",\"type\":\"GlyphRenderer\"},{\"attributes\":{},\"id\":\"1052\",\"type\":\"UnionRenderers\"},{\"attributes\":{\"axis_label_standoff\":10,\"axis_label_text_color\":\"#5B5B5B\",\"axis_label_text_font\":\"Calibri Light\",\"axis_label_text_font_size\":\"1.15em\",\"axis_label_text_font_style\":\"bold\",\"axis_line_alpha\":1,\"axis_line_color\":\"#5B5B5B\",\"coordinates\":null,\"formatter\":{\"id\":\"1047\"},\"group\":null,\"major_label_policy\":{\"id\":\"1048\"},\"major_label_text_color\":\"#5B5B5B\",\"major_label_text_font\":\"Calibri Light\",\"major_label_text_font_size\":\"0.95em\",\"major_label_text_font_style\":\"bold\",\"major_tick_in\":0,\"major_tick_line_alpha\":0.25,\"major_tick_line_color\":\"#5B5B5B\",\"major_tick_out\":3,\"minor_tick_line_alpha\":0.25,\"minor_tick_line_color\":\"#5B5B5B\",\"ticker\":{\"id\":\"1019\"}},\"id\":\"1018\",\"type\":\"LinearAxis\"},{\"attributes\":{},\"id\":\"1015\",\"type\":\"BasicTicker\"},{\"attributes\":{\"axis_label_standoff\":10,\"axis_label_text_color\":\"#5B5B5B\",\"axis_label_text_font\":\"Calibri Light\",\"axis_label_text_font_size\":\"1.15em\",\"axis_label_text_font_style\":\"bold\",\"axis_line_alpha\":1,\"axis_line_color\":\"#5B5B5B\",\"coordinates\":null,\"formatter\":{\"id\":\"1050\"},\"group\":null,\"major_label_policy\":{\"id\":\"1051\"},\"major_label_text_color\":\"#5B5B5B\",\"major_label_text_font\":\"Calibri Light\",\"major_label_text_font_size\":\"0.95em\",\"major_label_text_font_style\":\"bold\",\"major_tick_in\":0,\"major_tick_line_alpha\":0.25,\"major_tick_line_color\":\"#5B5B5B\",\"major_tick_out\":3,\"minor_tick_line_alpha\":0.25,\"minor_tick_line_color\":\"#5B5B5B\",\"ticker\":{\"id\":\"1015\"}},\"id\":\"1014\",\"type\":\"LinearAxis\"},{\"attributes\":{\"coordinates\":null,\"group\":null,\"text_color\":\"#5B5B5B\",\"text_font\":\"Calibri Light\",\"text_font_size\":\"1.25em\",\"text_font_style\":\"bold\"},\"id\":\"1044\",\"type\":\"Title\"},{\"attributes\":{\"axis\":{\"id\":\"1014\"},\"coordinates\":null,\"group\":null,\"ticker\":null},\"id\":\"1017\",\"type\":\"Grid\"},{\"attributes\":{\"bottom_units\":\"screen\",\"coordinates\":null,\"fill_alpha\":0.5,\"fill_color\":\"lightgrey\",\"group\":null,\"left_units\":\"screen\",\"level\":\"overlay\",\"line_alpha\":1.0,\"line_color\":\"black\",\"line_dash\":[4,4],\"line_width\":2,\"right_units\":\"screen\",\"syncable\":false,\"top_units\":\"screen\"},\"id\":\"1028\",\"type\":\"BoxAnnotation\"},{\"attributes\":{\"fill_alpha\":{\"value\":0.1},\"fill_color\":{\"field\":\"couleur\"},\"hatch_alpha\":{\"value\":0.1},\"line_alpha\":{\"value\":0.1},\"line_color\":{\"value\":\"#1f77b4\"},\"size\":{\"field\":\"taille\"},\"x\":{\"field\":\"x\"},\"y\":{\"field\":\"y\"}},\"id\":\"1038\",\"type\":\"Circle\"},{\"attributes\":{},\"id\":\"1050\",\"type\":\"BasicTickFormatter\"},{\"attributes\":{\"fill_alpha\":{\"value\":0.2},\"fill_color\":{\"field\":\"couleur\"},\"hatch_alpha\":{\"value\":0.2},\"line_alpha\":{\"value\":0.2},\"line_color\":{\"value\":\"#1f77b4\"},\"size\":{\"field\":\"taille\"},\"x\":{\"field\":\"x\"},\"y\":{\"field\":\"y\"}},\"id\":\"1039\",\"type\":\"Circle\"},{\"attributes\":{},\"id\":\"1010\",\"type\":\"LinearScale\"}],\"root_ids\":[\"1005\"]},\"title\":\"Bokeh Application\",\"version\":\"2.4.3\"}};\n  const render_items = [{\"docid\":\"89bcf7e6-62a6-4384-9587-2dbaafa08d03\",\"root_ids\":[\"1005\"],\"roots\":{\"1005\":\"d2dd451c-857a-4dec-971d-47358d639077\"}}];\n  root.Bokeh.embed.embed_items_notebook(docs_json, render_items);\n  }\n  if (root.Bokeh !== undefined) {\n    embed_document(root);\n  } else {\n    let attempts = 0;\n    const timer = setInterval(function(root) {\n      if (root.Bokeh !== undefined) {\n        clearInterval(timer);\n        embed_document(root);\n      } else {\n        attempts++;\n        if (attempts > 100) {\n          clearInterval(timer);\n          console.log(\"Bokeh: ERROR: Unable to run BokehJS code because BokehJS library is missing\");\n        }\n      }\n    }, 10, root)\n  }\n})(window);",
      "application/vnd.bokehjs_exec.v0+json": ""
     },
     "metadata": {
      "application/vnd.bokehjs_exec.v0+json": {
       "id": "1005"
      }
     },
     "output_type": "display_data"
    }
   ],
   "source": []
  },
  {
   "cell_type": "markdown",
   "metadata": {
    "deletable": false,
    "editable": false,
    "function": "preliminary",
    "question_id": 1,
    "run_control": {
     "frozen": true
    }
   },
   "source": [
    "> Lorsque l'on crée un objet `ColumnDataSource` à partir d'un `pandas.DataFrame`; les colonnes auront les mêmes noms que celles du `pandas.DataFrame`.\n",
    "\n",
    "* Charger le module **pandas** sous l'abréviation **`pd`**.\n",
    "\n",
    "\n",
    "* Lire le fichier *ruspini.csv* dans un `pandas.DataFrame`, et afficher ses $5$ premières lignes.\n",
    "\n",
    "\n",
    "* Instancier un objet `ColumnDataSource` **`source`**  à partir du *DataFrame* précédent."
   ]
  },
  {
   "cell_type": "code",
   "execution_count": null,
   "outputs": [],
   "source": [
    "### Insérez votre code ici\n",
    "\n"
   ],
   "metadata": {
    "collapsed": false
   }
  },
  {
   "cell_type": "code",
   "execution_count": 5,
   "metadata": {
    "function": "submission",
    "question_id": 1,
    "ExecuteTime": {
     "end_time": "2023-11-28T10:01:45.361989Z",
     "start_time": "2023-11-28T10:01:45.356311Z"
    }
   },
   "outputs": [
    {
     "name": "stdout",
     "output_type": "stream",
     "text": [
      "   indices   x   y\n",
      "0        1   4  53\n",
      "1        2   5  63\n",
      "2        3  10  59\n",
      "3        4   9  77\n",
      "4        5  13  49\n"
     ]
    }
   ],
   "source": [
    "\n",
    "\n",
    "\n"
   ]
  },
  {
   "cell_type": "markdown",
   "metadata": {
    "deletable": false,
    "editable": false,
    "function": "preliminary",
    "question_id": 1,
    "run_control": {
     "frozen": true
    }
   },
   "source": [
    "> Une fois créé, l'objet `ColumnDataSource` peut être utilisé par toutes les méthodes *glyphs* en précisant les clés des colonnes ainsi que la source pour créer des graphiques.\n",
    "\n",
    "* Instancier une figure de largeur 600 et hauteur 400.\n",
    "\n",
    "\n",
    "* Instancier un nuage de points en forme de cercles ayant pour abscisses la colonne **`'x'`** et pour ordonnées la colonne **`'y'`** de **`source`**."
   ]
  },
  {
   "cell_type": "code",
   "execution_count": null,
   "outputs": [],
   "source": [
    "### Insérez votre code ici\n",
    "\n"
   ],
   "metadata": {
    "collapsed": false
   }
  },
  {
   "cell_type": "code",
   "execution_count": 7,
   "metadata": {
    "function": "submission",
    "question_id": 1,
    "ExecuteTime": {
     "end_time": "2023-11-28T10:02:05.527807Z",
     "start_time": "2023-11-28T10:02:05.513819Z"
    }
   },
   "outputs": [
    {
     "data": {
      "text/html": "\n  <div class=\"bk-root\" id=\"27b8d34f-ad12-43b8-b3ef-67291f7b084d\" data-root-id=\"1229\"></div>\n"
     },
     "metadata": {},
     "output_type": "display_data"
    },
    {
     "data": {
      "application/javascript": "(function(root) {\n  function embed_document(root) {\n  const docs_json = {\"90cbf6de-630a-47c9-9e70-859a1a6a013a\":{\"defs\":[],\"roots\":{\"references\":[{\"attributes\":{\"below\":[{\"id\":\"1238\"}],\"center\":[{\"id\":\"1241\"},{\"id\":\"1245\"}],\"height\":400,\"left\":[{\"id\":\"1242\"}],\"renderers\":[{\"id\":\"1264\"}],\"title\":{\"id\":\"1288\"},\"toolbar\":{\"id\":\"1253\"},\"x_range\":{\"id\":\"1230\"},\"x_scale\":{\"id\":\"1234\"},\"y_range\":{\"id\":\"1232\"},\"y_scale\":{\"id\":\"1236\"}},\"id\":\"1229\",\"subtype\":\"Figure\",\"type\":\"Plot\"},{\"attributes\":{\"axis\":{\"id\":\"1242\"},\"coordinates\":null,\"dimension\":1,\"group\":null,\"ticker\":null},\"id\":\"1245\",\"type\":\"Grid\"},{\"attributes\":{\"axis_label_standoff\":10,\"axis_label_text_color\":\"#5B5B5B\",\"axis_label_text_font\":\"Calibri Light\",\"axis_label_text_font_size\":\"1.15em\",\"axis_label_text_font_style\":\"bold\",\"axis_line_alpha\":1,\"axis_line_color\":\"#5B5B5B\",\"coordinates\":null,\"formatter\":{\"id\":\"1294\"},\"group\":null,\"major_label_policy\":{\"id\":\"1295\"},\"major_label_text_color\":\"#5B5B5B\",\"major_label_text_font\":\"Calibri Light\",\"major_label_text_font_size\":\"0.95em\",\"major_label_text_font_style\":\"bold\",\"major_tick_in\":0,\"major_tick_line_alpha\":0.25,\"major_tick_line_color\":\"#5B5B5B\",\"major_tick_out\":3,\"minor_tick_line_alpha\":0.25,\"minor_tick_line_color\":\"#5B5B5B\",\"ticker\":{\"id\":\"1239\"}},\"id\":\"1238\",\"type\":\"LinearAxis\"},{\"attributes\":{},\"id\":\"1234\",\"type\":\"LinearScale\"},{\"attributes\":{\"bottom_units\":\"screen\",\"coordinates\":null,\"fill_alpha\":0.5,\"fill_color\":\"lightgrey\",\"group\":null,\"left_units\":\"screen\",\"level\":\"overlay\",\"line_alpha\":1.0,\"line_color\":\"black\",\"line_dash\":[4,4],\"line_width\":2,\"right_units\":\"screen\",\"syncable\":false,\"top_units\":\"screen\"},\"id\":\"1252\",\"type\":\"BoxAnnotation\"},{\"attributes\":{\"coordinates\":null,\"group\":null,\"text_color\":\"#5B5B5B\",\"text_font\":\"Calibri Light\",\"text_font_size\":\"1.25em\",\"text_font_style\":\"bold\"},\"id\":\"1288\",\"type\":\"Title\"},{\"attributes\":{},\"id\":\"1294\",\"type\":\"BasicTickFormatter\"},{\"attributes\":{\"axis_label_standoff\":10,\"axis_label_text_color\":\"#5B5B5B\",\"axis_label_text_font\":\"Calibri Light\",\"axis_label_text_font_size\":\"1.15em\",\"axis_label_text_font_style\":\"bold\",\"axis_line_alpha\":1,\"axis_line_color\":\"#5B5B5B\",\"coordinates\":null,\"formatter\":{\"id\":\"1291\"},\"group\":null,\"major_label_policy\":{\"id\":\"1292\"},\"major_label_text_color\":\"#5B5B5B\",\"major_label_text_font\":\"Calibri Light\",\"major_label_text_font_size\":\"0.95em\",\"major_label_text_font_style\":\"bold\",\"major_tick_in\":0,\"major_tick_line_alpha\":0.25,\"major_tick_line_color\":\"#5B5B5B\",\"major_tick_out\":3,\"minor_tick_line_alpha\":0.25,\"minor_tick_line_color\":\"#5B5B5B\",\"ticker\":{\"id\":\"1243\"}},\"id\":\"1242\",\"type\":\"LinearAxis\"},{\"attributes\":{},\"id\":\"1230\",\"type\":\"DataRange1d\"},{\"attributes\":{},\"id\":\"1243\",\"type\":\"BasicTicker\"},{\"attributes\":{\"axis\":{\"id\":\"1238\"},\"coordinates\":null,\"group\":null,\"ticker\":null},\"id\":\"1241\",\"type\":\"Grid\"},{\"attributes\":{},\"id\":\"1251\",\"type\":\"HelpTool\"},{\"attributes\":{},\"id\":\"1236\",\"type\":\"LinearScale\"},{\"attributes\":{\"fill_alpha\":{\"value\":0.2},\"fill_color\":{\"value\":\"#1f77b4\"},\"hatch_alpha\":{\"value\":0.2},\"line_alpha\":{\"value\":0.2},\"line_color\":{\"value\":\"#1f77b4\"},\"x\":{\"field\":\"x\"},\"y\":{\"field\":\"y\"}},\"id\":\"1263\",\"type\":\"Circle\"},{\"attributes\":{},\"id\":\"1239\",\"type\":\"BasicTicker\"},{\"attributes\":{},\"id\":\"1297\",\"type\":\"Selection\"},{\"attributes\":{},\"id\":\"1292\",\"type\":\"AllLabels\"},{\"attributes\":{\"overlay\":{\"id\":\"1252\"}},\"id\":\"1248\",\"type\":\"BoxZoomTool\"},{\"attributes\":{},\"id\":\"1250\",\"type\":\"ResetTool\"},{\"attributes\":{},\"id\":\"1249\",\"type\":\"SaveTool\"},{\"attributes\":{},\"id\":\"1296\",\"type\":\"UnionRenderers\"},{\"attributes\":{\"coordinates\":null,\"data_source\":{\"id\":\"1228\"},\"glyph\":{\"id\":\"1261\"},\"group\":null,\"hover_glyph\":null,\"muted_glyph\":{\"id\":\"1263\"},\"nonselection_glyph\":{\"id\":\"1262\"},\"view\":{\"id\":\"1265\"}},\"id\":\"1264\",\"type\":\"GlyphRenderer\"},{\"attributes\":{\"fill_color\":{\"value\":\"#1f77b4\"},\"line_color\":{\"value\":\"#1f77b4\"},\"x\":{\"field\":\"x\"},\"y\":{\"field\":\"y\"}},\"id\":\"1261\",\"type\":\"Circle\"},{\"attributes\":{},\"id\":\"1232\",\"type\":\"DataRange1d\"},{\"attributes\":{\"data\":{\"index\":[0,1,2,3,4,5,6,7,8,9,10,11,12,13,14,15,16,17,18,19,20,21,22,23,24,25,26,27,28,29,30,31,32,33,34,35,36,37,38,39,40,41,42,43,44,45,46,47,48,49,50,51,52,53,54,55,56,57,58,59,60,61,62,63,64,65,66,67,68,69,70,71,72,73,74],\"indices\":[1,2,3,4,5,6,7,8,9,10,11,12,13,14,15,16,17,18,19,20,21,22,23,24,25,26,27,28,29,30,31,32,33,34,35,36,37,38,39,40,41,42,43,44,45,46,47,48,49,50,51,52,53,54,55,56,57,58,59,60,61,62,63,64,65,66,67,68,69,70,71,72,73,74,75],\"x\":[4,5,10,9,13,13,12,15,18,19,22,27,28,24,27,28,30,31,32,36,28,32,35,33,38,41,38,38,32,34,44,44,44,46,47,49,50,53,52,55,54,60,63,86,85,85,78,74,97,98,98,99,99,101,108,110,108,111,115,117,70,77,83,61,69,78,66,58,64,69,66,61,76,72,64],\"y\":[53,63,59,77,49,69,88,75,61,65,74,72,76,58,55,60,52,60,61,72,147,149,153,154,151,150,145,143,143,141,156,149,143,142,149,152,142,144,152,155,124,136,139,132,115,96,94,96,122,116,124,119,128,115,111,111,116,126,117,115,4,12,21,15,15,16,18,13,20,21,23,25,27,31,30]},\"selected\":{\"id\":\"1297\"},\"selection_policy\":{\"id\":\"1296\"}},\"id\":\"1228\",\"type\":\"ColumnDataSource\"},{\"attributes\":{\"tools\":[{\"id\":\"1246\"},{\"id\":\"1247\"},{\"id\":\"1248\"},{\"id\":\"1249\"},{\"id\":\"1250\"},{\"id\":\"1251\"}]},\"id\":\"1253\",\"type\":\"Toolbar\"},{\"attributes\":{\"fill_alpha\":{\"value\":0.1},\"fill_color\":{\"value\":\"#1f77b4\"},\"hatch_alpha\":{\"value\":0.1},\"line_alpha\":{\"value\":0.1},\"line_color\":{\"value\":\"#1f77b4\"},\"x\":{\"field\":\"x\"},\"y\":{\"field\":\"y\"}},\"id\":\"1262\",\"type\":\"Circle\"},{\"attributes\":{},\"id\":\"1246\",\"type\":\"PanTool\"},{\"attributes\":{},\"id\":\"1291\",\"type\":\"BasicTickFormatter\"},{\"attributes\":{},\"id\":\"1295\",\"type\":\"AllLabels\"},{\"attributes\":{\"source\":{\"id\":\"1228\"}},\"id\":\"1265\",\"type\":\"CDSView\"},{\"attributes\":{},\"id\":\"1247\",\"type\":\"WheelZoomTool\"}],\"root_ids\":[\"1229\"]},\"title\":\"Bokeh Application\",\"version\":\"2.4.3\"}};\n  const render_items = [{\"docid\":\"90cbf6de-630a-47c9-9e70-859a1a6a013a\",\"root_ids\":[\"1229\"],\"roots\":{\"1229\":\"27b8d34f-ad12-43b8-b3ef-67291f7b084d\"}}];\n  root.Bokeh.embed.embed_items_notebook(docs_json, render_items);\n  }\n  if (root.Bokeh !== undefined) {\n    embed_document(root);\n  } else {\n    let attempts = 0;\n    const timer = setInterval(function(root) {\n      if (root.Bokeh !== undefined) {\n        clearInterval(timer);\n        embed_document(root);\n      } else {\n        attempts++;\n        if (attempts > 100) {\n          clearInterval(timer);\n          console.log(\"Bokeh: ERROR: Unable to run BokehJS code because BokehJS library is missing\");\n        }\n      }\n    }, 10, root)\n  }\n})(window);",
      "application/vnd.bokehjs_exec.v0+json": ""
     },
     "metadata": {
      "application/vnd.bokehjs_exec.v0+json": {
       "id": "1229"
      }
     },
     "output_type": "display_data"
    }
   ],
   "source": []
  },
  {
   "cell_type": "markdown",
   "metadata": {
    "deletable": false,
    "editable": false,
    "function": "preliminary",
    "question_id": 1,
    "run_control": {
     "frozen": true
    }
   },
   "source": [
    "### L'outil `HoverTool` (suite)\n",
    "\n",
    "> La classe `HoverTool` permet d'afficher des informations supplémentaires dans une fenêtre contextuelle lorsque l'utilisateur survole avec le curseur un graphique issu d'une méthode *glyph*. Cet objet doit s'instancier avec un paramètre `tooltips` qui représente une liste de tuples.\n",
    ">\n",
    "> On rappelle que chaque tuple de la liste `tooltips` sert à définir une information qui s'affichera dans la fenêtre contextuelle lorsque l'on survolera le dessin.\n",
    ">\n",
    ">Le premier élément d'un tuple de la liste est une chaîne de caractères correspondant au nom de l'information à afficher, le second élément est lui aussi une chaîne de caractères correspondant à l'adresse de l'information à afficher.\n",
    ">\n",
    "> La syntaxe pour le second élément est la suivante:\n",
    "> - `'@variable'`: Signifie que l'on pointe vers la colonne `'variable'` contenue dans la `source`.\n",
    "> - `$variable`: Signifie que l'on pointe vers un élément indépendant de la source et des éléments du graphe. Par exemple `$x` va pointer vers l'abscisse du curseur ou `$index` qui pointe vers l'index du point indépendemment de l'index de la source.\n",
    ">\n",
    ">\n",
    "> Pour plus d'infos sur la configuration de l'objet `HoverTool` et la liste des éléments indépendants sur lesquels on peut pointer via `$`: regarder [ici](http://bokeh.pydata.org/en/latest/docs/user_guide/tools.html#hovertool).\n",
    ">\n",
    "> \n",
    "> L'outil `Hovertool` peut directement être ajouté à la liste d'outils au moment de la création d'une figure. Pour ce faire, il suffit de spécifier le paramètre `tools` lors de l'instanciation d'une figure. Ce paramètre prend en argument une liste d'outils (comme `HoverTool`) ou de chaînes de caractères pour des outils prédéfinis (comme `'wheel_zoom'` pour zoomer avec la molette de la souris).\n",
    ">\n",
    "> On rappelle aussi qu'il est possible de rajouter un argument dans un objet de type `HoverTool` qui précise sur quels graphiques appliquer celui-ci. Il s'agit du paramètre `renderers` qui prend en argument une liste de `GlyphRenderers`. Par défaut, l'outil sera ajouté à tous les dessins présents sur la figure.\n",
    "\n",
    "\n",
    "* Importer l'objet `HoverTool` du sous-module `bokeh.models`.\n",
    "\n",
    "\n",
    "* Créer une liste de tuples représentant les éléments `'indices'`, `'x'`, `'y'` contenus dans `source`.\n",
    "\n",
    "\n",
    "* Instancier une figure de largeur 600 et hauteur 400 et y instancier un nuage de points en forme de cercles à partir du `ColumnDataSource` `source`. Stocker le `GlyphRenderer` généré dans une variable nommée `c`.\n",
    "\n",
    "\n",
    "* Instancier un `HoverTool` nommé  **``hover``** qui permet d'afficher les indices, les abscisses et les ordonnées sur le nuage associé à `c`. On rappelle que le paramètre `renderers` prend en argument une **liste** de `GlyphRenderers`.\n",
    "\n",
    "\n",
    "* Ajouter l'outil à la liste des outils de la figure et l'afficher."
   ]
  },
  {
   "cell_type": "code",
   "execution_count": null,
   "outputs": [],
   "source": [
    "### Insérez votre code ici\n"
   ],
   "metadata": {
    "collapsed": false
   }
  },
  {
   "cell_type": "code",
   "execution_count": 8,
   "metadata": {
    "function": "submission",
    "question_id": 1,
    "ExecuteTime": {
     "end_time": "2023-11-28T10:02:15.962979Z",
     "start_time": "2023-11-28T10:02:15.953124Z"
    }
   },
   "outputs": [
    {
     "data": {
      "text/html": "\n  <div class=\"bk-root\" id=\"89252aed-ad88-4743-8a4e-7947f99c96cc\" data-root-id=\"1354\"></div>\n"
     },
     "metadata": {},
     "output_type": "display_data"
    },
    {
     "data": {
      "application/javascript": "(function(root) {\n  function embed_document(root) {\n  const docs_json = {\"dbe82664-7bdb-430f-86a0-806b7bebc5be\":{\"defs\":[],\"roots\":{\"references\":[{\"attributes\":{\"below\":[{\"id\":\"1363\"}],\"center\":[{\"id\":\"1366\"},{\"id\":\"1370\"}],\"height\":400,\"left\":[{\"id\":\"1367\"}],\"renderers\":[{\"id\":\"1389\"}],\"title\":{\"id\":\"1426\"},\"toolbar\":{\"id\":\"1378\"},\"x_range\":{\"id\":\"1355\"},\"x_scale\":{\"id\":\"1359\"},\"y_range\":{\"id\":\"1357\"},\"y_scale\":{\"id\":\"1361\"}},\"id\":\"1354\",\"subtype\":\"Figure\",\"type\":\"Plot\"},{\"attributes\":{},\"id\":\"1368\",\"type\":\"BasicTicker\"},{\"attributes\":{},\"id\":\"1432\",\"type\":\"BasicTickFormatter\"},{\"attributes\":{\"source\":{\"id\":\"1228\"}},\"id\":\"1390\",\"type\":\"CDSView\"},{\"attributes\":{\"callback\":null,\"renderers\":[{\"id\":\"1389\"}],\"tooltips\":[[\"index\",\"@indices\"],[\"(x, y)\",\"(@x, @y)\"]]},\"id\":\"1391\",\"type\":\"HoverTool\"},{\"attributes\":{\"axis\":{\"id\":\"1363\"},\"coordinates\":null,\"group\":null,\"ticker\":null},\"id\":\"1366\",\"type\":\"Grid\"},{\"attributes\":{},\"id\":\"1371\",\"type\":\"PanTool\"},{\"attributes\":{},\"id\":\"1357\",\"type\":\"DataRange1d\"},{\"attributes\":{},\"id\":\"1376\",\"type\":\"HelpTool\"},{\"attributes\":{},\"id\":\"1374\",\"type\":\"SaveTool\"},{\"attributes\":{},\"id\":\"1364\",\"type\":\"BasicTicker\"},{\"attributes\":{\"overlay\":{\"id\":\"1377\"}},\"id\":\"1373\",\"type\":\"BoxZoomTool\"},{\"attributes\":{\"coordinates\":null,\"group\":null,\"text_color\":\"#5B5B5B\",\"text_font\":\"Calibri Light\",\"text_font_size\":\"1.25em\",\"text_font_style\":\"bold\"},\"id\":\"1426\",\"type\":\"Title\"},{\"attributes\":{\"axis\":{\"id\":\"1367\"},\"coordinates\":null,\"dimension\":1,\"group\":null,\"ticker\":null},\"id\":\"1370\",\"type\":\"Grid\"},{\"attributes\":{},\"id\":\"1297\",\"type\":\"Selection\"},{\"attributes\":{\"bottom_units\":\"screen\",\"coordinates\":null,\"fill_alpha\":0.5,\"fill_color\":\"lightgrey\",\"group\":null,\"left_units\":\"screen\",\"level\":\"overlay\",\"line_alpha\":1.0,\"line_color\":\"black\",\"line_dash\":[4,4],\"line_width\":2,\"right_units\":\"screen\",\"syncable\":false,\"top_units\":\"screen\"},\"id\":\"1377\",\"type\":\"BoxAnnotation\"},{\"attributes\":{},\"id\":\"1355\",\"type\":\"DataRange1d\"},{\"attributes\":{\"tools\":[{\"id\":\"1371\"},{\"id\":\"1372\"},{\"id\":\"1373\"},{\"id\":\"1374\"},{\"id\":\"1375\"},{\"id\":\"1376\"},{\"id\":\"1391\"}]},\"id\":\"1378\",\"type\":\"Toolbar\"},{\"attributes\":{\"fill_alpha\":{\"value\":0.2},\"fill_color\":{\"value\":\"#1f77b4\"},\"hatch_alpha\":{\"value\":0.2},\"line_alpha\":{\"value\":0.2},\"line_color\":{\"value\":\"#1f77b4\"},\"x\":{\"field\":\"x\"},\"y\":{\"field\":\"y\"}},\"id\":\"1388\",\"type\":\"Circle\"},{\"attributes\":{\"fill_alpha\":{\"value\":0.1},\"fill_color\":{\"value\":\"#1f77b4\"},\"hatch_alpha\":{\"value\":0.1},\"line_alpha\":{\"value\":0.1},\"line_color\":{\"value\":\"#1f77b4\"},\"x\":{\"field\":\"x\"},\"y\":{\"field\":\"y\"}},\"id\":\"1387\",\"type\":\"Circle\"},{\"attributes\":{},\"id\":\"1296\",\"type\":\"UnionRenderers\"},{\"attributes\":{\"coordinates\":null,\"data_source\":{\"id\":\"1228\"},\"glyph\":{\"id\":\"1386\"},\"group\":null,\"hover_glyph\":null,\"muted_glyph\":{\"id\":\"1388\"},\"nonselection_glyph\":{\"id\":\"1387\"},\"view\":{\"id\":\"1390\"}},\"id\":\"1389\",\"type\":\"GlyphRenderer\"},{\"attributes\":{\"fill_color\":{\"value\":\"#1f77b4\"},\"line_color\":{\"value\":\"#1f77b4\"},\"x\":{\"field\":\"x\"},\"y\":{\"field\":\"y\"}},\"id\":\"1386\",\"type\":\"Circle\"},{\"attributes\":{},\"id\":\"1372\",\"type\":\"WheelZoomTool\"},{\"attributes\":{},\"id\":\"1430\",\"type\":\"AllLabels\"},{\"attributes\":{\"axis_label_standoff\":10,\"axis_label_text_color\":\"#5B5B5B\",\"axis_label_text_font\":\"Calibri Light\",\"axis_label_text_font_size\":\"1.15em\",\"axis_label_text_font_style\":\"bold\",\"axis_line_alpha\":1,\"axis_line_color\":\"#5B5B5B\",\"coordinates\":null,\"formatter\":{\"id\":\"1432\"},\"group\":null,\"major_label_policy\":{\"id\":\"1433\"},\"major_label_text_color\":\"#5B5B5B\",\"major_label_text_font\":\"Calibri Light\",\"major_label_text_font_size\":\"0.95em\",\"major_label_text_font_style\":\"bold\",\"major_tick_in\":0,\"major_tick_line_alpha\":0.25,\"major_tick_line_color\":\"#5B5B5B\",\"major_tick_out\":3,\"minor_tick_line_alpha\":0.25,\"minor_tick_line_color\":\"#5B5B5B\",\"ticker\":{\"id\":\"1364\"}},\"id\":\"1363\",\"type\":\"LinearAxis\"},{\"attributes\":{},\"id\":\"1433\",\"type\":\"AllLabels\"},{\"attributes\":{},\"id\":\"1359\",\"type\":\"LinearScale\"},{\"attributes\":{\"data\":{\"index\":[0,1,2,3,4,5,6,7,8,9,10,11,12,13,14,15,16,17,18,19,20,21,22,23,24,25,26,27,28,29,30,31,32,33,34,35,36,37,38,39,40,41,42,43,44,45,46,47,48,49,50,51,52,53,54,55,56,57,58,59,60,61,62,63,64,65,66,67,68,69,70,71,72,73,74],\"indices\":[1,2,3,4,5,6,7,8,9,10,11,12,13,14,15,16,17,18,19,20,21,22,23,24,25,26,27,28,29,30,31,32,33,34,35,36,37,38,39,40,41,42,43,44,45,46,47,48,49,50,51,52,53,54,55,56,57,58,59,60,61,62,63,64,65,66,67,68,69,70,71,72,73,74,75],\"x\":[4,5,10,9,13,13,12,15,18,19,22,27,28,24,27,28,30,31,32,36,28,32,35,33,38,41,38,38,32,34,44,44,44,46,47,49,50,53,52,55,54,60,63,86,85,85,78,74,97,98,98,99,99,101,108,110,108,111,115,117,70,77,83,61,69,78,66,58,64,69,66,61,76,72,64],\"y\":[53,63,59,77,49,69,88,75,61,65,74,72,76,58,55,60,52,60,61,72,147,149,153,154,151,150,145,143,143,141,156,149,143,142,149,152,142,144,152,155,124,136,139,132,115,96,94,96,122,116,124,119,128,115,111,111,116,126,117,115,4,12,21,15,15,16,18,13,20,21,23,25,27,31,30]},\"selected\":{\"id\":\"1297\"},\"selection_policy\":{\"id\":\"1296\"}},\"id\":\"1228\",\"type\":\"ColumnDataSource\"},{\"attributes\":{\"axis_label_standoff\":10,\"axis_label_text_color\":\"#5B5B5B\",\"axis_label_text_font\":\"Calibri Light\",\"axis_label_text_font_size\":\"1.15em\",\"axis_label_text_font_style\":\"bold\",\"axis_line_alpha\":1,\"axis_line_color\":\"#5B5B5B\",\"coordinates\":null,\"formatter\":{\"id\":\"1429\"},\"group\":null,\"major_label_policy\":{\"id\":\"1430\"},\"major_label_text_color\":\"#5B5B5B\",\"major_label_text_font\":\"Calibri Light\",\"major_label_text_font_size\":\"0.95em\",\"major_label_text_font_style\":\"bold\",\"major_tick_in\":0,\"major_tick_line_alpha\":0.25,\"major_tick_line_color\":\"#5B5B5B\",\"major_tick_out\":3,\"minor_tick_line_alpha\":0.25,\"minor_tick_line_color\":\"#5B5B5B\",\"ticker\":{\"id\":\"1368\"}},\"id\":\"1367\",\"type\":\"LinearAxis\"},{\"attributes\":{},\"id\":\"1361\",\"type\":\"LinearScale\"},{\"attributes\":{},\"id\":\"1429\",\"type\":\"BasicTickFormatter\"},{\"attributes\":{},\"id\":\"1375\",\"type\":\"ResetTool\"}],\"root_ids\":[\"1354\"]},\"title\":\"Bokeh Application\",\"version\":\"2.4.3\"}};\n  const render_items = [{\"docid\":\"dbe82664-7bdb-430f-86a0-806b7bebc5be\",\"root_ids\":[\"1354\"],\"roots\":{\"1354\":\"89252aed-ad88-4743-8a4e-7947f99c96cc\"}}];\n  root.Bokeh.embed.embed_items_notebook(docs_json, render_items);\n  }\n  if (root.Bokeh !== undefined) {\n    embed_document(root);\n  } else {\n    let attempts = 0;\n    const timer = setInterval(function(root) {\n      if (root.Bokeh !== undefined) {\n        clearInterval(timer);\n        embed_document(root);\n      } else {\n        attempts++;\n        if (attempts > 100) {\n          clearInterval(timer);\n          console.log(\"Bokeh: ERROR: Unable to run BokehJS code because BokehJS library is missing\");\n        }\n      }\n    }, 10, root)\n  }\n})(window);",
      "application/vnd.bokehjs_exec.v0+json": ""
     },
     "metadata": {
      "application/vnd.bokehjs_exec.v0+json": {
       "id": "1354"
      }
     },
     "output_type": "display_data"
    }
   ],
   "source": [
    "\n"
   ]
  },
  {
   "cell_type": "markdown",
   "metadata": {
    "deletable": false,
    "editable": false,
    "function": "preliminary",
    "question_id": 1,
    "run_control": {
     "frozen": true
    }
   },
   "source": [
    "### Légende interactive\n",
    "\n",
    "> Les légendes ajoutées aux figures *Bokeh* peuvent être rendues interactives. La légende fonctionnera comme un bouton qui masque ou affiche un graphique.\n",
    "> \n",
    "> Ce mode est activé en assignant au sous-attribut `click_policy` de l'attribut `legend` de la figure la valeur `'hide'`. \n",
    "\n",
    "* Importer la bibliothèque **NumPy** sous l'alias `np`.\n",
    "\n",
    "\n",
    "* Créer une suite **`x`** de $1000$ valeurs entre $-6\\pi$ et $6\\pi$ à l'aide de la fonction `linspace` de `NumPy`.\n",
    "\n",
    "\n",
    "* Instancier une figure de largeur 600 et hauteur 400.\n",
    "\n",
    "\n",
    "* Tracer les deux fonctions sinus et cosinus à l'aide des fonctions `sin` et `cos` de `NumPy` et de la méthode `line` de la figure.\n",
    "\n",
    "\n",
    "* Activer l'interaction avec la légende de la figure. \n",
    "\n",
    "\n",
    "* Afficher la figure et cliquer sur la légende."
   ]
  },
  {
   "cell_type": "code",
   "execution_count": null,
   "outputs": [],
   "source": [
    "### Insérez votre code ici\n",
    "\n"
   ],
   "metadata": {
    "collapsed": false
   }
  },
  {
   "cell_type": "code",
   "execution_count": 9,
   "metadata": {
    "function": "submission",
    "question_id": 1,
    "ExecuteTime": {
     "end_time": "2023-11-28T10:02:27.177888Z",
     "start_time": "2023-11-28T10:02:27.171198Z"
    }
   },
   "outputs": [
    {
     "data": {
      "text/html": "\n  <div class=\"bk-root\" id=\"f4a20a55-88ac-479e-9896-1a9b9b251f68\" data-root-id=\"1492\"></div>\n"
     },
     "metadata": {},
     "output_type": "display_data"
    },
    {
     "data": {
      "application/javascript": "(function(root) {\n  function embed_document(root) {\n  const docs_json = {\"e5d7fd8a-7b4f-4e28-9ea5-e690adba7a79\":{\"defs\":[],\"roots\":{\"references\":[{\"attributes\":{\"below\":[{\"id\":\"1501\"}],\"center\":[{\"id\":\"1504\"},{\"id\":\"1508\"},{\"id\":\"1540\"}],\"height\":400,\"left\":[{\"id\":\"1505\"}],\"renderers\":[{\"id\":\"1527\"},{\"id\":\"1546\"}],\"title\":{\"id\":\"1529\"},\"toolbar\":{\"id\":\"1516\"},\"x_range\":{\"id\":\"1493\"},\"x_scale\":{\"id\":\"1497\"},\"y_range\":{\"id\":\"1495\"},\"y_scale\":{\"id\":\"1499\"}},\"id\":\"1492\",\"subtype\":\"Figure\",\"type\":\"Plot\"},{\"attributes\":{\"line_alpha\":0.2,\"line_color\":\"blue\",\"x\":{\"field\":\"x\"},\"y\":{\"field\":\"y\"}},\"id\":\"1545\",\"type\":\"Line\"},{\"attributes\":{\"axis_label_standoff\":10,\"axis_label_text_color\":\"#5B5B5B\",\"axis_label_text_font\":\"Calibri Light\",\"axis_label_text_font_size\":\"1.15em\",\"axis_label_text_font_style\":\"bold\",\"axis_line_alpha\":1,\"axis_line_color\":\"#5B5B5B\",\"coordinates\":null,\"formatter\":{\"id\":\"1532\"},\"group\":null,\"major_label_policy\":{\"id\":\"1533\"},\"major_label_text_color\":\"#5B5B5B\",\"major_label_text_font\":\"Calibri Light\",\"major_label_text_font_size\":\"0.95em\",\"major_label_text_font_style\":\"bold\",\"major_tick_in\":0,\"major_tick_line_alpha\":0.25,\"major_tick_line_color\":\"#5B5B5B\",\"major_tick_out\":3,\"minor_tick_line_alpha\":0.25,\"minor_tick_line_color\":\"#5B5B5B\",\"ticker\":{\"id\":\"1506\"}},\"id\":\"1505\",\"type\":\"LinearAxis\"},{\"attributes\":{\"axis\":{\"id\":\"1505\"},\"coordinates\":null,\"dimension\":1,\"group\":null,\"ticker\":null},\"id\":\"1508\",\"type\":\"Grid\"},{\"attributes\":{\"data\":{\"x\":{\"__ndarray__\":\"0iEzf3zZMsCZJfBf088ywF8prUAqxjLAJi1qIYG8MsDtMCcC2LIywLM05OIuqTLAejihw4WfMsBBPF6k3JUywAhAG4UzjDLAzkPYZYqCMsCVR5VG4XgywFxLUic4bzLAIk8PCI9lMsDpUszo5VsywLBWick8UjLAdlpGqpNIMsA9XgOL6j4ywARiwGtBNTLAymV9TJgrMsCRaTot7yEywFht9w1GGDLAH3G07pwOMsDldHHP8wQywKx4LrBK+zHAc3zrkKHxMcA5gKhx+OcxwACEZVJP3jHAx4ciM6bUMcCNi98T/coxwFSPnPRTwTHAG5NZ1aq3McDhlha2Aa4xwKia05ZYpDHAb56Qd6+aMcA2ok1YBpExwPylCjldhzHAw6nHGbR9McCKrYT6CnQxwFCxQdthajHAF7X+u7hgMcDeuLucD1cxwKS8eH1mTTHAa8A1Xr1DMcAyxPI+FDoxwPjHrx9rMDHAv8tsAMImMcCGzynhGB0xwEzT5sFvEzHAE9ejosYJMcDa2mCDHQAxwKHeHWR09jDAZ+LaRMvsMMAu5pclIuMwwPXpVAZ52TDAu+0R58/PMMCC8c7HJsYwwEn1i6h9vDDAD/lIidSyMMDW/AVqK6kwwJ0Aw0qCnzDAZASAK9mVMMAqCD0MMIwwwPEL+uyGgjDAuA+3zd14MMB+E3SuNG8wwEUXMY+LZTDADBvub+JbMMDSHqtQOVIwwJkiaDGQSDDAYCYlEuc+MMAmKuLyPTUwwO0tn9OUKzDAtDFctOshMMB6NRmVQhgwwEE51nWZDjDACD2TVvAEMMCdgaBujvYvwCqJGjA84y/AuJCU8enPL8BFmA6zl7wvwNKfiHRFqS/AYKcCNvOVL8Durnz3oIIvwHu29rhOby/ACL5wevxbL8CWxeo7qkgvwCPNZP1XNS/AsNTevgUiL8A+3FiAsw4vwMvj0kFh+y7AWOtMAw/oLsDm8sbEvNQuwHP6QIZqwS7AAAK7RxiuLsCOCTUJxpouwBsRr8pzhy7AqRgpjCF0LsA2IKNNz2AuwMQnHQ99TS7AUS+X0Co6LsDeNhGS2CYuwGw+i1OGEy7A+UUFFTQALsCGTX/W4ewtwBRV+ZeP2S3AoVxzWT3GLcAuZO0a67ItwLxrZ9yYny3ASnPhnUaMLcDWeltf9HgtwGSC1SCiZS3A8olP4k9SLcB/kcmj/T4twAyZQ2WrKy3AmqC9JlkYLcAnqDfoBgUtwLSvsam08SzAQrcra2LeLMDPvqUsEMsswFzGH+69tyzA6s2Zr2ukLMB41RNxGZEswATdjTLHfSzAkuQH9HRqLMAg7IG1IlcswK3z+3bQQyzAOvt1OH4wLMDIAvD5Kx0swFUKarvZCSzA4hHkfIf2K8BwGV4+NeMrwP0g2P/izyvAiihSwZC8K8AYMMyCPqkrwKY3RkTslSvAMj/ABZqCK8DARjrHR28rwE5OtIj1WyvA21UuSqNIK8BoXagLUTUrwPZkIs3+ISvAg2ycjqwOK8AQdBZQWvsqwJ57kBEI6CrAK4MK07XUKsC4ioSUY8EqwEaS/lURrirA1Jl4F7+aKsBgofLYbIcqwO6obJoadCrAfLDmW8hgKsAJuGAddk0qwJa/2t4jOirAJMdUoNEmKsCxzs5hfxMqwD7WSCMtACrAzN3C5NrsKcBZ5TymiNkpwObstmc2xinAdPQwKeSyKcAB/KrqkZ8pwI4DJaw/jCnAHAufbe14KcCqEhkvm2UpwDcak/BIUinAxCENsvY+KcBSKYdzpCspwN8wATVSGCnAbDh79v8EKcD6P/W3rfEowIdHb3lb3ijAFE/pOgnLKMCiVmP8trcowC9e3b1kpCjAvGVXfxKRKMBKbdFAwH0owNh0SwJuaijAZXzFwxtXKMDygz+FyUMowICLuUZ3MCjADZMzCCUdKMCamq3J0gkowCiiJ4uA9ifAtamhTC7jJ8BCsRsO3M8nwNC4lc+JvCfAXcAPkTepJ8Dqx4lS5ZUnwHjPAxSTgifABtd91UBvJ8CS3veW7lsnwCDmcVicSCfAru3rGUo1J8A79WXb9yEnwMj835ylDifAVgRaXlP7JsDjC9QfAegmwHATTuGu1CbA/hrIolzBJsCLIkJkCq4mwBgqvCW4mibApjE252WHJsA0ObCoE3QmwMBAKmrBYCbATkikK29NJsDcTx7tHDomwGlXmK7KJibA9l4ScHgTJsCEZowxJgAmwBFuBvPT7CXAnnWAtIHZJcAsffp1L8YlwLmEdDfdsiXAR4zu+IqfJcDUk2i6OIwlwGGb4nvmeCXA76JcPZRlJcB8qtb+QVIlwAmyUMDvPiXAl7nKgZ0rJcAkwURDSxglwLLIvgT5BCXAP9A4xqbxJMDM17KHVN4kwFrfLEkCyyTA5+amCrC3JMB17iDMXaQkwAL2mo0LkSTAj/0UT7l9JMAdBY8QZ2okwKoMCdIUVyTANxSDk8JDJMDFG/1UcDAkwFIjdxYeHSTA4Crx18sJJMBtMmuZefYjwPo55Von4yPAiEFfHNXPI8AVSdndgrwjwKJQU58wqSPAMFjNYN6VI8C9X0cijIIjwEtnweM5byPA2G47pedbI8BldrVmlUgjwPN9LyhDNSPAgIWp6fAhI8AOjSOrng4jwJuUnWxM+yLAKJwXLvrnIsC2o5Hvp9QiwEOrC7FVwSLA0LKFcgOuIsBeuv8zsZoiwOvBefVehyLAecnztgx0IsAG0W14umAiwJPY5zloTSLAIeBh+xU6IsCu59u8wyYiwDzvVX5xEyLAyfbPPx8AIsBW/kkBzewhwOQFxMJ62SHAcQ0+hCjGIcD+FLhF1rIhwIwcMgeEnyHAGSSsyDGMIcCnKyaK33ghwDQzoEuNZSHAwToaDTtSIcBPQpTO6D4hwNxJDpCWKyHAalGIUUQYIcD3WAIT8gQhwIRgfNSf8SDAEmj2lU3eIMCfb3BX+8ogwCx36hiptyDAun5k2lakIMBHht6bBJEgwNWNWF2yfSDAYpXSHmBqIMDvnEzgDVcgwH2kxqG7QyDACqxAY2kwIMCXs7okFx0gwCW7NObECSDAZIVdT+XsH8CAlFHSQMYfwJqjRVWcnx/AtLI52Pd4H8DQwS1bU1IfwOrQId6uKx/ABuAVYQoFH8Ag7wnkZd4ewDr+/WbBtx7AVg3y6RyRHsBwHOZseGoewIor2u/TQx7ApjrOci8dHsDAScL1ivYdwNxYtnjmzx3A9meq+0GpHcAQd55+nYIdwCyGkgH5Wx3ARpWGhFQ1HcBipHoHsA4dwHyzbooL6BzAlsJiDWfBHMCy0VaQwpocwMzgShMedBzA5u8+lnlNHMAC/zIZ1SYcwBwOJ5wwABzAOB0bH4zZG8BSLA+i57IbwGw7AyVDjBvAiEr3p55lG8CiWesq+j4bwLxo361VGBvA2HfTMLHxGsDyhsezDMsawA6WuzZopBrAKKWvucN9GsBCtKM8H1cawF7Dl796MBrAeNKLQtYJGsCU4X/FMeMZwK7wc0iNvBnAyP9ny+iVGcDkDlxORG8ZwP4dUNGfSBnAGC1EVPshGcA0PDjXVvsYwE5LLFqy1BjAalog3Q2uGMCEaRRgaYcYwJ54COPEYBjAuof8ZSA6GMDUlvDoexMYwPCl5GvX7BfACrXY7jLGF8AkxMxxjp8XwEDTwPTpeBfAWuK0d0VSF8B08aj6oCsXwJAAnX38BBfAqg+RAFjeFsDGHoWDs7cWwOAteQYPkRbA+jxtiWpqFsAWTGEMxkMWwDBbVY8hHRbATGpJEn32FcBmeT2V2M8VwICIMRg0qRXAnJclm4+CFcC2phke61sVwNC1DaFGNRXA7MQBJKIOFcAG1PWm/ecUwCLj6SlZwRTAPPLdrLSaFMBWAdIvEHQUwHIQxrJrTRTAjB+6NccmFMCmLq64IgAUwMI9ojt+2RPA3EyWvtmyE8D4W4pBNYwTwBJrfsSQZRPALHpyR+w+E8BIiWbKRxgTwGKYWk2j8RLAfqdO0P7KEsCYtkJTWqQSwLLFNta1fRLAztQqWRFXEsDo4x7cbDASwALzEl/ICRLAHgIH4iPjEcA4Eftkf7wRwFQg7+falRHAbi/jajZvEcCIPtftkUgRwKRNy3DtIRHAvly/80j7EMDaa7N2pNQQwPR6p/n/rRDADoqbfFuHEMAqmY//tmAQwESog4ISOhDAXrd3BW4TEMD0jNcQk9kPwCirvxZKjA/AYMmnHAE/D8CU548iuPEOwMgFeChvpA7AACRgLiZXDsA0Qkg03QkOwGxgMDqUvA3AoH4YQEtvDcDUnABGAiINwAy76Eu51AzAQNnQUXCHDMB097hXJzoMwKwVoV3e7AvA4DOJY5WfC8AYUnFpTFILwExwWW8DBQvAgI5Bdbq3CsC4rCl7cWoKwOzKEYEoHQrAIOn5ht/PCcBYB+KMloIJwIwlypJNNQnAxEOymAToCMD4YZqeu5oIwCyAgqRyTQjAZJ5qqikACMCYvFKw4LIHwNDaOraXZQfABPkivE4YB8A4FwvCBcsGwHA188e8fQbAqFPbzXMwBsDYccPTKuMFwBCQq9nhlQXASK6T35hIBcB4zHvlT/sEwLDqY+sGrgTA6AhM8b1gBMAYJzT3dBMEwFBFHP0rxgPAiGMEA+N4A8C4gewImisDwPCf1A5R3gLAKL68FAiRAsBg3KQav0MCwJD6jCB29gHAyBh1Ji2pAcAAN10s5FsBwDBVRTKbDgHAaHMtOFLBAMCgkRU+CXQAwNCv/UPAJgDAEJzLk+6y/7+A2JufXBj/v+AUbKvKff6/UFE8tzjj/b/AjQzDpkj9vzDK3M4Urvy/kAat2oIT/L8AQ33m8Hj7v3B/TfJe3vq/0Lsd/sxD+r9A+O0JO6n5v7A0vhWpDvm/EHGOIRd0+L+ArV4thdn3v/DpLjnzPve/UCb/RGGk9r/AYs9Qzwn2vzCfn1w9b/W/oNtvaKvU9L8AGEB0GTr0v3BUEICHn/O/4JDgi/UE879AzbCXY2ryv7AJgaPRz/G/IEZRrz818b+AgiG7rZrwv/C+8cYbAPC/wPaDpRPL7r+AbyS975Xtv2DoxNTLYOy/QGFl7Kcr678A2gUEhPbpv+BSphtgwei/wMtGMzyM57+gROdKGFfmv2C9h2L0IeW/QDYoetDs478gr8iRrLfiv+AnaamIguG/wKAJwWRN4L9AM1SxgTDev8AkleA5xtu/gBbWD/Jb2b9ACBc/qvHWv8D5V25ih9S/gOuYnRod0r+AurOZpWXPvwCeNfgVkcq/AIG3Voa8xb+AZDm19ufAvwCQdifOJri/AKz0yF37rL8AdPiFPlKTvwBw+IU+UpM/AKz0yF37rD8Aj3Ynzia4PwBkObX258A/AIG3Voa8xT+AnTX4FZHKPwC6s5mlZc8/QOuYnRod0j/A+VduYofUPwAIFz+q8dY/QBbWD/Jb2T/AJJXgOcbbPwAzVLGBMN4/oKAJwWRN4D/gJ2mpiILhPwCvyJGst+I/IDYoetDs4z9gvYdi9CHlP4BE50oYV+Y/oMtGMzyM5z/AUqYbYMHoPwDaBQSE9uk/IGFl7Kcr6z9A6MTUy2DsP4BvJL3vle0/oPaDpRPL7j/gvvHGGwDwP4CCIbutmvA/EEZRrz818T+gCYGj0c/xP0DNsJdjavI/0JDgi/UE8z9gVBCAh5/zP/AXQHQZOvQ/kNtvaKvU9D8gn59cPW/1P7Biz1DPCfY/UCb/RGGk9j/g6S458z73P3CtXi2F2fc/EHGOIRd0+D+gNL4VqQ75PzD47Qk7qfk/0Lsd/sxD+j9gf03yXt76P/BCfebwePs/gAat2oIT/D8gytzOFK78P7CNDMOmSP0/QFE8tzjj/T/gFGyryn3+P3DYm59cGP8/AJzLk+6y/z/Qr/1DwCYAQJiRFT4JdABAYHMtOFLBAEAwVUUymw4BQPg2XSzkWwFAwBh1Ji2pAUCQ+owgdvYBQFjcpBq/QwJAIL68FAiRAkDon9QOUd4CQLiB7AiaKwNAgGMEA+N4A0BIRRz9K8YDQBgnNPd0EwRA4AhM8b1gBECo6mPrBq4EQHjMe+VP+wRAQK6T35hIBUAIkKvZ4ZUFQNhxw9Mq4wVAoFPbzXMwBkBoNfPHvH0GQDAXC8IFywZAAPkivE4YB0DI2jq2l2UHQJC8UrDgsgdAYJ5qqikACEAogIKkck0IQPBhmp67mghAwEOymAToCECIJcqSTTUJQFAH4oyWgglAIOn5ht/PCUDoyhGBKB0KQLCsKXtxagpAeI5Bdbq3CkBIcFlvAwULQBBScWlMUgtA2DOJY5WfC0CoFaFd3uwLQHD3uFcnOgxAONnQUXCHDEAIu+hLudQMQNCcAEYCIg1AmH4YQEtvDUBoYDA6lLwNQDBCSDTdCQ5A+CNgLiZXDkDABXgob6QOQJDnjyK48Q5AWMmnHAE/D0Agq78WSowPQPCM1xCT2Q9AXLd3BW4TEEBAqIOCEjoQQCiZj/+2YBBADIqbfFuHEEDweqf5/60QQNhrs3ak1BBAvFy/80j7EECgTctw7SERQIQ+1+2RSBFAbC/jajZvEUBQIO/n2pURQDQR+2R/vBFAHAIH4iPjEUAA8xJfyAkSQOTjHtxsMBJAzNQqWRFXEkCwxTbWtX0SQJS2QlNapBJAfKdO0P7KEkBgmFpNo/ESQESJZspHGBNAKHpyR+w+E0AQa37EkGUTQPRbikE1jBNA2EyWvtmyE0DAPaI7ftkTQKQurrgiABRAiB+6NccmFEBwEMaya00UQFQB0i8QdBRAOPLdrLSaFEAg4+kpWcEUQATU9ab95xRA6MQBJKIOFUDQtQ2hRjUVQLSmGR7rWxVAmJclm4+CFUB8iDEYNKkVQGR5PZXYzxVASGpJEn32FUAsW1WPIR0WQBRMYQzGQxZA+DxtiWpqFkDcLXkGD5EWQMQehYOztxZAqA+RAFjeFkCMAJ19/AQXQHTxqPqgKxdAWOK0d0VSF0A808D06XgXQCDEzHGOnxdACLXY7jLGF0DspeRr1+wXQNCW8Oh7ExhAuIf8ZSA6GECceAjjxGAYQIBpFGBphxhAaFog3Q2uGEBMSyxastQYQDA8ONdW+xhAGC1EVPshGUD8HVDRn0gZQOAOXE5EbxlAxP9ny+iVGUCs8HNIjbwZQJDhf8Ux4xlAdNKLQtYJGkBcw5e/ejAaQEC0ozwfVxpAJKWvucN9GkAMlrs2aKQaQPCGx7MMyxpA1HfTMLHxGkC8aN+tVRgbQKBZ6yr6PhtAhEr3p55lG0BoOwMlQ4wbQFAsD6LnshtANB0bH4zZG0AYDiecMAAcQAD/MhnVJhxA5O8+lnlNHEDI4EoTHnQcQLDRVpDCmhxAlMJiDWfBHEB4s26KC+gcQGCkegewDh1ARJWGhFQ1HUAohpIB+VsdQAx3nn6dgh1A9Geq+0GpHUDYWLZ45s8dQLxJwvWK9h1ApDrOci8dHkCIK9rv00MeQGwc5mx4ah5AVA3y6RyRHkA4/v1mwbceQBzvCeRl3h5ABOAVYQoFH0Do0CHerisfQMzBLVtTUh9AsLI52Pd4H0CYo0VVnJ8fQHyUUdJAxh9AYIVdT+XsH0AkuzTmxAkgQJazuiQXHSBACKxAY2kwIEB8pMahu0MgQO6cTOANVyBAYJXSHmBqIEDUjVhdsn0gQEaG3psEkSBAuH5k2lakIEAqd+oYqbcgQJ5vcFf7yiBAEGj2lU3eIECCYHzUn/EgQPZYAhPyBCFAaFGIUUQYIUDaSQ6QlishQE5ClM7oPiFAwDoaDTtSIUAyM6BLjWUhQKYrJorfeCFAGCSsyDGMIUCKHDIHhJ8hQP4UuEXWsiFAcA0+hCjGIUDiBcTCetkhQFT+SQHN7CFAyPbPPx8AIkA671V+cRMiQKzn27zDJiJAIOBh+xU6IkCS2Oc5aE0iQATRbXi6YCJAeMnztgx0IkDqwXn1XociQFy6/zOxmiJA0LKFcgOuIkBCqwuxVcEiQLSjke+n1CJAJpwXLvrnIkCalJ1sTPsiQAyNI6ueDiNAfoWp6fAhI0DyfS8oQzUjQGR2tWaVSCNA1m47pedbI0BKZ8HjOW8jQLxfRyKMgiNALljNYN6VI0CiUFOfMKkjQBRJ2d2CvCNAhkFfHNXPI0D4OeVaJ+MjQGwya5l59iNA3irx18sJJEBQI3cWHh0kQMQb/VRwMCRANhSDk8JDJECoDAnSFFckQBwFjxBnaiRAjv0UT7l9JEAA9pqNC5EkQHTuIMxdpCRA5uamCrC3JEBY3yxJAsskQMrXsodU3iRAPtA4xqbxJECwyL4E+QQlQCLBRENLGCVAlrnKgZ0rJUAIslDA7z4lQHqq1v5BUiVA7qJcPZRlJUBgm+J75nglQNKTaLo4jCVARozu+IqfJUC4hHQ33bIlQCp9+nUvxiVAnHWAtIHZJUAQbgbz0+wlQIJmjDEmACZA9F4ScHgTJkBoV5iuyiYmQNpPHu0cOiZATEikK29NJkDAQCpqwWAmQDI5sKgTdCZApDE252WHJkAYKrwluJomQIoiQmQKriZA/BrIolzBJkBuE07hrtQmQOIL1B8B6CZAVARaXlP7JkDG/N+cpQ4nQDr1Zdv3ISdArO3rGUo1J0Ae5nFYnEgnQJLe95buWydABNd91UBvJ0B2zwMUk4InQOrHiVLllSdAXMAPkTepJ0DOuJXPibwnQEKxGw7czydAtKmhTC7jJ0AmoieLgPYnQJiarcnSCShADJMzCCUdKEB+i7lGdzAoQPCDP4XJQyhAZHzFwxtXKEDWdEsCbmooQEht0UDAfShAvGVXfxKRKEAuXt29ZKQoQKBWY/y2tyhAFE/pOgnLKECGR295W94oQPg/9bet8ShAajh79v8EKUDeMAE1UhgpQFAph3OkKylAwiENsvY+KUA2GpPwSFIpQKgSGS+bZSlAGgufbe14KUCOAyWsP4wpQAD8quqRnylAcvQwKeSyKUDm7LZnNsYpQFjlPKaI2SlAyt3C5NrsKUA81kgjLQAqQLDOzmF/EypAIsdUoNEmKkCUv9reIzoqQAi4YB12TSpAeLDmW8hgKkDsqGyaGnQqQGCh8thshypA0Jl4F7+aKkBEkv5VEa4qQLiKhJRjwSpAKIMK07XUKkCce5ARCOgqQBB0FlBa+ypAgGycjqwOK0D0ZCLN/iErQGhdqAtRNStA2FUuSqNIK0BMTrSI9VsrQMBGOsdHbytAMD/ABZqCK0CkN0ZE7JUrQBgwzII+qStAiChSwZC8K0D8INj/4s8rQHAZXj414ytA4BHkfIf2K0BUCmq72QksQMgC8PkrHSxAOPt1OH4wLECs8/t20EMsQCDsgbUiVyxAkOQH9HRqLEAE3Y0yx30sQHTVE3EZkSxA6M2Zr2ukLEBcxh/uvbcsQMy+pSwQyyxAQLcra2LeLEC0r7GptPEsQCSoN+gGBS1AmKC9JlkYLUAMmUNlqystQHyRyaP9Pi1A8IlP4k9SLUBkgtUgomUtQNR6W1/0eC1ASHPhnUaMLUC8a2fcmJ8tQCxk7Rrrsi1AoFxzWT3GLUAUVfmXj9ktQIRNf9bh7C1A+EUFFTQALkBsPotThhMuQNw2EZLYJi5AUC+X0Co6LkDEJx0PfU0uQDQgo03PYC5AqBgpjCF0LkAYEa/Kc4cuQIwJNQnGmi5AAAK7RxiuLkBw+kCGasEuQOTyxsS81C5AWOtMAw/oLkDI49JBYfsuQDzcWICzDi9AsNTevgUiL0AgzWT9VzUvQJTF6juqSC9ACL5wevxbL0B4tva4Tm8vQOyufPeggi9AYKcCNvOVL0DQn4h0RakvQESYDrOXvC9AuJCU8enPL0AoiRowPOMvQJyBoG6O9i9ACD2TVvAEMEBAOdZ1mQ4wQHo1GZVCGDBAtDFctOshMEDsLZ/TlCswQCYq4vI9NTBAXiYlEuc+MECYImgxkEgwQNIeq1A5UjBAChvub+JbMEBEFzGPi2UwQH4TdK40bzBAtg+3zd14MEDwC/rshoIwQCoIPQwwjDBAYgSAK9mVMECcAMNKgp8wQNb8BWorqTBADvlIidSyMEBI9YuofbwwQILxzscmxjBAuu0R58/PMED06VQGedkwQC7mlyUi4zBAZuLaRMvsMECg3h1kdPYwQNraYIMdADFAEtejosYJMUBM0+bBbxMxQIbPKeEYHTFAvstsAMImMUD4x68fazAxQDLE8j4UOjFAasA1Xr1DMUCkvHh9Zk0xQNy4u5wPVzFAFrX+u7hgMUBQsUHbYWoxQIithPoKdDFAwqnHGbR9MUD8pQo5XYcxQDSiTVgGkTFAbp6Qd6+aMUComtOWWKQxQOCWFrYBrjFAGpNZ1aq3MUBUj5z0U8ExQIyL3xP9yjFAxociM6bUMUAAhGVST94xQDiAqHH45zFAcnzrkKHxMUCseC6wSvsxQOR0cc/zBDJAHnG07pwOMkBYbfcNRhgyQJBpOi3vITJAymV9TJgrMkAEYsBrQTUyQDxeA4vqPjJAdlpGqpNIMkCuVonJPFIyQOhSzOjlWzJAIk8PCI9lMkBaS1InOG8yQJRHlUbheDJAzkPYZYqCMkAGQBuFM4wyQEA8XqTclTJAejihw4WfMkCyNOTiLqkyQOwwJwLYsjJAJi1qIYG8MkBeKa1AKsYyQJgl8F/TzzJA0iEzf3zZMkA=\",\"dtype\":\"float64\",\"order\":\"little\",\"shape\":[1000]},\"y\":{\"__ndarray__\":\"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\",\"dtype\":\"float64\",\"order\":\"little\",\"shape\":[1000]}},\"selected\":{\"id\":\"1538\"},\"selection_policy\":{\"id\":\"1537\"}},\"id\":\"1523\",\"type\":\"ColumnDataSource\"},{\"attributes\":{},\"id\":\"1497\",\"type\":\"LinearScale\"},{\"attributes\":{},\"id\":\"1559\",\"type\":\"Selection\"},{\"attributes\":{},\"id\":\"1510\",\"type\":\"WheelZoomTool\"},{\"attributes\":{},\"id\":\"1513\",\"type\":\"ResetTool\"},{\"attributes\":{},\"id\":\"1532\",\"type\":\"BasicTickFormatter\"},{\"attributes\":{\"line_color\":\"blue\",\"x\":{\"field\":\"x\"},\"y\":{\"field\":\"y\"}},\"id\":\"1543\",\"type\":\"Line\"},{\"attributes\":{\"line_alpha\":0.1,\"line_color\":\"blue\",\"x\":{\"field\":\"x\"},\"y\":{\"field\":\"y\"}},\"id\":\"1544\",\"type\":\"Line\"},{\"attributes\":{},\"id\":\"1514\",\"type\":\"HelpTool\"},{\"attributes\":{},\"id\":\"1502\",\"type\":\"BasicTicker\"},{\"attributes\":{},\"id\":\"1533\",\"type\":\"AllLabels\"},{\"attributes\":{\"overlay\":{\"id\":\"1515\"}},\"id\":\"1511\",\"type\":\"BoxZoomTool\"},{\"attributes\":{},\"id\":\"1495\",\"type\":\"DataRange1d\"},{\"attributes\":{},\"id\":\"1509\",\"type\":\"PanTool\"},{\"attributes\":{\"source\":{\"id\":\"1523\"}},\"id\":\"1528\",\"type\":\"CDSView\"},{\"attributes\":{},\"id\":\"1506\",\"type\":\"BasicTicker\"},{\"attributes\":{},\"id\":\"1537\",\"type\":\"UnionRenderers\"},{\"attributes\":{},\"id\":\"1512\",\"type\":\"SaveTool\"},{\"attributes\":{\"coordinates\":null,\"data_source\":{\"id\":\"1542\"},\"glyph\":{\"id\":\"1543\"},\"group\":null,\"hover_glyph\":null,\"muted_glyph\":{\"id\":\"1545\"},\"nonselection_glyph\":{\"id\":\"1544\"},\"view\":{\"id\":\"1547\"}},\"id\":\"1546\",\"type\":\"GlyphRenderer\"},{\"attributes\":{},\"id\":\"1493\",\"type\":\"DataRange1d\"},{\"attributes\":{\"line_color\":\"red\",\"x\":{\"field\":\"x\"},\"y\":{\"field\":\"y\"}},\"id\":\"1524\",\"type\":\"Line\"},{\"attributes\":{},\"id\":\"1538\",\"type\":\"Selection\"},{\"attributes\":{\"coordinates\":null,\"group\":null,\"text_color\":\"#5B5B5B\",\"text_font\":\"Calibri Light\",\"text_font_size\":\"1.25em\",\"text_font_style\":\"bold\"},\"id\":\"1529\",\"type\":\"Title\"},{\"attributes\":{\"coordinates\":null,\"data_source\":{\"id\":\"1523\"},\"glyph\":{\"id\":\"1524\"},\"group\":null,\"hover_glyph\":null,\"muted_glyph\":{\"id\":\"1526\"},\"nonselection_glyph\":{\"id\":\"1525\"},\"view\":{\"id\":\"1528\"}},\"id\":\"1527\",\"type\":\"GlyphRenderer\"},{\"attributes\":{\"background_fill_alpha\":0.25,\"border_line_alpha\":0,\"click_policy\":\"hide\",\"coordinates\":null,\"glyph_width\":15,\"group\":null,\"items\":[{\"id\":\"1541\"},{\"id\":\"1561\"}],\"label_standoff\":8,\"label_text_color\":\"#5B5B5B\",\"label_text_font\":\"Calibri Light\",\"label_text_font_size\":\"0.95em\",\"label_text_font_style\":\"bold\",\"spacing\":8},\"id\":\"1540\",\"type\":\"Legend\"},{\"attributes\":{},\"id\":\"1536\",\"type\":\"AllLabels\"},{\"attributes\":{\"bottom_units\":\"screen\",\"coordinates\":null,\"fill_alpha\":0.5,\"fill_color\":\"lightgrey\",\"group\":null,\"left_units\":\"screen\",\"level\":\"overlay\",\"line_alpha\":1.0,\"line_color\":\"black\",\"line_dash\":[4,4],\"line_width\":2,\"right_units\":\"screen\",\"syncable\":false,\"top_units\":\"screen\"},\"id\":\"1515\",\"type\":\"BoxAnnotation\"},{\"attributes\":{\"data\":{\"x\":{\"__ndarray__\":\"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\",\"dtype\":\"float64\",\"order\":\"little\",\"shape\":[1000]},\"y\":{\"__ndarray__\":\"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\",\"dtype\":\"float64\",\"order\":\"little\",\"shape\":[1000]}},\"selected\":{\"id\":\"1559\"},\"selection_policy\":{\"id\":\"1558\"}},\"id\":\"1542\",\"type\":\"ColumnDataSource\"},{\"attributes\":{\"line_alpha\":0.1,\"line_color\":\"red\",\"x\":{\"field\":\"x\"},\"y\":{\"field\":\"y\"}},\"id\":\"1525\",\"type\":\"Line\"},{\"attributes\":{\"label\":{\"value\":\"cos(x)\"},\"renderers\":[{\"id\":\"1527\"}]},\"id\":\"1541\",\"type\":\"LegendItem\"},{\"attributes\":{\"axis\":{\"id\":\"1501\"},\"coordinates\":null,\"group\":null,\"ticker\":null},\"id\":\"1504\",\"type\":\"Grid\"},{\"attributes\":{\"line_alpha\":0.2,\"line_color\":\"red\",\"x\":{\"field\":\"x\"},\"y\":{\"field\":\"y\"}},\"id\":\"1526\",\"type\":\"Line\"},{\"attributes\":{\"axis_label_standoff\":10,\"axis_label_text_color\":\"#5B5B5B\",\"axis_label_text_font\":\"Calibri Light\",\"axis_label_text_font_size\":\"1.15em\",\"axis_label_text_font_style\":\"bold\",\"axis_line_alpha\":1,\"axis_line_color\":\"#5B5B5B\",\"coordinates\":null,\"formatter\":{\"id\":\"1535\"},\"group\":null,\"major_label_policy\":{\"id\":\"1536\"},\"major_label_text_color\":\"#5B5B5B\",\"major_label_text_font\":\"Calibri Light\",\"major_label_text_font_size\":\"0.95em\",\"major_label_text_font_style\":\"bold\",\"major_tick_in\":0,\"major_tick_line_alpha\":0.25,\"major_tick_line_color\":\"#5B5B5B\",\"major_tick_out\":3,\"minor_tick_line_alpha\":0.25,\"minor_tick_line_color\":\"#5B5B5B\",\"ticker\":{\"id\":\"1502\"}},\"id\":\"1501\",\"type\":\"LinearAxis\"},{\"attributes\":{\"source\":{\"id\":\"1542\"}},\"id\":\"1547\",\"type\":\"CDSView\"},{\"attributes\":{},\"id\":\"1499\",\"type\":\"LinearScale\"},{\"attributes\":{},\"id\":\"1535\",\"type\":\"BasicTickFormatter\"},{\"attributes\":{\"label\":{\"value\":\"sin(x)\"},\"renderers\":[{\"id\":\"1546\"}]},\"id\":\"1561\",\"type\":\"LegendItem\"},{\"attributes\":{},\"id\":\"1558\",\"type\":\"UnionRenderers\"},{\"attributes\":{\"tools\":[{\"id\":\"1509\"},{\"id\":\"1510\"},{\"id\":\"1511\"},{\"id\":\"1512\"},{\"id\":\"1513\"},{\"id\":\"1514\"}]},\"id\":\"1516\",\"type\":\"Toolbar\"}],\"root_ids\":[\"1492\"]},\"title\":\"Bokeh Application\",\"version\":\"2.4.3\"}};\n  const render_items = [{\"docid\":\"e5d7fd8a-7b4f-4e28-9ea5-e690adba7a79\",\"root_ids\":[\"1492\"],\"roots\":{\"1492\":\"f4a20a55-88ac-479e-9896-1a9b9b251f68\"}}];\n  root.Bokeh.embed.embed_items_notebook(docs_json, render_items);\n  }\n  if (root.Bokeh !== undefined) {\n    embed_document(root);\n  } else {\n    let attempts = 0;\n    const timer = setInterval(function(root) {\n      if (root.Bokeh !== undefined) {\n        clearInterval(timer);\n        embed_document(root);\n      } else {\n        attempts++;\n        if (attempts > 100) {\n          clearInterval(timer);\n          console.log(\"Bokeh: ERROR: Unable to run BokehJS code because BokehJS library is missing\");\n        }\n      }\n    }, 10, root)\n  }\n})(window);",
      "application/vnd.bokehjs_exec.v0+json": ""
     },
     "metadata": {
      "application/vnd.bokehjs_exec.v0+json": {
       "id": "1492"
      }
     },
     "output_type": "display_data"
    }
   ],
   "source": []
  },
  {
   "cell_type": "markdown",
   "metadata": {
    "deletable": false,
    "editable": false,
    "function": "preliminary",
    "question_id": 1,
    "run_control": {
     "frozen": true
    }
   },
   "source": [
    "### Interactions inter-figures\n",
    "\n",
    ">Il est parfois utile de lier des figures pour ajouter une interactivité entre elles. Par exemple, il peut être intéressant que lorsqu'une figure est déplacée ou zoomée, les autres le soient également. Ou encore, lorsqu'on sélectionne des points dans une figure, les points correspondants dans les autres figures soient aussi sélectionnés.\n",
    ">\n",
    ">\n",
    ">Il suffit pour cela d'afficher plusieurs figures en utilisant les fonctions `gridplot`, `row` ou `column` vues précedemment **en veillant à ce que les échelles (*i.e.* les paramètres `x_range` et `y_range`) soient communes aux différentes figures**. \n",
    ">\n",
    ">\n",
    "> On rappelle que la configuration des échelles d'une figure se fait grâce aux paramètres `x_range` pour les abscisses et  `y_range` pour les ordonnées lors de l'instanciation d'une figure. \n",
    ">\n",
    ">Pour lier les figures entre elles, il faut donc instancier chaque figure en s'assurant que leurs échelles soient communes.\n",
    "\n",
    "<div class=\"alert alert-success\">\n",
    "<i class='fa fa-exclamation-triangle'></i> &emsp; \n",
    "Si on a déjà créé une figure <b><code style = \"background-color: transparent ; color : inherit\">p</code></b> et que l'on souhaite créer une figure <b><code style = \"background-color: transparent ; color : inherit\">q</code></b> qui soit liée à <b><code style = \"background-color: transparent ; color : inherit\">p</code></b>, les échelles de <b><code style = \"background-color: transparent ; color : inherit\">p</code></b> peuvent être extraites grâce à ses attributs <code style = \"background-color: transparent ; color : inherit\">x_range</code> et <code style = \"background-color: transparent ; color : inherit\">y_range</code>. On peut par exemple instancier <b><code style = \"background-color: transparent ; color : inherit\">q</code></b> avec l'argument <b><code style = \"background-color: transparent ; color : inherit\">x_range = p.x_range</code></b> pour s'assurer que les échelles soient les mêmes.</div>\n",
    "\n",
    "* Exécuter le code suivant.\n",
    "\n",
    "* Déplacer une des figures pour voir l'interactivité entre les trois courbes."
   ]
  },
  {
   "cell_type": "code",
   "execution_count": 10,
   "metadata": {
    "function": "preliminary",
    "question_id": 1,
    "ExecuteTime": {
     "end_time": "2023-11-28T10:02:34.630947Z",
     "start_time": "2023-11-28T10:02:34.620801Z"
    }
   },
   "outputs": [
    {
     "data": {
      "text/html": "\n  <div class=\"bk-root\" id=\"39965770-ecdd-44d4-931a-99dd01dd3117\" data-root-id=\"1791\"></div>\n"
     },
     "metadata": {},
     "output_type": "display_data"
    },
    {
     "data": {
      "application/javascript": "(function(root) {\n  function embed_document(root) {\n  const docs_json = {\"2318d9a7-df8d-4210-894f-fc8f83126b72\":{\"defs\":[],\"roots\":{\"references\":[{\"attributes\":{\"children\":[{\"id\":\"1684\"},{\"id\":\"1721\"},{\"id\":\"1756\"}]},\"id\":\"1791\",\"type\":\"Row\"},{\"attributes\":{\"bottom_units\":\"screen\",\"coordinates\":null,\"fill_alpha\":0.5,\"fill_color\":\"lightgrey\",\"group\":null,\"left_units\":\"screen\",\"level\":\"overlay\",\"line_alpha\":1.0,\"line_color\":\"black\",\"line_dash\":[4,4],\"line_width\":2,\"right_units\":\"screen\",\"syncable\":false,\"top_units\":\"screen\"},\"id\":\"1777\",\"type\":\"BoxAnnotation\"},{\"attributes\":{},\"id\":\"1764\",\"type\":\"BasicTicker\"},{\"attributes\":{\"axis_label_standoff\":10,\"axis_label_text_color\":\"#5B5B5B\",\"axis_label_text_font\":\"Calibri Light\",\"axis_label_text_font_size\":\"1.15em\",\"axis_label_text_font_style\":\"bold\",\"axis_line_alpha\":1,\"axis_line_color\":\"#5B5B5B\",\"coordinates\":null,\"formatter\":{\"id\":\"1868\"},\"group\":null,\"major_label_policy\":{\"id\":\"1869\"},\"major_label_text_color\":\"#5B5B5B\",\"major_label_text_font\":\"Calibri Light\",\"major_label_text_font_size\":\"0.95em\",\"major_label_text_font_style\":\"bold\",\"major_tick_in\":0,\"major_tick_line_alpha\":0.25,\"major_tick_line_color\":\"#5B5B5B\",\"major_tick_out\":3,\"minor_tick_line_alpha\":0.25,\"minor_tick_line_color\":\"#5B5B5B\",\"ticker\":{\"id\":\"1768\"}},\"id\":\"1767\",\"type\":\"LinearAxis\"},{\"attributes\":{},\"id\":\"1687\",\"type\":\"DataRange1d\"},{\"attributes\":{\"below\":[{\"id\":\"1693\"}],\"center\":[{\"id\":\"1696\"},{\"id\":\"1700\"}],\"height\":250,\"left\":[{\"id\":\"1697\"}],\"renderers\":[{\"id\":\"1719\"}],\"title\":{\"id\":\"1849\"},\"toolbar\":{\"id\":\"1708\"},\"width\":250,\"x_range\":{\"id\":\"1685\"},\"x_scale\":{\"id\":\"1689\"},\"y_range\":{\"id\":\"1687\"},\"y_scale\":{\"id\":\"1691\"}},\"id\":\"1684\",\"subtype\":\"Figure\",\"type\":\"Plot\"},{\"attributes\":{\"axis_label_standoff\":10,\"axis_label_text_color\":\"#5B5B5B\",\"axis_label_text_font\":\"Calibri Light\",\"axis_label_text_font_size\":\"1.15em\",\"axis_label_text_font_style\":\"bold\",\"axis_line_alpha\":1,\"axis_line_color\":\"#5B5B5B\",\"coordinates\":null,\"formatter\":{\"id\":\"1871\"},\"group\":null,\"major_label_policy\":{\"id\":\"1872\"},\"major_label_text_color\":\"#5B5B5B\",\"major_label_text_font\":\"Calibri Light\",\"major_label_text_font_size\":\"0.95em\",\"major_label_text_font_style\":\"bold\",\"major_tick_in\":0,\"major_tick_line_alpha\":0.25,\"major_tick_line_color\":\"#5B5B5B\",\"major_tick_out\":3,\"minor_tick_line_alpha\":0.25,\"minor_tick_line_color\":\"#5B5B5B\",\"ticker\":{\"id\":\"1764\"}},\"id\":\"1763\",\"type\":\"LinearAxis\"},{\"attributes\":{\"axis\":{\"id\":\"1763\"},\"coordinates\":null,\"group\":null,\"ticker\":null},\"id\":\"1766\",\"type\":\"Grid\"},{\"attributes\":{},\"id\":\"1689\",\"type\":\"LinearScale\"},{\"attributes\":{\"coordinates\":null,\"group\":null,\"text_color\":\"#5B5B5B\",\"text_font\":\"Calibri Light\",\"text_font_size\":\"1.25em\",\"text_font_style\":\"bold\"},\"id\":\"1849\",\"type\":\"Title\"},{\"attributes\":{\"axis\":{\"id\":\"1767\"},\"coordinates\":null,\"dimension\":1,\"group\":null,\"ticker\":null},\"id\":\"1770\",\"type\":\"Grid\"},{\"attributes\":{},\"id\":\"1768\",\"type\":\"BasicTicker\"},{\"attributes\":{\"coordinates\":null,\"group\":null,\"text_color\":\"#5B5B5B\",\"text_font\":\"Calibri Light\",\"text_font_size\":\"1.25em\",\"text_font_style\":\"bold\"},\"id\":\"1851\",\"type\":\"Title\"},{\"attributes\":{\"fill_alpha\":{\"value\":0.2},\"fill_color\":{\"value\":\"white\"},\"hatch_alpha\":{\"value\":0.2},\"line_alpha\":{\"value\":0.2},\"line_color\":{\"value\":\"#1f77b4\"},\"size\":{\"value\":8},\"x\":{\"field\":\"x\"},\"y\":{\"field\":\"y\"}},\"id\":\"1718\",\"type\":\"Circle\"},{\"attributes\":{},\"id\":\"1694\",\"type\":\"BasicTicker\"},{\"attributes\":{\"axis\":{\"id\":\"1732\"},\"coordinates\":null,\"dimension\":1,\"group\":null,\"ticker\":null},\"id\":\"1735\",\"type\":\"Grid\"},{\"attributes\":{\"below\":[{\"id\":\"1728\"}],\"center\":[{\"id\":\"1731\"},{\"id\":\"1735\"}],\"height\":250,\"left\":[{\"id\":\"1732\"}],\"renderers\":[{\"id\":\"1754\"}],\"title\":{\"id\":\"1851\"},\"toolbar\":{\"id\":\"1743\"},\"width\":250,\"x_range\":{\"id\":\"1685\"},\"x_scale\":{\"id\":\"1724\"},\"y_range\":{\"id\":\"1687\"},\"y_scale\":{\"id\":\"1726\"}},\"id\":\"1721\",\"subtype\":\"Figure\",\"type\":\"Plot\"},{\"attributes\":{},\"id\":\"1733\",\"type\":\"BasicTicker\"},{\"attributes\":{\"coordinates\":null,\"data_source\":{\"id\":\"1715\"},\"glyph\":{\"id\":\"1716\"},\"group\":null,\"hover_glyph\":null,\"muted_glyph\":{\"id\":\"1718\"},\"nonselection_glyph\":{\"id\":\"1717\"},\"view\":{\"id\":\"1720\"}},\"id\":\"1719\",\"type\":\"GlyphRenderer\"},{\"attributes\":{},\"id\":\"1737\",\"type\":\"WheelZoomTool\"},{\"attributes\":{},\"id\":\"1862\",\"type\":\"BasicTickFormatter\"},{\"attributes\":{},\"id\":\"1691\",\"type\":\"LinearScale\"},{\"attributes\":{},\"id\":\"1863\",\"type\":\"AllLabels\"},{\"attributes\":{\"axis\":{\"id\":\"1693\"},\"coordinates\":null,\"group\":null,\"ticker\":null},\"id\":\"1696\",\"type\":\"Grid\"},{\"attributes\":{},\"id\":\"1879\",\"type\":\"UnionRenderers\"},{\"attributes\":{},\"id\":\"1865\",\"type\":\"BasicTickFormatter\"},{\"attributes\":{},\"id\":\"1866\",\"type\":\"AllLabels\"},{\"attributes\":{},\"id\":\"1880\",\"type\":\"Selection\"},{\"attributes\":{},\"id\":\"1868\",\"type\":\"BasicTickFormatter\"},{\"attributes\":{\"fill_alpha\":{\"value\":0.1},\"fill_color\":{\"value\":\"red\"},\"hatch_alpha\":{\"value\":0.1},\"line_alpha\":{\"value\":0.1},\"line_color\":{\"value\":\"red\"},\"size\":{\"value\":6},\"x\":{\"field\":\"x\"},\"y\":{\"field\":\"y\"}},\"id\":\"1752\",\"type\":\"Circle\"},{\"attributes\":{},\"id\":\"1869\",\"type\":\"AllLabels\"},{\"attributes\":{},\"id\":\"1871\",\"type\":\"BasicTickFormatter\"},{\"attributes\":{},\"id\":\"1859\",\"type\":\"BasicTickFormatter\"},{\"attributes\":{},\"id\":\"1724\",\"type\":\"LinearScale\"},{\"attributes\":{\"fill_alpha\":{\"value\":0.1},\"fill_color\":{\"value\":\"white\"},\"hatch_alpha\":{\"value\":0.1},\"line_alpha\":{\"value\":0.1},\"line_color\":{\"value\":\"#1f77b4\"},\"size\":{\"value\":8},\"x\":{\"field\":\"x\"},\"y\":{\"field\":\"y\"}},\"id\":\"1717\",\"type\":\"Circle\"},{\"attributes\":{},\"id\":\"1872\",\"type\":\"AllLabels\"},{\"attributes\":{},\"id\":\"1702\",\"type\":\"WheelZoomTool\"},{\"attributes\":{\"source\":{\"id\":\"1715\"}},\"id\":\"1720\",\"type\":\"CDSView\"},{\"attributes\":{\"tools\":[{\"id\":\"1771\"},{\"id\":\"1772\"},{\"id\":\"1773\"},{\"id\":\"1774\"},{\"id\":\"1775\"},{\"id\":\"1776\"}]},\"id\":\"1778\",\"type\":\"Toolbar\"},{\"attributes\":{\"data\":{\"x\":{\"__ndarray__\":\"AAAAAAAAAACamZmZmZnJP5qZmZmZmdk/NDMzMzMz4z+amZmZmZnpPwAAAAAAAPA/NDMzMzMz8z9nZmZmZmb2P5qZmZmZmfk/zczMzMzM/D8AAAAAAAAAQJqZmZmZmQFANDMzMzMzA0DNzMzMzMwEQGdmZmZmZgZAAAAAAAAACECamZmZmZkJQDQzMzMzMwtAzczMzMzMDEBnZmZmZmYOQAAAAAAAABBAzczMzMzMEECamZmZmZkRQGdmZmZmZhJANDMzMzMzE0A=\",\"dtype\":\"float64\",\"order\":\"little\",\"shape\":[25]},\"y\":{\"__ndarray__\":\"AAAAAAAAAAAuQxzr4jZaPy5DHOviNpo/heLHmLuWwD8uQxzr4jbaPwAAAAAAAPA/heLHmLuWAEBEguLHmLsOQC5DHOviNhpArfpcbcX+JEAAAAAAAAAwQHktIR/0bDdAheLHmLuWQEBG2PD0StlGQESC4seYu05AAAAAAABAVEAuQxzr4jZaQN7XgXNGtGBArfpcbcX+ZEA6Z0RpbxBqQAAAAAAAAHBAblZ9rrZyc0B5LSEf9Gx3QGD+Q/rt+3tAheLHmLuWgEA=\",\"dtype\":\"float64\",\"order\":\"little\",\"shape\":[25]}},\"selected\":{\"id\":\"1880\"},\"selection_policy\":{\"id\":\"1879\"}},\"id\":\"1785\",\"type\":\"ColumnDataSource\"},{\"attributes\":{},\"id\":\"1685\",\"type\":\"DataRange1d\"},{\"attributes\":{},\"id\":\"1705\",\"type\":\"ResetTool\"},{\"attributes\":{},\"id\":\"1741\",\"type\":\"HelpTool\"},{\"attributes\":{},\"id\":\"1873\",\"type\":\"UnionRenderers\"},{\"attributes\":{\"line_color\":\"orange\",\"line_dash\":[10,5],\"x\":{\"field\":\"x\"},\"y\":{\"field\":\"y\"}},\"id\":\"1786\",\"type\":\"Line\"},{\"attributes\":{\"axis_label_standoff\":10,\"axis_label_text_color\":\"#5B5B5B\",\"axis_label_text_font\":\"Calibri Light\",\"axis_label_text_font_size\":\"1.15em\",\"axis_label_text_font_style\":\"bold\",\"axis_line_alpha\":1,\"axis_line_color\":\"#5B5B5B\",\"coordinates\":null,\"formatter\":{\"id\":\"1862\"},\"group\":null,\"major_label_policy\":{\"id\":\"1863\"},\"major_label_text_color\":\"#5B5B5B\",\"major_label_text_font\":\"Calibri Light\",\"major_label_text_font_size\":\"0.95em\",\"major_label_text_font_style\":\"bold\",\"major_tick_in\":0,\"major_tick_line_alpha\":0.25,\"major_tick_line_color\":\"#5B5B5B\",\"major_tick_out\":3,\"minor_tick_line_alpha\":0.25,\"minor_tick_line_color\":\"#5B5B5B\",\"ticker\":{\"id\":\"1733\"}},\"id\":\"1732\",\"type\":\"LinearAxis\"},{\"attributes\":{},\"id\":\"1874\",\"type\":\"Selection\"},{\"attributes\":{\"source\":{\"id\":\"1750\"}},\"id\":\"1755\",\"type\":\"CDSView\"},{\"attributes\":{\"fill_alpha\":{\"value\":0.2},\"fill_color\":{\"value\":\"red\"},\"hatch_alpha\":{\"value\":0.2},\"line_alpha\":{\"value\":0.2},\"line_color\":{\"value\":\"red\"},\"size\":{\"value\":6},\"x\":{\"field\":\"x\"},\"y\":{\"field\":\"y\"}},\"id\":\"1753\",\"type\":\"Circle\"},{\"attributes\":{},\"id\":\"1775\",\"type\":\"ResetTool\"},{\"attributes\":{\"coordinates\":null,\"data_source\":{\"id\":\"1750\"},\"glyph\":{\"id\":\"1751\"},\"group\":null,\"hover_glyph\":null,\"muted_glyph\":{\"id\":\"1753\"},\"nonselection_glyph\":{\"id\":\"1752\"},\"view\":{\"id\":\"1755\"}},\"id\":\"1754\",\"type\":\"GlyphRenderer\"},{\"attributes\":{\"axis_label_standoff\":10,\"axis_label_text_color\":\"#5B5B5B\",\"axis_label_text_font\":\"Calibri Light\",\"axis_label_text_font_size\":\"1.15em\",\"axis_label_text_font_style\":\"bold\",\"axis_line_alpha\":1,\"axis_line_color\":\"#5B5B5B\",\"coordinates\":null,\"formatter\":{\"id\":\"1859\"},\"group\":null,\"major_label_policy\":{\"id\":\"1860\"},\"major_label_text_color\":\"#5B5B5B\",\"major_label_text_font\":\"Calibri Light\",\"major_label_text_font_size\":\"0.95em\",\"major_label_text_font_style\":\"bold\",\"major_tick_in\":0,\"major_tick_line_alpha\":0.25,\"major_tick_line_color\":\"#5B5B5B\",\"major_tick_out\":3,\"minor_tick_line_alpha\":0.25,\"minor_tick_line_color\":\"#5B5B5B\",\"ticker\":{\"id\":\"1694\"}},\"id\":\"1693\",\"type\":\"LinearAxis\"},{\"attributes\":{},\"id\":\"1771\",\"type\":\"PanTool\"},{\"attributes\":{},\"id\":\"1857\",\"type\":\"AllLabels\"},{\"attributes\":{\"coordinates\":null,\"data_source\":{\"id\":\"1785\"},\"glyph\":{\"id\":\"1786\"},\"group\":null,\"hover_glyph\":null,\"muted_glyph\":{\"id\":\"1788\"},\"nonselection_glyph\":{\"id\":\"1787\"},\"view\":{\"id\":\"1790\"}},\"id\":\"1789\",\"type\":\"GlyphRenderer\"},{\"attributes\":{},\"id\":\"1774\",\"type\":\"SaveTool\"},{\"attributes\":{\"line_alpha\":0.1,\"line_color\":\"orange\",\"line_dash\":[10,5],\"x\":{\"field\":\"x\"},\"y\":{\"field\":\"y\"}},\"id\":\"1787\",\"type\":\"Line\"},{\"attributes\":{\"overlay\":{\"id\":\"1777\"}},\"id\":\"1773\",\"type\":\"BoxZoomTool\"},{\"attributes\":{},\"id\":\"1736\",\"type\":\"PanTool\"},{\"attributes\":{\"overlay\":{\"id\":\"1742\"}},\"id\":\"1738\",\"type\":\"BoxZoomTool\"},{\"attributes\":{},\"id\":\"1698\",\"type\":\"BasicTicker\"},{\"attributes\":{},\"id\":\"1740\",\"type\":\"ResetTool\"},{\"attributes\":{\"axis\":{\"id\":\"1697\"},\"coordinates\":null,\"dimension\":1,\"group\":null,\"ticker\":null},\"id\":\"1700\",\"type\":\"Grid\"},{\"attributes\":{},\"id\":\"1739\",\"type\":\"SaveTool\"},{\"attributes\":{\"overlay\":{\"id\":\"1707\"}},\"id\":\"1703\",\"type\":\"BoxZoomTool\"},{\"attributes\":{},\"id\":\"1704\",\"type\":\"SaveTool\"},{\"attributes\":{},\"id\":\"1876\",\"type\":\"UnionRenderers\"},{\"attributes\":{\"bottom_units\":\"screen\",\"coordinates\":null,\"fill_alpha\":0.5,\"fill_color\":\"lightgrey\",\"group\":null,\"left_units\":\"screen\",\"level\":\"overlay\",\"line_alpha\":1.0,\"line_color\":\"black\",\"line_dash\":[4,4],\"line_width\":2,\"right_units\":\"screen\",\"syncable\":false,\"top_units\":\"screen\"},\"id\":\"1707\",\"type\":\"BoxAnnotation\"},{\"attributes\":{},\"id\":\"1701\",\"type\":\"PanTool\"},{\"attributes\":{\"line_alpha\":0.2,\"line_color\":\"orange\",\"line_dash\":[10,5],\"x\":{\"field\":\"x\"},\"y\":{\"field\":\"y\"}},\"id\":\"1788\",\"type\":\"Line\"},{\"attributes\":{},\"id\":\"1877\",\"type\":\"Selection\"},{\"attributes\":{\"fill_color\":{\"value\":\"white\"},\"line_color\":{\"value\":\"#1f77b4\"},\"size\":{\"value\":8},\"x\":{\"field\":\"x\"},\"y\":{\"field\":\"y\"}},\"id\":\"1716\",\"type\":\"Circle\"},{\"attributes\":{\"bottom_units\":\"screen\",\"coordinates\":null,\"fill_alpha\":0.5,\"fill_color\":\"lightgrey\",\"group\":null,\"left_units\":\"screen\",\"level\":\"overlay\",\"line_alpha\":1.0,\"line_color\":\"black\",\"line_dash\":[4,4],\"line_width\":2,\"right_units\":\"screen\",\"syncable\":false,\"top_units\":\"screen\"},\"id\":\"1742\",\"type\":\"BoxAnnotation\"},{\"attributes\":{},\"id\":\"1860\",\"type\":\"AllLabels\"},{\"attributes\":{\"axis_label_standoff\":10,\"axis_label_text_color\":\"#5B5B5B\",\"axis_label_text_font\":\"Calibri Light\",\"axis_label_text_font_size\":\"1.15em\",\"axis_label_text_font_style\":\"bold\",\"axis_line_alpha\":1,\"axis_line_color\":\"#5B5B5B\",\"coordinates\":null,\"formatter\":{\"id\":\"1856\"},\"group\":null,\"major_label_policy\":{\"id\":\"1857\"},\"major_label_text_color\":\"#5B5B5B\",\"major_label_text_font\":\"Calibri Light\",\"major_label_text_font_size\":\"0.95em\",\"major_label_text_font_style\":\"bold\",\"major_tick_in\":0,\"major_tick_line_alpha\":0.25,\"major_tick_line_color\":\"#5B5B5B\",\"major_tick_out\":3,\"minor_tick_line_alpha\":0.25,\"minor_tick_line_color\":\"#5B5B5B\",\"ticker\":{\"id\":\"1698\"}},\"id\":\"1697\",\"type\":\"LinearAxis\"},{\"attributes\":{\"coordinates\":null,\"group\":null,\"text_color\":\"#5B5B5B\",\"text_font\":\"Calibri Light\",\"text_font_size\":\"1.25em\",\"text_font_style\":\"bold\"},\"id\":\"1853\",\"type\":\"Title\"},{\"attributes\":{},\"id\":\"1772\",\"type\":\"WheelZoomTool\"},{\"attributes\":{\"data\":{\"x\":{\"__ndarray__\":\"AAAAAAAAAACamZmZmZnJP5qZmZmZmdk/NDMzMzMz4z+amZmZmZnpPwAAAAAAAPA/NDMzMzMz8z9nZmZmZmb2P5qZmZmZmfk/zczMzMzM/D8AAAAAAAAAQJqZmZmZmQFANDMzMzMzA0DNzMzMzMwEQGdmZmZmZgZAAAAAAAAACECamZmZmZkJQDQzMzMzMwtAzczMzMzMDEBnZmZmZmYOQAAAAAAAABBAzczMzMzMEECamZmZmZkRQGdmZmZmZhJANDMzMzMzE0A=\",\"dtype\":\"float64\",\"order\":\"little\",\"shape\":[25]},\"y\":{\"__ndarray__\":\"AAAAAAAAAABORrjaX1GSP7iQM+TG57k/2RSUzsHY0T9ORrjaX1HiPwAAAAAAAPA/LPzqvDI9+T/Cg5AEho0CQLiQM+TG5wlAvOqc/D1jEUDNO39mnqAWQGynr1ostxxA2RSUzsHYIUBTxx9o48wlQHCG2S7XPCpAQFZjRUotL0BORrjaX1EyQBi/qUvKUDVAXvKcygGXOECqxsz1EyY8QAAAAAAAAEBAPRZj6FsTQkAlO4OAEE5EQEXO4twKsUZALPzqvDI9SUA=\",\"dtype\":\"float64\",\"order\":\"little\",\"shape\":[25]}},\"selected\":{\"id\":\"1874\"},\"selection_policy\":{\"id\":\"1873\"}},\"id\":\"1715\",\"type\":\"ColumnDataSource\"},{\"attributes\":{},\"id\":\"1776\",\"type\":\"HelpTool\"},{\"attributes\":{\"source\":{\"id\":\"1785\"}},\"id\":\"1790\",\"type\":\"CDSView\"},{\"attributes\":{\"tools\":[{\"id\":\"1701\"},{\"id\":\"1702\"},{\"id\":\"1703\"},{\"id\":\"1704\"},{\"id\":\"1705\"},{\"id\":\"1706\"}]},\"id\":\"1708\",\"type\":\"Toolbar\"},{\"attributes\":{},\"id\":\"1706\",\"type\":\"HelpTool\"},{\"attributes\":{\"tools\":[{\"id\":\"1736\"},{\"id\":\"1737\"},{\"id\":\"1738\"},{\"id\":\"1739\"},{\"id\":\"1740\"},{\"id\":\"1741\"}]},\"id\":\"1743\",\"type\":\"Toolbar\"},{\"attributes\":{},\"id\":\"1729\",\"type\":\"BasicTicker\"},{\"attributes\":{\"below\":[{\"id\":\"1763\"}],\"center\":[{\"id\":\"1766\"},{\"id\":\"1770\"}],\"height\":250,\"left\":[{\"id\":\"1767\"}],\"renderers\":[{\"id\":\"1789\"}],\"title\":{\"id\":\"1853\"},\"toolbar\":{\"id\":\"1778\"},\"width\":250,\"x_range\":{\"id\":\"1685\"},\"x_scale\":{\"id\":\"1759\"},\"y_range\":{\"id\":\"1687\"},\"y_scale\":{\"id\":\"1761\"}},\"id\":\"1756\",\"subtype\":\"Figure\",\"type\":\"Plot\"},{\"attributes\":{\"axis\":{\"id\":\"1728\"},\"coordinates\":null,\"group\":null,\"ticker\":null},\"id\":\"1731\",\"type\":\"Grid\"},{\"attributes\":{\"axis_label_standoff\":10,\"axis_label_text_color\":\"#5B5B5B\",\"axis_label_text_font\":\"Calibri Light\",\"axis_label_text_font_size\":\"1.15em\",\"axis_label_text_font_style\":\"bold\",\"axis_line_alpha\":1,\"axis_line_color\":\"#5B5B5B\",\"coordinates\":null,\"formatter\":{\"id\":\"1865\"},\"group\":null,\"major_label_policy\":{\"id\":\"1866\"},\"major_label_text_color\":\"#5B5B5B\",\"major_label_text_font\":\"Calibri Light\",\"major_label_text_font_size\":\"0.95em\",\"major_label_text_font_style\":\"bold\",\"major_tick_in\":0,\"major_tick_line_alpha\":0.25,\"major_tick_line_color\":\"#5B5B5B\",\"major_tick_out\":3,\"minor_tick_line_alpha\":0.25,\"minor_tick_line_color\":\"#5B5B5B\",\"ticker\":{\"id\":\"1729\"}},\"id\":\"1728\",\"type\":\"LinearAxis\"},{\"attributes\":{},\"id\":\"1726\",\"type\":\"LinearScale\"},{\"attributes\":{},\"id\":\"1759\",\"type\":\"LinearScale\"},{\"attributes\":{},\"id\":\"1856\",\"type\":\"BasicTickFormatter\"},{\"attributes\":{\"data\":{\"x\":{\"__ndarray__\":\"AAAAAAAAAACamZmZmZnJP5qZmZmZmdk/NDMzMzMz4z+amZmZmZnpPwAAAAAAAPA/NDMzMzMz8z9nZmZmZmb2P5qZmZmZmfk/zczMzMzM/D8AAAAAAAAAQJqZmZmZmQFANDMzMzMzA0DNzMzMzMwEQGdmZmZmZgZAAAAAAAAACECamZmZmZkJQDQzMzMzMwtAzczMzMzMDEBnZmZmZmYOQAAAAAAAABBAzczMzMzMEECamZmZmZkRQGdmZmZmZhJANDMzMzMzE0A=\",\"dtype\":\"float64\",\"order\":\"little\",\"shape\":[25]},\"y\":{\"__ndarray__\":\"AAAAAAAAAAD9qfHSTWKAP/2p8dJNYrA/3c73U+Olyz/9qfHSTWLgPwAAAAAAAPA/3c73U+Ol+z/CyqFFtvMFQP2p8dJNYhBAiBbZzvdTF0AAAAAAAAAgQLSd76fGSyVA3c73U+OlK0D6fmq8dJMxQMLKoUW28zVAAAAAAAAAO0D9qfHSTWJAQPX91HjppkNAiBbZzvdTR0BYDi2ynW9LQAAAAAAAAFBAE4PAyqGFUkC0ne+nxktVQDHdJAaBVVhA3c73U+OlW0A=\",\"dtype\":\"float64\",\"order\":\"little\",\"shape\":[25]}},\"selected\":{\"id\":\"1877\"},\"selection_policy\":{\"id\":\"1876\"}},\"id\":\"1750\",\"type\":\"ColumnDataSource\"},{\"attributes\":{\"fill_color\":{\"value\":\"red\"},\"line_color\":{\"value\":\"red\"},\"size\":{\"value\":6},\"x\":{\"field\":\"x\"},\"y\":{\"field\":\"y\"}},\"id\":\"1751\",\"type\":\"Circle\"},{\"attributes\":{},\"id\":\"1761\",\"type\":\"LinearScale\"}],\"root_ids\":[\"1791\"]},\"title\":\"Bokeh Application\",\"version\":\"2.4.3\"}};\n  const render_items = [{\"docid\":\"2318d9a7-df8d-4210-894f-fc8f83126b72\",\"root_ids\":[\"1791\"],\"roots\":{\"1791\":\"39965770-ecdd-44d4-931a-99dd01dd3117\"}}];\n  root.Bokeh.embed.embed_items_notebook(docs_json, render_items);\n  }\n  if (root.Bokeh !== undefined) {\n    embed_document(root);\n  } else {\n    let attempts = 0;\n    const timer = setInterval(function(root) {\n      if (root.Bokeh !== undefined) {\n        clearInterval(timer);\n        embed_document(root);\n      } else {\n        attempts++;\n        if (attempts > 100) {\n          clearInterval(timer);\n          console.log(\"Bokeh: ERROR: Unable to run BokehJS code because BokehJS library is missing\");\n        }\n      }\n    }, 10, root)\n  }\n})(window);",
      "application/vnd.bokehjs_exec.v0+json": ""
     },
     "metadata": {
      "application/vnd.bokehjs_exec.v0+json": {
       "id": "1791"
      }
     },
     "output_type": "display_data"
    }
   ],
   "source": [
    "# Importation de la fonction row\n",
    "\n",
    "from bokeh.layouts import row\n",
    "\n",
    "# Abscisses des 3 nuages\n",
    "\n",
    "x = np.arange(0,5,0.2) \n",
    "\n",
    "# Ordonnées des 3 nuages\n",
    "\n",
    "y1 = x**2.5\n",
    "y2 = x**3\n",
    "y3 = x**4\n",
    "\n",
    "# Instanciation de la première figure et de son nuage\n",
    "\n",
    "p1 = figure(width=250, plot_height=250)\n",
    "\n",
    "p1.circle(x, y1,\n",
    "          fill_color = \"white\",\n",
    "          size = 8)\n",
    "\n",
    "# Instanciation de la seconde figure et de son nuage\n",
    "\n",
    "p2 = figure(x_range = p1.x_range, y_range = p1.y_range,   # les étendues de p2 seront les mêmes que celles de p1\n",
    "            plot_width = 250, plot_height = 250)          # ceci va lier les deux figures\n",
    "\n",
    "p2.circle(x, y2,\n",
    "          fill_color = \"red\",\n",
    "          line_color = \"red\",\n",
    "          size = 6)\n",
    "\n",
    "# Instanciation de la troisième figure et de son nuage\n",
    "\n",
    "p3 = figure(x_range = p1.x_range, y_range = p1.y_range,width = 250, plot_height = 250)\n",
    "                                                                                      \n",
    "p3.line(x, y3,\n",
    "        line_color = \"orange\",\n",
    "        line_dash = \"10 5\")      # tracé en tirets: longueur de tiret 10 et espace entre chaque tirets de 5                  \n",
    "\n",
    "# Affichage des trois figures sur la même ligne\n",
    "\n",
    "p = row(p1, p2, p3)\n",
    "\n",
    "show(p)"
   ]
  },
  {
   "cell_type": "markdown",
   "metadata": {
    "deletable": false,
    "editable": false,
    "run_control": {
     "frozen": true
    }
   },
   "source": [
    "> Nous allons voir ici comment synchroniser les figures sur un outil de sélection de portion du graphe.\n",
    ">\n",
    ">\n",
    "> Nous allons utiliser les outils `'box_select'` pour sélectionner les points qui nous intéressent avec une boîte et `'lasso_select'` pour sélectionner les points qui nous intéressent en dessinant la zone que l'on souhaite étudier.\n",
    "\n",
    "* Importer la fonction `row` depuis le sous-module `bokeh.layouts`.\n",
    "\n",
    "\n",
    "* Créer une suite **`x`** de valeurs allant de $1$ à $6$ avec un pas de $0.2$.\n",
    "\n",
    "\n",
    "* Créer un dictionnaire **`data`** ayant pour clés: \n",
    "    * `'x' : x` \n",
    "    * `'y1' : x**3`\n",
    "    * `'y2' : 1/x`\n",
    "    * `'y3' : x**5`\n",
    "\n",
    "\n",
    "* Instancier un objet de type `ColumnDataSource` à partir de `data`.\n",
    "\n",
    "\n",
    "* Instancier 3 figures de longueur 300 et hauteur 300 disposant des outils `'box_select'` et `'lasso_select`.\n",
    "\n",
    "\n",
    "* Instancier sur chacune des figures un nuage de points de coordonnées $(x, y_i), i = 1, 2, 3$ à partir des données contenues dans `data`. Il ne faut pas oublier de préciser le paramètre `source` dans l'instanciation des nuages.\n",
    "\n",
    "\n",
    "* Afficher les $3$ figures précédentes à l'aide de `row`.\n",
    "\n",
    "\n",
    "* Sélectionner des points pour voir l'interactivité entre les trois courbes."
   ]
  },
  {
   "cell_type": "code",
   "execution_count": null,
   "outputs": [],
   "source": [
    "## Insérez votre code ici:\n",
    "\n"
   ],
   "metadata": {
    "collapsed": false
   }
  },
  {
   "cell_type": "code",
   "execution_count": 12,
   "metadata": {
    "function": "solution",
    "ExecuteTime": {
     "end_time": "2023-11-28T10:02:58.605636Z",
     "start_time": "2023-11-28T10:02:58.533801Z"
    }
   },
   "outputs": [
    {
     "data": {
      "text/html": "\n  <div class=\"bk-root\" id=\"dae111e7-7db3-4461-84fc-565eec7e0e21\" data-root-id=\"2508\"></div>\n"
     },
     "metadata": {},
     "output_type": "display_data"
    },
    {
     "data": {
      "application/javascript": "(function(root) {\n  function embed_document(root) {\n  const docs_json = {\"deeb059d-a1a9-4064-afb8-0b91e2673392\":{\"defs\":[],\"roots\":{\"references\":[{\"attributes\":{\"children\":[{\"id\":\"2418\"},{\"id\":\"2442\"},{\"id\":\"2466\"}]},\"id\":\"2508\",\"type\":\"Row\"},{\"attributes\":{},\"id\":\"2449\",\"type\":\"LinearScale\"},{\"attributes\":{\"tools\":[{\"id\":\"2483\"},{\"id\":\"2484\"}]},\"id\":\"2487\",\"type\":\"Toolbar\"},{\"attributes\":{\"coordinates\":null,\"data_source\":{\"id\":\"2417\"},\"glyph\":{\"id\":\"2503\"},\"group\":null,\"hover_glyph\":null,\"muted_glyph\":{\"id\":\"2505\"},\"nonselection_glyph\":{\"id\":\"2504\"},\"view\":{\"id\":\"2507\"}},\"id\":\"2506\",\"type\":\"GlyphRenderer\"},{\"attributes\":{\"overlay\":{\"id\":\"2437\"}},\"id\":\"2435\",\"type\":\"BoxSelectTool\"},{\"attributes\":{\"overlay\":{\"id\":\"2438\"}},\"id\":\"2436\",\"type\":\"LassoSelectTool\"},{\"attributes\":{\"axis\":{\"id\":\"2431\"},\"coordinates\":null,\"dimension\":1,\"group\":null,\"ticker\":null},\"id\":\"2434\",\"type\":\"Grid\"},{\"attributes\":{},\"id\":\"2443\",\"type\":\"DataRange1d\"},{\"attributes\":{},\"id\":\"2432\",\"type\":\"BasicTicker\"},{\"attributes\":{},\"id\":\"2445\",\"type\":\"DataRange1d\"},{\"attributes\":{\"axis\":{\"id\":\"2427\"},\"coordinates\":null,\"group\":null,\"ticker\":null},\"id\":\"2430\",\"type\":\"Grid\"},{\"attributes\":{},\"id\":\"2428\",\"type\":\"BasicTicker\"},{\"attributes\":{},\"id\":\"2423\",\"type\":\"LinearScale\"},{\"attributes\":{\"axis\":{\"id\":\"2455\"},\"coordinates\":null,\"dimension\":1,\"group\":null,\"ticker\":null},\"id\":\"2458\",\"type\":\"Grid\"},{\"attributes\":{\"fill_alpha\":{\"value\":0.1},\"fill_color\":{\"value\":\"red\"},\"hatch_alpha\":{\"value\":0.1},\"hatch_color\":{\"value\":\"red\"},\"line_alpha\":{\"value\":0.1},\"line_color\":{\"value\":\"red\"},\"x\":{\"field\":\"x\"},\"y\":{\"field\":\"y2\"}},\"id\":\"2498\",\"type\":\"Circle\"},{\"attributes\":{\"coordinates\":null,\"fill_alpha\":0.5,\"fill_color\":\"lightgrey\",\"group\":null,\"level\":\"overlay\",\"line_alpha\":1.0,\"line_color\":\"black\",\"line_dash\":[4,4],\"line_width\":2,\"syncable\":false,\"xs_units\":\"screen\",\"ys_units\":\"screen\"},\"id\":\"2462\",\"type\":\"PolyAnnotation\"},{\"attributes\":{\"tools\":[{\"id\":\"2435\"},{\"id\":\"2436\"}]},\"id\":\"2439\",\"type\":\"Toolbar\"},{\"attributes\":{\"overlay\":{\"id\":\"2461\"}},\"id\":\"2459\",\"type\":\"BoxSelectTool\"},{\"attributes\":{\"coordinates\":null,\"group\":null,\"text_color\":\"#5B5B5B\",\"text_font\":\"Calibri Light\",\"text_font_size\":\"1.25em\",\"text_font_style\":\"bold\"},\"id\":\"2635\",\"type\":\"Title\"},{\"attributes\":{\"overlay\":{\"id\":\"2462\"}},\"id\":\"2460\",\"type\":\"LassoSelectTool\"},{\"attributes\":{},\"id\":\"2645\",\"type\":\"AllLabels\"},{\"attributes\":{\"coordinates\":null,\"fill_alpha\":0.5,\"fill_color\":\"lightgrey\",\"group\":null,\"level\":\"overlay\",\"line_alpha\":1.0,\"line_color\":\"black\",\"line_dash\":[4,4],\"line_width\":2,\"syncable\":false,\"xs_units\":\"screen\",\"ys_units\":\"screen\"},\"id\":\"2486\",\"type\":\"PolyAnnotation\"},{\"attributes\":{\"axis_label_standoff\":10,\"axis_label_text_color\":\"#5B5B5B\",\"axis_label_text_font\":\"Calibri Light\",\"axis_label_text_font_size\":\"1.15em\",\"axis_label_text_font_style\":\"bold\",\"axis_line_alpha\":1,\"axis_line_color\":\"#5B5B5B\",\"coordinates\":null,\"formatter\":{\"id\":\"2638\"},\"group\":null,\"major_label_policy\":{\"id\":\"2639\"},\"major_label_text_color\":\"#5B5B5B\",\"major_label_text_font\":\"Calibri Light\",\"major_label_text_font_size\":\"0.95em\",\"major_label_text_font_style\":\"bold\",\"major_tick_in\":0,\"major_tick_line_alpha\":0.25,\"major_tick_line_color\":\"#5B5B5B\",\"major_tick_out\":3,\"minor_tick_line_alpha\":0.25,\"minor_tick_line_color\":\"#5B5B5B\",\"ticker\":{\"id\":\"2432\"}},\"id\":\"2431\",\"type\":\"LinearAxis\"},{\"attributes\":{},\"id\":\"2480\",\"type\":\"BasicTicker\"},{\"attributes\":{\"below\":[{\"id\":\"2451\"}],\"center\":[{\"id\":\"2454\"},{\"id\":\"2458\"}],\"height\":300,\"left\":[{\"id\":\"2455\"}],\"renderers\":[{\"id\":\"2500\"}],\"title\":{\"id\":\"2633\"},\"toolbar\":{\"id\":\"2463\"},\"width\":300,\"x_range\":{\"id\":\"2443\"},\"x_scale\":{\"id\":\"2447\"},\"y_range\":{\"id\":\"2445\"},\"y_scale\":{\"id\":\"2449\"}},\"id\":\"2442\",\"subtype\":\"Figure\",\"type\":\"Plot\"},{\"attributes\":{},\"id\":\"2644\",\"type\":\"BasicTickFormatter\"},{\"attributes\":{},\"id\":\"2419\",\"type\":\"DataRange1d\"},{\"attributes\":{},\"id\":\"2647\",\"type\":\"BasicTickFormatter\"},{\"attributes\":{},\"id\":\"2476\",\"type\":\"BasicTicker\"},{\"attributes\":{\"fill_color\":{\"value\":\"red\"},\"hatch_color\":{\"value\":\"red\"},\"line_color\":{\"value\":\"red\"},\"x\":{\"field\":\"x\"},\"y\":{\"field\":\"y2\"}},\"id\":\"2497\",\"type\":\"Circle\"},{\"attributes\":{},\"id\":\"2648\",\"type\":\"AllLabels\"},{\"attributes\":{\"axis_label_standoff\":10,\"axis_label_text_color\":\"#5B5B5B\",\"axis_label_text_font\":\"Calibri Light\",\"axis_label_text_font_size\":\"1.15em\",\"axis_label_text_font_style\":\"bold\",\"axis_line_alpha\":1,\"axis_line_color\":\"#5B5B5B\",\"coordinates\":null,\"formatter\":{\"id\":\"2647\"},\"group\":null,\"major_label_policy\":{\"id\":\"2648\"},\"major_label_text_color\":\"#5B5B5B\",\"major_label_text_font\":\"Calibri Light\",\"major_label_text_font_size\":\"0.95em\",\"major_label_text_font_style\":\"bold\",\"major_tick_in\":0,\"major_tick_line_alpha\":0.25,\"major_tick_line_color\":\"#5B5B5B\",\"major_tick_out\":3,\"minor_tick_line_alpha\":0.25,\"minor_tick_line_color\":\"#5B5B5B\",\"ticker\":{\"id\":\"2452\"}},\"id\":\"2451\",\"type\":\"LinearAxis\"},{\"attributes\":{},\"id\":\"2456\",\"type\":\"BasicTicker\"},{\"attributes\":{},\"id\":\"2467\",\"type\":\"DataRange1d\"},{\"attributes\":{\"tools\":[{\"id\":\"2459\"},{\"id\":\"2460\"}]},\"id\":\"2463\",\"type\":\"Toolbar\"},{\"attributes\":{\"axis_label_standoff\":10,\"axis_label_text_color\":\"#5B5B5B\",\"axis_label_text_font\":\"Calibri Light\",\"axis_label_text_font_size\":\"1.15em\",\"axis_label_text_font_style\":\"bold\",\"axis_line_alpha\":1,\"axis_line_color\":\"#5B5B5B\",\"coordinates\":null,\"formatter\":{\"id\":\"2644\"},\"group\":null,\"major_label_policy\":{\"id\":\"2645\"},\"major_label_text_color\":\"#5B5B5B\",\"major_label_text_font\":\"Calibri Light\",\"major_label_text_font_size\":\"0.95em\",\"major_label_text_font_style\":\"bold\",\"major_tick_in\":0,\"major_tick_line_alpha\":0.25,\"major_tick_line_color\":\"#5B5B5B\",\"major_tick_out\":3,\"minor_tick_line_alpha\":0.25,\"minor_tick_line_color\":\"#5B5B5B\",\"ticker\":{\"id\":\"2456\"}},\"id\":\"2455\",\"type\":\"LinearAxis\"},{\"attributes\":{\"below\":[{\"id\":\"2475\"}],\"center\":[{\"id\":\"2478\"},{\"id\":\"2482\"}],\"height\":300,\"left\":[{\"id\":\"2479\"}],\"renderers\":[{\"id\":\"2506\"}],\"title\":{\"id\":\"2635\"},\"toolbar\":{\"id\":\"2487\"},\"width\":300,\"x_range\":{\"id\":\"2467\"},\"x_scale\":{\"id\":\"2471\"},\"y_range\":{\"id\":\"2469\"},\"y_scale\":{\"id\":\"2473\"}},\"id\":\"2466\",\"subtype\":\"Figure\",\"type\":\"Plot\"},{\"attributes\":{\"data\":{\"x\":{\"__ndarray__\":\"AAAAAAAA8D8zMzMzMzPzP2ZmZmZmZvY/mZmZmZmZ+T/MzMzMzMz8P/////////8/mZmZmZmZAUAyMzMzMzMDQMzMzMzMzARAZmZmZmZmBkD///////8HQJiZmZmZmQlAMjMzMzMzC0DMzMzMzMwMQGVmZmZmZg5A/v//////D0DMzMzMzMwQQJmZmZmZmRFAZmZmZmZmEkAyMzMzMzMTQP///////xNAzMzMzMzMFECYmZmZmZkVQGVmZmZmZhZAMjMzMzMzF0A=\",\"dtype\":\"float64\",\"order\":\"little\",\"shape\":[25]},\"y1\":{\"__ndarray__\":\"AAAAAAAA8D/YzvdT46X7P7/KoUW28wVA+6nx0k1iEECFFtnO91MXQP3//////x9AsJ3vp8ZLJUDUzvdT46UrQPh+arx0kzFAv8qhRbbzNUD9//////86QPmp8dJNYkBA8f3UeOmmQ0CFFtnO91NHQFIOLbKdb0tA+v//////T0AQg8DKoYVSQLCd76fGS1VALt0kBoFVWEDUzvdT46VbQPv/////P19A+H5qvHSTYUD+KocW2a5jQLzKoUW282VA2SQGgZVjaEA=\",\"dtype\":\"float64\",\"order\":\"little\",\"shape\":[25]},\"y2\":{\"__ndarray__\":\"AAAAAAAA8D+rqqqqqqrqP7dt27Zt2+Y/AAAAAAAA5D9yHMdxHMfhPwEAAAAAAOA/GF100UUX3T+sqqqqqqraP9qJndiJndg/t23btm3b1j9WVVVVVVXVPwEAAAAAANQ/1NLS0tLS0j9yHMdxHMfRP3oN5TWU19A/AQAAAAAA0D+g53me53nOPxhddNFFF80/vulNb3rTyz+sqqqqqqrKP5uZmZmZmck/2omd2ImdyD9EewntJbTHP7ht27Zt28Y/fRphuacRxj8=\",\"dtype\":\"float64\",\"order\":\"little\",\"shape\":[25]},\"y3\":{\"__ndarray__\":\"AAAAAAAA8D+b3O9QFOgDQPgnuFhRgxVA7mjjiLX4JEBmrtNIS+UyQPv//////z9AZRg+IqbESUCW3O9QFOhTQLqy0qQUtF1A+Ce4WFGDZUD6/////19uQOpo44i1+HRA8O6P96plfEBmrtNIS+WCQDyVmj3QwohA9v//////j0DuzTY3pmuUQGUYPiKmxJlApxjnb0IXoECW3O9QFOijQPr/////aahAurLSpBS0rUCG7iB2pu+xQPMnuFhRg7VAkfp5U5GjuUA=\",\"dtype\":\"float64\",\"order\":\"little\",\"shape\":[25]}},\"selected\":{\"id\":\"2656\"},\"selection_policy\":{\"id\":\"2655\"}},\"id\":\"2417\",\"type\":\"ColumnDataSource\"},{\"attributes\":{\"fill_color\":{\"value\":\"green\"},\"hatch_color\":{\"value\":\"green\"},\"line_color\":{\"value\":\"green\"},\"x\":{\"field\":\"x\"},\"y\":{\"field\":\"y3\"}},\"id\":\"2503\",\"type\":\"Circle\"},{\"attributes\":{\"below\":[{\"id\":\"2427\"}],\"center\":[{\"id\":\"2430\"},{\"id\":\"2434\"}],\"height\":300,\"left\":[{\"id\":\"2431\"}],\"renderers\":[{\"id\":\"2494\"}],\"title\":{\"id\":\"2631\"},\"toolbar\":{\"id\":\"2439\"},\"width\":300,\"x_range\":{\"id\":\"2419\"},\"x_scale\":{\"id\":\"2423\"},\"y_range\":{\"id\":\"2421\"},\"y_scale\":{\"id\":\"2425\"}},\"id\":\"2418\",\"subtype\":\"Figure\",\"type\":\"Plot\"},{\"attributes\":{\"source\":{\"id\":\"2417\"}},\"id\":\"2507\",\"type\":\"CDSView\"},{\"attributes\":{},\"id\":\"2650\",\"type\":\"BasicTickFormatter\"},{\"attributes\":{},\"id\":\"2469\",\"type\":\"DataRange1d\"},{\"attributes\":{},\"id\":\"2651\",\"type\":\"AllLabels\"},{\"attributes\":{\"fill_alpha\":{\"value\":0.1},\"fill_color\":{\"value\":\"#1f77b4\"},\"hatch_alpha\":{\"value\":0.1},\"line_alpha\":{\"value\":0.1},\"line_color\":{\"value\":\"#1f77b4\"},\"x\":{\"field\":\"x\"},\"y\":{\"field\":\"y1\"}},\"id\":\"2492\",\"type\":\"Circle\"},{\"attributes\":{\"fill_alpha\":{\"value\":0.2},\"fill_color\":{\"value\":\"green\"},\"hatch_alpha\":{\"value\":0.2},\"hatch_color\":{\"value\":\"green\"},\"line_alpha\":{\"value\":0.2},\"line_color\":{\"value\":\"green\"},\"x\":{\"field\":\"x\"},\"y\":{\"field\":\"y3\"}},\"id\":\"2505\",\"type\":\"Circle\"},{\"attributes\":{},\"id\":\"2653\",\"type\":\"BasicTickFormatter\"},{\"attributes\":{},\"id\":\"2654\",\"type\":\"AllLabels\"},{\"attributes\":{\"fill_alpha\":{\"value\":0.2},\"fill_color\":{\"value\":\"#1f77b4\"},\"hatch_alpha\":{\"value\":0.2},\"line_alpha\":{\"value\":0.2},\"line_color\":{\"value\":\"#1f77b4\"},\"x\":{\"field\":\"x\"},\"y\":{\"field\":\"y1\"}},\"id\":\"2493\",\"type\":\"Circle\"},{\"attributes\":{},\"id\":\"2638\",\"type\":\"BasicTickFormatter\"},{\"attributes\":{\"coordinates\":null,\"data_source\":{\"id\":\"2417\"},\"glyph\":{\"id\":\"2491\"},\"group\":null,\"hover_glyph\":null,\"muted_glyph\":{\"id\":\"2493\"},\"nonselection_glyph\":{\"id\":\"2492\"},\"view\":{\"id\":\"2495\"}},\"id\":\"2494\",\"type\":\"GlyphRenderer\"},{\"attributes\":{},\"id\":\"2656\",\"type\":\"Selection\"},{\"attributes\":{\"source\":{\"id\":\"2417\"}},\"id\":\"2501\",\"type\":\"CDSView\"},{\"attributes\":{\"coordinates\":null,\"group\":null,\"text_color\":\"#5B5B5B\",\"text_font\":\"Calibri Light\",\"text_font_size\":\"1.25em\",\"text_font_style\":\"bold\"},\"id\":\"2633\",\"type\":\"Title\"},{\"attributes\":{\"coordinates\":null,\"data_source\":{\"id\":\"2417\"},\"glyph\":{\"id\":\"2497\"},\"group\":null,\"hover_glyph\":null,\"muted_glyph\":{\"id\":\"2499\"},\"nonselection_glyph\":{\"id\":\"2498\"},\"view\":{\"id\":\"2501\"}},\"id\":\"2500\",\"type\":\"GlyphRenderer\"},{\"attributes\":{},\"id\":\"2639\",\"type\":\"AllLabels\"},{\"attributes\":{},\"id\":\"2425\",\"type\":\"LinearScale\"},{\"attributes\":{\"fill_alpha\":{\"value\":0.2},\"fill_color\":{\"value\":\"red\"},\"hatch_alpha\":{\"value\":0.2},\"hatch_color\":{\"value\":\"red\"},\"line_alpha\":{\"value\":0.2},\"line_color\":{\"value\":\"red\"},\"x\":{\"field\":\"x\"},\"y\":{\"field\":\"y2\"}},\"id\":\"2499\",\"type\":\"Circle\"},{\"attributes\":{\"coordinates\":null,\"group\":null,\"text_color\":\"#5B5B5B\",\"text_font\":\"Calibri Light\",\"text_font_size\":\"1.25em\",\"text_font_style\":\"bold\"},\"id\":\"2631\",\"type\":\"Title\"},{\"attributes\":{\"fill_color\":{\"value\":\"#1f77b4\"},\"line_color\":{\"value\":\"#1f77b4\"},\"x\":{\"field\":\"x\"},\"y\":{\"field\":\"y1\"}},\"id\":\"2491\",\"type\":\"Circle\"},{\"attributes\":{\"axis_label_standoff\":10,\"axis_label_text_color\":\"#5B5B5B\",\"axis_label_text_font\":\"Calibri Light\",\"axis_label_text_font_size\":\"1.15em\",\"axis_label_text_font_style\":\"bold\",\"axis_line_alpha\":1,\"axis_line_color\":\"#5B5B5B\",\"coordinates\":null,\"formatter\":{\"id\":\"2641\"},\"group\":null,\"major_label_policy\":{\"id\":\"2642\"},\"major_label_text_color\":\"#5B5B5B\",\"major_label_text_font\":\"Calibri Light\",\"major_label_text_font_size\":\"0.95em\",\"major_label_text_font_style\":\"bold\",\"major_tick_in\":0,\"major_tick_line_alpha\":0.25,\"major_tick_line_color\":\"#5B5B5B\",\"major_tick_out\":3,\"minor_tick_line_alpha\":0.25,\"minor_tick_line_color\":\"#5B5B5B\",\"ticker\":{\"id\":\"2428\"}},\"id\":\"2427\",\"type\":\"LinearAxis\"},{\"attributes\":{\"overlay\":{\"id\":\"2485\"}},\"id\":\"2483\",\"type\":\"BoxSelectTool\"},{\"attributes\":{\"coordinates\":null,\"fill_alpha\":0.5,\"fill_color\":\"lightgrey\",\"group\":null,\"level\":\"overlay\",\"line_alpha\":1.0,\"line_color\":\"black\",\"line_dash\":[4,4],\"line_width\":2,\"syncable\":false,\"xs_units\":\"screen\",\"ys_units\":\"screen\"},\"id\":\"2438\",\"type\":\"PolyAnnotation\"},{\"attributes\":{},\"id\":\"2641\",\"type\":\"BasicTickFormatter\"},{\"attributes\":{\"overlay\":{\"id\":\"2486\"}},\"id\":\"2484\",\"type\":\"LassoSelectTool\"},{\"attributes\":{},\"id\":\"2421\",\"type\":\"DataRange1d\"},{\"attributes\":{\"axis\":{\"id\":\"2475\"},\"coordinates\":null,\"group\":null,\"ticker\":null},\"id\":\"2478\",\"type\":\"Grid\"},{\"attributes\":{},\"id\":\"2655\",\"type\":\"UnionRenderers\"},{\"attributes\":{\"source\":{\"id\":\"2417\"}},\"id\":\"2495\",\"type\":\"CDSView\"},{\"attributes\":{},\"id\":\"2642\",\"type\":\"AllLabels\"},{\"attributes\":{\"axis_label_standoff\":10,\"axis_label_text_color\":\"#5B5B5B\",\"axis_label_text_font\":\"Calibri Light\",\"axis_label_text_font_size\":\"1.15em\",\"axis_label_text_font_style\":\"bold\",\"axis_line_alpha\":1,\"axis_line_color\":\"#5B5B5B\",\"coordinates\":null,\"formatter\":{\"id\":\"2653\"},\"group\":null,\"major_label_policy\":{\"id\":\"2654\"},\"major_label_text_color\":\"#5B5B5B\",\"major_label_text_font\":\"Calibri Light\",\"major_label_text_font_size\":\"0.95em\",\"major_label_text_font_style\":\"bold\",\"major_tick_in\":0,\"major_tick_line_alpha\":0.25,\"major_tick_line_color\":\"#5B5B5B\",\"major_tick_out\":3,\"minor_tick_line_alpha\":0.25,\"minor_tick_line_color\":\"#5B5B5B\",\"ticker\":{\"id\":\"2476\"}},\"id\":\"2475\",\"type\":\"LinearAxis\"},{\"attributes\":{\"bottom_units\":\"screen\",\"coordinates\":null,\"fill_alpha\":0.5,\"fill_color\":\"lightgrey\",\"group\":null,\"left_units\":\"screen\",\"level\":\"overlay\",\"line_alpha\":1.0,\"line_color\":\"black\",\"line_dash\":[4,4],\"line_width\":2,\"right_units\":\"screen\",\"syncable\":false,\"top_units\":\"screen\"},\"id\":\"2437\",\"type\":\"BoxAnnotation\"},{\"attributes\":{\"axis_label_standoff\":10,\"axis_label_text_color\":\"#5B5B5B\",\"axis_label_text_font\":\"Calibri Light\",\"axis_label_text_font_size\":\"1.15em\",\"axis_label_text_font_style\":\"bold\",\"axis_line_alpha\":1,\"axis_line_color\":\"#5B5B5B\",\"coordinates\":null,\"formatter\":{\"id\":\"2650\"},\"group\":null,\"major_label_policy\":{\"id\":\"2651\"},\"major_label_text_color\":\"#5B5B5B\",\"major_label_text_font\":\"Calibri Light\",\"major_label_text_font_size\":\"0.95em\",\"major_label_text_font_style\":\"bold\",\"major_tick_in\":0,\"major_tick_line_alpha\":0.25,\"major_tick_line_color\":\"#5B5B5B\",\"major_tick_out\":3,\"minor_tick_line_alpha\":0.25,\"minor_tick_line_color\":\"#5B5B5B\",\"ticker\":{\"id\":\"2480\"}},\"id\":\"2479\",\"type\":\"LinearAxis\"},{\"attributes\":{},\"id\":\"2473\",\"type\":\"LinearScale\"},{\"attributes\":{},\"id\":\"2471\",\"type\":\"LinearScale\"},{\"attributes\":{\"axis\":{\"id\":\"2479\"},\"coordinates\":null,\"dimension\":1,\"group\":null,\"ticker\":null},\"id\":\"2482\",\"type\":\"Grid\"},{\"attributes\":{},\"id\":\"2452\",\"type\":\"BasicTicker\"},{\"attributes\":{\"fill_alpha\":{\"value\":0.1},\"fill_color\":{\"value\":\"green\"},\"hatch_alpha\":{\"value\":0.1},\"hatch_color\":{\"value\":\"green\"},\"line_alpha\":{\"value\":0.1},\"line_color\":{\"value\":\"green\"},\"x\":{\"field\":\"x\"},\"y\":{\"field\":\"y3\"}},\"id\":\"2504\",\"type\":\"Circle\"},{\"attributes\":{\"bottom_units\":\"screen\",\"coordinates\":null,\"fill_alpha\":0.5,\"fill_color\":\"lightgrey\",\"group\":null,\"left_units\":\"screen\",\"level\":\"overlay\",\"line_alpha\":1.0,\"line_color\":\"black\",\"line_dash\":[4,4],\"line_width\":2,\"right_units\":\"screen\",\"syncable\":false,\"top_units\":\"screen\"},\"id\":\"2461\",\"type\":\"BoxAnnotation\"},{\"attributes\":{\"axis\":{\"id\":\"2451\"},\"coordinates\":null,\"group\":null,\"ticker\":null},\"id\":\"2454\",\"type\":\"Grid\"},{\"attributes\":{\"bottom_units\":\"screen\",\"coordinates\":null,\"fill_alpha\":0.5,\"fill_color\":\"lightgrey\",\"group\":null,\"left_units\":\"screen\",\"level\":\"overlay\",\"line_alpha\":1.0,\"line_color\":\"black\",\"line_dash\":[4,4],\"line_width\":2,\"right_units\":\"screen\",\"syncable\":false,\"top_units\":\"screen\"},\"id\":\"2485\",\"type\":\"BoxAnnotation\"},{\"attributes\":{},\"id\":\"2447\",\"type\":\"LinearScale\"}],\"root_ids\":[\"2508\"]},\"title\":\"Bokeh Application\",\"version\":\"2.4.3\"}};\n  const render_items = [{\"docid\":\"deeb059d-a1a9-4064-afb8-0b91e2673392\",\"root_ids\":[\"2508\"],\"roots\":{\"2508\":\"dae111e7-7db3-4461-84fc-565eec7e0e21\"}}];\n  root.Bokeh.embed.embed_items_notebook(docs_json, render_items);\n  }\n  if (root.Bokeh !== undefined) {\n    embed_document(root);\n  } else {\n    let attempts = 0;\n    const timer = setInterval(function(root) {\n      if (root.Bokeh !== undefined) {\n        clearInterval(timer);\n        embed_document(root);\n      } else {\n        attempts++;\n        if (attempts > 100) {\n          clearInterval(timer);\n          console.log(\"Bokeh: ERROR: Unable to run BokehJS code because BokehJS library is missing\");\n        }\n      }\n    }, 10, root)\n  }\n})(window);",
      "application/vnd.bokehjs_exec.v0+json": ""
     },
     "metadata": {
      "application/vnd.bokehjs_exec.v0+json": {
       "id": "2508"
      }
     },
     "output_type": "display_data"
    }
   ],
   "source": []
  },
  {
   "cell_type": "code",
   "execution_count": null,
   "outputs": [],
   "source": [],
   "metadata": {
    "collapsed": false
   }
  }
 ],
 "metadata": {
  "hide_input": false,
  "kernelspec": {
   "display_name": "Python3 default",
   "language": "python",
   "name": "python3"
  },
  "language_info": {
   "codemirror_mode": {
    "name": "ipython",
    "version": 3
   },
   "file_extension": ".py",
   "mimetype": "text/x-python",
   "name": "python",
   "nbconvert_exporter": "python",
   "pygments_lexer": "ipython3",
   "version": "3.6.5"
  },
  "latex_envs": {
   "LaTeX_envs_menu_present": true,
   "autoclose": false,
   "autocomplete": true,
   "bibliofile": "biblio.bib",
   "cite_by": "apalike",
   "current_citInitial": 1,
   "eqLabelWithNumbers": true,
   "eqNumInitial": 1,
   "hotkeys": {
    "equation": "Ctrl-E",
    "itemize": "Ctrl-I"
   },
   "labels_anchors": false,
   "latex_user_defs": false,
   "report_style_numbering": false,
   "user_envs_cfg": false
  },
  "n_questions": 1
 },
 "nbformat": 4,
 "nbformat_minor": 2
}
