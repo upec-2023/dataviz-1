{
 "cells": [
  {
   "cell_type": "markdown",
   "metadata": {
    "deletable": false,
    "editable": false,
    "function": "preliminary",
    "question_id": 1,
    "run_control": {
     "frozen": true
    }
   },
   "source": [
    "\n",
    "<hr style=\"border-width:2px;border-color:#75DFC1\">\n",
    "<center><h1>Introduction à la visualisation de données avec Bokeh</h1></center>\n",
    "<center><h2>Les barplots</h2></center>\n",
    "<hr style=\"border-width:2px;border-color:#75DFC1\">\n",
    "\n",
    "* Exécuter la cellule suivante pour importer les classes nécessaires et pouvoir afficher les dessins <b>Bokeh</b> dans des cellules jupyter."
   ]
  },
  {
   "cell_type": "code",
   "execution_count": 1,
   "metadata": {
    "function": "preliminary",
    "question_id": 1,
    "ExecuteTime": {
     "end_time": "2023-11-28T10:10:42.997275Z",
     "start_time": "2023-11-28T10:10:42.960771Z"
    }
   },
   "outputs": [
    {
     "data": {
      "text/html": "<div class=\"bk-root\">\n        <a href=\"https://bokeh.org\" target=\"_blank\" class=\"bk-logo bk-logo-small bk-logo-notebook\"></a>\n        <span id=\"1002\">Loading BokehJS ...</span>\n    </div>\n"
     },
     "metadata": {},
     "output_type": "display_data"
    },
    {
     "data": {
      "application/javascript": "(function(root) {\n  function now() {\n    return new Date();\n  }\n\n  const force = true;\n\n  if (typeof root._bokeh_onload_callbacks === \"undefined\" || force === true) {\n    root._bokeh_onload_callbacks = [];\n    root._bokeh_is_loading = undefined;\n  }\n\nconst JS_MIME_TYPE = 'application/javascript';\n  const HTML_MIME_TYPE = 'text/html';\n  const EXEC_MIME_TYPE = 'application/vnd.bokehjs_exec.v0+json';\n  const CLASS_NAME = 'output_bokeh rendered_html';\n\n  /**\n   * Render data to the DOM node\n   */\n  function render(props, node) {\n    const script = document.createElement(\"script\");\n    node.appendChild(script);\n  }\n\n  /**\n   * Handle when an output is cleared or removed\n   */\n  function handleClearOutput(event, handle) {\n    const cell = handle.cell;\n\n    const id = cell.output_area._bokeh_element_id;\n    const server_id = cell.output_area._bokeh_server_id;\n    // Clean up Bokeh references\n    if (id != null && id in Bokeh.index) {\n      Bokeh.index[id].model.document.clear();\n      delete Bokeh.index[id];\n    }\n\n    if (server_id !== undefined) {\n      // Clean up Bokeh references\n      const cmd_clean = \"from bokeh.io.state import curstate; print(curstate().uuid_to_server['\" + server_id + \"'].get_sessions()[0].document.roots[0]._id)\";\n      cell.notebook.kernel.execute(cmd_clean, {\n        iopub: {\n          output: function(msg) {\n            const id = msg.content.text.trim();\n            if (id in Bokeh.index) {\n              Bokeh.index[id].model.document.clear();\n              delete Bokeh.index[id];\n            }\n          }\n        }\n      });\n      // Destroy server and session\n      const cmd_destroy = \"import bokeh.io.notebook as ion; ion.destroy_server('\" + server_id + \"')\";\n      cell.notebook.kernel.execute(cmd_destroy);\n    }\n  }\n\n  /**\n   * Handle when a new output is added\n   */\n  function handleAddOutput(event, handle) {\n    const output_area = handle.output_area;\n    const output = handle.output;\n\n    // limit handleAddOutput to display_data with EXEC_MIME_TYPE content only\n    if ((output.output_type != \"display_data\") || (!Object.prototype.hasOwnProperty.call(output.data, EXEC_MIME_TYPE))) {\n      return\n    }\n\n    const toinsert = output_area.element.find(\".\" + CLASS_NAME.split(' ')[0]);\n\n    if (output.metadata[EXEC_MIME_TYPE][\"id\"] !== undefined) {\n      toinsert[toinsert.length - 1].firstChild.textContent = output.data[JS_MIME_TYPE];\n      // store reference to embed id on output_area\n      output_area._bokeh_element_id = output.metadata[EXEC_MIME_TYPE][\"id\"];\n    }\n    if (output.metadata[EXEC_MIME_TYPE][\"server_id\"] !== undefined) {\n      const bk_div = document.createElement(\"div\");\n      bk_div.innerHTML = output.data[HTML_MIME_TYPE];\n      const script_attrs = bk_div.children[0].attributes;\n      for (let i = 0; i < script_attrs.length; i++) {\n        toinsert[toinsert.length - 1].firstChild.setAttribute(script_attrs[i].name, script_attrs[i].value);\n        toinsert[toinsert.length - 1].firstChild.textContent = bk_div.children[0].textContent\n      }\n      // store reference to server id on output_area\n      output_area._bokeh_server_id = output.metadata[EXEC_MIME_TYPE][\"server_id\"];\n    }\n  }\n\n  function register_renderer(events, OutputArea) {\n\n    function append_mime(data, metadata, element) {\n      // create a DOM node to render to\n      const toinsert = this.create_output_subarea(\n        metadata,\n        CLASS_NAME,\n        EXEC_MIME_TYPE\n      );\n      this.keyboard_manager.register_events(toinsert);\n      // Render to node\n      const props = {data: data, metadata: metadata[EXEC_MIME_TYPE]};\n      render(props, toinsert[toinsert.length - 1]);\n      element.append(toinsert);\n      return toinsert\n    }\n\n    /* Handle when an output is cleared or removed */\n    events.on('clear_output.CodeCell', handleClearOutput);\n    events.on('delete.Cell', handleClearOutput);\n\n    /* Handle when a new output is added */\n    events.on('output_added.OutputArea', handleAddOutput);\n\n    /**\n     * Register the mime type and append_mime function with output_area\n     */\n    OutputArea.prototype.register_mime_type(EXEC_MIME_TYPE, append_mime, {\n      /* Is output safe? */\n      safe: true,\n      /* Index of renderer in `output_area.display_order` */\n      index: 0\n    });\n  }\n\n  // register the mime type if in Jupyter Notebook environment and previously unregistered\n  if (root.Jupyter !== undefined) {\n    const events = require('base/js/events');\n    const OutputArea = require('notebook/js/outputarea').OutputArea;\n\n    if (OutputArea.prototype.mime_types().indexOf(EXEC_MIME_TYPE) == -1) {\n      register_renderer(events, OutputArea);\n    }\n  }\n  if (typeof (root._bokeh_timeout) === \"undefined\" || force === true) {\n    root._bokeh_timeout = Date.now() + 5000;\n    root._bokeh_failed_load = false;\n  }\n\n  const NB_LOAD_WARNING = {'data': {'text/html':\n     \"<div style='background-color: #fdd'>\\n\"+\n     \"<p>\\n\"+\n     \"BokehJS does not appear to have successfully loaded. If loading BokehJS from CDN, this \\n\"+\n     \"may be due to a slow or bad network connection. Possible fixes:\\n\"+\n     \"</p>\\n\"+\n     \"<ul>\\n\"+\n     \"<li>re-rerun `output_notebook()` to attempt to load from CDN again, or</li>\\n\"+\n     \"<li>use INLINE resources instead, as so:</li>\\n\"+\n     \"</ul>\\n\"+\n     \"<code>\\n\"+\n     \"from bokeh.resources import INLINE\\n\"+\n     \"output_notebook(resources=INLINE)\\n\"+\n     \"</code>\\n\"+\n     \"</div>\"}};\n\n  function display_loaded() {\n    const el = document.getElementById(\"1002\");\n    if (el != null) {\n      el.textContent = \"BokehJS is loading...\";\n    }\n    if (root.Bokeh !== undefined) {\n      if (el != null) {\n        el.textContent = \"BokehJS \" + root.Bokeh.version + \" successfully loaded.\";\n      }\n    } else if (Date.now() < root._bokeh_timeout) {\n      setTimeout(display_loaded, 100)\n    }\n  }\n\n  function run_callbacks() {\n    try {\n      root._bokeh_onload_callbacks.forEach(function(callback) {\n        if (callback != null)\n          callback();\n      });\n    } finally {\n      delete root._bokeh_onload_callbacks\n    }\n    console.debug(\"Bokeh: all callbacks have finished\");\n  }\n\n  function load_libs(css_urls, js_urls, callback) {\n    if (css_urls == null) css_urls = [];\n    if (js_urls == null) js_urls = [];\n\n    root._bokeh_onload_callbacks.push(callback);\n    if (root._bokeh_is_loading > 0) {\n      console.debug(\"Bokeh: BokehJS is being loaded, scheduling callback at\", now());\n      return null;\n    }\n    if (js_urls == null || js_urls.length === 0) {\n      run_callbacks();\n      return null;\n    }\n    console.debug(\"Bokeh: BokehJS not loaded, scheduling load and callback at\", now());\n    root._bokeh_is_loading = css_urls.length + js_urls.length;\n\n    function on_load() {\n      root._bokeh_is_loading--;\n      if (root._bokeh_is_loading === 0) {\n        console.debug(\"Bokeh: all BokehJS libraries/stylesheets loaded\");\n        run_callbacks()\n      }\n    }\n\n    function on_error(url) {\n      console.error(\"failed to load \" + url);\n    }\n\n    for (let i = 0; i < css_urls.length; i++) {\n      const url = css_urls[i];\n      const element = document.createElement(\"link\");\n      element.onload = on_load;\n      element.onerror = on_error.bind(null, url);\n      element.rel = \"stylesheet\";\n      element.type = \"text/css\";\n      element.href = url;\n      console.debug(\"Bokeh: injecting link tag for BokehJS stylesheet: \", url);\n      document.body.appendChild(element);\n    }\n\n    for (let i = 0; i < js_urls.length; i++) {\n      const url = js_urls[i];\n      const element = document.createElement('script');\n      element.onload = on_load;\n      element.onerror = on_error.bind(null, url);\n      element.async = false;\n      element.src = url;\n      console.debug(\"Bokeh: injecting script tag for BokehJS library: \", url);\n      document.head.appendChild(element);\n    }\n  };\n\n  function inject_raw_css(css) {\n    const element = document.createElement(\"style\");\n    element.appendChild(document.createTextNode(css));\n    document.body.appendChild(element);\n  }\n\n  const js_urls = [\"https://cdn.bokeh.org/bokeh/release/bokeh-2.4.3.min.js\", \"https://cdn.bokeh.org/bokeh/release/bokeh-gl-2.4.3.min.js\", \"https://cdn.bokeh.org/bokeh/release/bokeh-widgets-2.4.3.min.js\", \"https://cdn.bokeh.org/bokeh/release/bokeh-tables-2.4.3.min.js\", \"https://cdn.bokeh.org/bokeh/release/bokeh-mathjax-2.4.3.min.js\"];\n  const css_urls = [];\n\n  const inline_js = [    function(Bokeh) {\n      Bokeh.set_log_level(\"info\");\n    },\nfunction(Bokeh) {\n    }\n  ];\n\n  function run_inline_js() {\n    if (root.Bokeh !== undefined || force === true) {\n          for (let i = 0; i < inline_js.length; i++) {\n      inline_js[i].call(root, root.Bokeh);\n    }\nif (force === true) {\n        display_loaded();\n      }} else if (Date.now() < root._bokeh_timeout) {\n      setTimeout(run_inline_js, 100);\n    } else if (!root._bokeh_failed_load) {\n      console.log(\"Bokeh: BokehJS failed to load within specified timeout.\");\n      root._bokeh_failed_load = true;\n    } else if (force !== true) {\n      const cell = $(document.getElementById(\"1002\")).parents('.cell').data().cell;\n      cell.output_area.append_execute_result(NB_LOAD_WARNING)\n    }\n  }\n\n  if (root._bokeh_is_loading === 0) {\n    console.debug(\"Bokeh: BokehJS loaded, going straight to plotting\");\n    run_inline_js();\n  } else {\n    load_libs(css_urls, js_urls, function() {\n      console.debug(\"Bokeh: BokehJS plotting callback run at\", now());\n      run_inline_js();\n    });\n  }\n}(window));",
      "application/vnd.bokehjs_load.v0+json": "(function(root) {\n  function now() {\n    return new Date();\n  }\n\n  const force = true;\n\n  if (typeof root._bokeh_onload_callbacks === \"undefined\" || force === true) {\n    root._bokeh_onload_callbacks = [];\n    root._bokeh_is_loading = undefined;\n  }\n\n\n  if (typeof (root._bokeh_timeout) === \"undefined\" || force === true) {\n    root._bokeh_timeout = Date.now() + 5000;\n    root._bokeh_failed_load = false;\n  }\n\n  const NB_LOAD_WARNING = {'data': {'text/html':\n     \"<div style='background-color: #fdd'>\\n\"+\n     \"<p>\\n\"+\n     \"BokehJS does not appear to have successfully loaded. If loading BokehJS from CDN, this \\n\"+\n     \"may be due to a slow or bad network connection. Possible fixes:\\n\"+\n     \"</p>\\n\"+\n     \"<ul>\\n\"+\n     \"<li>re-rerun `output_notebook()` to attempt to load from CDN again, or</li>\\n\"+\n     \"<li>use INLINE resources instead, as so:</li>\\n\"+\n     \"</ul>\\n\"+\n     \"<code>\\n\"+\n     \"from bokeh.resources import INLINE\\n\"+\n     \"output_notebook(resources=INLINE)\\n\"+\n     \"</code>\\n\"+\n     \"</div>\"}};\n\n  function display_loaded() {\n    const el = document.getElementById(\"1002\");\n    if (el != null) {\n      el.textContent = \"BokehJS is loading...\";\n    }\n    if (root.Bokeh !== undefined) {\n      if (el != null) {\n        el.textContent = \"BokehJS \" + root.Bokeh.version + \" successfully loaded.\";\n      }\n    } else if (Date.now() < root._bokeh_timeout) {\n      setTimeout(display_loaded, 100)\n    }\n  }\n\n  function run_callbacks() {\n    try {\n      root._bokeh_onload_callbacks.forEach(function(callback) {\n        if (callback != null)\n          callback();\n      });\n    } finally {\n      delete root._bokeh_onload_callbacks\n    }\n    console.debug(\"Bokeh: all callbacks have finished\");\n  }\n\n  function load_libs(css_urls, js_urls, callback) {\n    if (css_urls == null) css_urls = [];\n    if (js_urls == null) js_urls = [];\n\n    root._bokeh_onload_callbacks.push(callback);\n    if (root._bokeh_is_loading > 0) {\n      console.debug(\"Bokeh: BokehJS is being loaded, scheduling callback at\", now());\n      return null;\n    }\n    if (js_urls == null || js_urls.length === 0) {\n      run_callbacks();\n      return null;\n    }\n    console.debug(\"Bokeh: BokehJS not loaded, scheduling load and callback at\", now());\n    root._bokeh_is_loading = css_urls.length + js_urls.length;\n\n    function on_load() {\n      root._bokeh_is_loading--;\n      if (root._bokeh_is_loading === 0) {\n        console.debug(\"Bokeh: all BokehJS libraries/stylesheets loaded\");\n        run_callbacks()\n      }\n    }\n\n    function on_error(url) {\n      console.error(\"failed to load \" + url);\n    }\n\n    for (let i = 0; i < css_urls.length; i++) {\n      const url = css_urls[i];\n      const element = document.createElement(\"link\");\n      element.onload = on_load;\n      element.onerror = on_error.bind(null, url);\n      element.rel = \"stylesheet\";\n      element.type = \"text/css\";\n      element.href = url;\n      console.debug(\"Bokeh: injecting link tag for BokehJS stylesheet: \", url);\n      document.body.appendChild(element);\n    }\n\n    for (let i = 0; i < js_urls.length; i++) {\n      const url = js_urls[i];\n      const element = document.createElement('script');\n      element.onload = on_load;\n      element.onerror = on_error.bind(null, url);\n      element.async = false;\n      element.src = url;\n      console.debug(\"Bokeh: injecting script tag for BokehJS library: \", url);\n      document.head.appendChild(element);\n    }\n  };\n\n  function inject_raw_css(css) {\n    const element = document.createElement(\"style\");\n    element.appendChild(document.createTextNode(css));\n    document.body.appendChild(element);\n  }\n\n  const js_urls = [\"https://cdn.bokeh.org/bokeh/release/bokeh-2.4.3.min.js\", \"https://cdn.bokeh.org/bokeh/release/bokeh-gl-2.4.3.min.js\", \"https://cdn.bokeh.org/bokeh/release/bokeh-widgets-2.4.3.min.js\", \"https://cdn.bokeh.org/bokeh/release/bokeh-tables-2.4.3.min.js\", \"https://cdn.bokeh.org/bokeh/release/bokeh-mathjax-2.4.3.min.js\"];\n  const css_urls = [];\n\n  const inline_js = [    function(Bokeh) {\n      Bokeh.set_log_level(\"info\");\n    },\nfunction(Bokeh) {\n    }\n  ];\n\n  function run_inline_js() {\n    if (root.Bokeh !== undefined || force === true) {\n          for (let i = 0; i < inline_js.length; i++) {\n      inline_js[i].call(root, root.Bokeh);\n    }\nif (force === true) {\n        display_loaded();\n      }} else if (Date.now() < root._bokeh_timeout) {\n      setTimeout(run_inline_js, 100);\n    } else if (!root._bokeh_failed_load) {\n      console.log(\"Bokeh: BokehJS failed to load within specified timeout.\");\n      root._bokeh_failed_load = true;\n    } else if (force !== true) {\n      const cell = $(document.getElementById(\"1002\")).parents('.cell').data().cell;\n      cell.output_area.append_execute_result(NB_LOAD_WARNING)\n    }\n  }\n\n  if (root._bokeh_is_loading === 0) {\n    console.debug(\"Bokeh: BokehJS loaded, going straight to plotting\");\n    run_inline_js();\n  } else {\n    load_libs(css_urls, js_urls, function() {\n      console.debug(\"Bokeh: BokehJS plotting callback run at\", now());\n      run_inline_js();\n    });\n  }\n}(window));"
     },
     "metadata": {},
     "output_type": "display_data"
    }
   ],
   "source": [
    "import warnings\n",
    "warnings.filterwarnings(\"ignore\")\n",
    "\n",
    "# Importation des fonctions dont on se servira pour toutes les figures\n",
    "\n",
    "from bokeh.plotting import figure, output_notebook, show\n",
    "\n",
    "# Précision de l'affichage des graphiques dans des cellules jupyter\n",
    "\n",
    "output_notebook()"
   ]
  },
  {
   "cell_type": "markdown",
   "metadata": {
    "deletable": false,
    "editable": false,
    "function": "preliminary",
    "question_id": 1,
    "run_control": {
     "frozen": true
    }
   },
   "source": [
    "### Barres verticales et horizontales\n",
    "\n",
    "> Les diagrammes à barres sont un type de graphique connu et très utilisé pour l'analyse statistique. Comme leur nom l'indique, les diagrammes à barres sont formés de barres, verticales ou horizontales. Ils sont utilisés pour décrire des variables qualitatives ou quantitatives discrètes. Il existe plusieurs méthodes pour créer des diagrammes à barres dans **Bokeh**.\n",
    ">\n",
    ">\n",
    "> Si l'on souhaite créer un diagramme à barre dans **Bokeh**, il faut d'abord instancier un objet `figure` et ensuite utiliser les méthodes `vbar` ou `hbar` de cet objet. Ces méthodes prennent différents arguments:\n",
    "> - `vbar`:\n",
    ">      - `x`:  différentes valeurs des variables (pas forcément quantitatives), i.e. l'abscisse dans un diagramme vertical.\n",
    ">      - `top`: fréquences de ces différentes valeurs.\n",
    ">      - `width`: épaisseur des barres.\n",
    "> - `hbar`:\n",
    ">      - `y`: différentes valeurs des variables, i.e. l'ordonnée dans un diagramme horizontal\n",
    ">      - `right`: fréquences de ces différentes valeurs\n",
    ">      - `height`: épaisseur des barres\n",
    "\n",
    "* Instancier une `figure` **`p`**.\n",
    "\n",
    "\n",
    "* Instancier un diagramme à barres verticales avec en abscisse les entiers de 0 à 6, en ordonnée les fréquences `[3, 4, 5, 6, 5, 4, 3]` et d'épaisseur 0.9.\n",
    "\n",
    "\n",
    "* Afficher la figure."
   ]
  },
  {
   "cell_type": "code",
   "execution_count": null,
   "outputs": [],
   "source": [
    "### Insérez votre code ici\n",
    "\n",
    "\n"
   ],
   "metadata": {
    "collapsed": false
   }
  },
  {
   "cell_type": "code",
   "execution_count": 2,
   "metadata": {
    "function": "submission",
    "question_id": 1,
    "ExecuteTime": {
     "end_time": "2023-11-28T10:10:49.802133Z",
     "start_time": "2023-11-28T10:10:49.782421Z"
    }
   },
   "outputs": [
    {
     "data": {
      "text/html": "\n  <div class=\"bk-root\" id=\"0478fc67-b921-426f-a9f5-71d08ba233db\" data-root-id=\"1003\"></div>\n"
     },
     "metadata": {},
     "output_type": "display_data"
    },
    {
     "data": {
      "application/javascript": "(function(root) {\n  function embed_document(root) {\n  const docs_json = {\"a9598163-1455-484e-a71d-c1607b232b76\":{\"defs\":[],\"roots\":{\"references\":[{\"attributes\":{\"below\":[{\"id\":\"1012\"}],\"center\":[{\"id\":\"1015\"},{\"id\":\"1019\"}],\"height\":400,\"left\":[{\"id\":\"1016\"}],\"renderers\":[{\"id\":\"1038\"}],\"title\":{\"id\":\"1040\"},\"toolbar\":{\"id\":\"1027\"},\"x_range\":{\"id\":\"1004\"},\"x_scale\":{\"id\":\"1008\"},\"y_range\":{\"id\":\"1006\"},\"y_scale\":{\"id\":\"1010\"}},\"id\":\"1003\",\"subtype\":\"Figure\",\"type\":\"Plot\"},{\"attributes\":{},\"id\":\"1046\",\"type\":\"BasicTickFormatter\"},{\"attributes\":{\"coordinates\":null,\"data_source\":{\"id\":\"1034\"},\"glyph\":{\"id\":\"1035\"},\"group\":null,\"hover_glyph\":null,\"muted_glyph\":{\"id\":\"1037\"},\"nonselection_glyph\":{\"id\":\"1036\"},\"view\":{\"id\":\"1039\"}},\"id\":\"1038\",\"type\":\"GlyphRenderer\"},{\"attributes\":{},\"id\":\"1048\",\"type\":\"UnionRenderers\"},{\"attributes\":{\"axis\":{\"id\":\"1012\"},\"coordinates\":null,\"group\":null,\"ticker\":null},\"id\":\"1015\",\"type\":\"Grid\"},{\"attributes\":{},\"id\":\"1047\",\"type\":\"AllLabels\"},{\"attributes\":{},\"id\":\"1013\",\"type\":\"BasicTicker\"},{\"attributes\":{},\"id\":\"1008\",\"type\":\"LinearScale\"},{\"attributes\":{},\"id\":\"1025\",\"type\":\"HelpTool\"},{\"attributes\":{\"axis_label_standoff\":10,\"axis_label_text_color\":\"#5B5B5B\",\"axis_label_text_font\":\"Calibri Light\",\"axis_label_text_font_size\":\"1.15em\",\"axis_label_text_font_style\":\"bold\",\"axis_line_alpha\":1,\"axis_line_color\":\"#5B5B5B\",\"coordinates\":null,\"formatter\":{\"id\":\"1046\"},\"group\":null,\"major_label_policy\":{\"id\":\"1047\"},\"major_label_text_color\":\"#5B5B5B\",\"major_label_text_font\":\"Calibri Light\",\"major_label_text_font_size\":\"0.95em\",\"major_label_text_font_style\":\"bold\",\"major_tick_in\":0,\"major_tick_line_alpha\":0.25,\"major_tick_line_color\":\"#5B5B5B\",\"major_tick_out\":3,\"minor_tick_line_alpha\":0.25,\"minor_tick_line_color\":\"#5B5B5B\",\"ticker\":{\"id\":\"1013\"}},\"id\":\"1012\",\"type\":\"LinearAxis\"},{\"attributes\":{\"fill_alpha\":{\"value\":0.2},\"fill_color\":{\"value\":\"#1f77b4\"},\"hatch_alpha\":{\"value\":0.2},\"line_alpha\":{\"value\":0.2},\"line_color\":{\"value\":\"#1f77b4\"},\"top\":{\"field\":\"top\"},\"width\":{\"value\":0.9},\"x\":{\"field\":\"x\"}},\"id\":\"1037\",\"type\":\"VBar\"},{\"attributes\":{\"data\":{\"top\":[3,4,5,6,5,4,3],\"x\":[0,1,2,3,4,5,6]},\"selected\":{\"id\":\"1049\"},\"selection_policy\":{\"id\":\"1048\"}},\"id\":\"1034\",\"type\":\"ColumnDataSource\"},{\"attributes\":{\"fill_color\":{\"value\":\"#1f77b4\"},\"line_color\":{\"value\":\"#1f77b4\"},\"top\":{\"field\":\"top\"},\"width\":{\"value\":0.9},\"x\":{\"field\":\"x\"}},\"id\":\"1035\",\"type\":\"VBar\"},{\"attributes\":{},\"id\":\"1004\",\"type\":\"DataRange1d\"},{\"attributes\":{\"source\":{\"id\":\"1034\"}},\"id\":\"1039\",\"type\":\"CDSView\"},{\"attributes\":{\"fill_alpha\":{\"value\":0.1},\"fill_color\":{\"value\":\"#1f77b4\"},\"hatch_alpha\":{\"value\":0.1},\"line_alpha\":{\"value\":0.1},\"line_color\":{\"value\":\"#1f77b4\"},\"top\":{\"field\":\"top\"},\"width\":{\"value\":0.9},\"x\":{\"field\":\"x\"}},\"id\":\"1036\",\"type\":\"VBar\"},{\"attributes\":{\"tools\":[{\"id\":\"1020\"},{\"id\":\"1021\"},{\"id\":\"1022\"},{\"id\":\"1023\"},{\"id\":\"1024\"},{\"id\":\"1025\"}]},\"id\":\"1027\",\"type\":\"Toolbar\"},{\"attributes\":{\"coordinates\":null,\"group\":null,\"text_color\":\"#5B5B5B\",\"text_font\":\"Calibri Light\",\"text_font_size\":\"1.25em\",\"text_font_style\":\"bold\"},\"id\":\"1040\",\"type\":\"Title\"},{\"attributes\":{\"axis\":{\"id\":\"1016\"},\"coordinates\":null,\"dimension\":1,\"group\":null,\"ticker\":null},\"id\":\"1019\",\"type\":\"Grid\"},{\"attributes\":{\"bottom_units\":\"screen\",\"coordinates\":null,\"fill_alpha\":0.5,\"fill_color\":\"lightgrey\",\"group\":null,\"left_units\":\"screen\",\"level\":\"overlay\",\"line_alpha\":1.0,\"line_color\":\"black\",\"line_dash\":[4,4],\"line_width\":2,\"right_units\":\"screen\",\"syncable\":false,\"top_units\":\"screen\"},\"id\":\"1026\",\"type\":\"BoxAnnotation\"},{\"attributes\":{},\"id\":\"1006\",\"type\":\"DataRange1d\"},{\"attributes\":{},\"id\":\"1024\",\"type\":\"ResetTool\"},{\"attributes\":{},\"id\":\"1023\",\"type\":\"SaveTool\"},{\"attributes\":{},\"id\":\"1020\",\"type\":\"PanTool\"},{\"attributes\":{},\"id\":\"1043\",\"type\":\"BasicTickFormatter\"},{\"attributes\":{\"overlay\":{\"id\":\"1026\"}},\"id\":\"1022\",\"type\":\"BoxZoomTool\"},{\"attributes\":{},\"id\":\"1021\",\"type\":\"WheelZoomTool\"},{\"attributes\":{\"axis_label_standoff\":10,\"axis_label_text_color\":\"#5B5B5B\",\"axis_label_text_font\":\"Calibri Light\",\"axis_label_text_font_size\":\"1.15em\",\"axis_label_text_font_style\":\"bold\",\"axis_line_alpha\":1,\"axis_line_color\":\"#5B5B5B\",\"coordinates\":null,\"formatter\":{\"id\":\"1043\"},\"group\":null,\"major_label_policy\":{\"id\":\"1044\"},\"major_label_text_color\":\"#5B5B5B\",\"major_label_text_font\":\"Calibri Light\",\"major_label_text_font_size\":\"0.95em\",\"major_label_text_font_style\":\"bold\",\"major_tick_in\":0,\"major_tick_line_alpha\":0.25,\"major_tick_line_color\":\"#5B5B5B\",\"major_tick_out\":3,\"minor_tick_line_alpha\":0.25,\"minor_tick_line_color\":\"#5B5B5B\",\"ticker\":{\"id\":\"1017\"}},\"id\":\"1016\",\"type\":\"LinearAxis\"},{\"attributes\":{},\"id\":\"1010\",\"type\":\"LinearScale\"},{\"attributes\":{},\"id\":\"1044\",\"type\":\"AllLabels\"},{\"attributes\":{},\"id\":\"1017\",\"type\":\"BasicTicker\"},{\"attributes\":{},\"id\":\"1049\",\"type\":\"Selection\"}],\"root_ids\":[\"1003\"]},\"title\":\"Bokeh Application\",\"version\":\"2.4.3\"}};\n  const render_items = [{\"docid\":\"a9598163-1455-484e-a71d-c1607b232b76\",\"root_ids\":[\"1003\"],\"roots\":{\"1003\":\"0478fc67-b921-426f-a9f5-71d08ba233db\"}}];\n  root.Bokeh.embed.embed_items_notebook(docs_json, render_items);\n  }\n  if (root.Bokeh !== undefined) {\n    embed_document(root);\n  } else {\n    let attempts = 0;\n    const timer = setInterval(function(root) {\n      if (root.Bokeh !== undefined) {\n        clearInterval(timer);\n        embed_document(root);\n      } else {\n        attempts++;\n        if (attempts > 100) {\n          clearInterval(timer);\n          console.log(\"Bokeh: ERROR: Unable to run BokehJS code because BokehJS library is missing\");\n        }\n      }\n    }, 10, root)\n  }\n})(window);",
      "application/vnd.bokehjs_exec.v0+json": ""
     },
     "metadata": {
      "application/vnd.bokehjs_exec.v0+json": {
       "id": "1003"
      }
     },
     "output_type": "display_data"
    }
   ],
   "source": []
  },
  {
   "cell_type": "markdown",
   "metadata": {
    "deletable": false,
    "editable": false,
    "function": "preliminary",
    "question_id": 1,
    "run_control": {
     "frozen": true
    }
   },
   "source": [
    "> Pour préciser à **Bokeh** que la variable que l'on souhaite représenter est catégorielle, il faut le préciser à la `figure` que l'on utilise.\n",
    ">\n",
    "> Pour ce faire il faut passer en argument de `x_range` (si l'on souhaite faire un diagramme vertical) ou `y_range` (si l'on souhaite faire un diagramme horizontal), lors de l'instanciation de la figure, la séquence des modalités que le variable peut prendre.\n",
    ">\n",
    "> Il faudra quand même préciser lors de l'appel d'une méthode *glyph* de diagramme à barres que l'abscisse ou l'ordonnée représente la même séquence.\n",
    ">\n",
    "> Par exemple :\n",
    ">\n",
    ">```py\n",
    "    cats = ['chats', 'chiens']         # catégories à représenter\n",
    "    ```\n",
    "> ```py\n",
    "    p = figure(x_range = cats,                      # l'axe des abscisses devient un axe catégoriel\n",
    "               plot_width = 600, plot_height = 400)\n",
    "               ```\n",
    "> ```py\n",
    "    p.vbar(x = cats,           # abscisses\n",
    "           top = [0.4, 0.6],   # ordonnées\n",
    "           width = 1) \n",
    "            ```\n",
    "<div class=\"alert alert-danger\">\n",
    "<i class='fa fa-exclamation-triangle'></i> &emsp; \n",
    "    Contrairement aux méthodes <i>glyph</i> que nous avons vues précédemment, les méthodes de diagramme à barres doivent <b>toujours prendre un argument d'épaisseur lors de l'instanciation</b>.\n",
    "</div>\n",
    "\n",
    "* Créer un diagramme à barres horizontales avec en ordonnée les lettres de A à G et en abscisses les hauteurs `[3, 4, 5, 6, 5, 4, 3]`, d'épaisseur $0.9$."
   ]
  },
  {
   "cell_type": "code",
   "execution_count": null,
   "outputs": [],
   "source": [
    "## Insérez votre code ici\n",
    "\n"
   ],
   "metadata": {
    "collapsed": false
   }
  },
  {
   "cell_type": "code",
   "execution_count": 3,
   "metadata": {
    "function": "submission",
    "question_id": 1,
    "ExecuteTime": {
     "end_time": "2023-11-28T10:10:59.841860Z",
     "start_time": "2023-11-28T10:10:59.838973Z"
    }
   },
   "outputs": [
    {
     "data": {
      "text/html": "\n  <div class=\"bk-root\" id=\"18ef2b61-d0bb-47a7-8c8d-c3d58c16a634\" data-root-id=\"1106\"></div>\n"
     },
     "metadata": {},
     "output_type": "display_data"
    },
    {
     "data": {
      "application/javascript": "(function(root) {\n  function embed_document(root) {\n  const docs_json = {\"debcd516-83ca-475d-bee7-5ef26e81fd95\":{\"defs\":[],\"roots\":{\"references\":[{\"attributes\":{\"below\":[{\"id\":\"1115\"}],\"center\":[{\"id\":\"1118\"},{\"id\":\"1121\"}],\"height\":400,\"left\":[{\"id\":\"1119\"}],\"renderers\":[{\"id\":\"1140\"}],\"title\":{\"id\":\"1153\"},\"toolbar\":{\"id\":\"1129\"},\"x_range\":{\"id\":\"1107\"},\"x_scale\":{\"id\":\"1111\"},\"y_range\":{\"id\":\"1109\"},\"y_scale\":{\"id\":\"1113\"}},\"id\":\"1106\",\"subtype\":\"Figure\",\"type\":\"Plot\"},{\"attributes\":{},\"id\":\"1161\",\"type\":\"UnionRenderers\"},{\"attributes\":{\"fill_alpha\":{\"value\":0.2},\"fill_color\":{\"value\":\"#1f77b4\"},\"hatch_alpha\":{\"value\":0.2},\"height\":{\"value\":0.9},\"line_alpha\":{\"value\":0.2},\"line_color\":{\"value\":\"#1f77b4\"},\"right\":{\"field\":\"right\"},\"y\":{\"field\":\"y\"}},\"id\":\"1139\",\"type\":\"HBar\"},{\"attributes\":{\"source\":{\"id\":\"1136\"}},\"id\":\"1141\",\"type\":\"CDSView\"},{\"attributes\":{},\"id\":\"1107\",\"type\":\"DataRange1d\"},{\"attributes\":{\"axis_label_standoff\":10,\"axis_label_text_color\":\"#5B5B5B\",\"axis_label_text_font\":\"Calibri Light\",\"axis_label_text_font_size\":\"1.15em\",\"axis_label_text_font_style\":\"bold\",\"axis_line_alpha\":1,\"axis_line_color\":\"#5B5B5B\",\"coordinates\":null,\"formatter\":{\"id\":\"1159\"},\"group\":null,\"major_label_policy\":{\"id\":\"1160\"},\"major_label_text_color\":\"#5B5B5B\",\"major_label_text_font\":\"Calibri Light\",\"major_label_text_font_size\":\"0.95em\",\"major_label_text_font_style\":\"bold\",\"major_tick_in\":0,\"major_tick_line_alpha\":0.25,\"major_tick_line_color\":\"#5B5B5B\",\"major_tick_out\":3,\"minor_tick_line_alpha\":0.25,\"minor_tick_line_color\":\"#5B5B5B\",\"ticker\":{\"id\":\"1116\"}},\"id\":\"1115\",\"type\":\"LinearAxis\"},{\"attributes\":{},\"id\":\"1159\",\"type\":\"BasicTickFormatter\"},{\"attributes\":{\"factors\":[\"A\",\"B\",\"C\",\"D\",\"E\",\"F\",\"G\"]},\"id\":\"1109\",\"type\":\"FactorRange\"},{\"attributes\":{},\"id\":\"1160\",\"type\":\"AllLabels\"},{\"attributes\":{},\"id\":\"1157\",\"type\":\"AllLabels\"},{\"attributes\":{\"fill_color\":{\"value\":\"#1f77b4\"},\"height\":{\"value\":0.9},\"line_color\":{\"value\":\"#1f77b4\"},\"right\":{\"field\":\"right\"},\"y\":{\"field\":\"y\"}},\"id\":\"1137\",\"type\":\"HBar\"},{\"attributes\":{\"overlay\":{\"id\":\"1128\"}},\"id\":\"1124\",\"type\":\"BoxZoomTool\"},{\"attributes\":{},\"id\":\"1126\",\"type\":\"ResetTool\"},{\"attributes\":{},\"id\":\"1156\",\"type\":\"CategoricalTickFormatter\"},{\"attributes\":{\"axis_label_standoff\":10,\"axis_label_text_color\":\"#5B5B5B\",\"axis_label_text_font\":\"Calibri Light\",\"axis_label_text_font_size\":\"1.15em\",\"axis_label_text_font_style\":\"bold\",\"axis_line_alpha\":1,\"axis_line_color\":\"#5B5B5B\",\"coordinates\":null,\"formatter\":{\"id\":\"1156\"},\"group\":null,\"major_label_policy\":{\"id\":\"1157\"},\"major_label_text_color\":\"#5B5B5B\",\"major_label_text_font\":\"Calibri Light\",\"major_label_text_font_size\":\"0.95em\",\"major_label_text_font_style\":\"bold\",\"major_tick_in\":0,\"major_tick_line_alpha\":0.25,\"major_tick_line_color\":\"#5B5B5B\",\"major_tick_out\":3,\"minor_tick_line_alpha\":0.25,\"minor_tick_line_color\":\"#5B5B5B\",\"ticker\":{\"id\":\"1120\"}},\"id\":\"1119\",\"type\":\"CategoricalAxis\"},{\"attributes\":{},\"id\":\"1122\",\"type\":\"PanTool\"},{\"attributes\":{},\"id\":\"1123\",\"type\":\"WheelZoomTool\"},{\"attributes\":{},\"id\":\"1125\",\"type\":\"SaveTool\"},{\"attributes\":{\"coordinates\":null,\"data_source\":{\"id\":\"1136\"},\"glyph\":{\"id\":\"1137\"},\"group\":null,\"hover_glyph\":null,\"muted_glyph\":{\"id\":\"1139\"},\"nonselection_glyph\":{\"id\":\"1138\"},\"view\":{\"id\":\"1141\"}},\"id\":\"1140\",\"type\":\"GlyphRenderer\"},{\"attributes\":{\"bottom_units\":\"screen\",\"coordinates\":null,\"fill_alpha\":0.5,\"fill_color\":\"lightgrey\",\"group\":null,\"left_units\":\"screen\",\"level\":\"overlay\",\"line_alpha\":1.0,\"line_color\":\"black\",\"line_dash\":[4,4],\"line_width\":2,\"right_units\":\"screen\",\"syncable\":false,\"top_units\":\"screen\"},\"id\":\"1128\",\"type\":\"BoxAnnotation\"},{\"attributes\":{},\"id\":\"1127\",\"type\":\"HelpTool\"},{\"attributes\":{\"axis\":{\"id\":\"1119\"},\"coordinates\":null,\"dimension\":1,\"group\":null,\"ticker\":null},\"id\":\"1121\",\"type\":\"Grid\"},{\"attributes\":{\"coordinates\":null,\"group\":null,\"text_color\":\"#5B5B5B\",\"text_font\":\"Calibri Light\",\"text_font_size\":\"1.25em\",\"text_font_style\":\"bold\"},\"id\":\"1153\",\"type\":\"Title\"},{\"attributes\":{},\"id\":\"1113\",\"type\":\"CategoricalScale\"},{\"attributes\":{\"fill_alpha\":{\"value\":0.1},\"fill_color\":{\"value\":\"#1f77b4\"},\"hatch_alpha\":{\"value\":0.1},\"height\":{\"value\":0.9},\"line_alpha\":{\"value\":0.1},\"line_color\":{\"value\":\"#1f77b4\"},\"right\":{\"field\":\"right\"},\"y\":{\"field\":\"y\"}},\"id\":\"1138\",\"type\":\"HBar\"},{\"attributes\":{},\"id\":\"1111\",\"type\":\"LinearScale\"},{\"attributes\":{},\"id\":\"1120\",\"type\":\"CategoricalTicker\"},{\"attributes\":{\"data\":{\"right\":[3,4,5,6,5,4,3],\"y\":[\"A\",\"B\",\"C\",\"D\",\"E\",\"F\",\"G\"]},\"selected\":{\"id\":\"1162\"},\"selection_policy\":{\"id\":\"1161\"}},\"id\":\"1136\",\"type\":\"ColumnDataSource\"},{\"attributes\":{},\"id\":\"1116\",\"type\":\"BasicTicker\"},{\"attributes\":{},\"id\":\"1162\",\"type\":\"Selection\"},{\"attributes\":{\"tools\":[{\"id\":\"1122\"},{\"id\":\"1123\"},{\"id\":\"1124\"},{\"id\":\"1125\"},{\"id\":\"1126\"},{\"id\":\"1127\"}]},\"id\":\"1129\",\"type\":\"Toolbar\"},{\"attributes\":{\"axis\":{\"id\":\"1115\"},\"coordinates\":null,\"group\":null,\"ticker\":null},\"id\":\"1118\",\"type\":\"Grid\"}],\"root_ids\":[\"1106\"]},\"title\":\"Bokeh Application\",\"version\":\"2.4.3\"}};\n  const render_items = [{\"docid\":\"debcd516-83ca-475d-bee7-5ef26e81fd95\",\"root_ids\":[\"1106\"],\"roots\":{\"1106\":\"18ef2b61-d0bb-47a7-8c8d-c3d58c16a634\"}}];\n  root.Bokeh.embed.embed_items_notebook(docs_json, render_items);\n  }\n  if (root.Bokeh !== undefined) {\n    embed_document(root);\n  } else {\n    let attempts = 0;\n    const timer = setInterval(function(root) {\n      if (root.Bokeh !== undefined) {\n        clearInterval(timer);\n        embed_document(root);\n      } else {\n        attempts++;\n        if (attempts > 100) {\n          clearInterval(timer);\n          console.log(\"Bokeh: ERROR: Unable to run BokehJS code because BokehJS library is missing\");\n        }\n      }\n    }, 10, root)\n  }\n})(window);",
      "application/vnd.bokehjs_exec.v0+json": ""
     },
     "metadata": {
      "application/vnd.bokehjs_exec.v0+json": {
       "id": "1106"
      }
     },
     "output_type": "display_data"
    }
   ],
   "source": [
    "\n"
   ]
  },
  {
   "cell_type": "markdown",
   "metadata": {
    "deletable": false,
    "editable": false,
    "function": "preliminary",
    "question_id": 1,
    "run_control": {
     "frozen": true
    }
   },
   "source": [
    "> Puisque `vbar` est une méthode *glyph*, on peut l'utiliser avec des objets `ColumnDataSource` renseignés dans le paramètre `source`. \n",
    ">\n",
    ">Toutes les données, même les différentes couleurs des barres peuvent être insérées dans un `ColumnDataSource` puis utilisées pour configurer le graphique.\n",
    ">\n",
    "> Pour afficher une légende, il faut donner les étiquettes de la légende au paramètre `legend`.\n",
    ">\n",
    "> Il est ensuite possible de configurer l'affichage de celle-ci grâce aux attributs `location` et `orientation` de l'attribut `legend` d'une `figure`:\n",
    ">\n",
    "> ```py\n",
    "    source = ColumnDataSource({\n",
    "                               'catégories' : ['chats', 'chiens']\n",
    "                               'proportions' : [0.4, 0.6]\n",
    "                               'légende' : ['Proportion de chats', 'Proportion de chiens']\n",
    "                             })\n",
    "       ```\n",
    "> ```py\n",
    "    p = figure(x_range = ['chats', 'chiens'],\n",
    "               plot_width = 600, plot_height = 400)\n",
    "    ```\n",
    "> ```py\n",
    "    p.vbar(x = 'catégories',\n",
    "           top = 'proportions',\n",
    "           legend = 'légende',\n",
    "           width = 0.5)\n",
    "    ```\n",
    "> ```py\n",
    "    p.legend.location = 'center'\n",
    "    p.legend.orientation = 'horizontal'\n",
    "    ```\n",
    ">\n",
    "> * `location` spécifie où la légende s'affiche, cet attribut prend comme valeur: `'top_left'`, `'top_center'`, `'top_right'`, `'center_left'`, `'center'`, `'center_right'`, `'bottom_left'`, `'bottom_center'`, `'bottom_right'`.\n",
    ">\n",
    ">\n",
    "> * L'attribut `orientation` prend quant à lui les valeurs `'horizontal'` ou `'vertical'`.\n",
    "\n",
    "* Importer la classe `ColumnDataSource` contenue dans le sous-module `bokeh.models`.\n",
    "\n",
    "\n",
    "* Instancier un objet `ColumnDataSource` nommé `source` à partir des listes **``noms``**,**``valeurs``** et **``couleurs``** fournies dans la cellule suivante.\n",
    "\n",
    "\n",
    "* Instancier une figure de largeur 600 et hauteur 400 telle que l'axe des abscisses représente les catégories contenues dans la liste `noms`.\n",
    "\n",
    "\n",
    "* Créer un diagramme à barres verticales avec:\n",
    "    * abscisses : la liste **`noms`** de `source`.\n",
    "    * ordonnées : la liste **`valeurs`** de `source`.\n",
    "    * épaisseur : 1,5.\n",
    "    * couleurs : la liste **`couleurs`** de `source`.\n",
    "    * légende : la liste **`noms`** de `source`.\n",
    "\n",
    "\n",
    "* Afficher la légende en haut et au centre de la figure avec une orientation horizontale.\n",
    "\n",
    "\n",
    "* Afficher la figure."
   ]
  },
  {
   "cell_type": "code",
   "execution_count": null,
   "outputs": [],
   "source": [
    "## Insérez votre code ici:\n",
    "\n"
   ],
   "metadata": {
    "collapsed": false
   }
  },
  {
   "cell_type": "code",
   "execution_count": 4,
   "metadata": {
    "function": "submission",
    "question_id": 1,
    "ExecuteTime": {
     "end_time": "2023-11-28T10:11:08.457573Z",
     "start_time": "2023-11-28T10:11:08.422970Z"
    }
   },
   "outputs": [
    {
     "data": {
      "text/html": "\n  <div class=\"bk-root\" id=\"b6ca7972-5c46-42f8-a861-3da27518ae28\" data-root-id=\"1220\"></div>\n"
     },
     "metadata": {},
     "output_type": "display_data"
    },
    {
     "data": {
      "application/javascript": "(function(root) {\n  function embed_document(root) {\n  const docs_json = {\"d66ac5f8-880e-4109-97aa-be9f7f78cf8f\":{\"defs\":[],\"roots\":{\"references\":[{\"attributes\":{\"below\":[{\"id\":\"1229\"}],\"center\":[{\"id\":\"1231\"},{\"id\":\"1235\"},{\"id\":\"1267\"}],\"height\":400,\"left\":[{\"id\":\"1232\"}],\"renderers\":[{\"id\":\"1254\"}],\"title\":{\"id\":\"1256\"},\"toolbar\":{\"id\":\"1243\"},\"x_range\":{\"id\":\"1221\"},\"x_scale\":{\"id\":\"1225\"},\"y_range\":{\"id\":\"1223\"},\"y_scale\":{\"id\":\"1227\"}},\"id\":\"1220\",\"subtype\":\"Figure\",\"type\":\"Plot\"},{\"attributes\":{},\"id\":\"1230\",\"type\":\"CategoricalTicker\"},{\"attributes\":{\"axis\":{\"id\":\"1232\"},\"coordinates\":null,\"dimension\":1,\"group\":null,\"ticker\":null},\"id\":\"1235\",\"type\":\"Grid\"},{\"attributes\":{\"source\":{\"id\":\"1219\"}},\"id\":\"1255\",\"type\":\"CDSView\"},{\"attributes\":{\"axis_label_standoff\":10,\"axis_label_text_color\":\"#5B5B5B\",\"axis_label_text_font\":\"Calibri Light\",\"axis_label_text_font_size\":\"1.15em\",\"axis_label_text_font_style\":\"bold\",\"axis_line_alpha\":1,\"axis_line_color\":\"#5B5B5B\",\"coordinates\":null,\"formatter\":{\"id\":\"1262\"},\"group\":null,\"major_label_policy\":{\"id\":\"1263\"},\"major_label_text_color\":\"#5B5B5B\",\"major_label_text_font\":\"Calibri Light\",\"major_label_text_font_size\":\"0.95em\",\"major_label_text_font_style\":\"bold\",\"major_tick_in\":0,\"major_tick_line_alpha\":0.25,\"major_tick_line_color\":\"#5B5B5B\",\"major_tick_out\":3,\"minor_tick_line_alpha\":0.25,\"minor_tick_line_color\":\"#5B5B5B\",\"ticker\":{\"id\":\"1230\"}},\"id\":\"1229\",\"type\":\"CategoricalAxis\"},{\"attributes\":{\"fill_color\":{\"field\":\"couleurs\"},\"hatch_color\":{\"field\":\"couleurs\"},\"line_color\":{\"field\":\"couleurs\"},\"top\":{\"field\":\"valeurs\"},\"width\":{\"value\":1.5},\"x\":{\"field\":\"noms\"}},\"id\":\"1251\",\"type\":\"VBar\"},{\"attributes\":{},\"id\":\"1233\",\"type\":\"BasicTicker\"},{\"attributes\":{},\"id\":\"1227\",\"type\":\"LinearScale\"},{\"attributes\":{\"bottom_units\":\"screen\",\"coordinates\":null,\"fill_alpha\":0.5,\"fill_color\":\"lightgrey\",\"group\":null,\"left_units\":\"screen\",\"level\":\"overlay\",\"line_alpha\":1.0,\"line_color\":\"black\",\"line_dash\":[4,4],\"line_width\":2,\"right_units\":\"screen\",\"syncable\":false,\"top_units\":\"screen\"},\"id\":\"1242\",\"type\":\"BoxAnnotation\"},{\"attributes\":{},\"id\":\"1236\",\"type\":\"PanTool\"},{\"attributes\":{},\"id\":\"1237\",\"type\":\"WheelZoomTool\"},{\"attributes\":{\"label\":{\"value\":\"noms\"},\"renderers\":[{\"id\":\"1254\"}]},\"id\":\"1268\",\"type\":\"LegendItem\"},{\"attributes\":{},\"id\":\"1239\",\"type\":\"SaveTool\"},{\"attributes\":{},\"id\":\"1260\",\"type\":\"AllLabels\"},{\"attributes\":{},\"id\":\"1240\",\"type\":\"ResetTool\"},{\"attributes\":{},\"id\":\"1264\",\"type\":\"UnionRenderers\"},{\"attributes\":{\"overlay\":{\"id\":\"1242\"}},\"id\":\"1238\",\"type\":\"BoxZoomTool\"},{\"attributes\":{},\"id\":\"1263\",\"type\":\"AllLabels\"},{\"attributes\":{\"fill_alpha\":{\"value\":0.1},\"fill_color\":{\"field\":\"couleurs\"},\"hatch_alpha\":{\"value\":0.1},\"hatch_color\":{\"field\":\"couleurs\"},\"line_alpha\":{\"value\":0.1},\"line_color\":{\"field\":\"couleurs\"},\"top\":{\"field\":\"valeurs\"},\"width\":{\"value\":1.5},\"x\":{\"field\":\"noms\"}},\"id\":\"1252\",\"type\":\"VBar\"},{\"attributes\":{},\"id\":\"1265\",\"type\":\"Selection\"},{\"attributes\":{\"data\":{\"couleurs\":[\"yellow\",\"orange\",\"red\",\"pink\",\"purple\",\"blue\",\"black\"],\"noms\":[\"A\",\"B\",\"C\",\"D\",\"E\",\"F\",\"G\"],\"valeurs\":[3,4,5,6,5,4,3]},\"selected\":{\"id\":\"1265\"},\"selection_policy\":{\"id\":\"1264\"}},\"id\":\"1219\",\"type\":\"ColumnDataSource\"},{\"attributes\":{\"coordinates\":null,\"data_source\":{\"id\":\"1219\"},\"glyph\":{\"id\":\"1251\"},\"group\":null,\"hover_glyph\":null,\"muted_glyph\":{\"id\":\"1253\"},\"nonselection_glyph\":{\"id\":\"1252\"},\"view\":{\"id\":\"1255\"}},\"id\":\"1254\",\"type\":\"GlyphRenderer\"},{\"attributes\":{},\"id\":\"1241\",\"type\":\"HelpTool\"},{\"attributes\":{\"tools\":[{\"id\":\"1236\"},{\"id\":\"1237\"},{\"id\":\"1238\"},{\"id\":\"1239\"},{\"id\":\"1240\"},{\"id\":\"1241\"}]},\"id\":\"1243\",\"type\":\"Toolbar\"},{\"attributes\":{},\"id\":\"1223\",\"type\":\"DataRange1d\"},{\"attributes\":{},\"id\":\"1262\",\"type\":\"CategoricalTickFormatter\"},{\"attributes\":{\"fill_alpha\":{\"value\":0.2},\"fill_color\":{\"field\":\"couleurs\"},\"hatch_alpha\":{\"value\":0.2},\"hatch_color\":{\"field\":\"couleurs\"},\"line_alpha\":{\"value\":0.2},\"line_color\":{\"field\":\"couleurs\"},\"top\":{\"field\":\"valeurs\"},\"width\":{\"value\":1.5},\"x\":{\"field\":\"noms\"}},\"id\":\"1253\",\"type\":\"VBar\"},{\"attributes\":{\"coordinates\":null,\"group\":null,\"text_color\":\"#5B5B5B\",\"text_font\":\"Calibri Light\",\"text_font_size\":\"1.25em\",\"text_font_style\":\"bold\"},\"id\":\"1256\",\"type\":\"Title\"},{\"attributes\":{\"factors\":[\"A\",\"B\",\"C\",\"D\",\"E\",\"F\",\"G\"]},\"id\":\"1221\",\"type\":\"FactorRange\"},{\"attributes\":{\"background_fill_alpha\":0.25,\"border_line_alpha\":0,\"coordinates\":null,\"glyph_width\":15,\"group\":null,\"items\":[{\"id\":\"1268\"}],\"label_standoff\":8,\"label_text_color\":\"#5B5B5B\",\"label_text_font\":\"Calibri Light\",\"label_text_font_size\":\"0.95em\",\"label_text_font_style\":\"bold\",\"location\":\"top_center\",\"orientation\":\"horizontal\",\"spacing\":8},\"id\":\"1267\",\"type\":\"Legend\"},{\"attributes\":{\"axis\":{\"id\":\"1229\"},\"coordinates\":null,\"group\":null,\"ticker\":null},\"id\":\"1231\",\"type\":\"Grid\"},{\"attributes\":{},\"id\":\"1225\",\"type\":\"CategoricalScale\"},{\"attributes\":{},\"id\":\"1259\",\"type\":\"BasicTickFormatter\"},{\"attributes\":{\"axis_label_standoff\":10,\"axis_label_text_color\":\"#5B5B5B\",\"axis_label_text_font\":\"Calibri Light\",\"axis_label_text_font_size\":\"1.15em\",\"axis_label_text_font_style\":\"bold\",\"axis_line_alpha\":1,\"axis_line_color\":\"#5B5B5B\",\"coordinates\":null,\"formatter\":{\"id\":\"1259\"},\"group\":null,\"major_label_policy\":{\"id\":\"1260\"},\"major_label_text_color\":\"#5B5B5B\",\"major_label_text_font\":\"Calibri Light\",\"major_label_text_font_size\":\"0.95em\",\"major_label_text_font_style\":\"bold\",\"major_tick_in\":0,\"major_tick_line_alpha\":0.25,\"major_tick_line_color\":\"#5B5B5B\",\"major_tick_out\":3,\"minor_tick_line_alpha\":0.25,\"minor_tick_line_color\":\"#5B5B5B\",\"ticker\":{\"id\":\"1233\"}},\"id\":\"1232\",\"type\":\"LinearAxis\"}],\"root_ids\":[\"1220\"]},\"title\":\"Bokeh Application\",\"version\":\"2.4.3\"}};\n  const render_items = [{\"docid\":\"d66ac5f8-880e-4109-97aa-be9f7f78cf8f\",\"root_ids\":[\"1220\"],\"roots\":{\"1220\":\"b6ca7972-5c46-42f8-a861-3da27518ae28\"}}];\n  root.Bokeh.embed.embed_items_notebook(docs_json, render_items);\n  }\n  if (root.Bokeh !== undefined) {\n    embed_document(root);\n  } else {\n    let attempts = 0;\n    const timer = setInterval(function(root) {\n      if (root.Bokeh !== undefined) {\n        clearInterval(timer);\n        embed_document(root);\n      } else {\n        attempts++;\n        if (attempts > 100) {\n          clearInterval(timer);\n          console.log(\"Bokeh: ERROR: Unable to run BokehJS code because BokehJS library is missing\");\n        }\n      }\n    }, 10, root)\n  }\n})(window);",
      "application/vnd.bokehjs_exec.v0+json": ""
     },
     "metadata": {
      "application/vnd.bokehjs_exec.v0+json": {
       "id": "1220"
      }
     },
     "output_type": "display_data"
    }
   ],
   "source": []
  },
  {
   "cell_type": "markdown",
   "metadata": {
    "collapsed": true,
    "deletable": false,
    "editable": false,
    "function": "preliminary",
    "question_id": 1,
    "run_control": {
     "frozen": true
    }
   },
   "source": [
    "### Barres groupées\n",
    "\n",
    "> Bokeh permet aussi de créer des diagrammes à barres groupées. C'est à dire des diagrammes où plusieurs valeurs peuvent être associées à la même modalité.\n",
    "> Nous allons créer un diagramme à barres groupées verticales.\n",
    ">\n",
    "> Tout d'abord, il faut créer une liste de couples telle que :\n",
    "> * Le **premier indice** du couple correspond à la **modalité**.\n",
    "> * Le **second indice** du couple correspond à la **valeur dans la modalité**.\n",
    ">\n",
    "> Cette liste servira à définir les abscisses de la figure.\n",
    ">\n",
    ">\n",
    "> ```py\n",
    "    modalites = ['A', 'B']                                      # liste de modalités\n",
    "    valeurs = ['valeur 1', 'valeur 2', 'valeur 3']              # liste des valeurs\n",
    "       ```\n",
    "> ```py\n",
    "    x = [(i, j) for i in modalites for j in valeurs]    # création de la liste de couples par compréhension\n",
    "    ```\n",
    ">\n",
    "> L'instruction précédente génère la liste:\n",
    "> ```py\n",
    "    [('A','valeur 1'), ('A','valeur 2'), ('A','valeur 3'), ('B','valeur 1'), ('B','valeur 2'), ('B','valeur 3')]\n",
    "        ```\n",
    "> La définition des ordonnées se fait grâce à une liste où chaque élément est la valeur associée à chaque couple (modalité, valeur) crée dans l'instruction précédente.\n",
    ">\n",
    "> ```py\n",
    "    ordonnees = [2,     # ordonnée de ('A', 'valeur 1')\n",
    "                 5,     # ordonnée de ('A', 'valeur 2')\n",
    "                 3,     # ordonnée de ('A', 'valeur 3')\n",
    "                 1,     # ordonnée de ('B', 'valeur 1')\n",
    "                 3,     # ordonnée de ('B', 'valeur 2')\n",
    "                 2]     # ordonnée de ('B', 'valeur 3')\n",
    "      ```\n",
    "> Une fois que ces listes ont été créées, il faut préciser à la figure le format que devra prendre l'axe des abscisses. Pour cela, on utilise la classe `FactorRange` contenue dans le sous-module `bokeh.models`.\n",
    ">\n",
    "> ```py\n",
    "    from bokeh.models import FactorRange\n",
    "    ```\n",
    "> ```py\n",
    "    factor_range = FactorRange(factors = x)\n",
    "      ```\n",
    "> ```py\n",
    "    p = figure(x_range = factor_range,\n",
    "               plot_width = 600, plot_height = 400)\n",
    "        ```\n",
    ">\n",
    "> Nous pouvons maintenant instancier un diagramme à barres verticales:\n",
    ">\n",
    "> ```py\n",
    "    source = ColumnDataSource({\n",
    "        'x' : x,\n",
    "        'top' : ordonnees})\n",
    "        ```\n",
    "> ```py\n",
    "    p.vbar(x = 'x',\n",
    "           top = 'top',\n",
    "           width = 0.9,\n",
    "           source = source)\n",
    "           ```\n",
    "\n",
    "* A partir des listes `modalites` et `valeurs` fournies dans la cellule suivante, créer par compréhension une liste d'abscisses contenant les couples (modalité, valeur) pour chaque modalité et valeurs qu'elles peuvent prendre.\n",
    "\n",
    "\n",
    "* A partir des listes `valeur1`, `valeur2` et `valeur3`, créer la liste des ordonnées de chaque couple (modalité, valeur).\n",
    "\n",
    "\n",
    "* Instancier un `ColumnDataSource` contenant les listes d'abscisses et d'ordonnées créées dans les questions précédentes."
   ]
  },
  {
   "cell_type": "code",
   "execution_count": null,
   "outputs": [],
   "source": [
    "# Listes de données\n",
    "\n",
    "modalites = ['A', 'B', 'C', 'D', 'E', 'F', 'G'] # modalités\n",
    "valeurs = ['valeur 1', 'valeur 2', 'valeur 3']  # nom des valeurs prises par chaque modalité\n",
    "\n",
    "valeur1 = [2, 1, 4, 3, 2, 4, 7]                 # valeur 1 de chaque modalité\n",
    "valeur2 = [5, 3, 3, 2, 4, 6, 2]                 # valeur 2 de chaque modalité\n",
    "valeur3 = [3, 2, 4, 4, 5, 3, 4]                 # valeur 3 de chaque modalité\n",
    "\n",
    "## Insérez votrze code ici:\n",
    "# Création de la liste de couples par compréhension\n"
   ],
   "metadata": {
    "collapsed": false
   }
  },
  {
   "cell_type": "code",
   "execution_count": 7,
   "metadata": {
    "collapsed": true,
    "function": "preliminary",
    "question_id": 1,
    "ExecuteTime": {
     "end_time": "2023-11-28T10:11:52.127507Z",
     "start_time": "2023-11-28T10:11:52.124083Z"
    }
   },
   "outputs": [],
   "source": [
    "\n"
   ]
  },
  {
   "cell_type": "markdown",
   "metadata": {
    "deletable": false,
    "editable": false,
    "run_control": {
     "frozen": true
    }
   },
   "source": [
    "* Importer la classe `FactorRange` depuis le sous-module `bokeh.models`.\n",
    "\n",
    "\n",
    "* Instancier un objet `FactorRange` à l'aide de la liste d'abscisses créée précédemment.\n",
    "\n",
    "\n",
    "* Instancier une figure de largeur 600 et hauteur 400 en passant l'objet `FactorRange` crée en argument du paramètre `x_range`.\n",
    "\n",
    "\n",
    "* Instancier un diagramme à barres verticales d'épaisseur 0,9 à l'aide du `ColumnDataSource` défini précédemment.\n",
    "\n",
    "\n",
    "* Attribuer la valeur `np.pi / 4` au sous-attribut `major_label_orientation` de l'attribut `xaxis` de la figure. Ceci permet d'incliner les labels de l'axe des abscisses de 45° ($\\frac{\\pi}{4}$ en radian).\n",
    "\n",
    "\n",
    "* Afficher la figure."
   ]
  },
  {
   "cell_type": "code",
   "execution_count": null,
   "outputs": [],
   "source": [
    "import numpy as np\n",
    "\n",
    "### Insérez votre code ici\n"
   ],
   "metadata": {
    "collapsed": false
   }
  },
  {
   "cell_type": "code",
   "execution_count": 8,
   "metadata": {
    "ExecuteTime": {
     "end_time": "2023-11-28T10:12:28.028410Z",
     "start_time": "2023-11-28T10:12:28.004539Z"
    }
   },
   "outputs": [
    {
     "data": {
      "text/html": "\n  <div class=\"bk-root\" id=\"e06472f9-ca77-44dd-943a-3d30e890a591\" data-root-id=\"1416\"></div>\n"
     },
     "metadata": {},
     "output_type": "display_data"
    },
    {
     "data": {
      "application/javascript": "(function(root) {\n  function embed_document(root) {\n  const docs_json = {\"206957c9-e34b-4ac4-8c5f-a49c643d2abd\":{\"defs\":[],\"roots\":{\"references\":[{\"attributes\":{\"below\":[{\"id\":\"1424\"}],\"center\":[{\"id\":\"1426\"},{\"id\":\"1430\"}],\"height\":400,\"left\":[{\"id\":\"1427\"}],\"renderers\":[{\"id\":\"1450\"}],\"title\":{\"id\":\"1485\"},\"toolbar\":{\"id\":\"1438\"},\"x_range\":{\"id\":\"1415\"},\"x_scale\":{\"id\":\"1420\"},\"y_range\":{\"id\":\"1418\"},\"y_scale\":{\"id\":\"1422\"}},\"id\":\"1416\",\"subtype\":\"Figure\",\"type\":\"Plot\"},{\"attributes\":{\"factors\":[[\"A\",\"valeur 1\"],[\"A\",\"valeur 2\"],[\"A\",\"valeur 3\"],[\"B\",\"valeur 1\"],[\"B\",\"valeur 2\"],[\"B\",\"valeur 3\"],[\"C\",\"valeur 1\"],[\"C\",\"valeur 2\"],[\"C\",\"valeur 3\"],[\"D\",\"valeur 1\"],[\"D\",\"valeur 2\"],[\"D\",\"valeur 3\"],[\"E\",\"valeur 1\"],[\"E\",\"valeur 2\"],[\"E\",\"valeur 3\"],[\"F\",\"valeur 1\"],[\"F\",\"valeur 2\"],[\"F\",\"valeur 3\"],[\"G\",\"valeur 1\"],[\"G\",\"valeur 2\"],[\"G\",\"valeur 3\"]]},\"id\":\"1415\",\"type\":\"FactorRange\"},{\"attributes\":{},\"id\":\"1425\",\"type\":\"CategoricalTicker\"},{\"attributes\":{\"tools\":[{\"id\":\"1431\"},{\"id\":\"1432\"},{\"id\":\"1433\"},{\"id\":\"1434\"},{\"id\":\"1435\"},{\"id\":\"1436\"}]},\"id\":\"1438\",\"type\":\"Toolbar\"},{\"attributes\":{},\"id\":\"1492\",\"type\":\"AllLabels\"},{\"attributes\":{},\"id\":\"1418\",\"type\":\"DataRange1d\"},{\"attributes\":{\"axis_label_standoff\":10,\"axis_label_text_color\":\"#5B5B5B\",\"axis_label_text_font\":\"Calibri Light\",\"axis_label_text_font_size\":\"1.15em\",\"axis_label_text_font_style\":\"bold\",\"axis_line_alpha\":1,\"axis_line_color\":\"#5B5B5B\",\"coordinates\":null,\"formatter\":{\"id\":\"1488\"},\"group\":null,\"major_label_policy\":{\"id\":\"1489\"},\"major_label_text_color\":\"#5B5B5B\",\"major_label_text_font\":\"Calibri Light\",\"major_label_text_font_size\":\"0.95em\",\"major_label_text_font_style\":\"bold\",\"major_tick_in\":0,\"major_tick_line_alpha\":0.25,\"major_tick_line_color\":\"#5B5B5B\",\"major_tick_out\":3,\"minor_tick_line_alpha\":0.25,\"minor_tick_line_color\":\"#5B5B5B\",\"ticker\":{\"id\":\"1428\"}},\"id\":\"1427\",\"type\":\"LinearAxis\"},{\"attributes\":{},\"id\":\"1435\",\"type\":\"ResetTool\"},{\"attributes\":{},\"id\":\"1422\",\"type\":\"LinearScale\"},{\"attributes\":{},\"id\":\"1420\",\"type\":\"CategoricalScale\"},{\"attributes\":{},\"id\":\"1491\",\"type\":\"CategoricalTickFormatter\"},{\"attributes\":{\"fill_alpha\":{\"value\":0.1},\"fill_color\":{\"value\":\"#1f77b4\"},\"hatch_alpha\":{\"value\":0.1},\"line_alpha\":{\"value\":0.1},\"line_color\":{\"value\":\"#1f77b4\"},\"top\":{\"field\":\"top\"},\"width\":{\"value\":0.9},\"x\":{\"field\":\"x\"}},\"id\":\"1448\",\"type\":\"VBar\"},{\"attributes\":{},\"id\":\"1436\",\"type\":\"HelpTool\"},{\"attributes\":{\"data\":{\"top\":[2,5,3,1,3,2,4,3,4,3,2,4,2,4,5,4,6,3,7,2,4],\"x\":[[\"A\",\"valeur 1\"],[\"A\",\"valeur 2\"],[\"A\",\"valeur 3\"],[\"B\",\"valeur 1\"],[\"B\",\"valeur 2\"],[\"B\",\"valeur 3\"],[\"C\",\"valeur 1\"],[\"C\",\"valeur 2\"],[\"C\",\"valeur 3\"],[\"D\",\"valeur 1\"],[\"D\",\"valeur 2\"],[\"D\",\"valeur 3\"],[\"E\",\"valeur 1\"],[\"E\",\"valeur 2\"],[\"E\",\"valeur 3\"],[\"F\",\"valeur 1\"],[\"F\",\"valeur 2\"],[\"F\",\"valeur 3\"],[\"G\",\"valeur 1\"],[\"G\",\"valeur 2\"],[\"G\",\"valeur 3\"]]},\"selected\":{\"id\":\"1494\"},\"selection_policy\":{\"id\":\"1493\"}},\"id\":\"1445\",\"type\":\"ColumnDataSource\"},{\"attributes\":{\"coordinates\":null,\"data_source\":{\"id\":\"1445\"},\"glyph\":{\"id\":\"1447\"},\"group\":null,\"hover_glyph\":null,\"muted_glyph\":{\"id\":\"1449\"},\"nonselection_glyph\":{\"id\":\"1448\"},\"view\":{\"id\":\"1451\"}},\"id\":\"1450\",\"type\":\"GlyphRenderer\"},{\"attributes\":{\"coordinates\":null,\"group\":null,\"text_color\":\"#5B5B5B\",\"text_font\":\"Calibri Light\",\"text_font_size\":\"1.25em\",\"text_font_style\":\"bold\"},\"id\":\"1485\",\"type\":\"Title\"},{\"attributes\":{\"source\":{\"id\":\"1445\"}},\"id\":\"1451\",\"type\":\"CDSView\"},{\"attributes\":{\"fill_alpha\":{\"value\":0.2},\"fill_color\":{\"value\":\"#1f77b4\"},\"hatch_alpha\":{\"value\":0.2},\"line_alpha\":{\"value\":0.2},\"line_color\":{\"value\":\"#1f77b4\"},\"top\":{\"field\":\"top\"},\"width\":{\"value\":0.9},\"x\":{\"field\":\"x\"}},\"id\":\"1449\",\"type\":\"VBar\"},{\"attributes\":{},\"id\":\"1494\",\"type\":\"Selection\"},{\"attributes\":{},\"id\":\"1434\",\"type\":\"SaveTool\"},{\"attributes\":{\"axis\":{\"id\":\"1427\"},\"coordinates\":null,\"dimension\":1,\"group\":null,\"ticker\":null},\"id\":\"1430\",\"type\":\"Grid\"},{\"attributes\":{},\"id\":\"1431\",\"type\":\"PanTool\"},{\"attributes\":{},\"id\":\"1493\",\"type\":\"UnionRenderers\"},{\"attributes\":{\"axis_label_standoff\":10,\"axis_label_text_color\":\"#5B5B5B\",\"axis_label_text_font\":\"Calibri Light\",\"axis_label_text_font_size\":\"1.15em\",\"axis_label_text_font_style\":\"bold\",\"axis_line_alpha\":1,\"axis_line_color\":\"#5B5B5B\",\"coordinates\":null,\"formatter\":{\"id\":\"1491\"},\"group\":null,\"major_label_orientation\":0.7853981633974483,\"major_label_policy\":{\"id\":\"1492\"},\"major_label_text_color\":\"#5B5B5B\",\"major_label_text_font\":\"Calibri Light\",\"major_label_text_font_size\":\"0.95em\",\"major_label_text_font_style\":\"bold\",\"major_tick_in\":0,\"major_tick_line_alpha\":0.25,\"major_tick_line_color\":\"#5B5B5B\",\"major_tick_out\":3,\"minor_tick_line_alpha\":0.25,\"minor_tick_line_color\":\"#5B5B5B\",\"ticker\":{\"id\":\"1425\"}},\"id\":\"1424\",\"type\":\"CategoricalAxis\"},{\"attributes\":{},\"id\":\"1428\",\"type\":\"BasicTicker\"},{\"attributes\":{},\"id\":\"1489\",\"type\":\"AllLabels\"},{\"attributes\":{},\"id\":\"1432\",\"type\":\"WheelZoomTool\"},{\"attributes\":{\"overlay\":{\"id\":\"1437\"}},\"id\":\"1433\",\"type\":\"BoxZoomTool\"},{\"attributes\":{\"axis\":{\"id\":\"1424\"},\"coordinates\":null,\"group\":null,\"ticker\":null},\"id\":\"1426\",\"type\":\"Grid\"},{\"attributes\":{\"bottom_units\":\"screen\",\"coordinates\":null,\"fill_alpha\":0.5,\"fill_color\":\"lightgrey\",\"group\":null,\"left_units\":\"screen\",\"level\":\"overlay\",\"line_alpha\":1.0,\"line_color\":\"black\",\"line_dash\":[4,4],\"line_width\":2,\"right_units\":\"screen\",\"syncable\":false,\"top_units\":\"screen\"},\"id\":\"1437\",\"type\":\"BoxAnnotation\"},{\"attributes\":{\"fill_color\":{\"value\":\"#1f77b4\"},\"line_color\":{\"value\":\"#1f77b4\"},\"top\":{\"field\":\"top\"},\"width\":{\"value\":0.9},\"x\":{\"field\":\"x\"}},\"id\":\"1447\",\"type\":\"VBar\"},{\"attributes\":{},\"id\":\"1488\",\"type\":\"BasicTickFormatter\"}],\"root_ids\":[\"1416\"]},\"title\":\"Bokeh Application\",\"version\":\"2.4.3\"}};\n  const render_items = [{\"docid\":\"206957c9-e34b-4ac4-8c5f-a49c643d2abd\",\"root_ids\":[\"1416\"],\"roots\":{\"1416\":\"e06472f9-ca77-44dd-943a-3d30e890a591\"}}];\n  root.Bokeh.embed.embed_items_notebook(docs_json, render_items);\n  }\n  if (root.Bokeh !== undefined) {\n    embed_document(root);\n  } else {\n    let attempts = 0;\n    const timer = setInterval(function(root) {\n      if (root.Bokeh !== undefined) {\n        clearInterval(timer);\n        embed_document(root);\n      } else {\n        attempts++;\n        if (attempts > 100) {\n          clearInterval(timer);\n          console.log(\"Bokeh: ERROR: Unable to run BokehJS code because BokehJS library is missing\");\n        }\n      }\n    }, 10, root)\n  }\n})(window);",
      "application/vnd.bokehjs_exec.v0+json": ""
     },
     "metadata": {
      "application/vnd.bokehjs_exec.v0+json": {
       "id": "1416"
      }
     },
     "output_type": "display_data"
    }
   ],
   "source": []
  },
  {
   "cell_type": "markdown",
   "metadata": {
    "deletable": false,
    "editable": false,
    "function": "preliminary",
    "question_id": 1,
    "run_control": {
     "frozen": true
    }
   },
   "source": [
    "> Une méthode alternative pour obtenir des barres groupées consiste à créer un diagramme à barres pour chaque valeur que peuvent prendre les modalités.\n",
    ">\n",
    ">\n",
    "> En reprenant l'exemple précédent, nous allons d'abord instancier un diagramme à barres verticales avec en abscisse les modalités et en ordonnées la liste `valeur1`, puis un diagramme avec en abscisse les modalités et ordonnées la liste `valeur2` et ainsi de suite.\n",
    ">\n",
    ">\n",
    "> Pour éviter que les diagrammes ne se superposent et obtenir l'effet désiré, il suffira de décaler chaque diagramme sur l'axe des abscisses. Ceci se fait grâce à la fonction `dodge` du sous-module `bokeh.transform` qui permet de générer un dictionnaire d'abscisses catégorielles décalées que nous pourrons passer en argument d'une méthode *glyph*:\n",
    ">\n",
    ">\n",
    "> ```py\n",
    "    modalites = ['A', 'B', 'C', 'D', 'E', 'F', 'G']\n",
    "    valeur1 = [2, 1, 4, 3, 2, 4, 7]\n",
    "    source = ColumnDataSource({\n",
    "            'x' : modalites,\n",
    "            'top' : valeur1,    \n",
    "        })\n",
    "    ```\n",
    "> ```py\n",
    "    p = figure(x_range = modalites)\n",
    "      ```\n",
    "> ```py\n",
    "    from bokeh.transform import dodge\n",
    "       ```\n",
    ">\n",
    "> ```py\n",
    "    abscisses_1 = dodge(field_name = 'x',    # clé correspondant aux abscisses dans la source\n",
    "                        value = 0.25,        # valeur du décalage\n",
    "                        range = p.x_range)   # étendue sur laquelle appliquer le décalage\n",
    "                            ```\n",
    ">\n",
    "> ```py\n",
    "    p.vbar(x = abscisses_1,    # abscisses\n",
    "           top = 'top',        # ordonnées\n",
    "           width = 0.2,        # épaisseur\n",
    "           source = source)    # source des données\n",
    "            ```\n",
    "            \n",
    "* A partir des listes fournies dans la cellule ci-dessous, instancier un objet `ColumnDataSelector` qui sera la source des données à afficher avec les clés suivantes:\n",
    "    * `'x' : modalites`.\n",
    "    * `'valeur 1' : valeur1`.\n",
    "    * `'valeur 2' : valeur2`.\n",
    "    * `'valeur 3' : valeur3`.\n",
    "\n",
    "\n",
    "* Instancier une figure de largeur 600 et hauteur 400 telle que l'axe des abscisses représente les catégories contenues dans la liste `modalites`.\n",
    "\n",
    "\n",
    "* Importer la fonction `dodge` depuis le sous-module `bokeh.transform`.\n",
    "\n",
    "\n",
    "* A l'aide de la fonction `dodge`, créer les dictionnaires d'abscisses `abscisses_1`, `abscisses_2` et `abscisses_3` décalées respectivement de `-0.25`, `0` et `0.25`. Chaque appel de cette fonction devra prendre en argument du paramètre `range` l'étendue de l'axe des abscisses de la figure instanciée précédemment et `'x'` en argument du paramètre `field_name`. Ceci permettra à la méthode *glyph* de faire le lien entre la source et le décalage à appliquer."
   ]
  },
  {
   "cell_type": "code",
   "execution_count": null,
   "outputs": [],
   "source": [
    "# Listes de données\n",
    "\n",
    "modalites = ['A', 'B', 'C', 'D', 'E', 'F', 'G'] # modalités\n",
    "\n",
    "valeur1 = [2, 1, 4, 3, 2, 4, 7]                 # valeur 1 de chaque modalité\n",
    "valeur2 = [5, 3, 3, 2, 4, 6, 2]                 # valeur 2 de chaque modalité\n",
    "valeur3 = [3, 2, 4, 4, 5, 3, 4]                 # valeur 3 de chaque modalité\n",
    "\n",
    "### Insérez votre code ici\n",
    "\n"
   ],
   "metadata": {
    "collapsed": false
   }
  },
  {
   "cell_type": "code",
   "execution_count": 10,
   "metadata": {
    "collapsed": true,
    "function": "submission",
    "question_id": 1,
    "ExecuteTime": {
     "end_time": "2023-11-28T10:15:00.217440Z",
     "start_time": "2023-11-28T10:15:00.212075Z"
    }
   },
   "outputs": [],
   "source": []
  },
  {
   "cell_type": "markdown",
   "metadata": {
    "deletable": false,
    "editable": false,
    "run_control": {
     "frozen": true
    }
   },
   "source": [
    "* Instancier un diagramme à barres verticales d'abscisse `abscisses_1` et d'ordonnée `valeur1`, d'épaisseur 0,2, de couleur rouge et de légende `\"Valeur 1\"`.\n",
    "\n",
    "\n",
    "* Instancier un diagramme à barres verticales d'abscisse `abscisses_2` et d'ordonnée `valeur2`, d'épaisseur 0,2, de couleur verte et de légende `\"Valeur 2\"`.\n",
    "\n",
    "\n",
    "* Instancier un diagramme à barres verticales d'abscisse `abscisses_3` et d'ordonnée `valeur3`, d'épaisseur 0,2, de couleur bleue et de légende `\"Valeur 3\"`.\n",
    "\n",
    "\n",
    "* Afficher la légende horizontalement en haut à gauche de la figure.\n",
    "\n",
    "\n",
    "* Effacer les lignes verticales du graphique en attribuant la valeur `None` au sous-attribut `grid_line_color` de l'attribut `xgrid` de la figure.\n",
    "\n",
    "\n",
    "* Afficher la figure."
   ]
  },
  {
   "cell_type": "code",
   "execution_count": null,
   "outputs": [],
   "source": [
    "## Insérez votre code ici:\n",
    "\n"
   ],
   "metadata": {
    "collapsed": false
   }
  },
  {
   "cell_type": "code",
   "execution_count": 11,
   "metadata": {
    "ExecuteTime": {
     "end_time": "2023-11-28T10:15:24.760195Z",
     "start_time": "2023-11-28T10:15:24.749482Z"
    }
   },
   "outputs": [
    {
     "data": {
      "text/html": "\n  <div class=\"bk-root\" id=\"e303849a-bcbe-4b0f-a161-0096bcba99ea\" data-root-id=\"1698\"></div>\n"
     },
     "metadata": {},
     "output_type": "display_data"
    },
    {
     "data": {
      "application/javascript": "(function(root) {\n  function embed_document(root) {\n  const docs_json = {\"8a0bb795-3e32-44a4-a660-a783a1478743\":{\"defs\":[],\"roots\":{\"references\":[{\"attributes\":{\"below\":[{\"id\":\"1707\"}],\"center\":[{\"id\":\"1709\"},{\"id\":\"1713\"},{\"id\":\"1748\"}],\"height\":400,\"left\":[{\"id\":\"1710\"}],\"renderers\":[{\"id\":\"1735\"},{\"id\":\"1754\"},{\"id\":\"1772\"}],\"title\":{\"id\":\"1737\"},\"toolbar\":{\"id\":\"1721\"},\"x_range\":{\"id\":\"1699\"},\"x_scale\":{\"id\":\"1703\"},\"y_range\":{\"id\":\"1701\"},\"y_scale\":{\"id\":\"1705\"}},\"id\":\"1698\",\"subtype\":\"Figure\",\"type\":\"Plot\"},{\"attributes\":{\"overlay\":{\"id\":\"1720\"}},\"id\":\"1716\",\"type\":\"BoxZoomTool\"},{\"attributes\":{\"coordinates\":null,\"group\":null,\"text_color\":\"#5B5B5B\",\"text_font\":\"Calibri Light\",\"text_font_size\":\"1.25em\",\"text_font_style\":\"bold\"},\"id\":\"1737\",\"type\":\"Title\"},{\"attributes\":{\"source\":{\"id\":\"1697\"}},\"id\":\"1773\",\"type\":\"CDSView\"},{\"attributes\":{\"fill_alpha\":{\"value\":0.2},\"fill_color\":{\"value\":\"blue\"},\"hatch_alpha\":{\"value\":0.2},\"hatch_color\":{\"value\":\"blue\"},\"line_alpha\":{\"value\":0.2},\"line_color\":{\"value\":\"blue\"},\"top\":{\"field\":\"valeur 3\"},\"width\":{\"value\":0.2},\"x\":{\"field\":\"x\",\"transform\":{\"id\":\"1730\"}}},\"id\":\"1771\",\"type\":\"VBar\"},{\"attributes\":{\"label\":{\"value\":\"Valeur 1\"},\"renderers\":[{\"id\":\"1735\"}]},\"id\":\"1749\",\"type\":\"LegendItem\"},{\"attributes\":{\"fill_alpha\":{\"value\":0.1},\"fill_color\":{\"value\":\"green\"},\"hatch_alpha\":{\"value\":0.1},\"hatch_color\":{\"value\":\"green\"},\"line_alpha\":{\"value\":0.1},\"line_color\":{\"value\":\"green\"},\"top\":{\"field\":\"valeur 2\"},\"width\":{\"value\":0.2},\"x\":{\"field\":\"x\",\"transform\":{\"id\":\"1729\"}}},\"id\":\"1752\",\"type\":\"VBar\"},{\"attributes\":{\"label\":{\"value\":\"Valeur 3\"},\"renderers\":[{\"id\":\"1772\"}]},\"id\":\"1785\",\"type\":\"LegendItem\"},{\"attributes\":{\"axis_label_standoff\":10,\"axis_label_text_color\":\"#5B5B5B\",\"axis_label_text_font\":\"Calibri Light\",\"axis_label_text_font_size\":\"1.15em\",\"axis_label_text_font_style\":\"bold\",\"axis_line_alpha\":1,\"axis_line_color\":\"#5B5B5B\",\"coordinates\":null,\"formatter\":{\"id\":\"1740\"},\"group\":null,\"major_label_policy\":{\"id\":\"1741\"},\"major_label_text_color\":\"#5B5B5B\",\"major_label_text_font\":\"Calibri Light\",\"major_label_text_font_size\":\"0.95em\",\"major_label_text_font_style\":\"bold\",\"major_tick_in\":0,\"major_tick_line_alpha\":0.25,\"major_tick_line_color\":\"#5B5B5B\",\"major_tick_out\":3,\"minor_tick_line_alpha\":0.25,\"minor_tick_line_color\":\"#5B5B5B\",\"ticker\":{\"id\":\"1711\"}},\"id\":\"1710\",\"type\":\"LinearAxis\"},{\"attributes\":{},\"id\":\"1745\",\"type\":\"UnionRenderers\"},{\"attributes\":{\"background_fill_alpha\":0.25,\"border_line_alpha\":0,\"coordinates\":null,\"glyph_width\":15,\"group\":null,\"items\":[{\"id\":\"1749\"},{\"id\":\"1767\"},{\"id\":\"1785\"}],\"label_standoff\":8,\"label_text_color\":\"#5B5B5B\",\"label_text_font\":\"Calibri Light\",\"label_text_font_size\":\"0.95em\",\"label_text_font_style\":\"bold\",\"location\":\"top_left\",\"orientation\":\"horizontal\",\"spacing\":8},\"id\":\"1748\",\"type\":\"Legend\"},{\"attributes\":{\"coordinates\":null,\"data_source\":{\"id\":\"1697\"},\"glyph\":{\"id\":\"1751\"},\"group\":null,\"hover_glyph\":null,\"muted_glyph\":{\"id\":\"1753\"},\"nonselection_glyph\":{\"id\":\"1752\"},\"view\":{\"id\":\"1755\"}},\"id\":\"1754\",\"type\":\"GlyphRenderer\"},{\"attributes\":{\"range\":{\"id\":\"1699\"},\"value\":0.25},\"id\":\"1730\",\"type\":\"Dodge\"},{\"attributes\":{\"source\":{\"id\":\"1697\"}},\"id\":\"1736\",\"type\":\"CDSView\"},{\"attributes\":{},\"id\":\"1743\",\"type\":\"CategoricalTickFormatter\"},{\"attributes\":{\"fill_color\":{\"value\":\"green\"},\"hatch_color\":{\"value\":\"green\"},\"line_color\":{\"value\":\"green\"},\"top\":{\"field\":\"valeur 2\"},\"width\":{\"value\":0.2},\"x\":{\"field\":\"x\",\"transform\":{\"id\":\"1729\"}}},\"id\":\"1751\",\"type\":\"VBar\"},{\"attributes\":{\"factors\":[\"A\",\"B\",\"C\",\"D\",\"E\",\"F\",\"G\"]},\"id\":\"1699\",\"type\":\"FactorRange\"},{\"attributes\":{\"label\":{\"value\":\"Valeur 2\"},\"renderers\":[{\"id\":\"1754\"}]},\"id\":\"1767\",\"type\":\"LegendItem\"},{\"attributes\":{\"fill_alpha\":{\"value\":0.2},\"fill_color\":{\"value\":\"green\"},\"hatch_alpha\":{\"value\":0.2},\"hatch_color\":{\"value\":\"green\"},\"line_alpha\":{\"value\":0.2},\"line_color\":{\"value\":\"green\"},\"top\":{\"field\":\"valeur 2\"},\"width\":{\"value\":0.2},\"x\":{\"field\":\"x\",\"transform\":{\"id\":\"1729\"}}},\"id\":\"1753\",\"type\":\"VBar\"},{\"attributes\":{},\"id\":\"1701\",\"type\":\"DataRange1d\"},{\"attributes\":{},\"id\":\"1705\",\"type\":\"LinearScale\"},{\"attributes\":{\"source\":{\"id\":\"1697\"}},\"id\":\"1755\",\"type\":\"CDSView\"},{\"attributes\":{},\"id\":\"1717\",\"type\":\"SaveTool\"},{\"attributes\":{},\"id\":\"1740\",\"type\":\"BasicTickFormatter\"},{\"attributes\":{},\"id\":\"1719\",\"type\":\"HelpTool\"},{\"attributes\":{\"axis_label_standoff\":10,\"axis_label_text_color\":\"#5B5B5B\",\"axis_label_text_font\":\"Calibri Light\",\"axis_label_text_font_size\":\"1.15em\",\"axis_label_text_font_style\":\"bold\",\"axis_line_alpha\":1,\"axis_line_color\":\"#5B5B5B\",\"coordinates\":null,\"formatter\":{\"id\":\"1743\"},\"group\":null,\"major_label_policy\":{\"id\":\"1744\"},\"major_label_text_color\":\"#5B5B5B\",\"major_label_text_font\":\"Calibri Light\",\"major_label_text_font_size\":\"0.95em\",\"major_label_text_font_style\":\"bold\",\"major_tick_in\":0,\"major_tick_line_alpha\":0.25,\"major_tick_line_color\":\"#5B5B5B\",\"major_tick_out\":3,\"minor_tick_line_alpha\":0.25,\"minor_tick_line_color\":\"#5B5B5B\",\"ticker\":{\"id\":\"1708\"}},\"id\":\"1707\",\"type\":\"CategoricalAxis\"},{\"attributes\":{\"axis\":{\"id\":\"1707\"},\"coordinates\":null,\"grid_line_color\":null,\"group\":null,\"ticker\":null},\"id\":\"1709\",\"type\":\"Grid\"},{\"attributes\":{\"bottom_units\":\"screen\",\"coordinates\":null,\"fill_alpha\":0.5,\"fill_color\":\"lightgrey\",\"group\":null,\"left_units\":\"screen\",\"level\":\"overlay\",\"line_alpha\":1.0,\"line_color\":\"black\",\"line_dash\":[4,4],\"line_width\":2,\"right_units\":\"screen\",\"syncable\":false,\"top_units\":\"screen\"},\"id\":\"1720\",\"type\":\"BoxAnnotation\"},{\"attributes\":{\"fill_alpha\":{\"value\":0.1},\"fill_color\":{\"value\":\"blue\"},\"hatch_alpha\":{\"value\":0.1},\"hatch_color\":{\"value\":\"blue\"},\"line_alpha\":{\"value\":0.1},\"line_color\":{\"value\":\"blue\"},\"top\":{\"field\":\"valeur 3\"},\"width\":{\"value\":0.2},\"x\":{\"field\":\"x\",\"transform\":{\"id\":\"1730\"}}},\"id\":\"1770\",\"type\":\"VBar\"},{\"attributes\":{\"fill_color\":{\"value\":\"red\"},\"hatch_color\":{\"value\":\"red\"},\"line_color\":{\"value\":\"red\"},\"top\":{\"field\":\"valeur 1\"},\"width\":{\"value\":0.2},\"x\":{\"field\":\"x\",\"transform\":{\"id\":\"1728\"}}},\"id\":\"1732\",\"type\":\"VBar\"},{\"attributes\":{\"coordinates\":null,\"data_source\":{\"id\":\"1697\"},\"glyph\":{\"id\":\"1732\"},\"group\":null,\"hover_glyph\":null,\"muted_glyph\":{\"id\":\"1734\"},\"nonselection_glyph\":{\"id\":\"1733\"},\"view\":{\"id\":\"1736\"}},\"id\":\"1735\",\"type\":\"GlyphRenderer\"},{\"attributes\":{},\"id\":\"1708\",\"type\":\"CategoricalTicker\"},{\"attributes\":{\"data\":{\"valeur 1\":[2,1,4,3,2,4,7],\"valeur 2\":[5,3,3,2,4,6,2],\"valeur 3\":[3,2,4,4,5,3,4],\"x\":[\"A\",\"B\",\"C\",\"D\",\"E\",\"F\",\"G\"]},\"selected\":{\"id\":\"1746\"},\"selection_policy\":{\"id\":\"1745\"}},\"id\":\"1697\",\"type\":\"ColumnDataSource\"},{\"attributes\":{\"range\":{\"id\":\"1699\"},\"value\":-0.25},\"id\":\"1728\",\"type\":\"Dodge\"},{\"attributes\":{},\"id\":\"1746\",\"type\":\"Selection\"},{\"attributes\":{\"axis\":{\"id\":\"1710\"},\"coordinates\":null,\"dimension\":1,\"group\":null,\"ticker\":null},\"id\":\"1713\",\"type\":\"Grid\"},{\"attributes\":{\"fill_alpha\":{\"value\":0.1},\"fill_color\":{\"value\":\"red\"},\"hatch_alpha\":{\"value\":0.1},\"hatch_color\":{\"value\":\"red\"},\"line_alpha\":{\"value\":0.1},\"line_color\":{\"value\":\"red\"},\"top\":{\"field\":\"valeur 1\"},\"width\":{\"value\":0.2},\"x\":{\"field\":\"x\",\"transform\":{\"id\":\"1728\"}}},\"id\":\"1733\",\"type\":\"VBar\"},{\"attributes\":{\"tools\":[{\"id\":\"1714\"},{\"id\":\"1715\"},{\"id\":\"1716\"},{\"id\":\"1717\"},{\"id\":\"1718\"},{\"id\":\"1719\"}]},\"id\":\"1721\",\"type\":\"Toolbar\"},{\"attributes\":{},\"id\":\"1711\",\"type\":\"BasicTicker\"},{\"attributes\":{},\"id\":\"1714\",\"type\":\"PanTool\"},{\"attributes\":{},\"id\":\"1741\",\"type\":\"AllLabels\"},{\"attributes\":{},\"id\":\"1703\",\"type\":\"CategoricalScale\"},{\"attributes\":{\"fill_color\":{\"value\":\"blue\"},\"hatch_color\":{\"value\":\"blue\"},\"line_color\":{\"value\":\"blue\"},\"top\":{\"field\":\"valeur 3\"},\"width\":{\"value\":0.2},\"x\":{\"field\":\"x\",\"transform\":{\"id\":\"1730\"}}},\"id\":\"1769\",\"type\":\"VBar\"},{\"attributes\":{},\"id\":\"1744\",\"type\":\"AllLabels\"},{\"attributes\":{},\"id\":\"1715\",\"type\":\"WheelZoomTool\"},{\"attributes\":{\"range\":{\"id\":\"1699\"}},\"id\":\"1729\",\"type\":\"Dodge\"},{\"attributes\":{},\"id\":\"1718\",\"type\":\"ResetTool\"},{\"attributes\":{\"fill_alpha\":{\"value\":0.2},\"fill_color\":{\"value\":\"red\"},\"hatch_alpha\":{\"value\":0.2},\"hatch_color\":{\"value\":\"red\"},\"line_alpha\":{\"value\":0.2},\"line_color\":{\"value\":\"red\"},\"top\":{\"field\":\"valeur 1\"},\"width\":{\"value\":0.2},\"x\":{\"field\":\"x\",\"transform\":{\"id\":\"1728\"}}},\"id\":\"1734\",\"type\":\"VBar\"},{\"attributes\":{\"coordinates\":null,\"data_source\":{\"id\":\"1697\"},\"glyph\":{\"id\":\"1769\"},\"group\":null,\"hover_glyph\":null,\"muted_glyph\":{\"id\":\"1771\"},\"nonselection_glyph\":{\"id\":\"1770\"},\"view\":{\"id\":\"1773\"}},\"id\":\"1772\",\"type\":\"GlyphRenderer\"}],\"root_ids\":[\"1698\"]},\"title\":\"Bokeh Application\",\"version\":\"2.4.3\"}};\n  const render_items = [{\"docid\":\"8a0bb795-3e32-44a4-a660-a783a1478743\",\"root_ids\":[\"1698\"],\"roots\":{\"1698\":\"e303849a-bcbe-4b0f-a161-0096bcba99ea\"}}];\n  root.Bokeh.embed.embed_items_notebook(docs_json, render_items);\n  }\n  if (root.Bokeh !== undefined) {\n    embed_document(root);\n  } else {\n    let attempts = 0;\n    const timer = setInterval(function(root) {\n      if (root.Bokeh !== undefined) {\n        clearInterval(timer);\n        embed_document(root);\n      } else {\n        attempts++;\n        if (attempts > 100) {\n          clearInterval(timer);\n          console.log(\"Bokeh: ERROR: Unable to run BokehJS code because BokehJS library is missing\");\n        }\n      }\n    }, 10, root)\n  }\n})(window);",
      "application/vnd.bokehjs_exec.v0+json": ""
     },
     "metadata": {
      "application/vnd.bokehjs_exec.v0+json": {
       "id": "1698"
      }
     },
     "output_type": "display_data"
    }
   ],
   "source": []
  },
  {
   "cell_type": "markdown",
   "metadata": {
    "collapsed": true,
    "deletable": false,
    "editable": false,
    "function": "preliminary",
    "question_id": 1,
    "run_control": {
     "frozen": true
    }
   },
   "source": [
    "### Barres empilées\n",
    "\n",
    "> Les méthodes *glyph* `vbar_stack` et `hbar_stack` permettent de produire des diagrammes à barres empilées.\n",
    ">\n",
    "> Ces méthodes ont un paramètre `stackers` à la place de `top` et `right` qui prend en argument une liste de clés contenues dans la source et correspond aux valeurs à empiler.\n",
    "\n",
    "* A partir des listes fournies dans la cellule ci-dessous, instancier un objet `ColumnDataSelector` qui sera la source des données à afficher avec les clés suivantes:\n",
    "    * `'pays' : pays`.\n",
    "    * `'fields' : valeur1`.\n",
    "    * `'nobels' : valeur2`.\n",
    "    * `'coupes_fifa' : valeur3`.\n",
    "    \n",
    " \n",
    "* Instancier une figure de largeur 600 et hauteur 400 telle que l'axe des abscisses représente les catégories contenues dans la liste `pays`.\n",
    "\n",
    "\n",
    "* A l'aide de la méthode *glyph* `vbar_stack`, instancier un diagramme à barres empilées verticalement d'épaisseur 0.9 tel que les valeurs à empiler soient les récompenses obtenues par chaque pays. Vous pourrez configurer les couleurs et la légende du diagramme à l'aide des listes `couleurs` et `legendes` fournies.\n",
    "\n",
    "\n",
    "* Afficher la légende verticalement en haut à droite de la figure et effacer les lignes verticales de la grille.\n",
    "\n",
    "\n",
    "* Afficher la figure."
   ]
  },
  {
   "cell_type": "code",
   "execution_count": null,
   "outputs": [],
   "source": [
    "# Listes de données\n",
    "\n",
    "pays = ['Etats-Unis', 'France', 'Allemagne', 'Royaume-Uni']     # modalités\n",
    "recompenses = ['fields', 'nobels', 'coupes_fifa']               # noms des valeurs prises par chaque modalité\n",
    "\n",
    "\n",
    "valeur1 = [14, 12, 2, 7]                # nombre de médailles fields pour chaque pays\n",
    "valeur2 = [11, 17, 15, 13]              # nombre de prix nobels en littérature pour chaque pays\n",
    "valeur3 = [0, 2, 4, 1]                  # nombre de coupes du monde FIFA pour chaque pays\n",
    "\n",
    "couleurs = ['red', 'green', 'blue']     # couleur de chaque diagramme\n",
    "\n",
    "legendes = [\"Médailles Fields\", \"Prix Nobels de littérature\", \"Coupes du monde FIFA\"]  # légende de chaque diagramme\n",
    "\n",
    "# Insérez votre code ici\n",
    "\n",
    "\n"
   ],
   "metadata": {
    "collapsed": false
   }
  },
  {
   "cell_type": "code",
   "execution_count": 12,
   "metadata": {
    "function": "submission",
    "question_id": 1,
    "ExecuteTime": {
     "end_time": "2023-11-28T10:15:31.322553Z",
     "start_time": "2023-11-28T10:15:31.262768Z"
    }
   },
   "outputs": [
    {
     "data": {
      "text/html": "\n  <div class=\"bk-root\" id=\"67c9e55c-3041-4178-bf6c-24249234d71e\" data-root-id=\"1908\"></div>\n"
     },
     "metadata": {},
     "output_type": "display_data"
    },
    {
     "data": {
      "application/javascript": "(function(root) {\n  function embed_document(root) {\n  const docs_json = {\"98d54b5c-0435-4acb-9204-fb89ac98da72\":{\"defs\":[],\"roots\":{\"references\":[{\"attributes\":{\"below\":[{\"id\":\"1917\"}],\"center\":[{\"id\":\"1919\"},{\"id\":\"1923\"},{\"id\":\"1961\"}],\"height\":400,\"left\":[{\"id\":\"1920\"}],\"renderers\":[{\"id\":\"1948\"},{\"id\":\"1967\"},{\"id\":\"1985\"}],\"title\":{\"id\":\"1950\"},\"toolbar\":{\"id\":\"1931\"},\"x_range\":{\"id\":\"1909\"},\"x_scale\":{\"id\":\"1913\"},\"y_range\":{\"id\":\"1911\"},\"y_scale\":{\"id\":\"1915\"}},\"id\":\"1908\",\"subtype\":\"Figure\",\"type\":\"Plot\"},{\"attributes\":{\"bottom\":{\"expr\":{\"id\":\"1942\"}},\"fill_color\":{\"value\":\"blue\"},\"hatch_color\":{\"value\":\"blue\"},\"line_color\":{\"value\":\"blue\"},\"top\":{\"expr\":{\"id\":\"1943\"}},\"width\":{\"value\":0.9},\"x\":{\"field\":\"pays\"}},\"id\":\"1982\",\"type\":\"VBar\"},{\"attributes\":{\"coordinates\":null,\"group\":null,\"text_color\":\"#5B5B5B\",\"text_font\":\"Calibri Light\",\"text_font_size\":\"1.25em\",\"text_font_style\":\"bold\"},\"id\":\"1950\",\"type\":\"Title\"},{\"attributes\":{},\"id\":\"1953\",\"type\":\"BasicTickFormatter\"},{\"attributes\":{\"source\":{\"id\":\"1907\"}},\"id\":\"1986\",\"type\":\"CDSView\"},{\"attributes\":{\"coordinates\":null,\"data_source\":{\"id\":\"1907\"},\"glyph\":{\"id\":\"1945\"},\"group\":null,\"hover_glyph\":null,\"muted_glyph\":{\"id\":\"1947\"},\"name\":\"fields\",\"nonselection_glyph\":{\"id\":\"1946\"},\"view\":{\"id\":\"1949\"}},\"id\":\"1948\",\"type\":\"GlyphRenderer\"},{\"attributes\":{},\"id\":\"1954\",\"type\":\"AllLabels\"},{\"attributes\":{},\"id\":\"1913\",\"type\":\"CategoricalScale\"},{\"attributes\":{\"fields\":[\"fields\",\"nobels\"]},\"id\":\"1941\",\"type\":\"Stack\"},{\"attributes\":{\"axis\":{\"id\":\"1920\"},\"coordinates\":null,\"dimension\":1,\"group\":null,\"ticker\":null},\"id\":\"1923\",\"type\":\"Grid\"},{\"attributes\":{\"fields\":[\"fields\"]},\"id\":\"1940\",\"type\":\"Stack\"},{\"attributes\":{\"data\":{\"coupes_fifa\":[0,2,4,1],\"fields\":[14,12,2,7],\"nobels\":[11,17,15,13],\"pays\":[\"Etats-Unis\",\"France\",\"Allemagne\",\"Royaume-Uni\"]},\"selected\":{\"id\":\"1959\"},\"selection_policy\":{\"id\":\"1958\"}},\"id\":\"1907\",\"type\":\"ColumnDataSource\"},{\"attributes\":{},\"id\":\"1921\",\"type\":\"BasicTicker\"},{\"attributes\":{\"axis\":{\"id\":\"1917\"},\"coordinates\":null,\"grid_line_color\":null,\"group\":null,\"ticker\":null},\"id\":\"1919\",\"type\":\"Grid\"},{\"attributes\":{\"bottom\":{\"expr\":{\"id\":\"1938\"}},\"fill_color\":{\"value\":\"red\"},\"hatch_color\":{\"value\":\"red\"},\"line_color\":{\"value\":\"red\"},\"top\":{\"expr\":{\"id\":\"1939\"}},\"width\":{\"value\":0.9},\"x\":{\"field\":\"pays\"}},\"id\":\"1945\",\"type\":\"VBar\"},{\"attributes\":{\"bottom\":{\"expr\":{\"id\":\"1938\"}},\"fill_alpha\":{\"value\":0.1},\"fill_color\":{\"value\":\"red\"},\"hatch_alpha\":{\"value\":0.1},\"hatch_color\":{\"value\":\"red\"},\"line_alpha\":{\"value\":0.1},\"line_color\":{\"value\":\"red\"},\"top\":{\"expr\":{\"id\":\"1939\"}},\"width\":{\"value\":0.9},\"x\":{\"field\":\"pays\"}},\"id\":\"1946\",\"type\":\"VBar\"},{\"attributes\":{\"label\":{\"value\":\"Coupes du monde FIFA\"},\"renderers\":[{\"id\":\"1985\"}]},\"id\":\"1998\",\"type\":\"LegendItem\"},{\"attributes\":{},\"id\":\"1918\",\"type\":\"CategoricalTicker\"},{\"attributes\":{\"bottom\":{\"expr\":{\"id\":\"1942\"}},\"fill_alpha\":{\"value\":0.1},\"fill_color\":{\"value\":\"blue\"},\"hatch_alpha\":{\"value\":0.1},\"hatch_color\":{\"value\":\"blue\"},\"line_alpha\":{\"value\":0.1},\"line_color\":{\"value\":\"blue\"},\"top\":{\"expr\":{\"id\":\"1943\"}},\"width\":{\"value\":0.9},\"x\":{\"field\":\"pays\"}},\"id\":\"1983\",\"type\":\"VBar\"},{\"attributes\":{},\"id\":\"1929\",\"type\":\"HelpTool\"},{\"attributes\":{\"bottom\":{\"expr\":{\"id\":\"1938\"}},\"fill_alpha\":{\"value\":0.2},\"fill_color\":{\"value\":\"red\"},\"hatch_alpha\":{\"value\":0.2},\"hatch_color\":{\"value\":\"red\"},\"line_alpha\":{\"value\":0.2},\"line_color\":{\"value\":\"red\"},\"top\":{\"expr\":{\"id\":\"1939\"}},\"width\":{\"value\":0.9},\"x\":{\"field\":\"pays\"}},\"id\":\"1947\",\"type\":\"VBar\"},{\"attributes\":{},\"id\":\"1956\",\"type\":\"CategoricalTickFormatter\"},{\"attributes\":{\"fields\":[\"fields\",\"nobels\",\"coupes_fifa\"]},\"id\":\"1943\",\"type\":\"Stack\"},{\"attributes\":{\"bottom_units\":\"screen\",\"coordinates\":null,\"fill_alpha\":0.5,\"fill_color\":\"lightgrey\",\"group\":null,\"left_units\":\"screen\",\"level\":\"overlay\",\"line_alpha\":1.0,\"line_color\":\"black\",\"line_dash\":[4,4],\"line_width\":2,\"right_units\":\"screen\",\"syncable\":false,\"top_units\":\"screen\"},\"id\":\"1930\",\"type\":\"BoxAnnotation\"},{\"attributes\":{\"axis_label_standoff\":10,\"axis_label_text_color\":\"#5B5B5B\",\"axis_label_text_font\":\"Calibri Light\",\"axis_label_text_font_size\":\"1.15em\",\"axis_label_text_font_style\":\"bold\",\"axis_line_alpha\":1,\"axis_line_color\":\"#5B5B5B\",\"coordinates\":null,\"formatter\":{\"id\":\"1953\"},\"group\":null,\"major_label_policy\":{\"id\":\"1954\"},\"major_label_text_color\":\"#5B5B5B\",\"major_label_text_font\":\"Calibri Light\",\"major_label_text_font_size\":\"0.95em\",\"major_label_text_font_style\":\"bold\",\"major_tick_in\":0,\"major_tick_line_alpha\":0.25,\"major_tick_line_color\":\"#5B5B5B\",\"major_tick_out\":3,\"minor_tick_line_alpha\":0.25,\"minor_tick_line_color\":\"#5B5B5B\",\"ticker\":{\"id\":\"1921\"}},\"id\":\"1920\",\"type\":\"LinearAxis\"},{\"attributes\":{\"background_fill_alpha\":0.25,\"border_line_alpha\":0,\"coordinates\":null,\"glyph_width\":15,\"group\":null,\"items\":[{\"id\":\"1962\"},{\"id\":\"1980\"},{\"id\":\"1998\"}],\"label_standoff\":8,\"label_text_color\":\"#5B5B5B\",\"label_text_font\":\"Calibri Light\",\"label_text_font_size\":\"0.95em\",\"label_text_font_style\":\"bold\",\"spacing\":8},\"id\":\"1961\",\"type\":\"Legend\"},{\"attributes\":{\"bottom\":{\"expr\":{\"id\":\"1942\"}},\"fill_alpha\":{\"value\":0.2},\"fill_color\":{\"value\":\"blue\"},\"hatch_alpha\":{\"value\":0.2},\"hatch_color\":{\"value\":\"blue\"},\"line_alpha\":{\"value\":0.2},\"line_color\":{\"value\":\"blue\"},\"top\":{\"expr\":{\"id\":\"1943\"}},\"width\":{\"value\":0.9},\"x\":{\"field\":\"pays\"}},\"id\":\"1984\",\"type\":\"VBar\"},{\"attributes\":{},\"id\":\"1957\",\"type\":\"AllLabels\"},{\"attributes\":{\"tools\":[{\"id\":\"1924\"},{\"id\":\"1925\"},{\"id\":\"1926\"},{\"id\":\"1927\"},{\"id\":\"1928\"},{\"id\":\"1929\"}]},\"id\":\"1931\",\"type\":\"Toolbar\"},{\"attributes\":{},\"id\":\"1959\",\"type\":\"Selection\"},{\"attributes\":{\"factors\":[\"Etats-Unis\",\"France\",\"Allemagne\",\"Royaume-Uni\"]},\"id\":\"1909\",\"type\":\"FactorRange\"},{\"attributes\":{\"coordinates\":null,\"data_source\":{\"id\":\"1907\"},\"glyph\":{\"id\":\"1982\"},\"group\":null,\"hover_glyph\":null,\"muted_glyph\":{\"id\":\"1984\"},\"name\":\"coupes_fifa\",\"nonselection_glyph\":{\"id\":\"1983\"},\"view\":{\"id\":\"1986\"}},\"id\":\"1985\",\"type\":\"GlyphRenderer\"},{\"attributes\":{\"fields\":[\"fields\"]},\"id\":\"1939\",\"type\":\"Stack\"},{\"attributes\":{\"bottom\":{\"expr\":{\"id\":\"1940\"}},\"fill_alpha\":{\"value\":0.2},\"fill_color\":{\"value\":\"green\"},\"hatch_alpha\":{\"value\":0.2},\"hatch_color\":{\"value\":\"green\"},\"line_alpha\":{\"value\":0.2},\"line_color\":{\"value\":\"green\"},\"top\":{\"expr\":{\"id\":\"1941\"}},\"width\":{\"value\":0.9},\"x\":{\"field\":\"pays\"}},\"id\":\"1966\",\"type\":\"VBar\"},{\"attributes\":{},\"id\":\"1958\",\"type\":\"UnionRenderers\"},{\"attributes\":{},\"id\":\"1915\",\"type\":\"LinearScale\"},{\"attributes\":{},\"id\":\"1928\",\"type\":\"ResetTool\"},{\"attributes\":{},\"id\":\"1911\",\"type\":\"DataRange1d\"},{\"attributes\":{\"bottom\":{\"expr\":{\"id\":\"1940\"}},\"fill_alpha\":{\"value\":0.1},\"fill_color\":{\"value\":\"green\"},\"hatch_alpha\":{\"value\":0.1},\"hatch_color\":{\"value\":\"green\"},\"line_alpha\":{\"value\":0.1},\"line_color\":{\"value\":\"green\"},\"top\":{\"expr\":{\"id\":\"1941\"}},\"width\":{\"value\":0.9},\"x\":{\"field\":\"pays\"}},\"id\":\"1965\",\"type\":\"VBar\"},{\"attributes\":{\"source\":{\"id\":\"1907\"}},\"id\":\"1949\",\"type\":\"CDSView\"},{\"attributes\":{\"bottom\":{\"expr\":{\"id\":\"1940\"}},\"fill_color\":{\"value\":\"green\"},\"hatch_color\":{\"value\":\"green\"},\"line_color\":{\"value\":\"green\"},\"top\":{\"expr\":{\"id\":\"1941\"}},\"width\":{\"value\":0.9},\"x\":{\"field\":\"pays\"}},\"id\":\"1964\",\"type\":\"VBar\"},{\"attributes\":{\"fields\":[]},\"id\":\"1938\",\"type\":\"Stack\"},{\"attributes\":{\"axis_label_standoff\":10,\"axis_label_text_color\":\"#5B5B5B\",\"axis_label_text_font\":\"Calibri Light\",\"axis_label_text_font_size\":\"1.15em\",\"axis_label_text_font_style\":\"bold\",\"axis_line_alpha\":1,\"axis_line_color\":\"#5B5B5B\",\"coordinates\":null,\"formatter\":{\"id\":\"1956\"},\"group\":null,\"major_label_policy\":{\"id\":\"1957\"},\"major_label_text_color\":\"#5B5B5B\",\"major_label_text_font\":\"Calibri Light\",\"major_label_text_font_size\":\"0.95em\",\"major_label_text_font_style\":\"bold\",\"major_tick_in\":0,\"major_tick_line_alpha\":0.25,\"major_tick_line_color\":\"#5B5B5B\",\"major_tick_out\":3,\"minor_tick_line_alpha\":0.25,\"minor_tick_line_color\":\"#5B5B5B\",\"ticker\":{\"id\":\"1918\"}},\"id\":\"1917\",\"type\":\"CategoricalAxis\"},{\"attributes\":{\"coordinates\":null,\"data_source\":{\"id\":\"1907\"},\"glyph\":{\"id\":\"1964\"},\"group\":null,\"hover_glyph\":null,\"muted_glyph\":{\"id\":\"1966\"},\"name\":\"nobels\",\"nonselection_glyph\":{\"id\":\"1965\"},\"view\":{\"id\":\"1968\"}},\"id\":\"1967\",\"type\":\"GlyphRenderer\"},{\"attributes\":{\"label\":{\"value\":\"Prix Nobels de litt\\u00e9rature\"},\"renderers\":[{\"id\":\"1967\"}]},\"id\":\"1980\",\"type\":\"LegendItem\"},{\"attributes\":{\"source\":{\"id\":\"1907\"}},\"id\":\"1968\",\"type\":\"CDSView\"},{\"attributes\":{},\"id\":\"1924\",\"type\":\"PanTool\"},{\"attributes\":{},\"id\":\"1925\",\"type\":\"WheelZoomTool\"},{\"attributes\":{\"label\":{\"value\":\"M\\u00e9dailles Fields\"},\"renderers\":[{\"id\":\"1948\"}]},\"id\":\"1962\",\"type\":\"LegendItem\"},{\"attributes\":{\"overlay\":{\"id\":\"1930\"}},\"id\":\"1926\",\"type\":\"BoxZoomTool\"},{\"attributes\":{\"fields\":[\"fields\",\"nobels\"]},\"id\":\"1942\",\"type\":\"Stack\"},{\"attributes\":{},\"id\":\"1927\",\"type\":\"SaveTool\"}],\"root_ids\":[\"1908\"]},\"title\":\"Bokeh Application\",\"version\":\"2.4.3\"}};\n  const render_items = [{\"docid\":\"98d54b5c-0435-4acb-9204-fb89ac98da72\",\"root_ids\":[\"1908\"],\"roots\":{\"1908\":\"67c9e55c-3041-4178-bf6c-24249234d71e\"}}];\n  root.Bokeh.embed.embed_items_notebook(docs_json, render_items);\n  }\n  if (root.Bokeh !== undefined) {\n    embed_document(root);\n  } else {\n    let attempts = 0;\n    const timer = setInterval(function(root) {\n      if (root.Bokeh !== undefined) {\n        clearInterval(timer);\n        embed_document(root);\n      } else {\n        attempts++;\n        if (attempts > 100) {\n          clearInterval(timer);\n          console.log(\"Bokeh: ERROR: Unable to run BokehJS code because BokehJS library is missing\");\n        }\n      }\n    }, 10, root)\n  }\n})(window);",
      "application/vnd.bokehjs_exec.v0+json": ""
     },
     "metadata": {
      "application/vnd.bokehjs_exec.v0+json": {
       "id": "1908"
      }
     },
     "output_type": "display_data"
    }
   ],
   "source": []
  }
 ],
 "metadata": {
  "hide_input": false,
  "kernelspec": {
   "display_name": "Python3 default",
   "language": "python",
   "name": "python3"
  },
  "language_info": {
   "codemirror_mode": {
    "name": "ipython",
    "version": 3
   },
   "file_extension": ".py",
   "mimetype": "text/x-python",
   "name": "python",
   "nbconvert_exporter": "python",
   "pygments_lexer": "ipython3",
   "version": "3.6.5"
  },
  "latex_envs": {
   "LaTeX_envs_menu_present": true,
   "autoclose": false,
   "autocomplete": true,
   "bibliofile": "biblio.bib",
   "cite_by": "apalike",
   "current_citInitial": 1,
   "eqLabelWithNumbers": true,
   "eqNumInitial": 1,
   "hotkeys": {
    "equation": "Ctrl-E",
    "itemize": "Ctrl-I"
   },
   "labels_anchors": false,
   "latex_user_defs": false,
   "report_style_numbering": false,
   "user_envs_cfg": false
  },
  "n_questions": 1
 },
 "nbformat": 4,
 "nbformat_minor": 2
}
