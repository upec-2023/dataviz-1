{
 "cells": [
  {
   "cell_type": "markdown",
   "metadata": {
    "deletable": false,
    "editable": false,
    "function": "preliminary",
    "question_id": 1,
    "run_control": {
     "frozen": true
    }
   },
   "source": [
    "\n",
    "<hr style=\"border-width:2px;border-color:#75DFC1\">\n",
    "<center><h1>Introduction à la visualisation de données avec Bokeh</h1></center>\n",
    "<center><h2>Créer des cartes géographiques</h2></center>\n",
    "<hr style=\"border-width:2px;border-color:#75DFC1\">\n",
    "\n",
    "> Dans cet exercice nous allons voir comment visualiser des données géographiques avec **Bokeh**. Pour cela nous utiliserons principalement la tuile `'CARTODBPOSITRON'` provenant du sous-module **bokeh.tile_providers** même si d'autres manières de faire existent.\n",
    "\n",
    "* Exécuter cette cellule pour mettre en place l'environnement de travail."
   ]
  },
  {
   "cell_type": "code",
   "execution_count": 2,
   "metadata": {
    "function": "preliminary",
    "question_id": 1,
    "ExecuteTime": {
     "end_time": "2023-11-28T10:20:13.245373Z",
     "start_time": "2023-11-28T10:20:13.240808Z"
    }
   },
   "outputs": [
    {
     "data": {
      "text/html": "<div class=\"bk-root\">\n        <a href=\"https://bokeh.org\" target=\"_blank\" class=\"bk-logo bk-logo-small bk-logo-notebook\"></a>\n        <span id=\"1003\">Loading BokehJS ...</span>\n    </div>\n"
     },
     "metadata": {},
     "output_type": "display_data"
    },
    {
     "data": {
      "application/javascript": "(function(root) {\n  function now() {\n    return new Date();\n  }\n\n  const force = true;\n\n  if (typeof root._bokeh_onload_callbacks === \"undefined\" || force === true) {\n    root._bokeh_onload_callbacks = [];\n    root._bokeh_is_loading = undefined;\n  }\n\nconst JS_MIME_TYPE = 'application/javascript';\n  const HTML_MIME_TYPE = 'text/html';\n  const EXEC_MIME_TYPE = 'application/vnd.bokehjs_exec.v0+json';\n  const CLASS_NAME = 'output_bokeh rendered_html';\n\n  /**\n   * Render data to the DOM node\n   */\n  function render(props, node) {\n    const script = document.createElement(\"script\");\n    node.appendChild(script);\n  }\n\n  /**\n   * Handle when an output is cleared or removed\n   */\n  function handleClearOutput(event, handle) {\n    const cell = handle.cell;\n\n    const id = cell.output_area._bokeh_element_id;\n    const server_id = cell.output_area._bokeh_server_id;\n    // Clean up Bokeh references\n    if (id != null && id in Bokeh.index) {\n      Bokeh.index[id].model.document.clear();\n      delete Bokeh.index[id];\n    }\n\n    if (server_id !== undefined) {\n      // Clean up Bokeh references\n      const cmd_clean = \"from bokeh.io.state import curstate; print(curstate().uuid_to_server['\" + server_id + \"'].get_sessions()[0].document.roots[0]._id)\";\n      cell.notebook.kernel.execute(cmd_clean, {\n        iopub: {\n          output: function(msg) {\n            const id = msg.content.text.trim();\n            if (id in Bokeh.index) {\n              Bokeh.index[id].model.document.clear();\n              delete Bokeh.index[id];\n            }\n          }\n        }\n      });\n      // Destroy server and session\n      const cmd_destroy = \"import bokeh.io.notebook as ion; ion.destroy_server('\" + server_id + \"')\";\n      cell.notebook.kernel.execute(cmd_destroy);\n    }\n  }\n\n  /**\n   * Handle when a new output is added\n   */\n  function handleAddOutput(event, handle) {\n    const output_area = handle.output_area;\n    const output = handle.output;\n\n    // limit handleAddOutput to display_data with EXEC_MIME_TYPE content only\n    if ((output.output_type != \"display_data\") || (!Object.prototype.hasOwnProperty.call(output.data, EXEC_MIME_TYPE))) {\n      return\n    }\n\n    const toinsert = output_area.element.find(\".\" + CLASS_NAME.split(' ')[0]);\n\n    if (output.metadata[EXEC_MIME_TYPE][\"id\"] !== undefined) {\n      toinsert[toinsert.length - 1].firstChild.textContent = output.data[JS_MIME_TYPE];\n      // store reference to embed id on output_area\n      output_area._bokeh_element_id = output.metadata[EXEC_MIME_TYPE][\"id\"];\n    }\n    if (output.metadata[EXEC_MIME_TYPE][\"server_id\"] !== undefined) {\n      const bk_div = document.createElement(\"div\");\n      bk_div.innerHTML = output.data[HTML_MIME_TYPE];\n      const script_attrs = bk_div.children[0].attributes;\n      for (let i = 0; i < script_attrs.length; i++) {\n        toinsert[toinsert.length - 1].firstChild.setAttribute(script_attrs[i].name, script_attrs[i].value);\n        toinsert[toinsert.length - 1].firstChild.textContent = bk_div.children[0].textContent\n      }\n      // store reference to server id on output_area\n      output_area._bokeh_server_id = output.metadata[EXEC_MIME_TYPE][\"server_id\"];\n    }\n  }\n\n  function register_renderer(events, OutputArea) {\n\n    function append_mime(data, metadata, element) {\n      // create a DOM node to render to\n      const toinsert = this.create_output_subarea(\n        metadata,\n        CLASS_NAME,\n        EXEC_MIME_TYPE\n      );\n      this.keyboard_manager.register_events(toinsert);\n      // Render to node\n      const props = {data: data, metadata: metadata[EXEC_MIME_TYPE]};\n      render(props, toinsert[toinsert.length - 1]);\n      element.append(toinsert);\n      return toinsert\n    }\n\n    /* Handle when an output is cleared or removed */\n    events.on('clear_output.CodeCell', handleClearOutput);\n    events.on('delete.Cell', handleClearOutput);\n\n    /* Handle when a new output is added */\n    events.on('output_added.OutputArea', handleAddOutput);\n\n    /**\n     * Register the mime type and append_mime function with output_area\n     */\n    OutputArea.prototype.register_mime_type(EXEC_MIME_TYPE, append_mime, {\n      /* Is output safe? */\n      safe: true,\n      /* Index of renderer in `output_area.display_order` */\n      index: 0\n    });\n  }\n\n  // register the mime type if in Jupyter Notebook environment and previously unregistered\n  if (root.Jupyter !== undefined) {\n    const events = require('base/js/events');\n    const OutputArea = require('notebook/js/outputarea').OutputArea;\n\n    if (OutputArea.prototype.mime_types().indexOf(EXEC_MIME_TYPE) == -1) {\n      register_renderer(events, OutputArea);\n    }\n  }\n  if (typeof (root._bokeh_timeout) === \"undefined\" || force === true) {\n    root._bokeh_timeout = Date.now() + 5000;\n    root._bokeh_failed_load = false;\n  }\n\n  const NB_LOAD_WARNING = {'data': {'text/html':\n     \"<div style='background-color: #fdd'>\\n\"+\n     \"<p>\\n\"+\n     \"BokehJS does not appear to have successfully loaded. If loading BokehJS from CDN, this \\n\"+\n     \"may be due to a slow or bad network connection. Possible fixes:\\n\"+\n     \"</p>\\n\"+\n     \"<ul>\\n\"+\n     \"<li>re-rerun `output_notebook()` to attempt to load from CDN again, or</li>\\n\"+\n     \"<li>use INLINE resources instead, as so:</li>\\n\"+\n     \"</ul>\\n\"+\n     \"<code>\\n\"+\n     \"from bokeh.resources import INLINE\\n\"+\n     \"output_notebook(resources=INLINE)\\n\"+\n     \"</code>\\n\"+\n     \"</div>\"}};\n\n  function display_loaded() {\n    const el = document.getElementById(\"1003\");\n    if (el != null) {\n      el.textContent = \"BokehJS is loading...\";\n    }\n    if (root.Bokeh !== undefined) {\n      if (el != null) {\n        el.textContent = \"BokehJS \" + root.Bokeh.version + \" successfully loaded.\";\n      }\n    } else if (Date.now() < root._bokeh_timeout) {\n      setTimeout(display_loaded, 100)\n    }\n  }\n\n  function run_callbacks() {\n    try {\n      root._bokeh_onload_callbacks.forEach(function(callback) {\n        if (callback != null)\n          callback();\n      });\n    } finally {\n      delete root._bokeh_onload_callbacks\n    }\n    console.debug(\"Bokeh: all callbacks have finished\");\n  }\n\n  function load_libs(css_urls, js_urls, callback) {\n    if (css_urls == null) css_urls = [];\n    if (js_urls == null) js_urls = [];\n\n    root._bokeh_onload_callbacks.push(callback);\n    if (root._bokeh_is_loading > 0) {\n      console.debug(\"Bokeh: BokehJS is being loaded, scheduling callback at\", now());\n      return null;\n    }\n    if (js_urls == null || js_urls.length === 0) {\n      run_callbacks();\n      return null;\n    }\n    console.debug(\"Bokeh: BokehJS not loaded, scheduling load and callback at\", now());\n    root._bokeh_is_loading = css_urls.length + js_urls.length;\n\n    function on_load() {\n      root._bokeh_is_loading--;\n      if (root._bokeh_is_loading === 0) {\n        console.debug(\"Bokeh: all BokehJS libraries/stylesheets loaded\");\n        run_callbacks()\n      }\n    }\n\n    function on_error(url) {\n      console.error(\"failed to load \" + url);\n    }\n\n    for (let i = 0; i < css_urls.length; i++) {\n      const url = css_urls[i];\n      const element = document.createElement(\"link\");\n      element.onload = on_load;\n      element.onerror = on_error.bind(null, url);\n      element.rel = \"stylesheet\";\n      element.type = \"text/css\";\n      element.href = url;\n      console.debug(\"Bokeh: injecting link tag for BokehJS stylesheet: \", url);\n      document.body.appendChild(element);\n    }\n\n    for (let i = 0; i < js_urls.length; i++) {\n      const url = js_urls[i];\n      const element = document.createElement('script');\n      element.onload = on_load;\n      element.onerror = on_error.bind(null, url);\n      element.async = false;\n      element.src = url;\n      console.debug(\"Bokeh: injecting script tag for BokehJS library: \", url);\n      document.head.appendChild(element);\n    }\n  };\n\n  function inject_raw_css(css) {\n    const element = document.createElement(\"style\");\n    element.appendChild(document.createTextNode(css));\n    document.body.appendChild(element);\n  }\n\n  const js_urls = [\"https://cdn.bokeh.org/bokeh/release/bokeh-2.4.3.min.js\", \"https://cdn.bokeh.org/bokeh/release/bokeh-gl-2.4.3.min.js\", \"https://cdn.bokeh.org/bokeh/release/bokeh-widgets-2.4.3.min.js\", \"https://cdn.bokeh.org/bokeh/release/bokeh-tables-2.4.3.min.js\", \"https://cdn.bokeh.org/bokeh/release/bokeh-mathjax-2.4.3.min.js\"];\n  const css_urls = [];\n\n  const inline_js = [    function(Bokeh) {\n      Bokeh.set_log_level(\"info\");\n    },\nfunction(Bokeh) {\n    }\n  ];\n\n  function run_inline_js() {\n    if (root.Bokeh !== undefined || force === true) {\n          for (let i = 0; i < inline_js.length; i++) {\n      inline_js[i].call(root, root.Bokeh);\n    }\nif (force === true) {\n        display_loaded();\n      }} else if (Date.now() < root._bokeh_timeout) {\n      setTimeout(run_inline_js, 100);\n    } else if (!root._bokeh_failed_load) {\n      console.log(\"Bokeh: BokehJS failed to load within specified timeout.\");\n      root._bokeh_failed_load = true;\n    } else if (force !== true) {\n      const cell = $(document.getElementById(\"1003\")).parents('.cell').data().cell;\n      cell.output_area.append_execute_result(NB_LOAD_WARNING)\n    }\n  }\n\n  if (root._bokeh_is_loading === 0) {\n    console.debug(\"Bokeh: BokehJS loaded, going straight to plotting\");\n    run_inline_js();\n  } else {\n    load_libs(css_urls, js_urls, function() {\n      console.debug(\"Bokeh: BokehJS plotting callback run at\", now());\n      run_inline_js();\n    });\n  }\n}(window));",
      "application/vnd.bokehjs_load.v0+json": "(function(root) {\n  function now() {\n    return new Date();\n  }\n\n  const force = true;\n\n  if (typeof root._bokeh_onload_callbacks === \"undefined\" || force === true) {\n    root._bokeh_onload_callbacks = [];\n    root._bokeh_is_loading = undefined;\n  }\n\n\n  if (typeof (root._bokeh_timeout) === \"undefined\" || force === true) {\n    root._bokeh_timeout = Date.now() + 5000;\n    root._bokeh_failed_load = false;\n  }\n\n  const NB_LOAD_WARNING = {'data': {'text/html':\n     \"<div style='background-color: #fdd'>\\n\"+\n     \"<p>\\n\"+\n     \"BokehJS does not appear to have successfully loaded. If loading BokehJS from CDN, this \\n\"+\n     \"may be due to a slow or bad network connection. Possible fixes:\\n\"+\n     \"</p>\\n\"+\n     \"<ul>\\n\"+\n     \"<li>re-rerun `output_notebook()` to attempt to load from CDN again, or</li>\\n\"+\n     \"<li>use INLINE resources instead, as so:</li>\\n\"+\n     \"</ul>\\n\"+\n     \"<code>\\n\"+\n     \"from bokeh.resources import INLINE\\n\"+\n     \"output_notebook(resources=INLINE)\\n\"+\n     \"</code>\\n\"+\n     \"</div>\"}};\n\n  function display_loaded() {\n    const el = document.getElementById(\"1003\");\n    if (el != null) {\n      el.textContent = \"BokehJS is loading...\";\n    }\n    if (root.Bokeh !== undefined) {\n      if (el != null) {\n        el.textContent = \"BokehJS \" + root.Bokeh.version + \" successfully loaded.\";\n      }\n    } else if (Date.now() < root._bokeh_timeout) {\n      setTimeout(display_loaded, 100)\n    }\n  }\n\n  function run_callbacks() {\n    try {\n      root._bokeh_onload_callbacks.forEach(function(callback) {\n        if (callback != null)\n          callback();\n      });\n    } finally {\n      delete root._bokeh_onload_callbacks\n    }\n    console.debug(\"Bokeh: all callbacks have finished\");\n  }\n\n  function load_libs(css_urls, js_urls, callback) {\n    if (css_urls == null) css_urls = [];\n    if (js_urls == null) js_urls = [];\n\n    root._bokeh_onload_callbacks.push(callback);\n    if (root._bokeh_is_loading > 0) {\n      console.debug(\"Bokeh: BokehJS is being loaded, scheduling callback at\", now());\n      return null;\n    }\n    if (js_urls == null || js_urls.length === 0) {\n      run_callbacks();\n      return null;\n    }\n    console.debug(\"Bokeh: BokehJS not loaded, scheduling load and callback at\", now());\n    root._bokeh_is_loading = css_urls.length + js_urls.length;\n\n    function on_load() {\n      root._bokeh_is_loading--;\n      if (root._bokeh_is_loading === 0) {\n        console.debug(\"Bokeh: all BokehJS libraries/stylesheets loaded\");\n        run_callbacks()\n      }\n    }\n\n    function on_error(url) {\n      console.error(\"failed to load \" + url);\n    }\n\n    for (let i = 0; i < css_urls.length; i++) {\n      const url = css_urls[i];\n      const element = document.createElement(\"link\");\n      element.onload = on_load;\n      element.onerror = on_error.bind(null, url);\n      element.rel = \"stylesheet\";\n      element.type = \"text/css\";\n      element.href = url;\n      console.debug(\"Bokeh: injecting link tag for BokehJS stylesheet: \", url);\n      document.body.appendChild(element);\n    }\n\n    for (let i = 0; i < js_urls.length; i++) {\n      const url = js_urls[i];\n      const element = document.createElement('script');\n      element.onload = on_load;\n      element.onerror = on_error.bind(null, url);\n      element.async = false;\n      element.src = url;\n      console.debug(\"Bokeh: injecting script tag for BokehJS library: \", url);\n      document.head.appendChild(element);\n    }\n  };\n\n  function inject_raw_css(css) {\n    const element = document.createElement(\"style\");\n    element.appendChild(document.createTextNode(css));\n    document.body.appendChild(element);\n  }\n\n  const js_urls = [\"https://cdn.bokeh.org/bokeh/release/bokeh-2.4.3.min.js\", \"https://cdn.bokeh.org/bokeh/release/bokeh-gl-2.4.3.min.js\", \"https://cdn.bokeh.org/bokeh/release/bokeh-widgets-2.4.3.min.js\", \"https://cdn.bokeh.org/bokeh/release/bokeh-tables-2.4.3.min.js\", \"https://cdn.bokeh.org/bokeh/release/bokeh-mathjax-2.4.3.min.js\"];\n  const css_urls = [];\n\n  const inline_js = [    function(Bokeh) {\n      Bokeh.set_log_level(\"info\");\n    },\nfunction(Bokeh) {\n    }\n  ];\n\n  function run_inline_js() {\n    if (root.Bokeh !== undefined || force === true) {\n          for (let i = 0; i < inline_js.length; i++) {\n      inline_js[i].call(root, root.Bokeh);\n    }\nif (force === true) {\n        display_loaded();\n      }} else if (Date.now() < root._bokeh_timeout) {\n      setTimeout(run_inline_js, 100);\n    } else if (!root._bokeh_failed_load) {\n      console.log(\"Bokeh: BokehJS failed to load within specified timeout.\");\n      root._bokeh_failed_load = true;\n    } else if (force !== true) {\n      const cell = $(document.getElementById(\"1003\")).parents('.cell').data().cell;\n      cell.output_area.append_execute_result(NB_LOAD_WARNING)\n    }\n  }\n\n  if (root._bokeh_is_loading === 0) {\n    console.debug(\"Bokeh: BokehJS loaded, going straight to plotting\");\n    run_inline_js();\n  } else {\n    load_libs(css_urls, js_urls, function() {\n      console.debug(\"Bokeh: BokehJS plotting callback run at\", now());\n      run_inline_js();\n    });\n  }\n}(window));"
     },
     "metadata": {},
     "output_type": "display_data"
    }
   ],
   "source": [
    "import warnings\n",
    "warnings.filterwarnings(\"ignore\")\n",
    "# Importation des modules standards\n",
    "import pandas as pd\n",
    "import numpy as np \n",
    "\n",
    "# Importation des fonctions dont l'on se servira pour toutes les figures\n",
    "from bokeh.plotting import figure, output_notebook, show\n",
    "\n",
    "# Précision de l'affichage des graphiques dans des cellules jupyter\n",
    "output_notebook()"
   ]
  },
  {
   "cell_type": "markdown",
   "metadata": {
    "deletable": false,
    "editable": false,
    "function": "preliminary",
    "question_id": 1,
    "run_control": {
     "frozen": true
    }
   },
   "source": [
    "> Nous allons maintenant charger un jeu de données qui contient l'emplacement de nombreuses villes du monde. Elles sont référencées par leurs latitudes et leurs longitudes.\n",
    "\n",
    "* Charger dans un `DataFrame` nommé **`df`** la base de données *locations.csv* à l'aide de la fonction `read_csv` du package `pandas`.\n",
    "\n",
    "\n",
    "* Afficher les 5 premières lignes du jeu de données."
   ]
  },
  {
   "cell_type": "code",
   "execution_count": null,
   "outputs": [],
   "source": [
    "### Insérez votre code ici\n"
   ],
   "metadata": {
    "collapsed": false
   }
  },
  {
   "cell_type": "code",
   "execution_count": 3,
   "metadata": {
    "function": "submission",
    "question_id": 1,
    "ExecuteTime": {
     "end_time": "2023-11-28T10:20:14.717831Z",
     "start_time": "2023-11-28T10:20:14.708382Z"
    }
   },
   "outputs": [
    {
     "name": "stdout",
     "output_type": "stream",
     "text": [
      "                               location_name           lat           lng\n",
      "0                             malomo, Malawi -1.477887e+06  3.764225e+06\n",
      "1                        El Carrizal, Mexico  2.342341e+06 -1.117616e+07\n",
      "2             Linakeng, Thaba Tseka, Lesotho -3.448365e+06  3.222031e+06\n",
      "3  Villa Hermosa de Buenos Aires, Costa Rica  1.191516e+06 -9.511440e+06\n",
      "4                              Rike, Georgia  5.115103e+06  4.988241e+06\n"
     ]
    }
   ],
   "source": [
    "\n"
   ]
  },
  {
   "cell_type": "markdown",
   "metadata": {
    "deletable": false,
    "editable": false,
    "function": "preliminary",
    "question_id": 1,
    "run_control": {
     "frozen": true
    }
   },
   "source": [
    "> Il est souvent utile de pouvoir relier des ensembles de données avec leur contexte réel. On peut représenter des données géographiques comme n'importe quel autre type de données ,en visualisant la distribution de celles-ci par exemple, mais **Bokeh** fournit plusieurs méthodes spécialisées pour visualiser des données géographiques de façon intéressante :\n",
    ">\n",
    "> * La fonction `gmap` du sous-module **bokeh.plotting** permet de créer une figure **Bokeh** sur une carte *Google Maps*.\n",
    ">\n",
    ">\n",
    "> * Le sous-module **bokeh.tile_providers** qui contient la fonction `get_provider`permettant de récupérer des tuiles telles que `'CARTODBPOSITRON'` permet de récupérer des données géographiques à partir de n'importe quel serveur de cartes, comme *Google Maps*, *Stamen*, *MapQuest*, *OpenStreetMap*, *ESRI* ou d'un serveur personnalisé.\n",
    ">\n",
    ">\n",
    "> * Le format `GeoJSON` que l'on peut exploiter en important la classe `GeoJSONDataSource` du sous-module **bokeh.models** permet de lire des données au format *GeoJSON*, similaire à un objet de type `ColumnDataSource`, que l'on peut utiliser de la même façon qu'une `figure` et qui a donc les mêmes méthodes *glyphs*.\n",
    ">\n",
    "> Pour plus d'informations concernant ces différentes méthodes de représentation de données géographiques, vous pouvez regarder [ceci](https://bokeh.pydata.org/en/latest/docs/user_guide/geo.html#). Ici, nous allons seulement exploiter la tuile `CARTODBPOSITRON`.\n",
    "\n",
    "* Importer la fonction `get_provider` du sous-module **bokeh.tile_providers**.\n",
    "\n",
    "\n",
    "* Affecter à la variable **`tuile`** le résultat de l'appel de la fonction `get_provider` avec l'argument `'CARTODBPOSITRON'`.\n",
    "\n",
    "\n",
    "* Créer une figure dont les paramètres `x_range`, `y_range`, `x_axis_type` et `y_axis_type` sont respectivement égaux à `(-1000000, 7000000)`, `(-7000000, 9000000)`, `'mercator'` et `'mercator'`.\n",
    "\n",
    "\n",
    "* Ajouter la tuile **`tuile`** à la `figure` grâce à sa méthode `add_tile`."
   ]
  },
  {
   "cell_type": "code",
   "execution_count": null,
   "outputs": [],
   "source": [
    "### Insérez votre code ici\n"
   ],
   "metadata": {
    "collapsed": false
   }
  },
  {
   "cell_type": "code",
   "execution_count": 6,
   "metadata": {
    "function": "submission",
    "question_id": 1,
    "ExecuteTime": {
     "end_time": "2023-11-28T10:21:08.673052Z",
     "start_time": "2023-11-28T10:21:08.668654Z"
    }
   },
   "outputs": [
    {
     "data": {
      "text/html": "\n  <div class=\"bk-root\" id=\"a04c60ee-abd1-45df-8e80-5c7531e569bf\" data-root-id=\"1227\"></div>\n"
     },
     "metadata": {},
     "output_type": "display_data"
    },
    {
     "data": {
      "application/javascript": "(function(root) {\n  function embed_document(root) {\n  const docs_json = {\"bf7388d5-349b-4022-8a92-fec16c1df559\":{\"defs\":[],\"roots\":{\"references\":[{\"attributes\":{\"below\":[{\"id\":\"1236\"}],\"center\":[{\"id\":\"1243\"},{\"id\":\"1251\"}],\"height\":400,\"left\":[{\"id\":\"1244\"}],\"renderers\":[{\"id\":\"1266\"}],\"title\":{\"id\":\"1288\"},\"toolbar\":{\"id\":\"1259\"},\"x_range\":{\"id\":\"1228\"},\"x_scale\":{\"id\":\"1232\"},\"y_range\":{\"id\":\"1230\"},\"y_scale\":{\"id\":\"1234\"}},\"id\":\"1227\",\"subtype\":\"Figure\",\"type\":\"Plot\"},{\"attributes\":{\"axis\":{\"id\":\"1244\"},\"coordinates\":null,\"dimension\":1,\"group\":null,\"ticker\":null},\"id\":\"1251\",\"type\":\"Grid\"},{\"attributes\":{},\"id\":\"1256\",\"type\":\"ResetTool\"},{\"attributes\":{},\"id\":\"1295\",\"type\":\"AllLabels\"},{\"attributes\":{\"end\":9000000,\"start\":-7000000},\"id\":\"1230\",\"type\":\"Range1d\"},{\"attributes\":{},\"id\":\"1252\",\"type\":\"PanTool\"},{\"attributes\":{},\"id\":\"1253\",\"type\":\"WheelZoomTool\"},{\"attributes\":{\"dimension\":\"lat\"},\"id\":\"1245\",\"type\":\"MercatorTicker\"},{\"attributes\":{\"end\":7000000,\"start\":-1000000},\"id\":\"1228\",\"type\":\"Range1d\"},{\"attributes\":{\"overlay\":{\"id\":\"1258\"}},\"id\":\"1254\",\"type\":\"BoxZoomTool\"},{\"attributes\":{},\"id\":\"1232\",\"type\":\"LinearScale\"},{\"attributes\":{\"axis_label_standoff\":10,\"axis_label_text_color\":\"#5B5B5B\",\"axis_label_text_font\":\"Calibri Light\",\"axis_label_text_font_size\":\"1.15em\",\"axis_label_text_font_style\":\"bold\",\"axis_line_alpha\":1,\"axis_line_color\":\"#5B5B5B\",\"coordinates\":null,\"formatter\":{\"id\":\"1239\"},\"group\":null,\"major_label_policy\":{\"id\":\"1295\"},\"major_label_text_color\":\"#5B5B5B\",\"major_label_text_font\":\"Calibri Light\",\"major_label_text_font_size\":\"0.95em\",\"major_label_text_font_style\":\"bold\",\"major_tick_in\":0,\"major_tick_line_alpha\":0.25,\"major_tick_line_color\":\"#5B5B5B\",\"major_tick_out\":3,\"minor_tick_line_alpha\":0.25,\"minor_tick_line_color\":\"#5B5B5B\",\"ticker\":{\"id\":\"1237\"}},\"id\":\"1236\",\"type\":\"MercatorAxis\"},{\"attributes\":{\"dimension\":\"lat\"},\"id\":\"1247\",\"type\":\"MercatorTickFormatter\"},{\"attributes\":{\"dimension\":\"lon\"},\"id\":\"1239\",\"type\":\"MercatorTickFormatter\"},{\"attributes\":{\"attribution\":\"&copy; <a href=\\\"https://www.openstreetmap.org/copyright\\\">OpenStreetMap</a> contributors,&copy; <a href=\\\"https://cartodb.com/attributions\\\">CartoDB</a>\",\"url\":\"https://tiles.basemaps.cartocdn.com/light_all/{z}/{x}/{y}.png\"},\"id\":\"1226\",\"type\":\"WMTSTileSource\"},{\"attributes\":{\"dimension\":\"lon\"},\"id\":\"1237\",\"type\":\"MercatorTicker\"},{\"attributes\":{\"axis_label_standoff\":10,\"axis_label_text_color\":\"#5B5B5B\",\"axis_label_text_font\":\"Calibri Light\",\"axis_label_text_font_size\":\"1.15em\",\"axis_label_text_font_style\":\"bold\",\"axis_line_alpha\":1,\"axis_line_color\":\"#5B5B5B\",\"coordinates\":null,\"formatter\":{\"id\":\"1247\"},\"group\":null,\"major_label_policy\":{\"id\":\"1292\"},\"major_label_text_color\":\"#5B5B5B\",\"major_label_text_font\":\"Calibri Light\",\"major_label_text_font_size\":\"0.95em\",\"major_label_text_font_style\":\"bold\",\"major_tick_in\":0,\"major_tick_line_alpha\":0.25,\"major_tick_line_color\":\"#5B5B5B\",\"major_tick_out\":3,\"minor_tick_line_alpha\":0.25,\"minor_tick_line_color\":\"#5B5B5B\",\"ticker\":{\"id\":\"1245\"}},\"id\":\"1244\",\"type\":\"MercatorAxis\"},{\"attributes\":{\"coordinates\":null,\"group\":null,\"text_color\":\"#5B5B5B\",\"text_font\":\"Calibri Light\",\"text_font_size\":\"1.25em\",\"text_font_style\":\"bold\"},\"id\":\"1288\",\"type\":\"Title\"},{\"attributes\":{\"axis\":{\"id\":\"1236\"},\"coordinates\":null,\"group\":null,\"ticker\":null},\"id\":\"1243\",\"type\":\"Grid\"},{\"attributes\":{\"tools\":[{\"id\":\"1252\"},{\"id\":\"1253\"},{\"id\":\"1254\"},{\"id\":\"1255\"},{\"id\":\"1256\"},{\"id\":\"1257\"}]},\"id\":\"1259\",\"type\":\"Toolbar\"},{\"attributes\":{},\"id\":\"1234\",\"type\":\"LinearScale\"},{\"attributes\":{},\"id\":\"1292\",\"type\":\"AllLabels\"},{\"attributes\":{\"bottom_units\":\"screen\",\"coordinates\":null,\"fill_alpha\":0.5,\"fill_color\":\"lightgrey\",\"group\":null,\"left_units\":\"screen\",\"level\":\"overlay\",\"line_alpha\":1.0,\"line_color\":\"black\",\"line_dash\":[4,4],\"line_width\":2,\"right_units\":\"screen\",\"syncable\":false,\"top_units\":\"screen\"},\"id\":\"1258\",\"type\":\"BoxAnnotation\"},{\"attributes\":{},\"id\":\"1255\",\"type\":\"SaveTool\"},{\"attributes\":{},\"id\":\"1257\",\"type\":\"HelpTool\"},{\"attributes\":{\"coordinates\":null,\"group\":null,\"tile_source\":{\"id\":\"1226\"}},\"id\":\"1266\",\"type\":\"TileRenderer\"}],\"root_ids\":[\"1227\"]},\"title\":\"Bokeh Application\",\"version\":\"2.4.3\"}};\n  const render_items = [{\"docid\":\"bf7388d5-349b-4022-8a92-fec16c1df559\",\"root_ids\":[\"1227\"],\"roots\":{\"1227\":\"a04c60ee-abd1-45df-8e80-5c7531e569bf\"}}];\n  root.Bokeh.embed.embed_items_notebook(docs_json, render_items);\n  }\n  if (root.Bokeh !== undefined) {\n    embed_document(root);\n  } else {\n    let attempts = 0;\n    const timer = setInterval(function(root) {\n      if (root.Bokeh !== undefined) {\n        clearInterval(timer);\n        embed_document(root);\n      } else {\n        attempts++;\n        if (attempts > 100) {\n          clearInterval(timer);\n          console.log(\"Bokeh: ERROR: Unable to run BokehJS code because BokehJS library is missing\");\n        }\n      }\n    }, 10, root)\n  }\n})(window);",
      "application/vnd.bokehjs_exec.v0+json": ""
     },
     "metadata": {
      "application/vnd.bokehjs_exec.v0+json": {
       "id": "1227"
      }
     },
     "output_type": "display_data"
    }
   ],
   "source": [
    "\n"
   ]
  },
  {
   "cell_type": "markdown",
   "metadata": {
    "deletable": false,
    "editable": false,
    "function": "preliminary",
    "question_id": 1,
    "run_control": {
     "frozen": true
    }
   },
   "source": [
    "> Nous avons instancié la figure sur laquelle nous allons pouvoir afficher les points de notre jeu de données. Ici, les coordonnées sont déjà au format *Mercator*, elles peuvent donc être directement affichées sur la figure.\n",
    "\n",
    "* Importer les classes `ColumnDataSource, LabelSet` du sous-module **bokeh.models**.\n",
    "\n",
    "\n",
    "* Instancier à partir de **`df`** un objet `ColumnDataSource` nommé **`source`**.\n",
    "\n",
    "\n",
    "* Créer une figure de mêmes paramètres que celle précédemment construite.\n",
    "\n",
    "\n",
    "* Y ajouter de la même façon la tuile `'CARTODBPOSITRON'`.\n",
    "\n",
    "\n",
    "* Ajouter un nuage de points de source **`source`** d'abscisse `'lng'`, d'ordonnée `'lat'`, de couleur bleue et de taille $10$.\n",
    "\n",
    "\n",
    "* Ajouter un label à chaque point de texte `'location_name'` et de décalage sur l'axe des abscisses et ordonnées égal à $5$."
   ]
  },
  {
   "cell_type": "code",
   "execution_count": null,
   "outputs": [],
   "source": [
    "### Insérez votre code ici\n"
   ],
   "metadata": {
    "collapsed": false
   }
  },
  {
   "cell_type": "code",
   "execution_count": 8,
   "metadata": {
    "function": "submission",
    "question_id": 1,
    "ExecuteTime": {
     "end_time": "2023-11-28T10:21:20.682146Z",
     "start_time": "2023-11-28T10:21:20.679353Z"
    }
   },
   "outputs": [
    {
     "data": {
      "text/html": "\n  <div class=\"bk-root\" id=\"66555999-2169-4e45-add5-91e59ae4a881\" data-root-id=\"1469\"></div>\n"
     },
     "metadata": {},
     "output_type": "display_data"
    },
    {
     "data": {
      "application/javascript": "(function(root) {\n  function embed_document(root) {\n  const docs_json = {\"588f6bee-8e1a-4453-933b-2b1e8eaf83d0\":{\"defs\":[],\"roots\":{\"references\":[{\"attributes\":{\"below\":[{\"id\":\"1478\"}],\"center\":[{\"id\":\"1485\"},{\"id\":\"1493\"},{\"id\":\"1516\"}],\"left\":[{\"id\":\"1486\"}],\"renderers\":[{\"id\":\"1508\"},{\"id\":\"1514\"}],\"title\":{\"id\":\"1556\"},\"toolbar\":{\"id\":\"1501\"},\"x_range\":{\"id\":\"1470\"},\"x_scale\":{\"id\":\"1474\"},\"y_range\":{\"id\":\"1472\"},\"y_scale\":{\"id\":\"1476\"}},\"id\":\"1469\",\"subtype\":\"Figure\",\"type\":\"Plot\"},{\"attributes\":{\"dimension\":\"lon\"},\"id\":\"1479\",\"type\":\"MercatorTicker\"},{\"attributes\":{},\"id\":\"1474\",\"type\":\"LinearScale\"},{\"attributes\":{},\"id\":\"1495\",\"type\":\"WheelZoomTool\"},{\"attributes\":{\"end\":9000000,\"start\":-7000000},\"id\":\"1472\",\"type\":\"Range1d\"},{\"attributes\":{\"coordinates\":null,\"data_source\":{\"id\":\"1467\"},\"glyph\":{\"id\":\"1511\"},\"group\":null,\"hover_glyph\":null,\"muted_glyph\":{\"id\":\"1513\"},\"nonselection_glyph\":{\"id\":\"1512\"},\"view\":{\"id\":\"1515\"}},\"id\":\"1514\",\"type\":\"GlyphRenderer\"},{\"attributes\":{\"dimension\":\"lat\"},\"id\":\"1487\",\"type\":\"MercatorTicker\"},{\"attributes\":{\"dimension\":\"lon\"},\"id\":\"1481\",\"type\":\"MercatorTickFormatter\"},{\"attributes\":{\"fill_color\":{\"value\":\"blue\"},\"hatch_color\":{\"value\":\"blue\"},\"line_color\":{\"value\":\"blue\"},\"size\":{\"value\":10},\"x\":{\"field\":\"lng\"},\"y\":{\"field\":\"lat\"}},\"id\":\"1511\",\"type\":\"Circle\"},{\"attributes\":{\"axis\":{\"id\":\"1478\"},\"coordinates\":null,\"group\":null,\"ticker\":null},\"id\":\"1485\",\"type\":\"Grid\"},{\"attributes\":{\"coordinates\":null,\"group\":null,\"source\":{\"id\":\"1467\"},\"text\":{\"field\":\"location_name\"},\"x\":{\"field\":\"lng\"},\"x_offset\":{\"value\":5},\"y\":{\"field\":\"lat\"},\"y_offset\":{\"value\":5}},\"id\":\"1516\",\"type\":\"LabelSet\"},{\"attributes\":{\"fill_alpha\":{\"value\":0.2},\"fill_color\":{\"value\":\"blue\"},\"hatch_alpha\":{\"value\":0.2},\"hatch_color\":{\"value\":\"blue\"},\"line_alpha\":{\"value\":0.2},\"line_color\":{\"value\":\"blue\"},\"size\":{\"value\":10},\"x\":{\"field\":\"lng\"},\"y\":{\"field\":\"lat\"}},\"id\":\"1513\",\"type\":\"Circle\"},{\"attributes\":{},\"id\":\"1563\",\"type\":\"AllLabels\"},{\"attributes\":{\"fill_alpha\":{\"value\":0.1},\"fill_color\":{\"value\":\"blue\"},\"hatch_alpha\":{\"value\":0.1},\"hatch_color\":{\"value\":\"blue\"},\"line_alpha\":{\"value\":0.1},\"line_color\":{\"value\":\"blue\"},\"size\":{\"value\":10},\"x\":{\"field\":\"lng\"},\"y\":{\"field\":\"lat\"}},\"id\":\"1512\",\"type\":\"Circle\"},{\"attributes\":{\"attribution\":\"&copy; <a href=\\\"https://www.openstreetmap.org/copyright\\\">OpenStreetMap</a> contributors,&copy; <a href=\\\"https://cartodb.com/attributions\\\">CartoDB</a>\",\"url\":\"https://tiles.basemaps.cartocdn.com/light_all/{z}/{x}/{y}.png\"},\"id\":\"1468\",\"type\":\"WMTSTileSource\"},{\"attributes\":{\"dimension\":\"lat\"},\"id\":\"1489\",\"type\":\"MercatorTickFormatter\"},{\"attributes\":{},\"id\":\"1564\",\"type\":\"UnionRenderers\"},{\"attributes\":{\"axis_label_standoff\":10,\"axis_label_text_color\":\"#5B5B5B\",\"axis_label_text_font\":\"Calibri Light\",\"axis_label_text_font_size\":\"1.15em\",\"axis_label_text_font_style\":\"bold\",\"axis_line_alpha\":1,\"axis_line_color\":\"#5B5B5B\",\"coordinates\":null,\"formatter\":{\"id\":\"1489\"},\"group\":null,\"major_label_policy\":{\"id\":\"1560\"},\"major_label_text_color\":\"#5B5B5B\",\"major_label_text_font\":\"Calibri Light\",\"major_label_text_font_size\":\"0.95em\",\"major_label_text_font_style\":\"bold\",\"major_tick_in\":0,\"major_tick_line_alpha\":0.25,\"major_tick_line_color\":\"#5B5B5B\",\"major_tick_out\":3,\"minor_tick_line_alpha\":0.25,\"minor_tick_line_color\":\"#5B5B5B\",\"ticker\":{\"id\":\"1487\"}},\"id\":\"1486\",\"type\":\"MercatorAxis\"},{\"attributes\":{},\"id\":\"1565\",\"type\":\"Selection\"},{\"attributes\":{\"tools\":[{\"id\":\"1494\"},{\"id\":\"1495\"},{\"id\":\"1496\"},{\"id\":\"1497\"},{\"id\":\"1498\"},{\"id\":\"1499\"}]},\"id\":\"1501\",\"type\":\"Toolbar\"},{\"attributes\":{},\"id\":\"1499\",\"type\":\"HelpTool\"},{\"attributes\":{\"end\":7000000,\"start\":-1000000},\"id\":\"1470\",\"type\":\"Range1d\"},{\"attributes\":{\"overlay\":{\"id\":\"1500\"}},\"id\":\"1496\",\"type\":\"BoxZoomTool\"},{\"attributes\":{\"coordinates\":null,\"group\":null,\"tile_source\":{\"id\":\"1468\"}},\"id\":\"1508\",\"type\":\"TileRenderer\"},{\"attributes\":{\"source\":{\"id\":\"1467\"}},\"id\":\"1515\",\"type\":\"CDSView\"},{\"attributes\":{\"bottom_units\":\"screen\",\"coordinates\":null,\"fill_alpha\":0.5,\"fill_color\":\"lightgrey\",\"group\":null,\"left_units\":\"screen\",\"level\":\"overlay\",\"line_alpha\":1.0,\"line_color\":\"black\",\"line_dash\":[4,4],\"line_width\":2,\"right_units\":\"screen\",\"syncable\":false,\"top_units\":\"screen\"},\"id\":\"1500\",\"type\":\"BoxAnnotation\"},{\"attributes\":{},\"id\":\"1476\",\"type\":\"LinearScale\"},{\"attributes\":{\"coordinates\":null,\"group\":null,\"text_color\":\"#5B5B5B\",\"text_font\":\"Calibri Light\",\"text_font_size\":\"1.25em\",\"text_font_style\":\"bold\"},\"id\":\"1556\",\"type\":\"Title\"},{\"attributes\":{\"axis_label_standoff\":10,\"axis_label_text_color\":\"#5B5B5B\",\"axis_label_text_font\":\"Calibri Light\",\"axis_label_text_font_size\":\"1.15em\",\"axis_label_text_font_style\":\"bold\",\"axis_line_alpha\":1,\"axis_line_color\":\"#5B5B5B\",\"coordinates\":null,\"formatter\":{\"id\":\"1481\"},\"group\":null,\"major_label_policy\":{\"id\":\"1563\"},\"major_label_text_color\":\"#5B5B5B\",\"major_label_text_font\":\"Calibri Light\",\"major_label_text_font_size\":\"0.95em\",\"major_label_text_font_style\":\"bold\",\"major_tick_in\":0,\"major_tick_line_alpha\":0.25,\"major_tick_line_color\":\"#5B5B5B\",\"major_tick_out\":3,\"minor_tick_line_alpha\":0.25,\"minor_tick_line_color\":\"#5B5B5B\",\"ticker\":{\"id\":\"1479\"}},\"id\":\"1478\",\"type\":\"MercatorAxis\"},{\"attributes\":{},\"id\":\"1494\",\"type\":\"PanTool\"},{\"attributes\":{\"data\":{\"index\":[0,1,2,3,4,5,6,7,8,9,10,11,12,13,14,15],\"lat\":{\"__ndarray__\":\"EB5pHP+MNsH/4KRS4t5BQbJpJJgWT0rBd+bPS1wuMkFrcyTDN4NTQd1r1F+JrjxB6DoEEzk+CcGoy50vbpk5QTYI1XCwUyHB70cp5hORK0HQ8gQlYMs0QamXYqHaYUtBJbwgmjGYWEEMsxqiryxOwX+H9f7GjE5Bnx39Y0C4M0E=\",\"dtype\":\"float64\",\"order\":\"little\",\"shape\":[16]},\"lng\":{\"__ndarray__\":\"vkRSlQC4TEEvVAI3HFFlwSYeHbcHlUhBT4S/DkIkYsHs6aoxVAdTQbC30L9z4GlBfxdYvKt0SUHt4bqVk6JiwXR08MkXBWHBBzfeaxY6akGgXre6grkqwfzvcSbuVl9BMdg7ScGZZkEPypypfAJewTO6FvVHLk5ByGYEdpxIZkE=\",\"dtype\":\"float64\",\"order\":\"little\",\"shape\":[16]},\"location_name\":[\"malomo, Malawi\",\"El Carrizal, Mexico\",\"Linakeng, Thaba Tseka, Lesotho\",\"Villa Hermosa de Buenos Aires, Costa Rica\",\"Rike, Georgia\",\"Villa Rey, Echague, Isabela, Philippines\",\"Shyorongi/Rurindo, Rwanda\",\"Tapikilares, Honduras\",\"Chulucanas, Peru\",\"Gabunon Tambulig ZDS, Philippines\",\"Dafara, Mali\",\"Allah Ditta, Pakistan\",\"Selenge, Mongolia\",\"Santiago, Chile\",\"Kfarshima, Lebanon\",\"Mean Chhey District, Cambodia\"]},\"selected\":{\"id\":\"1565\"},\"selection_policy\":{\"id\":\"1564\"}},\"id\":\"1467\",\"type\":\"ColumnDataSource\"},{\"attributes\":{},\"id\":\"1498\",\"type\":\"ResetTool\"},{\"attributes\":{},\"id\":\"1560\",\"type\":\"AllLabels\"},{\"attributes\":{\"axis\":{\"id\":\"1486\"},\"coordinates\":null,\"dimension\":1,\"group\":null,\"ticker\":null},\"id\":\"1493\",\"type\":\"Grid\"},{\"attributes\":{},\"id\":\"1497\",\"type\":\"SaveTool\"}],\"root_ids\":[\"1469\"]},\"title\":\"Bokeh Application\",\"version\":\"2.4.3\"}};\n  const render_items = [{\"docid\":\"588f6bee-8e1a-4453-933b-2b1e8eaf83d0\",\"root_ids\":[\"1469\"],\"roots\":{\"1469\":\"66555999-2169-4e45-add5-91e59ae4a881\"}}];\n  root.Bokeh.embed.embed_items_notebook(docs_json, render_items);\n  }\n  if (root.Bokeh !== undefined) {\n    embed_document(root);\n  } else {\n    let attempts = 0;\n    const timer = setInterval(function(root) {\n      if (root.Bokeh !== undefined) {\n        clearInterval(timer);\n        embed_document(root);\n      } else {\n        attempts++;\n        if (attempts > 100) {\n          clearInterval(timer);\n          console.log(\"Bokeh: ERROR: Unable to run BokehJS code because BokehJS library is missing\");\n        }\n      }\n    }, 10, root)\n  }\n})(window);",
      "application/vnd.bokehjs_exec.v0+json": ""
     },
     "metadata": {
      "application/vnd.bokehjs_exec.v0+json": {
       "id": "1469"
      }
     },
     "output_type": "display_data"
    }
   ],
   "source": []
  },
  {
   "cell_type": "code",
   "execution_count": null,
   "outputs": [],
   "source": [],
   "metadata": {
    "collapsed": false
   }
  }
 ],
 "metadata": {
  "hide_input": false,
  "kernelspec": {
   "display_name": "Python3 default",
   "language": "python",
   "name": "python3"
  },
  "language_info": {
   "codemirror_mode": {
    "name": "ipython",
    "version": 3
   },
   "file_extension": ".py",
   "mimetype": "text/x-python",
   "name": "python",
   "nbconvert_exporter": "python",
   "pygments_lexer": "ipython3",
   "version": "3.6.5"
  },
  "latex_envs": {
   "LaTeX_envs_menu_present": true,
   "autoclose": false,
   "autocomplete": true,
   "bibliofile": "biblio.bib",
   "cite_by": "apalike",
   "current_citInitial": 1,
   "eqLabelWithNumbers": true,
   "eqNumInitial": 1,
   "hotkeys": {
    "equation": "Ctrl-E",
    "itemize": "Ctrl-I"
   },
   "labels_anchors": false,
   "latex_user_defs": false,
   "report_style_numbering": false,
   "user_envs_cfg": false
  },
  "n_questions": 1
 },
 "nbformat": 4,
 "nbformat_minor": 2
}
